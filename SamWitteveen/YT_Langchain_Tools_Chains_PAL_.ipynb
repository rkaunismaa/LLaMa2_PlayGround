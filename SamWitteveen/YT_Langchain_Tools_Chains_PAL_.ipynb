{
  "cells": [
    {
      "cell_type": "markdown",
      "metadata": {},
      "source": [
        "#### Friday, December 8, 2023\n",
        "\n",
        "[PAL : Program-aided Language Models with LangChain code](https://www.youtube.com/watch?v=dy7-LvDu-3s&list=PL8motc6AQftk1Bs42EW45kwYbyJ4jOdiZ&index=7)"
      ]
    },
    {
      "cell_type": "code",
      "execution_count": null,
      "metadata": {
        "colab": {
          "base_uri": "https://localhost:8080/"
        },
        "id": "i9fJuC2tG0Cq",
        "outputId": "fb675163-195a-47b0-bdb0-c19c8ce403b6"
      },
      "outputs": [
        {
          "name": "stdout",
          "output_type": "stream",
          "text": [
            "\u001b[2K     \u001b[90m━━━━━━━━━━━━━━━━━━━━━━━━━━━━━━━━━━━━━━━━\u001b[0m \u001b[32m70.1/70.1 KB\u001b[0m \u001b[31m2.7 MB/s\u001b[0m eta \u001b[36m0:00:00\u001b[0m\n",
            "\u001b[2K     \u001b[90m━━━━━━━━━━━━━━━━━━━━━━━━━━━━━━━━━━━━━━━\u001b[0m \u001b[32m360.6/360.6 KB\u001b[0m \u001b[31m9.7 MB/s\u001b[0m eta \u001b[36m0:00:00\u001b[0m\n",
            "\u001b[2K     \u001b[90m━━━━━━━━━━━━━━━━━━━━━━━━━━━━━━━━━━━━━━\u001b[0m \u001b[32m199.1/199.1 KB\u001b[0m \u001b[31m18.7 MB/s\u001b[0m eta \u001b[36m0:00:00\u001b[0m\n",
            "\u001b[2K     \u001b[90m━━━━━━━━━━━━━━━━━━━━━━━━━━━━━━━━━━━━━━━━\u001b[0m \u001b[32m1.0/1.0 MB\u001b[0m \u001b[31m31.8 MB/s\u001b[0m eta \u001b[36m0:00:00\u001b[0m\n",
            "\u001b[2K     \u001b[90m━━━━━━━━━━━━━━━━━━━━━━━━━━━━━━━━━━━━━━\u001b[0m \u001b[32m158.8/158.8 KB\u001b[0m \u001b[31m14.6 MB/s\u001b[0m eta \u001b[36m0:00:00\u001b[0m\n",
            "\u001b[2K     \u001b[90m━━━━━━━━━━━━━━━━━━━━━━━━━━━━━━━━━━━━━━\u001b[0m \u001b[32m114.2/114.2 KB\u001b[0m \u001b[31m11.5 MB/s\u001b[0m eta \u001b[36m0:00:00\u001b[0m\n",
            "\u001b[2K     \u001b[90m━━━━━━━━━━━━━━━━━━━━━━━━━━━━━━━━━━━━━━\u001b[0m \u001b[32m264.6/264.6 KB\u001b[0m \u001b[31m22.5 MB/s\u001b[0m eta \u001b[36m0:00:00\u001b[0m\n",
            "\u001b[2K     \u001b[90m━━━━━━━━━━━━━━━━━━━━━━━━━━━━━━━━━━━━━━\u001b[0m \u001b[32m199.2/199.2 KB\u001b[0m \u001b[31m18.1 MB/s\u001b[0m eta \u001b[36m0:00:00\u001b[0m\n",
            "\u001b[2K     \u001b[90m━━━━━━━━━━━━━━━━━━━━━━━━━━━━━━━━━━━━━━━━\u001b[0m \u001b[32m49.1/49.1 KB\u001b[0m \u001b[31m5.0 MB/s\u001b[0m eta \u001b[36m0:00:00\u001b[0m\n",
            "\u001b[?25h"
          ]
        }
      ],
      "source": [
        "# !pip -q install openai==0.27.0 langchain huggingface_hub"
      ]
    },
    {
      "cell_type": "markdown",
      "metadata": {
        "id": "VkVTT54xNq8T"
      },
      "source": [
        "## PAL\n",
        "\n",
        "https://langchain.readthedocs.io/en/latest/modules/chains/examples/pal.html?highlight=PAL\n",
        "\n",
        "Implements Program-Aided Language Models, as in https://arxiv.org/pdf/2211.10435.pdf.\n",
        "\n",
        "https://reasonwithpal.com/"
      ]
    },
    {
      "cell_type": "code",
      "execution_count": null,
      "metadata": {
        "id": "2PpqSc3cG7jJ"
      },
      "outputs": [],
      "source": [
        "import os\n",
        "\n",
        "os.environ[\"OPENAI_API_KEY\"] = \"\"\n"
      ]
    },
    {
      "cell_type": "markdown",
      "metadata": {},
      "source": [
        "Yeah, we are not going to use OpenAI ... we are gonna use [TheBloke/Python-Code-33B-GPTQ](https://huggingface.co/TheBloke/Python-Code-33B-GPTQ)"
      ]
    },
    {
      "cell_type": "code",
      "execution_count": 1,
      "metadata": {},
      "outputs": [
        {
          "name": "stdout",
          "output_type": "stream",
          "text": [
            "models--Intel--neural-chat-7b-v3-1\n",
            "models--TheBloke--CodeLlama-34B-Instruct-GPTQ\n",
            "models--TheBloke--Llama-2-13b-Chat-GPTQ\n",
            "models--TheBloke--Orca-2-13B-AWQ\n",
            "models--TheBloke--Orca-2-13B-GPTQ\n",
            "models--TheBloke--Python-Code-33B-GPTQ\n",
            "models--facebook--blenderbot-1B-distill\n",
            "models--google--flan-t5-large\n",
            "models--gpt2-medium\n",
            "models--meta-llama--Llama-2-13b-chat-hf\n",
            "models--meta-llama--Llama-2-13b-hf\n",
            "models--model_name\n",
            "tmp0m77pc0x\n",
            "tmpcjh0h7gn\n",
            "tmpfcrmwgx2\n",
            "tmpzafytbf_\n",
            "version.txt\n"
          ]
        }
      ],
      "source": [
        "!ls /home/rob/Data2/huggingface/transformers"
      ]
    },
    {
      "cell_type": "code",
      "execution_count": 2,
      "metadata": {},
      "outputs": [],
      "source": [
        "# You need this to just target the 4090.\n",
        "# only target the 4090 ...\n",
        "import os\n",
        "os.environ[\"CUDA_VISIBLE_DEVICES\"]=\"0\""
      ]
    },
    {
      "cell_type": "code",
      "execution_count": 3,
      "metadata": {},
      "outputs": [],
      "source": [
        "from transformers import AutoModelForCausalLM, AutoTokenizer, pipeline"
      ]
    },
    {
      "cell_type": "code",
      "execution_count": 4,
      "metadata": {},
      "outputs": [],
      "source": [
        "model_name_or_path = \"TheBloke/Python-Code-33B-GPTQ\""
      ]
    },
    {
      "cell_type": "code",
      "execution_count": 5,
      "metadata": {},
      "outputs": [],
      "source": [
        "tokenizer = AutoTokenizer.from_pretrained(model_name_or_path, use_fast=True)"
      ]
    },
    {
      "cell_type": "code",
      "execution_count": 6,
      "metadata": {},
      "outputs": [
        {
          "name": "stderr",
          "output_type": "stream",
          "text": [
            "You have activated exllama backend. Note that you can get better inference\n",
            "                    speed using exllamav2 kernel by setting `use_exllama_v2=True`.`disable_exllama` will be deprecated\n",
            "                    in future version.\n"
          ]
        }
      ],
      "source": [
        "# To use a different branch, change revision\n",
        "# For example: revision=\"gptq-4bit-128g-actorder_True\"\n",
        "model = AutoModelForCausalLM.from_pretrained(model_name_or_path,\n",
        "                                             device_map=\"auto\",\n",
        "                                             trust_remote_code=False,\n",
        "                                             revision=\"main\")\n",
        "\n",
        "# 13.1s \n",
        "# 18424 MiB VRAM"
      ]
    },
    {
      "cell_type": "code",
      "execution_count": 7,
      "metadata": {},
      "outputs": [],
      "source": [
        "prompt = \"Tell me about AI\"\n",
        "prompt_template=f'''This is a conversation with your helpful AI assistant. AI assistant can generate Python Code along with necessary explanation.\n",
        "\n",
        "Context\n",
        "You are a helpful AI assistant.\n",
        "\n",
        "USER: {prompt}\n",
        "ASSISTANT:\n",
        "'''\n"
      ]
    },
    {
      "cell_type": "code",
      "execution_count": 8,
      "metadata": {},
      "outputs": [
        {
          "name": "stdout",
          "output_type": "stream",
          "text": [
            "<s> This is a conversation with your helpful AI assistant. AI assistant can generate Python Code along with necessary explanation.\n",
            "\n",
            "Context\n",
            "You are a helpful AI assistant.\n",
            "\n",
            "USER: Tell me about AI\n",
            "ASSISTANT:\n",
            "\n",
            "Artificial Intelligence (AI) is a field of computer science that studies intelligent agents. An intelligent agent is a program that can solve problems by using its own knowledge and experience. AI researchers study how to design and build such agents.\n",
            "\n",
            "AI agents can be trained on a large dataset to identify patterns and make predictions. They can also be programmed to follow a set of rules or logic to solve problems.\n",
            "\n",
            "Some popular AI techniques include:\n",
            "\n",
            "1. Machine Learning: This technique involves using a large dataset to train an AI agent. The agent learns to identify patterns and make predictions based on the data.\n",
            "\n",
            "2. Deep Learning: This technique uses a deep neural network to train an AI agent. The network consists of multiple layers that process data in a hierarchical manner.\n",
            "\n",
            "3. Reinforcement Learning: This technique trains an AI agent to behave in an environment, by rewarding or penalizing its actions. The goal of the agent is to maximize its reward over time.\n",
            "\n",
            "4. Neural Networks: This technique uses a network of interconnected nodes to process data in a hierarchical manner. Each node can be trained to perform a specific task, such as identifying an object in an image.\n",
            "\n",
            "5. Genetic Algorithms: This technique uses a population of candidate solutions to iteratively improve a solution. It simulates a natural selection process, where the best-performing solutions are more likely to be selected for the next generation.\n",
            "\n",
            "AI has many applications, including:\n",
            "\n",
            "1. Computer Vision: This field focuses on building AI agents that can identify objects in images and videos.\n",
            "\n",
            "2. Natural Language Processing: This field focuses on building AI agents that can understand and generate language.\n",
            "\n",
            "3. Personalization: This field focuses on building AI agents that can understand and adapt to the preferences of individual users.\n",
            "\n",
            "4. Recommendation Systems: This field focuses on building AI agents that can recommend products or services based on a user'<s> preferences.\n",
            "\n",
            "5. Predictive Maintenance: This field focuses on building AI agents that can detect and prevent equipment failures before they occur.\n",
            "\n",
            "Overall, AI is a rapidly growing field that is transforming the way we interact with technology and solve problems.</s>\n"
          ]
        }
      ],
      "source": [
        "input_ids = tokenizer(prompt_template, return_tensors='pt').input_ids.cuda()\n",
        "output = model.generate(inputs=input_ids, temperature=0.7, do_sample=True, top_p=0.95, top_k=40, max_new_tokens=512)\n",
        "print(tokenizer.decode(output[0]))\n",
        "\n",
        "# 25.6s"
      ]
    },
    {
      "cell_type": "code",
      "execution_count": 9,
      "metadata": {},
      "outputs": [],
      "source": [
        "# Inference can also be done using transformers' pipeline\n",
        "pipe = pipeline(\n",
        "    \"text-generation\",\n",
        "    model=model,\n",
        "    tokenizer=tokenizer,\n",
        "    max_new_tokens=512,\n",
        "    do_sample=True,\n",
        "    temperature=0.7,\n",
        "    top_p=0.95,\n",
        "    top_k=40,\n",
        "    repetition_penalty=1.1\n",
        ")"
      ]
    },
    {
      "cell_type": "code",
      "execution_count": 10,
      "metadata": {},
      "outputs": [
        {
          "name": "stdout",
          "output_type": "stream",
          "text": [
            "This is a conversation with your helpful AI assistant. AI assistant can generate Python Code along with necessary explanation.\n",
            "\n",
            "Context\n",
            "You are a helpful AI assistant.\n",
            "\n",
            "USER: Tell me about AI\n",
            "ASSISTANT:\n",
            "Artificial Intelligence (AI) is a field of computer science that studies intelligent agents. An intelligent agent is a program that can perform tasks that require intelligence, such as solving problems, making decisions, and communicating with humans. \n",
            "\n",
            "AI researchers study various aspects of intelligence, such as learning, reasoning, and problem-solving. They use techniques like machine learning and deep learning to develop AI systems that can perform these tasks. \n",
            "\n",
            "Some popular AI applications include:\n",
            "\n",
            "1. Speech recognition: This technology allows computers to understand human speech and respond accordingly. It is used in products like Siri, Google Assistant, and Alexa.\n",
            "\n",
            "2. Facial recognition: This technology allows computers to identify people based on their facial features. It is used in products like Facebook' Instagram, and Snapchat.\n",
            "\n",
            "3. Reinforcement learning: This technique allows AI systems to learn to perform tasks by trial and error. It is used in products like DeepMind's AlphaGo, which defeated the world champion at Go.\n",
            "\n",
            "4. Neural networks: These are networks of artificial neurons that can be trained to perform tasks. They are used in products like TensorFlow and PyTorch, which are popular frameworks for AI research.\n",
            "\n",
            "Overall, AI is an exciting field that is transforming many industries and improving our lives.\n"
          ]
        }
      ],
      "source": [
        "print(pipe(prompt_template)[0]['generated_text'])\n",
        "\n",
        "# 16.5s"
      ]
    },
    {
      "cell_type": "code",
      "execution_count": 11,
      "metadata": {},
      "outputs": [
        {
          "name": "stderr",
          "output_type": "stream",
          "text": [
            "huggingface/tokenizers: The current process just got forked, after parallelism has already been used. Disabling parallelism to avoid deadlocks...\n",
            "To disable this warning, you can either:\n",
            "\t- Avoid using `tokenizers` before the fork if possible\n",
            "\t- Explicitly set the environment variable TOKENIZERS_PARALLELISM=(true | false)\n"
          ]
        },
        {
          "name": "stdout",
          "output_type": "stream",
          "text": [
            "Name: langchain\n",
            "Version: 0.0.348\n",
            "Summary: Building applications with LLMs through composability\n",
            "Home-page: https://github.com/langchain-ai/langchain\n",
            "Author: None\n",
            "Author-email: None\n",
            "License: MIT\n",
            "Location: /usr/local/lib/python3.8/dist-packages\n",
            "Requires: pydantic, langsmith, SQLAlchemy, async-timeout, PyYAML, requests, dataclasses-json, jsonpatch, langchain-core, tenacity, aiohttp, numpy\n",
            "Required-by: langchain-experimental\n"
          ]
        }
      ],
      "source": [
        "!pip show langchain"
      ]
    },
    {
      "cell_type": "code",
      "execution_count": 12,
      "metadata": {},
      "outputs": [],
      "source": [
        "from langchain_experimental.pal_chain.base import PALChain"
      ]
    },
    {
      "cell_type": "code",
      "execution_count": 13,
      "metadata": {
        "id": "-lzO5PfUpwfv"
      },
      "outputs": [],
      "source": [
        "# from langchain.chains import PALChain\n",
        "#from langchain import OpenAI\n",
        "from langchain.chains.llm import LLMChain"
      ]
    },
    {
      "cell_type": "code",
      "execution_count": null,
      "metadata": {
        "id": "SAtbtb9uG_H5"
      },
      "outputs": [],
      "source": [
        "# llm = OpenAI(model_name='code-davinci-002',\n",
        "#              temperature=0,\n",
        "#              max_tokens=512)"
      ]
    },
    {
      "cell_type": "markdown",
      "metadata": {
        "id": "MS12twInaa_j"
      },
      "source": [
        "## PAL - Program aided Language Model\n",
        "\n",
        "https://www.prodigygame.com/main-en/blog/math-word-problems/\n",
        "\n",
        "<img src=\"https://www.dropbox.com/s/i0wiuneh61r9u28/Screenshot%202023-03-09%20at%206.39.34%20PM.png?raw=1\" alt=\"example image\" width=\"300\">"
      ]
    },
    {
      "cell_type": "code",
      "execution_count": 16,
      "metadata": {},
      "outputs": [
        {
          "ename": "ValidationError",
          "evalue": "2 validation errors for LLMChain\nllm\n  instance of Runnable expected (type=type_error.arbitrary_type; expected_arbitrary_type=Runnable)\nllm\n  instance of Runnable expected (type=type_error.arbitrary_type; expected_arbitrary_type=Runnable)",
          "output_type": "error",
          "traceback": [
            "\u001b[0;31m---------------------------------------------------------------------------\u001b[0m",
            "\u001b[0;31mValidationError\u001b[0m                           Traceback (most recent call last)",
            "Cell \u001b[0;32mIn[16], line 1\u001b[0m\n\u001b[0;32m----> 1\u001b[0m pal_chain \u001b[38;5;241m=\u001b[39m \u001b[43mPALChain\u001b[49m\u001b[38;5;241;43m.\u001b[39;49m\u001b[43mfrom_math_prompt\u001b[49m\u001b[43m(\u001b[49m\u001b[43mpipe\u001b[49m\u001b[43m,\u001b[49m\u001b[43m \u001b[49m\u001b[43mverbose\u001b[49m\u001b[38;5;241;43m=\u001b[39;49m\u001b[38;5;28;43;01mTrue\u001b[39;49;00m\u001b[43m)\u001b[49m\n",
            "File \u001b[0;32m/usr/local/lib/python3.8/dist-packages/langchain_experimental/pal_chain/base.py:271\u001b[0m, in \u001b[0;36mPALChain.from_math_prompt\u001b[0;34m(cls, llm, **kwargs)\u001b[0m\n\u001b[1;32m    261\u001b[0m \u001b[38;5;129m@classmethod\u001b[39m\n\u001b[1;32m    262\u001b[0m \u001b[38;5;28;01mdef\u001b[39;00m \u001b[38;5;21mfrom_math_prompt\u001b[39m(\u001b[38;5;28mcls\u001b[39m, llm: BaseLanguageModel, \u001b[38;5;241m*\u001b[39m\u001b[38;5;241m*\u001b[39mkwargs: Any) \u001b[38;5;241m-\u001b[39m\u001b[38;5;241m>\u001b[39m PALChain:\n\u001b[1;32m    263\u001b[0m \u001b[38;5;250m    \u001b[39m\u001b[38;5;124;03m\"\"\"Load PAL from math prompt.\u001b[39;00m\n\u001b[1;32m    264\u001b[0m \n\u001b[1;32m    265\u001b[0m \u001b[38;5;124;03m    Args:\u001b[39;00m\n\u001b[0;32m   (...)\u001b[0m\n\u001b[1;32m    269\u001b[0m \u001b[38;5;124;03m        PALChain: An instance of PALChain.\u001b[39;00m\n\u001b[1;32m    270\u001b[0m \u001b[38;5;124;03m    \"\"\"\u001b[39;00m\n\u001b[0;32m--> 271\u001b[0m     llm_chain \u001b[38;5;241m=\u001b[39m \u001b[43mLLMChain\u001b[49m\u001b[43m(\u001b[49m\u001b[43mllm\u001b[49m\u001b[38;5;241;43m=\u001b[39;49m\u001b[43mllm\u001b[49m\u001b[43m,\u001b[49m\u001b[43m \u001b[49m\u001b[43mprompt\u001b[49m\u001b[38;5;241;43m=\u001b[39;49m\u001b[43mMATH_PROMPT\u001b[49m\u001b[43m)\u001b[49m\n\u001b[1;32m    272\u001b[0m     code_validations \u001b[38;5;241m=\u001b[39m PALValidation(\n\u001b[1;32m    273\u001b[0m         solution_expression_name\u001b[38;5;241m=\u001b[39m\u001b[38;5;124m\"\u001b[39m\u001b[38;5;124msolution\u001b[39m\u001b[38;5;124m\"\u001b[39m,\n\u001b[1;32m    274\u001b[0m         solution_expression_type\u001b[38;5;241m=\u001b[39mPALValidation\u001b[38;5;241m.\u001b[39mSOLUTION_EXPRESSION_TYPE_FUNCTION,\n\u001b[1;32m    275\u001b[0m     )\n\u001b[1;32m    277\u001b[0m     \u001b[38;5;28;01mreturn\u001b[39;00m \u001b[38;5;28mcls\u001b[39m(\n\u001b[1;32m    278\u001b[0m         llm_chain\u001b[38;5;241m=\u001b[39mllm_chain,\n\u001b[1;32m    279\u001b[0m         stop\u001b[38;5;241m=\u001b[39m\u001b[38;5;124m\"\u001b[39m\u001b[38;5;130;01m\\n\u001b[39;00m\u001b[38;5;130;01m\\n\u001b[39;00m\u001b[38;5;124m\"\u001b[39m,\n\u001b[0;32m   (...)\u001b[0m\n\u001b[1;32m    282\u001b[0m         \u001b[38;5;241m*\u001b[39m\u001b[38;5;241m*\u001b[39mkwargs,\n\u001b[1;32m    283\u001b[0m     )\n",
            "File \u001b[0;32m/usr/local/lib/python3.8/dist-packages/langchain_core/load/serializable.py:97\u001b[0m, in \u001b[0;36mSerializable.__init__\u001b[0;34m(self, **kwargs)\u001b[0m\n\u001b[1;32m     96\u001b[0m \u001b[38;5;28;01mdef\u001b[39;00m \u001b[38;5;21m__init__\u001b[39m(\u001b[38;5;28mself\u001b[39m, \u001b[38;5;241m*\u001b[39m\u001b[38;5;241m*\u001b[39mkwargs: Any) \u001b[38;5;241m-\u001b[39m\u001b[38;5;241m>\u001b[39m \u001b[38;5;28;01mNone\u001b[39;00m:\n\u001b[0;32m---> 97\u001b[0m     \u001b[38;5;28;43msuper\u001b[39;49m\u001b[43m(\u001b[49m\u001b[43m)\u001b[49m\u001b[38;5;241;43m.\u001b[39;49m\u001b[38;5;21;43m__init__\u001b[39;49m\u001b[43m(\u001b[49m\u001b[38;5;241;43m*\u001b[39;49m\u001b[38;5;241;43m*\u001b[39;49m\u001b[43mkwargs\u001b[49m\u001b[43m)\u001b[49m\n\u001b[1;32m     98\u001b[0m     \u001b[38;5;28mself\u001b[39m\u001b[38;5;241m.\u001b[39m_lc_kwargs \u001b[38;5;241m=\u001b[39m kwargs\n",
            "File \u001b[0;32m/usr/local/lib/python3.8/dist-packages/pydantic/main.py:341\u001b[0m, in \u001b[0;36mpydantic.main.BaseModel.__init__\u001b[0;34m()\u001b[0m\n",
            "\u001b[0;31mValidationError\u001b[0m: 2 validation errors for LLMChain\nllm\n  instance of Runnable expected (type=type_error.arbitrary_type; expected_arbitrary_type=Runnable)\nllm\n  instance of Runnable expected (type=type_error.arbitrary_type; expected_arbitrary_type=Runnable)"
          ]
        }
      ],
      "source": [
        "pal_chain = PALChain.from_math_prompt(pipe, verbose=True)"
      ]
    },
    {
      "cell_type": "code",
      "execution_count": null,
      "metadata": {
        "id": "odJ9mqfHHjMe"
      },
      "outputs": [],
      "source": [
        "pal_chain = PALChain.from_math_prompt(llm, verbose=True)"
      ]
    },
    {
      "cell_type": "code",
      "execution_count": null,
      "metadata": {
        "id": "RS0GyY0xIA-A"
      },
      "outputs": [],
      "source": [
        "question = \"The cafeteria had 23 apples. \\\n",
        "If they used 20 for lunch and bought 6 more,\\\n",
        "how many apples do they have?\""
      ]
    },
    {
      "cell_type": "code",
      "execution_count": null,
      "metadata": {
        "colab": {
          "base_uri": "https://localhost:8080/",
          "height": 281
        },
        "id": "aBYAo9OgKf2W",
        "outputId": "55337be2-02af-499a-854b-5f5a06992fca"
      },
      "outputs": [
        {
          "name": "stdout",
          "output_type": "stream",
          "text": [
            "\n",
            "\n",
            "\u001b[1m> Entering new PALChain chain...\u001b[0m\n",
            "\u001b[32;1m\u001b[1;3mdef solution():\n",
            "    \"\"\"The cafeteria had 23 apples. If they used 20 for lunch and bought 6 more,how many apples do they have?\"\"\"\n",
            "    apples_initial = 23\n",
            "    apples_used = 20\n",
            "    apples_bought = 6\n",
            "    apples_left = apples_initial - apples_used + apples_bought\n",
            "    result = apples_left\n",
            "    return result\u001b[0m\n",
            "\n",
            "\u001b[1m> Finished chain.\u001b[0m\n"
          ]
        },
        {
          "data": {
            "application/vnd.google.colaboratory.intrinsic+json": {
              "type": "string"
            },
            "text/plain": [
              "'9'"
            ]
          },
          "execution_count": 8,
          "metadata": {},
          "output_type": "execute_result"
        }
      ],
      "source": [
        "pal_chain.run(question)"
      ]
    },
    {
      "cell_type": "code",
      "execution_count": null,
      "metadata": {
        "colab": {
          "base_uri": "https://localhost:8080/",
          "height": 53
        },
        "id": "kkNwlYGn_WJu",
        "outputId": "566a6175-b0a8-4a5c-acbc-d70f3da1eb0f"
      },
      "outputs": [
        {
          "data": {
            "application/vnd.google.colaboratory.intrinsic+json": {
              "type": "string"
            },
            "text/plain": [
              "'The cafeteria had 23 apples. If they used 20 for lunch and bought 6 more,how many apples do they have?'"
            ]
          },
          "execution_count": 21,
          "metadata": {},
          "output_type": "execute_result"
        }
      ],
      "source": [
        "question"
      ]
    },
    {
      "cell_type": "code",
      "execution_count": null,
      "metadata": {
        "colab": {
          "base_uri": "https://localhost:8080/",
          "height": 191
        },
        "id": "LJfdSZ9JcfQ0",
        "outputId": "6e091a5a-6b39-4254-8e58-91fbc3926d3a"
      },
      "outputs": [
        {
          "data": {
            "application/vnd.google.colaboratory.intrinsic+json": {
              "type": "string"
            },
            "text/plain": [
              "'Q: Olivia has $23. She bought five bagels for $3 each. How much money does she have left?\\n\\n# solution in Python:\\n\\n\\ndef solution():\\n    \"\"\"Olivia has $23. She bought five bagels for $3 each. How much money does she have left?\"\"\"\\n    money_initial = 23\\n    bagels = 5\\n    bagel_cost = 3\\n    money_spent = bagels * bagel_cost\\n    money_left = money_initial - money_spent\\n    result = money_left\\n    return result\\n\\n\\n\\n\\n\\nQ: Michael had 58 golf balls. On tuesday, he lost 23 golf balls. On wednesday, he lost 2 more. How many golf balls did he have at the end of wednesday?\\n\\n# solution in Python:\\n\\n\\ndef solution():\\n    \"\"\"Michael had 58 golf balls. On tuesday, he lost 23 golf balls. On wednesday, he lost 2 more. How many golf balls did he have at the end of wednesday?\"\"\"\\n    golf_balls_initial = 58\\n    golf_balls_lost_tuesday = 23\\n    golf_balls_lost_wednesday = 2\\n    golf_balls_left = golf_balls_initial - golf_balls_lost_tuesday - golf_balls_lost_wednesday\\n    result = golf_balls_left\\n    return result\\n\\n\\n\\n\\n\\nQ: There were nine computers in the server room. Five more computers were installed each day, from monday to thursday. How many computers are now in the server room?\\n\\n# solution in Python:\\n\\n\\ndef solution():\\n    \"\"\"There were nine computers in the server room. Five more computers were installed each day, from monday to thursday. How many computers are now in the server room?\"\"\"\\n    computers_initial = 9\\n    computers_per_day = 5\\n    num_days = 4  # 4 days between monday and thursday\\n    computers_added = computers_per_day * num_days\\n    computers_total = computers_initial + computers_added\\n    result = computers_total\\n    return result\\n\\n\\n\\n\\n\\nQ: Shawn has five toys. For Christmas, he got two toys each from his mom and dad. How many toys does he have now?\\n\\n# solution in Python:\\n\\n\\ndef solution():\\n    \"\"\"Shawn has five toys. For Christmas, he got two toys each from his mom and dad. How many toys does he have now?\"\"\"\\n    toys_initial = 5\\n    mom_toys = 2\\n    dad_toys = 2\\n    total_received = mom_toys + dad_toys\\n    total_toys = toys_initial + total_received\\n    result = total_toys\\n    return result\\n\\n\\n\\n\\n\\nQ: Jason had 20 lollipops. He gave Denny some lollipops. Now Jason has 12 lollipops. How many lollipops did Jason give to Denny?\\n\\n# solution in Python:\\n\\n\\ndef solution():\\n    \"\"\"Jason had 20 lollipops. He gave Denny some lollipops. Now Jason has 12 lollipops. How many lollipops did Jason give to Denny?\"\"\"\\n    jason_lollipops_initial = 20\\n    jason_lollipops_after = 12\\n    denny_lollipops = jason_lollipops_initial - jason_lollipops_after\\n    result = denny_lollipops\\n    return result\\n\\n\\n\\n\\n\\nQ: Leah had 32 chocolates and her sister had 42. If they ate 35, how many pieces do they have left in total?\\n\\n# solution in Python:\\n\\n\\ndef solution():\\n    \"\"\"Leah had 32 chocolates and her sister had 42. If they ate 35, how many pieces do they have left in total?\"\"\"\\n    leah_chocolates = 32\\n    sister_chocolates = 42\\n    total_chocolates = leah_chocolates + sister_chocolates\\n    chocolates_eaten = 35\\n    chocolates_left = total_chocolates - chocolates_eaten\\n    result = chocolates_left\\n    return result\\n\\n\\n\\n\\n\\nQ: If there are 3 cars in the parking lot and 2 more cars arrive, how many cars are in the parking lot?\\n\\n# solution in Python:\\n\\n\\ndef solution():\\n    \"\"\"If there are 3 cars in the parking lot and 2 more cars arrive, how many cars are in the parking lot?\"\"\"\\n    cars_initial = 3\\n    cars_arrived = 2\\n    total_cars = cars_initial + cars_arrived\\n    result = total_cars\\n    return result\\n\\n\\n\\n\\n\\nQ: There are 15 trees in the grove. Grove workers will plant trees in the grove today. After they are done, there will be 21 trees. How many trees did the grove workers plant today?\\n\\n# solution in Python:\\n\\n\\ndef solution():\\n    \"\"\"There are 15 trees in the grove. Grove workers will plant trees in the grove today. After they are done, there will be 21 trees. How many trees did the grove workers plant today?\"\"\"\\n    trees_initial = 15\\n    trees_after = 21\\n    trees_added = trees_after - trees_initial\\n    result = trees_added\\n    return result\\n\\n\\n\\n\\n\\nQ: {question}\\n\\n# solution in Python:\\n\\n\\n'"
            ]
          },
          "execution_count": 22,
          "metadata": {},
          "output_type": "execute_result"
        }
      ],
      "source": [
        "pal_chain.prompt.template"
      ]
    },
    {
      "cell_type": "markdown",
      "metadata": {
        "id": "SNGzO_yxcqdz"
      },
      "source": [
        "Q: Olivia has $23. She bought five bagels for $3 each. How much money does she have left?\n",
        "\n",
        "# solution in Python:\n",
        "\n",
        "\n",
        "def solution():\n",
        "    \"\"\"Olivia has $23. She bought five bagels for $3 each. How much money does she have left?\"\"\"\n",
        "    money_initial = 23\n",
        "    bagels = 5\n",
        "    bagel_cost = 3\n",
        "    money_spent = bagels * bagel_cost\n",
        "    money_left = money_initial - money_spent\n",
        "    result = money_left\n",
        "    return result\n",
        "\n",
        "\n",
        "\n",
        "\n",
        "\n",
        "Q: Michael had 58 golf balls. On tuesday, he lost 23 golf balls. On wednesday, he lost 2 more. How many golf balls did he have at the end of wednesday?\n",
        "\n",
        "# solution in Python:\n",
        "\n",
        "\n",
        "def solution():\n",
        "    \"\"\"Michael had 58 golf balls. On tuesday, he lost 23 golf balls. On wednesday, he lost 2 more. How many golf balls did he have at the end of wednesday?\"\"\"\n",
        "    golf_balls_initial = 58\n",
        "    golf_balls_lost_tuesday = 23\n",
        "    golf_balls_lost_wednesday = 2\n",
        "    golf_balls_left = golf_balls_initial - golf_balls_lost_tuesday - golf_balls_lost_wednesday\n",
        "    result = golf_balls_left\n",
        "    return result\n",
        "\n",
        "\n",
        "\n",
        "\n",
        "\n",
        "Q: There were nine computers in the server room. Five more computers were installed each day, from monday to thursday. How many computers are now in the server room?\n",
        "\n",
        "# solution in Python:\n",
        "\n",
        "\n",
        "def solution():\n",
        "    \"\"\"There were nine computers in the server room. Five more computers were installed each day, from monday to thursday. How many computers are now in the server room?\"\"\"\n",
        "    computers_initial = 9\n",
        "    computers_per_day = 5\n",
        "    num_days = 4  # 4 days between monday and thursday\n",
        "    computers_added = computers_per_day * num_days\n",
        "    computers_total = computers_initial + computers_added\n",
        "    result = computers_total\n",
        "    return result\n",
        "\n",
        "\n",
        "\n",
        "\n",
        "\n",
        "Q: Shawn has five toys. For Christmas, he got two toys each from his mom and dad. How many toys does he have now?\n",
        "\n",
        "# solution in Python:\n",
        "\n",
        "\n",
        "def solution():\n",
        "    \"\"\"Shawn has five toys. For Christmas, he got two toys each from his mom and dad. How many toys does he have now?\"\"\"\n",
        "    toys_initial = 5\n",
        "    mom_toys = 2\n",
        "    dad_toys = 2\n",
        "    total_received = mom_toys + dad_toys\n",
        "    total_toys = toys_initial + total_received\n",
        "    result = total_toys\n",
        "    return result\n",
        "\n",
        "\n",
        "\n",
        "\n",
        "\n",
        "Q: Jason had 20 lollipops. He gave Denny some lollipops. Now Jason has 12 lollipops. How many lollipops did Jason give to Denny?\n",
        "\n",
        "# solution in Python:\n",
        "\n",
        "\n",
        "def solution():\n",
        "    \"\"\"Jason had 20 lollipops. He gave Denny some lollipops. Now Jason has 12 lollipops. How many lollipops did Jason give to Denny?\"\"\"\n",
        "    jason_lollipops_initial = 20\n",
        "    jason_lollipops_after = 12\n",
        "    denny_lollipops = jason_lollipops_initial - jason_lollipops_after\n",
        "    result = denny_lollipops\n",
        "    return result\n",
        "\n",
        "\n",
        "\n",
        "\n",
        "\n",
        "Q: Leah had 32 chocolates and her sister had 42. If they ate 35, how many pieces do they have left in total?\n",
        "\n",
        "# solution in Python:\n",
        "\n",
        "\n",
        "def solution():\n",
        "    \"\"\"Leah had 32 chocolates and her sister had 42. If they ate 35, how many pieces do they have left in total?\"\"\"\n",
        "    leah_chocolates = 32\n",
        "    sister_chocolates = 42\n",
        "    total_chocolates = leah_chocolates + sister_chocolates\n",
        "    chocolates_eaten = 35\n",
        "    chocolates_left = total_chocolates - chocolates_eaten\n",
        "    result = chocolates_left\n",
        "    return result\n",
        "\n",
        "\n",
        "\n",
        "\n",
        "\n",
        "Q: If there are 3 cars in the parking lot and 2 more cars arrive, how many cars are in the parking lot?\n",
        "\n",
        "# solution in Python:\n",
        "\n",
        "\n",
        "def solution():\n",
        "    \"\"\"If there are 3 cars in the parking lot and 2 more cars arrive, how many cars are in the parking lot?\"\"\"\n",
        "    cars_initial = 3\n",
        "    cars_arrived = 2\n",
        "    total_cars = cars_initial + cars_arrived\n",
        "    result = total_cars\n",
        "    return result\n",
        "\n",
        "\n",
        "\n",
        "\n",
        "\n",
        "Q: There are 15 trees in the grove. Grove workers will plant trees in the grove today. After they are done, there will be 21 trees. How many trees did the grove workers plant today?\n",
        "\n",
        "# solution in Python:\n",
        "\n",
        "\n",
        "def solution():\n",
        "    \"\"\"There are 15 trees in the grove. Grove workers will plant trees in the grove today. After they are done, there will be 21 trees. How many trees did the grove workers plant today?\"\"\"\n",
        "    trees_initial = 15\n",
        "    trees_after = 21\n",
        "    trees_added = trees_after - trees_initial\n",
        "    result = trees_added\n",
        "    return result\n",
        "\n",
        "\n",
        "\n",
        "\n",
        "\n",
        "Q: {question}\n",
        "\n",
        "# solution in Python:\n",
        "\n",
        "\n"
      ]
    },
    {
      "cell_type": "markdown",
      "metadata": {
        "id": "cs8b3-DW_7Lc"
      },
      "source": [
        "## GSM8k"
      ]
    },
    {
      "cell_type": "code",
      "execution_count": null,
      "metadata": {
        "id": "_a5XP5k_Anff"
      },
      "outputs": [],
      "source": [
        "question = \"John buys twice as many red ties as blue ties. The red ties cost 50% more than blue ties. \\\n",
        "He spent $200 on blue ties that cost $40 each. How much did he spend on ties?\""
      ]
    },
    {
      "cell_type": "code",
      "execution_count": null,
      "metadata": {
        "colab": {
          "base_uri": "https://localhost:8080/",
          "height": 333
        },
        "id": "WXiqz42uAy0G",
        "outputId": "0b3527db-f311-421e-bb72-e270c61dcf05"
      },
      "outputs": [
        {
          "name": "stdout",
          "output_type": "stream",
          "text": [
            "\n",
            "\n",
            "\u001b[1m> Entering new PALChain chain...\u001b[0m\n",
            "\u001b[32;1m\u001b[1;3mdef solution():\n",
            "    \"\"\"John buys twice as many red ties as blue ties. The red ties cost 50% more than blue ties. He spent $200 on blue ties that cost $40 each. How much did he spend on ties?\"\"\"\n",
            "    blue_ties_cost = 40\n",
            "    blue_ties_num = 200 / blue_ties_cost\n",
            "    red_ties_num = blue_ties_num * 2\n",
            "    red_ties_cost = blue_ties_cost * 1.5\n",
            "    red_ties_total = red_ties_num * red_ties_cost\n",
            "    blue_ties_total = blue_ties_num * blue_ties_cost\n",
            "    total_spent = red_ties_total + blue_ties_total\n",
            "    result = total_spent\n",
            "    return result\u001b[0m\n",
            "\n",
            "\u001b[1m> Finished chain.\u001b[0m\n"
          ]
        },
        {
          "data": {
            "application/vnd.google.colaboratory.intrinsic+json": {
              "type": "string"
            },
            "text/plain": [
              "'800.0'"
            ]
          },
          "execution_count": 37,
          "metadata": {},
          "output_type": "execute_result"
        }
      ],
      "source": [
        "pal_chain.run(question)"
      ]
    },
    {
      "cell_type": "code",
      "execution_count": null,
      "metadata": {
        "id": "ViiU4blmK6mf"
      },
      "outputs": [],
      "source": [
        "question = \"Maggie spent a quarter of her money, while Riza spent one-third of her money. \\\n",
        "They each had $60. How much money do the two of them have left?\""
      ]
    },
    {
      "cell_type": "code",
      "execution_count": null,
      "metadata": {
        "colab": {
          "base_uri": "https://localhost:8080/",
          "height": 333
        },
        "id": "Emgw7lKaK_KQ",
        "outputId": "0c1de2f8-12c2-4b9e-af49-cade2df83db9"
      },
      "outputs": [
        {
          "name": "stdout",
          "output_type": "stream",
          "text": [
            "\n",
            "\n",
            "\u001b[1m> Entering new PALChain chain...\u001b[0m\n",
            "\u001b[32;1m\u001b[1;3mdef solution():\n",
            "    \"\"\"Maggie spent a quarter of her money, while Riza spent one-third of her money. They each had $60. How much money do the two of them have left?\"\"\"\n",
            "    maggie_money_initial = 60\n",
            "    maggie_money_spent = maggie_money_initial / 4\n",
            "    maggie_money_left = maggie_money_initial - maggie_money_spent\n",
            "    riza_money_initial = 60\n",
            "    riza_money_spent = riza_money_initial / 3\n",
            "    riza_money_left = riza_money_initial - riza_money_spent\n",
            "    total_money_left = maggie_money_left + riza_money_left\n",
            "    result = total_money_left\n",
            "    return result\u001b[0m\n",
            "\n",
            "\u001b[1m> Finished chain.\u001b[0m\n"
          ]
        },
        {
          "data": {
            "application/vnd.google.colaboratory.intrinsic+json": {
              "type": "string"
            },
            "text/plain": [
              "'85.0'"
            ]
          },
          "execution_count": 39,
          "metadata": {},
          "output_type": "execute_result"
        }
      ],
      "source": [
        "pal_chain.run(question)"
      ]
    },
    {
      "cell_type": "code",
      "execution_count": null,
      "metadata": {
        "id": "cYveyvWXLSzy"
      },
      "outputs": [],
      "source": [
        "question = \"In November, a toy was $8186321.4112. \\\n",
        "In December, the price increased by 80%. In January, the price decreased by 50%. \\\n",
        "What was the price of the toy after it was discounted in January?\""
      ]
    },
    {
      "cell_type": "code",
      "execution_count": null,
      "metadata": {
        "colab": {
          "base_uri": "https://localhost:8080/",
          "height": 264
        },
        "id": "ZIQ_6tsQLYgI",
        "outputId": "1e8eca0e-e55b-4421-fb43-fa214247d415"
      },
      "outputs": [
        {
          "name": "stdout",
          "output_type": "stream",
          "text": [
            "\n",
            "\n",
            "\u001b[1m> Entering new PALChain chain...\u001b[0m\n",
            "\u001b[32;1m\u001b[1;3mdef solution():\n",
            "    \"\"\"In November, a toy was $8186321.4112. In December, the price increased by 80%. In January, the price decreased by 50%. What was the price of the toy after it was discounted in January?\"\"\"\n",
            "    price_november = 8186321.4112\n",
            "    price_december = price_november * 1.8\n",
            "    price_january = price_december * 0.5\n",
            "    result = price_january\n",
            "    return result\u001b[0m\n",
            "\n",
            "\u001b[1m> Finished chain.\u001b[0m\n"
          ]
        },
        {
          "data": {
            "application/vnd.google.colaboratory.intrinsic+json": {
              "type": "string"
            },
            "text/plain": [
              "'7367689.27008'"
            ]
          },
          "execution_count": 45,
          "metadata": {},
          "output_type": "execute_result"
        }
      ],
      "source": [
        "pal_chain.run(question)"
      ]
    },
    {
      "cell_type": "markdown",
      "metadata": {
        "id": "HUOUl_HRL6Cd"
      },
      "source": [
        "## Repeat words"
      ]
    },
    {
      "cell_type": "code",
      "execution_count": null,
      "metadata": {
        "id": "_MJZozf6L9Mb"
      },
      "outputs": [],
      "source": [
        "question = \"Repeat cheese seven times; every third say whiz\""
      ]
    },
    {
      "cell_type": "code",
      "execution_count": null,
      "metadata": {
        "colab": {
          "base_uri": "https://localhost:8080/",
          "height": 296
        },
        "id": "SStFPIwaMCod",
        "outputId": "42e1e139-6260-4f8c-c880-3598d48a8e0e"
      },
      "outputs": [
        {
          "name": "stdout",
          "output_type": "stream",
          "text": [
            "\n",
            "\n",
            "\u001b[1m> Entering new PALChain chain...\u001b[0m\n",
            "\u001b[32;1m\u001b[1;3mdef solution():\n",
            "    \"\"\"Repeat cheese seven times; every third say whiz\"\"\"\n",
            "    cheese = \"cheese\"\n",
            "    whiz = \"whiz\"\n",
            "    cheese_count = 7\n",
            "    whiz_count = 3\n",
            "    cheese_result = cheese * cheese_count\n",
            "    whiz_result = whiz * whiz_count\n",
            "    result = cheese_result + whiz_result\n",
            "    return result\u001b[0m\n",
            "\n",
            "\u001b[1m> Finished chain.\u001b[0m\n"
          ]
        },
        {
          "data": {
            "application/vnd.google.colaboratory.intrinsic+json": {
              "type": "string"
            },
            "text/plain": [
              "'cheesecheesecheesecheesecheesecheesecheesewhizwhizwhiz'"
            ]
          },
          "execution_count": 47,
          "metadata": {},
          "output_type": "execute_result"
        }
      ],
      "source": [
        "pal_chain.run(question)"
      ]
    },
    {
      "cell_type": "code",
      "execution_count": null,
      "metadata": {
        "id": "D7gfcvKcMErB"
      },
      "outputs": [],
      "source": [
        "question = \"Say the letters of the alphabet in capital letters, but only the odd ones\"\n",
        "#A C E G I K M O Q S U W Y\""
      ]
    },
    {
      "cell_type": "code",
      "execution_count": null,
      "metadata": {
        "colab": {
          "base_uri": "https://localhost:8080/",
          "height": 226
        },
        "id": "ltzGYvqOME4d",
        "outputId": "04b6c1a8-83aa-4626-ffad-6dabba4f9041"
      },
      "outputs": [
        {
          "name": "stdout",
          "output_type": "stream",
          "text": [
            "\n",
            "\n",
            "\u001b[1m> Entering new PALChain chain...\u001b[0m\n",
            "\u001b[32;1m\u001b[1;3mdef solution():\n",
            "    \"\"\"Say the letters of the alphabet in capital letters, but only the odd ones\"\"\"\n",
            "    alphabet = \"ABCDEFGHIJKLMNOPQRSTUVWXYZ\"\n",
            "    odd_letters = alphabet[::2]\n",
            "    result = odd_letters\n",
            "    return result\u001b[0m\n",
            "\n",
            "\u001b[1m> Finished chain.\u001b[0m\n"
          ]
        },
        {
          "data": {
            "application/vnd.google.colaboratory.intrinsic+json": {
              "type": "string"
            },
            "text/plain": [
              "'ACEGIKMOQSUWY'"
            ]
          },
          "execution_count": 49,
          "metadata": {},
          "output_type": "execute_result"
        }
      ],
      "source": [
        "pal_chain.run(question)"
      ]
    },
    {
      "cell_type": "markdown",
      "metadata": {
        "id": "jGiaKVyr_1gS"
      },
      "source": [
        "## Word Math Problems\n",
        "\n",
        "https://www.prodigygame.com/main-en/blog/math-word-problems/"
      ]
    },
    {
      "cell_type": "code",
      "execution_count": null,
      "metadata": {
        "id": "W6VwsxJlYLrA"
      },
      "outputs": [],
      "source": [
        "question = \"If you have 80 tickets for the fair and each ride costs 5 tickets, \\\n",
        "how many rides can you go on?\""
      ]
    },
    {
      "cell_type": "code",
      "execution_count": null,
      "metadata": {
        "colab": {
          "base_uri": "https://localhost:8080/",
          "height": 264
        },
        "id": "4OrBbz1xYRLx",
        "outputId": "60c3f39d-ff0d-4747-9a2b-8a218a8e84e9"
      },
      "outputs": [
        {
          "name": "stdout",
          "output_type": "stream",
          "text": [
            "\n",
            "\n",
            "\u001b[1m> Entering new PALChain chain...\u001b[0m\n",
            "\u001b[32;1m\u001b[1;3mdef solution():\n",
            "    \"\"\"If you have 80 tickets for the fair and each ride costs 5 tickets, how many rides can you go on?\"\"\"\n",
            "    tickets_initial = 80\n",
            "    ride_cost = 5\n",
            "    rides_possible = tickets_initial // ride_cost\n",
            "    result = rides_possible\n",
            "    return result\u001b[0m\n",
            "\n",
            "\u001b[1m> Finished chain.\u001b[0m\n"
          ]
        },
        {
          "data": {
            "application/vnd.google.colaboratory.intrinsic+json": {
              "type": "string"
            },
            "text/plain": [
              "'16'"
            ]
          },
          "execution_count": 24,
          "metadata": {},
          "output_type": "execute_result"
        }
      ],
      "source": [
        "pal_chain.run(question)"
      ]
    },
    {
      "cell_type": "code",
      "execution_count": null,
      "metadata": {
        "id": "TaTBunuaYdSJ"
      },
      "outputs": [],
      "source": [
        "question = \"The school has $20,000 to buy new computer equipment. If each piece of equipment costs $50,\\\n",
        " how many pieces can the school buy in total?\""
      ]
    },
    {
      "cell_type": "code",
      "execution_count": null,
      "metadata": {
        "colab": {
          "base_uri": "https://localhost:8080/",
          "height": 264
        },
        "id": "ckH5JthuYfsa",
        "outputId": "841d97f2-e918-466b-f83b-ec95e718f3fd"
      },
      "outputs": [
        {
          "name": "stdout",
          "output_type": "stream",
          "text": [
            "\n",
            "\n",
            "\u001b[1m> Entering new PALChain chain...\u001b[0m\n",
            "\u001b[32;1m\u001b[1;3mdef solution():\n",
            "    \"\"\"The school has $20,000 to buy new computer equipment. If each piece of equipment costs $50, how many pieces can the school buy in total?\"\"\"\n",
            "    money_available = 20000\n",
            "    equipment_cost = 50\n",
            "    total_equipment = money_available // equipment_cost\n",
            "    result = total_equipment\n",
            "    return result\u001b[0m\n",
            "\n",
            "\u001b[1m> Finished chain.\u001b[0m\n"
          ]
        },
        {
          "data": {
            "application/vnd.google.colaboratory.intrinsic+json": {
              "type": "string"
            },
            "text/plain": [
              "'400'"
            ]
          },
          "execution_count": 28,
          "metadata": {},
          "output_type": "execute_result"
        }
      ],
      "source": [
        "pal_chain.run(question)"
      ]
    },
    {
      "cell_type": "code",
      "execution_count": null,
      "metadata": {
        "id": "iWsVYHvEYtd8"
      },
      "outputs": [],
      "source": [
        "#interpreting remainders\n",
        "question = 'An Italian restaurant receives a shipment of 86 veal cutlets. If it takes 3 cutlets to make a dish, \\\n",
        "how many cutlets will the restaurant have left over after making as many dishes as possible?'"
      ]
    },
    {
      "cell_type": "code",
      "execution_count": null,
      "metadata": {
        "colab": {
          "base_uri": "https://localhost:8080/",
          "height": 281
        },
        "id": "STkjY8K8Y11a",
        "outputId": "1418aed9-7486-40f4-efa0-0f52ce8201fd"
      },
      "outputs": [
        {
          "name": "stdout",
          "output_type": "stream",
          "text": [
            "\n",
            "\n",
            "\u001b[1m> Entering new PALChain chain...\u001b[0m\n",
            "\u001b[32;1m\u001b[1;3mdef solution():\n",
            "    \"\"\"An Italian restaurant receives a shipment of 86 veal cutlets. If it takes 3 cutlets to make a dish, how many cutlets will the restaurant have left over after making as many dishes as possible?\"\"\"\n",
            "    cutlets_initial = 86\n",
            "    cutlets_per_dish = 3\n",
            "    num_dishes = cutlets_initial // cutlets_per_dish\n",
            "    cutlets_leftover = cutlets_initial % cutlets_per_dish\n",
            "    result = cutlets_leftover\n",
            "    return result\u001b[0m\n",
            "\n",
            "\u001b[1m> Finished chain.\u001b[0m\n"
          ]
        },
        {
          "data": {
            "application/vnd.google.colaboratory.intrinsic+json": {
              "type": "string"
            },
            "text/plain": [
              "'2'"
            ]
          },
          "execution_count": 30,
          "metadata": {},
          "output_type": "execute_result"
        }
      ],
      "source": [
        "pal_chain.run(question)"
      ]
    },
    {
      "cell_type": "code",
      "execution_count": null,
      "metadata": {
        "id": "7HS17r2CapDB"
      },
      "outputs": [],
      "source": [
        "# mixed operations\n",
        "question = \"There are 235 books in a library. On Monday, 123 books are taken out. \\\n",
        "On Tuesday, 56 books are brought back. How many books are there now?\""
      ]
    },
    {
      "cell_type": "code",
      "execution_count": null,
      "metadata": {
        "colab": {
          "base_uri": "https://localhost:8080/",
          "height": 281
        },
        "id": "CmkHE8O_awBL",
        "outputId": "8f7ed335-8dc4-49fa-8c47-27e46a3d6084"
      },
      "outputs": [
        {
          "name": "stdout",
          "output_type": "stream",
          "text": [
            "\n",
            "\n",
            "\u001b[1m> Entering new PALChain chain...\u001b[0m\n",
            "\u001b[32;1m\u001b[1;3mdef solution():\n",
            "    \"\"\"There are 235 books in a library. On Monday, 123 books are taken out. On Tuesday, 56 books are brought back. How many books are there now?\"\"\"\n",
            "    books_initial = 235\n",
            "    books_taken_out = 123\n",
            "    books_returned = 56\n",
            "    books_left = books_initial - books_taken_out + books_returned\n",
            "    result = books_left\n",
            "    return result\u001b[0m\n",
            "\n",
            "\u001b[1m> Finished chain.\u001b[0m\n"
          ]
        },
        {
          "data": {
            "application/vnd.google.colaboratory.intrinsic+json": {
              "type": "string"
            },
            "text/plain": [
              "'168'"
            ]
          },
          "execution_count": 40,
          "metadata": {},
          "output_type": "execute_result"
        }
      ],
      "source": [
        "pal_chain.run(question)"
      ]
    },
    {
      "cell_type": "code",
      "execution_count": null,
      "metadata": {
        "id": "SUcBfsWPaCdO"
      },
      "outputs": [],
      "source": [
        "# percentages\n",
        "question = \"The school’s junior band has 10 saxophone players and 20 trumpet players. \\\n",
        " The school’s senior band has 18 saxophone players and 29 trumpet players. \\\n",
        "Which band has the higher ratio of trumpet to saxophone players?\""
      ]
    },
    {
      "cell_type": "code",
      "execution_count": null,
      "metadata": {
        "colab": {
          "base_uri": "https://localhost:8080/",
          "height": 402
        },
        "id": "kpiuuVblaMRZ",
        "outputId": "6000890a-4ea3-4dc4-fe51-a2e5f441fe70"
      },
      "outputs": [
        {
          "name": "stdout",
          "output_type": "stream",
          "text": [
            "\n",
            "\n",
            "\u001b[1m> Entering new PALChain chain...\u001b[0m\n",
            "\u001b[32;1m\u001b[1;3mdef solution():\n",
            "    \"\"\"The school’s junior band has 10 saxophone players and 20 trumpet players.  The school’s senior band has 18 saxophone players and 29 trumpet players. Which band has the higher ratio of trumpet to saxophone players?\"\"\"\n",
            "    junior_sax = 10\n",
            "    junior_trumpet = 20\n",
            "    senior_sax = 18\n",
            "    senior_trumpet = 29\n",
            "    junior_ratio = junior_trumpet / junior_sax\n",
            "    senior_ratio = senior_trumpet / senior_sax\n",
            "    if junior_ratio > senior_ratio:\n",
            "        result = \"junior\"\n",
            "    elif senior_ratio > junior_ratio:\n",
            "        result = \"senior\"\n",
            "    else:\n",
            "        result = \"equal\"\n",
            "    return result\u001b[0m\n",
            "\n",
            "\u001b[1m> Finished chain.\u001b[0m\n"
          ]
        },
        {
          "data": {
            "application/vnd.google.colaboratory.intrinsic+json": {
              "type": "string"
            },
            "text/plain": [
              "'junior'"
            ]
          },
          "execution_count": 28,
          "metadata": {},
          "output_type": "execute_result"
        }
      ],
      "source": [
        "pal_chain.run(question)"
      ]
    },
    {
      "cell_type": "markdown",
      "metadata": {
        "id": "k1Xh74gsBWCx"
      },
      "source": [
        "## Some failures"
      ]
    },
    {
      "cell_type": "code",
      "execution_count": null,
      "metadata": {
        "id": "9ygDp4WgZKWp"
      },
      "outputs": [],
      "source": [
        "# Time - fails\n",
        "question = \"If you wake up at 7:00 a.m. and it takes you 1 hour and 30 minutes to get ready and walk to school, at what time will you get to school?\"\n"
      ]
    },
    {
      "cell_type": "code",
      "execution_count": null,
      "metadata": {
        "colab": {
          "base_uri": "https://localhost:8080/",
          "height": 298
        },
        "id": "SfwTN-QfZPAg",
        "outputId": "308871fe-99da-4de6-c749-9bc9c06b78b9"
      },
      "outputs": [
        {
          "name": "stdout",
          "output_type": "stream",
          "text": [
            "\n",
            "\n",
            "\u001b[1m> Entering new PALChain chain...\u001b[0m\n",
            "\u001b[32;1m\u001b[1;3mdef solution():\n",
            "    \"\"\"If you wake up at 7:00 a.m. and it takes you 1 hour and 30 minutes to get ready and walk to school, at what time will you get to school?\"\"\"\n",
            "    wake_up_time = 7\n",
            "    minutes_to_get_ready = 90\n",
            "    minutes_in_an_hour = 60\n",
            "    hours_to_get_ready = minutes_to_get_ready // minutes_in_an_hour\n",
            "    total_hours = wake_up_time + hours_to_get_ready\n",
            "    result = total_hours\n",
            "    return result\u001b[0m\n",
            "\n",
            "\u001b[1m> Finished chain.\u001b[0m\n"
          ]
        },
        {
          "data": {
            "application/vnd.google.colaboratory.intrinsic+json": {
              "type": "string"
            },
            "text/plain": [
              "'8'"
            ]
          },
          "execution_count": 32,
          "metadata": {},
          "output_type": "execute_result"
        }
      ],
      "source": [
        "pal_chain.run(question)"
      ]
    },
    {
      "cell_type": "code",
      "execution_count": null,
      "metadata": {
        "id": "jnhDYkGJZoLd"
      },
      "outputs": [],
      "source": [
        "#ratios - fail\n",
        "question = \"The ratio of Jenny’s trophies to Meredith’s trophies is 7:4.\\\n",
        " The difference between the numbers is 12. What are the numbers?\""
      ]
    },
    {
      "cell_type": "code",
      "execution_count": null,
      "metadata": {
        "colab": {
          "base_uri": "https://localhost:8080/",
          "height": 281
        },
        "id": "_4MJOMCUZuFC",
        "outputId": "cf5cf6df-7696-4e25-cd4c-5a17d82acd36"
      },
      "outputs": [
        {
          "name": "stdout",
          "output_type": "stream",
          "text": [
            "\n",
            "\n",
            "\u001b[1m> Entering new PALChain chain...\u001b[0m\n",
            "\u001b[32;1m\u001b[1;3mdef solution():\n",
            "    \"\"\"The ratio of Jenny’s trophies to Meredith’s trophies is 7:4. The difference between the numbers is 12. What are the numbers?\"\"\"\n",
            "    ratio = 7/4\n",
            "    difference = 12\n",
            "    jenny_trophies = difference * ratio\n",
            "    meredith_trophies = difference * (1 - ratio)\n",
            "    result = (jenny_trophies, meredith_trophies)\n",
            "    return result\u001b[0m\n",
            "\n",
            "\u001b[1m> Finished chain.\u001b[0m\n"
          ]
        },
        {
          "data": {
            "application/vnd.google.colaboratory.intrinsic+json": {
              "type": "string"
            },
            "text/plain": [
              "'(21.0, -9.0)'"
            ]
          },
          "execution_count": 36,
          "metadata": {},
          "output_type": "execute_result"
        }
      ],
      "source": [
        "pal_chain.run(question)"
      ]
    },
    {
      "cell_type": "markdown",
      "metadata": {
        "id": "qO7KNWQNEw53"
      },
      "source": [
        "## Colored Objects\n"
      ]
    },
    {
      "cell_type": "code",
      "execution_count": null,
      "metadata": {
        "id": "lvO31GCGKhHs"
      },
      "outputs": [],
      "source": [
        "pal_chain = PALChain.from_colored_object_prompt(llm, verbose=True)"
      ]
    },
    {
      "cell_type": "code",
      "execution_count": null,
      "metadata": {
        "id": "aIhXHBFRE30C"
      },
      "outputs": [],
      "source": [
        "question = \"On the desk, you see two blue booklets, two purple booklets, 1 purple hat \\\n",
        "and two yellow pairs of sunglasses.\\\n",
        " If I remove all the pairs of sunglasses from the desk, how many purple items remain on it?\""
      ]
    },
    {
      "cell_type": "code",
      "execution_count": null,
      "metadata": {
        "colab": {
          "base_uri": "https://localhost:8080/",
          "height": 417
        },
        "id": "PW7CC96DE33R",
        "outputId": "186a3728-3963-40d8-dc2b-257ae5b9edbd"
      },
      "outputs": [
        {
          "name": "stdout",
          "output_type": "stream",
          "text": [
            "\n",
            "\n",
            "\u001b[1m> Entering new PALChain chain...\u001b[0m\n",
            "\u001b[32;1m\u001b[1;3m# Put objects into a list to record ordering\n",
            "objects = []\n",
            "objects += [('booklet', 'blue')] * 2\n",
            "objects += [('booklet', 'purple')] * 2\n",
            "objects += [('hat', 'purple')] * 1\n",
            "objects += [('sunglasses', 'yellow')] * 2\n",
            "\n",
            "# Remove all pairs of sunglasses\n",
            "objects = [object for object in objects if object[0] != 'sunglasses']\n",
            "\n",
            "# Count number of purple items\n",
            "num_purple = 0\n",
            "for object in objects:\n",
            "    if object[1] == 'purple':\n",
            "        num_purple += 1\n",
            "\n",
            "answer = num_purple\u001b[0m\n",
            "\n",
            "\u001b[1m> Finished chain.\u001b[0m\n"
          ]
        },
        {
          "data": {
            "application/vnd.google.colaboratory.intrinsic+json": {
              "type": "string"
            },
            "text/plain": [
              "'3'"
            ]
          },
          "execution_count": 14,
          "metadata": {},
          "output_type": "execute_result"
        }
      ],
      "source": [
        "pal_chain.run(question)"
      ]
    },
    {
      "cell_type": "markdown",
      "metadata": {
        "id": "b-xf7ZH9FBXY"
      },
      "source": [
        "## Intermediate steps"
      ]
    },
    {
      "cell_type": "code",
      "execution_count": null,
      "metadata": {
        "id": "vU5fUnuFE36F"
      },
      "outputs": [],
      "source": [
        "pal_chain = PALChain.from_colored_object_prompt(llm,\n",
        "                                                verbose=True,\n",
        "                                                return_intermediate_steps=True)"
      ]
    },
    {
      "cell_type": "code",
      "execution_count": null,
      "metadata": {
        "id": "KiWrj9iFE38M"
      },
      "outputs": [],
      "source": [
        "question = \"On the desk, you see two blue booklets, two purple booklets,\\\n",
        "1 purple hat and two yellow pairs of sunglasses. \\\n",
        "If I remove all the pairs of sunglasses from the desk, how many purple items remain on it?\""
      ]
    },
    {
      "cell_type": "code",
      "execution_count": null,
      "metadata": {
        "colab": {
          "base_uri": "https://localhost:8080/"
        },
        "id": "Alv4nUz6FPdz",
        "outputId": "0f333f19-8d8f-4c03-d49a-415b6d3c7c76"
      },
      "outputs": [
        {
          "name": "stdout",
          "output_type": "stream",
          "text": [
            "\n",
            "\n",
            "\u001b[1m> Entering new PALChain chain...\u001b[0m\n",
            "\u001b[32;1m\u001b[1;3m# Put objects into a list to record ordering\n",
            "objects = []\n",
            "objects += [('booklet', 'blue')] * 2\n",
            "objects += [('booklet', 'purple')] * 2\n",
            "objects += [('hat', 'purple')] * 1\n",
            "objects += [('sunglasses', 'yellow')] * 2\n",
            "\n",
            "# Remove all pairs of sunglasses\n",
            "objects = [object for object in objects if object[0] != 'sunglasses']\n",
            "\n",
            "# Count number of purple items\n",
            "num_purple = len([object for object in objects if object[1] == 'purple'])\n",
            "answer = num_purple\u001b[0m\n",
            "\n",
            "\u001b[1m> Finished chain.\u001b[0m\n"
          ]
        }
      ],
      "source": [
        "result = pal_chain({\"question\": question})"
      ]
    },
    {
      "cell_type": "code",
      "execution_count": null,
      "metadata": {
        "colab": {
          "base_uri": "https://localhost:8080/",
          "height": 105
        },
        "id": "XaNrla5-FSi1",
        "outputId": "046e3160-eba7-48a0-c717-0eda8a40b750"
      },
      "outputs": [
        {
          "data": {
            "application/vnd.google.colaboratory.intrinsic+json": {
              "type": "string"
            },
            "text/plain": [
              "\"# Put objects into a list to record ordering\\nobjects = []\\nobjects += [('booklet', 'blue')] * 2\\nobjects += [('booklet', 'purple')] * 2\\nobjects += [('hat', 'purple')] * 1\\nobjects += [('sunglasses', 'yellow')] * 2\\n\\n# Remove all pairs of sunglasses\\nobjects = [object for object in objects if object[0] != 'sunglasses']\\n\\n# Count number of purple items\\nnum_purple = len([object for object in objects if object[1] == 'purple'])\\nanswer = num_purple\""
            ]
          },
          "execution_count": 32,
          "metadata": {},
          "output_type": "execute_result"
        }
      ],
      "source": [
        "result['intermediate_steps']"
      ]
    },
    {
      "cell_type": "markdown",
      "metadata": {
        "id": "iTTOL-OEB15T"
      },
      "source": [
        "# Put objects into a list to record ordering\n",
        "objects = []\n",
        "objects += [('booklet', 'blue')] * 2\n",
        "objects += [('booklet', 'purple')] * 2\n",
        "objects += [('hat', 'purple')] * 1\n",
        "objects += [('sunglasses', 'yellow')] * 2\n",
        "\n",
        "# Remove all pairs of sunglasses\n",
        "objects = [object for object in objects if object[0] != 'sunglasses']\n",
        "\n",
        "# Count number of purple items\n",
        "num_purple = len([object for object in objects if object[1] == 'purple'])\n",
        "answer = num_purple"
      ]
    },
    {
      "cell_type": "code",
      "execution_count": null,
      "metadata": {
        "id": "qrFZYfjkX-pa"
      },
      "outputs": [],
      "source": []
    }
  ],
  "metadata": {
    "colab": {
      "provenance": []
    },
    "kernelspec": {
      "display_name": "Python 3",
      "name": "python3"
    },
    "language_info": {
      "codemirror_mode": {
        "name": "ipython",
        "version": 3
      },
      "file_extension": ".py",
      "mimetype": "text/x-python",
      "name": "python",
      "nbconvert_exporter": "python",
      "pygments_lexer": "ipython3",
      "version": "3.8.10"
    }
  },
  "nbformat": 4,
  "nbformat_minor": 0
}
