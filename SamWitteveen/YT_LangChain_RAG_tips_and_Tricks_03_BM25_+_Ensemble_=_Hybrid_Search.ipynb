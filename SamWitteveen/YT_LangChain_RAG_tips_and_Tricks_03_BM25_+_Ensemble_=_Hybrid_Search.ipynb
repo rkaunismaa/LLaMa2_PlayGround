{
  "cells": [
    {
      "cell_type": "markdown",
      "metadata": {},
      "source": [
        "#### Tuesday, December 19, 2023\n",
        "\n",
        "[Advanced RAG 03 - Hybrid Search BM25 & Ensembles](https://www.youtube.com/watch?v=lYxGYXjfrNI&t=5s)\n",
        "\n",
        "https://colab.research.google.com/drive/1lsT1V_U1Gq-jv09wv0ok5QHdyRjJyNxm?usp=sharing\n",
        "\n",
        "This uses OpenAI: $4.64 / $38.00\n",
        "\n",
        "This does not use the local GPU.\n",
        "\n",
        "This all runs."
      ]
    },
    {
      "cell_type": "code",
      "execution_count": null,
      "metadata": {
        "colab": {
          "base_uri": "https://localhost:8080/"
        },
        "id": "RRYSu48huSUW",
        "outputId": "af7ffc6c-c37f-429a-f2a3-953d3b27ddc0"
      },
      "outputs": [
        {
          "name": "stdout",
          "output_type": "stream",
          "text": [
            "\u001b[2K     \u001b[90m━━━━━━━━━━━━━━━━━━━━━━━━━━━━━━━━━━━━━━━━\u001b[0m \u001b[32m17.6/17.6 MB\u001b[0m \u001b[31m73.6 MB/s\u001b[0m eta \u001b[36m0:00:00\u001b[0m\n",
            "\u001b[?25h"
          ]
        }
      ],
      "source": [
        "!pip -q install langchain huggingface_hub openai google-search-results tiktoken chromadb rank_bm25 faiss-cpu"
      ]
    },
    {
      "cell_type": "code",
      "execution_count": 1,
      "metadata": {
        "id": "dNA4TsHpu6OM"
      },
      "outputs": [],
      "source": [
        "import os\n",
        "from getpass import getpass\n",
        "\n",
        "# enter your api key\n",
        "OPENAI_API_KEY = getpass(\"Enter your API key: \")\n",
        "os.environ[\"OPENAI_API_KEY\"] = OPENAI_API_KEY"
      ]
    },
    {
      "cell_type": "code",
      "execution_count": 3,
      "metadata": {
        "colab": {
          "base_uri": "https://localhost:8080/"
        },
        "id": "J-KFB7J_u_3L",
        "outputId": "27b3f544-bae7-4c02-99ec-b807c5d71a4d"
      },
      "outputs": [
        {
          "name": "stdout",
          "output_type": "stream",
          "text": [
            "Name: langchain\n",
            "Version: 0.0.350\n",
            "Summary: Building applications with LLMs through composability\n",
            "Home-page: https://github.com/langchain-ai/langchain\n",
            "Author: None\n",
            "Author-email: None\n",
            "License: MIT\n",
            "Location: /usr/local/lib/python3.8/dist-packages\n",
            "Requires: PyYAML, numpy, SQLAlchemy, requests, tenacity, langchain-community, dataclasses-json, langchain-core, jsonpatch, aiohttp, langsmith, pydantic, async-timeout\n",
            "Required-by: \n"
          ]
        }
      ],
      "source": [
        "!pip show langchain"
      ]
    },
    {
      "cell_type": "markdown",
      "metadata": {
        "id": "gJq7RFOw3ULM"
      },
      "source": [
        "# Hybrid Search"
      ]
    },
    {
      "cell_type": "markdown",
      "metadata": {
        "id": "HqwsGJDhvAQ5"
      },
      "source": [
        "## BM25 Retriever - Sparse retriever"
      ]
    },
    {
      "cell_type": "code",
      "execution_count": 4,
      "metadata": {
        "id": "Hv3UgdKiiuVr"
      },
      "outputs": [],
      "source": [
        "from langchain.retrievers import BM25Retriever, EnsembleRetriever\n",
        "from langchain.schema import Document\n",
        "\n",
        "from langchain.vectorstores import Chroma\n",
        "from langchain.vectorstores import FAISS\n",
        "\n",
        "from langchain.embeddings.openai import OpenAIEmbeddings\n",
        "embedding = OpenAIEmbeddings()\n"
      ]
    },
    {
      "cell_type": "code",
      "execution_count": 5,
      "metadata": {
        "id": "OB3IcjGDi6iF"
      },
      "outputs": [],
      "source": [
        "doc_list = [\n",
        "    \"I like apples\",\n",
        "    \"I like oranges\",\n",
        "    \"Apples and oranges are fruits\",\n",
        "    \"I like computers by Apple\",\n",
        "    \"I love fruit juice\"\n",
        "]"
      ]
    },
    {
      "cell_type": "code",
      "execution_count": 6,
      "metadata": {
        "id": "9-wZ1BTOa5fX"
      },
      "outputs": [],
      "source": [
        "# initialize the bm25 retriever and faiss retriever\n",
        "bm25_retriever = BM25Retriever.from_texts(doc_list)\n",
        "bm25_retriever.k = 2"
      ]
    },
    {
      "cell_type": "code",
      "execution_count": 7,
      "metadata": {
        "colab": {
          "base_uri": "https://localhost:8080/"
        },
        "id": "xLyCs04RlNZK",
        "outputId": "0c85926e-adf9-47fb-b505-ddede6e09ff6"
      },
      "outputs": [
        {
          "data": {
            "text/plain": [
              "[Document(page_content='I like computers by Apple'),\n",
              " Document(page_content='I love fruit juice')]"
            ]
          },
          "execution_count": 7,
          "metadata": {},
          "output_type": "execute_result"
        }
      ],
      "source": [
        "bm25_retriever.get_relevant_documents(\"Apple\")"
      ]
    },
    {
      "cell_type": "code",
      "execution_count": 8,
      "metadata": {
        "colab": {
          "base_uri": "https://localhost:8080/"
        },
        "id": "OsXDermTqLPS",
        "outputId": "f94cde8c-a250-46fa-f43e-fe92ead0ee41"
      },
      "outputs": [
        {
          "data": {
            "text/plain": [
              "[Document(page_content='I love fruit juice'),\n",
              " Document(page_content='I like computers by Apple')]"
            ]
          },
          "execution_count": 8,
          "metadata": {},
          "output_type": "execute_result"
        }
      ],
      "source": [
        "bm25_retriever.get_relevant_documents(\"a green fruit\")"
      ]
    },
    {
      "cell_type": "code",
      "execution_count": 9,
      "metadata": {
        "colab": {
          "base_uri": "https://localhost:8080/"
        },
        "id": "tOL_2o2tu3rm",
        "outputId": "a57d5ac9-f1d5-41ce-a828-d241ab339210"
      },
      "outputs": [
        {
          "data": {
            "text/plain": [
              "<bound method BaseModel.dict of BM25Retriever(vectorizer=<rank_bm25.BM25Okapi object at 0x7fc144046b20>, docs=[Document(page_content='I like apples'), Document(page_content='I like oranges'), Document(page_content='Apples and oranges are fruits'), Document(page_content='I like computers by Apple'), Document(page_content='I love fruit juice')], k=2)>"
            ]
          },
          "execution_count": 9,
          "metadata": {},
          "output_type": "execute_result"
        }
      ],
      "source": [
        "bm25_retriever.dict"
      ]
    },
    {
      "cell_type": "markdown",
      "metadata": {
        "id": "rfnepDqApZaN"
      },
      "source": [
        "## Embeddings - Dense retrievers FAISS"
      ]
    },
    {
      "cell_type": "code",
      "execution_count": 10,
      "metadata": {
        "id": "BUltC5DgpYZq"
      },
      "outputs": [],
      "source": [
        "faiss_vectorstore = FAISS.from_texts(doc_list, embedding)\n",
        "faiss_retriever = faiss_vectorstore.as_retriever(search_kwargs={\"k\": 2})"
      ]
    },
    {
      "cell_type": "code",
      "execution_count": 11,
      "metadata": {
        "colab": {
          "base_uri": "https://localhost:8080/"
        },
        "id": "lX6Z9C74qIx3",
        "outputId": "ebe80306-94cc-4edf-e0fb-7c1361f187f4"
      },
      "outputs": [
        {
          "data": {
            "text/plain": [
              "[Document(page_content='Apples and oranges are fruits'),\n",
              " Document(page_content='I like apples')]"
            ]
          },
          "execution_count": 11,
          "metadata": {},
          "output_type": "execute_result"
        }
      ],
      "source": [
        "faiss_retriever.get_relevant_documents(\"A green fruit\")"
      ]
    },
    {
      "cell_type": "markdown",
      "metadata": {
        "id": "bQxRGZPMa57_"
      },
      "source": [
        "## Ensemble Retriever"
      ]
    },
    {
      "cell_type": "code",
      "execution_count": 12,
      "metadata": {
        "id": "AAb6iSS2iUkN"
      },
      "outputs": [],
      "source": [
        "# initialize the ensemble retriever\n",
        "ensemble_retriever = EnsembleRetriever(retrievers=[bm25_retriever, faiss_retriever],\n",
        "                                       weights=[0.5, 0.5])"
      ]
    },
    {
      "cell_type": "code",
      "execution_count": 13,
      "metadata": {
        "colab": {
          "base_uri": "https://localhost:8080/"
        },
        "id": "GdMRuM6BiUm5",
        "outputId": "25156b06-2215-4d68-b24e-4b3a6a3d0acd"
      },
      "outputs": [
        {
          "data": {
            "text/plain": [
              "[Document(page_content='Apples and oranges are fruits'),\n",
              " Document(page_content='I love fruit juice'),\n",
              " Document(page_content='I like computers by Apple'),\n",
              " Document(page_content='I like apples')]"
            ]
          },
          "execution_count": 13,
          "metadata": {},
          "output_type": "execute_result"
        }
      ],
      "source": [
        "docs = ensemble_retriever.get_relevant_documents(\"A green fruit\")\n",
        "docs"
      ]
    },
    {
      "cell_type": "code",
      "execution_count": 14,
      "metadata": {
        "colab": {
          "base_uri": "https://localhost:8080/"
        },
        "id": "1KKRgSMFiUpX",
        "outputId": "aed20e28-f91e-4c00-9ff1-6e083d922432"
      },
      "outputs": [
        {
          "data": {
            "text/plain": [
              "[Document(page_content='I like computers by Apple'),\n",
              " Document(page_content='I like apples'),\n",
              " Document(page_content='I love fruit juice')]"
            ]
          },
          "execution_count": 14,
          "metadata": {},
          "output_type": "execute_result"
        }
      ],
      "source": [
        "docs = ensemble_retriever.get_relevant_documents(\"Apple Phones\")\n",
        "docs"
      ]
    }
  ],
  "metadata": {
    "colab": {
      "provenance": []
    },
    "kernelspec": {
      "display_name": "Python 3",
      "name": "python3"
    },
    "language_info": {
      "codemirror_mode": {
        "name": "ipython",
        "version": 3
      },
      "file_extension": ".py",
      "mimetype": "text/x-python",
      "name": "python",
      "nbconvert_exporter": "python",
      "pygments_lexer": "ipython3",
      "version": "3.8.10"
    }
  },
  "nbformat": 4,
  "nbformat_minor": 0
}
