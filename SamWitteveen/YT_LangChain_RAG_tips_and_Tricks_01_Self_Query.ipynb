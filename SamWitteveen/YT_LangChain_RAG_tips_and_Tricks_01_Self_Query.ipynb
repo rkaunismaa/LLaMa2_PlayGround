{
  "cells": [
    {
      "cell_type": "markdown",
      "metadata": {},
      "source": [
        "#### Tuesday, December 19, 2023\n",
        "\n",
        "[Advanced RAG 01 - Self Querying Retrieval](https://www.youtube.com/watch?v=f4LeWlt3T8Y&t=9s)\n",
        "\n",
        "https://colab.research.google.com/drive/1MEVagsVRce15lzd_KNb86oAJmQx_WyZp?usp=sharing\n",
        "\n",
        "This uses OpenAI: Used/Expired $4.45 / $38.00\n",
        "\n",
        "This all runs."
      ]
    },
    {
      "cell_type": "code",
      "execution_count": null,
      "metadata": {
        "id": "RRYSu48huSUW"
      },
      "outputs": [],
      "source": [
        "# !pip -q install langchain huggingface_hub openai google-search-results tiktoken chromadb lark"
      ]
    },
    {
      "cell_type": "code",
      "execution_count": 1,
      "metadata": {
        "id": "dNA4TsHpu6OM"
      },
      "outputs": [],
      "source": [
        "import os\n",
        "from getpass import getpass\n",
        "\n",
        "# enter your api key\n",
        "OPENAI_API_KEY = getpass(\"Enter your API key: \")\n",
        "os.environ[\"OPENAI_API_KEY\"] = OPENAI_API_KEY"
      ]
    },
    {
      "cell_type": "code",
      "execution_count": null,
      "metadata": {
        "colab": {
          "base_uri": "https://localhost:8080/"
        },
        "id": "J-KFB7J_u_3L",
        "outputId": "5154c6cc-91c8-498a-aa46-ffb41a098143"
      },
      "outputs": [],
      "source": [
        "!pip show langchain"
      ]
    },
    {
      "cell_type": "markdown",
      "metadata": {
        "id": "HqwsGJDhvAQ5"
      },
      "source": [
        "## Self-querying Retriever"
      ]
    },
    {
      "cell_type": "code",
      "execution_count": 2,
      "metadata": {
        "id": "IfCt8bhHNu9u"
      },
      "outputs": [],
      "source": [
        "from langchain.schema import Document\n",
        "from langchain.embeddings.openai import OpenAIEmbeddings\n",
        "from langchain.vectorstores import Chroma\n",
        "\n",
        "embeddings = OpenAIEmbeddings()\n",
        "\n"
      ]
    },
    {
      "cell_type": "markdown",
      "metadata": {
        "id": "YTDxLMs_vg8K"
      },
      "source": [
        "## Example data with metadata attached"
      ]
    },
    {
      "cell_type": "code",
      "execution_count": 3,
      "metadata": {
        "id": "eAazrw6RP9Y5"
      },
      "outputs": [],
      "source": [
        "docs = [\n",
        "    Document(\n",
        "        page_content=\"Complex, layered, rich red with dark fruit flavors\",\n",
        "        metadata={\"name\":\"Opus One\", \"year\": 2018, \"rating\": 96, \"grape\": \"Cabernet Sauvignon\", \"color\":\"red\", \"country\":\"USA\"},\n",
        "    ),\n",
        "    Document(\n",
        "        page_content=\"Luxurious, sweet wine with flavors of honey, apricot, and peach\",\n",
        "        metadata={\"name\":\"Château d'Yquem\", \"year\": 2015, \"rating\": 98, \"grape\": \"Sémillon\", \"color\":\"white\", \"country\":\"France\"},\n",
        "    ),\n",
        "    Document(\n",
        "        page_content=\"Full-bodied red with notes of black fruit and spice\",\n",
        "        metadata={\"name\":\"Penfolds Grange\", \"year\": 2017, \"rating\": 97, \"grape\": \"Shiraz\", \"color\":\"red\", \"country\":\"Australia\"},\n",
        "    ),\n",
        "    Document(\n",
        "        page_content=\"Elegant, balanced red with herbal and berry nuances\",\n",
        "        metadata={\"name\":\"Sassicaia\", \"year\": 2016, \"rating\": 95, \"grape\": \"Cabernet Franc\", \"color\":\"red\", \"country\":\"Italy\"},\n",
        "    ),\n",
        "    Document(\n",
        "        page_content=\"Highly sought-after Pinot Noir with red fruit and earthy notes\",\n",
        "        metadata={\"name\":\"Domaine de la Romanée-Conti\", \"year\": 2018, \"rating\": 100, \"grape\": \"Pinot Noir\", \"color\":\"red\", \"country\":\"France\"},\n",
        "    ),\n",
        "    Document(\n",
        "        page_content=\"Crisp white with tropical fruit and citrus flavors\",\n",
        "        metadata={\"name\":\"Cloudy Bay\", \"year\": 2021, \"rating\": 92, \"grape\": \"Sauvignon Blanc\", \"color\":\"white\", \"country\":\"New Zealand\"},\n",
        "    ),\n",
        "    Document(\n",
        "        page_content=\"Rich, complex Champagne with notes of brioche and citrus\",\n",
        "        metadata={\"name\":\"Krug Grande Cuvée\", \"year\": 2010, \"rating\": 93, \"grape\": \"Chardonnay blend\", \"color\":\"sparkling\", \"country\":\"New Zealand\"},\n",
        "    ),\n",
        "    Document(\n",
        "        page_content=\"Intense, dark fruit flavors with hints of chocolate\",\n",
        "        metadata={\"name\":\"Caymus Special Selection\", \"year\": 2018, \"rating\": 96, \"grape\": \"Cabernet Sauvignon\", \"color\":\"red\", \"country\":\"USA\"},\n",
        "    ),\n",
        "    Document(\n",
        "        page_content=\"Exotic, aromatic white with stone fruit and floral notes\",\n",
        "        metadata={\"name\":\"Jermann Vintage Tunina\", \"year\": 2020, \"rating\": 91, \"grape\": \"Sauvignon Blanc blend\", \"color\":\"white\", \"country\":\"Italy\"},\n",
        "    ),\n",
        "]\n",
        "vectorstore = Chroma.from_documents(docs, embeddings)"
      ]
    },
    {
      "cell_type": "markdown",
      "metadata": {
        "id": "M-DU2BD6sPJj"
      },
      "source": [
        "## Creating our self-querying retriever"
      ]
    },
    {
      "cell_type": "code",
      "execution_count": 4,
      "metadata": {
        "id": "GWW_t_MFsKC8"
      },
      "outputs": [],
      "source": [
        "from langchain.llms import OpenAI\n",
        "from langchain.retrievers.self_query.base import SelfQueryRetriever\n",
        "from langchain.chains.query_constructor.base import AttributeInfo\n",
        "\n",
        "metadata_field_info = [\n",
        "    AttributeInfo(\n",
        "        name=\"grape\",\n",
        "        description=\"The grape used to make the wine\",\n",
        "        type=\"string or list[string]\",\n",
        "    ),\n",
        "    AttributeInfo(\n",
        "        name=\"name\",\n",
        "        description=\"The name of the wine\",\n",
        "        type=\"string or list[string]\",\n",
        "    ),\n",
        "    AttributeInfo(\n",
        "        name=\"color\",\n",
        "        description=\"The color of the wine\",\n",
        "        type=\"string or list[string]\",\n",
        "    ),\n",
        "    AttributeInfo(\n",
        "        name=\"year\",\n",
        "        description=\"The year the wine was released\",\n",
        "        type=\"integer\",\n",
        "    ),\n",
        "    AttributeInfo(\n",
        "        name=\"country\",\n",
        "        description=\"The name of the country the wine comes from\",\n",
        "        type=\"string\",\n",
        "    ),\n",
        "    AttributeInfo(\n",
        "        name=\"rating\", description=\"The Robert Parker rating for the wine 0-100\", type=\"integer\" #float\n",
        "    ),\n",
        "]\n",
        "document_content_description = \"Brief description of the wine\"\n",
        "\n"
      ]
    },
    {
      "cell_type": "code",
      "execution_count": 5,
      "metadata": {
        "id": "Cjo9-YU5rCnv"
      },
      "outputs": [],
      "source": [
        "llm = OpenAI(temperature=0)\n",
        "\n",
        "retriever = SelfQueryRetriever.from_llm(\n",
        "    llm,\n",
        "    vectorstore,\n",
        "    document_content_description,\n",
        "    metadata_field_info,\n",
        "    verbose=True\n",
        ")"
      ]
    },
    {
      "cell_type": "code",
      "execution_count": 6,
      "metadata": {
        "colab": {
          "base_uri": "https://localhost:8080/"
        },
        "id": "6fNUskHNsRsL",
        "outputId": "4424f3ca-0375-4723-fc0f-f34a4d15d691"
      },
      "outputs": [
        {
          "data": {
            "text/plain": [
              "[Document(page_content='Elegant, balanced red with herbal and berry nuances', metadata={'name': 'Sassicaia', 'year': 2016, 'rating': 95, 'grape': 'Cabernet Franc', 'color': 'red', 'country': 'Italy'}),\n",
              " Document(page_content='Complex, layered, rich red with dark fruit flavors', metadata={'name': 'Opus One', 'year': 2018, 'rating': 96, 'grape': 'Cabernet Sauvignon', 'color': 'red', 'country': 'USA'}),\n",
              " Document(page_content='Highly sought-after Pinot Noir with red fruit and earthy notes', metadata={'name': 'Domaine de la Romanée-Conti', 'year': 2018, 'rating': 100, 'grape': 'Pinot Noir', 'color': 'red', 'country': 'France'}),\n",
              " Document(page_content='Intense, dark fruit flavors with hints of chocolate', metadata={'name': 'Caymus Special Selection', 'year': 2018, 'rating': 96, 'grape': 'Cabernet Sauvignon', 'color': 'red', 'country': 'USA'})]"
            ]
          },
          "execution_count": 6,
          "metadata": {},
          "output_type": "execute_result"
        }
      ],
      "source": [
        "# This example only specifies a relevant query\n",
        "retriever.get_relevant_documents(\"What are some red wines\")"
      ]
    },
    {
      "cell_type": "code",
      "execution_count": 7,
      "metadata": {
        "colab": {
          "base_uri": "https://localhost:8080/"
        },
        "id": "xZlJud7_s3Ng",
        "outputId": "8530e504-c061-4b56-f995-d35cee5eb5bd"
      },
      "outputs": [
        {
          "data": {
            "text/plain": [
              "[Document(page_content='Intense, dark fruit flavors with hints of chocolate', metadata={'name': 'Caymus Special Selection', 'year': 2018, 'rating': 96, 'grape': 'Cabernet Sauvignon', 'color': 'red', 'country': 'USA'}),\n",
              " Document(page_content='Crisp white with tropical fruit and citrus flavors', metadata={'name': 'Cloudy Bay', 'year': 2021, 'rating': 92, 'grape': 'Sauvignon Blanc', 'color': 'white', 'country': 'New Zealand'}),\n",
              " Document(page_content='Luxurious, sweet wine with flavors of honey, apricot, and peach', metadata={'name': \"Château d'Yquem\", 'year': 2015, 'rating': 98, 'grape': 'Sémillon', 'color': 'white', 'country': 'France'}),\n",
              " Document(page_content='Complex, layered, rich red with dark fruit flavors', metadata={'name': 'Opus One', 'year': 2018, 'rating': 96, 'grape': 'Cabernet Sauvignon', 'color': 'red', 'country': 'USA'})]"
            ]
          },
          "execution_count": 7,
          "metadata": {},
          "output_type": "execute_result"
        }
      ],
      "source": [
        "\n",
        "retriever.get_relevant_documents(\"I want a wine that has fruity nodes\")"
      ]
    },
    {
      "cell_type": "code",
      "execution_count": 8,
      "metadata": {
        "colab": {
          "base_uri": "https://localhost:8080/"
        },
        "id": "fcGVyKpwtOAJ",
        "outputId": "7d67ac94-8498-47a2-c04b-7b65eff9b85c"
      },
      "outputs": [
        {
          "data": {
            "text/plain": [
              "[Document(page_content='Luxurious, sweet wine with flavors of honey, apricot, and peach', metadata={'name': \"Château d'Yquem\", 'year': 2015, 'rating': 98, 'grape': 'Sémillon', 'color': 'white', 'country': 'France'}),\n",
              " Document(page_content='Highly sought-after Pinot Noir with red fruit and earthy notes', metadata={'name': 'Domaine de la Romanée-Conti', 'year': 2018, 'rating': 100, 'grape': 'Pinot Noir', 'color': 'red', 'country': 'France'})]"
            ]
          },
          "execution_count": 8,
          "metadata": {},
          "output_type": "execute_result"
        }
      ],
      "source": [
        "# This example specifies a query and a filter\n",
        "retriever.get_relevant_documents(\"I want a wine that has fruity nodes and has a rating above 97\")"
      ]
    },
    {
      "cell_type": "code",
      "execution_count": 9,
      "metadata": {
        "colab": {
          "base_uri": "https://localhost:8080/"
        },
        "id": "C5Qw1u9FtSRm",
        "outputId": "28a9f0a7-77bf-46a4-8014-030b17744dcb"
      },
      "outputs": [
        {
          "data": {
            "text/plain": [
              "[Document(page_content='Elegant, balanced red with herbal and berry nuances', metadata={'name': 'Sassicaia', 'year': 2016, 'rating': 95, 'grape': 'Cabernet Franc', 'color': 'red', 'country': 'Italy'}),\n",
              " Document(page_content='Exotic, aromatic white with stone fruit and floral notes', metadata={'name': 'Jermann Vintage Tunina', 'year': 2020, 'rating': 91, 'grape': 'Sauvignon Blanc blend', 'color': 'white', 'country': 'Italy'})]"
            ]
          },
          "execution_count": 9,
          "metadata": {},
          "output_type": "execute_result"
        }
      ],
      "source": [
        "\n",
        "retriever.get_relevant_documents(\n",
        "    \"What wines come from Italy?\"\n",
        ")"
      ]
    },
    {
      "cell_type": "code",
      "execution_count": 10,
      "metadata": {
        "colab": {
          "base_uri": "https://localhost:8080/"
        },
        "id": "RBwo26n0taDI",
        "outputId": "8e67087c-903d-4630-984b-44b54196ba0a"
      },
      "outputs": [
        {
          "data": {
            "text/plain": [
              "[Document(page_content='Elegant, balanced red with herbal and berry nuances', metadata={'name': 'Sassicaia', 'year': 2016, 'rating': 95, 'grape': 'Cabernet Franc', 'color': 'red', 'country': 'Italy'}),\n",
              " Document(page_content='Highly sought-after Pinot Noir with red fruit and earthy notes', metadata={'name': 'Domaine de la Romanée-Conti', 'year': 2018, 'rating': 100, 'grape': 'Pinot Noir', 'color': 'red', 'country': 'France'}),\n",
              " Document(page_content='Full-bodied red with notes of black fruit and spice', metadata={'name': 'Penfolds Grange', 'year': 2017, 'rating': 97, 'grape': 'Shiraz', 'color': 'red', 'country': 'Australia'}),\n",
              " Document(page_content='Complex, layered, rich red with dark fruit flavors', metadata={'name': 'Opus One', 'year': 2018, 'rating': 96, 'grape': 'Cabernet Sauvignon', 'color': 'red', 'country': 'USA'})]"
            ]
          },
          "execution_count": 10,
          "metadata": {},
          "output_type": "execute_result"
        }
      ],
      "source": [
        "# This example specifies a query and composite filter\n",
        "retriever.get_relevant_documents(\n",
        "    \"What's a wine after 2015 but before 2020 that's all earthy\"\n",
        ")"
      ]
    },
    {
      "cell_type": "markdown",
      "metadata": {
        "id": "0ucdYJ-gtoIP"
      },
      "source": [
        "## Filter K\n",
        "\n",
        "We can also use the self query retriever to specify k: the number of documents to fetch.\n",
        "\n",
        "We can do this by passing enable_limit=True to the constructor."
      ]
    },
    {
      "cell_type": "code",
      "execution_count": 11,
      "metadata": {
        "id": "oH3JPClFthXq"
      },
      "outputs": [],
      "source": [
        "retriever = SelfQueryRetriever.from_llm(\n",
        "    llm,\n",
        "    vectorstore,\n",
        "    document_content_description,\n",
        "    metadata_field_info,\n",
        "    enable_limit=True,\n",
        "    verbose=True,\n",
        ")"
      ]
    },
    {
      "cell_type": "code",
      "execution_count": 12,
      "metadata": {
        "colab": {
          "base_uri": "https://localhost:8080/"
        },
        "id": "0D5eUK47txEs",
        "outputId": "f4f136c9-56f7-4519-ea63-5b7d0c378372"
      },
      "outputs": [
        {
          "data": {
            "text/plain": [
              "[Document(page_content='Luxurious, sweet wine with flavors of honey, apricot, and peach', metadata={'name': \"Château d'Yquem\", 'year': 2015, 'rating': 98, 'grape': 'Sémillon', 'color': 'white', 'country': 'France'}),\n",
              " Document(page_content='Highly sought-after Pinot Noir with red fruit and earthy notes', metadata={'name': 'Domaine de la Romanée-Conti', 'year': 2018, 'rating': 100, 'grape': 'Pinot Noir', 'color': 'red', 'country': 'France'})]"
            ]
          },
          "execution_count": 12,
          "metadata": {},
          "output_type": "execute_result"
        }
      ],
      "source": [
        "# This example only specifies a relevant query - k= 2\n",
        "retriever.get_relevant_documents(\"what are two that have a rating above 97\")"
      ]
    },
    {
      "cell_type": "code",
      "execution_count": 13,
      "metadata": {
        "colab": {
          "base_uri": "https://localhost:8080/"
        },
        "id": "P5ahYRXet4ka",
        "outputId": "83a249d0-dcf8-42e7-dee2-4dceb91365c9"
      },
      "outputs": [
        {
          "data": {
            "text/plain": [
              "[Document(page_content='Crisp white with tropical fruit and citrus flavors', metadata={'name': 'Cloudy Bay', 'year': 2021, 'rating': 92, 'grape': 'Sauvignon Blanc', 'color': 'white', 'country': 'New Zealand'}),\n",
              " Document(page_content='Full-bodied red with notes of black fruit and spice', metadata={'name': 'Penfolds Grange', 'year': 2017, 'rating': 97, 'grape': 'Shiraz', 'color': 'red', 'country': 'Australia'})]"
            ]
          },
          "execution_count": 13,
          "metadata": {},
          "output_type": "execute_result"
        }
      ],
      "source": [
        "retriever.get_relevant_documents(\"what are two wines that come from australia or New zealand\")"
      ]
    },
    {
      "cell_type": "code",
      "execution_count": null,
      "metadata": {
        "id": "myyqiovlsqyG"
      },
      "outputs": [],
      "source": []
    }
  ],
  "metadata": {
    "colab": {
      "provenance": []
    },
    "kernelspec": {
      "display_name": "Python 3",
      "name": "python3"
    },
    "language_info": {
      "codemirror_mode": {
        "name": "ipython",
        "version": 3
      },
      "file_extension": ".py",
      "mimetype": "text/x-python",
      "name": "python",
      "nbconvert_exporter": "python",
      "pygments_lexer": "ipython3",
      "version": "3.8.10"
    }
  },
  "nbformat": 4,
  "nbformat_minor": 0
}
