{
 "cells": [
  {
   "cell_type": "markdown",
   "metadata": {},
   "source": [
    "#### Saturday, February 24, 2024\n",
    "\n",
    "Let's try to conduct a search for images of a specific person on the Match images."
   ]
  },
  {
   "cell_type": "code",
   "execution_count": 1,
   "metadata": {},
   "outputs": [
    {
     "name": "stderr",
     "output_type": "stream",
     "text": [
      "/home/rob/miniforge3/envs/milvus/lib/python3.11/site-packages/pydantic/_internal/_fields.py:151: UserWarning: Field \"model_name\" has conflict with protected namespace \"model_\".\n",
      "\n",
      "You may be able to resolve this warning by setting `model_config['protected_namespaces'] = ()`.\n",
      "  warnings.warn(\n"
     ]
    }
   ],
   "source": [
    "import cv2\n",
    "import numpy\n",
    "import time\n",
    "import csv\n",
    "from glob import glob\n",
    "from pathlib import Path\n",
    "from statistics import mean\n",
    "\n",
    "from towhee import pipe, ops, DataCollection\n",
    "from towhee.types.image import Image\n",
    "from pymilvus import connections, FieldSchema, CollectionSchema, DataType, Collection, utility"
   ]
  },
  {
   "cell_type": "markdown",
   "metadata": {},
   "source": [
    "First thing we need to do is to build a list of all the images in our MyMatchImages dataset."
   ]
  },
  {
   "cell_type": "code",
   "execution_count": 5,
   "metadata": {},
   "outputs": [],
   "source": [
    "MY_MATCH_IMAGES_ROOT_FOLDER = '/home/rob/Data/Documents/Github/rkaunismaa/NLP4HTML/express/express-match/public/images'"
   ]
  },
  {
   "cell_type": "markdown",
   "metadata": {},
   "source": [
    "Create a function to scan the folder and return the list of files."
   ]
  },
  {
   "cell_type": "code",
   "execution_count": 27,
   "metadata": {},
   "outputs": [],
   "source": [
    "import os\n",
    "import pandas as pd\n",
    "import numpy as np\n",
    "from PIL import Image\n",
    "\n",
    "def scan_images(folder_path):\n",
    "    image_files = []\n",
    "    for root, dirs, files in os.walk(folder_path):\n",
    "        for file in files:\n",
    "            if file.lower().endswith(('.png', '.jpg', '.jpeg', '.gif', '.bmp', '.tiff')):\n",
    "\n",
    "                fullFileName = os.path.join(root, file)\n",
    "                rootFile = fullFileName.replace(folder_path+\"/\",\"\")\n",
    "                userId = rootFile.replace(\"/\"+ file,\"\")\n",
    "                \n",
    "                # obtain the image properties\n",
    "                img = Image.open(fullFileName)\n",
    "                width, height = img.size\n",
    "                format_type = img.format\n",
    "                mode = img.mode\n",
    "                img.close()\n",
    "\n",
    "                image_files.append([fullFileName, rootFile, userId, file, width, height, format_type, mode])\n",
    "                \n",
    "    return image_files"
   ]
  },
  {
   "cell_type": "markdown",
   "metadata": {},
   "source": [
    "Now scan the target folder, building the list of files to be uploaded."
   ]
  },
  {
   "cell_type": "code",
   "execution_count": 28,
   "metadata": {},
   "outputs": [
    {
     "data": {
      "text/plain": [
       "19650"
      ]
     },
     "execution_count": 28,
     "metadata": {},
     "output_type": "execute_result"
    }
   ],
   "source": [
    "my_match_images = scan_images(MY_MATCH_IMAGES_ROOT_FOLDER)\n",
    "len(my_match_images)"
   ]
  },
  {
   "cell_type": "code",
   "execution_count": 29,
   "metadata": {},
   "outputs": [
    {
     "data": {
      "text/plain": [
       "['/home/rob/Data/Documents/Github/rkaunismaa/NLP4HTML/express/express-match/public/images/mzMSydVu3xfI_soFv4UliA2/af1eb47f-0d1d-ee11-9101-f40343f49558.jpeg',\n",
       " 'mzMSydVu3xfI_soFv4UliA2/af1eb47f-0d1d-ee11-9101-f40343f49558.jpeg',\n",
       " 'mzMSydVu3xfI_soFv4UliA2',\n",
       " 'af1eb47f-0d1d-ee11-9101-f40343f49558.jpeg',\n",
       " 900,\n",
       " 1000,\n",
       " 'JPEG',\n",
       " 'RGB']"
      ]
     },
     "execution_count": 29,
     "metadata": {},
     "output_type": "execute_result"
    }
   ],
   "source": [
    "my_match_images[42]"
   ]
  },
  {
   "cell_type": "markdown",
   "metadata": {},
   "source": [
    "Create a pandas dataframe of the data, then save that dataframe as a csv file."
   ]
  },
  {
   "cell_type": "code",
   "execution_count": 18,
   "metadata": {},
   "outputs": [],
   "source": [
    "column_names = ['Full_File_Name', 'Root_File_Name', 'User_Id', 'File_Name', 'Image_Width', 'Image_Height', 'Image_Format', 'Image_Mode']"
   ]
  },
  {
   "cell_type": "code",
   "execution_count": 30,
   "metadata": {},
   "outputs": [],
   "source": [
    "dfMyMatchImages = pd.DataFrame(my_match_images, columns=column_names)"
   ]
  },
  {
   "cell_type": "code",
   "execution_count": 31,
   "metadata": {},
   "outputs": [
    {
     "data": {
      "text/html": [
       "<div>\n",
       "<style scoped>\n",
       "    .dataframe tbody tr th:only-of-type {\n",
       "        vertical-align: middle;\n",
       "    }\n",
       "\n",
       "    .dataframe tbody tr th {\n",
       "        vertical-align: top;\n",
       "    }\n",
       "\n",
       "    .dataframe thead th {\n",
       "        text-align: right;\n",
       "    }\n",
       "</style>\n",
       "<table border=\"1\" class=\"dataframe\">\n",
       "  <thead>\n",
       "    <tr style=\"text-align: right;\">\n",
       "      <th></th>\n",
       "      <th>Full_File_Name</th>\n",
       "      <th>Root_File_Name</th>\n",
       "      <th>User_Id</th>\n",
       "      <th>File_Name</th>\n",
       "      <th>Image_Width</th>\n",
       "      <th>Image_Height</th>\n",
       "      <th>Image_Format</th>\n",
       "      <th>Image_Mode</th>\n",
       "    </tr>\n",
       "  </thead>\n",
       "  <tbody>\n",
       "    <tr>\n",
       "      <th>0</th>\n",
       "      <td>/home/rob/Data/Documents/Github/rkaunismaa/NLP...</td>\n",
       "      <td>zwuhN2JsKCYu_bHIYadOig2/3ceb7bf7-c70f-ee11-910...</td>\n",
       "      <td>zwuhN2JsKCYu_bHIYadOig2</td>\n",
       "      <td>3ceb7bf7-c70f-ee11-9101-f40343f42de0.jpeg</td>\n",
       "      <td>1000</td>\n",
       "      <td>1000</td>\n",
       "      <td>JPEG</td>\n",
       "      <td>RGB</td>\n",
       "    </tr>\n",
       "    <tr>\n",
       "      <th>1</th>\n",
       "      <td>/home/rob/Data/Documents/Github/rkaunismaa/NLP...</td>\n",
       "      <td>zwuhN2JsKCYu_bHIYadOig2/6baa1d11-c80f-ee11-910...</td>\n",
       "      <td>zwuhN2JsKCYu_bHIYadOig2</td>\n",
       "      <td>6baa1d11-c80f-ee11-9101-f40343f42de0.jpeg</td>\n",
       "      <td>712</td>\n",
       "      <td>711</td>\n",
       "      <td>JPEG</td>\n",
       "      <td>RGB</td>\n",
       "    </tr>\n",
       "    <tr>\n",
       "      <th>2</th>\n",
       "      <td>/home/rob/Data/Documents/Github/rkaunismaa/NLP...</td>\n",
       "      <td>zwuhN2JsKCYu_bHIYadOig2/a71566ad-c80f-ee11-910...</td>\n",
       "      <td>zwuhN2JsKCYu_bHIYadOig2</td>\n",
       "      <td>a71566ad-c80f-ee11-9101-f40343f42de0.jpeg</td>\n",
       "      <td>772</td>\n",
       "      <td>771</td>\n",
       "      <td>JPEG</td>\n",
       "      <td>RGB</td>\n",
       "    </tr>\n",
       "    <tr>\n",
       "      <th>3</th>\n",
       "      <td>/home/rob/Data/Documents/Github/rkaunismaa/NLP...</td>\n",
       "      <td>zwuhN2JsKCYu_bHIYadOig2/4da52ed3-c70f-ee11-910...</td>\n",
       "      <td>zwuhN2JsKCYu_bHIYadOig2</td>\n",
       "      <td>4da52ed3-c70f-ee11-9101-f40343f42de0.jpeg</td>\n",
       "      <td>999</td>\n",
       "      <td>1000</td>\n",
       "      <td>JPEG</td>\n",
       "      <td>RGB</td>\n",
       "    </tr>\n",
       "    <tr>\n",
       "      <th>4</th>\n",
       "      <td>/home/rob/Data/Documents/Github/rkaunismaa/NLP...</td>\n",
       "      <td>zwuhN2JsKCYu_bHIYadOig2/1fc57056-c80f-ee11-910...</td>\n",
       "      <td>zwuhN2JsKCYu_bHIYadOig2</td>\n",
       "      <td>1fc57056-c80f-ee11-9101-f40343f42de0.jpeg</td>\n",
       "      <td>804</td>\n",
       "      <td>804</td>\n",
       "      <td>JPEG</td>\n",
       "      <td>RGB</td>\n",
       "    </tr>\n",
       "  </tbody>\n",
       "</table>\n",
       "</div>"
      ],
      "text/plain": [
       "                                      Full_File_Name  \\\n",
       "0  /home/rob/Data/Documents/Github/rkaunismaa/NLP...   \n",
       "1  /home/rob/Data/Documents/Github/rkaunismaa/NLP...   \n",
       "2  /home/rob/Data/Documents/Github/rkaunismaa/NLP...   \n",
       "3  /home/rob/Data/Documents/Github/rkaunismaa/NLP...   \n",
       "4  /home/rob/Data/Documents/Github/rkaunismaa/NLP...   \n",
       "\n",
       "                                      Root_File_Name                  User_Id  \\\n",
       "0  zwuhN2JsKCYu_bHIYadOig2/3ceb7bf7-c70f-ee11-910...  zwuhN2JsKCYu_bHIYadOig2   \n",
       "1  zwuhN2JsKCYu_bHIYadOig2/6baa1d11-c80f-ee11-910...  zwuhN2JsKCYu_bHIYadOig2   \n",
       "2  zwuhN2JsKCYu_bHIYadOig2/a71566ad-c80f-ee11-910...  zwuhN2JsKCYu_bHIYadOig2   \n",
       "3  zwuhN2JsKCYu_bHIYadOig2/4da52ed3-c70f-ee11-910...  zwuhN2JsKCYu_bHIYadOig2   \n",
       "4  zwuhN2JsKCYu_bHIYadOig2/1fc57056-c80f-ee11-910...  zwuhN2JsKCYu_bHIYadOig2   \n",
       "\n",
       "                                   File_Name  Image_Width  Image_Height  \\\n",
       "0  3ceb7bf7-c70f-ee11-9101-f40343f42de0.jpeg         1000          1000   \n",
       "1  6baa1d11-c80f-ee11-9101-f40343f42de0.jpeg          712           711   \n",
       "2  a71566ad-c80f-ee11-9101-f40343f42de0.jpeg          772           771   \n",
       "3  4da52ed3-c70f-ee11-9101-f40343f42de0.jpeg          999          1000   \n",
       "4  1fc57056-c80f-ee11-9101-f40343f42de0.jpeg          804           804   \n",
       "\n",
       "  Image_Format Image_Mode  \n",
       "0         JPEG        RGB  \n",
       "1         JPEG        RGB  \n",
       "2         JPEG        RGB  \n",
       "3         JPEG        RGB  \n",
       "4         JPEG        RGB  "
      ]
     },
     "execution_count": 31,
     "metadata": {},
     "output_type": "execute_result"
    }
   ],
   "source": [
    "dfMyMatchImages.head()"
   ]
  },
  {
   "cell_type": "markdown",
   "metadata": {},
   "source": [
    "Now save that dataframe to a csv file."
   ]
  },
  {
   "cell_type": "code",
   "execution_count": 34,
   "metadata": {},
   "outputs": [],
   "source": [
    "my_match_images_csv_filename = \"MyMatchImages.csv\"\n",
    "dfMyMatchImages.to_csv(my_match_images_csv_filename)"
   ]
  },
  {
   "cell_type": "markdown",
   "metadata": {},
   "source": [
    "Next, let's create the embeddings for these images."
   ]
  },
  {
   "cell_type": "code",
   "execution_count": 35,
   "metadata": {},
   "outputs": [],
   "source": [
    "MODEL = 'resnet50'\n",
    "DEVICE = None # if None, use default device (cuda is enabled if available)\n",
    "\n",
    "# Milvus parameters\n",
    "HOST = '127.0.0.1'\n",
    "PORT = '19530'\n",
    "TOPK = 10\n",
    "DIM = 2048 # dimension of embedding extracted by MODEL\n",
    "COLLECTION_NAME = 'My_Match_Images'\n",
    "INDEX_TYPE = 'IVF_FLAT'\n",
    "METRIC_TYPE = 'L2'\n",
    "\n",
    "# path to csv (column_1 indicates image path) OR a pattern of image paths\n",
    "INSERT_SRC = my_match_images_csv_filename\n",
    "\n",
    "# target match query search image\n",
    "someMatchImage = 'ko1yxtyDnBYUnshNvpaiAw2/df2d5f53-5683-ed11-90fd-f40343f49558.jpeg'\n",
    "QUERY_SRC = MY_MATCH_IMAGES_ROOT_FOLDER + \"/\" + someMatchImage"
   ]
  },
  {
   "cell_type": "code",
   "execution_count": 37,
   "metadata": {},
   "outputs": [],
   "source": [
    "# Create milvus collection (delete first if exists)\n",
    "def create_milvus_collection(collection_name, dim):\n",
    "    \n",
    "    if utility.has_collection(collection_name):\n",
    "        utility.drop_collection(collection_name)\n",
    "    \n",
    "    fields = [\n",
    "        FieldSchema(name='path', dtype=DataType.VARCHAR, description='path to image', max_length=500, \n",
    "                    is_primary=True, auto_id=False),\n",
    "        FieldSchema(name='embedding', dtype=DataType.FLOAT_VECTOR, description='image embedding vectors', dim=dim)\n",
    "    ]\n",
    "    schema = CollectionSchema(fields=fields, description='reverse image search')\n",
    "    collection = Collection(name=collection_name, schema=schema)\n",
    "\n",
    "    index_params = {\n",
    "        'metric_type': METRIC_TYPE,\n",
    "        'index_type': INDEX_TYPE,\n",
    "        'params': {\"nlist\": 2048}\n",
    "    }\n",
    "    collection.create_index(field_name='embedding', index_params=index_params)\n",
    "    return collection"
   ]
  },
  {
   "cell_type": "code",
   "execution_count": 39,
   "metadata": {},
   "outputs": [],
   "source": [
    "# Read images\n",
    "decoder = ops.image_decode('rgb').get_op()\n",
    "\n",
    "def read_images(img_paths):\n",
    "    imgs = []\n",
    "    for p in img_paths:\n",
    "        img = decoder(p)\n",
    "        imgs.append(img)\n",
    "#         imgs.append(Image(cv2.imread(p), 'RGB'))\n",
    "    return imgs"
   ]
  },
  {
   "cell_type": "code",
   "execution_count": 40,
   "metadata": {},
   "outputs": [],
   "source": [
    "# Embedding pipeline\n",
    "p_embed = (\n",
    "    pipe.input('img_path')\n",
    "        .map('img_path', 'img', ops.image_decode('rgb'))\n",
    "        .map('img', 'vec', ops.image_embedding.timm(model_name=MODEL, device=DEVICE))\n",
    "        .map('vec', 'vec', lambda x: x / numpy.linalg.norm(x, axis=0))\n",
    ")"
   ]
  },
  {
   "cell_type": "code",
   "execution_count": 41,
   "metadata": {},
   "outputs": [],
   "source": [
    "to_insert = glob(INSERT_SRC)\n",
    "to_test = glob(QUERY_SRC)"
   ]
  },
  {
   "cell_type": "code",
   "execution_count": 43,
   "metadata": {},
   "outputs": [
    {
     "data": {
      "text/plain": [
       "['MyMatchImages.csv']"
      ]
     },
     "execution_count": 43,
     "metadata": {},
     "output_type": "execute_result"
    }
   ],
   "source": [
    "to_insert"
   ]
  },
  {
   "cell_type": "code",
   "execution_count": 42,
   "metadata": {},
   "outputs": [
    {
     "name": "stderr",
     "output_type": "stream",
     "text": [
      "2024-02-24 12:03:40,278 - 140526246291008 - image_decode_cv2.py-image_decode_cv2:68 - ERROR: Read image MyMatchImages.csv failed\n"
     ]
    },
    {
     "ename": "RuntimeError",
     "evalue": "Node-image-decode-0 runs failed, error msg: Read image MyMatchImages.csv failed, Traceback (most recent call last):\n  File \"/home/rob/miniforge3/envs/milvus/lib/python3.11/site-packages/towhee/runtime/nodes/node.py\", line 158, in _call\n    return True, self._op(*inputs), None\n                 ^^^^^^^^^^^^^^^^^\n  File \"/home/rob/.towhee/operators/towhee/image-decode/versions/main/image_decode.py\", line 14, in __call__\n    return self._op(image_path)\n           ^^^^^^^^^^^^^^^^^^^^\n  File \"/home/rob/miniforge3/envs/milvus/lib/python3.11/site-packages/towhee/runtime/factory.py\", line 125, in __call__\n    result = self._op(*args, **kws)\n             ^^^^^^^^^^^^^^^^^^^^^^\n  File \"/home/rob/.towhee/operators/image-decode/cv2/versions/main/image_decode_cv2.py\", line 69, in __call__\n    raise RuntimeError(err)\nRuntimeError: Read image MyMatchImages.csv failed\n, Traceback (most recent call last):\n  File \"/home/rob/miniforge3/envs/milvus/lib/python3.11/site-packages/towhee/runtime/nodes/node.py\", line 171, in process\n    self.process_step()\n  File \"/home/rob/miniforge3/envs/milvus/lib/python3.11/site-packages/towhee/runtime/nodes/_map.py\", line 63, in process_step\n    assert succ, msg\nAssertionError: Read image MyMatchImages.csv failed, Traceback (most recent call last):\n  File \"/home/rob/miniforge3/envs/milvus/lib/python3.11/site-packages/towhee/runtime/nodes/node.py\", line 158, in _call\n    return True, self._op(*inputs), None\n                 ^^^^^^^^^^^^^^^^^\n  File \"/home/rob/.towhee/operators/towhee/image-decode/versions/main/image_decode.py\", line 14, in __call__\n    return self._op(image_path)\n           ^^^^^^^^^^^^^^^^^^^^\n  File \"/home/rob/miniforge3/envs/milvus/lib/python3.11/site-packages/towhee/runtime/factory.py\", line 125, in __call__\n    result = self._op(*args, **kws)\n             ^^^^^^^^^^^^^^^^^^^^^^\n  File \"/home/rob/.towhee/operators/image-decode/cv2/versions/main/image_decode_cv2.py\", line 69, in __call__\n    raise RuntimeError(err)\nRuntimeError: Read image MyMatchImages.csv failed\n\n\n",
     "output_type": "error",
     "traceback": [
      "\u001b[0;31m---------------------------------------------------------------------------\u001b[0m",
      "\u001b[0;31mRuntimeError\u001b[0m                              Traceback (most recent call last)",
      "Cell \u001b[0;32mIn[42], line 4\u001b[0m\n\u001b[1;32m      1\u001b[0m \u001b[38;5;66;03m# Display embedding result, no need for implementation\u001b[39;00m\n\u001b[1;32m      2\u001b[0m p_display \u001b[38;5;241m=\u001b[39m p_embed\u001b[38;5;241m.\u001b[39moutput(\u001b[38;5;124m'\u001b[39m\u001b[38;5;124mimg_path\u001b[39m\u001b[38;5;124m'\u001b[39m, \u001b[38;5;124m'\u001b[39m\u001b[38;5;124mimg\u001b[39m\u001b[38;5;124m'\u001b[39m, \u001b[38;5;124m'\u001b[39m\u001b[38;5;124mvec\u001b[39m\u001b[38;5;124m'\u001b[39m)\n\u001b[0;32m----> 4\u001b[0m DataCollection(\u001b[43mp_display\u001b[49m\u001b[43m(\u001b[49m\u001b[43mto_insert\u001b[49m\u001b[43m[\u001b[49m\u001b[38;5;241;43m0\u001b[39;49m\u001b[43m]\u001b[49m\u001b[43m)\u001b[49m)\u001b[38;5;241m.\u001b[39mshow()\n",
      "File \u001b[0;32m~/miniforge3/envs/milvus/lib/python3.11/site-packages/towhee/runtime/runtime_pipeline.py:159\u001b[0m, in \u001b[0;36mRuntimePipeline.__call__\u001b[0;34m(self, *inputs)\u001b[0m\n\u001b[1;32m    155\u001b[0m \u001b[38;5;28;01mdef\u001b[39;00m \u001b[38;5;21m__call__\u001b[39m(\u001b[38;5;28mself\u001b[39m, \u001b[38;5;241m*\u001b[39minputs):\n\u001b[1;32m    156\u001b[0m \u001b[38;5;250m    \u001b[39m\u001b[38;5;124;03m\"\"\"\u001b[39;00m\n\u001b[1;32m    157\u001b[0m \u001b[38;5;124;03m    Output with ordering matching the input `DataQueue`.\u001b[39;00m\n\u001b[1;32m    158\u001b[0m \u001b[38;5;124;03m    \"\"\"\u001b[39;00m\n\u001b[0;32m--> 159\u001b[0m     \u001b[38;5;28;01mreturn\u001b[39;00m \u001b[38;5;28;43mself\u001b[39;49m\u001b[38;5;241;43m.\u001b[39;49m\u001b[43m_call\u001b[49m\u001b[43m(\u001b[49m\u001b[38;5;241;43m*\u001b[39;49m\u001b[43minputs\u001b[49m\u001b[43m,\u001b[49m\u001b[43m \u001b[49m\u001b[43mprofiler\u001b[49m\u001b[38;5;241;43m=\u001b[39;49m\u001b[38;5;28;43;01mFalse\u001b[39;49;00m\u001b[43m,\u001b[49m\u001b[43m \u001b[49m\u001b[43mtracer\u001b[49m\u001b[38;5;241;43m=\u001b[39;49m\u001b[38;5;28;43;01mFalse\u001b[39;49;00m\u001b[43m)\u001b[49m[\u001b[38;5;241m0\u001b[39m]\n",
      "File \u001b[0;32m~/miniforge3/envs/milvus/lib/python3.11/site-packages/towhee/runtime/runtime_pipeline.py:177\u001b[0m, in \u001b[0;36mRuntimePipeline._call\u001b[0;34m(self, profiler, tracer, trace_edges, *inputs)\u001b[0m\n\u001b[1;32m    174\u001b[0m time_profiler \u001b[38;5;241m=\u001b[39m TimeProfiler(\u001b[38;5;28;01mTrue\u001b[39;00m) \u001b[38;5;28;01mif\u001b[39;00m profiler \u001b[38;5;28;01melse\u001b[39;00m TimeProfiler(\u001b[38;5;28;01mFalse\u001b[39;00m)\n\u001b[1;32m    175\u001b[0m graph \u001b[38;5;241m=\u001b[39m _Graph(\u001b[38;5;28mself\u001b[39m\u001b[38;5;241m.\u001b[39m_dag_repr\u001b[38;5;241m.\u001b[39mnodes, \u001b[38;5;28mself\u001b[39m\u001b[38;5;241m.\u001b[39m_dag_repr\u001b[38;5;241m.\u001b[39medges, \u001b[38;5;28mself\u001b[39m\u001b[38;5;241m.\u001b[39m_operator_pool, \u001b[38;5;28mself\u001b[39m\u001b[38;5;241m.\u001b[39m_thread_pool, time_profiler, trace_edges)\n\u001b[0;32m--> 177\u001b[0m \u001b[38;5;28;01mreturn\u001b[39;00m \u001b[43mgraph\u001b[49m\u001b[43m(\u001b[49m\u001b[43minputs\u001b[49m\u001b[43m)\u001b[49m, [graph\u001b[38;5;241m.\u001b[39mtime_profiler] \u001b[38;5;28;01mif\u001b[39;00m profiler \u001b[38;5;28;01melse\u001b[39;00m \u001b[38;5;28;01mNone\u001b[39;00m, [graph\u001b[38;5;241m.\u001b[39mdata_queues] \u001b[38;5;28;01mif\u001b[39;00m tracer \u001b[38;5;28;01melse\u001b[39;00m \u001b[38;5;28;01mNone\u001b[39;00m\n",
      "File \u001b[0;32m~/miniforge3/envs/milvus/lib/python3.11/site-packages/towhee/runtime/runtime_pipeline.py:116\u001b[0m, in \u001b[0;36m_Graph.__call__\u001b[0;34m(self, inputs)\u001b[0m\n\u001b[1;32m    114\u001b[0m \u001b[38;5;28;01mdef\u001b[39;00m \u001b[38;5;21m__call__\u001b[39m(\u001b[38;5;28mself\u001b[39m, inputs: Union[Tuple, List]):\n\u001b[1;32m    115\u001b[0m     f \u001b[38;5;241m=\u001b[39m \u001b[38;5;28mself\u001b[39m\u001b[38;5;241m.\u001b[39masync_call(inputs)\n\u001b[0;32m--> 116\u001b[0m     \u001b[38;5;28;01mreturn\u001b[39;00m \u001b[43mf\u001b[49m\u001b[38;5;241;43m.\u001b[39;49m\u001b[43mresult\u001b[49m\u001b[43m(\u001b[49m\u001b[43m)\u001b[49m\n",
      "File \u001b[0;32m~/miniforge3/envs/milvus/lib/python3.11/site-packages/towhee/runtime/runtime_pipeline.py:34\u001b[0m, in \u001b[0;36m_GraphResult.result\u001b[0;34m(self)\u001b[0m\n\u001b[1;32m     33\u001b[0m \u001b[38;5;28;01mdef\u001b[39;00m \u001b[38;5;21mresult\u001b[39m(\u001b[38;5;28mself\u001b[39m):\n\u001b[0;32m---> 34\u001b[0m     ret \u001b[38;5;241m=\u001b[39m \u001b[38;5;28;43mself\u001b[39;49m\u001b[38;5;241;43m.\u001b[39;49m\u001b[43m_graph\u001b[49m\u001b[38;5;241;43m.\u001b[39;49m\u001b[43mresult\u001b[49m\u001b[43m(\u001b[49m\u001b[43m)\u001b[49m\n\u001b[1;32m     35\u001b[0m     \u001b[38;5;28mself\u001b[39m\u001b[38;5;241m.\u001b[39m_graph\u001b[38;5;241m.\u001b[39mrelease_op()\n\u001b[1;32m     36\u001b[0m     \u001b[38;5;28;01mdel\u001b[39;00m \u001b[38;5;28mself\u001b[39m\u001b[38;5;241m.\u001b[39m_graph\n",
      "File \u001b[0;32m~/miniforge3/envs/milvus/lib/python3.11/site-packages/towhee/runtime/runtime_pipeline.py:95\u001b[0m, in \u001b[0;36m_Graph.result\u001b[0;34m(self)\u001b[0m\n\u001b[1;32m     93\u001b[0m             errs \u001b[38;5;241m+\u001b[39m\u001b[38;5;241m=\u001b[39m node\u001b[38;5;241m.\u001b[39merr_msg \u001b[38;5;241m+\u001b[39m \u001b[38;5;124m'\u001b[39m\u001b[38;5;130;01m\\n\u001b[39;00m\u001b[38;5;124m'\u001b[39m\n\u001b[1;32m     94\u001b[0m \u001b[38;5;28;01mif\u001b[39;00m errs:\n\u001b[0;32m---> 95\u001b[0m     \u001b[38;5;28;01mraise\u001b[39;00m \u001b[38;5;167;01mRuntimeError\u001b[39;00m(errs)\n\u001b[1;32m     96\u001b[0m end_edge_num \u001b[38;5;241m=\u001b[39m \u001b[38;5;28mself\u001b[39m\u001b[38;5;241m.\u001b[39m_nodes[\u001b[38;5;124m'\u001b[39m\u001b[38;5;124m_output\u001b[39m\u001b[38;5;124m'\u001b[39m]\u001b[38;5;241m.\u001b[39mout_edges[\u001b[38;5;241m0\u001b[39m]\n\u001b[1;32m     97\u001b[0m res \u001b[38;5;241m=\u001b[39m \u001b[38;5;28mself\u001b[39m\u001b[38;5;241m.\u001b[39m_data_queues[end_edge_num]\n",
      "\u001b[0;31mRuntimeError\u001b[0m: Node-image-decode-0 runs failed, error msg: Read image MyMatchImages.csv failed, Traceback (most recent call last):\n  File \"/home/rob/miniforge3/envs/milvus/lib/python3.11/site-packages/towhee/runtime/nodes/node.py\", line 158, in _call\n    return True, self._op(*inputs), None\n                 ^^^^^^^^^^^^^^^^^\n  File \"/home/rob/.towhee/operators/towhee/image-decode/versions/main/image_decode.py\", line 14, in __call__\n    return self._op(image_path)\n           ^^^^^^^^^^^^^^^^^^^^\n  File \"/home/rob/miniforge3/envs/milvus/lib/python3.11/site-packages/towhee/runtime/factory.py\", line 125, in __call__\n    result = self._op(*args, **kws)\n             ^^^^^^^^^^^^^^^^^^^^^^\n  File \"/home/rob/.towhee/operators/image-decode/cv2/versions/main/image_decode_cv2.py\", line 69, in __call__\n    raise RuntimeError(err)\nRuntimeError: Read image MyMatchImages.csv failed\n, Traceback (most recent call last):\n  File \"/home/rob/miniforge3/envs/milvus/lib/python3.11/site-packages/towhee/runtime/nodes/node.py\", line 171, in process\n    self.process_step()\n  File \"/home/rob/miniforge3/envs/milvus/lib/python3.11/site-packages/towhee/runtime/nodes/_map.py\", line 63, in process_step\n    assert succ, msg\nAssertionError: Read image MyMatchImages.csv failed, Traceback (most recent call last):\n  File \"/home/rob/miniforge3/envs/milvus/lib/python3.11/site-packages/towhee/runtime/nodes/node.py\", line 158, in _call\n    return True, self._op(*inputs), None\n                 ^^^^^^^^^^^^^^^^^\n  File \"/home/rob/.towhee/operators/towhee/image-decode/versions/main/image_decode.py\", line 14, in __call__\n    return self._op(image_path)\n           ^^^^^^^^^^^^^^^^^^^^\n  File \"/home/rob/miniforge3/envs/milvus/lib/python3.11/site-packages/towhee/runtime/factory.py\", line 125, in __call__\n    result = self._op(*args, **kws)\n             ^^^^^^^^^^^^^^^^^^^^^^\n  File \"/home/rob/.towhee/operators/image-decode/cv2/versions/main/image_decode_cv2.py\", line 69, in __call__\n    raise RuntimeError(err)\nRuntimeError: Read image MyMatchImages.csv failed\n\n\n"
     ]
    }
   ],
   "source": [
    "# Display embedding result, no need for implementation\n",
    "p_display = p_embed.output('img_path', 'img', 'vec')\n",
    "\n",
    "DataCollection(p_display(to_insert[0])).show()"
   ]
  }
 ],
 "metadata": {
  "kernelspec": {
   "display_name": "milvus",
   "language": "python",
   "name": "python3"
  },
  "language_info": {
   "codemirror_mode": {
    "name": "ipython",
    "version": 3
   },
   "file_extension": ".py",
   "mimetype": "text/x-python",
   "name": "python",
   "nbconvert_exporter": "python",
   "pygments_lexer": "ipython3",
   "version": "3.11.7"
  }
 },
 "nbformat": 4,
 "nbformat_minor": 2
}
