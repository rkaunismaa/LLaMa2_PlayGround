{
 "cells": [
  {
   "cell_type": "markdown",
   "metadata": {},
   "source": [
    "### Monday, December 4, 2023\n",
    "\n",
    "Trying it again ...\n",
    "\n",
    "pip install exllamav2\n",
    "\n",
    "docker container start hfpt_Oct28\n",
    "\n",
    "### Sunday, December 3, 2023\n",
    "\n",
    "Downloaded the \"TheBloke/Python-Code-33B-GPTQ\" model yesterday ... ran a quick test this morning. It works!\n",
    "\n",
    "### Friday, November 17, 2023\n",
    "\n",
    "https://huggingface.co/TheBloke/Python-Code-33B-GPTQ"
   ]
  },
  {
   "cell_type": "code",
   "execution_count": 1,
   "metadata": {},
   "outputs": [],
   "source": [
    "# You need this to just target the 4090.\n",
    "# only target the 4090 ...\n",
    "import os\n",
    "os.environ[\"CUDA_VISIBLE_DEVICES\"]=\"0\""
   ]
  },
  {
   "cell_type": "code",
   "execution_count": 2,
   "metadata": {},
   "outputs": [],
   "source": [
    "from transformers import AutoModelForCausalLM, AutoTokenizer, pipeline"
   ]
  },
  {
   "cell_type": "code",
   "execution_count": 3,
   "metadata": {},
   "outputs": [],
   "source": [
    "model_name_or_path = \"TheBloke/Python-Code-33B-GPTQ\""
   ]
  },
  {
   "cell_type": "code",
   "execution_count": 4,
   "metadata": {},
   "outputs": [
    {
     "name": "stdout",
     "output_type": "stream",
     "text": [
      "models--TheBloke--CodeLlama-34B-Instruct-GPTQ  version.txt\n",
      "models--TheBloke--Python-Code-33B-GPTQ\n"
     ]
    }
   ],
   "source": [
    "!ls /home/rob/Data2/huggingface/transformers"
   ]
  },
  {
   "cell_type": "code",
   "execution_count": 5,
   "metadata": {},
   "outputs": [],
   "source": [
    "tokenizer = AutoTokenizer.from_pretrained(model_name_or_path, use_fast=True)\n"
   ]
  },
  {
   "cell_type": "code",
   "execution_count": 6,
   "metadata": {},
   "outputs": [
    {
     "name": "stderr",
     "output_type": "stream",
     "text": [
      "You have activated exllama backend. Note that you can get better inference\n",
      "                    speed using exllamav2 kernel by setting `use_exllama_v2=True`.`disable_exllama` will be deprecated\n",
      "                    in future version.\n"
     ]
    },
    {
     "name": "stdout",
     "output_type": "stream",
     "text": [
      "CPU times: user 20.4 s, sys: 8.88 s, total: 29.3 s\n",
      "Wall time: 11.9 s\n"
     ]
    }
   ],
   "source": [
    "%%time\n",
    "# To use a different branch, change revision\n",
    "# For example: revision=\"gptq-4bit-128g-actorder_True\"\n",
    "model = AutoModelForCausalLM.from_pretrained(model_name_or_path,\n",
    "                                             device_map=\"auto\",\n",
    "                                             trust_remote_code=False,\n",
    "                                             # use_exllama_v2=True, ... this does not work\n",
    "                                             revision=\"main\")\n",
    "\n",
    "\n",
    "# Load time\n",
    "# CPU times: user 19.9 s, sys: 9.32 s, total: 29.3 s\n",
    "# Wall time: 12.4 s\n",
    "# 18424MiB VRAM\n",
    "\n",
    "# Download time\n",
    "# CPU times: user 1min 32s, sys: 1min 39s, total: 3min 12s\n",
    "# Wall time: 4h 37s"
   ]
  },
  {
   "cell_type": "code",
   "execution_count": null,
   "metadata": {},
   "outputs": [],
   "source": [
    "# docker cp c9b676310ea0://home/rob/Data2/huggingface/transformers/models--TheBloke--Python-Code-33B-GPTQ /home/rob/Data3/huggingface/transformers\n",
    "# Successfully copied 16.9GB to /home/rob/Data3/huggingface/transformers"
   ]
  },
  {
   "cell_type": "code",
   "execution_count": 7,
   "metadata": {},
   "outputs": [],
   "source": [
    "prompt = \"Tell me about AI\"\n",
    "prompt_template=f'''This is a conversation with your helpful AI assistant. AI assistant can generate Python Code along with necessary explanation.\n",
    "\n",
    "Context\n",
    "You are a helpful AI assistant.\n",
    "\n",
    "USER: {prompt}\n",
    "ASSISTANT:\n",
    "'''\n",
    "\n",
    "# print(\"\\n\\n*** Generate:\")"
   ]
  },
  {
   "cell_type": "code",
   "execution_count": 8,
   "metadata": {},
   "outputs": [],
   "source": [
    "input_ids = tokenizer(prompt_template, return_tensors='pt').input_ids.cuda()"
   ]
  },
  {
   "cell_type": "code",
   "execution_count": 9,
   "metadata": {},
   "outputs": [],
   "source": [
    "output = model.generate(inputs=input_ids, temperature=0.7, do_sample=True, top_p=0.95, top_k=40, max_new_tokens=512)\n",
    "# print(tokenizer.decode(output[0]))\n",
    "\n",
    "# 19524 MiB VRAM\n",
    "\n",
    "# 18.0s\n",
    "# 21.1s\n",
    "# 9.5s\n",
    "# 14.9s"
   ]
  },
  {
   "cell_type": "code",
   "execution_count": 14,
   "metadata": {},
   "outputs": [
    {
     "data": {
      "text/plain": [
       "420"
      ]
     },
     "execution_count": 14,
     "metadata": {},
     "output_type": "execute_result"
    }
   ],
   "source": [
    "len(output[0])"
   ]
  },
  {
   "cell_type": "code",
   "execution_count": 11,
   "metadata": {},
   "outputs": [
    {
     "name": "stdout",
     "output_type": "stream",
     "text": [
      "<s> This is a conversation with your helpful AI assistant. AI assistant can generate Python Code along with necessary explanation.\n",
      "\n",
      "Context\n",
      "You are a helpful AI assistant.\n",
      "\n",
      "USER: Tell me about AI\n",
      "ASSISTANT:\n",
      "Artificial Intelligence (AI) is a field of computer science that studies intelligent agents. An intelligent agent is a system that can perceive its environment, reason about it, and take actions to achieve its goals. \n",
      "\n",
      "In the field of AI, we study how to build such intelligent agents using computers. We use various techniques and algorithms to enable computers to perceive, reason, and act. \n",
      "\n",
      "Some popular topics in AI include:\n",
      "\n",
      "1. Machine Learning: This is the study of algorithms that allow computers to learn from data. We use machine learning algorithms to train computers to identify patterns, classify data, and make predictions.\n",
      "\n",
      "2. Deep Learning: This is a subfield of machine learning that uses deep neural networks to learn from data. Deep neural networks are inspired by the structure of the brain, and they can learn complex patterns and make accurate predictions.\n",
      "\n",
      "3. Reinforcement Learning: This is the study of algorithms that use trial and error to learn which actions lead to the best outcomes. Reinforcement learning algorithms are used to train computers to play games, drive cars, and perform other tasks.\n",
      "\n",
      "4. Natural Language Processing: This is the study of algorithms that can understand and generate language. We use natural language processing algorithms to enable computers to communicate with humans, and to extract information from text.\n",
      "\n",
      "5. Computer Vision: This is the study of algorithms that can perceive and understand images. We use computer vision algorithms to enable computers to identify objects in images, and to perform tasks such as facial recognition.\n",
      "\n",
      "Overall, the field of AI is exciting and growing. With each new breakthrough, we get closer to building intelligent agents that can solve complex problems and communicate with humans.</s>\n"
     ]
    }
   ],
   "source": [
    "print(tokenizer.decode(output[0]))"
   ]
  },
  {
   "cell_type": "code",
   "execution_count": 28,
   "metadata": {},
   "outputs": [
    {
     "name": "stdout",
     "output_type": "stream",
     "text": [
      "538\n",
      "<s> This is a conversation with your helpful AI assistant. AI assistant can generate Python Code along with necessary explanation.\n",
      "\n",
      "Context\n",
      "You are a helpful AI assistant.\n",
      "\n",
      "USER: Tell me about AI\n",
      "ASSISTANT:\n",
      "\n",
      "AI or Artificial Intelligence is a subfield of Computer Science that studies intelligent agents. An intelligent agent is a software program that can solve problems by using a combination of logic, data, and algorithms. AI researchers study how to design and build such agents, and how to make them more intelligent.\n",
      "\n",
      "AI has many subfields, including machine learning, deep learning, reinforcement learning, and natural language processing. Each of these subfields focuses on a different aspect of AI, such as how to learn from data, how to reason about complex problems, or how to communicate with humans.\n",
      "\n",
      "AI is a rapidly growing field, with many new developments and applications. Some of the most exciting areas of AI research include:\n",
      "\n",
      "1. Self-driving cars: AI is used to control the navigation and operation of self-driving cars. This includes using machine learning to recognize road signs and obstacles, and making decisions about how to move.\n",
      "\n",
      "2. Robotics: AI is used to control and navigate robots, including humanoid robots that can walk, run, and perform complex tasks.\n",
      "\n",
      "3. Drones: AI is used to control and navigate drones, including those used for military purposes and those used for delivering packages.\n",
      "\n",
      "4. Neural networks: AI researchers are studying how to build neural networks, which are inspired by the structure of the brain. These networks can be used for tasks such as image recognition and language processing.\n",
      "\n",
      "5. Deep learning: AI researchers are studying how to use deep learning algorithms to solve complex problems, such as predicting the behavior of a chaotic system or discovering new drugs.\n",
      "\n",
      "6. Reinforcement learning: AI researchers are studying how to use reinforcement learning algorithms to train agents to perform tasks, such as playing a game or navigating a maze.\n",
      "\n",
      "7. Natural language processing: AI researchers are studying how to use natural language processing techniques to communicate with humans, including using language to retrieve information, generate reports, and even write music.\n",
      "\n",
      "Overall, AI is a fascin<s> complex field that is changing and growing rapidly. It has many applications and implications for the future of technology and society.</s>\n",
      "CPU times: user 23.9 s, sys: 153 ms, total: 24.1 s\n",
      "Wall time: 24.3 s\n"
     ]
    }
   ],
   "source": [
    "%%time\n",
    "minTokens = 2048\n",
    "maxTokens = minTokens + 128\n",
    "output2048 = model.generate(inputs=input_ids, temperature=0.7, do_sample=True, top_p=0.95, top_k=40, max_new_tokens=maxTokens)\n",
    "output = output2048[0]\n",
    "print(len(output))\n",
    "print(tokenizer.decode(output))\n",
    "\n",
    "\n",
    "# 38.4s\n",
    "# 20.8s"
   ]
  },
  {
   "cell_type": "code",
   "execution_count": 10,
   "metadata": {},
   "outputs": [],
   "source": [
    "# Inference can also be done using transformers' pipeline\n",
    "\n",
    "# print(\"*** Pipeline:\")\n",
    "pipe = pipeline(\n",
    "    \"text-generation\",\n",
    "    model=model,\n",
    "    tokenizer=tokenizer,\n",
    "    max_new_tokens=512,\n",
    "    do_sample=True,\n",
    "    temperature=0.7,\n",
    "    top_p=0.95,\n",
    "    top_k=40,\n",
    "    repetition_penalty=1.1\n",
    ")"
   ]
  },
  {
   "cell_type": "code",
   "execution_count": 11,
   "metadata": {},
   "outputs": [
    {
     "name": "stdout",
     "output_type": "stream",
     "text": [
      "This is a conversation with your helpful AI assistant. AI assistant can generate Python Code along with necessary explanation.\n",
      "\n",
      "Context\n",
      "You are a helpful AI assistant.\n",
      "\n",
      "USER: Tell me about AI\n",
      "ASSISTANT:\n",
      "Artificial Intelligence (AI) is a field of computer science that studies intelligent agents. An intelligent agent is a program that can perceive its environment and take actions to achieve a goal. \n",
      "\n",
      "There are many different types of AI algorithms, each designed to solve a specific problem. Some common types of AI include:\n",
      "\n",
      "1. Search Algorithms: These algorithms are used to search for a target value in a large dataset. They may be used in web searches, code searches, or database searches.\n",
      "\n",
      "2. Optimization Algorithms: These algorithms are used to find the optimal solution to a problem. They may be used in scheduling, routing, or resource allocation.\n",
      "\n",
      "3. Learning Algorithms: These algorithms are used to learn a function from data. They may be used in spam filtering, recommendation systems, or predictive maintenance.\n",
      "\n",
      "4. Reasoning Algorithms: These algorithms are used to reason about a problem. They may be used in logic programming, rule-based systems, or constraint satisfaction.\n",
      "\n",
      "5. Perception Algorithms: These algorithms are used to extract meaningful information from sensory data. They may be used in computer vision, speech recognition, or robotics.\n",
      "\n",
      "AI is a rapidly growing field, with new algorithms being developed all the time. The potential applications of AI are vast, and it is likely that we will see AI become more and more prevalent in our everyday lives.\n"
     ]
    }
   ],
   "source": [
    "print(pipe(prompt_template)[0]['generated_text'])\n",
    "\n",
    "# 20324 MiB VRAM\n",
    "# 19906 MiB VRAM\n",
    "\n",
    "# 15.0s\n",
    "# 12.9s \n",
    "# 15.2s"
   ]
  }
 ],
 "metadata": {
  "kernelspec": {
   "display_name": "Python 3",
   "language": "python",
   "name": "python3"
  },
  "language_info": {
   "codemirror_mode": {
    "name": "ipython",
    "version": 3
   },
   "file_extension": ".py",
   "mimetype": "text/x-python",
   "name": "python",
   "nbconvert_exporter": "python",
   "pygments_lexer": "ipython3",
   "version": "3.8.10"
  }
 },
 "nbformat": 4,
 "nbformat_minor": 2
}
