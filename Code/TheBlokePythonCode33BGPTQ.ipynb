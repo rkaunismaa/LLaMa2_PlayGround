{
 "cells": [
  {
   "cell_type": "markdown",
   "metadata": {},
   "source": [
    "### Monday, December 4, 2023\n",
    "\n",
    "Trying it again ...\n",
    "\n",
    "pip install exllamav2\n",
    "\n",
    "docker container start hfpt_Oct28\n",
    "\n",
    "### Sunday, December 3, 2023\n",
    "\n",
    "Downloaded the \"TheBloke/Python-Code-33B-GPTQ\" model yesterday ... ran a quick test this morning. It works!\n",
    "\n",
    "### Friday, November 17, 2023\n",
    "\n",
    "https://huggingface.co/TheBloke/Python-Code-33B-GPTQ"
   ]
  },
  {
   "cell_type": "code",
   "execution_count": 1,
   "metadata": {},
   "outputs": [],
   "source": [
    "# You need this to just target the 4090.\n",
    "# only target the 4090 ...\n",
    "import os\n",
    "os.environ[\"CUDA_VISIBLE_DEVICES\"]=\"0\""
   ]
  },
  {
   "cell_type": "code",
   "execution_count": 2,
   "metadata": {},
   "outputs": [],
   "source": [
    "from transformers import AutoModelForCausalLM, AutoTokenizer, pipeline"
   ]
  },
  {
   "cell_type": "code",
   "execution_count": 3,
   "metadata": {},
   "outputs": [],
   "source": [
    "model_name_or_path = \"TheBloke/Python-Code-33B-GPTQ\""
   ]
  },
  {
   "cell_type": "code",
   "execution_count": 4,
   "metadata": {},
   "outputs": [
    {
     "name": "stdout",
     "output_type": "stream",
     "text": [
      "models--TheBloke--CodeLlama-34B-Instruct-GPTQ  version.txt\n",
      "models--TheBloke--Python-Code-33B-GPTQ\n"
     ]
    }
   ],
   "source": [
    "!ls /home/rob/Data2/huggingface/transformers"
   ]
  },
  {
   "cell_type": "code",
   "execution_count": 5,
   "metadata": {},
   "outputs": [],
   "source": [
    "tokenizer = AutoTokenizer.from_pretrained(model_name_or_path, use_fast=True)\n"
   ]
  },
  {
   "cell_type": "code",
   "execution_count": 6,
   "metadata": {},
   "outputs": [
    {
     "name": "stderr",
     "output_type": "stream",
     "text": [
      "You have activated exllama backend. Note that you can get better inference\n",
      "                    speed using exllamav2 kernel by setting `use_exllama_v2=True`.`disable_exllama` will be deprecated\n",
      "                    in future version.\n"
     ]
    },
    {
     "name": "stdout",
     "output_type": "stream",
     "text": [
      "CPU times: user 21.6 s, sys: 7.09 s, total: 28.6 s\n",
      "Wall time: 10.5 s\n"
     ]
    }
   ],
   "source": [
    "%%time\n",
    "# To use a different branch, change revision\n",
    "# For example: revision=\"gptq-4bit-128g-actorder_True\"\n",
    "model = AutoModelForCausalLM.from_pretrained(model_name_or_path,\n",
    "                                             device_map=\"auto\",\n",
    "                                             trust_remote_code=False,\n",
    "                                             # use_exllama_v2=True, ... this does not work\n",
    "                                             revision=\"main\")\n",
    "\n",
    "\n",
    "# Load time\n",
    "# CPU times: user 19.9 s, sys: 9.32 s, total: 29.3 s\n",
    "# Wall time: 12.4 s\n",
    "# 18424MiB VRAM\n",
    "\n",
    "# Download time\n",
    "# CPU times: user 1min 32s, sys: 1min 39s, total: 3min 12s\n",
    "# Wall time: 4h 37s"
   ]
  },
  {
   "cell_type": "code",
   "execution_count": 7,
   "metadata": {},
   "outputs": [],
   "source": [
    "# docker cp c9b676310ea0://home/rob/Data2/huggingface/transformers/models--TheBloke--Python-Code-33B-GPTQ /home/rob/Data3/huggingface/transformers\n",
    "# Successfully copied 16.9GB to /home/rob/Data3/huggingface/transformers"
   ]
  },
  {
   "cell_type": "code",
   "execution_count": 8,
   "metadata": {},
   "outputs": [],
   "source": [
    "prompt = \"Tell me about AI\"\n",
    "prompt_template=f'''This is a conversation with your helpful AI assistant. AI assistant can generate Python Code along with necessary explanation.\n",
    "\n",
    "Context\n",
    "You are a helpful AI assistant.\n",
    "\n",
    "USER: {prompt}\n",
    "ASSISTANT:\n",
    "'''\n",
    "\n",
    "# print(\"\\n\\n*** Generate:\")"
   ]
  },
  {
   "cell_type": "code",
   "execution_count": 9,
   "metadata": {},
   "outputs": [],
   "source": [
    "input_ids = tokenizer(prompt_template, return_tensors='pt').input_ids.cuda()"
   ]
  },
  {
   "cell_type": "code",
   "execution_count": 13,
   "metadata": {},
   "outputs": [
    {
     "name": "stdout",
     "output_type": "stream",
     "text": [
      "423\n",
      "<s> This is a conversation with your helpful AI assistant. AI assistant can generate Python Code along with necessary explanation.\n",
      "\n",
      "Context\n",
      "You are a helpful AI assistant.\n",
      "\n",
      "USER: Tell me about AI\n",
      "ASSISTANT:\n",
      "\n",
      "Artificial Intelligence (AI) is a field of computer science that studies intelligent agents. An intelligent agent is a system that perceives its environment and takes actions to maximize its utility. \n",
      "\n",
      "AI researchers study intelligent agents using a variety of methods, including mathematical proofs, algorithmic techniques, and computer simulations. The field has made significant progress in the past few decades, and many of the techniques and algorithms used in AI are now widely used in other fields, such as computer vision, machine learning, and data science.\n",
      "\n",
      "Some popular topics in AI include:\n",
      "\n",
      "- Machine learning: This subfield of AI studies how agents can learn to behave in an optimal way, given a set of rules or a training dataset.\n",
      "\n",
      "- Deep learning: This subfield of machine learning uses deep neural networks, a type of machine learning model inspired by the structure of the brain, to solve complex problems.\n",
      "\n",
      "- Reinforcement learning: This subfield of AI studies how agents can learn to behave in an optimal way by trial and error, using a reward function to evaluate their actions.\n",
      "\n",
      "- Natural language processing: This subfield of AI studies how agents can understand and generate language, allowing them to communicate with humans.\n",
      "\n",
      "- Computer vision: This subfield of AI studies how agents can perceive and understand the visual world, allowing them to perform tasks such as object detection and image classification.\n",
      "\n",
      "- Robotics: This subfield of AI studies how agents can interact with the physical world, allowing them to perform tasks such as object manipulation and locomotion.\n",
      "\n",
      "Overall, the field of AI is diverse and interdisciplinary, and it continues to make exciting progress in understanding and building intelligent agents.</s>\n",
      "CPU times: user 18.1 s, sys: 112 ms, total: 18.3 s\n",
      "Wall time: 18.3 s\n"
     ]
    }
   ],
   "source": [
    "%%time\n",
    "maxTokens = 2048\n",
    "output2048 = model.generate(inputs=input_ids, temperature=0.7, do_sample=True, top_p=0.95, top_k=40, max_new_tokens=maxTokens)\n",
    "output = output2048[0]\n",
    "print(len(output))\n",
    "print(tokenizer.decode(output))\n",
    "\n",
    "\n",
    "# 38.4s\n",
    "# 20.8s"
   ]
  },
  {
   "cell_type": "code",
   "execution_count": 14,
   "metadata": {},
   "outputs": [],
   "source": [
    "# Inference can also be done using transformers' pipeline\n",
    "\n",
    "# print(\"*** Pipeline:\")\n",
    "tfPipeLine = pipeline(\n",
    "    \"text-generation\",\n",
    "    model=model,\n",
    "    tokenizer=tokenizer,\n",
    "    max_new_tokens=512,\n",
    "    do_sample=True,\n",
    "    temperature=0.7,\n",
    "    top_p=0.95,\n",
    "    top_k=40,\n",
    "    repetition_penalty=1.1\n",
    ")"
   ]
  },
  {
   "cell_type": "code",
   "execution_count": 15,
   "metadata": {},
   "outputs": [
    {
     "name": "stdout",
     "output_type": "stream",
     "text": [
      "This is a conversation with your helpful AI assistant. AI assistant can generate Python Code along with necessary explanation.\n",
      "\n",
      "Context\n",
      "You are a helpful AI assistant.\n",
      "\n",
      "USER: Tell me about AI\n",
      "ASSISTANT:\n",
      "AI or Artificial Intelligence is a subfield of Computer Science that studies intelligent agents. An intelligent agent is a software program that can perceive its environment, understand the goals and constraints of the problem at hand, and come up with a plan to solve it. \n",
      "\n",
      "In the past few decades, AI has made significant progress in various fields such as computer vision, natural language processing, and machine learning. For example, AI assistants like Siri and Alexa have become commonplace in many households, able to perform tasks like scheduling appointments, playing music, and answering basic questions. \n",
      "\n",
      "However, there is still a long way to go before AI can match the complexity and nuance of human intelligence. Many researchers and engineers are working on solving problems like language generation, reasoning, and decision making, which are essential for creating truly intelligent agents. \n",
      "\n",
      "Overall, AI is an exciting and rapidly evolving field that holds promise for improving our lives and understanding of the world around us.\n"
     ]
    }
   ],
   "source": [
    "print(tfPipeLine(prompt_template)[0]['generated_text'])\n",
    "\n",
    "# 20324 MiB VRAM\n",
    "# 19906 MiB VRAM\n",
    "\n",
    "# 15.0s\n",
    "# 12.9s \n",
    "# 15.2s"
   ]
  },
  {
   "cell_type": "markdown",
   "metadata": {},
   "source": [
    "So let's try this with [LangChain](https://python.langchain.com/docs/integrations/llms/huggingface_pipelines), shall we ... "
   ]
  },
  {
   "cell_type": "code",
   "execution_count": 16,
   "metadata": {},
   "outputs": [],
   "source": [
    "from langchain.llms.huggingface_pipeline import HuggingFacePipeline as LCHuggingFacePipeLine"
   ]
  },
  {
   "cell_type": "code",
   "execution_count": 17,
   "metadata": {},
   "outputs": [],
   "source": [
    "# pass in the transformers pipeline we defined above ... \n",
    "lchfpl = LCHuggingFacePipeLine(pipeline=tfPipeLine)"
   ]
  },
  {
   "cell_type": "markdown",
   "metadata": {},
   "source": [
    "Below is the replicated code from a previous cell ... "
   ]
  },
  {
   "cell_type": "code",
   "execution_count": 21,
   "metadata": {},
   "outputs": [],
   "source": [
    "prompt = \"Tell me about AI\"\n",
    "\n",
    "prompt_template=f'''This is a conversation with your helpful AI assistant. AI assistant can generate Python Code along with necessary explanation.\n",
    "\n",
    "Context\n",
    "You are a helpful AI assistant.\n",
    "\n",
    "USER: {prompt}\n",
    "ASSISTANT:\n",
    "'''\n"
   ]
  },
  {
   "cell_type": "code",
   "execution_count": 18,
   "metadata": {},
   "outputs": [],
   "source": [
    "from langchain.prompts import PromptTemplate as LCPromptTemplate\n",
    "\n",
    "lcPromptTemplate = LCPromptTemplate.from_template(prompt_template)\n",
    "\n",
    "chain = lcPromptTemplate | lchfpl"
   ]
  },
  {
   "cell_type": "markdown",
   "metadata": {},
   "source": []
  },
  {
   "cell_type": "code",
   "execution_count": 20,
   "metadata": {},
   "outputs": [],
   "source": [
    "\n",
    "result = chain.invoke({\"prompt\": prompt})"
   ]
  },
  {
   "cell_type": "code",
   "execution_count": 21,
   "metadata": {},
   "outputs": [
    {
     "name": "stdout",
     "output_type": "stream",
     "text": [
      "Artificial Intelligence (AI) is a field of computer science that studies intelligent agents. An intelligent agent is a program or system that can learn, reason, and act in an intelligent manner. \n",
      "\n",
      "AI researchers study how to make machines smart, using techniques such as machine learning, pattern recognition, and optimization. The goal of AI is to create systems that can solve problems as well as or better than humans, in a faster and more efficient way. \n",
      "\n",
      "AI has many applications, including in the fields of robotics, drones, self-driving cars, and natural language processing. It is also used in software development, where it can be used to automate tasks and improve code quality. \n",
      "\n",
      "Desp the term \"artificial\" in Artificial Intelligence, AI systems are not truly intelligent in the sense that they are not conscious or aware of their surroundings. Instead, they are designed to simulate intelligence by using advanced algorithms and computational power. \n",
      "\n",
      "AI technology is rapidly improving, and there are many exciting developments in the field. One area of interest is in creating general-purpose AI systems that can perform a wide range of tasks, rather than being specialized to a particular task. Another area is in developing AI systems that can explain their decisions and actions, so that we can better understand their behavior. \n",
      "\n",
      "Overall, AI is a fascinating field that holds promise for many future applications and developments.\n"
     ]
    }
   ],
   "source": [
    "print(result)"
   ]
  },
  {
   "cell_type": "code",
   "execution_count": 23,
   "metadata": {},
   "outputs": [
    {
     "data": {
      "text/plain": [
       "str"
      ]
     },
     "execution_count": 23,
     "metadata": {},
     "output_type": "execute_result"
    }
   ],
   "source": [
    "type(result)"
   ]
  },
  {
   "cell_type": "code",
   "execution_count": null,
   "metadata": {},
   "outputs": [],
   "source": []
  }
 ],
 "metadata": {
  "kernelspec": {
   "display_name": "Python 3",
   "language": "python",
   "name": "python3"
  },
  "language_info": {
   "codemirror_mode": {
    "name": "ipython",
    "version": 3
   },
   "file_extension": ".py",
   "mimetype": "text/x-python",
   "name": "python",
   "nbconvert_exporter": "python",
   "pygments_lexer": "ipython3",
   "version": "3.8.10"
  }
 },
 "nbformat": 4,
 "nbformat_minor": 2
}
