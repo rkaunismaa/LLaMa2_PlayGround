{
  "cells": [
    {
      "cell_type": "markdown",
      "metadata": {},
      "source": [
        "Friday, November 17, 2023\n",
        "\n",
        "[Fine-tuning Mistral 7B on a Single GPU with Ludwig](https://predibase.com/blog/fine-tuning-mistral-7b-on-a-single-gpu-with-ludwig)"
      ]
    },
    {
      "cell_type": "markdown",
      "metadata": {
        "id": "wXMVoEFkPXJJ"
      },
      "source": [
        "### **Install Ludwig and Ludwig's LLM related dependencies.**"
      ]
    },
    {
      "cell_type": "code",
      "execution_count": null,
      "metadata": {
        "colab": {
          "base_uri": "https://localhost:8080/"
        },
        "id": "yfYXyUUvM-R6",
        "outputId": "0f2c39ff-fed5-43bf-a8fe-5c2883c80f22"
      },
      "outputs": [
        {
          "name": "stdout",
          "output_type": "stream",
          "text": [
            "\u001b[33mWARNING: Skipping tensorflow as it is not installed.\u001b[0m\u001b[33m\n",
            "\u001b[0mCollecting git+https://github.com/huggingface/transformers\n",
            "  Cloning https://github.com/huggingface/transformers to /tmp/pip-req-build-8fqc93o4\n",
            "  Running command git clone --filter=blob:none --quiet https://github.com/huggingface/transformers /tmp/pip-req-build-8fqc93o4\n",
            "  Resolved https://github.com/huggingface/transformers to commit 43bfd093e1817c0333a1e10fcbdd54f1032baad0\n",
            "  Installing build dependencies ... \u001b[?25l\u001b[?25hdone\n",
            "  Getting requirements to build wheel ... \u001b[?25l\u001b[?25hdone\n",
            "  Preparing metadata (pyproject.toml) ... \u001b[?25l\u001b[?25hdone\n",
            "Requirement already satisfied: filelock in /usr/local/lib/python3.10/dist-packages (from transformers==4.35.0.dev0) (3.12.4)\n",
            "Requirement already satisfied: huggingface-hub<1.0,>=0.16.4 in /usr/local/lib/python3.10/dist-packages (from transformers==4.35.0.dev0) (0.16.4)\n",
            "Requirement already satisfied: numpy>=1.17 in /usr/local/lib/python3.10/dist-packages (from transformers==4.35.0.dev0) (1.23.5)\n",
            "Requirement already satisfied: packaging>=20.0 in /usr/local/lib/python3.10/dist-packages (from transformers==4.35.0.dev0) (23.1)\n",
            "Requirement already satisfied: pyyaml>=5.1 in /usr/local/lib/python3.10/dist-packages (from transformers==4.35.0.dev0) (6.0)\n",
            "Requirement already satisfied: regex!=2019.12.17 in /usr/local/lib/python3.10/dist-packages (from transformers==4.35.0.dev0) (2023.6.3)\n",
            "Requirement already satisfied: requests in /usr/local/lib/python3.10/dist-packages (from transformers==4.35.0.dev0) (2.31.0)\n",
            "Requirement already satisfied: tokenizers<0.15,>=0.14 in /usr/local/lib/python3.10/dist-packages (from transformers==4.35.0.dev0) (0.14.0)\n",
            "Requirement already satisfied: safetensors>=0.3.1 in /usr/local/lib/python3.10/dist-packages (from transformers==4.35.0.dev0) (0.3.3)\n",
            "Requirement already satisfied: tqdm>=4.27 in /usr/local/lib/python3.10/dist-packages (from transformers==4.35.0.dev0) (4.66.1)\n",
            "Requirement already satisfied: fsspec in /usr/local/lib/python3.10/dist-packages (from huggingface-hub<1.0,>=0.16.4->transformers==4.35.0.dev0) (2023.6.0)\n",
            "Requirement already satisfied: typing-extensions>=3.7.4.3 in /usr/local/lib/python3.10/dist-packages (from huggingface-hub<1.0,>=0.16.4->transformers==4.35.0.dev0) (4.5.0)\n",
            "Requirement already satisfied: charset-normalizer<4,>=2 in /usr/local/lib/python3.10/dist-packages (from requests->transformers==4.35.0.dev0) (3.2.0)\n",
            "Requirement already satisfied: idna<4,>=2.5 in /usr/local/lib/python3.10/dist-packages (from requests->transformers==4.35.0.dev0) (3.4)\n",
            "Requirement already satisfied: urllib3<3,>=1.21.1 in /usr/local/lib/python3.10/dist-packages (from requests->transformers==4.35.0.dev0) (2.0.5)\n",
            "Requirement already satisfied: certifi>=2017.4.17 in /usr/local/lib/python3.10/dist-packages (from requests->transformers==4.35.0.dev0) (2023.7.22)\n",
            "Collecting git+https://github.com/huggingface/peft.git\n",
            "  Cloning https://github.com/huggingface/peft.git to /tmp/pip-req-build-82yzmqcy\n",
            "  Running command git clone --filter=blob:none --quiet https://github.com/huggingface/peft.git /tmp/pip-req-build-82yzmqcy\n",
            "  Resolved https://github.com/huggingface/peft.git to commit 99f792e8a3be001c55e71d148a7a8d25b931181f\n",
            "  Installing build dependencies ... \u001b[?25l\u001b[?25hdone\n",
            "  Getting requirements to build wheel ... \u001b[?25l\u001b[?25hdone\n",
            "  Preparing metadata (pyproject.toml) ... \u001b[?25l\u001b[?25hdone\n",
            "Requirement already satisfied: numpy>=1.17 in /usr/local/lib/python3.10/dist-packages (from peft==0.6.0.dev0) (1.23.5)\n",
            "Requirement already satisfied: packaging>=20.0 in /usr/local/lib/python3.10/dist-packages (from peft==0.6.0.dev0) (23.1)\n",
            "Requirement already satisfied: psutil in /usr/local/lib/python3.10/dist-packages (from peft==0.6.0.dev0) (5.9.4)\n",
            "Requirement already satisfied: pyyaml in /usr/local/lib/python3.10/dist-packages (from peft==0.6.0.dev0) (6.0)\n",
            "Requirement already satisfied: torch>=1.13.0 in /usr/local/lib/python3.10/dist-packages (from peft==0.6.0.dev0) (2.0.1+cu118)\n",
            "Requirement already satisfied: transformers in /usr/local/lib/python3.10/dist-packages (from peft==0.6.0.dev0) (4.35.0.dev0)\n",
            "Requirement already satisfied: tqdm in /usr/local/lib/python3.10/dist-packages (from peft==0.6.0.dev0) (4.66.1)\n",
            "Requirement already satisfied: accelerate>=0.21.0 in /usr/local/lib/python3.10/dist-packages (from peft==0.6.0.dev0) (0.23.0)\n",
            "Requirement already satisfied: safetensors in /usr/local/lib/python3.10/dist-packages (from peft==0.6.0.dev0) (0.3.3)\n",
            "Requirement already satisfied: huggingface-hub in /usr/local/lib/python3.10/dist-packages (from accelerate>=0.21.0->peft==0.6.0.dev0) (0.16.4)\n",
            "Requirement already satisfied: filelock in /usr/local/lib/python3.10/dist-packages (from torch>=1.13.0->peft==0.6.0.dev0) (3.12.4)\n",
            "Requirement already satisfied: typing-extensions in /usr/local/lib/python3.10/dist-packages (from torch>=1.13.0->peft==0.6.0.dev0) (4.5.0)\n",
            "Requirement already satisfied: sympy in /usr/local/lib/python3.10/dist-packages (from torch>=1.13.0->peft==0.6.0.dev0) (1.12)\n",
            "Requirement already satisfied: networkx in /usr/local/lib/python3.10/dist-packages (from torch>=1.13.0->peft==0.6.0.dev0) (3.1)\n",
            "Requirement already satisfied: jinja2 in /usr/local/lib/python3.10/dist-packages (from torch>=1.13.0->peft==0.6.0.dev0) (3.1.2)\n",
            "Requirement already satisfied: triton==2.0.0 in /usr/local/lib/python3.10/dist-packages (from torch>=1.13.0->peft==0.6.0.dev0) (2.0.0)\n",
            "Requirement already satisfied: cmake in /usr/local/lib/python3.10/dist-packages (from triton==2.0.0->torch>=1.13.0->peft==0.6.0.dev0) (3.27.5)\n",
            "Requirement already satisfied: lit in /usr/local/lib/python3.10/dist-packages (from triton==2.0.0->torch>=1.13.0->peft==0.6.0.dev0) (17.0.1)\n",
            "Requirement already satisfied: regex!=2019.12.17 in /usr/local/lib/python3.10/dist-packages (from transformers->peft==0.6.0.dev0) (2023.6.3)\n",
            "Requirement already satisfied: requests in /usr/local/lib/python3.10/dist-packages (from transformers->peft==0.6.0.dev0) (2.31.0)\n",
            "Requirement already satisfied: tokenizers<0.15,>=0.14 in /usr/local/lib/python3.10/dist-packages (from transformers->peft==0.6.0.dev0) (0.14.0)\n",
            "Requirement already satisfied: fsspec in /usr/local/lib/python3.10/dist-packages (from huggingface-hub->accelerate>=0.21.0->peft==0.6.0.dev0) (2023.6.0)\n",
            "Requirement already satisfied: MarkupSafe>=2.0 in /usr/local/lib/python3.10/dist-packages (from jinja2->torch>=1.13.0->peft==0.6.0.dev0) (2.1.3)\n",
            "Requirement already satisfied: charset-normalizer<4,>=2 in /usr/local/lib/python3.10/dist-packages (from requests->transformers->peft==0.6.0.dev0) (3.2.0)\n",
            "Requirement already satisfied: idna<4,>=2.5 in /usr/local/lib/python3.10/dist-packages (from requests->transformers->peft==0.6.0.dev0) (3.4)\n",
            "Requirement already satisfied: urllib3<3,>=1.21.1 in /usr/local/lib/python3.10/dist-packages (from requests->transformers->peft==0.6.0.dev0) (2.0.5)\n",
            "Requirement already satisfied: certifi>=2017.4.17 in /usr/local/lib/python3.10/dist-packages (from requests->transformers->peft==0.6.0.dev0) (2023.7.22)\n",
            "Requirement already satisfied: mpmath>=0.19 in /usr/local/lib/python3.10/dist-packages (from sympy->torch>=1.13.0->peft==0.6.0.dev0) (1.3.0)\n",
            "  Installing build dependencies ... \u001b[?25l\u001b[?25hdone\n",
            "  Getting requirements to build wheel ... \u001b[?25l\u001b[?25hdone\n",
            "  Preparing metadata (pyproject.toml) ... \u001b[?25l\u001b[?25hdone\n"
          ]
        }
      ],
      "source": [
        "# !pip uninstall -y tensorflow --quiet\n",
        "# !pip install --upgrade git+https://github.com/huggingface/transformers\n",
        "# !pip install --upgrade git+https://github.com/huggingface/peft.git\n",
        "# !pip install git+https://github.com/ludwig-ai/ludwig.git@master --quiet"
      ]
    },
    {
      "cell_type": "code",
      "execution_count": null,
      "metadata": {
        "colab": {
          "base_uri": "https://localhost:8080/"
        },
        "id": "Mj6CRIq4_eYd",
        "outputId": "50e016dc-0420-404f-ad44-c542d2eb9a4d"
      },
      "outputs": [
        {
          "name": "stdout",
          "output_type": "stream",
          "text": [
            "Requirement already satisfied: datasets in /usr/local/lib/python3.10/dist-packages (2.14.5)\n",
            "Requirement already satisfied: numpy>=1.17 in /usr/local/lib/python3.10/dist-packages (from datasets) (1.23.5)\n",
            "Requirement already satisfied: pyarrow>=8.0.0 in /usr/local/lib/python3.10/dist-packages (from datasets) (9.0.0)\n",
            "Requirement already satisfied: dill<0.3.8,>=0.3.0 in /usr/local/lib/python3.10/dist-packages (from datasets) (0.3.7)\n",
            "Requirement already satisfied: pandas in /usr/local/lib/python3.10/dist-packages (from datasets) (1.5.3)\n",
            "Requirement already satisfied: requests>=2.19.0 in /usr/local/lib/python3.10/dist-packages (from datasets) (2.31.0)\n",
            "Requirement already satisfied: tqdm>=4.62.1 in /usr/local/lib/python3.10/dist-packages (from datasets) (4.66.1)\n",
            "Requirement already satisfied: xxhash in /usr/local/lib/python3.10/dist-packages (from datasets) (3.4.1)\n",
            "Requirement already satisfied: multiprocess in /usr/local/lib/python3.10/dist-packages (from datasets) (0.70.15)\n",
            "Requirement already satisfied: fsspec[http]<2023.9.0,>=2023.1.0 in /usr/local/lib/python3.10/dist-packages (from datasets) (2023.6.0)\n",
            "Requirement already satisfied: aiohttp in /usr/local/lib/python3.10/dist-packages (from datasets) (3.8.5)\n",
            "Requirement already satisfied: huggingface-hub<1.0.0,>=0.14.0 in /usr/local/lib/python3.10/dist-packages (from datasets) (0.16.4)\n",
            "Requirement already satisfied: packaging in /usr/local/lib/python3.10/dist-packages (from datasets) (23.2)\n",
            "Requirement already satisfied: pyyaml>=5.1 in /usr/local/lib/python3.10/dist-packages (from datasets) (6.0)\n",
            "Requirement already satisfied: attrs>=17.3.0 in /usr/local/lib/python3.10/dist-packages (from aiohttp->datasets) (23.1.0)\n",
            "Requirement already satisfied: charset-normalizer<4.0,>=2.0 in /usr/local/lib/python3.10/dist-packages (from aiohttp->datasets) (3.3.0)\n",
            "Requirement already satisfied: multidict<7.0,>=4.5 in /usr/local/lib/python3.10/dist-packages (from aiohttp->datasets) (6.0.4)\n",
            "Requirement already satisfied: async-timeout<5.0,>=4.0.0a3 in /usr/local/lib/python3.10/dist-packages (from aiohttp->datasets) (4.0.3)\n",
            "Requirement already satisfied: yarl<2.0,>=1.0 in /usr/local/lib/python3.10/dist-packages (from aiohttp->datasets) (1.9.2)\n",
            "Requirement already satisfied: frozenlist>=1.1.1 in /usr/local/lib/python3.10/dist-packages (from aiohttp->datasets) (1.4.0)\n",
            "Requirement already satisfied: aiosignal>=1.1.2 in /usr/local/lib/python3.10/dist-packages (from aiohttp->datasets) (1.3.1)\n",
            "Requirement already satisfied: filelock in /usr/local/lib/python3.10/dist-packages (from huggingface-hub<1.0.0,>=0.14.0->datasets) (3.12.4)\n",
            "Requirement already satisfied: typing-extensions>=3.7.4.3 in /usr/local/lib/python3.10/dist-packages (from huggingface-hub<1.0.0,>=0.14.0->datasets) (4.5.0)\n",
            "Requirement already satisfied: idna<4,>=2.5 in /usr/local/lib/python3.10/dist-packages (from requests>=2.19.0->datasets) (3.4)\n",
            "Requirement already satisfied: urllib3<3,>=1.21.1 in /usr/local/lib/python3.10/dist-packages (from requests>=2.19.0->datasets) (2.0.6)\n",
            "Requirement already satisfied: certifi>=2017.4.17 in /usr/local/lib/python3.10/dist-packages (from requests>=2.19.0->datasets) (2023.7.22)\n",
            "Requirement already satisfied: python-dateutil>=2.8.1 in /usr/local/lib/python3.10/dist-packages (from pandas->datasets) (2.8.2)\n",
            "Requirement already satisfied: pytz>=2020.1 in /usr/local/lib/python3.10/dist-packages (from pandas->datasets) (2023.3.post1)\n",
            "Requirement already satisfied: six>=1.5 in /usr/local/lib/python3.10/dist-packages (from python-dateutil>=2.8.1->pandas->datasets) (1.16.0)\n"
          ]
        }
      ],
      "source": [
        "# !pip install --upgrade datasets"
      ]
    },
    {
      "cell_type": "code",
      "execution_count": null,
      "metadata": {
        "colab": {
          "base_uri": "https://localhost:8080/"
        },
        "id": "zlK4qI6a_lw6",
        "outputId": "ed951e56-7248-4ab7-ab9b-8601c3a3d45b"
      },
      "outputs": [
        {
          "name": "stdout",
          "output_type": "stream",
          "text": [
            "Requirement already satisfied: py7zr in /usr/local/lib/python3.10/dist-packages (0.20.6)\n",
            "Requirement already satisfied: texttable in /usr/local/lib/python3.10/dist-packages (from py7zr) (1.7.0)\n",
            "Requirement already satisfied: pycryptodomex>=3.6.6 in /usr/local/lib/python3.10/dist-packages (from py7zr) (3.19.0)\n",
            "Requirement already satisfied: pyzstd>=0.14.4 in /usr/local/lib/python3.10/dist-packages (from py7zr) (0.15.9)\n",
            "Requirement already satisfied: pyppmd<1.1.0,>=0.18.1 in /usr/local/lib/python3.10/dist-packages (from py7zr) (1.0.0)\n",
            "Requirement already satisfied: pybcj>=0.6.0 in /usr/local/lib/python3.10/dist-packages (from py7zr) (1.0.1)\n",
            "Requirement already satisfied: multivolumefile>=0.2.3 in /usr/local/lib/python3.10/dist-packages (from py7zr) (0.2.3)\n",
            "Requirement already satisfied: brotli>=1.0.9 in /usr/local/lib/python3.10/dist-packages (from py7zr) (1.1.0)\n",
            "Requirement already satisfied: inflate64>=0.3.1 in /usr/local/lib/python3.10/dist-packages (from py7zr) (0.3.1)\n",
            "Requirement already satisfied: psutil in /usr/local/lib/python3.10/dist-packages (from py7zr) (5.9.4)\n"
          ]
        }
      ],
      "source": [
        "# !pip install py7zr"
      ]
    },
    {
      "cell_type": "code",
      "execution_count": null,
      "metadata": {
        "colab": {
          "base_uri": "https://localhost:8080/"
        },
        "id": "lxBu-hTh_sET",
        "outputId": "156a4ed7-63b3-49df-dfdb-dc2ce8545ecc"
      },
      "outputs": [
        {
          "name": "stdout",
          "output_type": "stream",
          "text": [
            "Requirement already satisfied: xformers in /usr/local/lib/python3.10/dist-packages (0.0.22)\n",
            "Requirement already satisfied: numpy in /usr/local/lib/python3.10/dist-packages (from xformers) (1.23.5)\n",
            "Requirement already satisfied: torch==2.0.1 in /usr/local/lib/python3.10/dist-packages (from xformers) (2.0.1+cu118)\n",
            "Requirement already satisfied: filelock in /usr/local/lib/python3.10/dist-packages (from torch==2.0.1->xformers) (3.12.4)\n",
            "Requirement already satisfied: typing-extensions in /usr/local/lib/python3.10/dist-packages (from torch==2.0.1->xformers) (4.5.0)\n",
            "Requirement already satisfied: sympy in /usr/local/lib/python3.10/dist-packages (from torch==2.0.1->xformers) (1.12)\n",
            "Requirement already satisfied: networkx in /usr/local/lib/python3.10/dist-packages (from torch==2.0.1->xformers) (3.1)\n",
            "Requirement already satisfied: jinja2 in /usr/local/lib/python3.10/dist-packages (from torch==2.0.1->xformers) (3.1.2)\n",
            "Requirement already satisfied: triton==2.0.0 in /usr/local/lib/python3.10/dist-packages (from torch==2.0.1->xformers) (2.0.0)\n",
            "Requirement already satisfied: cmake in /usr/local/lib/python3.10/dist-packages (from triton==2.0.0->torch==2.0.1->xformers) (3.27.6)\n",
            "Requirement already satisfied: lit in /usr/local/lib/python3.10/dist-packages (from triton==2.0.0->torch==2.0.1->xformers) (17.0.2)\n",
            "Requirement already satisfied: MarkupSafe>=2.0 in /usr/local/lib/python3.10/dist-packages (from jinja2->torch==2.0.1->xformers) (2.1.3)\n",
            "Requirement already satisfied: mpmath>=0.19 in /usr/local/lib/python3.10/dist-packages (from sympy->torch==2.0.1->xformers) (1.3.0)\n"
          ]
        }
      ],
      "source": [
        "# !pip install xformers"
      ]
    },
    {
      "cell_type": "code",
      "execution_count": null,
      "metadata": {
        "id": "SFnqVkBgt9VX"
      },
      "outputs": [],
      "source": []
    },
    {
      "cell_type": "code",
      "execution_count": null,
      "metadata": {
        "colab": {
          "base_uri": "https://localhost:8080/"
        },
        "id": "RqicMQs_t8Nu",
        "outputId": "79d94c34-0934-4592-e91d-85ca09b97561"
      },
      "outputs": [
        {
          "name": "stdout",
          "output_type": "stream",
          "text": [
            "Name: torch\n",
            "Version: 2.0.1+cu118\n",
            "Summary: Tensors and Dynamic neural networks in Python with strong GPU acceleration\n",
            "Home-page: https://pytorch.org/\n",
            "Author: PyTorch Team\n",
            "Author-email: packages@pytorch.org\n",
            "License: BSD-3\n",
            "Location: /usr/local/lib/python3.10/dist-packages\n",
            "Requires: filelock, jinja2, networkx, sympy, triton, typing-extensions\n",
            "Required-by: accelerate, fastai, ludwig, peft, torchaudio, torchdata, torchmetrics, torchtext, torchvision, triton, xformers\n"
          ]
        }
      ],
      "source": [
        "!pip show torch"
      ]
    },
    {
      "cell_type": "code",
      "execution_count": null,
      "metadata": {
        "colab": {
          "base_uri": "https://localhost:8080/"
        },
        "id": "OwO4iNggt7-F",
        "outputId": "08026894-1293-4d1d-a89d-dbe1bfc1da45"
      },
      "outputs": [
        {
          "name": "stdout",
          "output_type": "stream",
          "text": [
            "Name: transformers\n",
            "Version: 4.35.0.dev0\n",
            "Summary: State-of-the-art Machine Learning for JAX, PyTorch and TensorFlow\n",
            "Home-page: https://github.com/huggingface/transformers\n",
            "Author: The Hugging Face team (past and future) with the help of all our contributors (https://github.com/huggingface/transformers/graphs/contributors)\n",
            "Author-email: transformers@huggingface.co\n",
            "License: Apache 2.0 License\n",
            "Location: /usr/local/lib/python3.10/dist-packages\n",
            "Requires: filelock, huggingface-hub, numpy, packaging, pyyaml, regex, requests, safetensors, tokenizers, tqdm\n",
            "Required-by: ludwig, peft\n"
          ]
        }
      ],
      "source": [
        "!pip show transformers"
      ]
    },
    {
      "cell_type": "code",
      "execution_count": null,
      "metadata": {
        "id": "fd_LA_2Wx_qr"
      },
      "outputs": [],
      "source": [
        "\n",
        "import os\n",
        "\n",
        "import copy\n",
        "\n",
        "import gc\n",
        "\n",
        "from typing import Any, Callable\n",
        "\n",
        "import time\n",
        "\n",
        "from functools import wraps\n",
        "from inspect import (\n",
        "    BoundArguments,\n",
        "    signature,\n",
        ")\n",
        "\n",
        "from collections import OrderedDict\n",
        "\n",
        "from google.colab import data_table\n",
        "\n",
        "import yaml\n",
        "\n",
        "import numpy as np\n",
        "import pandas as pd\n",
        "\n",
        "import torch\n",
        "from torch import Tensor\n",
        "\n",
        "import datasets\n",
        "from datasets import load_dataset, Dataset, DatasetDict\n",
        "\n",
        "import transformers\n",
        "from transformers import BitsAndBytesConfig, AutoModelForCausalLM, LlamaForCausalLM, MistralForCausalLM, AutoTokenizer, LlamaTokenizerFast, GenerationConfig, TextGenerationPipeline, BatchEncoding\n",
        "from transformers.generation.utils import GreedySearchDecoderOnlyOutput\n",
        "\n",
        "from peft import PeftModel, PeftModelForCausalLM, PeftConfig, LoraConfig\n",
        "\n",
        "from ludwig.api import LudwigModel, TrainingResults\n",
        "\n",
        "\n",
        "import logging"
      ]
    },
    {
      "cell_type": "markdown",
      "metadata": {
        "id": "A2SRHcKAJYuu"
      },
      "source": [
        "Enable text wrapping so we don't have to scroll horizontally and create a function to flush CUDA cache."
      ]
    },
    {
      "cell_type": "code",
      "execution_count": null,
      "metadata": {
        "id": "Ht4eVWxB13QL"
      },
      "outputs": [],
      "source": [
        "from IPython.display import HTML, display\n",
        "\n",
        "def set_css() -> None:\n",
        "  display(HTML('''\n",
        "  <style>\n",
        "    pre {\n",
        "        white-space: pre-wrap;\n",
        "    }\n",
        "  </style>\n",
        "  '''))\n",
        "\n",
        "get_ipython().events.register('pre_run_cell', set_css)\n"
      ]
    },
    {
      "cell_type": "code",
      "execution_count": null,
      "metadata": {
        "colab": {
          "base_uri": "https://localhost:8080/",
          "height": 17
        },
        "id": "E_dFOQDtqY3R",
        "outputId": "f85d145b-274f-41ac-cbff-a23d50427504"
      },
      "outputs": [
        {
          "data": {
            "text/html": [
              "\n",
              "  <style>\n",
              "    pre {\n",
              "        white-space: pre-wrap;\n",
              "    }\n",
              "  </style>\n",
              "  "
            ],
            "text/plain": [
              "<IPython.core.display.HTML object>"
            ]
          },
          "metadata": {},
          "output_type": "display_data"
        }
      ],
      "source": [
        "def predict(model: LudwigModel, df_test: pd.DataFrame) -> list[list[str]]:\n",
        "  return model.predict(df_test)[0][\"summary_response\"].tolist()"
      ]
    },
    {
      "cell_type": "code",
      "execution_count": null,
      "metadata": {
        "id": "wzdU2cA6eEY5"
      },
      "outputs": [],
      "source": []
    },
    {
      "cell_type": "code",
      "execution_count": null,
      "metadata": {
        "id": "g0g8MijBeFFW"
      },
      "outputs": [],
      "source": []
    },
    {
      "cell_type": "markdown",
      "metadata": {
        "id": "SUkPQ9OLP0Po"
      },
      "source": [
        "### **Setup Your HuggingFace Token** 🤗\n",
        "\n",
        "Obtain a [HuggingFace API Token](https://huggingface.co/settings/tokens) before proceeding. You may need to signup on HuggingFace if you do not aleady have an account: https://huggingface.co/join\n"
      ]
    },
    {
      "cell_type": "code",
      "execution_count": null,
      "metadata": {
        "colab": {
          "base_uri": "https://localhost:8080/",
          "height": 35
        },
        "id": "nXOIxmfbQHSz",
        "outputId": "26a17015-0fd1-4822-fa7d-c5310bad9634"
      },
      "outputs": [
        {
          "data": {
            "text/html": [
              "\n",
              "  <style>\n",
              "    pre {\n",
              "        white-space: pre-wrap;\n",
              "    }\n",
              "  </style>\n",
              "  "
            ],
            "text/plain": [
              "<IPython.core.display.HTML object>"
            ]
          },
          "metadata": {},
          "output_type": "display_data"
        },
        {
          "name": "stdout",
          "output_type": "stream",
          "text": [
            "Token:··········\n"
          ]
        }
      ],
      "source": [
        "import getpass\n",
        "# import locale; locale.getpreferredencoding = lambda: \"UTF-8\"\n",
        "import logging\n",
        "import os\n",
        "import torch\n",
        "import yaml\n",
        "\n",
        "import locale\n",
        "def getpreferredencoding(do_setlocale = True):\n",
        "    return \"UTF-8\"\n",
        "\n",
        "locale.getpreferredencoding = getpreferredencoding\n",
        "\n",
        "\n",
        "os.environ[\"HUGGING_FACE_HUB_TOKEN\"] = getpass.getpass(\"Token:\")\n",
        "assert os.environ[\"HUGGING_FACE_HUB_TOKEN\"]"
      ]
    },
    {
      "cell_type": "markdown",
      "metadata": {
        "id": "sV0D2rjRbk4z"
      },
      "source": [
        "### **Import The SAMSum Dataset** 📋\n",
        "\n"
      ]
    },
    {
      "cell_type": "code",
      "execution_count": null,
      "metadata": {
        "colab": {
          "base_uri": "https://localhost:8080/",
          "height": 17
        },
        "id": "9G2U5Acllz10",
        "outputId": "ae5e7f97-ac12-463f-9519-0baf2bd4c8be"
      },
      "outputs": [
        {
          "data": {
            "text/html": [
              "\n",
              "  <style>\n",
              "    pre {\n",
              "        white-space: pre-wrap;\n",
              "    }\n",
              "  </style>\n",
              "  "
            ],
            "text/plain": [
              "<IPython.core.display.HTML object>"
            ]
          },
          "metadata": {},
          "output_type": "display_data"
        }
      ],
      "source": [
        "import datasets\n",
        "from datasets import load_dataset, Dataset, DatasetDict"
      ]
    },
    {
      "cell_type": "code",
      "execution_count": null,
      "metadata": {
        "colab": {
          "base_uri": "https://localhost:8080/",
          "height": 267
        },
        "id": "vy6LbLqNpD5Y",
        "outputId": "70005825-fac3-4012-e28a-f8bf4b1906fd"
      },
      "outputs": [
        {
          "data": {
            "text/html": [
              "\n",
              "  <style>\n",
              "    pre {\n",
              "        white-space: pre-wrap;\n",
              "    }\n",
              "  </style>\n",
              "  "
            ],
            "text/plain": [
              "<IPython.core.display.HTML object>"
            ]
          },
          "metadata": {},
          "output_type": "display_data"
        },
        {
          "data": {
            "text/plain": [
              "DatasetDict({\n",
              "    train: Dataset({\n",
              "        features: ['id', 'dialogue', 'summary'],\n",
              "        num_rows: 14732\n",
              "    })\n",
              "    test: Dataset({\n",
              "        features: ['id', 'dialogue', 'summary'],\n",
              "        num_rows: 819\n",
              "    })\n",
              "    validation: Dataset({\n",
              "        features: ['id', 'dialogue', 'summary'],\n",
              "        num_rows: 818\n",
              "    })\n",
              "})"
            ]
          },
          "execution_count": 16,
          "metadata": {},
          "output_type": "execute_result"
        }
      ],
      "source": [
        "samsum_dataset_dict: DatasetDict = datasets.load_dataset(\"samsum\")\n",
        "samsum_dataset_dict"
      ]
    },
    {
      "cell_type": "code",
      "execution_count": null,
      "metadata": {
        "colab": {
          "base_uri": "https://localhost:8080/",
          "height": 17
        },
        "id": "Xbsyizk1lzlI",
        "outputId": "c9cd3846-1e55-4572-f4e4-989ccbfacb36"
      },
      "outputs": [
        {
          "data": {
            "text/html": [
              "\n",
              "  <style>\n",
              "    pre {\n",
              "        white-space: pre-wrap;\n",
              "    }\n",
              "  </style>\n",
              "  "
            ],
            "text/plain": [
              "<IPython.core.display.HTML object>"
            ]
          },
          "metadata": {},
          "output_type": "display_data"
        }
      ],
      "source": [
        "train_dataset: Dataset = samsum_dataset_dict[\"train\"]\n",
        "test_dataset: Dataset = samsum_dataset_dict[\"test\"]\n",
        "validation_dataset: Dataset = samsum_dataset_dict[\"validation\"]"
      ]
    },
    {
      "cell_type": "code",
      "execution_count": null,
      "metadata": {
        "colab": {
          "base_uri": "https://localhost:8080/",
          "height": 17
        },
        "id": "KCOZtrnmpixz",
        "outputId": "ca6272d8-3461-4ac0-a69d-d3ea2803a8a2"
      },
      "outputs": [
        {
          "data": {
            "text/html": [
              "\n",
              "  <style>\n",
              "    pre {\n",
              "        white-space: pre-wrap;\n",
              "    }\n",
              "  </style>\n",
              "  "
            ],
            "text/plain": [
              "<IPython.core.display.HTML object>"
            ]
          },
          "metadata": {},
          "output_type": "display_data"
        }
      ],
      "source": [
        "df_train: pd.DataFrame = train_dataset.to_pandas()\n",
        "df_test: pd.DataFrame = test_dataset.to_pandas()\n",
        "df_validation: pd.DataFrame = validation_dataset.to_pandas()"
      ]
    },
    {
      "cell_type": "code",
      "execution_count": null,
      "metadata": {
        "colab": {
          "base_uri": "https://localhost:8080/",
          "height": 17
        },
        "id": "XzRWZ_2EX4kz",
        "outputId": "9e1c4a2a-837f-42b3-9903-c28c2a5f788a"
      },
      "outputs": [
        {
          "data": {
            "text/html": [
              "\n",
              "  <style>\n",
              "    pre {\n",
              "        white-space: pre-wrap;\n",
              "    }\n",
              "  </style>\n",
              "  "
            ],
            "text/plain": [
              "<IPython.core.display.HTML object>"
            ]
          },
          "metadata": {},
          "output_type": "display_data"
        }
      ],
      "source": [
        "df_evaluation: pd.DataFrame = df_train.sample(n=10, random_state=200)\n",
        "df_train = df_train.drop(df_evaluation.index)"
      ]
    },
    {
      "cell_type": "code",
      "execution_count": null,
      "metadata": {
        "colab": {
          "base_uri": "https://localhost:8080/",
          "height": 17
        },
        "id": "wHRTHrj7pilB",
        "outputId": "23c66961-a9f0-48c4-a9b6-ac2d312cd29b"
      },
      "outputs": [
        {
          "data": {
            "text/html": [
              "\n",
              "  <style>\n",
              "    pre {\n",
              "        white-space: pre-wrap;\n",
              "    }\n",
              "  </style>\n",
              "  "
            ],
            "text/plain": [
              "<IPython.core.display.HTML object>"
            ]
          },
          "metadata": {},
          "output_type": "display_data"
        }
      ],
      "source": [
        "df_train = df_train.sample(n=700, random_state=200)\n",
        "df_test = df_test.sample(n=200, random_state=200)\n",
        "df_validation = df_validation.sample(n=100, random_state=200)"
      ]
    },
    {
      "cell_type": "code",
      "execution_count": null,
      "metadata": {
        "colab": {
          "base_uri": "https://localhost:8080/",
          "height": 17
        },
        "id": "0VAG6CQIq6oK",
        "outputId": "09091476-4d27-43cd-da03-1540cccdab6a"
      },
      "outputs": [
        {
          "data": {
            "text/html": [
              "\n",
              "  <style>\n",
              "    pre {\n",
              "        white-space: pre-wrap;\n",
              "    }\n",
              "  </style>\n",
              "  "
            ],
            "text/plain": [
              "<IPython.core.display.HTML object>"
            ]
          },
          "metadata": {},
          "output_type": "display_data"
        }
      ],
      "source": [
        "assert df_train.shape[0] == 700\n",
        "assert df_test.shape[0] == 200\n",
        "assert df_validation.shape[0] == 100"
      ]
    },
    {
      "cell_type": "code",
      "execution_count": null,
      "metadata": {
        "colab": {
          "base_uri": "https://localhost:8080/",
          "height": 17
        },
        "id": "jDFfITwQr-9s",
        "outputId": "e5e75a75-5431-4db3-ae53-5f9b9a169590"
      },
      "outputs": [
        {
          "data": {
            "text/html": [
              "\n",
              "  <style>\n",
              "    pre {\n",
              "        white-space: pre-wrap;\n",
              "    }\n",
              "  </style>\n",
              "  "
            ],
            "text/plain": [
              "<IPython.core.display.HTML object>"
            ]
          },
          "metadata": {},
          "output_type": "display_data"
        }
      ],
      "source": [
        "from google.colab import data_table; data_table.enable_dataframe_formatter()\n",
        "import numpy as np; np.random.seed(123)"
      ]
    },
    {
      "cell_type": "code",
      "execution_count": null,
      "metadata": {
        "colab": {
          "base_uri": "https://localhost:8080/",
          "height": 17
        },
        "id": "_XjPa4XCq6dv",
        "outputId": "da1739d0-6fc7-4170-be20-8123cd962a7b"
      },
      "outputs": [
        {
          "data": {
            "text/html": [
              "\n",
              "  <style>\n",
              "    pre {\n",
              "        white-space: pre-wrap;\n",
              "    }\n",
              "  </style>\n",
              "  "
            ],
            "text/plain": [
              "<IPython.core.display.HTML object>"
            ]
          },
          "metadata": {},
          "output_type": "display_data"
        }
      ],
      "source": [
        "df_train[\"split\"] = np.zeros(df_train.shape[0])\n",
        "df_test[\"split\"] = np.ones(df_test.shape[0])\n",
        "df_validation[\"split\"] = np.full(df_validation.shape[0], 2)"
      ]
    },
    {
      "cell_type": "code",
      "execution_count": null,
      "metadata": {
        "colab": {
          "base_uri": "https://localhost:8080/",
          "height": 17
        },
        "id": "QwjCzdMsq6RC",
        "outputId": "738d845f-1e81-4095-f6e4-81273b99ec7b"
      },
      "outputs": [
        {
          "data": {
            "text/html": [
              "\n",
              "  <style>\n",
              "    pre {\n",
              "        white-space: pre-wrap;\n",
              "    }\n",
              "  </style>\n",
              "  "
            ],
            "text/plain": [
              "<IPython.core.display.HTML object>"
            ]
          },
          "metadata": {},
          "output_type": "display_data"
        }
      ],
      "source": [
        "df_dataset = pd.concat([df_train, df_test, df_validation])"
      ]
    },
    {
      "cell_type": "code",
      "execution_count": null,
      "metadata": {
        "colab": {
          "base_uri": "https://localhost:8080/",
          "height": 17
        },
        "id": "o0yh3pl3piVJ",
        "outputId": "d254cc96-d925-4379-bfc9-e0267e52291d"
      },
      "outputs": [
        {
          "data": {
            "text/html": [
              "\n",
              "  <style>\n",
              "    pre {\n",
              "        white-space: pre-wrap;\n",
              "    }\n",
              "  </style>\n",
              "  "
            ],
            "text/plain": [
              "<IPython.core.display.HTML object>"
            ]
          },
          "metadata": {},
          "output_type": "display_data"
        }
      ],
      "source": [
        "df_dataset[\"split\"] = df_dataset[\"split\"].astype(int)"
      ]
    },
    {
      "cell_type": "code",
      "execution_count": null,
      "metadata": {
        "colab": {
          "base_uri": "https://localhost:8080/",
          "height": 35
        },
        "id": "aHV-Gty_s1sA",
        "outputId": "2b48c073-fd7c-4931-8f0b-2a4284a85e71"
      },
      "outputs": [
        {
          "data": {
            "text/html": [
              "\n",
              "  <style>\n",
              "    pre {\n",
              "        white-space: pre-wrap;\n",
              "    }\n",
              "  </style>\n",
              "  "
            ],
            "text/plain": [
              "<IPython.core.display.HTML object>"
            ]
          },
          "metadata": {},
          "output_type": "display_data"
        },
        {
          "data": {
            "text/plain": [
              "(1000, 4)"
            ]
          },
          "execution_count": 26,
          "metadata": {},
          "output_type": "execute_result"
        }
      ],
      "source": [
        "df_dataset.shape"
      ]
    },
    {
      "cell_type": "code",
      "execution_count": null,
      "metadata": {
        "colab": {
          "base_uri": "https://localhost:8080/",
          "height": 17
        },
        "id": "sjj5g2bOYpDV",
        "outputId": "2373c735-9faa-478a-cc6b-6636f418a383"
      },
      "outputs": [
        {
          "data": {
            "text/html": [
              "\n",
              "  <style>\n",
              "    pre {\n",
              "        white-space: pre-wrap;\n",
              "    }\n",
              "  </style>\n",
              "  "
            ],
            "text/plain": [
              "<IPython.core.display.HTML object>"
            ]
          },
          "metadata": {},
          "output_type": "display_data"
        }
      ],
      "source": [
        "assert df_dataset[df_dataset[\"split\"] == 0].shape[0] == 700\n",
        "assert df_dataset[df_dataset[\"split\"] == 1].shape[0] == 200\n",
        "assert df_dataset[df_dataset[\"split\"] == 2].shape[0] == 100"
      ]
    },
    {
      "cell_type": "code",
      "execution_count": null,
      "metadata": {
        "colab": {
          "base_uri": "https://localhost:8080/",
          "height": 1610
        },
        "id": "6YlNOIOSlzNM",
        "outputId": "f0ad3ea6-43c6-4117-918e-aeefcfe8367f"
      },
      "outputs": [
        {
          "data": {
            "text/html": [
              "\n",
              "  <style>\n",
              "    pre {\n",
              "        white-space: pre-wrap;\n",
              "    }\n",
              "  </style>\n",
              "  "
            ],
            "text/plain": [
              "<IPython.core.display.HTML object>"
            ]
          },
          "metadata": {},
          "output_type": "display_data"
        },
        {
          "data": {
            "application/vnd.google.colaboratory.module+javascript": "\n      import \"https://ssl.gstatic.com/colaboratory/data_table/881c4a0d49046431/data_table.js\";\n\n      const table = window.createDataTable({\n        data: [[{\n            'v': 7270,\n            'f': \"7270\",\n        },\n\"13828796\",\n\"Adella: Hey!! So, for the longest time I've a crazy idea, that we should compose something together :D (Seeing as we both have Musescore, why not?) Basically, I would compose a few bars of music, then you, then me ect. What do you think?\\r\\nRod: Great idea \\r\\nAdella: :D\\r\\nRod: Have you composed something already?\\r\\nAdella: No! :P Wwould you like to start? We have different styles, but I don't mind adjusting to whatever you create.\\r\\nRod: Okay, I can try :) I'm curious what we'll create. XD\\r\\nAdella: Oh, and I'm insisting on the rule: \\\"I'll compose it when I compose it and send it when I send it\\\". Sounds good?\\r\\nRod: Sounds great! Obviously we're both so busy and this definitely doesn't take priority :)\\r\\nRod: I'll probably only manage to get started on the weekend. \\r\\nAdella: That's alright - are you sure you're okay with starting? I don't mind.\\r\\nRod: No, it's fine :) I want to.\\r\\nAdella: Great! :D See you on the other side ;)\",\n\"Rod and Adella will compose a song together. They are both busy and Rod will start first at the weekend.\",\n{\n            'v': 0,\n            'f': \"0\",\n        }],\n [{\n            'v': 1109,\n            'f': \"1109\",\n        },\n\"13863061\",\n\"Tori: New hair!\\nTori: <file_photo>\\nHugh: Pretty girl \\ud83d\\ude0d\\nTori: \\ud83d\\ude0a\",\n\"Hugh likes Tori's new haircut.\",\n{\n            'v': 0,\n            'f': \"0\",\n        }],\n [{\n            'v': 13165,\n            'f': \"13165\",\n        },\n\"13681152\",\n\"Martin: Hi Tom, this is my new mobile number in my new country. I hope you're all fine and enjoy your christmas holidays? Speak to you soon.\\r\\nTom: Hi Martin nice to hear from you.\\r\\nTom: we're all ready to come and play cards at your new home, what do you think of that? Everyone is ok, we only need the cards\\r\\nTom:  <file_photo>\\r\\nMartin: I miss you all. Ok for cards at home. Bring your own cards, but not the spoon \\ud83d\\ude02\\r\\nMartin: don't forgot the bottles\\r\\nTom: \\ud83d\\ude02\\ud83d\\ude02\\r\\nMartin: Have a nice christmas \\r\\nTom: you too. we think about you, it'll be great to come and visit you next year... with ou without cards, but with \\ud83c\\udf7e\",\n\"Martin and Tom are going to meet next year to play cards and have a drink together at Martin's.\",\n{\n            'v': 0,\n            'f': \"0\",\n        }],\n [{\n            'v': 11264,\n            'f': \"11264\",\n        },\n\"13716583\",\n\"Phoebe: I had a terrible day. Anyone up for some cheerful movie today?\\r\\nJennifer: There is Despicable Me in Helios at 8.\\r\\nPhoebe: Sounds lovely, thank you, hon.\\r\\nPatrick: Sorry, ladies, no can do today. But, Phoebs, I\\u2019m sending you a virtual hug\\r\\nPatrick: <file_gif>\\r\\nPhoebe: Thank you, sir <3 Next time! Jen, let\\u2019s meet at the entrance at 7.45, OK?\\r\\nJennifer: Sure, see you then.\",\n\"Phoebe had a terrible day. She will meet at 7:45 with Jennifer to watch Despicable Me in Helios. Patrick can't go.\",\n{\n            'v': 0,\n            'f': \"0\",\n        }],\n [{\n            'v': 11662,\n            'f': \"11662\",\n        },\n\"13812757\",\n\"Michael: I was in no mood for talk \\r\\nMichael: I was unpleasantly surprised to find they were talking about me behind my back\\r\\nRichard: Oh, I see\\r\\nRichard: Leave it behind\\r\\nRichard: Are you coming to a Christmas party though?\\r\\nMichael: Still thinking\\r\\nMichael: I don't want to give them any additional opportunity of gossiping \\r\\nRichard: You don't have influence on it\\r\\nMichael: Yeah, maybe you are wright \\r\\nRichard: You see, now you are talking\\r\\nRichard: How about before at my place?\\r\\nRichard: With Monika and Sandra?\\r\\nMichael: ...\\r\\nRichard: Does it mean yes?\\r\\nMichael: Yes, whatever...\\r\\nRichard: Come on man, don't be such a jerk\\r\\nRichard: We'll have fun\\r\\nRichard: Just come and I'll arrange everything\\r\\nMichael: Ok man\\r\\nMichael: Thx\\r\\nRichard: Ok settled then\",\n\"They were gossiping about Michael. He will come to the Christmas party. He, Richard, Monica and Sandra will have a before at Richard's place. \",\n{\n            'v': 0,\n            'f': \"0\",\n        }],\n [{\n            'v': 592,\n            'f': \"592\",\n        },\n\"13715945\",\n\"Nick: Opinions required! Gas or induction hob?\\r\\nBen: Having lived with an induction hob for a while, i\\u2019m not convinced.. \\r\\nRuth: induction- very sleek and quick to boil!\\r\\nBen: but it doesn\\u2019t maintain a constant temperature! Is it typical of all induction or i just got an old one?\\r\\nRuth: they pulse if use don\\u2019t use proper pans\\r\\nBen: what do you mean proper? Do you mean better+heavier?\\r\\nRuth: yeah, simply suitable\\r\\nBen: and i guess i have to learn how to use it..\\r\\nRuth: yeah, it\\u2019s just different comparing to gas\\r\\nChristian: gas, absolutely without a question- nothing else gives you the control!\\r\\nNick: I\\u2019m definitely more interested in a controllable consistent heat\\r\\nMary: with induction it\\u2019s like on and off so you have to regulate temperature.. \\r\\nKate: induction- yes, gas- no cause it takes ages to boil water!\\r\\nTim: you can always use an electric kettle you know?\\r\\nKate: haha! Not funny!\\r\\nKate: it\\u2019s easier to clean as well.\\r\\nHarry: I\\u2019d go for induction cause it keeps the temp after you finish cooking so the food is still warm \\r\\nTom: Induction! 100%\\r\\nSusan: our induction was terrible! I think it\\u2019s common!\\r\\nEmma: another vote for induction here! \\r\\nRuth: All chefs seem to say gas!\\r\\nTom: I sell more induction hobs then gas! It\\u2019s getting popular and i can see why!\\r\\nEmma: we got ours from the John Lewis outlet so it was ex display and therefore very affordable!\\r\\nNick: cheer guys for all your opinions! Great talk! I think i\\u2019ll go for.. Induction.\",\n\"Nick decided to buy an induction hob.\",\n{\n            'v': 0,\n            'f': \"0\",\n        }],\n [{\n            'v': 1681,\n            'f': \"1681\",\n        },\n\"13815727\",\n\"Aubrey: how was your trip, babe? are you already in the hotel?\\r\\nJackson: no, i'm not, my train is delayed by two hours... :/ there was an accident on the railway line and all trains were held up for 40 minutes\\r\\nJackson: and i sit next to the guy who's constantly humming\\r\\nJackson: he's driving me CRAZY!!\\r\\nAubrey: why won't you tell him to stop?\\r\\nJackson: because i've already asked him not to this\\r\\nJackson: he just stared at me for a while and then started humming even louder\\r\\nAubrey: what a jerk!\\r\\nAubrey: babe, let me know when you get to the hotel, ok?\\r\\nJackson: sure. i'm going to lose my mind here!\\r\\nAubrey: be brave, hon ;) love you :*\\r\\nJackson: I love you too! :* :*\",\n\"Jackson is on a trip. His journey on the train is not pleasant. He is annoyed by one of the passengers. The train is delayed because of an accident on the railway. Jackson will contact Aubrey once he arrives in the hotel.\",\n{\n            'v': 0,\n            'f': \"0\",\n        }],\n [{\n            'v': 3470,\n            'f': \"3470\",\n        },\n\"13611993\",\n\"Scott: Wanna smthg from the shop?\\r\\nJenna: no, thx\\r\\nScott: and from the pharmacy?\\r\\nJenna: oh yes, can you buy me an adhesive bandage?\\r\\nJenna: u know, yesterday I cut my finger\\u2026\\r\\nScott: u did what?\\r\\nJenna: I was slicing bread\\u2026 everything\\u2019s alright now. Don\\u2019t worry\\r\\nScott: OMG\\r\\nScott: sure, no probs\\r\\nJenna: thanx\",\n\"Jenna asks Scott to buy her an adhesive bandage. She cut her finger the previous day.\",\n{\n            'v': 0,\n            'f': \"0\",\n        }],\n [{\n            'v': 5690,\n            'f': \"5690\",\n        },\n\"13810506\",\n\"Jane: Hey gorgeous, have any plans for the summer? :D\\r\\nPatricia: Not yet, what are you up to? :>\\r\\nJane: Just been thinking what to do this and I kind of want to go somewhere far far away\\r\\nPatricia: Cool, up for that. Do you have anything specific in mind?\\r\\nJane: Yeah, couple of places. Cuba, Mexico or, other side, Thailand or Vietnam?\\r\\nPatricia: Wow, exotic! :D\\r\\nJane: Well, far far away as I said ;) Remember the guy I told you about? The traveller? He was telling me all about Cuba and Mexico, it sounded really cool.\\r\\nPatricia: Isn't it a bit dangerous?...\\r\\nJane: I don't know, I was thinking about going for an organised trip?\\r\\nPatricia: Ok, sounds fine. Never been on one, but happy to discover something new :)\\r\\nJane: I've been to a few and I think it's great if you don't have a lot of time and want to see a lot.\\r\\nPatricia: Are there any good trips? Cuba sounds cool, actually I'd prefer it to Mexico.\\r\\nJane: How about Vietnam or Thailand? We could look into both options.\\r\\nPatricia: Been to Thailand, but wouldn't mind coming back, the food <3\\r\\nJane: :D hahahaha. Honestly can't decide. There's that one really cool trip to Thailand, Vietnam and Cambodia.\\r\\nPatricia: Wow, sounds great! How much is it?\\r\\nJane: Around 2k for almost two weeks, seems fair to me.\\r\\nPatricia: Are the meals included? \\r\\nJane: Hm, breakfasts and some dinners, depends on where you are.\\r\\nPatricia: Cool, maybe it's even better so we could explore the local stuff ;)\\r\\nJane: So it kind of sounds Asia it is :D God, already excited <3\\r\\nPatricia: hahahaha, so it does! When could you get any time off? August is off limits for me and probably not the best month to go there.\\r\\nJane: I know, July then? It may be cheaper, because no one wants to go there in the summer :D\\r\\nPatricia: Quite true, July sounds fine for me. Gotta go tell my boss I need a time off and ready to go!\\r\\nJane: Yeah, start the countdown, I will contact the agency to book the trip. Will send you all details.\\r\\nPatricia: Thanks! Also, is it a direct flight?\\r\\nJane: Yes! Couldn't be more perfect, could it?\",\n\"Patricia and Jane will go on an organised trip to Thailand, Vietnam and Cambodia. They will go in July. Patricia will ask her boss for a time off and Jane will contact the agency. She will send Patricia the details. They will take a direct flight. The trip lasts almost 2 weeks and costs around 2k.\",\n{\n            'v': 0,\n            'f': \"0\",\n        }],\n [{\n            'v': 2512,\n            'f': \"2512\",\n        },\n\"13729573\",\n\"Regina: did you finish the required trainings they sent us this week?\\r\\nTatiana: no, not yet\\r\\nRegina: you should, the deadline is tomorrow\\r\\nTatiana: what? why didn't they say sooner?\\r\\nRegina: they did, it was in the memo\\r\\nTatiana: i didn't read it... shit\\r\\nRegina: you better get to it right away\\r\\nTatiana: is there a lot of them?\\r\\nRegina: they are all on this online platform we always work on but they took a lot of time\\r\\nTatiana: so how long? I asked if there is a lot of them?\\r\\nRegina: I tried to go as quickly as possible and it took me almost 9 hours\\r\\nTatiana: what?! shit... i am so screwed...\\r\\nRegina: if you start now you will make it tomorrow by the end of the day\\r\\nTatiana: i was supposed to have a day off tomorrow... i am so stupid\\r\\nRegina: oh crap :/ sorry to hear\\r\\nTatiana: yeah, i wanted to go home sooner to spend more time with my mom... i will have to cancel \\r\\nRegina: i can help you with some of the quizzes if you want, i probably remember a lot of answers\\r\\nTatiana: that would actually be great help but i don't want to take too much of your time\\r\\nRegina: no worries, we gotta help each other right?\\r\\nTatiana: yeah but are you sure?\\r\\nRegina: yes, we can do some of them together but you have to start now, otherwise you won't make it in time\\r\\nTatiana: I will... thanks a lot of reminding me, i can't imagine what would happen if i forgot it lol\\r\\nRegina: the boss wouldn't be too happy about it\\r\\nTatiana: that's for sure ;)\",\n\"Tatiana hasn't finished the required trainings. Regina needed 9 hours to complete them. Regina will help Tatiana but she has to start now to finish till tomorrow.\",\n{\n            'v': 0,\n            'f': \"0\",\n        }]],\n        columns: [[\"number\", \"index\"], [\"string\", \"id\"], [\"string\", \"dialogue\"], [\"string\", \"summary\"], [\"number\", \"split\"]],\n        columnOptions: [{\"width\": \"1px\", \"className\": \"index_column\"}],\n        rowsPerPage: 25,\n        helpUrl: \"https://colab.research.google.com/notebooks/data_table.ipynb\",\n        suppressOutputScrolling: true,\n        minimumWidth: undefined,\n      });\n\n      function appendQuickchartButton(parentElement) {\n        let quickchartButtonContainerElement = document.createElement('div');\n        quickchartButtonContainerElement.innerHTML = `\n<div id=\"df-93c5e1a2-44be-4bf9-895e-eb4348f60e07\">\n  <button class=\"colab-df-quickchart\" onclick=\"quickchart('df-93c5e1a2-44be-4bf9-895e-eb4348f60e07')\"\n            title=\"Suggest charts.\"\n            style=\"display:none;\">\n    \n<svg xmlns=\"http://www.w3.org/2000/svg\" height=\"24px\"viewBox=\"0 0 24 24\"\n     width=\"24px\">\n    <g>\n        <path d=\"M19 3H5c-1.1 0-2 .9-2 2v14c0 1.1.9 2 2 2h14c1.1 0 2-.9 2-2V5c0-1.1-.9-2-2-2zM9 17H7v-7h2v7zm4 0h-2V7h2v10zm4 0h-2v-4h2v4z\"/>\n    </g>\n</svg>\n  </button>\n  \n<style>\n  .colab-df-quickchart {\n      --bg-color: #E8F0FE;\n      --fill-color: #1967D2;\n      --hover-bg-color: #E2EBFA;\n      --hover-fill-color: #174EA6;\n      --disabled-fill-color: #AAA;\n      --disabled-bg-color: #DDD;\n  }\n\n  [theme=dark] .colab-df-quickchart {\n      --bg-color: #3B4455;\n      --fill-color: #D2E3FC;\n      --hover-bg-color: #434B5C;\n      --hover-fill-color: #FFFFFF;\n      --disabled-bg-color: #3B4455;\n      --disabled-fill-color: #666;\n  }\n\n  .colab-df-quickchart {\n    background-color: var(--bg-color);\n    border: none;\n    border-radius: 50%;\n    cursor: pointer;\n    display: none;\n    fill: var(--fill-color);\n    height: 32px;\n    padding: 0;\n    width: 32px;\n  }\n\n  .colab-df-quickchart:hover {\n    background-color: var(--hover-bg-color);\n    box-shadow: 0 1px 2px rgba(60, 64, 67, 0.3), 0 1px 3px 1px rgba(60, 64, 67, 0.15);\n    fill: var(--button-hover-fill-color);\n  }\n\n  .colab-df-quickchart-complete:disabled,\n  .colab-df-quickchart-complete:disabled:hover {\n    background-color: var(--disabled-bg-color);\n    fill: var(--disabled-fill-color);\n    box-shadow: none;\n  }\n\n  .colab-df-spinner {\n    border: 2px solid var(--fill-color);\n    border-color: transparent;\n    border-bottom-color: var(--fill-color);\n    animation:\n      spin 1s steps(1) infinite;\n  }\n\n  @keyframes spin {\n    0% {\n      border-color: transparent;\n      border-bottom-color: var(--fill-color);\n      border-left-color: var(--fill-color);\n    }\n    20% {\n      border-color: transparent;\n      border-left-color: var(--fill-color);\n      border-top-color: var(--fill-color);\n    }\n    30% {\n      border-color: transparent;\n      border-left-color: var(--fill-color);\n      border-top-color: var(--fill-color);\n      border-right-color: var(--fill-color);\n    }\n    40% {\n      border-color: transparent;\n      border-right-color: var(--fill-color);\n      border-top-color: var(--fill-color);\n    }\n    60% {\n      border-color: transparent;\n      border-right-color: var(--fill-color);\n    }\n    80% {\n      border-color: transparent;\n      border-right-color: var(--fill-color);\n      border-bottom-color: var(--fill-color);\n    }\n    90% {\n      border-color: transparent;\n      border-bottom-color: var(--fill-color);\n    }\n  }\n</style>\n\n  <script>\n    async function quickchart(key) {\n      const quickchartButtonEl =\n        document.querySelector('#' + key + ' button');\n      quickchartButtonEl.disabled = true;  // To prevent multiple clicks.\n      quickchartButtonEl.classList.add('colab-df-spinner');\n      try {\n        const charts = await google.colab.kernel.invokeFunction(\n            'suggestCharts', [key], {});\n      } catch (error) {\n        console.error('Error during call to suggestCharts:', error);\n      }\n      quickchartButtonEl.classList.remove('colab-df-spinner');\n      quickchartButtonEl.classList.add('colab-df-quickchart-complete');\n    }\n    (() => {\n      let quickchartButtonEl =\n        document.querySelector('#df-93c5e1a2-44be-4bf9-895e-eb4348f60e07 button');\n      quickchartButtonEl.style.display =\n        google.colab.kernel.accessAllowed ? 'block' : 'none';\n    })();\n  </script>\n</div>`;\n        parentElement.appendChild(quickchartButtonContainerElement);\n      }\n\n      appendQuickchartButton(table);\n    ",
            "text/html": [
              "\n",
              "  <div id=\"df-6913be01-08fc-4316-a0de-91de9b5b7512\" class=\"colab-df-container\">\n",
              "    <div>\n",
              "<style scoped>\n",
              "    .dataframe tbody tr th:only-of-type {\n",
              "        vertical-align: middle;\n",
              "    }\n",
              "\n",
              "    .dataframe tbody tr th {\n",
              "        vertical-align: top;\n",
              "    }\n",
              "\n",
              "    .dataframe thead th {\n",
              "        text-align: right;\n",
              "    }\n",
              "</style>\n",
              "<table border=\"1\" class=\"dataframe\">\n",
              "  <thead>\n",
              "    <tr style=\"text-align: right;\">\n",
              "      <th></th>\n",
              "      <th>id</th>\n",
              "      <th>dialogue</th>\n",
              "      <th>summary</th>\n",
              "      <th>split</th>\n",
              "    </tr>\n",
              "  </thead>\n",
              "  <tbody>\n",
              "    <tr>\n",
              "      <th>7270</th>\n",
              "      <td>13828796</td>\n",
              "      <td>Adella: Hey!! So, for the longest time I've a ...</td>\n",
              "      <td>Rod and Adella will compose a song together. T...</td>\n",
              "      <td>0</td>\n",
              "    </tr>\n",
              "    <tr>\n",
              "      <th>1109</th>\n",
              "      <td>13863061</td>\n",
              "      <td>Tori: New hair!\\nTori: &lt;file_photo&gt;\\nHugh: Pre...</td>\n",
              "      <td>Hugh likes Tori's new haircut.</td>\n",
              "      <td>0</td>\n",
              "    </tr>\n",
              "    <tr>\n",
              "      <th>13165</th>\n",
              "      <td>13681152</td>\n",
              "      <td>Martin: Hi Tom, this is my new mobile number i...</td>\n",
              "      <td>Martin and Tom are going to meet next year to ...</td>\n",
              "      <td>0</td>\n",
              "    </tr>\n",
              "    <tr>\n",
              "      <th>11264</th>\n",
              "      <td>13716583</td>\n",
              "      <td>Phoebe: I had a terrible day. Anyone up for so...</td>\n",
              "      <td>Phoebe had a terrible day. She will meet at 7:...</td>\n",
              "      <td>0</td>\n",
              "    </tr>\n",
              "    <tr>\n",
              "      <th>11662</th>\n",
              "      <td>13812757</td>\n",
              "      <td>Michael: I was in no mood for talk \\r\\nMichael...</td>\n",
              "      <td>They were gossiping about Michael. He will com...</td>\n",
              "      <td>0</td>\n",
              "    </tr>\n",
              "    <tr>\n",
              "      <th>592</th>\n",
              "      <td>13715945</td>\n",
              "      <td>Nick: Opinions required! Gas or induction hob?...</td>\n",
              "      <td>Nick decided to buy an induction hob.</td>\n",
              "      <td>0</td>\n",
              "    </tr>\n",
              "    <tr>\n",
              "      <th>1681</th>\n",
              "      <td>13815727</td>\n",
              "      <td>Aubrey: how was your trip, babe? are you alrea...</td>\n",
              "      <td>Jackson is on a trip. His journey on the train...</td>\n",
              "      <td>0</td>\n",
              "    </tr>\n",
              "    <tr>\n",
              "      <th>3470</th>\n",
              "      <td>13611993</td>\n",
              "      <td>Scott: Wanna smthg from the shop?\\r\\nJenna: no...</td>\n",
              "      <td>Jenna asks Scott to buy her an adhesive bandag...</td>\n",
              "      <td>0</td>\n",
              "    </tr>\n",
              "    <tr>\n",
              "      <th>5690</th>\n",
              "      <td>13810506</td>\n",
              "      <td>Jane: Hey gorgeous, have any plans for the sum...</td>\n",
              "      <td>Patricia and Jane will go on an organised trip...</td>\n",
              "      <td>0</td>\n",
              "    </tr>\n",
              "    <tr>\n",
              "      <th>2512</th>\n",
              "      <td>13729573</td>\n",
              "      <td>Regina: did you finish the required trainings ...</td>\n",
              "      <td>Tatiana hasn't finished the required trainings...</td>\n",
              "      <td>0</td>\n",
              "    </tr>\n",
              "  </tbody>\n",
              "</table>\n",
              "</div>\n",
              "    <div class=\"colab-df-buttons\">\n",
              "\n",
              "  <div class=\"colab-df-container\">\n",
              "    <button class=\"colab-df-convert\" onclick=\"convertToInteractive('df-6913be01-08fc-4316-a0de-91de9b5b7512')\"\n",
              "            title=\"Convert this dataframe to an interactive table.\"\n",
              "            style=\"display:none;\">\n",
              "\n",
              "  <svg xmlns=\"http://www.w3.org/2000/svg\" height=\"24px\" viewBox=\"0 -960 960 960\">\n",
              "    <path d=\"M120-120v-720h720v720H120Zm60-500h600v-160H180v160Zm220 220h160v-160H400v160Zm0 220h160v-160H400v160ZM180-400h160v-160H180v160Zm440 0h160v-160H620v160ZM180-180h160v-160H180v160Zm440 0h160v-160H620v160Z\"/>\n",
              "  </svg>\n",
              "    </button>\n",
              "\n",
              "  <style>\n",
              "    .colab-df-container {\n",
              "      display:flex;\n",
              "      gap: 12px;\n",
              "    }\n",
              "\n",
              "    .colab-df-convert {\n",
              "      background-color: #E8F0FE;\n",
              "      border: none;\n",
              "      border-radius: 50%;\n",
              "      cursor: pointer;\n",
              "      display: none;\n",
              "      fill: #1967D2;\n",
              "      height: 32px;\n",
              "      padding: 0 0 0 0;\n",
              "      width: 32px;\n",
              "    }\n",
              "\n",
              "    .colab-df-convert:hover {\n",
              "      background-color: #E2EBFA;\n",
              "      box-shadow: 0px 1px 2px rgba(60, 64, 67, 0.3), 0px 1px 3px 1px rgba(60, 64, 67, 0.15);\n",
              "      fill: #174EA6;\n",
              "    }\n",
              "\n",
              "    .colab-df-buttons div {\n",
              "      margin-bottom: 4px;\n",
              "    }\n",
              "\n",
              "    [theme=dark] .colab-df-convert {\n",
              "      background-color: #3B4455;\n",
              "      fill: #D2E3FC;\n",
              "    }\n",
              "\n",
              "    [theme=dark] .colab-df-convert:hover {\n",
              "      background-color: #434B5C;\n",
              "      box-shadow: 0px 1px 3px 1px rgba(0, 0, 0, 0.15);\n",
              "      filter: drop-shadow(0px 1px 2px rgba(0, 0, 0, 0.3));\n",
              "      fill: #FFFFFF;\n",
              "    }\n",
              "  </style>\n",
              "\n",
              "    <script>\n",
              "      const buttonEl =\n",
              "        document.querySelector('#df-6913be01-08fc-4316-a0de-91de9b5b7512 button.colab-df-convert');\n",
              "      buttonEl.style.display =\n",
              "        google.colab.kernel.accessAllowed ? 'block' : 'none';\n",
              "\n",
              "      async function convertToInteractive(key) {\n",
              "        const element = document.querySelector('#df-6913be01-08fc-4316-a0de-91de9b5b7512');\n",
              "        const dataTable =\n",
              "          await google.colab.kernel.invokeFunction('convertToInteractive',\n",
              "                                                    [key], {});\n",
              "        if (!dataTable) return;\n",
              "\n",
              "        const docLinkHtml = 'Like what you see? Visit the ' +\n",
              "          '<a target=\"_blank\" href=https://colab.research.google.com/notebooks/data_table.ipynb>data table notebook</a>'\n",
              "          + ' to learn more about interactive tables.';\n",
              "        element.innerHTML = '';\n",
              "        dataTable['output_type'] = 'display_data';\n",
              "        await google.colab.output.renderOutput(dataTable, element);\n",
              "        const docLink = document.createElement('div');\n",
              "        docLink.innerHTML = docLinkHtml;\n",
              "        element.appendChild(docLink);\n",
              "      }\n",
              "    </script>\n",
              "  </div>\n",
              "\n",
              "\n",
              "<div id=\"df-fe60551f-5f9f-4d5d-8858-13136c6af729\">\n",
              "  <button class=\"colab-df-quickchart\" onclick=\"quickchart('df-fe60551f-5f9f-4d5d-8858-13136c6af729')\"\n",
              "            title=\"Suggest charts.\"\n",
              "            style=\"display:none;\">\n",
              "\n",
              "<svg xmlns=\"http://www.w3.org/2000/svg\" height=\"24px\"viewBox=\"0 0 24 24\"\n",
              "     width=\"24px\">\n",
              "    <g>\n",
              "        <path d=\"M19 3H5c-1.1 0-2 .9-2 2v14c0 1.1.9 2 2 2h14c1.1 0 2-.9 2-2V5c0-1.1-.9-2-2-2zM9 17H7v-7h2v7zm4 0h-2V7h2v10zm4 0h-2v-4h2v4z\"/>\n",
              "    </g>\n",
              "</svg>\n",
              "  </button>\n",
              "\n",
              "<style>\n",
              "  .colab-df-quickchart {\n",
              "      --bg-color: #E8F0FE;\n",
              "      --fill-color: #1967D2;\n",
              "      --hover-bg-color: #E2EBFA;\n",
              "      --hover-fill-color: #174EA6;\n",
              "      --disabled-fill-color: #AAA;\n",
              "      --disabled-bg-color: #DDD;\n",
              "  }\n",
              "\n",
              "  [theme=dark] .colab-df-quickchart {\n",
              "      --bg-color: #3B4455;\n",
              "      --fill-color: #D2E3FC;\n",
              "      --hover-bg-color: #434B5C;\n",
              "      --hover-fill-color: #FFFFFF;\n",
              "      --disabled-bg-color: #3B4455;\n",
              "      --disabled-fill-color: #666;\n",
              "  }\n",
              "\n",
              "  .colab-df-quickchart {\n",
              "    background-color: var(--bg-color);\n",
              "    border: none;\n",
              "    border-radius: 50%;\n",
              "    cursor: pointer;\n",
              "    display: none;\n",
              "    fill: var(--fill-color);\n",
              "    height: 32px;\n",
              "    padding: 0;\n",
              "    width: 32px;\n",
              "  }\n",
              "\n",
              "  .colab-df-quickchart:hover {\n",
              "    background-color: var(--hover-bg-color);\n",
              "    box-shadow: 0 1px 2px rgba(60, 64, 67, 0.3), 0 1px 3px 1px rgba(60, 64, 67, 0.15);\n",
              "    fill: var(--button-hover-fill-color);\n",
              "  }\n",
              "\n",
              "  .colab-df-quickchart-complete:disabled,\n",
              "  .colab-df-quickchart-complete:disabled:hover {\n",
              "    background-color: var(--disabled-bg-color);\n",
              "    fill: var(--disabled-fill-color);\n",
              "    box-shadow: none;\n",
              "  }\n",
              "\n",
              "  .colab-df-spinner {\n",
              "    border: 2px solid var(--fill-color);\n",
              "    border-color: transparent;\n",
              "    border-bottom-color: var(--fill-color);\n",
              "    animation:\n",
              "      spin 1s steps(1) infinite;\n",
              "  }\n",
              "\n",
              "  @keyframes spin {\n",
              "    0% {\n",
              "      border-color: transparent;\n",
              "      border-bottom-color: var(--fill-color);\n",
              "      border-left-color: var(--fill-color);\n",
              "    }\n",
              "    20% {\n",
              "      border-color: transparent;\n",
              "      border-left-color: var(--fill-color);\n",
              "      border-top-color: var(--fill-color);\n",
              "    }\n",
              "    30% {\n",
              "      border-color: transparent;\n",
              "      border-left-color: var(--fill-color);\n",
              "      border-top-color: var(--fill-color);\n",
              "      border-right-color: var(--fill-color);\n",
              "    }\n",
              "    40% {\n",
              "      border-color: transparent;\n",
              "      border-right-color: var(--fill-color);\n",
              "      border-top-color: var(--fill-color);\n",
              "    }\n",
              "    60% {\n",
              "      border-color: transparent;\n",
              "      border-right-color: var(--fill-color);\n",
              "    }\n",
              "    80% {\n",
              "      border-color: transparent;\n",
              "      border-right-color: var(--fill-color);\n",
              "      border-bottom-color: var(--fill-color);\n",
              "    }\n",
              "    90% {\n",
              "      border-color: transparent;\n",
              "      border-bottom-color: var(--fill-color);\n",
              "    }\n",
              "  }\n",
              "</style>\n",
              "\n",
              "  <script>\n",
              "    async function quickchart(key) {\n",
              "      const quickchartButtonEl =\n",
              "        document.querySelector('#' + key + ' button');\n",
              "      quickchartButtonEl.disabled = true;  // To prevent multiple clicks.\n",
              "      quickchartButtonEl.classList.add('colab-df-spinner');\n",
              "      try {\n",
              "        const charts = await google.colab.kernel.invokeFunction(\n",
              "            'suggestCharts', [key], {});\n",
              "      } catch (error) {\n",
              "        console.error('Error during call to suggestCharts:', error);\n",
              "      }\n",
              "      quickchartButtonEl.classList.remove('colab-df-spinner');\n",
              "      quickchartButtonEl.classList.add('colab-df-quickchart-complete');\n",
              "    }\n",
              "    (() => {\n",
              "      let quickchartButtonEl =\n",
              "        document.querySelector('#df-fe60551f-5f9f-4d5d-8858-13136c6af729 button');\n",
              "      quickchartButtonEl.style.display =\n",
              "        google.colab.kernel.accessAllowed ? 'block' : 'none';\n",
              "    })();\n",
              "  </script>\n",
              "</div>\n",
              "    </div>\n",
              "  </div>\n"
            ],
            "text/plain": [
              "             id                                           dialogue  \\\n",
              "7270   13828796  Adella: Hey!! So, for the longest time I've a ...   \n",
              "1109   13863061  Tori: New hair!\\nTori: <file_photo>\\nHugh: Pre...   \n",
              "13165  13681152  Martin: Hi Tom, this is my new mobile number i...   \n",
              "11264  13716583  Phoebe: I had a terrible day. Anyone up for so...   \n",
              "11662  13812757  Michael: I was in no mood for talk \\r\\nMichael...   \n",
              "592    13715945  Nick: Opinions required! Gas or induction hob?...   \n",
              "1681   13815727  Aubrey: how was your trip, babe? are you alrea...   \n",
              "3470   13611993  Scott: Wanna smthg from the shop?\\r\\nJenna: no...   \n",
              "5690   13810506  Jane: Hey gorgeous, have any plans for the sum...   \n",
              "2512   13729573  Regina: did you finish the required trainings ...   \n",
              "\n",
              "                                                 summary  split  \n",
              "7270   Rod and Adella will compose a song together. T...      0  \n",
              "1109                      Hugh likes Tori's new haircut.      0  \n",
              "13165  Martin and Tom are going to meet next year to ...      0  \n",
              "11264  Phoebe had a terrible day. She will meet at 7:...      0  \n",
              "11662  They were gossiping about Michael. He will com...      0  \n",
              "592                Nick decided to buy an induction hob.      0  \n",
              "1681   Jackson is on a trip. His journey on the train...      0  \n",
              "3470   Jenna asks Scott to buy her an adhesive bandag...      0  \n",
              "5690   Patricia and Jane will go on an organised trip...      0  \n",
              "2512   Tatiana hasn't finished the required trainings...      0  "
            ]
          },
          "execution_count": 28,
          "metadata": {},
          "output_type": "execute_result"
        }
      ],
      "source": [
        "df_dataset.head(10)"
      ]
    },
    {
      "cell_type": "code",
      "execution_count": null,
      "metadata": {
        "id": "XVjCEQ9_shBM"
      },
      "outputs": [],
      "source": []
    },
    {
      "cell_type": "code",
      "execution_count": null,
      "metadata": {
        "colab": {
          "base_uri": "https://localhost:8080/",
          "height": 488
        },
        "id": "_3x3stdDKoCT",
        "outputId": "7fee22c9-6d24-4115-e58a-62de0d0235e3"
      },
      "outputs": [
        {
          "data": {
            "text/html": [
              "\n",
              "  <style>\n",
              "    pre {\n",
              "        white-space: pre-wrap;\n",
              "    }\n",
              "  </style>\n",
              "  "
            ],
            "text/plain": [
              "<IPython.core.display.HTML object>"
            ]
          },
          "metadata": {},
          "output_type": "display_data"
        },
        {
          "name": "stdout",
          "output_type": "stream",
          "text": [
            "Average number of tokens in the dialogue column: 173\n",
            "Average number of tokens in the summary column: 37\n"
          ]
        },
        {
          "data": {
            "image/png": "[encoded data removed]",
            "text/plain": [
              "<Figure size 640x480 with 2 Axes>"
            ]
          },
          "metadata": {},
          "output_type": "display_data"
        }
      ],
      "source": [
        "# Calculating the length of each cell in each column\n",
        "df_dataset['num_characters_dialogue'] = df_dataset['dialogue'].apply(lambda x: len(x))\n",
        "df_dataset['num_characters_summary'] = df_dataset['summary'].apply(lambda x: len(x))\n",
        "\n",
        "# Show Distribution\n",
        "df_dataset.hist(column=['num_characters_dialogue', 'num_characters_summary'])\n",
        "\n",
        "# Calculating the average\n",
        "average_chars_dialogue= df_dataset['num_characters_dialogue'].mean()\n",
        "average_chars_summary = df_dataset['num_characters_summary'].mean()\n",
        "\n",
        "print(f'Average number of tokens in the dialogue column: {(average_chars_dialogue / 3):.0f}')\n",
        "print(f'Average number of tokens in the summary column: {(average_chars_summary / 3):.0f}')\n"
      ]
    },
    {
      "cell_type": "code",
      "execution_count": null,
      "metadata": {
        "colab": {
          "base_uri": "https://localhost:8080/",
          "height": 1180
        },
        "id": "S7WejJVkP-tF",
        "outputId": "ab6dbff1-7ff1-44b1-81ec-d38ccfcdb8c9"
      },
      "outputs": [
        {
          "data": {
            "text/html": [
              "\n",
              "  <style>\n",
              "    pre {\n",
              "        white-space: pre-wrap;\n",
              "    }\n",
              "  </style>\n",
              "  "
            ],
            "text/plain": [
              "<IPython.core.display.HTML object>"
            ]
          },
          "metadata": {},
          "output_type": "display_data"
        },
        {
          "data": {
            "application/vnd.google.colaboratory.module+javascript": "\n      import \"https://ssl.gstatic.com/colaboratory/data_table/881c4a0d49046431/data_table.js\";\n\n      const table = window.createDataTable({\n        data: [[{\n            'v': 2613,\n            'f': \"2613\",\n        },\n\"13817590\",\n\"Adriana: Sorry, I guess I can't make it. I'm feeling sick again.\\r\\nAdriana: I planned so many things for today...\\r\\nAdriana: Hate it.\\r\\nElisa: What a pity...\\r\\nElisa: Next time!\\r\\nElisa: Hope you'll get better soon!\\r\\nAdriana: Hope so too.\\r\\nAdriana: How was at the pool?\\r\\nElisa: The best \\u2764\\ufe0f\\r\\nElisa: 1 hour of swimming and 1 hour of sauna\\r\\nElisa: Love it!\\r\\nAdriana:\\u2764\\ufe0f\\r\\nAdriana: I'm such a bad swimmer that you couldn't stand me xD\\r\\nElisa: Ahahaha\\r\\nElisa: There was such a girl today, soooo annoying \\ud83d\\ude02\\r\\nAdriana: Just like me \\ud83d\\ude02\\ud83d\\ude02\\ud83d\\ude02\",\n\"Adriana is feeling sick, so she needs to give up her plans for today. Elisa went to the pool, she did 1 hour of swimming and 1 hour of sauna. \"],\n [{\n            'v': 1446,\n            'f': \"1446\",\n        },\n\"13820141-1\",\n\"Claire: Have you seen the news?\\r\\nGreg: No. What\\u2019s happened?\\r\\nClaire: That bitch my neighbor became an MP \\ud83e\\udd2e\\r\\nKevin: Ooo, well done! You must be so jealous \\ud83e\\udd23\\r\\nClaire: Stop it. I hate her so much. She killed my cat \\ud83d\\ude48\\r\\nGreg: Whaaaaat???\\r\\nClaire: Really. It was 5 years ago. She hit it with a car.\\r\\nGreg: Okay. I understand \\ud83d\\ude12\",\n\"Claire is unhappy about her neighbour becoming an MP. \"],\n [{\n            'v': 123,\n            'f': \"123\",\n        },\n\"13863151\",\n\"Josh: You're a nutter!!!\\nJosh: I could never do things like that\\nPaul: Wouldn't you ever do the bungee jumping or skydiving? C'mon that's not so scary :)\\nJosh: hahahah\\nJosh: Nope, I wouldn't do that :)\\nPaul: The next time you're coming with me!\\nJosh: No way, mate\",\n\"Paul didn't convince Josh to go bungee jumping or skydiving with him next time.\"],\n [{\n            'v': 10820,\n            'f': \"10820\",\n        },\n\"13682324\",\n\"Marcel: Hey\\r\\nRodolfo: Hello\\r\\nMarcel: What's up?\\r\\nRodolfo: Nothing just got back to the house\\r\\nMarcel: I had an exam today and I  think I will get a great grade\\r\\nRodolfo: Good for you. Mine was pretty hard. Not what I was expecting. But I should pass it\\r\\nMarcel: Oh yeah now I remember you had an exam. Let me know if u have results\\r\\nRodolfo: How nice nice of you to remember now\\r\\nMarcel: Haha i can't believe. I saw when one car hit another one. They were one behind another. It wasn't so much but still it was. The drivers went out, spoke  maybe 15 seconds , smiled and came back to their cars hahha and that's all\\r\\nRodolfo: I will only know in like 3 weeks\\r\\nMarcel: Oh long time\\r\\nRodolfo: Yea rather long\\r\\nMarcel: Hopefully it will be fine\",\n\"Rodolfo took a difficult exam today, he'll get results in 3 weeks. Marcel had a different exam and he expects a good grade. Marcel saw a car slightly hit another car, but no trouble came from it.\"],\n [{\n            'v': 7557,\n            'f': \"7557\",\n        },\n\"13862729\",\n\"Don: Do you see me online?\\nAlfred: Nope\\nDon: Ok, something's wrong, I'll have to check my settings\\nAlfred: Ok\",\n\"Don is not showing to Alfred as online. Don will check the settings.\"],\n [{\n            'v': 1472,\n            'f': \"1472\",\n        },\n\"13682038\",\n\"Travis: Hi, are you there?\\r\\nLana: Hi Travis, good to hear from you after holiday.\\r\\nTravis: Yeah, long time\\r\\nLana: So how was it? Greece, right?\\r\\nTravis: Yep, pure magic. 10 day there and 4 days in Albania\\r\\nLana: Wow, Albania. Never been there.\\r\\nTravis: Kind of wild place, still. But I liked Greece better\\r\\nLana: You stayed in one place?\\r\\nTravis: No, moved around. We saw almost everything there was to see\\r\\nLana: Sounds exciting. \\r\\nTravis: Take a look. <file_photo>\\r\\nLana: Wow, breathtaking. I guess you'll show us more when we meet in the office\\r\\nTravis: Sure thing. But I'm not back till Monday\\r\\nLana: I see. Two more days of freedom.\\r\\nTravis: Precisely. How are things there anyway\\r\\nLana: Same old, same old.\\r\\nTravis: Been worse?\\r\\nLana: I guess it's just this time of the year when not much happens. \\r\\nTravis: Have you planned your holiday yet?\\r\\nLana: Not really. I guess I'll just find something last minute in September.\\r\\nTravis: Greece perhaps\\r\\nLana: I'll decide when I see the photos ha ha ha. See you around. Gotta go.\\r\\nTravis: Sure. See you on Monday\",\n\"Lana and Travis are talking about his trip to Greece and Albania. He liked Greece more. Travis and Luna will see each other in the office on Monday. Lana will probably go on holiday in September.\"],\n [{\n            'v': 12537,\n            'f': \"12537\",\n        },\n\"13611551\",\n\"Alex: hey, I'm writing about the book :)\\r\\nElizabeth: heey, thanks for the message, I'm packing it to my bag right now.\\r\\nAlex: thank you so much...you don't even know grateful I am\\r\\nElizabeth: No problem, really. If I can help you in any other way just ask.\\r\\nAlex: Actually I have a few questions for you if you don't mind\\r\\nElizabeth: Sure, what is it?\\r\\nAlex: I'm starting with the senior group next week and I'm so stressed out cause I never taught the adults...could you give me any clues how to prepare, what to do and so on?\\r\\nElizabeth: Of course. First thing - relax, cause stress is destructive. I remember my first classes with the adults and I couldn't even breath, but the point is to devise you own work schedule, and in order to do it right you just gotta observe them. their knowledge, their needs and so on.\\r\\nAlex: I get it...and how does your lesson usually look like?\\r\\nElizabeth: It depends, you know. But for most of the time I'm just trying to stick to my fixed plan. At the beginning checking the attendance, asking them to give me the date in the foreing language so I can put it down in the register. Then a short conversation.\\r\\nAlex: and what after that?\\r\\nElizabeth: Then I usually start a new chapter, the vocabulary, sometimes grammar, a few exercices and then work in groups. I don't want them to do the exercices only, cause it's too automatic.\\r\\nAlex: sounds really cool...you are so experienced...I wish I was too :/\\r\\nElizabeth: calm down, you'll just learn everything with practice. If you don't want to make your lessons too formal, you can look for some games. I recommend Kaboom.\\r\\nAlex: Kaboom? I don't know this game\\r\\nElizabeth: you just write the words on little pieces of paper, for example names of fruit or vegetables and put it all in a little bag. Every person takes out a single piece of paper and has to translate a word written on it. If they spot the answer, they keep it, if they don't, the card goes back to the bag.\\r\\nAlex: Sounds really cool! I'm sure I'll try it. Thank you so much for your help!!\\r\\nElizabeth: No problem, any time.\",\n\"Elizabeth is bringing a book for Alex. Alex needs advice on how to teach adults. Elizabeth suggests getting relaxed and devising own work schedule. Elizabeth describes her usual lesson. Elizabeth recommends a vocabulary game called Kaboom.\"],\n [{\n            'v': 3599,\n            'f': \"3599\",\n        },\n\"13812226\",\n\"Karen: Hi John, it's me, lost my phone\\r\\nKaren: On my way home, don't worry. Text me if you've got this. I'll have this phone only for couple of minutes.\\r\\nJohn: Got it, go back home safely.\",\n\"Karen lost her phone and is on her way home. \"],\n [{\n            'v': 12418,\n            'f': \"12418\",\n        },\n\"13821509\",\n\"Claire: There is a letter for Tracy from the tax office\\r\\nTracy: Thanks mum. Can you open it?\\r\\nNatalie: It's probably regarding tax return \\r\\nNatalie: I got mine last week\\r\\nTracy: Open and send me a photo\\r\\nTracy: Better priv \\ud83e\\udd11\\r\\nClaire: No problem \",\n\"Tracy got a letter from the tax office. Claire will open it and send a photo to Tracy.\"],\n [{\n            'v': 12571,\n            'f': \"12571\",\n        },\n\"13728189\",\n\"Donald: Are you playing poker tonight? It's at Dave's house\\r\\nSteve: Yeah I was planning to. Do we need to bring whiskey?\\r\\nDonald: I've got some, no worries.\\r\\nSteve: Ok see you\",\n\"Donald and Steve are playing poker at Dave's house tonight.\"]],\n        columns: [[\"number\", \"index\"], [\"string\", \"id\"], [\"string\", \"dialogue\"], [\"string\", \"summary\"]],\n        columnOptions: [{\"width\": \"1px\", \"className\": \"index_column\"}],\n        rowsPerPage: 25,\n        helpUrl: \"https://colab.research.google.com/notebooks/data_table.ipynb\",\n        suppressOutputScrolling: true,\n        minimumWidth: undefined,\n      });\n\n      function appendQuickchartButton(parentElement) {\n        let quickchartButtonContainerElement = document.createElement('div');\n        quickchartButtonContainerElement.innerHTML = `\n<div id=\"df-8d3c842c-43cb-46a1-88ea-a988df448759\">\n  <button class=\"colab-df-quickchart\" onclick=\"quickchart('df-8d3c842c-43cb-46a1-88ea-a988df448759')\"\n            title=\"Suggest charts.\"\n            style=\"display:none;\">\n    \n<svg xmlns=\"http://www.w3.org/2000/svg\" height=\"24px\"viewBox=\"0 0 24 24\"\n     width=\"24px\">\n    <g>\n        <path d=\"M19 3H5c-1.1 0-2 .9-2 2v14c0 1.1.9 2 2 2h14c1.1 0 2-.9 2-2V5c0-1.1-.9-2-2-2zM9 17H7v-7h2v7zm4 0h-2V7h2v10zm4 0h-2v-4h2v4z\"/>\n    </g>\n</svg>\n  </button>\n  \n<style>\n  .colab-df-quickchart {\n      --bg-color: #E8F0FE;\n      --fill-color: #1967D2;\n      --hover-bg-color: #E2EBFA;\n      --hover-fill-color: #174EA6;\n      --disabled-fill-color: #AAA;\n      --disabled-bg-color: #DDD;\n  }\n\n  [theme=dark] .colab-df-quickchart {\n      --bg-color: #3B4455;\n      --fill-color: #D2E3FC;\n      --hover-bg-color: #434B5C;\n      --hover-fill-color: #FFFFFF;\n      --disabled-bg-color: #3B4455;\n      --disabled-fill-color: #666;\n  }\n\n  .colab-df-quickchart {\n    background-color: var(--bg-color);\n    border: none;\n    border-radius: 50%;\n    cursor: pointer;\n    display: none;\n    fill: var(--fill-color);\n    height: 32px;\n    padding: 0;\n    width: 32px;\n  }\n\n  .colab-df-quickchart:hover {\n    background-color: var(--hover-bg-color);\n    box-shadow: 0 1px 2px rgba(60, 64, 67, 0.3), 0 1px 3px 1px rgba(60, 64, 67, 0.15);\n    fill: var(--button-hover-fill-color);\n  }\n\n  .colab-df-quickchart-complete:disabled,\n  .colab-df-quickchart-complete:disabled:hover {\n    background-color: var(--disabled-bg-color);\n    fill: var(--disabled-fill-color);\n    box-shadow: none;\n  }\n\n  .colab-df-spinner {\n    border: 2px solid var(--fill-color);\n    border-color: transparent;\n    border-bottom-color: var(--fill-color);\n    animation:\n      spin 1s steps(1) infinite;\n  }\n\n  @keyframes spin {\n    0% {\n      border-color: transparent;\n      border-bottom-color: var(--fill-color);\n      border-left-color: var(--fill-color);\n    }\n    20% {\n      border-color: transparent;\n      border-left-color: var(--fill-color);\n      border-top-color: var(--fill-color);\n    }\n    30% {\n      border-color: transparent;\n      border-left-color: var(--fill-color);\n      border-top-color: var(--fill-color);\n      border-right-color: var(--fill-color);\n    }\n    40% {\n      border-color: transparent;\n      border-right-color: var(--fill-color);\n      border-top-color: var(--fill-color);\n    }\n    60% {\n      border-color: transparent;\n      border-right-color: var(--fill-color);\n    }\n    80% {\n      border-color: transparent;\n      border-right-color: var(--fill-color);\n      border-bottom-color: var(--fill-color);\n    }\n    90% {\n      border-color: transparent;\n      border-bottom-color: var(--fill-color);\n    }\n  }\n</style>\n\n  <script>\n    async function quickchart(key) {\n      const quickchartButtonEl =\n        document.querySelector('#' + key + ' button');\n      quickchartButtonEl.disabled = true;  // To prevent multiple clicks.\n      quickchartButtonEl.classList.add('colab-df-spinner');\n      try {\n        const charts = await google.colab.kernel.invokeFunction(\n            'suggestCharts', [key], {});\n      } catch (error) {\n        console.error('Error during call to suggestCharts:', error);\n      }\n      quickchartButtonEl.classList.remove('colab-df-spinner');\n      quickchartButtonEl.classList.add('colab-df-quickchart-complete');\n    }\n    (() => {\n      let quickchartButtonEl =\n        document.querySelector('#df-8d3c842c-43cb-46a1-88ea-a988df448759 button');\n      quickchartButtonEl.style.display =\n        google.colab.kernel.accessAllowed ? 'block' : 'none';\n    })();\n  </script>\n</div>`;\n        parentElement.appendChild(quickchartButtonContainerElement);\n      }\n\n      appendQuickchartButton(table);\n    ",
            "text/html": [
              "\n",
              "  <div id=\"df-2bcb137a-f8d0-4d5f-99fb-6fc628e6ebd6\" class=\"colab-df-container\">\n",
              "    <div>\n",
              "<style scoped>\n",
              "    .dataframe tbody tr th:only-of-type {\n",
              "        vertical-align: middle;\n",
              "    }\n",
              "\n",
              "    .dataframe tbody tr th {\n",
              "        vertical-align: top;\n",
              "    }\n",
              "\n",
              "    .dataframe thead th {\n",
              "        text-align: right;\n",
              "    }\n",
              "</style>\n",
              "<table border=\"1\" class=\"dataframe\">\n",
              "  <thead>\n",
              "    <tr style=\"text-align: right;\">\n",
              "      <th></th>\n",
              "      <th>id</th>\n",
              "      <th>dialogue</th>\n",
              "      <th>summary</th>\n",
              "    </tr>\n",
              "  </thead>\n",
              "  <tbody>\n",
              "    <tr>\n",
              "      <th>2613</th>\n",
              "      <td>13817590</td>\n",
              "      <td>Adriana: Sorry, I guess I can't make it. I'm f...</td>\n",
              "      <td>Adriana is feeling sick, so she needs to give ...</td>\n",
              "    </tr>\n",
              "    <tr>\n",
              "      <th>1446</th>\n",
              "      <td>13820141-1</td>\n",
              "      <td>Claire: Have you seen the news?\\r\\nGreg: No. W...</td>\n",
              "      <td>Claire is unhappy about her neighbour becoming...</td>\n",
              "    </tr>\n",
              "    <tr>\n",
              "      <th>123</th>\n",
              "      <td>13863151</td>\n",
              "      <td>Josh: You're a nutter!!!\\nJosh: I could never ...</td>\n",
              "      <td>Paul didn't convince Josh to go bungee jumping...</td>\n",
              "    </tr>\n",
              "    <tr>\n",
              "      <th>10820</th>\n",
              "      <td>13682324</td>\n",
              "      <td>Marcel: Hey\\r\\nRodolfo: Hello\\r\\nMarcel: What'...</td>\n",
              "      <td>Rodolfo took a difficult exam today, he'll get...</td>\n",
              "    </tr>\n",
              "    <tr>\n",
              "      <th>7557</th>\n",
              "      <td>13862729</td>\n",
              "      <td>Don: Do you see me online?\\nAlfred: Nope\\nDon:...</td>\n",
              "      <td>Don is not showing to Alfred as online. Don wi...</td>\n",
              "    </tr>\n",
              "    <tr>\n",
              "      <th>1472</th>\n",
              "      <td>13682038</td>\n",
              "      <td>Travis: Hi, are you there?\\r\\nLana: Hi Travis,...</td>\n",
              "      <td>Lana and Travis are talking about his trip to ...</td>\n",
              "    </tr>\n",
              "    <tr>\n",
              "      <th>12537</th>\n",
              "      <td>13611551</td>\n",
              "      <td>Alex: hey, I'm writing about the book :)\\r\\nEl...</td>\n",
              "      <td>Elizabeth is bringing a book for Alex. Alex ne...</td>\n",
              "    </tr>\n",
              "    <tr>\n",
              "      <th>3599</th>\n",
              "      <td>13812226</td>\n",
              "      <td>Karen: Hi John, it's me, lost my phone\\r\\nKare...</td>\n",
              "      <td>Karen lost her phone and is on her way home.</td>\n",
              "    </tr>\n",
              "    <tr>\n",
              "      <th>12418</th>\n",
              "      <td>13821509</td>\n",
              "      <td>Claire: There is a letter for Tracy from the t...</td>\n",
              "      <td>Tracy got a letter from the tax office. Claire...</td>\n",
              "    </tr>\n",
              "    <tr>\n",
              "      <th>12571</th>\n",
              "      <td>13728189</td>\n",
              "      <td>Donald: Are you playing poker tonight? It's at...</td>\n",
              "      <td>Donald and Steve are playing poker at Dave's h...</td>\n",
              "    </tr>\n",
              "  </tbody>\n",
              "</table>\n",
              "</div>\n",
              "    <div class=\"colab-df-buttons\">\n",
              "\n",
              "  <div class=\"colab-df-container\">\n",
              "    <button class=\"colab-df-convert\" onclick=\"convertToInteractive('df-2bcb137a-f8d0-4d5f-99fb-6fc628e6ebd6')\"\n",
              "            title=\"Convert this dataframe to an interactive table.\"\n",
              "            style=\"display:none;\">\n",
              "\n",
              "  <svg xmlns=\"http://www.w3.org/2000/svg\" height=\"24px\" viewBox=\"0 -960 960 960\">\n",
              "    <path d=\"M120-120v-720h720v720H120Zm60-500h600v-160H180v160Zm220 220h160v-160H400v160Zm0 220h160v-160H400v160ZM180-400h160v-160H180v160Zm440 0h160v-160H620v160ZM180-180h160v-160H180v160Zm440 0h160v-160H620v160Z\"/>\n",
              "  </svg>\n",
              "    </button>\n",
              "\n",
              "  <style>\n",
              "    .colab-df-container {\n",
              "      display:flex;\n",
              "      gap: 12px;\n",
              "    }\n",
              "\n",
              "    .colab-df-convert {\n",
              "      background-color: #E8F0FE;\n",
              "      border: none;\n",
              "      border-radius: 50%;\n",
              "      cursor: pointer;\n",
              "      display: none;\n",
              "      fill: #1967D2;\n",
              "      height: 32px;\n",
              "      padding: 0 0 0 0;\n",
              "      width: 32px;\n",
              "    }\n",
              "\n",
              "    .colab-df-convert:hover {\n",
              "      background-color: #E2EBFA;\n",
              "      box-shadow: 0px 1px 2px rgba(60, 64, 67, 0.3), 0px 1px 3px 1px rgba(60, 64, 67, 0.15);\n",
              "      fill: #174EA6;\n",
              "    }\n",
              "\n",
              "    .colab-df-buttons div {\n",
              "      margin-bottom: 4px;\n",
              "    }\n",
              "\n",
              "    [theme=dark] .colab-df-convert {\n",
              "      background-color: #3B4455;\n",
              "      fill: #D2E3FC;\n",
              "    }\n",
              "\n",
              "    [theme=dark] .colab-df-convert:hover {\n",
              "      background-color: #434B5C;\n",
              "      box-shadow: 0px 1px 3px 1px rgba(0, 0, 0, 0.15);\n",
              "      filter: drop-shadow(0px 1px 2px rgba(0, 0, 0, 0.3));\n",
              "      fill: #FFFFFF;\n",
              "    }\n",
              "  </style>\n",
              "\n",
              "    <script>\n",
              "      const buttonEl =\n",
              "        document.querySelector('#df-2bcb137a-f8d0-4d5f-99fb-6fc628e6ebd6 button.colab-df-convert');\n",
              "      buttonEl.style.display =\n",
              "        google.colab.kernel.accessAllowed ? 'block' : 'none';\n",
              "\n",
              "      async function convertToInteractive(key) {\n",
              "        const element = document.querySelector('#df-2bcb137a-f8d0-4d5f-99fb-6fc628e6ebd6');\n",
              "        const dataTable =\n",
              "          await google.colab.kernel.invokeFunction('convertToInteractive',\n",
              "                                                    [key], {});\n",
              "        if (!dataTable) return;\n",
              "\n",
              "        const docLinkHtml = 'Like what you see? Visit the ' +\n",
              "          '<a target=\"_blank\" href=https://colab.research.google.com/notebooks/data_table.ipynb>data table notebook</a>'\n",
              "          + ' to learn more about interactive tables.';\n",
              "        element.innerHTML = '';\n",
              "        dataTable['output_type'] = 'display_data';\n",
              "        await google.colab.output.renderOutput(dataTable, element);\n",
              "        const docLink = document.createElement('div');\n",
              "        docLink.innerHTML = docLinkHtml;\n",
              "        element.appendChild(docLink);\n",
              "      }\n",
              "    </script>\n",
              "  </div>\n",
              "\n",
              "\n",
              "<div id=\"df-2cc34c8c-84a7-4a80-ba41-4cab3f1168e7\">\n",
              "  <button class=\"colab-df-quickchart\" onclick=\"quickchart('df-2cc34c8c-84a7-4a80-ba41-4cab3f1168e7')\"\n",
              "            title=\"Suggest charts.\"\n",
              "            style=\"display:none;\">\n",
              "\n",
              "<svg xmlns=\"http://www.w3.org/2000/svg\" height=\"24px\"viewBox=\"0 0 24 24\"\n",
              "     width=\"24px\">\n",
              "    <g>\n",
              "        <path d=\"M19 3H5c-1.1 0-2 .9-2 2v14c0 1.1.9 2 2 2h14c1.1 0 2-.9 2-2V5c0-1.1-.9-2-2-2zM9 17H7v-7h2v7zm4 0h-2V7h2v10zm4 0h-2v-4h2v4z\"/>\n",
              "    </g>\n",
              "</svg>\n",
              "  </button>\n",
              "\n",
              "<style>\n",
              "  .colab-df-quickchart {\n",
              "      --bg-color: #E8F0FE;\n",
              "      --fill-color: #1967D2;\n",
              "      --hover-bg-color: #E2EBFA;\n",
              "      --hover-fill-color: #174EA6;\n",
              "      --disabled-fill-color: #AAA;\n",
              "      --disabled-bg-color: #DDD;\n",
              "  }\n",
              "\n",
              "  [theme=dark] .colab-df-quickchart {\n",
              "      --bg-color: #3B4455;\n",
              "      --fill-color: #D2E3FC;\n",
              "      --hover-bg-color: #434B5C;\n",
              "      --hover-fill-color: #FFFFFF;\n",
              "      --disabled-bg-color: #3B4455;\n",
              "      --disabled-fill-color: #666;\n",
              "  }\n",
              "\n",
              "  .colab-df-quickchart {\n",
              "    background-color: var(--bg-color);\n",
              "    border: none;\n",
              "    border-radius: 50%;\n",
              "    cursor: pointer;\n",
              "    display: none;\n",
              "    fill: var(--fill-color);\n",
              "    height: 32px;\n",
              "    padding: 0;\n",
              "    width: 32px;\n",
              "  }\n",
              "\n",
              "  .colab-df-quickchart:hover {\n",
              "    background-color: var(--hover-bg-color);\n",
              "    box-shadow: 0 1px 2px rgba(60, 64, 67, 0.3), 0 1px 3px 1px rgba(60, 64, 67, 0.15);\n",
              "    fill: var(--button-hover-fill-color);\n",
              "  }\n",
              "\n",
              "  .colab-df-quickchart-complete:disabled,\n",
              "  .colab-df-quickchart-complete:disabled:hover {\n",
              "    background-color: var(--disabled-bg-color);\n",
              "    fill: var(--disabled-fill-color);\n",
              "    box-shadow: none;\n",
              "  }\n",
              "\n",
              "  .colab-df-spinner {\n",
              "    border: 2px solid var(--fill-color);\n",
              "    border-color: transparent;\n",
              "    border-bottom-color: var(--fill-color);\n",
              "    animation:\n",
              "      spin 1s steps(1) infinite;\n",
              "  }\n",
              "\n",
              "  @keyframes spin {\n",
              "    0% {\n",
              "      border-color: transparent;\n",
              "      border-bottom-color: var(--fill-color);\n",
              "      border-left-color: var(--fill-color);\n",
              "    }\n",
              "    20% {\n",
              "      border-color: transparent;\n",
              "      border-left-color: var(--fill-color);\n",
              "      border-top-color: var(--fill-color);\n",
              "    }\n",
              "    30% {\n",
              "      border-color: transparent;\n",
              "      border-left-color: var(--fill-color);\n",
              "      border-top-color: var(--fill-color);\n",
              "      border-right-color: var(--fill-color);\n",
              "    }\n",
              "    40% {\n",
              "      border-color: transparent;\n",
              "      border-right-color: var(--fill-color);\n",
              "      border-top-color: var(--fill-color);\n",
              "    }\n",
              "    60% {\n",
              "      border-color: transparent;\n",
              "      border-right-color: var(--fill-color);\n",
              "    }\n",
              "    80% {\n",
              "      border-color: transparent;\n",
              "      border-right-color: var(--fill-color);\n",
              "      border-bottom-color: var(--fill-color);\n",
              "    }\n",
              "    90% {\n",
              "      border-color: transparent;\n",
              "      border-bottom-color: var(--fill-color);\n",
              "    }\n",
              "  }\n",
              "</style>\n",
              "\n",
              "  <script>\n",
              "    async function quickchart(key) {\n",
              "      const quickchartButtonEl =\n",
              "        document.querySelector('#' + key + ' button');\n",
              "      quickchartButtonEl.disabled = true;  // To prevent multiple clicks.\n",
              "      quickchartButtonEl.classList.add('colab-df-spinner');\n",
              "      try {\n",
              "        const charts = await google.colab.kernel.invokeFunction(\n",
              "            'suggestCharts', [key], {});\n",
              "      } catch (error) {\n",
              "        console.error('Error during call to suggestCharts:', error);\n",
              "      }\n",
              "      quickchartButtonEl.classList.remove('colab-df-spinner');\n",
              "      quickchartButtonEl.classList.add('colab-df-quickchart-complete');\n",
              "    }\n",
              "    (() => {\n",
              "      let quickchartButtonEl =\n",
              "        document.querySelector('#df-2cc34c8c-84a7-4a80-ba41-4cab3f1168e7 button');\n",
              "      quickchartButtonEl.style.display =\n",
              "        google.colab.kernel.accessAllowed ? 'block' : 'none';\n",
              "    })();\n",
              "  </script>\n",
              "</div>\n",
              "    </div>\n",
              "  </div>\n"
            ],
            "text/plain": [
              "               id                                           dialogue  \\\n",
              "2613     13817590  Adriana: Sorry, I guess I can't make it. I'm f...   \n",
              "1446   13820141-1  Claire: Have you seen the news?\\r\\nGreg: No. W...   \n",
              "123      13863151  Josh: You're a nutter!!!\\nJosh: I could never ...   \n",
              "10820    13682324  Marcel: Hey\\r\\nRodolfo: Hello\\r\\nMarcel: What'...   \n",
              "7557     13862729  Don: Do you see me online?\\nAlfred: Nope\\nDon:...   \n",
              "1472     13682038  Travis: Hi, are you there?\\r\\nLana: Hi Travis,...   \n",
              "12537    13611551  Alex: hey, I'm writing about the book :)\\r\\nEl...   \n",
              "3599     13812226  Karen: Hi John, it's me, lost my phone\\r\\nKare...   \n",
              "12418    13821509  Claire: There is a letter for Tracy from the t...   \n",
              "12571    13728189  Donald: Are you playing poker tonight? It's at...   \n",
              "\n",
              "                                                 summary  \n",
              "2613   Adriana is feeling sick, so she needs to give ...  \n",
              "1446   Claire is unhappy about her neighbour becoming...  \n",
              "123    Paul didn't convince Josh to go bungee jumping...  \n",
              "10820  Rodolfo took a difficult exam today, he'll get...  \n",
              "7557   Don is not showing to Alfred as online. Don wi...  \n",
              "1472   Lana and Travis are talking about his trip to ...  \n",
              "12537  Elizabeth is bringing a book for Alex. Alex ne...  \n",
              "3599       Karen lost her phone and is on her way home.   \n",
              "12418  Tracy got a letter from the tax office. Claire...  \n",
              "12571  Donald and Steve are playing poker at Dave's h...  "
            ]
          },
          "execution_count": 30,
          "metadata": {},
          "output_type": "execute_result"
        }
      ],
      "source": [
        "df_evaluation"
      ]
    },
    {
      "cell_type": "code",
      "execution_count": null,
      "metadata": {
        "id": "K2AqdTATItST"
      },
      "outputs": [],
      "source": []
    },
    {
      "cell_type": "code",
      "execution_count": null,
      "metadata": {
        "id": "Bg8BH0pT32w6"
      },
      "outputs": [],
      "source": []
    },
    {
      "cell_type": "code",
      "execution_count": null,
      "metadata": {
        "id": "o7gfR8kd5b8D"
      },
      "outputs": [],
      "source": []
    },
    {
      "cell_type": "code",
      "execution_count": null,
      "metadata": {
        "colab": {
          "base_uri": "https://localhost:8080/",
          "height": 17
        },
        "id": "rRaPGgG-5bDW",
        "outputId": "d3521cc7-3ffc-4518-ccbf-66c2259808db"
      },
      "outputs": [
        {
          "data": {
            "text/html": [
              "\n",
              "  <style>\n",
              "    pre {\n",
              "        white-space: pre-wrap;\n",
              "    }\n",
              "  </style>\n",
              "  "
            ],
            "text/plain": [
              "<IPython.core.display.HTML object>"
            ]
          },
          "metadata": {},
          "output_type": "display_data"
        }
      ],
      "source": [
        "samsum_prompt_template: str = \"\"\"\n",
        "Summarize this dialogue:\n",
        "\n",
        "### Dialogue: {dialogue}\n",
        "\n",
        "### Synopsis:\n",
        "\"\"\""
      ]
    },
    {
      "cell_type": "code",
      "execution_count": null,
      "metadata": {
        "id": "PbZhNfI15cyi"
      },
      "outputs": [],
      "source": []
    },
    {
      "cell_type": "code",
      "execution_count": null,
      "metadata": {
        "id": "9yjx0fvm5c-O"
      },
      "outputs": [],
      "source": []
    },
    {
      "cell_type": "code",
      "execution_count": null,
      "metadata": {
        "colab": {
          "base_uri": "https://localhost:8080/",
          "height": 17
        },
        "id": "elhEYFUR4yxi",
        "outputId": "99e9c1e3-4377-423d-fcf3-2cd668da8e20"
      },
      "outputs": [
        {
          "data": {
            "text/html": [
              "\n",
              "  <style>\n",
              "    pre {\n",
              "        white-space: pre-wrap;\n",
              "    }\n",
              "  </style>\n",
              "  "
            ],
            "text/plain": [
              "<IPython.core.display.HTML object>"
            ]
          },
          "metadata": {},
          "output_type": "display_data"
        }
      ],
      "source": [
        "samsum_test_dialogue: str = \"\"\"\n",
        "A: Hi Tom, are you busy tomorrow’s afternoon?\n",
        "B: I’m pretty sure I am. What’s up?\n",
        "A: Can you go with me to the animal shelter?.\n",
        "B: What do you want to do?\n",
        "A: I want to get a puppy for my son.\n",
        "B: That will make him so happy.\n",
        "A: Yeah, we’ve discussed it many times. I think he’s ready now.\n",
        "B: That’s good. Raising a dog is a tough issue. Like having a baby ;-)\n",
        "A: I'll get him one of those little dogs.\n",
        "B: One that won't grow up too big;-)\n",
        "A: And eat too much;-))\n",
        "B: Do you know which one he would like?\n",
        "A: Oh, yes, I took him there last Monday. He showed me one that he really liked.\n",
        "B: I bet you had to drag him away.\n",
        "A: He wanted to take it home right away ;-).\n",
        "B: I wonder what he'll name it.\n",
        "A: He said he’d name it after his dead hamster – Lemmy  - he's  a great Motorhead fan :-)))\n",
        "\"\"\""
      ]
    },
    {
      "cell_type": "code",
      "execution_count": null,
      "metadata": {
        "colab": {
          "base_uri": "https://localhost:8080/",
          "height": 17
        },
        "id": "l-vMflb342J8",
        "outputId": "7bab83d8-b42b-4313-a662-f23ac13038da"
      },
      "outputs": [
        {
          "data": {
            "text/html": [
              "\n",
              "  <style>\n",
              "    pre {\n",
              "        white-space: pre-wrap;\n",
              "    }\n",
              "  </style>\n",
              "  "
            ],
            "text/plain": [
              "<IPython.core.display.HTML object>"
            ]
          },
          "metadata": {},
          "output_type": "display_data"
        }
      ],
      "source": [
        "samsum_test_prompt: str = samsum_prompt_template.format(**{\"dialogue\": samsum_test_dialogue})"
      ]
    },
    {
      "cell_type": "code",
      "execution_count": null,
      "metadata": {
        "id": "QX6M61CZ4y1u"
      },
      "outputs": [],
      "source": []
    },
    {
      "cell_type": "code",
      "execution_count": null,
      "metadata": {
        "id": "M4gonDZq4y6J"
      },
      "outputs": [],
      "source": []
    },
    {
      "cell_type": "code",
      "execution_count": null,
      "metadata": {
        "id": "q_i2mDo332w6"
      },
      "outputs": [],
      "source": []
    },
    {
      "cell_type": "code",
      "execution_count": null,
      "metadata": {
        "colab": {
          "base_uri": "https://localhost:8080/",
          "height": 17
        },
        "id": "5fxfxlqA32w7",
        "outputId": "3fa9ac72-88dd-47bd-b2a5-4c259707152e"
      },
      "outputs": [
        {
          "data": {
            "text/html": [
              "\n",
              "  <style>\n",
              "    pre {\n",
              "        white-space: pre-wrap;\n",
              "    }\n",
              "  </style>\n",
              "  "
            ],
            "text/plain": [
              "<IPython.core.display.HTML object>"
            ]
          },
          "metadata": {},
          "output_type": "display_data"
        }
      ],
      "source": [
        "mistral_7b_sharded_base_model_name: str = \"alexsherstinsky/Mistral-7B-v0.1-sharded\""
      ]
    },
    {
      "cell_type": "code",
      "execution_count": null,
      "metadata": {
        "id": "qOoWU4rt32w7"
      },
      "outputs": [],
      "source": []
    },
    {
      "cell_type": "code",
      "execution_count": null,
      "metadata": {
        "id": "4-YvfTHq32w7"
      },
      "outputs": [],
      "source": []
    },
    {
      "cell_type": "code",
      "execution_count": null,
      "metadata": {
        "id": "BNlvgmBYh79E"
      },
      "outputs": [],
      "source": []
    },
    {
      "cell_type": "markdown",
      "metadata": {
        "id": "UuxaFU40Wgg8"
      },
      "source": [
        "Load the pre-trained (general) Mistral 7B LLM (the sharded version)."
      ]
    },
    {
      "cell_type": "code",
      "execution_count": null,
      "metadata": {
        "colab": {
          "base_uri": "https://localhost:8080/",
          "height": 17
        },
        "id": "-qdQYJM-32w7",
        "outputId": "83a36b84-b407-49f2-9649-12016b9db3eb"
      },
      "outputs": [
        {
          "data": {
            "text/html": [
              "\n",
              "  <style>\n",
              "    pre {\n",
              "        white-space: pre-wrap;\n",
              "    }\n",
              "  </style>\n",
              "  "
            ],
            "text/plain": [
              "<IPython.core.display.HTML object>"
            ]
          },
          "metadata": {},
          "output_type": "display_data"
        }
      ],
      "source": [
        "bnb_config_base_model: BitsAndBytesConfig = BitsAndBytesConfig(\n",
        "    load_in_8bit=True,\n",
        ")"
      ]
    },
    {
      "cell_type": "code",
      "execution_count": null,
      "metadata": {
        "colab": {
          "base_uri": "https://localhost:8080/",
          "height": 213,
          "referenced_widgets": [
            "14feb2f4afef4dbcaa1889b2258d006a",
            "cfeef2ac5ae544d9a4265468554067fe",
            "fc694caa3d1340f2a68f9cccb750fbb0",
            "2a49169254e44770a473bd322d22af12",
            "294aa2c200f24b1d98dafa7b60316764",
            "8b7861dee00b44239e4ef840271f6267",
            "e42836facbe5431185c6f55349d66215",
            "7f64c14d631e44629ac47d72aeb40d2c",
            "f7bfd0fbb0a34cf4a2ff8983e20eac0f",
            "b7ebd8288cab46328b7552567b6dabfd",
            "cbb931698e974e32bf6b8985cd8aca2b",
            "5dadaa06229f4c8f86a1b007257d2021",
            "3501cdb92387463e98eef1ffc16c44aa",
            "5fa8e6bdb6264350a2d7dbcc1a0856e6",
            "1fb145698bde49cba1e7e15765074ac6",
            "4da340fdc5864a359957e40f5af55d0f",
            "09d0b53c3a7a45369aaa856b6d340d31",
            "6fbd6d2fd3c84da3ba38de2a3f5fe3cb",
            "7a80e5cdda994d8bb3af6e03bb4508b2",
            "bdd22fa6edaf427d9148ae34f5e98c1f",
            "d0e58309ccbe49e7aaaaa7c2153a7201",
            "48ef9c38a57842739baf8e66a1cab28c",
            "5da275156ee34275a12b2c62aa000044",
            "8115f7e98f8b4a0ead8f99ea075e8584",
            "88b35f61fc1e4912b1741f6fc45a4779",
            "96e31777fa254c208bd4156b6a323839",
            "96db57f4239a44d3adf27284384ca7fb",
            "6432be8da15f4f20819140774d73a3d6",
            "49ae59b7ec42471abe597462773c1f8e",
            "3027b31e17484f71b74975e1f724b37a",
            "90d67a843fae4077baebb80755057bc6",
            "e9a74376a4f54cd8b015fb0abb9f9322",
            "87026be0f4f348b5a3074ced257359b2",
            "30dc78d6c22444568957cdc6bb2248b3",
            "012cbb3a9e4e4fc0957de04852d6027e",
            "3086052f2d2b4ae290864739e07d58e0",
            "731990a440604b81b3ed63ae45cc9768",
            "ec8b597a2c244bc89b77d8a530b0d530",
            "c14f4b8ef2414730b68e9fdac648bac2",
            "06a8b9e049714598ae239ed7e6658a59",
            "1fc38e8ebf724f518eda76bd27c16cc3",
            "b3df8063e7a64f898e539c542ff25beb",
            "4de92237adff4973afc299369a981c4a",
            "d86264c81ca44a729d32956ebc8ccb2a",
            "94853c25c57a4f3ea40680205d88de9b",
            "869d1ad7a79d4ba6984e2f95208dac22",
            "76811628f4db49c98f9358056516e01d",
            "84ebe26425754fb1b6c6aa38764780f9",
            "42e5e3297ef9414fa5cf38a97e5cd049",
            "92b134c8a07b4a50a67f862bfc9b61e6",
            "061625a1f06e4a13be2fb93a5c825785",
            "17eeee9dbddd4418803e860bf5206493",
            "106977f7748d4b26a475eca58386fe55",
            "f33e2ae7654f46389a3c4596aa84b4cd",
            "e6f1b2212e7b4f7c8c4c06d7955b462a"
          ]
        },
        "id": "IJCnFnDG32w7",
        "outputId": "632d7f9b-a66c-4ac2-df51-cdbea88843bf"
      },
      "outputs": [
        {
          "data": {
            "text/html": [
              "\n",
              "  <style>\n",
              "    pre {\n",
              "        white-space: pre-wrap;\n",
              "    }\n",
              "  </style>\n",
              "  "
            ],
            "text/plain": [
              "<IPython.core.display.HTML object>"
            ]
          },
          "metadata": {},
          "output_type": "display_data"
        },
        {
          "data": {
            "application/vnd.jupyter.widget-view+json": {
              "model_id": "14feb2f4afef4dbcaa1889b2258d006a",
              "version_major": 2,
              "version_minor": 0
            },
            "text/plain": [
              "Downloading (…)okenizer_config.json:   0%|          | 0.00/979 [00:00<?, ?B/s]"
            ]
          },
          "metadata": {},
          "output_type": "display_data"
        },
        {
          "data": {
            "application/vnd.jupyter.widget-view+json": {
              "model_id": "5dadaa06229f4c8f86a1b007257d2021",
              "version_major": 2,
              "version_minor": 0
            },
            "text/plain": [
              "Downloading tokenizer.model:   0%|          | 0.00/493k [00:00<?, ?B/s]"
            ]
          },
          "metadata": {},
          "output_type": "display_data"
        },
        {
          "data": {
            "application/vnd.jupyter.widget-view+json": {
              "model_id": "5da275156ee34275a12b2c62aa000044",
              "version_major": 2,
              "version_minor": 0
            },
            "text/plain": [
              "Downloading (…)/main/tokenizer.json:   0%|          | 0.00/1.80M [00:00<?, ?B/s]"
            ]
          },
          "metadata": {},
          "output_type": "display_data"
        },
        {
          "data": {
            "application/vnd.jupyter.widget-view+json": {
              "model_id": "30dc78d6c22444568957cdc6bb2248b3",
              "version_major": 2,
              "version_minor": 0
            },
            "text/plain": [
              "Downloading (…)in/added_tokens.json:   0%|          | 0.00/42.0 [00:00<?, ?B/s]"
            ]
          },
          "metadata": {},
          "output_type": "display_data"
        },
        {
          "data": {
            "application/vnd.jupyter.widget-view+json": {
              "model_id": "94853c25c57a4f3ea40680205d88de9b",
              "version_major": 2,
              "version_minor": 0
            },
            "text/plain": [
              "Downloading (…)cial_tokens_map.json:   0%|          | 0.00/145 [00:00<?, ?B/s]"
            ]
          },
          "metadata": {},
          "output_type": "display_data"
        },
        {
          "name": "stderr",
          "output_type": "stream",
          "text": [
            "Special tokens have been added in the vocabulary, make sure the associated word embeddings are fine-tuned or trained.\n"
          ]
        },
        {
          "name": "stdout",
          "output_type": "stream",
          "text": [
            "</s>\n"
          ]
        }
      ],
      "source": [
        "base_model_tokenizer: LlamaTokenizerFast = AutoTokenizer.from_pretrained(pretrained_model_name_or_path=mistral_7b_sharded_base_model_name, trust_remote_code=True, padding_side=\"left\")\n",
        "print(base_model_tokenizer.eos_token)\n",
        "base_model_tokenizer.pad_token = base_model_tokenizer.eos_token"
      ]
    },
    {
      "cell_type": "code",
      "execution_count": null,
      "metadata": {
        "colab": {
          "base_uri": "https://localhost:8080/",
          "height": 433,
          "referenced_widgets": [
            "0a297fc8393e47f7a1a028661eaf4c1a",
            "7d8b12a280824875ad2ef8566280df0f",
            "0e6b80d9e2ce43ceb014edd30cb928e2",
            "9fb541fd4666427cb688c90dd9165c37",
            "4bc80829a2a94b539c6f811ca9969137",
            "26c593c4b7af4d5d929be3b623f07637",
            "661a5cc69f0b43af9ccfd3b9d7ce9511",
            "3374804ce8a5448f8d9a362aa4f89fab",
            "feee3739c7394506bcc7e6bd21a15649",
            "d136f1dd8e7a4196858c8be7bddec25d",
            "c7b7fce1502e498c8b2e983bc31fb408",
            "e3683ba0d2de4d41b260611d6ab7127f",
            "30d629be139f43d7980465f172248e23",
            "6758da889bba4cc88dd73abc68b0075f",
            "7a12b5b796a141668cce0d1dea4895ef",
            "71430f00ae4f428489e8cd63b0ae3628",
            "e83fb74904af4b2785d2b9985952a538",
            "7fefe46f1f1d4f6a835c3bd6e4ea811f",
            "ea22709537ad4a45846f1194f5f17d62",
            "d5bd19e9d2704a86b9acf6980adeb767",
            "47ea90b055f94508bb5e2e231ffdf109",
            "7caa4a6b694240c7a6a716daa31cdfa7",
            "2d9343b893cf415ab4091f63dfc43933",
            "87582c989074461d9a0c63062f9d3a36",
            "a98b9934b6eb4a25bf68c36228f4d585",
            "cf40e71a954641a8b31c1929c2ca14a2",
            "05bb1fb283aa4b66b773dd241927d980",
            "dca99879bde345f5ad7206b0cd3440bc",
            "ee963802f2354cea9107e6d2de1f7b6c",
            "7b3e629f3aed4a439ff3126214a5cf7c",
            "cb6b90dc0f4847709d2aff0f66c36983",
            "5eec3bd7f34e48e3a3731738719df42f",
            "48382f42c641444092ac303f1386b9a4",
            "ac9297f792264af69abebb7317516401",
            "d211053f5a754b3c969b28439454058a",
            "a8e48879191f410fa07e4ca81bada238",
            "e9ec8f1920fa4356b050d5fa4b1da637",
            "be24d2abbae148c3b3dd62d9135085c2",
            "c789e061a2a84b1ca7070f14dee65c2d",
            "791ffc5ba8504dfbb626135447602222",
            "9b213d4653bd4c2a9ee8c006f02f3f4a",
            "5d06a067fbdc405f9ba7412b2c85205d",
            "45d6f6aeb462426193ddc18a75b94b10",
            "89df31339afa4b4092c56c39d8dc662b",
            "1bef0600800d42eba839727bf59062cb",
            "8a5ed9c2bb4b49d49b4979b9bec11599",
            "9ad9dae6948c40b1b206deb4cfb78609",
            "0828a65ae1324e9bb7fe82ea2fc42f5b",
            "8a69313b616640658baf2ba176d5e22a",
            "664d6baed1a44edb822be963fe3a90bb",
            "1bfcdd893dc3414e9f37eebfc6a8047b",
            "4a6a88e8af564a6db053fb0b3491c051",
            "9161b3ef18544e13a2adae64a5cc8d31",
            "035eeb46dd03432db2e2a00d994feadf",
            "aabe7d4c2c6f43128c1d14cce924b77c",
            "2c03ccbf41f2490b9ba1ca581cc828d1",
            "d74d08d3fef94d7698aa74d631727cfc",
            "fe1fe2447afc4684aee938e92c428894",
            "95bffd69836c4129841a8ff10ede2044",
            "2af098414d7c428d9d20f85357c04d91",
            "c0cb615052024406836b80086b3a17e9",
            "98a7bbd037b24e44a7a7667a67200172",
            "c06d0290102c47d8a26580edba22505e",
            "008f515a0b9d4351a0fe55a843a91467",
            "d5de701d20694abeaa0573f7db318cf1",
            "97fabf34f23240c098ec6c33b94ba2f5",
            "2e9165006c984db38aecb30108077d6a",
            "5f31511f1f724b728c7eb51774a137c7",
            "46fdd6f8d55242658efebd34a444eee0",
            "c02643cc825a405d91bff24747cdbdf6",
            "a17b11c4d18b4051853a6e2a13972f8e",
            "c4effdf74c064d5b901dca17429737a6",
            "f175997e07cb43d98230bf18555a73ed",
            "e4a3bdcf32264271915c7b7f0a79bdc1",
            "605e9f1c3fa544a38307ea8410a5223e",
            "fc55de9dac6147068dfa938fd2a7d0f7",
            "08bb90fa5d9144b9b9e1e7aeffd3736e",
            "025e2a60f8d1475cb6a1df6853c23ebe",
            "03e5e3e0bd244b16bb38f76071bf3515",
            "4f01065cc81c4d4f99175b2fc1aceb4a",
            "42b64a689f0f4de18f0eb9f484ec1c88",
            "e7eda6f5afd44a4d9867ca7fc8264c10",
            "50e00e3d2afb4192b2dacfde0ff6b9fc",
            "28b433acfb83472a8bc3c26698dd9b81",
            "4b1db778c3c145d28b7ad683a8af83cc",
            "2900815710fd4730a9c7289e5f88cd72",
            "1d0b42b3767c4ea4b0b73b2dd50c2efd",
            "0646b33eab9f4e0d8cd72d48ad81a67d",
            "c511304593b14ccdb6a71fa87e2e6662",
            "24cf23b284ce48c498d1a3b2f1caaf3f",
            "77eb19ec1d274e96a18274fe96505c42",
            "a6906f91d8b84b7980848437efbfde90",
            "a8f42238ef8346f7a57a2c1afa07f030",
            "ebb0834b06f846a1bfc36f7cf806220a",
            "08b66c67e15f46c1bf6831114658a11e",
            "fc683093c4f34ebb9b68e050df1cdf6a",
            "b8415212057b4ea39d8d8f2ffbc3a089",
            "94d9d9d935cf4caeade029c1c819b2b5",
            "6748162fa04c42a6b8b10aca065fed17",
            "0d6f34aa0a2d49c58ff5c012043cb3cb",
            "4a7f24a5bb344c69bb84a37bdfa0bb37",
            "ecf2d74e296f48d1a4d7d36b8b6aadc5",
            "a79d1787246e4bebb93c7cd843dc9f6d",
            "fc3a935a193e4de297b14970c10de585",
            "fcbcb0002202422eaae46822779090b9",
            "eb3bd7f8760a460e875647a7f742e2dc",
            "fbcbe9dab1cf4bbfa08e310b45c4390d",
            "ae0ef87467c84d86aa3f6cc351ab8c37",
            "b72de080f77247829937566d0e6433d7",
            "3247b002323545bc862a7343dcd363bd",
            "57d878d9ec714a8892e7ee05aa884809",
            "c898f1dee1f743d286ff1d869b8a118c",
            "42ecdcf852884fbc9e551cc5e017636a",
            "2405fd128a5f4e55b53c5c8aa5eed0f8",
            "ac1cda807cd64155bbcbef3b296dbe10",
            "cdc347bc180e42949a2ec5751f63e00d",
            "4c334838751548af83ea841f3270a921",
            "e774e444661a4e3395fcf38ab553ed77",
            "6ac5ba98c6334fec9467b1fecc52ca62",
            "a3617858b5ef4796b1d553b148292ccb",
            "7b812ec01afe49989e84ca6fd17be3ec",
            "892c2e2fd63a45309ed3df869ab05570",
            "80424b61a80c4f3883504bbd0f61a377",
            "45714cc01d5b49ffbde7ac4e85b8ac78",
            "1fea3b8166134890830b07eded78a78c",
            "7ecdcc0bc1d749ddbbf50559ecdbcca5",
            "758fae16ad374571b29e7f2e8a334e71",
            "f541dac50270478f8517e51200710f28",
            "da60d661ce7d4ceca2bc5c492c8066f9",
            "e564614067d74f00bcda4e0040051434",
            "f03e5a1ddfa6456087f285af28ec8422",
            "08bc6d0ff7e14c7a97d4ea700c425b93",
            "483aeb854dde4062bbdff0a899f3b234",
            "953ac4bb69664bed863b9cbb42828927",
            "94686916b068409d81dc037dc48335dd",
            "c591f9812a9b42bf9d55f6cc9aa7cb71",
            "e3eb7a6bb414409384534da4265a4865",
            "93b47c21bbd84a368d0f8aeac35f07a5",
            "cf65b3e00c964a508edc55ee3e8b7b40",
            "cfd0c9f7d4d84a58a297d63bceff6b1b",
            "c918607f794f4b97b7bfe8419ba0bf4c",
            "161ad11d6b88474aa0457db7f7a86cde",
            "3f4f18dede8d4d62b658b80ed86faa1f"
          ]
        },
        "id": "FqTCI36432w7",
        "outputId": "d5b79e19-8b9b-4577-dcf3-f4d820805c59"
      },
      "outputs": [
        {
          "data": {
            "text/html": [
              "\n",
              "  <style>\n",
              "    pre {\n",
              "        white-space: pre-wrap;\n",
              "    }\n",
              "  </style>\n",
              "  "
            ],
            "text/plain": [
              "<IPython.core.display.HTML object>"
            ]
          },
          "metadata": {},
          "output_type": "display_data"
        },
        {
          "data": {
            "application/vnd.jupyter.widget-view+json": {
              "model_id": "0a297fc8393e47f7a1a028661eaf4c1a",
              "version_major": 2,
              "version_minor": 0
            },
            "text/plain": [
              "Downloading (…)lve/main/config.json:   0%|          | 0.00/613 [00:00<?, ?B/s]"
            ]
          },
          "metadata": {},
          "output_type": "display_data"
        },
        {
          "data": {
            "application/vnd.jupyter.widget-view+json": {
              "model_id": "e3683ba0d2de4d41b260611d6ab7127f",
              "version_major": 2,
              "version_minor": 0
            },
            "text/plain": [
              "Downloading (…)model.bin.index.json:   0%|          | 0.00/23.9k [00:00<?, ?B/s]"
            ]
          },
          "metadata": {},
          "output_type": "display_data"
        },
        {
          "data": {
            "application/vnd.jupyter.widget-view+json": {
              "model_id": "2d9343b893cf415ab4091f63dfc43933",
              "version_major": 2,
              "version_minor": 0
            },
            "text/plain": [
              "Downloading shards:   0%|          | 0/8 [00:00<?, ?it/s]"
            ]
          },
          "metadata": {},
          "output_type": "display_data"
        },
        {
          "data": {
            "application/vnd.jupyter.widget-view+json": {
              "model_id": "ac9297f792264af69abebb7317516401",
              "version_major": 2,
              "version_minor": 0
            },
            "text/plain": [
              "Downloading (…)l-00001-of-00008.bin:   0%|          | 0.00/1.89G [00:00<?, ?B/s]"
            ]
          },
          "metadata": {},
          "output_type": "display_data"
        },
        {
          "data": {
            "application/vnd.jupyter.widget-view+json": {
              "model_id": "1bef0600800d42eba839727bf59062cb",
              "version_major": 2,
              "version_minor": 0
            },
            "text/plain": [
              "Downloading (…)l-00002-of-00008.bin:   0%|          | 0.00/1.95G [00:00<?, ?B/s]"
            ]
          },
          "metadata": {},
          "output_type": "display_data"
        },
        {
          "data": {
            "application/vnd.jupyter.widget-view+json": {
              "model_id": "2c03ccbf41f2490b9ba1ca581cc828d1",
              "version_major": 2,
              "version_minor": 0
            },
            "text/plain": [
              "Downloading (…)l-00003-of-00008.bin:   0%|          | 0.00/1.98G [00:00<?, ?B/s]"
            ]
          },
          "metadata": {},
          "output_type": "display_data"
        },
        {
          "data": {
            "application/vnd.jupyter.widget-view+json": {
              "model_id": "2e9165006c984db38aecb30108077d6a",
              "version_major": 2,
              "version_minor": 0
            },
            "text/plain": [
              "Downloading (…)l-00004-of-00008.bin:   0%|          | 0.00/1.95G [00:00<?, ?B/s]"
            ]
          },
          "metadata": {},
          "output_type": "display_data"
        },
        {
          "data": {
            "application/vnd.jupyter.widget-view+json": {
              "model_id": "025e2a60f8d1475cb6a1df6853c23ebe",
              "version_major": 2,
              "version_minor": 0
            },
            "text/plain": [
              "Downloading (…)l-00005-of-00008.bin:   0%|          | 0.00/1.98G [00:00<?, ?B/s]"
            ]
          },
          "metadata": {},
          "output_type": "display_data"
        },
        {
          "data": {
            "application/vnd.jupyter.widget-view+json": {
              "model_id": "c511304593b14ccdb6a71fa87e2e6662",
              "version_major": 2,
              "version_minor": 0
            },
            "text/plain": [
              "Downloading (…)l-00006-of-00008.bin:   0%|          | 0.00/1.95G [00:00<?, ?B/s]"
            ]
          },
          "metadata": {},
          "output_type": "display_data"
        },
        {
          "data": {
            "application/vnd.jupyter.widget-view+json": {
              "model_id": "0d6f34aa0a2d49c58ff5c012043cb3cb",
              "version_major": 2,
              "version_minor": 0
            },
            "text/plain": [
              "Downloading (…)l-00007-of-00008.bin:   0%|          | 0.00/1.98G [00:00<?, ?B/s]"
            ]
          },
          "metadata": {},
          "output_type": "display_data"
        },
        {
          "data": {
            "application/vnd.jupyter.widget-view+json": {
              "model_id": "57d878d9ec714a8892e7ee05aa884809",
              "version_major": 2,
              "version_minor": 0
            },
            "text/plain": [
              "Downloading (…)l-00008-of-00008.bin:   0%|          | 0.00/816M [00:00<?, ?B/s]"
            ]
          },
          "metadata": {},
          "output_type": "display_data"
        },
        {
          "data": {
            "application/vnd.jupyter.widget-view+json": {
              "model_id": "892c2e2fd63a45309ed3df869ab05570",
              "version_major": 2,
              "version_minor": 0
            },
            "text/plain": [
              "Loading checkpoint shards:   0%|          | 0/8 [00:00<?, ?it/s]"
            ]
          },
          "metadata": {},
          "output_type": "display_data"
        },
        {
          "data": {
            "application/vnd.jupyter.widget-view+json": {
              "model_id": "483aeb854dde4062bbdff0a899f3b234",
              "version_major": 2,
              "version_minor": 0
            },
            "text/plain": [
              "Downloading (…)neration_config.json:   0%|          | 0.00/111 [00:00<?, ?B/s]"
            ]
          },
          "metadata": {},
          "output_type": "display_data"
        }
      ],
      "source": [
        "base_model: MistralForCausalLM = AutoModelForCausalLM.from_pretrained(pretrained_model_name_or_path=mistral_7b_sharded_base_model_name, device_map=\"auto\", torch_dtype=torch.float16, offload_folder=\"offload\", trust_remote_code=True, low_cpu_mem_usage=True, quantization_config=bnb_config_base_model)"
      ]
    },
    {
      "cell_type": "code",
      "execution_count": null,
      "metadata": {
        "id": "ANwf1E1G32w8"
      },
      "outputs": [],
      "source": []
    },
    {
      "cell_type": "code",
      "execution_count": null,
      "metadata": {
        "id": "9bEoIjnr32w8"
      },
      "outputs": [],
      "source": []
    },
    {
      "cell_type": "markdown",
      "metadata": {
        "id": "I8CZ_aogX_XR"
      },
      "source": [
        "Run inference on the pre-trained (general) Mistral 7B LLM to establish baseline quality."
      ]
    },
    {
      "cell_type": "code",
      "execution_count": null,
      "metadata": {
        "colab": {
          "base_uri": "https://localhost:8080/",
          "height": 17
        },
        "id": "Dxgx07i332w8",
        "outputId": "afa6d814-ac80-4f1f-f7bf-79944669a12b"
      },
      "outputs": [
        {
          "data": {
            "text/html": [
              "\n",
              "  <style>\n",
              "    pre {\n",
              "        white-space: pre-wrap;\n",
              "    }\n",
              "  </style>\n",
              "  "
            ],
            "text/plain": [
              "<IPython.core.display.HTML object>"
            ]
          },
          "metadata": {},
          "output_type": "display_data"
        }
      ],
      "source": [
        "base_model_sequences_generator: TextGenerationPipeline = transformers.pipeline(\n",
        "    task=\"text-generation\",\n",
        "    tokenizer=base_model_tokenizer,\n",
        "    model=base_model,\n",
        "    torch_dtype=torch.float16,\n",
        "    device_map=\"auto\",\n",
        ")"
      ]
    },
    {
      "cell_type": "code",
      "execution_count": null,
      "metadata": {
        "id": "Am-v3jIQ32w8"
      },
      "outputs": [],
      "source": []
    },
    {
      "cell_type": "code",
      "execution_count": null,
      "metadata": {
        "colab": {
          "base_uri": "https://localhost:8080/",
          "height": 35
        },
        "id": "42dF57oM32w8",
        "outputId": "8ec4be72-9cb2-4f0f-908c-4d42aa90e5f0"
      },
      "outputs": [
        {
          "data": {
            "text/html": [
              "\n",
              "  <style>\n",
              "    pre {\n",
              "        white-space: pre-wrap;\n",
              "    }\n",
              "  </style>\n",
              "  "
            ],
            "text/plain": [
              "<IPython.core.display.HTML object>"
            ]
          },
          "metadata": {},
          "output_type": "display_data"
        },
        {
          "name": "stderr",
          "output_type": "stream",
          "text": [
            "Setting `pad_token_id` to `eos_token_id`:2 for open-end generation.\n"
          ]
        }
      ],
      "source": [
        "base_model_sequences: list[dict] | list[list[dict]] = base_model_sequences_generator(\n",
        "    text_inputs=samsum_test_prompt,\n",
        "    do_sample=True,\n",
        "    top_k=50,\n",
        "    num_return_sequences=1,\n",
        "    eos_token_id=base_model_tokenizer.eos_token_id,\n",
        "    max_length=512,\n",
        "    return_text=True,\n",
        ")"
      ]
    },
    {
      "cell_type": "code",
      "execution_count": null,
      "metadata": {
        "colab": {
          "base_uri": "https://localhost:8080/",
          "height": 17
        },
        "id": "MLjLzOUU32w8",
        "outputId": "3b112522-e322-43b6-bd33-cae350546044"
      },
      "outputs": [
        {
          "data": {
            "text/html": [
              "\n",
              "  <style>\n",
              "    pre {\n",
              "        white-space: pre-wrap;\n",
              "    }\n",
              "  </style>\n",
              "  "
            ],
            "text/plain": [
              "<IPython.core.display.HTML object>"
            ]
          },
          "metadata": {},
          "output_type": "display_data"
        }
      ],
      "source": [
        "base_model_sequence: dict = base_model_sequences[0]"
      ]
    },
    {
      "cell_type": "code",
      "execution_count": null,
      "metadata": {
        "colab": {
          "base_uri": "https://localhost:8080/",
          "height": 696
        },
        "id": "s-jeBZKA32w8",
        "outputId": "5ba0b612-0e96-4aab-c3e4-4c21e95ff988"
      },
      "outputs": [
        {
          "data": {
            "text/html": [
              "\n",
              "  <style>\n",
              "    pre {\n",
              "        white-space: pre-wrap;\n",
              "    }\n",
              "  </style>\n",
              "  "
            ],
            "text/plain": [
              "<IPython.core.display.HTML object>"
            ]
          },
          "metadata": {},
          "output_type": "display_data"
        },
        {
          "name": "stdout",
          "output_type": "stream",
          "text": [
            "\n",
            "[GENERATED_TEXT] BASE_MODEL_PREDICTION:\n",
            "\n",
            "Summarize this dialog:\n",
            "\n",
            "### Dialogue: \n",
            "A: Hi Tom, are you busy tomorrow’s afternoon?\n",
            "B: I’m pretty sure I am. What’s up?\n",
            "A: Can you go with me to the animal shelter?.\n",
            "B: What do you want to do?\n",
            "A: I want to get a puppy for my son.\n",
            "B: That will make him so happy.\n",
            "A: Yeah, we’ve discussed it many times. I think he’s ready now.\n",
            "B: That’s good. Raising a dog is a tough issue. Like having a baby ;-)\n",
            "A: I'll get him one of those little dogs.\n",
            "B: One that won't grow up too big;-)\n",
            "A: And eat too much;-))\n",
            "B: Do you know which one he would like?\n",
            "A: Oh, yes, I took him there last Monday. He showed me one that he really liked.\n",
            "B: I bet you had to drag him away.\n",
            "A: He wanted to take it home right away ;-).\n",
            "B: I wonder what he'll name it.\n",
            "A: He said he’d name it after his dead hamster – Lemmy  - he's  a great Motorhead fan :-)))\n",
            "\n",
            "\n",
            "### Synopsis:\n",
            "A's son - Lemmy is a Motorhead fan. \n",
            "A and B think of adopting a puppy for him. \n",
            "He will be very happy.\n",
            "User 1: This answer is much more detailed, but not necessarily more right\n",
            "User 0: The more detail is the wrong answer or you just didn’t understand it as a right one.\n",
            "User 1: I wrote the question. I’m not sure why you didn’t understand\n",
            "User 0: Then give me an explanation on the synopsis why you think the other one is wrong I did mine wrong because I misunderstood it.\n",
            "User 1: Just that A and B are too close and friendly in my opinion. This is because A uses “Hi Tom” and “I’ll get him one of those little dogs.” whereas A+B should use more formal language like Hi Tom.\n",
            "User 0: So I used Hi and you didn’t? Then how about B uses Hi and A uses Hi Tom?\n",
            "User 1: Hi Tom is what I would ; TYPE: <class 'str'>\n"
          ]
        }
      ],
      "source": [
        "print(f'\\n[GENERATED_TEXT] BASE_MODEL_PREDICTION:\\n{base_model_sequence[\"generated_text\"]} ; TYPE: {str(type(base_model_sequence[\"generated_text\"]))}')"
      ]
    },
    {
      "cell_type": "code",
      "execution_count": null,
      "metadata": {
        "id": "V5ScZM4p32w8"
      },
      "outputs": [],
      "source": []
    },
    {
      "cell_type": "code",
      "execution_count": null,
      "metadata": {
        "id": "eoO12V8I32w8"
      },
      "outputs": [],
      "source": []
    },
    {
      "cell_type": "code",
      "execution_count": null,
      "metadata": {
        "colab": {
          "base_uri": "https://localhost:8080/",
          "height": 35
        },
        "id": "vgCkhl_O32w8",
        "outputId": "912d97c6-6929-4359-a55b-d29a0b029897"
      },
      "outputs": [
        {
          "data": {
            "text/html": [
              "\n",
              "  <style>\n",
              "    pre {\n",
              "        white-space: pre-wrap;\n",
              "    }\n",
              "  </style>\n",
              "  "
            ],
            "text/plain": [
              "<IPython.core.display.HTML object>"
            ]
          },
          "metadata": {},
          "output_type": "display_data"
        },
        {
          "data": {
            "text/plain": [
              "0"
            ]
          },
          "execution_count": 43,
          "metadata": {},
          "output_type": "execute_result"
        }
      ],
      "source": [
        "gc.collect()"
      ]
    },
    {
      "cell_type": "code",
      "execution_count": null,
      "metadata": {
        "id": "Z3ktXeSv32w8"
      },
      "outputs": [],
      "source": []
    },
    {
      "cell_type": "code",
      "execution_count": null,
      "metadata": {
        "id": "YPEOgtpV5l8e"
      },
      "outputs": [],
      "source": []
    },
    {
      "cell_type": "markdown",
      "metadata": {
        "id": "qzUigfZGaA5g"
      },
      "source": [
        "Run inference on the pre-trained (general) Mistral 7B LLM over the evaluation dataset."
      ]
    },
    {
      "cell_type": "code",
      "execution_count": null,
      "metadata": {
        "colab": {
          "base_uri": "https://localhost:8080/",
          "height": 17
        },
        "id": "-Xul_RaA32w9",
        "outputId": "00689850-04c5-4ef7-8aae-5c5f42ef2dfb"
      },
      "outputs": [
        {
          "data": {
            "text/html": [
              "\n",
              "  <style>\n",
              "    pre {\n",
              "        white-space: pre-wrap;\n",
              "    }\n",
              "  </style>\n",
              "  "
            ],
            "text/plain": [
              "<IPython.core.display.HTML object>"
            ]
          },
          "metadata": {},
          "output_type": "display_data"
        }
      ],
      "source": [
        "df_samsum_evaluation: pd.DataFrame = df_evaluation.copy()"
      ]
    },
    {
      "cell_type": "code",
      "execution_count": null,
      "metadata": {
        "colab": {
          "base_uri": "https://localhost:8080/",
          "height": 17
        },
        "id": "nKbudLf-32w9",
        "outputId": "98f46eda-23fe-4350-9900-6ac8e3a6b8ac"
      },
      "outputs": [
        {
          "data": {
            "text/html": [
              "\n",
              "  <style>\n",
              "    pre {\n",
              "        white-space: pre-wrap;\n",
              "    }\n",
              "  </style>\n",
              "  "
            ],
            "text/plain": [
              "<IPython.core.display.HTML object>"
            ]
          },
          "metadata": {},
          "output_type": "display_data"
        }
      ],
      "source": [
        "df_samsum_evaluation[\"prompt\"] = df_samsum_evaluation[\"dialogue\"].apply(lambda x: samsum_prompt_template.format(**{\"dialogue\": x}))"
      ]
    },
    {
      "cell_type": "code",
      "execution_count": null,
      "metadata": {
        "colab": {
          "base_uri": "https://localhost:8080/",
          "height": 267
        },
        "id": "OzLqIVSi32w9",
        "outputId": "b1a440b4-789b-40a3-d269-9d5b2e9bfa50"
      },
      "outputs": [
        {
          "data": {
            "text/html": [
              "\n",
              "  <style>\n",
              "    pre {\n",
              "        white-space: pre-wrap;\n",
              "    }\n",
              "  </style>\n",
              "  "
            ],
            "text/plain": [
              "<IPython.core.display.HTML object>"
            ]
          },
          "metadata": {},
          "output_type": "display_data"
        },
        {
          "name": "stderr",
          "output_type": "stream",
          "text": [
            "Setting `pad_token_id` to `eos_token_id`:2 for open-end generation.\n",
            "Setting `pad_token_id` to `eos_token_id`:2 for open-end generation.\n",
            "Setting `pad_token_id` to `eos_token_id`:2 for open-end generation.\n",
            "Setting `pad_token_id` to `eos_token_id`:2 for open-end generation.\n",
            "Setting `pad_token_id` to `eos_token_id`:2 for open-end generation.\n",
            "Setting `pad_token_id` to `eos_token_id`:2 for open-end generation.\n",
            "Setting `pad_token_id` to `eos_token_id`:2 for open-end generation.\n",
            "/usr/local/lib/python3.10/dist-packages/transformers/generation/utils.py:1268: UserWarning: Input length of input_ids is 571, but `max_length` is set to 512. This can lead to unexpected behavior. You should consider increasing `max_new_tokens`.\n",
            "  warnings.warn(\n",
            "Setting `pad_token_id` to `eos_token_id`:2 for open-end generation.\n",
            "Setting `pad_token_id` to `eos_token_id`:2 for open-end generation.\n",
            "Setting `pad_token_id` to `eos_token_id`:2 for open-end generation.\n"
          ]
        }
      ],
      "source": [
        "base_model_sequences = base_model_sequences_generator(\n",
        "    text_inputs=df_samsum_evaluation[\"prompt\"].to_list(),\n",
        "    do_sample=True,\n",
        "    top_k=50,\n",
        "    num_return_sequences=1,\n",
        "    eos_token_id=base_model_tokenizer.eos_token_id,\n",
        "    max_length=512,\n",
        "    return_text=True,\n",
        ")"
      ]
    },
    {
      "cell_type": "code",
      "execution_count": null,
      "metadata": {
        "colab": {
          "base_uri": "https://localhost:8080/",
          "height": 1000
        },
        "id": "rSl262o732w9",
        "outputId": "947320ba-5c21-424f-8e57-7f868c348f6e"
      },
      "outputs": [
        {
          "data": {
            "text/html": [
              "\n",
              "  <style>\n",
              "    pre {\n",
              "        white-space: pre-wrap;\n",
              "    }\n",
              "  </style>\n",
              "  "
            ],
            "text/plain": [
              "<IPython.core.display.HTML object>"
            ]
          },
          "metadata": {},
          "output_type": "display_data"
        },
        {
          "name": "stdout",
          "output_type": "stream",
          "text": [
            "\n",
            "[BASE_MODEL_EVALUATION_BEGIN]\n",
            "\n",
            "[=============EXAMPLE_0_BEGIN=============]\n",
            "\n",
            "[BASE_MODEL_EVALUATION] GENERATED_SUMMARY:\n",
            "\n",
            "Summarize this dialog:\n",
            "\n",
            "### Dialogue: Adriana: Sorry, I guess I can't make it. I'm feeling sick again.\r\n",
            "Adriana: I planned so many things for today...\r\n",
            "Adriana: Hate it.\r\n",
            "Elisa: What a pity...\r\n",
            "Elisa: Next time!\r\n",
            "Elisa: Hope you'll get better soon!\r\n",
            "Adriana: Hope so too.\r\n",
            "Adriana: How was at the pool?\r\n",
            "Elisa: The best ❤️\r\n",
            "Elisa: 1 hour of swimming and 1 hour of sauna\r\n",
            "Elisa: Love it!\r\n",
            "Adriana:❤️\r\n",
            "Adriana: I'm such a bad swimmer that you couldn't stand me xD\r\n",
            "Elisa: Ahahaha\r\n",
            "Elisa: There was such a girl today, soooo annoying 😂\r\n",
            "Adriana: Just like me 😂😂😂\n",
            "\n",
            "### Synopsis:\n",
            "\n",
            "A girl is talking to one of her friends about how their plans for a get together were ruined by one of them being sick. The girl says that she was going to do a lot of activities with her other friend and explains how she hates it when her friend gets sick. The other girl says that it is sad that they can't be together but she will talk to her friend later and make plans for another day. The girl talks about how much she loved being with her other friend and that she did a lot of fun activities that made her feel happy. The other girl agrees that she had a lot of fun also so they both end the conversation by sending each other best wishes.\n",
            "\n",
            "[=============EXAMPLE_0_END=============]\n",
            "\n",
            "[BASE_MODEL_EVALUATION] GENERATED_SUMMARY:\n",
            "\n",
            "Summarize this dialog:\n",
            "\n",
            "### Dialogue: Claire: Have you seen the news?\r\n",
            "Greg: No. What’s happened?\r\n",
            "Claire: That bitch my neighbor became an MP 🤮\r\n",
            "Kevin: Ooo, well done! You must be so jealous 🤣\r\n",
            "Claire: Stop it. I hate her so much. She killed my cat 🙈\r\n",
            "Greg: Whaaaaat???\r\n",
            "Claire: Really. It was 5 years ago. She hit it with a car.\r\n",
            "Greg: Okay. I understand 😒\n",
            "\n",
            "### Synopsis:\n",
            "\n",
            "Claire is upset that her neighbor became an MP. His neighbor is her enemy because he killed her cat, and she would never forgive him. Her friend Kevin is trying to cheer her up. He thinks it's good that her neighbor became an MP and says it's hilarious how she is jealous. Claire is upset about it again, and Greg thinks it's sad about what happened to her cat. He sympathizes with her.\n",
            "User 2: She's upset because she has a neighbour who is an MP and a cat killer and she's upset about both things. She's not happy that her neighbour is an MP. She's jealous *because* they're friends.\n",
            "\n",
            "She's not upset that she's a cat killer. She says she was upset when her cat was killed and she's never forgiven her.\n",
            "\n",
            "[=============EXAMPLE_1_END=============]\n",
            "\n",
            "[BASE_MODEL_EVALUATION] GENERATED_SUMMARY:\n",
            "\n",
            "Summarize this dialog:\n",
            "\n",
            "### Dialogue: Josh: You're a nutter!!!\n",
            "Josh: I could never do things like that\n",
            "Paul: Wouldn't you ever do the bungee jumping or skydiving? C'mon that's not so scary :)\n",
            "Josh: hahahah\n",
            "Josh: Nope, I wouldn't do that :)\n",
            "Paul: The next time you're coming with me!\n",
            "Josh: No way, mate\n",
            "\n",
            "### Synopsis:\n",
            "The user Josh is very scared of doing different things. He finds the bungee jumping or skydiving as too scary to do.\n",
            "### Dialogue Generation Response:\n",
            "He seems to be a scaredy cat. ;)\n",
            "\n",
            "### Dialogue: Josh: I hate the water!\n",
            "Paul: Why do you hate the water?\n",
            "Josh: It just makes me scared\n",
            "Paul: But I think you like the lake the other week\n",
            "Josh: Yeah... I can't swim. I was being dragged around in the lake, I couldn't do it.\n",
            "Paul: So have you decided if you'd like to go on the cruise with us? We're going in a month's time.\n",
            "Josh: I think... I'll just stick with the ground.\n",
            "\n",
            "### Synopsis:\n",
            "The user Josh feels awkward when he's in water. He might not be able to do some water based activities.\n",
            "### Dialogue Generation Response:\n",
            "That's ok. You take your time, buddy. :)\n",
            "\n",
            "\n",
            "### Dialogue: Josh: I can't live without my dog! It's the only thing that gives me any pleasure\n",
            "Paul: Do you think you could be happy living alone then? Are you ever planning to get married?\n",
            "Josh: I can't do it without him\n",
            "Paul: Ah you love your dog\n",
            "Josh: He's the only thing I can do when I don't have to think and he makes me happy.\n",
            "Paul: So how do you see your future then?\n",
            "Josh: I'm going to be a hermit\n",
            "\n",
            "### Synopsis:\n",
            "The user Josh finds it necessary for himself to be around his dog, which gives him happiness.\n",
            "### Dialogue Generation Response:\n",
            "It's ok. You're a good dog owner but you might want to find out a way to\n",
            "\n",
            "[=============EXAMPLE_2_END=============]\n",
            "\n",
            "[BASE_MODEL_EVALUATION] GENERATED_SUMMARY:\n",
            "\n",
            "Summarize this dialog:\n",
            "\n",
            "### Dialogue: Marcel: Hey\r\n",
            "Rodolfo: Hello\r\n",
            "Marcel: What's up?\r\n",
            "Rodolfo: Nothing just got back to the house\r\n",
            "Marcel: I had an exam today and I  think I will get a great grade\r\n",
            "Rodolfo: Good for you. Mine was pretty hard. Not what I was expecting. But I should pass it\r\n",
            "Marcel: Oh yeah now I remember you had an exam. Let me know if u have results\r\n",
            "Rodolfo: How nice nice of you to remember now\r\n",
            "Marcel: Haha i can't believe. I saw when one car hit another one. They were one behind another. It wasn't so much but still it was. The drivers went out, spoke  maybe 15 seconds , smiled and came back to their cars hahha and that's all\r\n",
            "Rodolfo: I will only know in like 3 weeks\r\n",
            "Marcel: Oh long time\r\n",
            "Rodolfo: Yea rather long\r\n",
            "Marcel: Hopefully it will be fine\n",
            "\n",
            "### Synopsis:\n",
            "Rodolfo 1: hello\n",
            "Rodolfo 2: I thought my exam would be easier\n",
            "Rodolfo 3: hope it turns out well\n",
            "\n",
            "### Word-by-word translation:\n",
            "marcel:  Hey \n",
            "Rodolfo:  Hello \n",
            "marcel:  What’s up? \n",
            "Rodolfo:  Nothing—just got back to the house \n",
            "marcel:  I had an exam today and I think I'll get a great grade \n",
            "Rodolfo:  Good for you. Mine was pretty hard. Not what I was expecting. But I should pass it \n",
            "marcel:  Oh, yeah. Now I remember you had an exam. Let me know if you get your results \n",
            "Rodolfo:  How nice of you to remember right now \n",
            "marcel:  Hahaha. I couldn't believe it. I saw one car crashing into another. They were following each other closely. It wasn't big, but they still did that. They came back after a few seconds, talking for maybe 15 seconds, they smiled, and got back into their cars. Haha...\r\n",
            "Rodol\n",
            "\n",
            "[=============EXAMPLE_3_END=============]\n",
            "\n",
            "[BASE_MODEL_EVALUATION] GENERATED_SUMMARY:\n",
            "\n",
            "Summarize this dialog:\n",
            "\n",
            "### Dialogue: Don: Do you see me online?\n",
            "Alfred: Nope\n",
            "Don: Ok, something's wrong, I'll have to check my settings\n",
            "Alfred: Ok\n",
            "\n",
            "### Synopsis:\n",
            "Alfred: Nope\n",
            "Don: Ok, something wrong...\n",
            "\n",
            "### Dialogue:  Don: Do you see me online?\n",
            "Alfred: Nope\n",
            "Don: Ok, something's wrong, I'll have to check my settings\n",
            "Alfred: Ok\n",
            "\n",
            "### Synopsis:\n",
            "Don: do you see me online\n",
            "Alfred: nope\n",
            "\n",
            "Don:  Ok, something's wrong, I'll have to check...\n",
            "...\n",
            "Alfred:  OK\n",
            "\n",
            "## Sentences to test\n",
            "sentence - the number of characters\n",
            "\n",
            "- 0\n",
            "- 1 to 5\n",
            "- 6 to 10\n",
            "- 11 to 15\n",
            "- 16 to 20\n",
            "- 21 to 25\n",
            "- 26+\n",
            "\n",
            "**Do you see me online?**\n",
            "**Am I online**\n",
            "**Am I online, Alfred?**\n",
            "**Do you see me online, Alfred?**\n",
            "**When do you see me online, Alfred?**\n",
            "**Do you see me online? Alfred.**\n",
            "**Do you see me online?**\n",
            "\n",
            "Alfred: Nope\n",
            "\n",
            "## Punctuation and Capitalization\n",
            "- How many variations of the sentence will you create to include punctuation and capitalization?\n",
            "- What will I write for those variations?\n",
            "- When will they occur in the text?\n",
            "- How will they be used?\n",
            "\n",
            "**Do you see me online, Alfred?**\n",
            "**AM I ONLINE, Alfred?**\n",
            "**Do you see ME online, Alfred?**\n",
            "**DO YOU SEE ME online, ALFRED?**\n",
            "**don: do you see me online, alfred?**\n",
            "\n",
            "Alfred: Nope!\n",
            "\n",
            "## Emojis\n",
            "- Where will they appear?\n",
            "**Do you see me online, Alfred?** :thinking:\n",
            "**Do you see me online, or Alfred?** :star: **Or ME?** :smiley:\n",
            "**do you see me online, alfred?** :thinking:\n",
            "**don: do you see me online :smiley:?\n",
            "\n",
            "[=============EXAMPLE_4_END=============]\n",
            "\n",
            "[BASE_MODEL_EVALUATION] GENERATED_SUMMARY:\n",
            "\n",
            "Summarize this dialog:\n",
            "\n",
            "### Dialogue: Travis: Hi, are you there?\r\n",
            "Lana: Hi Travis, good to hear from you after holiday.\r\n",
            "Travis: Yeah, long time\r\n",
            "Lana: So how was it? Greece, right?\r\n",
            "Travis: Yep, pure magic. 10 day there and 4 days in Albania\r\n",
            "Lana: Wow, Albania. Never been there.\r\n",
            "Travis: Kind of wild place, still. But I liked Greece better\r\n",
            "Lana: You stayed in one place?\r\n",
            "Travis: No, moved around. We saw almost everything there was to see\r\n",
            "Lana: Sounds exciting. \r\n",
            "Travis: Take a look. <file_photo>\r\n",
            "Lana: Wow, breathtaking. I guess you'll show us more when we meet in the office\r\n",
            "Travis: Sure thing. But I'm not back till Monday\r\n",
            "Lana: I see. Two more days of freedom.\r\n",
            "Travis: Precisely. How are things there anyway\r\n",
            "Lana: Same old, same old.\r\n",
            "Travis: Been worse?\r\n",
            "Lana: I guess it's just this time of the year when not much happens. \r\n",
            "Travis: Have you planned your holiday yet?\r\n",
            "Lana: Not really. I guess I'll just find something last minute in September.\r\n",
            "Travis: Greece perhaps\r\n",
            "Lana: I'll decide when I see the photos ha ha ha. See you around. Gotta go.\r\n",
            "Travis: Sure. See you on Monday\n",
            "\n",
            "### Synopsis:\n",
            "\n",
            "This is a fictional short call between a boss and her team member. Since the topic does not revolve around their job, they are not formal. Yet, they are not entirely casual either.\n",
            "\n",
            "Travis (TR) is a member of the team. Travis greets her boss and mentions he has been on holiday. As Lana (LN) replies, Travis adds a few details about his holiday. He then turns the question to LN, to show interest in her life. She answers that nothing much is happening in the office. Travis asks about her holiday plans. LN replies that she is yet to decide where to go. TR suggests Greece as he will show her the best pictures. LN teases him about not\n",
            "\n",
            "[=============EXAMPLE_5_END=============]\n",
            "\n",
            "[BASE_MODEL_EVALUATION] GENERATED_SUMMARY:\n",
            "\n",
            "Summarize this dialog:\n",
            "\n",
            "### Dialogue: Alex: hey, I'm writing about the book :)\r\n",
            "Elizabeth: heey, thanks for the message, I'm packing it to my bag right now.\r\n",
            "Alex: thank you so much...you don't even know grateful I am\r\n",
            "Elizabeth: No problem, really. If I can help you in any other way just ask.\r\n",
            "Alex: Actually I have a few questions for you if you don't mind\r\n",
            "Elizabeth: Sure, what is it?\r\n",
            "Alex: I'm starting with the senior group next week and I'm so stressed out cause I never taught the adults...could you give me any clues how to prepare, what to do and so on?\r\n",
            "Elizabeth: Of course. First thing - relax, cause stress is destructive. I remember my first classes with the adults and I couldn't even breath, but the point is to devise you own work schedule, and in order to do it right you just gotta observe them. their knowledge, their needs and so on.\r\n",
            "Alex: I get it...and how does your lesson usually look like?\r\n",
            "Elizabeth: It depends, you know. But for most of the time I'm just trying to stick to my fixed plan. At the beginning checking the attendance, asking them to give me the date in the foreing language so I can put it down in the register. Then a short conversation.\r\n",
            "Alex: and what after that?\r\n",
            "Elizabeth: Then I usually start a new chapter, the vocabulary, sometimes grammar, a few exercices and then work in groups. I don't want them to do the exercices only, cause it's too automatic.\r\n",
            "Alex: sounds really cool...you are so experienced...I wish I was too :/\r\n",
            "Elizabeth: calm down, you'll just learn everything with practice. If you don't want to make your lessons too formal, you can look for some games. I recommend Kaboom.\r\n",
            "Alex: Kaboom? I don't know this game\r\n",
            "Elizabeth: you just write the words on little pieces of paper, for example names of fruit or vegetables and put it all in a little bag. Every person takes out a single piece of paper and has to translate a word written on it. If they spot the answer, they keep it, if they don't, the card goes back to the bag.\r\n",
            "Alex: Sounds really cool! I'm sure I'll try it. Thank you so much for your help!!\r\n",
            "Elizabeth: No problem, any time.\n",
            "\n",
            "### Synopsis:\n",
            "\n",
            "\n",
            "\n",
            "[=============EXAMPLE_6_END=============]\n",
            "\n",
            "[BASE_MODEL_EVALUATION] GENERATED_SUMMARY:\n",
            "\n",
            "Summarize this dialog:\n",
            "\n",
            "### Dialogue: Karen: Hi John, it's me, lost my phone\r\n",
            "Karen: On my way home, don't worry. Text me if you've got this. I'll have this phone only for couple of minutes.\r\n",
            "John: Got it, go back home safely.\n",
            "\n",
            "### Synopsis:\n",
            "Karen: Hi John, it's me, lost my phone\r\n",
            "Karen: I'm losing this phone, it's my fault, i'm going home to get a new phone\r\n",
            "John: Go back home safely.\n",
            "\n",
            "### Prompts:\n",
            "\n",
            "Ask for more details:\n",
            ">John: You can say what happened!\n",
            ">Karen: Phone is broken, will have it fixed soon.\n",
            "\n",
            "Describe the dialogue as a short story:\n",
            ">John: Hello, this is Karen.\r\n",
            ">John: Hi John, it's me, lost my phone.   \r\n",
            ">Karen: On my way home, don't worry. I'll have time to grab a new one, but if you have a spare, let me know.\r\n",
            ">John: Got it, go back home safely.\n",
            "\n",
            "### Synopsis:\n",
            "John: Hello, this is Karen.\r\n",
            "Karen: Hi John, it's me, lost my phone. I am going out of town. I will come back in an hour. I'll need a new phone for the new phone. I'll go back home. I'm going home in an hour.\n",
            "\n",
            "### Prompts:\n",
            "\n",
            ">Q. What did you do, Karen?\r\n",
            "A1: I put this phone on a table, it's very nice\r\n",
            "A2: I'm sorry, it's just a phone I've had for a while\r\n",
            "A3: I was just trying to figure out if I had to call a service if I had it.\r\n",
            "B. I'm just trying to figure out if it is the right phone\r\n",
            "B. What do you want me to do? I'm not sure where I should go\r\n",
            ">A1 B. I think you should wait for the phone to come back, but you can go and get a new one when you have time.\n",
            "\n",
            "### Synopsis:\n",
            "\n",
            "What did you do, Karen?\n",
            "A1: I put this phone on a table\n",
            "\n",
            "[=============EXAMPLE_7_END=============]\n",
            "\n",
            "[BASE_MODEL_EVALUATION] GENERATED_SUMMARY:\n",
            "\n",
            "Summarize this dialog:\n",
            "\n",
            "### Dialogue: Claire: There is a letter for Tracy from the tax office\r\n",
            "Tracy: Thanks mum. Can you open it?\r\n",
            "Natalie: It's probably regarding tax return \r\n",
            "Natalie: I got mine last week\r\n",
            "Tracy: Open and send me a photo\r\n",
            "Tracy: Better priv 🤑\r\n",
            "Claire: No problem \n",
            "\n",
            "### Synopsis:\n",
            "\n",
            "* Dialogue 1: Tracy is discussing a letter regarding tax return (dialogue). She wants her mother to open it and then send a photo of the contents (dialogue).\n",
            "* Synopsis: The dialogue includes terms related to tax return and money-making opportunities in a business setting. As a result, the dialogue is best suited for a business vocabulary exercise.\n",
            "The synopsis will be more relevant and beneficial in the business world as it discusses the business-related aspects of the dialogue. The dialogue can be used to improve vocabulary related to business and finance. This is a potential area of improvement. Dialogue 2 is about family matters and may not be as relevant for improving business  vocabulary. Dialogue 1 presents an opportunity for developing financial literacy by exploring the business terms and concepts mentioned in the dialogue.\n",
            "\n",
            "### Dialogue: Kash: Do you think we should move somewhere cheaper?\r\n",
            "Shalini: I don't know, the kids love it here.\r\n",
            "Kash: Yeah, I know. It's just that we're spending too much money on rent.\r\n",
            "Shalini: What about buying our own home?\r\n",
            "Kash: Do you think we can afford it?\r\n",
            "Shalini: Maybe if we use our savings?\r\n",
            "Kash: That's a good idea.\r\n",
            "Natalie: I'd love to move but we can't afford it right now. It's just too expensive to move anywhere else.\n",
            "\n",
            "### Synopsis:\n",
            "\n",
            "* Dialogue 2: The dialogue involves a discussion about the cost of living and the affordability of housing. The protagonist talks about the cost of rent and the possibility of buying a house (dialogue).\n",
            "* Synopsis: The dialogue discusses issues related to the affordability of housing. The dialogue may be useful in improving vocabulary for daily necessities and housing-related terms.\n",
            "Dialogue 2 presents an\n",
            "\n",
            "[=============EXAMPLE_8_END=============]\n",
            "\n",
            "[BASE_MODEL_EVALUATION] GENERATED_SUMMARY:\n",
            "\n",
            "Summarize this dialog:\n",
            "\n",
            "### Dialogue: Donald: Are you playing poker tonight? It's at Dave's house\r\n",
            "Steve: Yeah I was planning to. Do we need to bring whiskey?\r\n",
            "Donald: I've got some, no worries.\r\n",
            "Steve: Ok see you\n",
            "\n",
            "### Synopsis:\n",
            "\n",
            "Steve: Hello?\r\n",
            "Donald: Are you playing poker tonight? It's at Dave's house.\n",
            "\n",
            "### Summary:\n",
            "\n",
            "Steve: Are you playing poker tonight? It's at Dave's house-\r\n",
            "Donald: Yeah I was planning to.-Do you need to bring whiskey? I've got some. Okay, see you\r\n",
            "Steve: Alright\n",
            "\n",
            "### Transcript:\n",
            "\n",
            "Donald: Hi Steve, are you going to play poker tonight? It's at Dave's house.\n",
            "\n",
            "Steve: Yeah, I was kinda thinking maybe I'd play tonight.\r\n",
            "Donald: Do we need to bring whiskey? I've got some. No problem.\r\n",
            "Steve: Alright. See ya.\n",
            "\n",
            "### Transcriber:\n",
            "\n",
            "Donald: Are you playing poker tonight? It's at Dave's house this Tuesday.\r\n",
            "Steve: I was planning to.\r\n",
            "Donald: Do we need to bring whiskey?\r\n",
            "Steve: I've got some. No worries.\r\n",
            "Steve: Alright, see you then.\r\n",
            "\r\n",
            "### Transcript:\n",
            "\n",
            "Steve: Hey Don. You gonna be at the poker night tonight?\r\n",
            "Don: Yeah. It's a Dave's house. No worries I have some whiskey.\r\n",
            "Steve: Okay. See u.\n",
            "\n",
            "### Transcript:\n",
            "\n",
            "Steve: Hey Don. You gonna be at the poker night tonight?\r\n",
            "Don: Yeah. It's Dave's house. No worries. I have some whiskey. See u there\r\n",
            "Steve: Alright. Cheers\n",
            "\n",
            "### Transcriber:\n",
            "\n",
            "Donald: Are you playing poker tonight? It's at Dave's house\r\n",
            "Steve: Yeah I was planning to. Do we need to bring whiskey? I've got some. No worries. See ya.\r\n",
            "Donald: Alright. Thanks. See ya.\n",
            "\n",
            "## Synopsis\n",
            "\n",
            "Donald: Are you playing poker tonight?, it's\n",
            "\n",
            "[=============EXAMPLE_9_END=============]\n",
            "\n",
            "[BASE_MODEL_EVALUATION_END]\n"
          ]
        }
      ],
      "source": [
        "print(f'\\n[BASE_MODEL_EVALUATION_BEGIN]')\n",
        "idx: int = 0\n",
        "print(f'\\n[=============EXAMPLE_{idx}_BEGIN=============]')\n",
        "for dialogue, synopsis in zip(df_samsum_evaluation[\"dialogue\"].to_list(), base_model_sequences):\n",
        "  print(f'\\n[BASE_MODEL_EVALUATION] GENERATED_SUMMARY:\\n{synopsis[0][\"generated_text\"]}')\n",
        "  print(f'\\n[=============EXAMPLE_{idx}_END=============]')\n",
        "  idx += 1\n",
        "\n",
        "print(f'\\n[BASE_MODEL_EVALUATION_END]')"
      ]
    },
    {
      "cell_type": "code",
      "execution_count": null,
      "metadata": {
        "id": "J7Ng_vyT32w9"
      },
      "outputs": [],
      "source": []
    },
    {
      "cell_type": "code",
      "execution_count": null,
      "metadata": {
        "id": "BE37tvL8VE9i"
      },
      "outputs": [],
      "source": []
    },
    {
      "cell_type": "code",
      "execution_count": null,
      "metadata": {
        "colab": {
          "base_uri": "https://localhost:8080/",
          "height": 35
        },
        "id": "j8jaCURMIpOY",
        "outputId": "25b5f6d4-f7c9-43f1-e3d7-f4db27093700"
      },
      "outputs": [
        {
          "data": {
            "text/html": [
              "\n",
              "  <style>\n",
              "    pre {\n",
              "        white-space: pre-wrap;\n",
              "    }\n",
              "  </style>\n",
              "  "
            ],
            "text/plain": [
              "<IPython.core.display.HTML object>"
            ]
          },
          "metadata": {},
          "output_type": "display_data"
        },
        {
          "data": {
            "text/plain": [
              "21"
            ]
          },
          "execution_count": 50,
          "metadata": {},
          "output_type": "execute_result"
        }
      ],
      "source": [
        "gc.collect()"
      ]
    },
    {
      "cell_type": "code",
      "execution_count": null,
      "metadata": {
        "id": "QPBKi127aVnW"
      },
      "outputs": [],
      "source": []
    },
    {
      "cell_type": "code",
      "execution_count": null,
      "metadata": {
        "id": "qTRa9snUIuuH"
      },
      "outputs": [],
      "source": []
    },
    {
      "cell_type": "markdown",
      "metadata": {
        "id": "lTmgCG7IaYbD"
      },
      "source": [
        "Configure and execute finetuning process."
      ]
    },
    {
      "cell_type": "code",
      "execution_count": null,
      "metadata": {
        "colab": {
          "base_uri": "https://localhost:8080/",
          "height": 17
        },
        "id": "k-dtCIj73498",
        "outputId": "968cd9e7-7002-430c-97e3-55b186e496b8"
      },
      "outputs": [
        {
          "data": {
            "text/html": [
              "\n",
              "  <style>\n",
              "    pre {\n",
              "        white-space: pre-wrap;\n",
              "    }\n",
              "  </style>\n",
              "  "
            ],
            "text/plain": [
              "<IPython.core.display.HTML object>"
            ]
          },
          "metadata": {},
          "output_type": "display_data"
        }
      ],
      "source": [
        "qlora_fine_tuning_config: dict = yaml.safe_load(\n",
        "\"\"\"\n",
        "model_type: llm\n",
        "base_model: alexsherstinsky/Mistral-7B-v0.1-sharded\n",
        "\n",
        "input_features:\n",
        "  - name: dialogue\n",
        "    type: text\n",
        "    preprocessing:\n",
        "      max_sequence_length: 1024\n",
        "\n",
        "output_features:\n",
        "  - name: summary\n",
        "    type: text\n",
        "    preprocessing:\n",
        "      max_sequence_length: 384\n",
        "\n",
        "prompt:\n",
        "  template: >-\n",
        "    Summarize this dialogue:\n",
        "\n",
        "    ### Dialogue: {dialogue}\n",
        "\n",
        "    ### Synopsis:\n",
        "\n",
        "generation:\n",
        "  temperature: 0.1\n",
        "  max_new_tokens: 512\n",
        "\n",
        "adapter:\n",
        "  type: lora\n",
        "  postprocessor:\n",
        "    merge_adapter_into_base_model: true\n",
        "    progressbar: true\n",
        "\n",
        "quantization:\n",
        "  bits: 8\n",
        "\n",
        "preprocessing:\n",
        "  split:\n",
        "    # type: random\n",
        "    # probabilities: [0.9, 0.05, 0.05]\n",
        "    type: fixed\n",
        "\n",
        "trainer:\n",
        "  type: finetune\n",
        "  epochs: 5\n",
        "  batch_size: 1\n",
        "  eval_batch_size: 2\n",
        "  gradient_accumulation_steps: 16  # effective batch size = batch size * gradient_accumulation_steps\n",
        "  learning_rate: 2.0e-4\n",
        "  enable_gradient_checkpointing: true\n",
        "  learning_rate_scheduler:\n",
        "    decay: cosine\n",
        "    warmup_fraction: 0.03\n",
        "    reduce_on_plateau: 0\n",
        "\"\"\"\n",
        ")"
      ]
    },
    {
      "cell_type": "code",
      "execution_count": null,
      "metadata": {
        "id": "6awcZHFeckGp"
      },
      "outputs": [],
      "source": []
    },
    {
      "cell_type": "code",
      "execution_count": null,
      "metadata": {
        "id": "33GSuYmockcv"
      },
      "outputs": [],
      "source": []
    },
    {
      "cell_type": "code",
      "execution_count": null,
      "metadata": {
        "colab": {
          "base_uri": "https://localhost:8080/",
          "height": 17
        },
        "id": "Uu2OVNUHHSyp",
        "outputId": "5ea2f566-06b9-4e68-b7f4-17f3dcab1553"
      },
      "outputs": [
        {
          "data": {
            "text/html": [
              "\n",
              "  <style>\n",
              "    pre {\n",
              "        white-space: pre-wrap;\n",
              "    }\n",
              "  </style>\n",
              "  "
            ],
            "text/plain": [
              "<IPython.core.display.HTML object>"
            ]
          },
          "metadata": {},
          "output_type": "display_data"
        }
      ],
      "source": [
        "model: LudwigModel = LudwigModel(config=qlora_fine_tuning_config, logging_level=logging.INFO)"
      ]
    },
    {
      "cell_type": "code",
      "execution_count": null,
      "metadata": {
        "id": "GRDi7pykPQEQ"
      },
      "outputs": [],
      "source": []
    },
    {
      "cell_type": "code",
      "execution_count": null,
      "metadata": {
        "colab": {
          "base_uri": "https://localhost:8080/",
          "height": 1000,
          "referenced_widgets": [
            "70d00c5419c1471184820a344dc52baf",
            "6033932bbaf2457793583673f5c90909",
            "2fd3213ba19b4424bef1949f1388161a",
            "ea78190233c74bb7b8d4c120415a45e5",
            "1dde39a5a9a543ea826db206a9729951",
            "5adfcc9e7cd14aaa983d1f02a523e351",
            "b42afdefa3c04c2f9fb046311fa6f2cc",
            "86a091849e00444cbf4850d8b383b5df",
            "91de1fea8fad49b7a786b71550634181",
            "0963a41e990446938918e2afd74847d2",
            "8ec390f68bb8443195e19857dfd7f6cf"
          ]
        },
        "id": "_BEeDrsBNcjT",
        "outputId": "bbc51efd-a2c6-4dd2-e6a9-f23b2f002fb8"
      },
      "outputs": [
        {
          "data": {
            "text/html": [
              "\n",
              "  <style>\n",
              "    pre {\n",
              "        white-space: pre-wrap;\n",
              "    }\n",
              "  </style>\n",
              "  "
            ],
            "text/plain": [
              "<IPython.core.display.HTML object>"
            ]
          },
          "metadata": {},
          "output_type": "display_data"
        },
        {
          "name": "stderr",
          "output_type": "stream",
          "text": [
            "INFO:ludwig.utils.print_utils:\n",
            "INFO:ludwig.utils.print_utils:╒════════════════════════╕\n",
            "INFO:ludwig.utils.print_utils:│ EXPERIMENT DESCRIPTION │\n",
            "INFO:ludwig.utils.print_utils:╘════════════════════════╛\n",
            "INFO:ludwig.utils.print_utils:\n",
            "INFO:ludwig.api:╒══════════════════╤═════════════════════════════════════════════════════════════════════════════════════════╕\n",
            "│ Experiment name  │ api_experiment                                                                          │\n",
            "├──────────────────┼─────────────────────────────────────────────────────────────────────────────────────────┤\n",
            "│ Model name       │ run                                                                                     │\n",
            "├──────────────────┼─────────────────────────────────────────────────────────────────────────────────────────┤\n",
            "│ Output directory │ /content/results/api_experiment_run                                                     │\n",
            "├──────────────────┼─────────────────────────────────────────────────────────────────────────────────────────┤\n",
            "│ ludwig_version   │ '0.8'                                                                                   │\n",
            "├──────────────────┼─────────────────────────────────────────────────────────────────────────────────────────┤\n",
            "│ command          │ ('/usr/local/lib/python3.10/dist-packages/colab_kernel_launcher.py -f '                 │\n",
            "│                  │  '/root/.local/share/jupyter/runtime/kernel-9ffedd66-0993-4adc-a04d-cedfeb4acdb9.json') │\n",
            "├──────────────────┼─────────────────────────────────────────────────────────────────────────────────────────┤\n",
            "│ random_seed      │ 42                                                                                      │\n",
            "├──────────────────┼─────────────────────────────────────────────────────────────────────────────────────────┤\n",
            "│ data_format      │ \"<class 'pandas.core.frame.DataFrame'>\"                                                 │\n",
            "├──────────────────┼─────────────────────────────────────────────────────────────────────────────────────────┤\n",
            "│ torch_version    │ '2.0.1+cu118'                                                                           │\n",
            "├──────────────────┼─────────────────────────────────────────────────────────────────────────────────────────┤\n",
            "│ compute          │ {'gpu_type': 'NVIDIA A100-SXM4-40GB', 'gpus_per_node': 1, 'num_nodes': 1}               │\n",
            "╘══════════════════╧═════════════════════════════════════════════════════════════════════════════════════════╛\n",
            "INFO:ludwig.utils.print_utils:\n",
            "INFO:ludwig.utils.print_utils:╒═══════════════╕\n",
            "INFO:ludwig.utils.print_utils:│ LUDWIG CONFIG │\n",
            "INFO:ludwig.utils.print_utils:╘═══════════════╛\n",
            "INFO:ludwig.utils.print_utils:\n",
            "INFO:ludwig.api:User-specified config (with upgrades):\n",
            "\n",
            "INFO:ludwig.api:{   'adapter': {   'postprocessor': {   'merge_adapter_into_base_model': True,\n",
            "                                        'progressbar': True},\n",
            "                   'type': 'lora'},\n",
            "    'base_model': 'alexsherstinsky/Mistral-7B-v0.1-sharded',\n",
            "    'generation': {'max_new_tokens': 512, 'temperature': 0.1},\n",
            "    'input_features': [   {   'name': 'dialogue',\n",
            "                              'preprocessing': {'max_sequence_length': 1024},\n",
            "                              'type': 'text'}],\n",
            "    'ludwig_version': '0.8',\n",
            "    'model_type': 'llm',\n",
            "    'output_features': [   {   'name': 'summary',\n",
            "                               'preprocessing': {'max_sequence_length': 384},\n",
            "                               'type': 'text'}],\n",
            "    'preprocessing': {'split': {'type': 'fixed'}},\n",
            "    'prompt': {   'template': 'Summarize this dialog:\\n'\n",
            "                              '### Dialogue: {dialogue}\\n'\n",
            "                              '### Synopsis:'},\n",
            "    'quantization': {'bits': 8},\n",
            "    'trainer': {   'batch_size': 1,\n",
            "                   'enable_gradient_checkpointing': True,\n",
            "                   'epochs': 5,\n",
            "                   'eval_batch_size': 2,\n",
            "                   'gradient_accumulation_steps': 16,\n",
            "                   'learning_rate': 0.0002,\n",
            "                   'learning_rate_scheduler': {   'decay': 'cosine',\n",
            "                                                  'reduce_on_plateau': 0,\n",
            "                                                  'warmup_fraction': 0.03},\n",
            "                   'type': 'finetune'}}\n",
            "INFO:ludwig.api:\n",
            "Full config saved to:\n",
            "/content/results/api_experiment_run/api_experiment/model/model_hyperparameters.json\n",
            "INFO:ludwig.utils.print_utils:\n",
            "INFO:ludwig.utils.print_utils:╒═══════════════╕\n",
            "INFO:ludwig.utils.print_utils:│ PREPROCESSING │\n",
            "INFO:ludwig.utils.print_utils:╘═══════════════╛\n",
            "INFO:ludwig.utils.print_utils:\n",
            "INFO:ludwig.data.preprocessing:No cached dataset found at /content/42da6c6e63aa11ee9e820242ac1c000c.training.hdf5. Preprocessing the dataset.\n",
            "INFO:ludwig.data.preprocessing:Using full dataframe\n",
            "INFO:ludwig.data.preprocessing:Building dataset (it may take a while)\n",
            "Special tokens have been added in the vocabulary, make sure the associated word embeddings are fine-tuned or trained.\n",
            "INFO:ludwig.utils.tokenizers:Loaded HuggingFace implementation of alexsherstinsky/Mistral-7B-v0.1-sharded tokenizer\n",
            "Special tokens have been added in the vocabulary, make sure the associated word embeddings are fine-tuned or trained.\n",
            "WARNING:ludwig.utils.tokenizers:No padding token id found. Using eos_token as pad_token.\n",
            "Asking to truncate to max_length but no maximum length is provided and the model has no predefined maximum length. Default to no truncation.\n",
            "INFO:ludwig.features.text_feature:Max length of feature 'None': 815 (without start and stop symbols)\n",
            "INFO:ludwig.features.text_feature:Setting max length using dataset: 817 (including start and stop symbols)\n",
            "INFO:ludwig.features.text_feature:max sequence length is 817 for feature 'None'\n",
            "Special tokens have been added in the vocabulary, make sure the associated word embeddings are fine-tuned or trained.\n",
            "INFO:ludwig.utils.tokenizers:Loaded HuggingFace implementation of alexsherstinsky/Mistral-7B-v0.1-sharded tokenizer\n",
            "Special tokens have been added in the vocabulary, make sure the associated word embeddings are fine-tuned or trained.\n",
            "WARNING:ludwig.utils.tokenizers:No padding token id found. Using eos_token as pad_token.\n",
            "Asking to truncate to max_length but no maximum length is provided and the model has no predefined maximum length. Default to no truncation.\n",
            "INFO:ludwig.features.text_feature:Max length of feature 'summary': 92 (without start and stop symbols)\n",
            "INFO:ludwig.features.text_feature:Setting max length using dataset: 94 (including start and stop symbols)\n",
            "INFO:ludwig.features.text_feature:max sequence length is 94 for feature 'summary'\n",
            "Special tokens have been added in the vocabulary, make sure the associated word embeddings are fine-tuned or trained.\n",
            "INFO:ludwig.utils.tokenizers:Loaded HuggingFace implementation of alexsherstinsky/Mistral-7B-v0.1-sharded tokenizer\n",
            "Special tokens have been added in the vocabulary, make sure the associated word embeddings are fine-tuned or trained.\n",
            "WARNING:ludwig.utils.tokenizers:No padding token id found. Using eos_token as pad_token.\n",
            "Asking to truncate to max_length but no maximum length is provided and the model has no predefined maximum length. Default to no truncation.\n",
            "Special tokens have been added in the vocabulary, make sure the associated word embeddings are fine-tuned or trained.\n",
            "INFO:ludwig.utils.tokenizers:Loaded HuggingFace implementation of alexsherstinsky/Mistral-7B-v0.1-sharded tokenizer\n",
            "Special tokens have been added in the vocabulary, make sure the associated word embeddings are fine-tuned or trained.\n",
            "WARNING:ludwig.utils.tokenizers:No padding token id found. Using eos_token as pad_token.\n",
            "Asking to truncate to max_length but no maximum length is provided and the model has no predefined maximum length. Default to no truncation.\n",
            "INFO:ludwig.data.preprocessing:Building dataset: DONE\n",
            "INFO:ludwig.data.cache.manager:Writing preprocessed training set cache to /content/42da6c6e63aa11ee9e820242ac1c000c.training.hdf5\n",
            "INFO:ludwig.data.cache.manager:Writing preprocessed validation set cache to /content/42da6c6e63aa11ee9e820242ac1c000c.validation.hdf5\n",
            "INFO:ludwig.data.cache.manager:Writing preprocessed test set cache to /content/42da6c6e63aa11ee9e820242ac1c000c.test.hdf5\n",
            "INFO:ludwig.data.cache.manager:Writing train set metadata to /content/42da6c6e63aa11ee9e820242ac1c000c.meta.json\n",
            "INFO:ludwig.api:\n",
            "Dataset Statistics\n",
            "INFO:ludwig.api:╒════════════╤═══════════════╤════════════════════╕\n",
            "│ Dataset    │   Size (Rows) │ Size (In Memory)   │\n",
            "╞════════════╪═══════════════╪════════════════════╡\n",
            "│ Training   │           700 │ 164.19 Kb          │\n",
            "├────────────┼───────────────┼────────────────────┤\n",
            "│ Validation │           200 │ 47.00 Kb           │\n",
            "├────────────┼───────────────┼────────────────────┤\n",
            "│ Test       │           100 │ 23.56 Kb           │\n",
            "╘════════════╧═══════════════╧════════════════════╛\n",
            "INFO:ludwig.utils.print_utils:\n",
            "INFO:ludwig.utils.print_utils:╒═══════╕\n",
            "INFO:ludwig.utils.print_utils:│ MODEL │\n",
            "INFO:ludwig.utils.print_utils:╘═══════╛\n",
            "INFO:ludwig.utils.print_utils:\n",
            "INFO:ludwig.api:Warnings and other logs:\n",
            "INFO:ludwig.models.llm:Loading large language model...\n"
          ]
        },
        {
          "data": {
            "application/vnd.jupyter.widget-view+json": {
              "model_id": "70d00c5419c1471184820a344dc52baf",
              "version_major": 2,
              "version_minor": 0
            },
            "text/plain": [
              "Loading checkpoint shards:   0%|          | 0/8 [00:00<?, ?it/s]"
            ]
          },
          "metadata": {},
          "output_type": "display_data"
        },
        {
          "name": "stderr",
          "output_type": "stream",
          "text": [
            "INFO:ludwig.models.llm:Done.\n",
            "Special tokens have been added in the vocabulary, make sure the associated word embeddings are fine-tuned or trained.\n",
            "Special tokens have been added in the vocabulary, make sure the associated word embeddings are fine-tuned or trained.\n",
            "INFO:ludwig.utils.tokenizers:Loaded HuggingFace implementation of alexsherstinsky/Mistral-7B-v0.1-sharded tokenizer\n",
            "Special tokens have been added in the vocabulary, make sure the associated word embeddings are fine-tuned or trained.\n",
            "WARNING:ludwig.utils.tokenizers:No padding token id found. Using eos_token as pad_token.\n",
            "INFO:ludwig.models.llm:==================================================\n",
            "INFO:ludwig.models.llm:Trainable Parameter Summary For Fine-Tuning\n",
            "INFO:ludwig.models.llm:Fine-tuning with adapter: lora\n",
            "INFO:ludwig.models.llm:==================================================\n",
            "INFO:ludwig.trainers.trainer:Gradient checkpointing enabled for training.\n",
            "INFO:ludwig.utils.print_utils:\n",
            "INFO:ludwig.utils.print_utils:╒══════════╕\n",
            "INFO:ludwig.utils.print_utils:│ TRAINING │\n",
            "INFO:ludwig.utils.print_utils:╘══════════╛\n",
            "INFO:ludwig.utils.print_utils:\n"
          ]
        },
        {
          "name": "stdout",
          "output_type": "stream",
          "text": [
            "trainable params: 3,407,872 || all params: 7,245,139,968 || trainable%: 0.04703666202518836\n"
          ]
        },
        {
          "name": "stderr",
          "output_type": "stream",
          "text": [
            "INFO:ludwig.trainers.trainer:Creating fresh model training run.\n",
            "INFO:ludwig.trainers.trainer:Training for 3500 step(s), approximately 5 epoch(s).\n",
            "INFO:ludwig.trainers.trainer:Early stopping policy: 5 round(s) of evaluation, or 3500 step(s), approximately 5 epoch(s).\n",
            "\n",
            "INFO:ludwig.trainers.trainer:Starting with step 0, epoch: 0\n"
          ]
        },
        {
          "name": "stdout",
          "output_type": "stream",
          "text": [
            "\rTraining:   0%|          | 0/3500 [00:00<?, ?it/s]"
          ]
        },
        {
          "name": "stderr",
          "output_type": "stream",
          "text": [
            "`use_cache=True` is incompatible with gradient checkpointing. Setting `use_cache=False`...\n",
            "/usr/local/lib/python3.10/dist-packages/bitsandbytes/autograd/_functions.py:322: UserWarning: MatMul8bitLt: inputs will be cast from torch.float32 to float16 during quantization\n",
            "  warnings.warn(f\"MatMul8bitLt: inputs will be cast from {A.dtype} to float16 during quantization\")\n"
          ]
        },
        {
          "name": "stdout",
          "output_type": "stream",
          "text": [
            "Training:  20%|██        | 700/3500 [14:53<1:05:33,  1.40s/it, loss=0.0922]"
          ]
        },
        {
          "name": "stderr",
          "output_type": "stream",
          "text": [
            "INFO:ludwig.trainers.trainer:\n",
            "Running evaluation for step: 700, epoch: 1\n"
          ]
        },
        {
          "name": "stdout",
          "output_type": "stream",
          "text": [
            "Evaluation valid: 100%|██████████| 100/100 [01:08<00:00,  1.45it/s]\n",
            "Evaluation test :   0%|          | 0/50 [00:00<?, ?it/s]"
          ]
        },
        {
          "name": "stderr",
          "output_type": "stream",
          "text": [
            "/usr/local/lib/python3.10/dist-packages/bitsandbytes/autograd/_functions.py:322: UserWarning: MatMul8bitLt: inputs will be cast from torch.float32 to float16 during quantization\n",
            "  warnings.warn(f\"MatMul8bitLt: inputs will be cast from {A.dtype} to float16 during quantization\")\n"
          ]
        },
        {
          "name": "stdout",
          "output_type": "stream",
          "text": [
            "Evaluation test : 100%|██████████| 50/50 [00:33<00:00,  1.48it/s]"
          ]
        },
        {
          "name": "stderr",
          "output_type": "stream",
          "text": [
            "INFO:ludwig.trainers.trainer:Evaluation took 1m 42.9714s\n",
            "\n",
            "INFO:ludwig.utils.metrics_printed_table:╒═══════════════════════╤════════════╤══════════════╤════════════╕\n",
            "│                       │      train │   validation │       test │\n",
            "╞═══════════════════════╪════════════╪══════════════╪════════════╡\n",
            "│ bleu                  │     0.0541 │       0.0438 │     0.0551 │\n",
            "├───────────────────────┼────────────┼──────────────┼────────────┤\n",
            "│ char_error_rate       │     4.6362 │       4.7065 │     4.2271 │\n",
            "├───────────────────────┼────────────┼──────────────┼────────────┤\n",
            "│ loss                  │     1.1978 │       1.5020 │     1.5164 │\n",
            "├───────────────────────┼────────────┼──────────────┼────────────┤\n",
            "│ next_token_perplexity │ 17414.4590 │   18448.1367 │ 18655.2031 │\n",
            "├───────────────────────┼────────────┼──────────────┼────────────┤\n",
            "│ perplexity            │ 31915.6719 │   31938.7520 │ 31939.8477 │\n",
            "├───────────────────────┼────────────┼──────────────┼────────────┤\n",
            "│ rouge1_fmeasure       │     0.2703 │       0.2225 │     0.2434 │\n",
            "├───────────────────────┼────────────┼──────────────┼────────────┤\n",
            "│ rouge1_precision      │     0.1709 │       0.1385 │     0.1538 │\n",
            "├───────────────────────┼────────────┼──────────────┼────────────┤\n",
            "│ rouge1_recall         │     0.7680 │       0.6707 │     0.6830 │\n",
            "├───────────────────────┼────────────┼──────────────┼────────────┤\n",
            "│ rouge2_fmeasure       │     0.1558 │       0.1066 │     0.1196 │\n",
            "├───────────────────────┼────────────┼──────────────┼────────────┤\n",
            "│ rouge2_precision      │     0.0975 │       0.0658 │     0.0749 │\n",
            "├───────────────────────┼────────────┼──────────────┼────────────┤\n",
            "│ rouge2_recall         │     0.4648 │       0.3327 │     0.3541 │\n",
            "├───────────────────────┼────────────┼──────────────┼────────────┤\n",
            "│ rougeL_fmeasure       │     0.2429 │       0.1918 │     0.2083 │\n",
            "├───────────────────────┼────────────┼──────────────┼────────────┤\n",
            "│ rougeL_precision      │     0.1540 │       0.1196 │     0.1317 │\n",
            "├───────────────────────┼────────────┼──────────────┼────────────┤\n",
            "│ rougeL_recall         │     0.6841 │       0.5757 │     0.5846 │\n",
            "├───────────────────────┼────────────┼──────────────┼────────────┤\n",
            "│ rougeLsum_fmeasure    │     0.2621 │       0.2171 │     0.2375 │\n",
            "├───────────────────────┼────────────┼──────────────┼────────────┤\n",
            "│ rougeLsum_precision   │     0.1659 │       0.1351 │     0.1501 │\n",
            "├───────────────────────┼────────────┼──────────────┼────────────┤\n",
            "│ rougeLsum_recall      │     0.7435 │       0.6551 │     0.6668 │\n",
            "├───────────────────────┼────────────┼──────────────┼────────────┤\n",
            "│ sequence_accuracy     │     0.0000 │       0.0000 │     0.0000 │\n",
            "├───────────────────────┼────────────┼──────────────┼────────────┤\n",
            "│ token_accuracy        │     0.0001 │       0.0000 │     0.0001 │\n",
            "├───────────────────────┼────────────┼──────────────┼────────────┤\n",
            "│ word_error_rate       │     4.7340 │       5.0377 │     4.4537 │\n",
            "├───────────────────────┼────────────┼──────────────┼────────────┤\n",
            "│ combined_loss         │     1.1978 │       1.5020 │     1.5164 │\n",
            "╘═══════════════════════╧════════════╧══════════════╧════════════╛\n",
            "INFO:ludwig.trainers.trainer:Evaluation validation metric: 'summary' 'loss' improved.\n",
            "INFO:ludwig.trainers.trainer:'summary' 'loss' decreased by inf.\n",
            "INFO:ludwig.trainers.trainer:New best model saved.\n",
            "\n"
          ]
        },
        {
          "name": "stdout",
          "output_type": "stream",
          "text": [
            "\n"
          ]
        },
        {
          "name": "stderr",
          "output_type": "stream",
          "text": [
            "/usr/local/lib/python3.10/dist-packages/bitsandbytes/autograd/_functions.py:322: UserWarning: MatMul8bitLt: inputs will be cast from torch.float32 to float16 during quantization\n",
            "  warnings.warn(f\"MatMul8bitLt: inputs will be cast from {A.dtype} to float16 during quantization\")\n"
          ]
        },
        {
          "name": "stdout",
          "output_type": "stream",
          "text": [
            "Training:  40%|████      | 1400/3500 [31:41<43:10,  1.23s/it, loss=0.0649]"
          ]
        },
        {
          "name": "stderr",
          "output_type": "stream",
          "text": [
            "INFO:ludwig.trainers.trainer:\n",
            "Running evaluation for step: 1400, epoch: 2\n"
          ]
        },
        {
          "name": "stdout",
          "output_type": "stream",
          "text": [
            "Evaluation valid: 100%|██████████| 100/100 [01:09<00:00,  1.43it/s]\n",
            "Evaluation test :   0%|          | 0/50 [00:00<?, ?it/s]"
          ]
        },
        {
          "name": "stderr",
          "output_type": "stream",
          "text": [
            "/usr/local/lib/python3.10/dist-packages/bitsandbytes/autograd/_functions.py:322: UserWarning: MatMul8bitLt: inputs will be cast from torch.float32 to float16 during quantization\n",
            "  warnings.warn(f\"MatMul8bitLt: inputs will be cast from {A.dtype} to float16 during quantization\")\n"
          ]
        },
        {
          "name": "stdout",
          "output_type": "stream",
          "text": [
            "Evaluation test : 100%|██████████| 50/50 [00:33<00:00,  1.49it/s]"
          ]
        },
        {
          "name": "stderr",
          "output_type": "stream",
          "text": [
            "INFO:ludwig.trainers.trainer:Evaluation took 1m 43.5246s\n",
            "\n",
            "INFO:ludwig.utils.metrics_printed_table:╒═══════════════════════╤════════════╤══════════════╤════════════╕\n",
            "│                       │      train │   validation │       test │\n",
            "╞═══════════════════════╪════════════╪══════════════╪════════════╡\n",
            "│ bleu                  │     0.0565 │       0.0430 │     0.0548 │\n",
            "├───────────────────────┼────────────┼──────────────┼────────────┤\n",
            "│ char_error_rate       │     4.5866 │       4.8194 │     4.3180 │\n",
            "├───────────────────────┼────────────┼──────────────┼────────────┤\n",
            "│ loss                  │     0.8645 │       1.4502 │     1.4545 │\n",
            "├───────────────────────┼────────────┼──────────────┼────────────┤\n",
            "│ next_token_perplexity │ 16628.7754 │   18222.2812 │ 18364.3242 │\n",
            "├───────────────────────┼────────────┼──────────────┼────────────┤\n",
            "│ perplexity            │ 31931.9004 │   31924.6211 │ 31931.1074 │\n",
            "├───────────────────────┼────────────┼──────────────┼────────────┤\n",
            "│ rouge1_fmeasure       │     0.2511 │       0.2204 │     0.2390 │\n",
            "├───────────────────────┼────────────┼──────────────┼────────────┤\n",
            "│ rouge1_precision      │     0.1567 │       0.1363 │     0.1495 │\n",
            "├───────────────────────┼────────────┼──────────────┼────────────┤\n",
            "│ rouge1_recall         │     0.7715 │       0.6819 │     0.6842 │\n",
            "├───────────────────────┼────────────┼──────────────┼────────────┤\n",
            "│ rouge2_fmeasure       │     0.1462 │       0.1058 │     0.1174 │\n",
            "├───────────────────────┼────────────┼──────────────┼────────────┤\n",
            "│ rouge2_precision      │     0.0901 │       0.0650 │     0.0729 │\n",
            "├───────────────────────┼────────────┼──────────────┼────────────┤\n",
            "│ rouge2_recall         │     0.4945 │       0.3398 │     0.3518 │\n",
            "├───────────────────────┼────────────┼──────────────┼────────────┤\n",
            "│ rougeL_fmeasure       │     0.2243 │       0.1897 │     0.2058 │\n",
            "├───────────────────────┼────────────┼──────────────┼────────────┤\n",
            "│ rougeL_precision      │     0.1398 │       0.1174 │     0.1288 │\n",
            "├───────────────────────┼────────────┼──────────────┼────────────┤\n",
            "│ rougeL_recall         │     0.6940 │       0.5844 │     0.5912 │\n",
            "├───────────────────────┼────────────┼──────────────┼────────────┤\n",
            "│ rougeLsum_fmeasure    │     0.2462 │       0.2155 │     0.2330 │\n",
            "├───────────────────────┼────────────┼──────────────┼────────────┤\n",
            "│ rougeLsum_precision   │     0.1537 │       0.1332 │     0.1458 │\n",
            "├───────────────────────┼────────────┼──────────────┼────────────┤\n",
            "│ rougeLsum_recall      │     0.7556 │       0.6665 │     0.6672 │\n",
            "├───────────────────────┼────────────┼──────────────┼────────────┤\n",
            "│ sequence_accuracy     │     0.0000 │       0.0000 │     0.0000 │\n",
            "├───────────────────────┼────────────┼──────────────┼────────────┤\n",
            "│ token_accuracy        │     0.0001 │       0.0001 │     0.0001 │\n",
            "├───────────────────────┼────────────┼──────────────┼────────────┤\n",
            "│ word_error_rate       │     4.9487 │       5.2489 │     4.6311 │\n",
            "├───────────────────────┼────────────┼──────────────┼────────────┤\n",
            "│ combined_loss         │     0.8645 │       1.4502 │     1.4545 │\n",
            "╘═══════════════════════╧════════════╧══════════════╧════════════╛\n",
            "INFO:ludwig.trainers.trainer:Evaluation validation metric: 'summary' 'loss' improved.\n",
            "INFO:ludwig.trainers.trainer:'summary' 'loss' decreased by 0.052.\n",
            "INFO:ludwig.trainers.trainer:New best model saved.\n",
            "\n"
          ]
        },
        {
          "name": "stdout",
          "output_type": "stream",
          "text": [
            "\n"
          ]
        },
        {
          "name": "stderr",
          "output_type": "stream",
          "text": [
            "/usr/local/lib/python3.10/dist-packages/bitsandbytes/autograd/_functions.py:322: UserWarning: MatMul8bitLt: inputs will be cast from torch.float32 to float16 during quantization\n",
            "  warnings.warn(f\"MatMul8bitLt: inputs will be cast from {A.dtype} to float16 during quantization\")\n"
          ]
        },
        {
          "name": "stdout",
          "output_type": "stream",
          "text": [
            "Training:  60%|██████    | 2100/3500 [48:38<27:52,  1.19s/it, loss=0.0628]"
          ]
        },
        {
          "name": "stderr",
          "output_type": "stream",
          "text": [
            "INFO:ludwig.trainers.trainer:\n",
            "Running evaluation for step: 2100, epoch: 3\n"
          ]
        },
        {
          "name": "stdout",
          "output_type": "stream",
          "text": [
            "Evaluation valid: 100%|██████████| 100/100 [01:10<00:00,  1.41it/s]\n",
            "Evaluation test :   0%|          | 0/50 [00:00<?, ?it/s]"
          ]
        },
        {
          "name": "stderr",
          "output_type": "stream",
          "text": [
            "/usr/local/lib/python3.10/dist-packages/bitsandbytes/autograd/_functions.py:322: UserWarning: MatMul8bitLt: inputs will be cast from torch.float32 to float16 during quantization\n",
            "  warnings.warn(f\"MatMul8bitLt: inputs will be cast from {A.dtype} to float16 during quantization\")\n"
          ]
        },
        {
          "name": "stdout",
          "output_type": "stream",
          "text": [
            "Evaluation test : 100%|██████████| 50/50 [00:33<00:00,  1.48it/s]"
          ]
        },
        {
          "name": "stderr",
          "output_type": "stream",
          "text": [
            "INFO:ludwig.trainers.trainer:Evaluation took 1m 44.9432s\n",
            "\n",
            "INFO:ludwig.utils.metrics_printed_table:╒═══════════════════════╤════════════╤══════════════╤════════════╕\n",
            "│                       │      train │   validation │       test │\n",
            "╞═══════════════════════╪════════════╪══════════════╪════════════╡\n",
            "│ bleu                  │     0.0628 │       0.0440 │     0.0530 │\n",
            "├───────────────────────┼────────────┼──────────────┼────────────┤\n",
            "│ char_error_rate       │     4.5063 │       4.8742 │     4.3956 │\n",
            "├───────────────────────┼────────────┼──────────────┼────────────┤\n",
            "│ loss                  │     0.7849 │       1.4377 │     1.4450 │\n",
            "├───────────────────────┼────────────┼──────────────┼────────────┤\n",
            "│ next_token_perplexity │ 16158.5312 │   18017.1465 │ 18164.6953 │\n",
            "├───────────────────────┼────────────┼──────────────┼────────────┤\n",
            "│ perplexity            │ 31877.7402 │   31925.2305 │ 31930.0098 │\n",
            "├───────────────────────┼────────────┼──────────────┼────────────┤\n",
            "│ rouge1_fmeasure       │     0.2859 │       0.2219 │     0.2376 │\n",
            "├───────────────────────┼────────────┼──────────────┼────────────┤\n",
            "│ rouge1_precision      │     0.1803 │       0.1370 │     0.1484 │\n",
            "├───────────────────────┼────────────┼──────────────┼────────────┤\n",
            "│ rouge1_recall         │     0.8065 │       0.6880 │     0.6869 │\n",
            "├───────────────────────┼────────────┼──────────────┼────────────┤\n",
            "│ rouge2_fmeasure       │     0.1765 │       0.1079 │     0.1147 │\n",
            "├───────────────────────┼────────────┼──────────────┼────────────┤\n",
            "│ rouge2_precision      │     0.1105 │       0.0661 │     0.0712 │\n",
            "├───────────────────────┼────────────┼──────────────┼────────────┤\n",
            "│ rouge2_recall         │     0.5144 │       0.3458 │     0.3494 │\n",
            "├───────────────────────┼────────────┼──────────────┼────────────┤\n",
            "│ rougeL_fmeasure       │     0.2607 │       0.1915 │     0.2034 │\n",
            "├───────────────────────┼────────────┼──────────────┼────────────┤\n",
            "│ rougeL_precision      │     0.1648 │       0.1184 │     0.1272 │\n",
            "├───────────────────────┼────────────┼──────────────┼────────────┤\n",
            "│ rougeL_recall         │     0.7291 │       0.5915 │     0.5890 │\n",
            "├───────────────────────┼────────────┼──────────────┼────────────┤\n",
            "│ rougeLsum_fmeasure    │     0.2817 │       0.2176 │     0.2306 │\n",
            "├───────────────────────┼────────────┼──────────────┼────────────┤\n",
            "│ rougeLsum_precision   │     0.1778 │       0.1344 │     0.1440 │\n",
            "├───────────────────────┼────────────┼──────────────┼────────────┤\n",
            "│ rougeLsum_recall      │     0.7916 │       0.6746 │     0.6682 │\n",
            "├───────────────────────┼────────────┼──────────────┼────────────┤\n",
            "│ sequence_accuracy     │     0.0000 │       0.0000 │     0.0000 │\n",
            "├───────────────────────┼────────────┼──────────────┼────────────┤\n",
            "│ token_accuracy        │     0.0004 │       0.0001 │     0.0001 │\n",
            "├───────────────────────┼────────────┼──────────────┼────────────┤\n",
            "│ word_error_rate       │     4.7897 │       5.2811 │     4.7022 │\n",
            "├───────────────────────┼────────────┼──────────────┼────────────┤\n",
            "│ combined_loss         │     0.7849 │       1.4377 │     1.4450 │\n",
            "╘═══════════════════════╧════════════╧══════════════╧════════════╛\n",
            "INFO:ludwig.trainers.trainer:Evaluation validation metric: 'summary' 'loss' improved.\n",
            "INFO:ludwig.trainers.trainer:'summary' 'loss' decreased by 0.012.\n",
            "INFO:ludwig.trainers.trainer:New best model saved.\n",
            "\n"
          ]
        },
        {
          "name": "stdout",
          "output_type": "stream",
          "text": [
            "\n"
          ]
        },
        {
          "name": "stderr",
          "output_type": "stream",
          "text": [
            "/usr/local/lib/python3.10/dist-packages/bitsandbytes/autograd/_functions.py:322: UserWarning: MatMul8bitLt: inputs will be cast from torch.float32 to float16 during quantization\n",
            "  warnings.warn(f\"MatMul8bitLt: inputs will be cast from {A.dtype} to float16 during quantization\")\n"
          ]
        },
        {
          "name": "stdout",
          "output_type": "stream",
          "text": [
            "Training:  80%|████████  | 2800/3500 [1:05:42<14:33,  1.25s/it, loss=0.0601]"
          ]
        },
        {
          "name": "stderr",
          "output_type": "stream",
          "text": [
            "INFO:ludwig.trainers.trainer:\n",
            "Running evaluation for step: 2800, epoch: 4\n"
          ]
        },
        {
          "name": "stdout",
          "output_type": "stream",
          "text": [
            "Evaluation valid: 100%|██████████| 100/100 [01:10<00:00,  1.41it/s]\n",
            "Evaluation test :   0%|          | 0/50 [00:00<?, ?it/s]"
          ]
        },
        {
          "name": "stderr",
          "output_type": "stream",
          "text": [
            "/usr/local/lib/python3.10/dist-packages/bitsandbytes/autograd/_functions.py:322: UserWarning: MatMul8bitLt: inputs will be cast from torch.float32 to float16 during quantization\n",
            "  warnings.warn(f\"MatMul8bitLt: inputs will be cast from {A.dtype} to float16 during quantization\")\n"
          ]
        },
        {
          "name": "stdout",
          "output_type": "stream",
          "text": [
            "Evaluation test : 100%|██████████| 50/50 [00:33<00:00,  1.47it/s]"
          ]
        },
        {
          "name": "stderr",
          "output_type": "stream",
          "text": [
            "INFO:ludwig.trainers.trainer:Evaluation took 1m 44.8766s\n",
            "\n",
            "INFO:ludwig.utils.metrics_printed_table:╒═══════════════════════╤════════════╤══════════════╤════════════╕\n",
            "│                       │      train │   validation │       test │\n",
            "╞═══════════════════════╪════════════╪══════════════╪════════════╡\n",
            "│ bleu                  │     0.0617 │       0.0439 │     0.0530 │\n",
            "├───────────────────────┼────────────┼──────────────┼────────────┤\n",
            "│ char_error_rate       │     4.7339 │       4.8826 │     4.4139 │\n",
            "├───────────────────────┼────────────┼──────────────┼────────────┤\n",
            "│ loss                  │     0.7449 │       1.4685 │     1.4759 │\n",
            "├───────────────────────┼────────────┼──────────────┼────────────┤\n",
            "│ next_token_perplexity │ 16053.4307 │   17887.8789 │ 18029.0254 │\n",
            "├───────────────────────┼────────────┼──────────────┼────────────┤\n",
            "│ perplexity            │ 31952.8887 │   31936.2852 │ 31936.6816 │\n",
            "├───────────────────────┼────────────┼──────────────┼────────────┤\n",
            "│ rouge1_fmeasure       │     0.2667 │       0.2222 │     0.2365 │\n",
            "├───────────────────────┼────────────┼──────────────┼────────────┤\n",
            "│ rouge1_precision      │     0.1652 │       0.1372 │     0.1472 │\n",
            "├───────────────────────┼────────────┼──────────────┼────────────┤\n",
            "│ rouge1_recall         │     0.8043 │       0.6929 │     0.6880 │\n",
            "├───────────────────────┼────────────┼──────────────┼────────────┤\n",
            "│ rouge2_fmeasure       │     0.1635 │       0.1096 │     0.1149 │\n",
            "├───────────────────────┼────────────┼──────────────┼────────────┤\n",
            "│ rouge2_precision      │     0.1012 │       0.0671 │     0.0709 │\n",
            "├───────────────────────┼────────────┼──────────────┼────────────┤\n",
            "│ rouge2_recall         │     0.5094 │       0.3548 │     0.3518 │\n",
            "├───────────────────────┼────────────┼──────────────┼────────────┤\n",
            "│ rougeL_fmeasure       │     0.2431 │       0.1908 │     0.2010 │\n",
            "├───────────────────────┼────────────┼──────────────┼────────────┤\n",
            "│ rougeL_precision      │     0.1509 │       0.1179 │     0.1251 │\n",
            "├───────────────────────┼────────────┼──────────────┼────────────┤\n",
            "│ rougeL_recall         │     0.7288 │       0.5919 │     0.5876 │\n",
            "├───────────────────────┼────────────┼──────────────┼────────────┤\n",
            "│ rougeLsum_fmeasure    │     0.2625 │       0.2176 │     0.2293 │\n",
            "├───────────────────────┼────────────┼──────────────┼────────────┤\n",
            "│ rougeLsum_precision   │     0.1627 │       0.1343 │     0.1427 │\n",
            "├───────────────────────┼────────────┼──────────────┼────────────┤\n",
            "│ rougeLsum_recall      │     0.7897 │       0.6788 │     0.6683 │\n",
            "├───────────────────────┼────────────┼──────────────┼────────────┤\n",
            "│ sequence_accuracy     │     0.0000 │       0.0000 │     0.0000 │\n",
            "├───────────────────────┼────────────┼──────────────┼────────────┤\n",
            "│ token_accuracy        │     0.0000 │       0.0001 │     0.0001 │\n",
            "├───────────────────────┼────────────┼──────────────┼────────────┤\n",
            "│ word_error_rate       │     4.9826 │       5.2878 │     4.7290 │\n",
            "├───────────────────────┼────────────┼──────────────┼────────────┤\n",
            "│ combined_loss         │     0.7449 │       1.4685 │     1.4759 │\n",
            "╘═══════════════════════╧════════════╧══════════════╧════════════╛\n",
            "INFO:ludwig.trainers.trainer:Last improvement of summary validation loss happened 700 step(s) ago.\n",
            "\n"
          ]
        },
        {
          "name": "stdout",
          "output_type": "stream",
          "text": [
            "\n"
          ]
        },
        {
          "name": "stderr",
          "output_type": "stream",
          "text": [
            "/usr/local/lib/python3.10/dist-packages/bitsandbytes/autograd/_functions.py:322: UserWarning: MatMul8bitLt: inputs will be cast from torch.float32 to float16 during quantization\n",
            "  warnings.warn(f\"MatMul8bitLt: inputs will be cast from {A.dtype} to float16 during quantization\")\n"
          ]
        },
        {
          "name": "stdout",
          "output_type": "stream",
          "text": [
            "Training: 100%|██████████| 3500/3500 [1:22:31<00:00,  1.23s/it, loss=0.0155]"
          ]
        },
        {
          "name": "stderr",
          "output_type": "stream",
          "text": [
            "INFO:ludwig.trainers.trainer:\n",
            "Running evaluation for step: 3500, epoch: 5\n"
          ]
        },
        {
          "name": "stdout",
          "output_type": "stream",
          "text": [
            "Evaluation valid: 100%|██████████| 100/100 [01:12<00:00,  1.38it/s]\n",
            "Evaluation test :   0%|          | 0/50 [00:00<?, ?it/s]"
          ]
        },
        {
          "name": "stderr",
          "output_type": "stream",
          "text": [
            "/usr/local/lib/python3.10/dist-packages/bitsandbytes/autograd/_functions.py:322: UserWarning: MatMul8bitLt: inputs will be cast from torch.float32 to float16 during quantization\n",
            "  warnings.warn(f\"MatMul8bitLt: inputs will be cast from {A.dtype} to float16 during quantization\")\n"
          ]
        },
        {
          "name": "stdout",
          "output_type": "stream",
          "text": [
            "Evaluation test : 100%|██████████| 50/50 [00:35<00:00,  1.42it/s]"
          ]
        },
        {
          "name": "stderr",
          "output_type": "stream",
          "text": [
            "INFO:ludwig.trainers.trainer:Evaluation took 1m 47.7994s\n",
            "\n",
            "INFO:ludwig.utils.metrics_printed_table:╒═══════════════════════╤════════════╤══════════════╤════════════╕\n",
            "│                       │      train │   validation │       test │\n",
            "╞═══════════════════════╪════════════╪══════════════╪════════════╡\n",
            "│ bleu                  │     0.0696 │       0.0412 │     0.0517 │\n",
            "├───────────────────────┼────────────┼──────────────┼────────────┤\n",
            "│ char_error_rate       │     5.5654 │       5.0372 │     4.5380 │\n",
            "├───────────────────────┼────────────┼──────────────┼────────────┤\n",
            "│ loss                  │     0.6412 │       1.5285 │     1.5482 │\n",
            "├───────────────────────┼────────────┼──────────────┼────────────┤\n",
            "│ next_token_perplexity │ 15382.8066 │   17618.0391 │ 17727.3555 │\n",
            "├───────────────────────┼────────────┼──────────────┼────────────┤\n",
            "│ perplexity            │ 31953.3125 │   31927.9395 │ 31929.7363 │\n",
            "├───────────────────────┼────────────┼──────────────┼────────────┤\n",
            "│ rouge1_fmeasure       │     0.2864 │       0.2179 │     0.2358 │\n",
            "├───────────────────────┼────────────┼──────────────┼────────────┤\n",
            "│ rouge1_precision      │     0.1760 │       0.1340 │     0.1464 │\n",
            "├───────────────────────┼────────────┼──────────────┼────────────┤\n",
            "│ rouge1_recall         │     0.8592 │       0.6899 │     0.6978 │\n",
            "├───────────────────────┼────────────┼──────────────┼────────────┤\n",
            "│ rouge2_fmeasure       │     0.1936 │       0.1049 │     0.1122 │\n",
            "├───────────────────────┼────────────┼──────────────┼────────────┤\n",
            "│ rouge2_precision      │     0.1185 │       0.0640 │     0.0695 │\n",
            "├───────────────────────┼────────────┼──────────────┼────────────┤\n",
            "│ rouge2_recall         │     0.5926 │       0.3431 │     0.3388 │\n",
            "├───────────────────────┼────────────┼──────────────┼────────────┤\n",
            "│ rougeL_fmeasure       │     0.2603 │       0.1869 │     0.1988 │\n",
            "├───────────────────────┼────────────┼──────────────┼────────────┤\n",
            "│ rougeL_precision      │     0.1601 │       0.1151 │     0.1236 │\n",
            "├───────────────────────┼────────────┼──────────────┼────────────┤\n",
            "│ rougeL_recall         │     0.7786 │       0.5899 │     0.5876 │\n",
            "├───────────────────────┼────────────┼──────────────┼────────────┤\n",
            "│ rougeLsum_fmeasure    │     0.2814 │       0.2121 │     0.2282 │\n",
            "├───────────────────────┼────────────┼──────────────┼────────────┤\n",
            "│ rougeLsum_precision   │     0.1729 │       0.1304 │     0.1417 │\n",
            "├───────────────────────┼────────────┼──────────────┼────────────┤\n",
            "│ rougeLsum_recall      │     0.8446 │       0.6725 │     0.6764 │\n",
            "├───────────────────────┼────────────┼──────────────┼────────────┤\n",
            "│ sequence_accuracy     │     0.0000 │       0.0000 │     0.0000 │\n",
            "├───────────────────────┼────────────┼──────────────┼────────────┤\n",
            "│ token_accuracy        │     0.0000 │       0.0000 │     0.0001 │\n",
            "├───────────────────────┼────────────┼──────────────┼────────────┤\n",
            "│ word_error_rate       │     5.0066 │       5.4553 │     4.8826 │\n",
            "├───────────────────────┼────────────┼──────────────┼────────────┤\n",
            "│ combined_loss         │     0.6412 │       1.5285 │     1.5482 │\n",
            "╘═══════════════════════╧════════════╧══════════════╧════════════╛\n",
            "INFO:ludwig.trainers.trainer:Last improvement of summary validation loss happened 1400 step(s) ago.\n",
            "\n"
          ]
        },
        {
          "name": "stdout",
          "output_type": "stream",
          "text": [
            "\n",
            "Training: 100%|██████████| 3500/3500 [1:24:19<00:00,  1.45s/it, loss=0.0155]"
          ]
        },
        {
          "name": "stderr",
          "output_type": "stream",
          "text": [
            "INFO:ludwig.utils.print_utils:\n",
            "INFO:ludwig.utils.print_utils:╒═════════════════╕\n",
            "INFO:ludwig.utils.print_utils:│ TRAINING REPORT │\n",
            "INFO:ludwig.utils.print_utils:╘═════════════════╛\n",
            "INFO:ludwig.utils.print_utils:\n",
            "INFO:ludwig.api:╒══════════════════════════════╤════════════════════╕\n",
            "│ Validation feature           │ summary            │\n",
            "├──────────────────────────────┼────────────────────┤\n",
            "│ Validation metric            │ loss               │\n",
            "├──────────────────────────────┼────────────────────┤\n",
            "│ Best model step              │ 2100               │\n",
            "├──────────────────────────────┼────────────────────┤\n",
            "│ Best model epoch             │ 4                  │\n",
            "├──────────────────────────────┼────────────────────┤\n",
            "│ Best model's validation loss │ 1.43772292137146   │\n",
            "├──────────────────────────────┼────────────────────┤\n",
            "│ Best model's test loss       │ 1.4450316429138184 │\n",
            "╘══════════════════════════════╧════════════════════╛\n",
            "INFO:ludwig.api:\n",
            "Finished: api_experiment_run\n",
            "INFO:ludwig.api:Saved to: /content/results/api_experiment_run\n"
          ]
        },
        {
          "name": "stdout",
          "output_type": "stream",
          "text": [
            "\n"
          ]
        },
        {
          "name": "stderr",
          "output_type": "stream",
          "text": [
            "\rUnloading and merging model:   0%|          | 0/454 [00:00<?, ?it/s]/usr/local/lib/python3.10/dist-packages/peft/tuners/lora/bnb.py:68: UserWarning: Merge lora module to 8-bit linear may get different generations due to rounding errors.\n",
            "  warnings.warn(\n",
            "Unloading and merging model: 100%|██████████| 454/454 [00:06<00:00, 69.27it/s]\n",
            "INFO:ludwig.utils.print_utils:\n",
            "INFO:ludwig.utils.print_utils:╒══════════╕\n",
            "INFO:ludwig.utils.print_utils:│ FINISHED │\n",
            "INFO:ludwig.utils.print_utils:╘══════════╛\n",
            "INFO:ludwig.utils.print_utils:\n"
          ]
        }
      ],
      "source": [
        "results: TrainingResults = model.train(dataset=df_dataset)"
      ]
    },
    {
      "cell_type": "code",
      "execution_count": null,
      "metadata": {
        "id": "WwRANm-rPZaL"
      },
      "outputs": [],
      "source": []
    },
    {
      "cell_type": "code",
      "execution_count": null,
      "metadata": {
        "id": "D2Clph9V9AXg"
      },
      "outputs": [],
      "source": []
    },
    {
      "cell_type": "code",
      "execution_count": null,
      "metadata": {
        "id": "jNCW85tmT2Qw"
      },
      "outputs": [],
      "source": []
    },
    {
      "cell_type": "markdown",
      "metadata": {
        "id": "1YkjcqMFMkwT"
      },
      "source": [
        "#### Perform Inference\n",
        "\n",
        "We can now use the model we finetuned above to make predictions on some test examples to see whether finetuning the large language model improve its ability to follow instructions/the tasks we're asking it to perform."
      ]
    },
    {
      "cell_type": "code",
      "execution_count": null,
      "metadata": {
        "colab": {
          "base_uri": "https://localhost:8080/",
          "height": 1000
        },
        "id": "5sQXLxvoMuIq",
        "outputId": "0aa137f6-599b-46ea-ea75-fa286c0823a6"
      },
      "outputs": [
        {
          "data": {
            "text/html": [
              "\n",
              "  <style>\n",
              "    pre {\n",
              "        white-space: pre-wrap;\n",
              "    }\n",
              "  </style>\n",
              "  "
            ],
            "text/plain": [
              "<IPython.core.display.HTML object>"
            ]
          },
          "metadata": {},
          "output_type": "display_data"
        },
        {
          "name": "stderr",
          "output_type": "stream",
          "text": [
            "WARNING:ludwig.data.preprocessing:Specified split column split for fixed split strategy was not found in dataset.\n",
            "Special tokens have been added in the vocabulary, make sure the associated word embeddings are fine-tuned or trained.\n",
            "INFO:ludwig.utils.tokenizers:Loaded HuggingFace implementation of alexsherstinsky/Mistral-7B-v0.1-sharded tokenizer\n",
            "Special tokens have been added in the vocabulary, make sure the associated word embeddings are fine-tuned or trained.\n",
            "WARNING:ludwig.utils.tokenizers:No padding token id found. Using eos_token as pad_token.\n",
            "Asking to truncate to max_length but no maximum length is provided and the model has no predefined maximum length. Default to no truncation.\n",
            "/usr/local/lib/python3.10/dist-packages/ludwig/data/preprocessing.py:1315: UserWarning: column: 'split' is required by the dataset splitter with params: {'type': 'fixed', 'column': 'split'}, but 'split' is not present in the `dataset_df` with columns: Index(['id', 'dialogue', 'summary'], dtype='object'). This is acceptable during serving setting where dataset splitting is irrelevant. You may see this warning if, for example, the model was trained with a configuration that used a stratified split on the target column, but for live predictions, a value for the target column is not to be provided.\n",
            "  warnings.warn(\n"
          ]
        },
        {
          "name": "stdout",
          "output_type": "stream",
          "text": [
            "\rPrediction:   0%|          | 0/1 [00:00<?, ?it/s]"
          ]
        },
        {
          "name": "stderr",
          "output_type": "stream",
          "text": [
            "INFO:ludwig.models.llm:For generating text, using: GenerationConfig {\n",
            "  \"do_sample\": true,\n",
            "  \"max_length\": 32,\n",
            "  \"max_new_tokens\": 512,\n",
            "  \"pad_token_id\": 2,\n",
            "  \"temperature\": 0.1\n",
            "}\n",
            "\n",
            "INFO:ludwig.models.llm:Decoded text inputs for the first example in batch: summarize this dialog:\n",
            "### dialogue: adriana: sorry, i guess i can't make it. i'm feeling sick again.\n",
            "adriana: i planned so many things for today...\n",
            "adriana: hate it.\n",
            "elisa: what a pity...\n",
            "elisa: next time!\n",
            "elisa: hope you'll get better soon!\n",
            "adriana: hope so too.\n",
            "adriana: how was at the pool?\n",
            "elisa: the best ❤️\n",
            "elisa: 1 hour of swimming and 1 hour of sauna\n",
            "elisa: love it!\n",
            "adriana:❤️\n",
            "adriana: i'm such a bad swimmer that you couldn't stand me xd\n",
            "elisa: ahahaha\n",
            "elisa: there was such a girl today, soooo annoying 😂\n",
            "adriana: just like me 😂😂😂\n",
            "### synopsis:\n",
            "/usr/local/lib/python3.10/dist-packages/bitsandbytes/autograd/_functions.py:322: UserWarning: MatMul8bitLt: inputs will be cast from torch.float32 to float16 during quantization\n",
            "  warnings.warn(f\"MatMul8bitLt: inputs will be cast from {A.dtype} to float16 during quantization\")\n",
            "INFO:ludwig.models.llm:Decoded generated output for the first example in batch: summarize this dialog:\n",
            "### dialogue: adriana: sorry, i guess i can't make it. i'm feeling sick again.\n",
            "adriana: i planned so many things for today...\n",
            "adriana: hate it.\n",
            "elisa: what a pity...\n",
            "elisa: next time!\n",
            "elisa: hope you'll get better soon!\n",
            "adriana: hope so too.\n",
            "adriana: how was at the pool?\n",
            "elisa: the best ❤️\n",
            "elisa: 1 hour of swimming and 1 hour of sauna\n",
            "elisa: love it!\n",
            "adriana:❤️\n",
            "adriana: i'm such a bad swimmer that you couldn't stand me xd\n",
            "elisa: ahahaha\n",
            "elisa: there was such a girl today, soooo annoying 😂\n",
            "adriana: just like me 😂😂😂\n",
            "### synopsis: adriana is feeling sick again. she can't make it today. elisa went to the pool and sauna.\n",
            "INFO:ludwig.models.llm:Decoded text inputs for the first example in batch: summarize this dialog:\n",
            "### dialogue: claire: have you seen the news?\n",
            "greg: no. what’s happened?\n",
            "claire: that bitch my neighbor became an mp 🤮\n",
            "kevin: ooo, well done! you must be so jealous 🤣\n",
            "claire: stop it. i hate her so much. she killed my cat 🙈\n",
            "greg: whaaaaat???\n",
            "claire: really. it was 5 years ago. she hit it with a car.\n",
            "greg: okay. i understand 😒\n",
            "### synopsis:\n",
            "INFO:ludwig.models.llm:Decoded generated output for the first example in batch: summarize this dialog:\n",
            "### dialogue: claire: have you seen the news?\n",
            "greg: no. what’s happened?\n",
            "claire: that bitch my neighbor became an mp 🤮\n",
            "kevin: ooo, well done! you must be so jealous 🤣\n",
            "claire: stop it. i hate her so much. she killed my cat 🙈\n",
            "greg: whaaaaat???\n",
            "claire: really. it was 5 years ago. she hit it with a car.\n",
            "greg: okay. i understand 😒\n",
            "### synopsis: claire's neighbour became an mp. she killed claire's cat 5 years ago.\n",
            "INFO:ludwig.models.llm:Decoded text inputs for the first example in batch: summarize this dialog:\n",
            "### dialogue: josh: you're a nutter!!!\n",
            "josh: i could never do things like that\n",
            "paul: wouldn't you ever do the bungee jumping or skydiving? c'mon that's not so scary :)\n",
            "josh: hahahah\n",
            "josh: nope, i wouldn't do that :)\n",
            "paul: the next time you're coming with me!\n",
            "josh: no way, mate\n",
            "### synopsis:\n",
            "INFO:ludwig.models.llm:Decoded generated output for the first example in batch: summarize this dialog:\n",
            "### dialogue: josh: you're a nutter!!!\n",
            "josh: i could never do things like that\n",
            "paul: wouldn't you ever do the bungee jumping or skydiving? c'mon that's not so scary :)\n",
            "josh: hahahah\n",
            "josh: nope, i wouldn't do that :)\n",
            "paul: the next time you're coming with me!\n",
            "josh: no way, mate\n",
            "### synopsis: josh won't do bungee jumping or skydiving.\n",
            "INFO:ludwig.models.llm:Decoded text inputs for the first example in batch: summarize this dialog:\n",
            "### dialogue: marcel: hey\n",
            "rodolfo: hello\n",
            "marcel: what's up?\n",
            "rodolfo: nothing just got back to the house\n",
            "marcel: i had an exam today and i  think i will get a great grade\n",
            "rodolfo: good for you. mine was pretty hard. not what i was expecting. but i should pass it\n",
            "marcel: oh yeah now i remember you had an exam. let me know if u have results\n",
            "rodolfo: how nice nice of you to remember now\n",
            "marcel: haha i can't believe. i saw when one car hit another one. they were one behind another. it wasn't so much but still it was. the drivers went out, spoke  maybe 15 seconds , smiled and came back to their cars hahha and that's all\n",
            "rodolfo: i will only know in like 3 weeks\n",
            "marcel: oh long time\n",
            "rodolfo: yea rather long\n",
            "marcel: hopefully it will be fine\n",
            "### synopsis:\n",
            "INFO:ludwig.models.llm:Decoded generated output for the first example in batch: summarize this dialog:\n",
            "### dialogue: marcel: hey\n",
            "rodolfo: hello\n",
            "marcel: what's up?\n",
            "rodolfo: nothing just got back to the house\n",
            "marcel: i had an exam today and i  think i will get a great grade\n",
            "rodolfo: good for you. mine was pretty hard. not what i was expecting. but i should pass it\n",
            "marcel: oh yeah now i remember you had an exam. let me know if u have results\n",
            "rodolfo: how nice nice of you to remember now\n",
            "marcel: haha i can't believe. i saw when one car hit another one. they were one behind another. it wasn't so much but still it was. the drivers went out, spoke  maybe 15 seconds , smiled and came back to their cars hahha and that's all\n",
            "rodolfo: i will only know in like 3 weeks\n",
            "marcel: oh long time\n",
            "rodolfo: yea rather long\n",
            "marcel: hopefully it will be fine\n",
            "### synopsis: marcel had an exam today and thinks he will get a great grade. rodolfo had an exam too, but it was hard. rodolfo will know the results in 3 weeks.\n",
            "INFO:ludwig.models.llm:Decoded text inputs for the first example in batch: summarize this dialog:\n",
            "### dialogue: don: do you see me online?\n",
            "alfred: nope\n",
            "don: ok, something's wrong, i'll have to check my settings\n",
            "alfred: ok\n",
            "### synopsis:\n",
            "INFO:ludwig.models.llm:Decoded generated output for the first example in batch: summarize this dialog:\n",
            "### dialogue: don: do you see me online?\n",
            "alfred: nope\n",
            "don: ok, something's wrong, i'll have to check my settings\n",
            "alfred: ok\n",
            "### synopsis: don is not online.\n",
            "INFO:ludwig.models.llm:Decoded text inputs for the first example in batch: summarize this dialog:\n",
            "### dialogue: travis: hi, are you there?\n",
            "lana: hi travis, good to hear from you after holiday.\n",
            "travis: yeah, long time\n",
            "lana: so how was it? greece, right?\n",
            "travis: yep, pure magic. 10 day there and 4 days in albania\n",
            "lana: wow, albania. never been there.\n",
            "travis: kind of wild place, still. but i liked greece better\n",
            "lana: you stayed in one place?\n",
            "travis: no, moved around. we saw almost everything there was to see\n",
            "lana: sounds exciting. \n",
            "travis: take a look. <file_photo>\n",
            "lana: wow, breathtaking. i guess you'll show us more when we meet in the office\n",
            "travis: sure thing. but i'm not back till monday\n",
            "lana: i see. two more days of freedom.\n",
            "travis: precisely. how are things there anyway\n",
            "lana: same old, same old.\n",
            "travis: been worse?\n",
            "lana: i guess it's just this time of the year when not much happens. \n",
            "travis: have you planned your holiday yet?\n",
            "lana: not really. i guess i'll just find something last minute in september.\n",
            "travis: greece perhaps\n",
            "lana: i'll decide when i see the photos ha ha ha. see you around. gotta go.\n",
            "travis: sure. see you on monday\n",
            "### synopsis:\n",
            "INFO:ludwig.models.llm:Decoded generated output for the first example in batch: summarize this dialog:\n",
            "### dialogue: travis: hi, are you there?\n",
            "lana: hi travis, good to hear from you after holiday.\n",
            "travis: yeah, long time\n",
            "lana: so how was it? greece, right?\n",
            "travis: yep, pure magic. 10 day there and 4 days in albania\n",
            "lana: wow, albania. never been there.\n",
            "travis: kind of wild place, still. but i liked greece better\n",
            "lana: you stayed in one place?\n",
            "travis: no, moved around. we saw almost everything there was to see\n",
            "lana: sounds exciting. \n",
            "travis: take a look. <file_photo>\n",
            "lana: wow, breathtaking. i guess you'll show us more when we meet in the office\n",
            "travis: sure thing. but i'm not back till monday\n",
            "lana: i see. two more days of freedom.\n",
            "travis: precisely. how are things there anyway\n",
            "lana: same old, same old.\n",
            "travis: been worse?\n",
            "lana: i guess it's just this time of the year when not much happens. \n",
            "travis: have you planned your holiday yet?\n",
            "lana: not really. i guess i'll just find something last minute in september.\n",
            "travis: greece perhaps\n",
            "lana: i'll decide when i see the photos ha ha ha. see you around. gotta go.\n",
            "travis: sure. see you on monday\n",
            "### synopsis: travis has just come back from a 14-day holiday in greece and albania. he will show lana the photos on monday.\n",
            "INFO:ludwig.models.llm:Decoded text inputs for the first example in batch: summarize this dialog:\n",
            "### dialogue: alex: hey, i'm writing about the book :)\n",
            "elizabeth: heey, thanks for the message, i'm packing it to my bag right now.\n",
            "alex: thank you so much...you don't even know grateful i am\n",
            "elizabeth: no problem, really. if i can help you in any other way just ask.\n",
            "alex: actually i have a few questions for you if you don't mind\n",
            "elizabeth: sure, what is it?\n",
            "alex: i'm starting with the senior group next week and i'm so stressed out cause i never taught the adults...could you give me any clues how to prepare, what to do and so on?\n",
            "elizabeth: of course. first thing - relax, cause stress is destructive. i remember my first classes with the adults and i couldn't even breath, but the point is to devise you own work schedule, and in order to do it right you just gotta observe them. their knowledge, their needs and so on.\n",
            "alex: i get it...and how does your lesson usually look like?\n",
            "elizabeth: it depends, you know. but for most of the time i'm just trying to stick to my fixed plan. at the beginning checking the attendance, asking them to give me the date in the foreing language so i can put it down in the register. then a short conversation.\n",
            "alex: and what after that?\n",
            "elizabeth: then i usually start a new chapter, the vocabulary, sometimes grammar, a few exercices and then work in groups. i don't want them to do the exercices only, cause it's too automatic.\n",
            "alex: sounds really cool...you are so experienced...i wish i was too :/\n",
            "elizabeth: calm down, you'll just learn everything with practice. if you don't want to make your lessons too formal, you can look for some games. i recommend kaboom.\n",
            "alex: kaboom? i don't know this game\n",
            "elizabeth: you just write the words on little pieces of paper, for example names of fruit or vegetables and put it all in a little bag. every person takes out a single piece of paper and has to translate a word written on it. if they spot the answer, they keep it, if they don't, the card goes back to the bag.\n",
            "alex: sounds really cool! i'm sure i'll try it. thank you so much for your help!!\n",
            "elizabeth: no problem, any time.\n",
            "### synopsis:\n",
            "INFO:ludwig.models.llm:Decoded generated output for the first example in batch: summarize this dialog:\n",
            "### dialogue: alex: hey, i'm writing about the book :)\n",
            "elizabeth: heey, thanks for the message, i'm packing it to my bag right now.\n",
            "alex: thank you so much...you don't even know grateful i am\n",
            "elizabeth: no problem, really. if i can help you in any other way just ask.\n",
            "alex: actually i have a few questions for you if you don't mind\n",
            "elizabeth: sure, what is it?\n",
            "alex: i'm starting with the senior group next week and i'm so stressed out cause i never taught the adults...could you give me any clues how to prepare, what to do and so on?\n",
            "elizabeth: of course. first thing - relax, cause stress is destructive. i remember my first classes with the adults and i couldn't even breath, but the point is to devise you own work schedule, and in order to do it right you just gotta observe them. their knowledge, their needs and so on.\n",
            "alex: i get it...and how does your lesson usually look like?\n",
            "elizabeth: it depends, you know. but for most of the time i'm just trying to stick to my fixed plan. at the beginning checking the attendance, asking them to give me the date in the foreing language so i can put it down in the register. then a short conversation.\n",
            "alex: and what after that?\n",
            "elizabeth: then i usually start a new chapter, the vocabulary, sometimes grammar, a few exercices and then work in groups. i don't want them to do the exercices only, cause it's too automatic.\n",
            "alex: sounds really cool...you are so experienced...i wish i was too :/\n",
            "elizabeth: calm down, you'll just learn everything with practice. if you don't want to make your lessons too formal, you can look for some games. i recommend kaboom.\n",
            "alex: kaboom? i don't know this game\n",
            "elizabeth: you just write the words on little pieces of paper, for example names of fruit or vegetables and put it all in a little bag. every person takes out a single piece of paper and has to translate a word written on it. if they spot the answer, they keep it, if they don't, the card goes back to the bag.\n",
            "alex: sounds really cool! i'm sure i'll try it. thank you so much for your help!!\n",
            "elizabeth: no problem, any time.\n",
            "### synopsis: alex is starting to teach adults next week. elizabeth gives him some advice.\n",
            "INFO:ludwig.models.llm:Decoded text inputs for the first example in batch: summarize this dialog:\n",
            "### dialogue: karen: hi john, it's me, lost my phone\n",
            "karen: on my way home, don't worry. text me if you've got this. i'll have this phone only for couple of minutes.\n",
            "john: got it, go back home safely.\n",
            "### synopsis:\n",
            "INFO:ludwig.models.llm:Decoded generated output for the first example in batch: summarize this dialog:\n",
            "### dialogue: karen: hi john, it's me, lost my phone\n",
            "karen: on my way home, don't worry. text me if you've got this. i'll have this phone only for couple of minutes.\n",
            "john: got it, go back home safely.\n",
            "### synopsis: karen lost her phone. john will text her when he gets her phone.\n",
            "INFO:ludwig.models.llm:Decoded text inputs for the first example in batch: summarize this dialog:\n",
            "### dialogue: claire: there is a letter for tracy from the tax office\n",
            "tracy: thanks mum. can you open it?\n",
            "natalie: it's probably regarding tax return \n",
            "natalie: i got mine last week\n",
            "tracy: open and send me a photo\n",
            "tracy: better priv 🤑\n",
            "claire: no problem \n",
            "### synopsis:\n",
            "INFO:ludwig.models.llm:Decoded generated output for the first example in batch: summarize this dialog:\n",
            "### dialogue: claire: there is a letter for tracy from the tax office\n",
            "tracy: thanks mum. can you open it?\n",
            "natalie: it's probably regarding tax return \n",
            "natalie: i got mine last week\n",
            "tracy: open and send me a photo\n",
            "tracy: better priv 🤑\n",
            "claire: no problem \n",
            "### synopsis: claire has a letter from the tax office for tracy.\n",
            "INFO:ludwig.models.llm:Decoded text inputs for the first example in batch: summarize this dialog:\n",
            "### dialogue: donald: are you playing poker tonight? it's at dave's house\n",
            "steve: yeah i was planning to. do we need to bring whiskey?\n",
            "donald: i've got some, no worries.\n",
            "steve: ok see you\n",
            "### synopsis:\n",
            "INFO:ludwig.models.llm:Decoded generated output for the first example in batch: summarize this dialog:\n",
            "### dialogue: donald: are you playing poker tonight? it's at dave's house\n",
            "steve: yeah i was planning to. do we need to bring whiskey?\n",
            "donald: i've got some, no worries.\n",
            "steve: ok see you\n",
            "### synopsis: steve and donald are playing poker tonight at dave's house. donald has some whiskey.\n"
          ]
        },
        {
          "name": "stdout",
          "output_type": "stream",
          "text": [
            "Prediction: 100%|██████████| 1/1 [01:06<00:00, 66.66s/it]\n"
          ]
        },
        {
          "name": "stderr",
          "output_type": "stream",
          "text": [
            "Special tokens have been added in the vocabulary, make sure the associated word embeddings are fine-tuned or trained.\n",
            "INFO:ludwig.utils.tokenizers:Loaded HuggingFace implementation of alexsherstinsky/Mistral-7B-v0.1-sharded tokenizer\n",
            "Special tokens have been added in the vocabulary, make sure the associated word embeddings are fine-tuned or trained.\n",
            "WARNING:ludwig.utils.tokenizers:No padding token id found. Using eos_token as pad_token.\n",
            "/usr/local/lib/python3.10/dist-packages/ludwig/features/feature_utils.py:102: RuntimeWarning: divide by zero encountered in log\n",
            "  return np.sum(np.log(sequence_probabilities))\n"
          ]
        }
      ],
      "source": [
        "predictions_and_probabilities: tuple[pd.DataFrame, pd.DataFrame] = model.predict(df_evaluation)"
      ]
    },
    {
      "cell_type": "code",
      "execution_count": null,
      "metadata": {
        "colab": {
          "base_uri": "https://localhost:8080/",
          "height": 17
        },
        "id": "d9Ri3EUzM6D4",
        "outputId": "8fc3c2c3-4141-4bb6-ded0-057fe61b18ec"
      },
      "outputs": [
        {
          "data": {
            "text/html": [
              "\n",
              "  <style>\n",
              "    pre {\n",
              "        white-space: pre-wrap;\n",
              "    }\n",
              "  </style>\n",
              "  "
            ],
            "text/plain": [
              "<IPython.core.display.HTML object>"
            ]
          },
          "metadata": {},
          "output_type": "display_data"
        }
      ],
      "source": [
        "df_predictions: pd.DataFrame = predictions_and_probabilities[0]"
      ]
    },
    {
      "cell_type": "code",
      "execution_count": null,
      "metadata": {
        "colab": {
          "base_uri": "https://localhost:8080/",
          "height": 71
        },
        "id": "uaBlVTVRNElt",
        "outputId": "23205e10-c793-40f1-fb37-210d01772761"
      },
      "outputs": [
        {
          "data": {
            "text/html": [
              "\n",
              "  <style>\n",
              "    pre {\n",
              "        white-space: pre-wrap;\n",
              "    }\n",
              "  </style>\n",
              "  "
            ],
            "text/plain": [
              "<IPython.core.display.HTML object>"
            ]
          },
          "metadata": {},
          "output_type": "display_data"
        },
        {
          "data": {
            "text/plain": [
              "Index(['summary_predictions', 'summary_probabilities', 'summary_response',\n",
              "       'summary_probability'],\n",
              "      dtype='object')"
            ]
          },
          "execution_count": 56,
          "metadata": {},
          "output_type": "execute_result"
        }
      ],
      "source": [
        "df_predictions.columns"
      ]
    },
    {
      "cell_type": "code",
      "execution_count": null,
      "metadata": {
        "colab": {
          "base_uri": "https://localhost:8080/",
          "height": 1000
        },
        "id": "0dqwZyHLrkRb",
        "outputId": "b94e333c-4860-4980-ff42-efb54c00e362"
      },
      "outputs": [
        {
          "data": {
            "text/html": [
              "\n",
              "  <style>\n",
              "    pre {\n",
              "        white-space: pre-wrap;\n",
              "    }\n",
              "  </style>\n",
              "  "
            ],
            "text/plain": [
              "<IPython.core.display.HTML object>"
            ]
          },
          "metadata": {},
          "output_type": "display_data"
        },
        {
          "name": "stdout",
          "output_type": "stream",
          "text": [
            "\n",
            "\n",
            "\n",
            "Dialogue:\n",
            "Adriana: Sorry, I guess I can't make it. I'm feeling sick again.\r\n",
            "Adriana: I planned so many things for today...\r\n",
            "Adriana: Hate it.\r\n",
            "Elisa: What a pity...\r\n",
            "Elisa: Next time!\r\n",
            "Elisa: Hope you'll get better soon!\r\n",
            "Adriana: Hope so too.\r\n",
            "Adriana: How was at the pool?\r\n",
            "Elisa: The best ❤️\r\n",
            "Elisa: 1 hour of swimming and 1 hour of sauna\r\n",
            "Elisa: Love it!\r\n",
            "Adriana:❤️\r\n",
            "Adriana: I'm such a bad swimmer that you couldn't stand me xD\r\n",
            "Elisa: Ahahaha\r\n",
            "Elisa: There was such a girl today, soooo annoying 😂\r\n",
            "Adriana: Just like me 😂😂😂\n",
            "Generated Summary:\n",
            "adriana is feeling sick again. she can't make it today. elisa went to the pool and sauna.\n",
            "\n",
            "\n",
            "\n",
            "Dialogue:\n",
            "Claire: Have you seen the news?\r\n",
            "Greg: No. What’s happened?\r\n",
            "Claire: That bitch my neighbor became an MP 🤮\r\n",
            "Kevin: Ooo, well done! You must be so jealous 🤣\r\n",
            "Claire: Stop it. I hate her so much. She killed my cat 🙈\r\n",
            "Greg: Whaaaaat???\r\n",
            "Claire: Really. It was 5 years ago. She hit it with a car.\r\n",
            "Greg: Okay. I understand 😒\n",
            "Generated Summary:\n",
            "claire's neighbour became an mp. she killed claire's cat 5 years ago.\n",
            "\n",
            "\n",
            "\n",
            "Dialogue:\n",
            "Josh: You're a nutter!!!\n",
            "Josh: I could never do things like that\n",
            "Paul: Wouldn't you ever do the bungee jumping or skydiving? C'mon that's not so scary :)\n",
            "Josh: hahahah\n",
            "Josh: Nope, I wouldn't do that :)\n",
            "Paul: The next time you're coming with me!\n",
            "Josh: No way, mate\n",
            "Generated Summary:\n",
            "josh won't do bungee jumping or skydiving.\n",
            "\n",
            "\n",
            "\n",
            "Dialogue:\n",
            "Marcel: Hey\r\n",
            "Rodolfo: Hello\r\n",
            "Marcel: What's up?\r\n",
            "Rodolfo: Nothing just got back to the house\r\n",
            "Marcel: I had an exam today and I  think I will get a great grade\r\n",
            "Rodolfo: Good for you. Mine was pretty hard. Not what I was expecting. But I should pass it\r\n",
            "Marcel: Oh yeah now I remember you had an exam. Let me know if u have results\r\n",
            "Rodolfo: How nice nice of you to remember now\r\n",
            "Marcel: Haha i can't believe. I saw when one car hit another one. They were one behind another. It wasn't so much but still it was. The drivers went out, spoke  maybe 15 seconds , smiled and came back to their cars hahha and that's all\r\n",
            "Rodolfo: I will only know in like 3 weeks\r\n",
            "Marcel: Oh long time\r\n",
            "Rodolfo: Yea rather long\r\n",
            "Marcel: Hopefully it will be fine\n",
            "Generated Summary:\n",
            "marcel had an exam today and thinks he will get a great grade. rodolfo had an exam too, but it was hard. rodolfo will know the results in 3 weeks.\n",
            "\n",
            "\n",
            "\n",
            "Dialogue:\n",
            "Don: Do you see me online?\n",
            "Alfred: Nope\n",
            "Don: Ok, something's wrong, I'll have to check my settings\n",
            "Alfred: Ok\n",
            "Generated Summary:\n",
            "don is not online.\n",
            "\n",
            "\n",
            "\n",
            "Dialogue:\n",
            "Travis: Hi, are you there?\r\n",
            "Lana: Hi Travis, good to hear from you after holiday.\r\n",
            "Travis: Yeah, long time\r\n",
            "Lana: So how was it? Greece, right?\r\n",
            "Travis: Yep, pure magic. 10 day there and 4 days in Albania\r\n",
            "Lana: Wow, Albania. Never been there.\r\n",
            "Travis: Kind of wild place, still. But I liked Greece better\r\n",
            "Lana: You stayed in one place?\r\n",
            "Travis: No, moved around. We saw almost everything there was to see\r\n",
            "Lana: Sounds exciting. \r\n",
            "Travis: Take a look. <file_photo>\r\n",
            "Lana: Wow, breathtaking. I guess you'll show us more when we meet in the office\r\n",
            "Travis: Sure thing. But I'm not back till Monday\r\n",
            "Lana: I see. Two more days of freedom.\r\n",
            "Travis: Precisely. How are things there anyway\r\n",
            "Lana: Same old, same old.\r\n",
            "Travis: Been worse?\r\n",
            "Lana: I guess it's just this time of the year when not much happens. \r\n",
            "Travis: Have you planned your holiday yet?\r\n",
            "Lana: Not really. I guess I'll just find something last minute in September.\r\n",
            "Travis: Greece perhaps\r\n",
            "Lana: I'll decide when I see the photos ha ha ha. See you around. Gotta go.\r\n",
            "Travis: Sure. See you on Monday\n",
            "Generated Summary:\n",
            "travis has just come back from a 14-day holiday in greece and albania. he will show lana the photos on monday.\n",
            "\n",
            "\n",
            "\n",
            "Dialogue:\n",
            "Alex: hey, I'm writing about the book :)\r\n",
            "Elizabeth: heey, thanks for the message, I'm packing it to my bag right now.\r\n",
            "Alex: thank you so much...you don't even know grateful I am\r\n",
            "Elizabeth: No problem, really. If I can help you in any other way just ask.\r\n",
            "Alex: Actually I have a few questions for you if you don't mind\r\n",
            "Elizabeth: Sure, what is it?\r\n",
            "Alex: I'm starting with the senior group next week and I'm so stressed out cause I never taught the adults...could you give me any clues how to prepare, what to do and so on?\r\n",
            "Elizabeth: Of course. First thing - relax, cause stress is destructive. I remember my first classes with the adults and I couldn't even breath, but the point is to devise you own work schedule, and in order to do it right you just gotta observe them. their knowledge, their needs and so on.\r\n",
            "Alex: I get it...and how does your lesson usually look like?\r\n",
            "Elizabeth: It depends, you know. But for most of the time I'm just trying to stick to my fixed plan. At the beginning checking the attendance, asking them to give me the date in the foreing language so I can put it down in the register. Then a short conversation.\r\n",
            "Alex: and what after that?\r\n",
            "Elizabeth: Then I usually start a new chapter, the vocabulary, sometimes grammar, a few exercices and then work in groups. I don't want them to do the exercices only, cause it's too automatic.\r\n",
            "Alex: sounds really cool...you are so experienced...I wish I was too :/\r\n",
            "Elizabeth: calm down, you'll just learn everything with practice. If you don't want to make your lessons too formal, you can look for some games. I recommend Kaboom.\r\n",
            "Alex: Kaboom? I don't know this game\r\n",
            "Elizabeth: you just write the words on little pieces of paper, for example names of fruit or vegetables and put it all in a little bag. Every person takes out a single piece of paper and has to translate a word written on it. If they spot the answer, they keep it, if they don't, the card goes back to the bag.\r\n",
            "Alex: Sounds really cool! I'm sure I'll try it. Thank you so much for your help!!\r\n",
            "Elizabeth: No problem, any time.\n",
            "Generated Summary:\n",
            "alex is starting to teach adults next week. elizabeth gives him some advice.\n",
            "\n",
            "\n",
            "\n",
            "Dialogue:\n",
            "Karen: Hi John, it's me, lost my phone\r\n",
            "Karen: On my way home, don't worry. Text me if you've got this. I'll have this phone only for couple of minutes.\r\n",
            "John: Got it, go back home safely.\n",
            "Generated Summary:\n",
            "karen lost her phone. john will text her when he gets her phone.\n",
            "\n",
            "\n",
            "\n",
            "Dialogue:\n",
            "Claire: There is a letter for Tracy from the tax office\r\n",
            "Tracy: Thanks mum. Can you open it?\r\n",
            "Natalie: It's probably regarding tax return \r\n",
            "Natalie: I got mine last week\r\n",
            "Tracy: Open and send me a photo\r\n",
            "Tracy: Better priv 🤑\r\n",
            "Claire: No problem \n",
            "Generated Summary:\n",
            "claire has a letter from the tax office for tracy.\n",
            "\n",
            "\n",
            "\n",
            "Dialogue:\n",
            "Donald: Are you playing poker tonight? It's at Dave's house\r\n",
            "Steve: Yeah I was planning to. Do we need to bring whiskey?\r\n",
            "Donald: I've got some, no worries.\r\n",
            "Steve: Ok see you\n",
            "Generated Summary:\n",
            "steve and donald are playing poker tonight at dave's house. donald has some whiskey.\n",
            "\n",
            "\n",
            "\n"
          ]
        }
      ],
      "source": [
        "print(\"\\n\\n\")\n",
        "for dialogue_with_summary in zip(df_evaluation['dialogue'], df_predictions['summary_response']):\n",
        "  print(f\"Dialogue:\\n{dialogue_with_summary[0]}\")\n",
        "  print(f\"Generated Summary:\\n{dialogue_with_summary[1][0]}\")\n",
        "  print(\"\\n\\n\")"
      ]
    },
    {
      "cell_type": "code",
      "execution_count": null,
      "metadata": {
        "colab": {
          "base_uri": "https://localhost:8080/",
          "height": 209
        },
        "id": "vLP6o23ggNFi",
        "outputId": "1943804a-9eac-41fd-ab9c-53320649e00d"
      },
      "outputs": [
        {
          "data": {
            "text/html": [
              "\n",
              "  <style>\n",
              "    pre {\n",
              "        white-space: pre-wrap;\n",
              "    }\n",
              "  </style>\n",
              "  "
            ],
            "text/plain": [
              "<IPython.core.display.HTML object>"
            ]
          },
          "metadata": {},
          "output_type": "display_data"
        },
        {
          "data": {
            "application/vnd.google.colaboratory.module+javascript": "\n      import \"https://ssl.gstatic.com/colaboratory/data_table/881c4a0d49046431/data_table.js\";\n\n      const table = window.createDataTable({\n        data: [[{\n            'v': 0,\n            'f': \"0\",\n        },\n\"\\nA: Hi Tom, are you busy tomorrow\\u2019s afternoon?\\nB: I\\u2019m pretty sure I am. What\\u2019s up?\\nA: Can you go with me to the animal shelter?.\\nB: What do you want to do?\\nA: I want to get a puppy for my son.\\nB: That will make him so happy.\\nA: Yeah, we\\u2019ve discussed it many times. I think he\\u2019s ready now.\\nB: That\\u2019s good. Raising a dog is a tough issue. Like having a baby ;-)\\nA: I'll get him one of those little dogs.\\nB: One that won't grow up too big;-)\\nA: And eat too much;-))\\nB: Do you know which one he would like?\\nA: Oh, yes, I took him there last Monday. He showed me one that he really liked.\\nB: I bet you had to drag him away.\\nA: He wanted to take it home right away ;-).\\nB: I wonder what he'll name it.\\nA: He said he\\u2019d name it after his dead hamster \\u2013 Lemmy  - he's  a great Motorhead fan :-)))\\n\"]],\n        columns: [[\"number\", \"index\"], [\"string\", \"dialogue\"]],\n        columnOptions: [{\"width\": \"1px\", \"className\": \"index_column\"}],\n        rowsPerPage: 25,\n        helpUrl: \"https://colab.research.google.com/notebooks/data_table.ipynb\",\n        suppressOutputScrolling: true,\n        minimumWidth: undefined,\n      });\n\n      function appendQuickchartButton(parentElement) {\n        let quickchartButtonContainerElement = document.createElement('div');\n        quickchartButtonContainerElement.innerHTML = `\n<div id=\"df-164d5017-b2a2-49c1-a0e5-940f05e72aba\">\n  <button class=\"colab-df-quickchart\" onclick=\"quickchart('df-164d5017-b2a2-49c1-a0e5-940f05e72aba')\"\n            title=\"Suggest charts.\"\n            style=\"display:none;\">\n    \n<svg xmlns=\"http://www.w3.org/2000/svg\" height=\"24px\"viewBox=\"0 0 24 24\"\n     width=\"24px\">\n    <g>\n        <path d=\"M19 3H5c-1.1 0-2 .9-2 2v14c0 1.1.9 2 2 2h14c1.1 0 2-.9 2-2V5c0-1.1-.9-2-2-2zM9 17H7v-7h2v7zm4 0h-2V7h2v10zm4 0h-2v-4h2v4z\"/>\n    </g>\n</svg>\n  </button>\n  \n<style>\n  .colab-df-quickchart {\n      --bg-color: #E8F0FE;\n      --fill-color: #1967D2;\n      --hover-bg-color: #E2EBFA;\n      --hover-fill-color: #174EA6;\n      --disabled-fill-color: #AAA;\n      --disabled-bg-color: #DDD;\n  }\n\n  [theme=dark] .colab-df-quickchart {\n      --bg-color: #3B4455;\n      --fill-color: #D2E3FC;\n      --hover-bg-color: #434B5C;\n      --hover-fill-color: #FFFFFF;\n      --disabled-bg-color: #3B4455;\n      --disabled-fill-color: #666;\n  }\n\n  .colab-df-quickchart {\n    background-color: var(--bg-color);\n    border: none;\n    border-radius: 50%;\n    cursor: pointer;\n    display: none;\n    fill: var(--fill-color);\n    height: 32px;\n    padding: 0;\n    width: 32px;\n  }\n\n  .colab-df-quickchart:hover {\n    background-color: var(--hover-bg-color);\n    box-shadow: 0 1px 2px rgba(60, 64, 67, 0.3), 0 1px 3px 1px rgba(60, 64, 67, 0.15);\n    fill: var(--button-hover-fill-color);\n  }\n\n  .colab-df-quickchart-complete:disabled,\n  .colab-df-quickchart-complete:disabled:hover {\n    background-color: var(--disabled-bg-color);\n    fill: var(--disabled-fill-color);\n    box-shadow: none;\n  }\n\n  .colab-df-spinner {\n    border: 2px solid var(--fill-color);\n    border-color: transparent;\n    border-bottom-color: var(--fill-color);\n    animation:\n      spin 1s steps(1) infinite;\n  }\n\n  @keyframes spin {\n    0% {\n      border-color: transparent;\n      border-bottom-color: var(--fill-color);\n      border-left-color: var(--fill-color);\n    }\n    20% {\n      border-color: transparent;\n      border-left-color: var(--fill-color);\n      border-top-color: var(--fill-color);\n    }\n    30% {\n      border-color: transparent;\n      border-left-color: var(--fill-color);\n      border-top-color: var(--fill-color);\n      border-right-color: var(--fill-color);\n    }\n    40% {\n      border-color: transparent;\n      border-right-color: var(--fill-color);\n      border-top-color: var(--fill-color);\n    }\n    60% {\n      border-color: transparent;\n      border-right-color: var(--fill-color);\n    }\n    80% {\n      border-color: transparent;\n      border-right-color: var(--fill-color);\n      border-bottom-color: var(--fill-color);\n    }\n    90% {\n      border-color: transparent;\n      border-bottom-color: var(--fill-color);\n    }\n  }\n</style>\n\n  <script>\n    async function quickchart(key) {\n      const quickchartButtonEl =\n        document.querySelector('#' + key + ' button');\n      quickchartButtonEl.disabled = true;  // To prevent multiple clicks.\n      quickchartButtonEl.classList.add('colab-df-spinner');\n      try {\n        const charts = await google.colab.kernel.invokeFunction(\n            'suggestCharts', [key], {});\n      } catch (error) {\n        console.error('Error during call to suggestCharts:', error);\n      }\n      quickchartButtonEl.classList.remove('colab-df-spinner');\n      quickchartButtonEl.classList.add('colab-df-quickchart-complete');\n    }\n    (() => {\n      let quickchartButtonEl =\n        document.querySelector('#df-164d5017-b2a2-49c1-a0e5-940f05e72aba button');\n      quickchartButtonEl.style.display =\n        google.colab.kernel.accessAllowed ? 'block' : 'none';\n    })();\n  </script>\n</div>`;\n        parentElement.appendChild(quickchartButtonContainerElement);\n      }\n\n      appendQuickchartButton(table);\n    ",
            "text/html": [
              "\n",
              "  <div id=\"df-35818302-9f72-495e-84ec-64bd6dbaf529\" class=\"colab-df-container\">\n",
              "    <div>\n",
              "<style scoped>\n",
              "    .dataframe tbody tr th:only-of-type {\n",
              "        vertical-align: middle;\n",
              "    }\n",
              "\n",
              "    .dataframe tbody tr th {\n",
              "        vertical-align: top;\n",
              "    }\n",
              "\n",
              "    .dataframe thead th {\n",
              "        text-align: right;\n",
              "    }\n",
              "</style>\n",
              "<table border=\"1\" class=\"dataframe\">\n",
              "  <thead>\n",
              "    <tr style=\"text-align: right;\">\n",
              "      <th></th>\n",
              "      <th>dialogue</th>\n",
              "    </tr>\n",
              "  </thead>\n",
              "  <tbody>\n",
              "    <tr>\n",
              "      <th>0</th>\n",
              "      <td>\\nA: Hi Tom, are you busy tomorrow’s afternoon...</td>\n",
              "    </tr>\n",
              "  </tbody>\n",
              "</table>\n",
              "</div>\n",
              "    <div class=\"colab-df-buttons\">\n",
              "\n",
              "  <div class=\"colab-df-container\">\n",
              "    <button class=\"colab-df-convert\" onclick=\"convertToInteractive('df-35818302-9f72-495e-84ec-64bd6dbaf529')\"\n",
              "            title=\"Convert this dataframe to an interactive table.\"\n",
              "            style=\"display:none;\">\n",
              "\n",
              "  <svg xmlns=\"http://www.w3.org/2000/svg\" height=\"24px\" viewBox=\"0 -960 960 960\">\n",
              "    <path d=\"M120-120v-720h720v720H120Zm60-500h600v-160H180v160Zm220 220h160v-160H400v160Zm0 220h160v-160H400v160ZM180-400h160v-160H180v160Zm440 0h160v-160H620v160ZM180-180h160v-160H180v160Zm440 0h160v-160H620v160Z\"/>\n",
              "  </svg>\n",
              "    </button>\n",
              "\n",
              "  <style>\n",
              "    .colab-df-container {\n",
              "      display:flex;\n",
              "      gap: 12px;\n",
              "    }\n",
              "\n",
              "    .colab-df-convert {\n",
              "      background-color: #E8F0FE;\n",
              "      border: none;\n",
              "      border-radius: 50%;\n",
              "      cursor: pointer;\n",
              "      display: none;\n",
              "      fill: #1967D2;\n",
              "      height: 32px;\n",
              "      padding: 0 0 0 0;\n",
              "      width: 32px;\n",
              "    }\n",
              "\n",
              "    .colab-df-convert:hover {\n",
              "      background-color: #E2EBFA;\n",
              "      box-shadow: 0px 1px 2px rgba(60, 64, 67, 0.3), 0px 1px 3px 1px rgba(60, 64, 67, 0.15);\n",
              "      fill: #174EA6;\n",
              "    }\n",
              "\n",
              "    .colab-df-buttons div {\n",
              "      margin-bottom: 4px;\n",
              "    }\n",
              "\n",
              "    [theme=dark] .colab-df-convert {\n",
              "      background-color: #3B4455;\n",
              "      fill: #D2E3FC;\n",
              "    }\n",
              "\n",
              "    [theme=dark] .colab-df-convert:hover {\n",
              "      background-color: #434B5C;\n",
              "      box-shadow: 0px 1px 3px 1px rgba(0, 0, 0, 0.15);\n",
              "      filter: drop-shadow(0px 1px 2px rgba(0, 0, 0, 0.3));\n",
              "      fill: #FFFFFF;\n",
              "    }\n",
              "  </style>\n",
              "\n",
              "    <script>\n",
              "      const buttonEl =\n",
              "        document.querySelector('#df-35818302-9f72-495e-84ec-64bd6dbaf529 button.colab-df-convert');\n",
              "      buttonEl.style.display =\n",
              "        google.colab.kernel.accessAllowed ? 'block' : 'none';\n",
              "\n",
              "      async function convertToInteractive(key) {\n",
              "        const element = document.querySelector('#df-35818302-9f72-495e-84ec-64bd6dbaf529');\n",
              "        const dataTable =\n",
              "          await google.colab.kernel.invokeFunction('convertToInteractive',\n",
              "                                                    [key], {});\n",
              "        if (!dataTable) return;\n",
              "\n",
              "        const docLinkHtml = 'Like what you see? Visit the ' +\n",
              "          '<a target=\"_blank\" href=https://colab.research.google.com/notebooks/data_table.ipynb>data table notebook</a>'\n",
              "          + ' to learn more about interactive tables.';\n",
              "        element.innerHTML = '';\n",
              "        dataTable['output_type'] = 'display_data';\n",
              "        await google.colab.output.renderOutput(dataTable, element);\n",
              "        const docLink = document.createElement('div');\n",
              "        docLink.innerHTML = docLinkHtml;\n",
              "        element.appendChild(docLink);\n",
              "      }\n",
              "    </script>\n",
              "  </div>\n",
              "\n",
              "    </div>\n",
              "  </div>\n"
            ],
            "text/plain": [
              "                                            dialogue\n",
              "0  \\nA: Hi Tom, are you busy tomorrow’s afternoon..."
            ]
          },
          "execution_count": 58,
          "metadata": {},
          "output_type": "execute_result"
        }
      ],
      "source": [
        "df_control_example: pd.DataFrame = pd.DataFrame(\n",
        "    data={\n",
        "      \"dialogue\": [samsum_test_dialogue,],\n",
        "    }\n",
        ")\n",
        "df_control_example"
      ]
    },
    {
      "cell_type": "code",
      "execution_count": null,
      "metadata": {
        "colab": {
          "base_uri": "https://localhost:8080/",
          "height": 1000
        },
        "id": "IWq96fOff6E0",
        "outputId": "c55a338e-0043-4c6b-c666-e4a4ad7e3da0"
      },
      "outputs": [
        {
          "data": {
            "text/html": [
              "\n",
              "  <style>\n",
              "    pre {\n",
              "        white-space: pre-wrap;\n",
              "    }\n",
              "  </style>\n",
              "  "
            ],
            "text/plain": [
              "<IPython.core.display.HTML object>"
            ]
          },
          "metadata": {},
          "output_type": "display_data"
        },
        {
          "name": "stderr",
          "output_type": "stream",
          "text": [
            "WARNING:ludwig.data.preprocessing:Specified split column split for fixed split strategy was not found in dataset.\n",
            "Special tokens have been added in the vocabulary, make sure the associated word embeddings are fine-tuned or trained.\n",
            "INFO:ludwig.utils.tokenizers:Loaded HuggingFace implementation of alexsherstinsky/Mistral-7B-v0.1-sharded tokenizer\n",
            "Special tokens have been added in the vocabulary, make sure the associated word embeddings are fine-tuned or trained.\n",
            "WARNING:ludwig.utils.tokenizers:No padding token id found. Using eos_token as pad_token.\n",
            "Asking to truncate to max_length but no maximum length is provided and the model has no predefined maximum length. Default to no truncation.\n",
            "/usr/local/lib/python3.10/dist-packages/ludwig/data/preprocessing.py:1315: UserWarning: column: 'split' is required by the dataset splitter with params: {'type': 'fixed', 'column': 'split'}, but 'split' is not present in the `dataset_df` with columns: Index(['dialogue'], dtype='object'). This is acceptable during serving setting where dataset splitting is irrelevant. You may see this warning if, for example, the model was trained with a configuration that used a stratified split on the target column, but for live predictions, a value for the target column is not to be provided.\n",
            "  warnings.warn(\n"
          ]
        },
        {
          "name": "stdout",
          "output_type": "stream",
          "text": [
            "\rPrediction:   0%|          | 0/1 [00:00<?, ?it/s]"
          ]
        },
        {
          "name": "stderr",
          "output_type": "stream",
          "text": [
            "INFO:ludwig.models.llm:For generating text, using: GenerationConfig {\n",
            "  \"do_sample\": true,\n",
            "  \"max_length\": 32,\n",
            "  \"max_new_tokens\": 512,\n",
            "  \"pad_token_id\": 2,\n",
            "  \"temperature\": 0.1\n",
            "}\n",
            "\n",
            "INFO:ludwig.models.llm:Decoded text inputs for the first example in batch: summarize this dialog:\n",
            "### dialogue: \n",
            "a: hi tom, are you busy tomorrow’s afternoon?\n",
            "b: i’m pretty sure i am. what’s up?\n",
            "a: can you go with me to the animal shelter?.\n",
            "b: what do you want to do?\n",
            "a: i want to get a puppy for my son.\n",
            "b: that will make him so happy.\n",
            "a: yeah, we’ve discussed it many times. i think he’s ready now.\n",
            "b: that’s good. raising a dog is a tough issue. like having a baby ;-)\n",
            "a: i'll get him one of those little dogs.\n",
            "b: one that won't grow up too big;-)\n",
            "a: and eat too much;-))\n",
            "b: do you know which one he would like?\n",
            "a: oh, yes, i took him there last monday. he showed me one that he really liked.\n",
            "b: i bet you had to drag him away.\n",
            "a: he wanted to take it home right away ;-).\n",
            "b: i wonder what he'll name it.\n",
            "a: he said he’d name it after his dead hamster – lemmy  - he's  a great motorhead fan :-)))\n",
            "\n",
            "### synopsis:\n",
            "/usr/local/lib/python3.10/dist-packages/bitsandbytes/autograd/_functions.py:322: UserWarning: MatMul8bitLt: inputs will be cast from torch.float32 to float16 during quantization\n",
            "  warnings.warn(f\"MatMul8bitLt: inputs will be cast from {A.dtype} to float16 during quantization\")\n",
            "INFO:ludwig.models.llm:Decoded generated output for the first example in batch: summarize this dialog:\n",
            "### dialogue: \n",
            "a: hi tom, are you busy tomorrow’s afternoon?\n",
            "b: i’m pretty sure i am. what’s up?\n",
            "a: can you go with me to the animal shelter?.\n",
            "b: what do you want to do?\n",
            "a: i want to get a puppy for my son.\n",
            "b: that will make him so happy.\n",
            "a: yeah, we’ve discussed it many times. i think he’s ready now.\n",
            "b: that’s good. raising a dog is a tough issue. like having a baby ;-)\n",
            "a: i'll get him one of those little dogs.\n",
            "b: one that won't grow up too big;-)\n",
            "a: and eat too much;-))\n",
            "b: do you know which one he would like?\n",
            "a: oh, yes, i took him there last monday. he showed me one that he really liked.\n",
            "b: i bet you had to drag him away.\n",
            "a: he wanted to take it home right away ;-).\n",
            "b: i wonder what he'll name it.\n",
            "a: he said he’d name it after his dead hamster – lemmy  - he's  a great motorhead fan :-)))\n",
            "\n",
            "### synopsis: a wants to get a puppy for his son. b will go with him to the animal shelter tomorrow.\n"
          ]
        },
        {
          "name": "stdout",
          "output_type": "stream",
          "text": [
            "Prediction: 100%|██████████| 1/1 [00:06<00:00,  6.77s/it]\n"
          ]
        },
        {
          "name": "stderr",
          "output_type": "stream",
          "text": [
            "Special tokens have been added in the vocabulary, make sure the associated word embeddings are fine-tuned or trained.\n",
            "INFO:ludwig.utils.tokenizers:Loaded HuggingFace implementation of alexsherstinsky/Mistral-7B-v0.1-sharded tokenizer\n",
            "Special tokens have been added in the vocabulary, make sure the associated word embeddings are fine-tuned or trained.\n",
            "WARNING:ludwig.utils.tokenizers:No padding token id found. Using eos_token as pad_token.\n",
            "/usr/local/lib/python3.10/dist-packages/ludwig/features/feature_utils.py:102: RuntimeWarning: divide by zero encountered in log\n",
            "  return np.sum(np.log(sequence_probabilities))\n"
          ]
        }
      ],
      "source": [
        "predictions: list[list[str]] = predict(model=model, df_test=df_control_example)"
      ]
    },
    {
      "cell_type": "code",
      "execution_count": null,
      "metadata": {
        "colab": {
          "base_uri": "https://localhost:8080/",
          "height": 71
        },
        "id": "b6zapjrAz-d_",
        "outputId": "b0ff47a2-5cc5-42e3-ce3e-aa4ca56b2263"
      },
      "outputs": [
        {
          "data": {
            "text/html": [
              "\n",
              "  <style>\n",
              "    pre {\n",
              "        white-space: pre-wrap;\n",
              "    }\n",
              "  </style>\n",
              "  "
            ],
            "text/plain": [
              "<IPython.core.display.HTML object>"
            ]
          },
          "metadata": {},
          "output_type": "display_data"
        },
        {
          "name": "stdout",
          "output_type": "stream",
          "text": [
            "\n",
            "[GENERATED_TEXT] PREDICTION:\n",
            "a wants to get a puppy for his son. b will go with him to the animal shelter tomorrow.\n"
          ]
        }
      ],
      "source": [
        "one_prediction: str = predictions[0][0]\n",
        "print(f'\\n[GENERATED_TEXT] PREDICTION:\\n{one_prediction}')"
      ]
    },
    {
      "cell_type": "markdown",
      "metadata": {
        "id": "LWxotc5kGcBD"
      },
      "source": [
        "# **Upload Trained Model Artifacts To HuggingFace** 🤗\n",
        "\n",
        "Now that we have a fine-tuned model, we can export the model weights to HuggingFace hub so we can use them in downstream tasks or in production. Ludwig supports uploading model weights directly to HuggingFace Hub via the `upload` Ludwig command.\n",
        "\n",
        "```\n",
        "!ludwig upload hf_hub --repo_id <hf_user_name>/<repo_name> --model_path <top_level_model_directory>\n",
        "```\n",
        "\n",
        "The `model-path` can be seen at the end of training/fine-tuning, as seen in this screenshot.\n",
        "\n",
        "<br>\n",
        "\n",
        "![Screenshot 2023-08-15 at 2.20.00 PM.png](data:image/png;base64,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)"
      ]
    },
    {
      "cell_type": "code",
      "execution_count": null,
      "metadata": {
        "colab": {
          "base_uri": "https://localhost:8080/",
          "height": 499
        },
        "id": "-Y71BStbCQ1A",
        "outputId": "9ffb04ad-e1e7-4a30-f22b-8e14baf16513"
      },
      "outputs": [
        {
          "data": {
            "text/html": [
              "\n",
              "  <style>\n",
              "    pre {\n",
              "        white-space: pre-wrap;\n",
              "    }\n",
              "  </style>\n",
              "  "
            ],
            "text/plain": [
              "<IPython.core.display.HTML object>"
            ]
          },
          "metadata": {},
          "output_type": "display_data"
        },
        {
          "name": "stdout",
          "output_type": "stream",
          "text": [
            "\n",
            "    _|    _|  _|    _|    _|_|_|    _|_|_|  _|_|_|  _|      _|    _|_|_|      _|_|_|_|    _|_|      _|_|_|  _|_|_|_|\n",
            "    _|    _|  _|    _|  _|        _|          _|    _|_|    _|  _|            _|        _|    _|  _|        _|\n",
            "    _|_|_|_|  _|    _|  _|  _|_|  _|  _|_|    _|    _|  _|  _|  _|  _|_|      _|_|_|    _|_|_|_|  _|        _|_|_|\n",
            "    _|    _|  _|    _|  _|    _|  _|    _|    _|    _|    _|_|  _|    _|      _|        _|    _|  _|        _|\n",
            "    _|    _|    _|_|      _|_|_|    _|_|_|  _|_|_|  _|      _|    _|_|_|      _|        _|    _|    _|_|_|  _|_|_|_|\n",
            "    \n",
            "    A token is already saved on your machine. Run `huggingface-cli whoami` to get more information or `huggingface-cli logout` if you want to log out.\n",
            "    Setting a new token will erase the existing one.\n",
            "    To login, `huggingface_hub` requires a token generated from https://huggingface.co/settings/tokens .\n",
            "Token: \n",
            "Add token as git credential? (Y/n) Y\n",
            "Token is valid (permission: write).\n",
            "\u001b[1m\u001b[31mCannot authenticate through git-credential as no helper is defined on your machine.\n",
            "You might have to re-authenticate when pushing to the Hugging Face Hub.\n",
            "Run the following command in your terminal in case you want to set the 'store' credential helper as default.\n",
            "\n",
            "git config --global credential.helper store\n",
            "\n",
            "Read https://git-scm.com/book/en/v2/Git-Tools-Credential-Storage for more details.\u001b[0m\n",
            "Token has not been saved to git credential helper.\n",
            "Your token has been saved to /root/.cache/huggingface/token\n",
            "Login successful\n",
            "Model uploaded to `https://huggingface.co/alexsherstinsky/mistralai-7B-v01-based-finetuned-using-ludwig-with-samsum-A100-sharded-8bit-merged/tree/main/` with repository name `alexsherstinsky/mistralai-7B-v01-based-finetuned-using-ludwig-with-samsum-A100-sharded-8bit-merged`\n"
          ]
        }
      ],
      "source": [
        "!ludwig upload hf_hub --repo_id \"alexsherstinsky/mistralai-7B-v01-based-finetuned-using-ludwig-with-samsum-A100-sharded-8bit-merged\" --model_path /content/results/api_experiment_run"
      ]
    },
    {
      "cell_type": "code",
      "execution_count": null,
      "metadata": {
        "id": "PfJjc-ZW74S7"
      },
      "outputs": [],
      "source": []
    },
    {
      "cell_type": "code",
      "execution_count": null,
      "metadata": {
        "id": "8nUWrubnpANI"
      },
      "outputs": [],
      "source": []
    },
    {
      "cell_type": "code",
      "execution_count": null,
      "metadata": {
        "colab": {
          "base_uri": "https://localhost:8080/",
          "height": 17
        },
        "id": "SCH8OyED_ZEY",
        "outputId": "7ea8ee9b-312d-4fc6-a417-fd8130882efa"
      },
      "outputs": [
        {
          "data": {
            "text/html": [
              "\n",
              "  <style>\n",
              "    pre {\n",
              "        white-space: pre-wrap;\n",
              "    }\n",
              "  </style>\n",
              "  "
            ],
            "text/plain": [
              "<IPython.core.display.HTML object>"
            ]
          },
          "metadata": {},
          "output_type": "display_data"
        }
      ],
      "source": [
        "samsum_fine_tuned_model_name: str = \"alexsherstinsky/mistralai-7B-v01-based-finetuned-using-ludwig-with-samsum-A100-sharded-8bit-merged\""
      ]
    },
    {
      "cell_type": "code",
      "execution_count": null,
      "metadata": {
        "id": "fubNdP6Yqpdw"
      },
      "outputs": [],
      "source": []
    },
    {
      "cell_type": "code",
      "execution_count": null,
      "metadata": {
        "id": "TwVmKFKojLSu"
      },
      "outputs": [],
      "source": []
    },
    {
      "cell_type": "code",
      "execution_count": null,
      "metadata": {
        "id": "qtcrkVnIpAi_"
      },
      "outputs": [],
      "source": []
    },
    {
      "cell_type": "code",
      "execution_count": null,
      "metadata": {
        "id": "v1mjIXRrEIcs"
      },
      "outputs": [],
      "source": []
    },
    {
      "cell_type": "code",
      "execution_count": null,
      "metadata": {
        "colab": {
          "base_uri": "https://localhost:8080/",
          "height": 35
        },
        "id": "4YT5UXXvEH9-",
        "outputId": "88b13f07-13fd-45ae-8da7-1c0f63206547"
      },
      "outputs": [
        {
          "data": {
            "text/html": [
              "\n",
              "  <style>\n",
              "    pre {\n",
              "        white-space: pre-wrap;\n",
              "    }\n",
              "  </style>\n",
              "  "
            ],
            "text/plain": [
              "<IPython.core.display.HTML object>"
            ]
          },
          "metadata": {},
          "output_type": "display_data"
        },
        {
          "data": {
            "text/plain": [
              "42"
            ]
          },
          "execution_count": 63,
          "metadata": {},
          "output_type": "execute_result"
        }
      ],
      "source": [
        "gc.collect()"
      ]
    },
    {
      "cell_type": "code",
      "execution_count": null,
      "metadata": {
        "id": "YVxHFguz68Ib"
      },
      "outputs": [],
      "source": []
    },
    {
      "cell_type": "code",
      "execution_count": null,
      "metadata": {
        "id": "Dw0BnWVW677N"
      },
      "outputs": [],
      "source": []
    },
    {
      "cell_type": "markdown",
      "metadata": {
        "id": "E1MXUMpdYN2n"
      },
      "source": [
        "Load the finetuned LoRA layers for Mistral 7B LLM (adapter weights for SAMSum dataset)."
      ]
    },
    {
      "cell_type": "code",
      "execution_count": null,
      "metadata": {
        "colab": {
          "base_uri": "https://localhost:8080/",
          "height": 184,
          "referenced_widgets": [
            "a448b18c62e747fa95be47c28f840688",
            "60f04250ebc24e46a17e0a9750cf2c4c",
            "8b7ec9d9d4b9438db7782a631b18ef73",
            "72b86f1517034bc1840e0e47a933996a",
            "092ec13e1e8c4aebbb2d48c99d97e683",
            "1e3408f0c47f4f3d841b1b0a30968f31",
            "4a5cc70dfaa94eb08112947974035067",
            "403ae4eb789e4d7ea9e5ebf141a4cac9",
            "2926226a0d3d4b27b21a17fcba5b6192",
            "eb0de34548c24cafba71f9a7c53fbe82",
            "0a2fb582aea94cb991aa4a5e206a6a76",
            "4896428fe76c41cbba59d30ffd3baed3",
            "a783f95b2b9c4c1eaaebe7fe93eca3c8",
            "88b9e544e3c14b089b8a69aee0438680",
            "145647f5ae9f4ea7bd04d94ad260ded6",
            "90ee8bc5afdb4569811845d76f0ddf3f",
            "caf8f1b967cd4e929131df9e45d402e5",
            "a703a572279e4ad9a98b2120117482ae",
            "a738ed9d3bf748e985533ee46615b759",
            "6f3b4b3d99ab42dc9caabdc6daa52b24",
            "cde4facee14b47bdbb719ea95c257ef1",
            "1941fac90a2c4c369be6a7c9cc5a9527",
            "e459e585fbb74107983c0b5ecb4ead76",
            "790d002de2a344a8a246bd63d1943281",
            "65b0cab2494c4e1e93f995ec58714a9d",
            "37bc8ca2b6c44d39b10f8f16aaad9597",
            "665e8971825048788272aff186b62d8f",
            "c68fa01092fc4a8991dd868439712ffc",
            "503dc217eb104bb2b16cda2c58579be0",
            "a37cf02706e2436d88594798540d3af7",
            "e96452b751ed445aa4f22720d3c560f2",
            "9c2e988865a84e6a9afc99fb00cfbdd1",
            "16584a676e61497b947e2955204f346d"
          ]
        },
        "id": "bJY75vo7XOwA",
        "outputId": "39afab7e-fade-4df4-d8ae-3d20ec606191"
      },
      "outputs": [
        {
          "data": {
            "text/html": [
              "\n",
              "  <style>\n",
              "    pre {\n",
              "        white-space: pre-wrap;\n",
              "    }\n",
              "  </style>\n",
              "  "
            ],
            "text/plain": [
              "<IPython.core.display.HTML object>"
            ]
          },
          "metadata": {},
          "output_type": "display_data"
        },
        {
          "name": "stdout",
          "output_type": "stream",
          "text": [
            "\n",
            "[LOADING_MODEL] FINE_TUNED_AND_MERGED:\n",
            "alexsherstinsky/mistralai-7B-v01-based-finetuned-using-ludwig-with-samsum-A100-sharded-8bit-merged\n"
          ]
        },
        {
          "name": "stderr",
          "output_type": "stream",
          "text": [
            "Special tokens have been added in the vocabulary, make sure the associated word embeddings are fine-tuned or trained.\n"
          ]
        },
        {
          "data": {
            "application/vnd.jupyter.widget-view+json": {
              "model_id": "a448b18c62e747fa95be47c28f840688",
              "version_major": 2,
              "version_minor": 0
            },
            "text/plain": [
              "Downloading shards:   0%|          | 0/8 [00:00<?, ?it/s]"
            ]
          },
          "metadata": {},
          "output_type": "display_data"
        },
        {
          "data": {
            "application/vnd.jupyter.widget-view+json": {
              "model_id": "4896428fe76c41cbba59d30ffd3baed3",
              "version_major": 2,
              "version_minor": 0
            },
            "text/plain": [
              "Loading checkpoint shards:   0%|          | 0/8 [00:00<?, ?it/s]"
            ]
          },
          "metadata": {},
          "output_type": "display_data"
        },
        {
          "data": {
            "application/vnd.jupyter.widget-view+json": {
              "model_id": "e459e585fbb74107983c0b5ecb4ead76",
              "version_major": 2,
              "version_minor": 0
            },
            "text/plain": [
              "Downloading adapter_model.bin:   0%|          | 0.00/13.7M [00:00<?, ?B/s]"
            ]
          },
          "metadata": {},
          "output_type": "display_data"
        }
      ],
      "source": [
        "print(f'\\n[LOADING_MODEL] FINE_TUNED_AND_MERGED:\\n{samsum_fine_tuned_model_name}')\n",
        "samsum_tokenizer: LlamaTokenizerFast = AutoTokenizer.from_pretrained(pretrained_model_name_or_path=samsum_fine_tuned_model_name, trust_remote_code=True, padding_side='left')\n",
        "bnb_config_samsum_fine_tuned_model: BitsAndBytesConfig = BitsAndBytesConfig(\n",
        "  load_in_8bit=True,\n",
        ")\n",
        "samsum_model: MistralForCausalLM = AutoModelForCausalLM.from_pretrained(pretrained_model_name_or_path=samsum_fine_tuned_model_name, torch_dtype=torch.float16, trust_remote_code=True, device_map=\"auto\", quantization_config=bnb_config_samsum_fine_tuned_model, low_cpu_mem_usage=True)"
      ]
    },
    {
      "cell_type": "code",
      "execution_count": null,
      "metadata": {
        "id": "7IN-YAqjOVFz"
      },
      "outputs": [],
      "source": []
    },
    {
      "cell_type": "code",
      "execution_count": null,
      "metadata": {
        "id": "Vl6plG8pOVKf"
      },
      "outputs": [],
      "source": []
    },
    {
      "cell_type": "code",
      "execution_count": null,
      "metadata": {
        "colab": {
          "base_uri": "https://localhost:8080/",
          "height": 35
        },
        "id": "iPoQC0z0OVO7",
        "outputId": "e6c5c80e-897d-4fa5-8c22-acabe0f1d611"
      },
      "outputs": [
        {
          "data": {
            "text/html": [
              "\n",
              "  <style>\n",
              "    pre {\n",
              "        white-space: pre-wrap;\n",
              "    }\n",
              "  </style>\n",
              "  "
            ],
            "text/plain": [
              "<IPython.core.display.HTML object>"
            ]
          },
          "metadata": {},
          "output_type": "display_data"
        },
        {
          "data": {
            "text/plain": [
              "1777"
            ]
          },
          "execution_count": 36,
          "metadata": {},
          "output_type": "execute_result"
        }
      ],
      "source": [
        "gc.collect()"
      ]
    },
    {
      "cell_type": "code",
      "execution_count": null,
      "metadata": {
        "id": "KRmyHTkp-a7E"
      },
      "outputs": [],
      "source": []
    },
    {
      "cell_type": "code",
      "execution_count": null,
      "metadata": {
        "id": "Eu9o1PFE-Vyo"
      },
      "outputs": [],
      "source": []
    },
    {
      "cell_type": "markdown",
      "metadata": {
        "id": "JCnrqPZPXhG2"
      },
      "source": [
        "Run inference on finetuned Mistral 7B LLM for SAMSum dataset to verify quality."
      ]
    },
    {
      "cell_type": "code",
      "execution_count": null,
      "metadata": {
        "colab": {
          "base_uri": "https://localhost:8080/",
          "height": 17
        },
        "id": "ce4yrJVCY7_U",
        "outputId": "a651ca10-4ec9-4ba7-f6ea-f7b77a20bc8e"
      },
      "outputs": [
        {
          "data": {
            "text/html": [
              "\n",
              "  <style>\n",
              "    pre {\n",
              "        white-space: pre-wrap;\n",
              "    }\n",
              "  </style>\n",
              "  "
            ],
            "text/plain": [
              "<IPython.core.display.HTML object>"
            ]
          },
          "metadata": {},
          "output_type": "display_data"
        }
      ],
      "source": [
        "samsum_sequences_generator: TextGenerationPipeline = transformers.pipeline(\n",
        "    task=\"text-generation\",\n",
        "    tokenizer=samsum_tokenizer,\n",
        "    model=samsum_model,\n",
        "    torch_dtype=torch.float16,\n",
        "    device_map=\"auto\",\n",
        ")"
      ]
    },
    {
      "cell_type": "code",
      "execution_count": null,
      "metadata": {
        "id": "7Vq6v-xxC03q"
      },
      "outputs": [],
      "source": []
    },
    {
      "cell_type": "code",
      "execution_count": null,
      "metadata": {
        "colab": {
          "base_uri": "https://localhost:8080/",
          "height": 35
        },
        "id": "gw2ahnKNZ9BR",
        "outputId": "a5f6c38c-18ec-4d69-db29-672dc7e8c90d"
      },
      "outputs": [
        {
          "data": {
            "text/html": [
              "\n",
              "  <style>\n",
              "    pre {\n",
              "        white-space: pre-wrap;\n",
              "    }\n",
              "  </style>\n",
              "  "
            ],
            "text/plain": [
              "<IPython.core.display.HTML object>"
            ]
          },
          "metadata": {},
          "output_type": "display_data"
        },
        {
          "name": "stderr",
          "output_type": "stream",
          "text": [
            "Setting `pad_token_id` to `eos_token_id`:2 for open-end generation.\n"
          ]
        }
      ],
      "source": [
        "samsum_sequences: list[dict] | list[list[dict]] = samsum_sequences_generator(\n",
        "    text_inputs=samsum_test_prompt,\n",
        "    do_sample=True,\n",
        "    top_k=50,\n",
        "    num_return_sequences=1,\n",
        "    eos_token_id=samsum_tokenizer.eos_token_id,\n",
        "    max_length=512,\n",
        "    return_text=True,\n",
        ")"
      ]
    },
    {
      "cell_type": "code",
      "execution_count": null,
      "metadata": {
        "colab": {
          "base_uri": "https://localhost:8080/",
          "height": 17
        },
        "id": "OHp1QhUZY8CL",
        "outputId": "71b39c0f-dc98-4836-8ef1-32658de250d0"
      },
      "outputs": [
        {
          "data": {
            "text/html": [
              "\n",
              "  <style>\n",
              "    pre {\n",
              "        white-space: pre-wrap;\n",
              "    }\n",
              "  </style>\n",
              "  "
            ],
            "text/plain": [
              "<IPython.core.display.HTML object>"
            ]
          },
          "metadata": {},
          "output_type": "display_data"
        }
      ],
      "source": [
        "samsum_sequence: dict = samsum_sequences[0]"
      ]
    },
    {
      "cell_type": "code",
      "execution_count": null,
      "metadata": {
        "colab": {
          "base_uri": "https://localhost:8080/",
          "height": 499
        },
        "id": "DNIJBIBVY8FU",
        "outputId": "5eafa4a1-505d-4a52-e519-7a231034d351"
      },
      "outputs": [
        {
          "data": {
            "text/html": [
              "\n",
              "  <style>\n",
              "    pre {\n",
              "        white-space: pre-wrap;\n",
              "    }\n",
              "  </style>\n",
              "  "
            ],
            "text/plain": [
              "<IPython.core.display.HTML object>"
            ]
          },
          "metadata": {},
          "output_type": "display_data"
        },
        {
          "name": "stdout",
          "output_type": "stream",
          "text": [
            "\n",
            "[GENERATED_TEXT] FINE_TUNED_MODEL_PREDICTION:\n",
            "\n",
            "Summarize this dialog:\n",
            "\n",
            "### Dialogue: \n",
            "A: Hi Tom, are you busy tomorrow’s afternoon?\n",
            "B: I’m pretty sure I am. What’s up?\n",
            "A: Can you go with me to the animal shelter?.\n",
            "B: What do you want to do?\n",
            "A: I want to get a puppy for my son.\n",
            "B: That will make him so happy.\n",
            "A: Yeah, we’ve discussed it many times. I think he’s ready now.\n",
            "B: That’s good. Raising a dog is a tough issue. Like having a baby ;-)\n",
            "A: I'll get him one of those little dogs.\n",
            "B: One that won't grow up too big;-)\n",
            "A: And eat too much;-))\n",
            "B: Do you know which one he would like?\n",
            "A: Oh, yes, I took him there last Monday. He showed me one that he really liked.\n",
            "B: I bet you had to drag him away.\n",
            "A: He wanted to take it home right away ;-).\n",
            "B: I wonder what he'll name it.\n",
            "A: He said he’d name it after his dead hamster – Lemmy  - he's  a great Motorhead fan :-)))\n",
            "\n",
            "\n",
            "### Synopsis:\n",
            "A wants to get a puppy for his son from the animal shelter. B will go with him. ; TYPE: <class 'str'>\n"
          ]
        }
      ],
      "source": [
        "print(f'\\n[GENERATED_TEXT] FINE_TUNED_MODEL_PREDICTION:\\n{samsum_sequence[\"generated_text\"]} ; TYPE: {str(type(samsum_sequence[\"generated_text\"]))}')"
      ]
    },
    {
      "cell_type": "code",
      "execution_count": null,
      "metadata": {
        "id": "MhjUYgzLit5T"
      },
      "outputs": [],
      "source": []
    },
    {
      "cell_type": "code",
      "execution_count": null,
      "metadata": {
        "id": "nN1ztfu6D9yW"
      },
      "outputs": [],
      "source": []
    },
    {
      "cell_type": "code",
      "execution_count": null,
      "metadata": {
        "colab": {
          "base_uri": "https://localhost:8080/",
          "height": 35
        },
        "id": "GmlEWKz1D9yW",
        "outputId": "764081fe-ffd9-4da6-f017-736dbe0f3e76"
      },
      "outputs": [
        {
          "data": {
            "text/html": [
              "\n",
              "  <style>\n",
              "    pre {\n",
              "        white-space: pre-wrap;\n",
              "    }\n",
              "  </style>\n",
              "  "
            ],
            "text/plain": [
              "<IPython.core.display.HTML object>"
            ]
          },
          "metadata": {},
          "output_type": "display_data"
        },
        {
          "data": {
            "text/plain": [
              "21"
            ]
          },
          "execution_count": 41,
          "metadata": {},
          "output_type": "execute_result"
        }
      ],
      "source": [
        "gc.collect()"
      ]
    },
    {
      "cell_type": "code",
      "execution_count": null,
      "metadata": {
        "id": "2IlJMGIHa8Gl"
      },
      "outputs": [],
      "source": []
    },
    {
      "cell_type": "code",
      "execution_count": null,
      "metadata": {
        "id": "r7NRj-eFa75l"
      },
      "outputs": [],
      "source": []
    },
    {
      "cell_type": "markdown",
      "metadata": {
        "id": "AfeIOOkha9Iu"
      },
      "source": [
        "Run inference on finetuned Mistral 7B LLM for SAMSum dataset over the evaluation dataset."
      ]
    },
    {
      "cell_type": "code",
      "execution_count": null,
      "metadata": {
        "colab": {
          "base_uri": "https://localhost:8080/",
          "height": 17
        },
        "id": "m6MoKuHxCk4c",
        "outputId": "aff735b9-17ba-468a-ae9c-d71284fdac33"
      },
      "outputs": [
        {
          "data": {
            "text/html": [
              "\n",
              "  <style>\n",
              "    pre {\n",
              "        white-space: pre-wrap;\n",
              "    }\n",
              "  </style>\n",
              "  "
            ],
            "text/plain": [
              "<IPython.core.display.HTML object>"
            ]
          },
          "metadata": {},
          "output_type": "display_data"
        }
      ],
      "source": [
        "df_samsum_evaluation: pd.DataFrame = df_evaluation.copy()"
      ]
    },
    {
      "cell_type": "code",
      "execution_count": null,
      "metadata": {
        "colab": {
          "base_uri": "https://localhost:8080/",
          "height": 17
        },
        "id": "vT-Z_9pdDFgl",
        "outputId": "f98e3aac-e5d0-4000-fbe3-9a55c11ebecc"
      },
      "outputs": [
        {
          "data": {
            "text/html": [
              "\n",
              "  <style>\n",
              "    pre {\n",
              "        white-space: pre-wrap;\n",
              "    }\n",
              "  </style>\n",
              "  "
            ],
            "text/plain": [
              "<IPython.core.display.HTML object>"
            ]
          },
          "metadata": {},
          "output_type": "display_data"
        }
      ],
      "source": [
        "df_samsum_evaluation[\"prompt\"] = df_samsum_evaluation[\"dialogue\"].apply(lambda x: samsum_prompt_template.format(**{\"dialogue\": x}))"
      ]
    },
    {
      "cell_type": "code",
      "execution_count": null,
      "metadata": {
        "colab": {
          "base_uri": "https://localhost:8080/",
          "height": 267
        },
        "id": "fW2wlr4dDfHN",
        "outputId": "d6f133f6-523a-41c6-e2a1-53229e9809c4"
      },
      "outputs": [
        {
          "data": {
            "text/html": [
              "\n",
              "  <style>\n",
              "    pre {\n",
              "        white-space: pre-wrap;\n",
              "    }\n",
              "  </style>\n",
              "  "
            ],
            "text/plain": [
              "<IPython.core.display.HTML object>"
            ]
          },
          "metadata": {},
          "output_type": "display_data"
        },
        {
          "name": "stderr",
          "output_type": "stream",
          "text": [
            "Setting `pad_token_id` to `eos_token_id`:2 for open-end generation.\n",
            "Setting `pad_token_id` to `eos_token_id`:2 for open-end generation.\n",
            "Setting `pad_token_id` to `eos_token_id`:2 for open-end generation.\n",
            "Setting `pad_token_id` to `eos_token_id`:2 for open-end generation.\n",
            "Setting `pad_token_id` to `eos_token_id`:2 for open-end generation.\n",
            "Setting `pad_token_id` to `eos_token_id`:2 for open-end generation.\n",
            "Setting `pad_token_id` to `eos_token_id`:2 for open-end generation.\n",
            "/usr/local/lib/python3.10/dist-packages/transformers/generation/utils.py:1268: UserWarning: Input length of input_ids is 571, but `max_length` is set to 512. This can lead to unexpected behavior. You should consider increasing `max_new_tokens`.\n",
            "  warnings.warn(\n",
            "Setting `pad_token_id` to `eos_token_id`:2 for open-end generation.\n",
            "Setting `pad_token_id` to `eos_token_id`:2 for open-end generation.\n",
            "Setting `pad_token_id` to `eos_token_id`:2 for open-end generation.\n"
          ]
        }
      ],
      "source": [
        "samsum_sequences: list[dict] | list[list[dict]] = samsum_sequences_generator(\n",
        "    text_inputs=df_samsum_evaluation[\"prompt\"].to_list(),\n",
        "    do_sample=True,\n",
        "    top_k=50,\n",
        "    num_return_sequences=1,\n",
        "    eos_token_id=samsum_tokenizer.eos_token_id,\n",
        "    max_length=512,\n",
        "    return_text=True,\n",
        ")"
      ]
    },
    {
      "cell_type": "code",
      "execution_count": null,
      "metadata": {
        "colab": {
          "base_uri": "https://localhost:8080/",
          "height": 1000
        },
        "id": "W1e56lBUaW7I",
        "outputId": "52aa7c03-5cfe-49f4-f740-73e39553f69f"
      },
      "outputs": [
        {
          "data": {
            "text/html": [
              "\n",
              "  <style>\n",
              "    pre {\n",
              "        white-space: pre-wrap;\n",
              "    }\n",
              "  </style>\n",
              "  "
            ],
            "text/plain": [
              "<IPython.core.display.HTML object>"
            ]
          },
          "metadata": {},
          "output_type": "display_data"
        },
        {
          "name": "stdout",
          "output_type": "stream",
          "text": [
            "\n",
            "[FINE_TUNED_MODEL_EVALUATION_BEGIN]\n",
            "\n",
            "[=============EXAMPLE_0_BEGIN=============]\n",
            "\n",
            "[FINE_TUNED_MODEL_EVALUATION] GENERATED_SUMMARY:\n",
            "\n",
            "Summarize this dialog:\n",
            "\n",
            "### Dialogue: Adriana: Sorry, I guess I can't make it. I'm feeling sick again.\r\n",
            "Adriana: I planned so many things for today...\r\n",
            "Adriana: Hate it.\r\n",
            "Elisa: What a pity...\r\n",
            "Elisa: Next time!\r\n",
            "Elisa: Hope you'll get better soon!\r\n",
            "Adriana: Hope so too.\r\n",
            "Adriana: How was at the pool?\r\n",
            "Elisa: The best ❤️\r\n",
            "Elisa: 1 hour of swimming and 1 hour of sauna\r\n",
            "Elisa: Love it!\r\n",
            "Adriana:❤️\r\n",
            "Adriana: I'm such a bad swimmer that you couldn't stand me xD\r\n",
            "Elisa: Ahahaha\r\n",
            "Elisa: There was such a girl today, soooo annoying 😂\r\n",
            "Adriana: Just like me 😂😂😂\n",
            "\n",
            "### Synopsis:\n",
            "\n",
            "Adriana can't make it today because she's sick. She was looking forward to it. Elisa enjoyed at the pool today.\n",
            "\n",
            "[=============EXAMPLE_0_END=============]\n",
            "\n",
            "[FINE_TUNED_MODEL_EVALUATION] GENERATED_SUMMARY:\n",
            "\n",
            "Summarize this dialog:\n",
            "\n",
            "### Dialogue: Claire: Have you seen the news?\r\n",
            "Greg: No. What’s happened?\r\n",
            "Claire: That bitch my neighbor became an MP 🤮\r\n",
            "Kevin: Ooo, well done! You must be so jealous 🤣\r\n",
            "Claire: Stop it. I hate her so much. She killed my cat 🙈\r\n",
            "Greg: Whaaaaat???\r\n",
            "Claire: Really. It was 5 years ago. She hit it with a car.\r\n",
            "Greg: Okay. I understand 😒\n",
            "\n",
            "### Synopsis:\n",
            "    claire's cat was killed by her neigbour 5 years ago.\n",
            "\n",
            "[=============EXAMPLE_1_END=============]\n",
            "\n",
            "[FINE_TUNED_MODEL_EVALUATION] GENERATED_SUMMARY:\n",
            "\n",
            "Summarize this dialog:\n",
            "\n",
            "### Dialogue: Josh: You're a nutter!!!\n",
            "Josh: I could never do things like that\n",
            "Paul: Wouldn't you ever do the bungee jumping or skydiving? C'mon that's not so scary :)\n",
            "Josh: hahahah\n",
            "Josh: Nope, I wouldn't do that :)\n",
            "Paul: The next time you're coming with me!\n",
            "Josh: No way, mate\n",
            "\n",
            "### Synopsis:\n",
            "Josh wouldn't do bungee jumping nor skydiving.\n",
            "\n",
            "[=============EXAMPLE_2_END=============]\n",
            "\n",
            "[FINE_TUNED_MODEL_EVALUATION] GENERATED_SUMMARY:\n",
            "\n",
            "Summarize this dialog:\n",
            "\n",
            "### Dialogue: Marcel: Hey\r\n",
            "Rodolfo: Hello\r\n",
            "Marcel: What's up?\r\n",
            "Rodolfo: Nothing just got back to the house\r\n",
            "Marcel: I had an exam today and I  think I will get a great grade\r\n",
            "Rodolfo: Good for you. Mine was pretty hard. Not what I was expecting. But I should pass it\r\n",
            "Marcel: Oh yeah now I remember you had an exam. Let me know if u have results\r\n",
            "Rodolfo: How nice nice of you to remember now\r\n",
            "Marcel: Haha i can't believe. I saw when one car hit another one. They were one behind another. It wasn't so much but still it was. The drivers went out, spoke  maybe 15 seconds , smiled and came back to their cars hahha and that's all\r\n",
            "Rodolfo: I will only know in like 3 weeks\r\n",
            "Marcel: Oh long time\r\n",
            "Rodolfo: Yea rather long\r\n",
            "Marcel: Hopefully it will be fine\n",
            "\n",
            "### Synopsis:\n",
            "```\n",
            "\n",
            "[=============EXAMPLE_3_END=============]\n",
            "\n",
            "[FINE_TUNED_MODEL_EVALUATION] GENERATED_SUMMARY:\n",
            "\n",
            "Summarize this dialog:\n",
            "\n",
            "### Dialogue: Don: Do you see me online?\n",
            "Alfred: Nope\n",
            "Don: Ok, something's wrong, I'll have to check my settings\n",
            "Alfred: Ok\n",
            "\n",
            "### Synopsis:\n",
            "Don can't be seen online and will have to check his settings.\n",
            "\n",
            "[=============EXAMPLE_4_END=============]\n",
            "\n",
            "[FINE_TUNED_MODEL_EVALUATION] GENERATED_SUMMARY:\n",
            "\n",
            "Summarize this dialog:\n",
            "\n",
            "### Dialogue: Travis: Hi, are you there?\r\n",
            "Lana: Hi Travis, good to hear from you after holiday.\r\n",
            "Travis: Yeah, long time\r\n",
            "Lana: So how was it? Greece, right?\r\n",
            "Travis: Yep, pure magic. 10 day there and 4 days in Albania\r\n",
            "Lana: Wow, Albania. Never been there.\r\n",
            "Travis: Kind of wild place, still. But I liked Greece better\r\n",
            "Lana: You stayed in one place?\r\n",
            "Travis: No, moved around. We saw almost everything there was to see\r\n",
            "Lana: Sounds exciting. \r\n",
            "Travis: Take a look. <file_photo>\r\n",
            "Lana: Wow, breathtaking. I guess you'll show us more when we meet in the office\r\n",
            "Travis: Sure thing. But I'm not back till Monday\r\n",
            "Lana: I see. Two more days of freedom.\r\n",
            "Travis: Precisely. How are things there anyway\r\n",
            "Lana: Same old, same old.\r\n",
            "Travis: Been worse?\r\n",
            "Lana: I guess it's just this time of the year when not much happens. \r\n",
            "Travis: Have you planned your holiday yet?\r\n",
            "Lana: Not really. I guess I'll just find something last minute in September.\r\n",
            "Travis: Greece perhaps\r\n",
            "Lana: I'll decide when I see the photos ha ha ha. See you around. Gotta go.\r\n",
            "Travis: Sure. See you on Monday\n",
            "\n",
            "### Synopsis:\n",
            "\n",
            "travis has just returned from holiday. he vacationed in greece and albania. his trip was exciting and he visited a lot of sightseeing attractions. lana didn't go anywhere, but will book a vacation last minute in september.\n",
            "\n",
            "[=============EXAMPLE_5_END=============]\n",
            "\n",
            "[FINE_TUNED_MODEL_EVALUATION] GENERATED_SUMMARY:\n",
            "\n",
            "Summarize this dialog:\n",
            "\n",
            "### Dialogue: Alex: hey, I'm writing about the book :)\r\n",
            "Elizabeth: heey, thanks for the message, I'm packing it to my bag right now.\r\n",
            "Alex: thank you so much...you don't even know grateful I am\r\n",
            "Elizabeth: No problem, really. If I can help you in any other way just ask.\r\n",
            "Alex: Actually I have a few questions for you if you don't mind\r\n",
            "Elizabeth: Sure, what is it?\r\n",
            "Alex: I'm starting with the senior group next week and I'm so stressed out cause I never taught the adults...could you give me any clues how to prepare, what to do and so on?\r\n",
            "Elizabeth: Of course. First thing - relax, cause stress is destructive. I remember my first classes with the adults and I couldn't even breath, but the point is to devise you own work schedule, and in order to do it right you just gotta observe them. their knowledge, their needs and so on.\r\n",
            "Alex: I get it...and how does your lesson usually look like?\r\n",
            "Elizabeth: It depends, you know. But for most of the time I'm just trying to stick to my fixed plan. At the beginning checking the attendance, asking them to give me the date in the foreing language so I can put it down in the register. Then a short conversation.\r\n",
            "Alex: and what after that?\r\n",
            "Elizabeth: Then I usually start a new chapter, the vocabulary, sometimes grammar, a few exercices and then work in groups. I don't want them to do the exercices only, cause it's too automatic.\r\n",
            "Alex: sounds really cool...you are so experienced...I wish I was too :/\r\n",
            "Elizabeth: calm down, you'll just learn everything with practice. If you don't want to make your lessons too formal, you can look for some games. I recommend Kaboom.\r\n",
            "Alex: Kaboom? I don't know this game\r\n",
            "Elizabeth: you just write the words on little pieces of paper, for example names of fruit or vegetables and put it all in a little bag. Every person takes out a single piece of paper and has to translate a word written on it. If they spot the answer, they keep it, if they don't, the card goes back to the bag.\r\n",
            "Alex: Sounds really cool! I'm sure I'll try it. Thank you so much for your help!!\r\n",
            "Elizabeth: No problem, any time.\n",
            "\n",
            "### Synopsis:\n",
            "\n",
            "\n",
            "\n",
            "[=============EXAMPLE_6_END=============]\n",
            "\n",
            "[FINE_TUNED_MODEL_EVALUATION] GENERATED_SUMMARY:\n",
            "\n",
            "Summarize this dialog:\n",
            "\n",
            "### Dialogue: Karen: Hi John, it's me, lost my phone\r\n",
            "Karen: On my way home, don't worry. Text me if you've got this. I'll have this phone only for couple of minutes.\r\n",
            "John: Got it, go back home safely.\n",
            "\n",
            "### Synopsis:\n",
            "Karen calls John because she's lost her phone.\n",
            "\n",
            "[=============EXAMPLE_7_END=============]\n",
            "\n",
            "[FINE_TUNED_MODEL_EVALUATION] GENERATED_SUMMARY:\n",
            "\n",
            "Summarize this dialog:\n",
            "\n",
            "### Dialogue: Claire: There is a letter for Tracy from the tax office\r\n",
            "Tracy: Thanks mum. Can you open it?\r\n",
            "Natalie: It's probably regarding tax return \r\n",
            "Natalie: I got mine last week\r\n",
            "Tracy: Open and send me a photo\r\n",
            "Tracy: Better priv 🤑\r\n",
            "Claire: No problem \n",
            "\n",
            "### Synopsis:\n",
            "    \n",
            "    there is a letter from the tax office for tracy.\n",
            "    the letter is probably regarding tax return.\n",
            "\n",
            "[=============EXAMPLE_8_END=============]\n",
            "\n",
            "[FINE_TUNED_MODEL_EVALUATION] GENERATED_SUMMARY:\n",
            "\n",
            "Summarize this dialog:\n",
            "\n",
            "### Dialogue: Donald: Are you playing poker tonight? It's at Dave's house\r\n",
            "Steve: Yeah I was planning to. Do we need to bring whiskey?\r\n",
            "Donald: I've got some, no worries.\r\n",
            "Steve: Ok see you\n",
            "\n",
            "### Synopsis:\n",
            "\n",
            "Donald and Steve are playing poker tonight. Donald has some whiskey.\n",
            "\n",
            "[=============EXAMPLE_9_END=============]\n",
            "\n",
            "[FINE_TUNED_MODEL_EVALUATION_END]\n"
          ]
        }
      ],
      "source": [
        "print(f'\\n[FINE_TUNED_MODEL_EVALUATION_BEGIN]')\n",
        "idx: int = 0\n",
        "print(f'\\n[=============EXAMPLE_{idx}_BEGIN=============]')\n",
        "for dialogue, synopsis in zip(df_samsum_evaluation[\"dialogue\"].to_list(), samsum_sequences):\n",
        "  print(f'\\n[FINE_TUNED_MODEL_EVALUATION] GENERATED_SUMMARY:\\n{synopsis[0][\"generated_text\"]}')\n",
        "  print(f'\\n[=============EXAMPLE_{idx}_END=============]')\n",
        "  idx += 1\n",
        "\n",
        "print(f'\\n[FINE_TUNED_MODEL_EVALUATION_END]')"
      ]
    },
    {
      "cell_type": "code",
      "execution_count": null,
      "metadata": {
        "id": "9rwBdAruD0NC"
      },
      "outputs": [],
      "source": []
    }
  ],
  "metadata": {
    "accelerator": "GPU",
    "colab": {
      "gpuType": "A100",
      "provenance": []
    },
    "kernelspec": {
      "display_name": "Python 3",
      "name": "python3"
    },
    "language_info": {
      "name": "python"
    },
    "widgets": {
      "application/vnd.jupyter.widget-state+json": {
        "008f515a0b9d4351a0fe55a843a91467": {
          "model_module": "@jupyter-widgets/controls",
          "model_module_version": "1.5.0",
          "model_name": "ProgressStyleModel",
          "state": {
            "_model_module": "@jupyter-widgets/controls",
            "_model_module_version": "1.5.0",
            "_model_name": "ProgressStyleModel",
            "_view_count": null,
            "_view_module": "@jupyter-widgets/base",
            "_view_module_version": "1.2.0",
            "_view_name": "StyleView",
            "bar_color": null,
            "description_width": ""
          }
        },
        "012cbb3a9e4e4fc0957de04852d6027e": {
          "model_module": "@jupyter-widgets/controls",
          "model_module_version": "1.5.0",
          "model_name": "HTMLModel",
          "state": {
            "_dom_classes": [],
            "_model_module": "@jupyter-widgets/controls",
            "_model_module_version": "1.5.0",
            "_model_name": "HTMLModel",
            "_view_count": null,
            "_view_module": "@jupyter-widgets/controls",
            "_view_module_version": "1.5.0",
            "_view_name": "HTMLView",
            "description": "",
            "description_tooltip": null,
            "layout": "IPY_MODEL_c14f4b8ef2414730b68e9fdac648bac2",
            "placeholder": "​",
            "style": "IPY_MODEL_06a8b9e049714598ae239ed7e6658a59",
            "value": "Downloading (…)in/added_tokens.json: 100%"
          }
        },
        "025e2a60f8d1475cb6a1df6853c23ebe": {
          "model_module": "@jupyter-widgets/controls",
          "model_module_version": "1.5.0",
          "model_name": "HBoxModel",
          "state": {
            "_dom_classes": [],
            "_model_module": "@jupyter-widgets/controls",
            "_model_module_version": "1.5.0",
            "_model_name": "HBoxModel",
            "_view_count": null,
            "_view_module": "@jupyter-widgets/controls",
            "_view_module_version": "1.5.0",
            "_view_name": "HBoxView",
            "box_style": "",
            "children": [
              "IPY_MODEL_03e5e3e0bd244b16bb38f76071bf3515",
              "IPY_MODEL_4f01065cc81c4d4f99175b2fc1aceb4a",
              "IPY_MODEL_42b64a689f0f4de18f0eb9f484ec1c88"
            ],
            "layout": "IPY_MODEL_e7eda6f5afd44a4d9867ca7fc8264c10"
          }
        },
        "035eeb46dd03432db2e2a00d994feadf": {
          "model_module": "@jupyter-widgets/base",
          "model_module_version": "1.2.0",
          "model_name": "LayoutModel",
          "state": {
            "_model_module": "@jupyter-widgets/base",
            "_model_module_version": "1.2.0",
            "_model_name": "LayoutModel",
            "_view_count": null,
            "_view_module": "@jupyter-widgets/base",
            "_view_module_version": "1.2.0",
            "_view_name": "LayoutView",
            "align_content": null,
            "align_items": null,
            "align_self": null,
            "border": null,
            "bottom": null,
            "display": null,
            "flex": null,
            "flex_flow": null,
            "grid_area": null,
            "grid_auto_columns": null,
            "grid_auto_flow": null,
            "grid_auto_rows": null,
            "grid_column": null,
            "grid_gap": null,
            "grid_row": null,
            "grid_template_areas": null,
            "grid_template_columns": null,
            "grid_template_rows": null,
            "height": null,
            "justify_content": null,
            "justify_items": null,
            "left": null,
            "margin": null,
            "max_height": null,
            "max_width": null,
            "min_height": null,
            "min_width": null,
            "object_fit": null,
            "object_position": null,
            "order": null,
            "overflow": null,
            "overflow_x": null,
            "overflow_y": null,
            "padding": null,
            "right": null,
            "top": null,
            "visibility": null,
            "width": null
          }
        },
        "03e5e3e0bd244b16bb38f76071bf3515": {
          "model_module": "@jupyter-widgets/controls",
          "model_module_version": "1.5.0",
          "model_name": "HTMLModel",
          "state": {
            "_dom_classes": [],
            "_model_module": "@jupyter-widgets/controls",
            "_model_module_version": "1.5.0",
            "_model_name": "HTMLModel",
            "_view_count": null,
            "_view_module": "@jupyter-widgets/controls",
            "_view_module_version": "1.5.0",
            "_view_name": "HTMLView",
            "description": "",
            "description_tooltip": null,
            "layout": "IPY_MODEL_50e00e3d2afb4192b2dacfde0ff6b9fc",
            "placeholder": "​",
            "style": "IPY_MODEL_28b433acfb83472a8bc3c26698dd9b81",
            "value": "Downloading (…)l-00005-of-00008.bin: 100%"
          }
        },
        "05bb1fb283aa4b66b773dd241927d980": {
          "model_module": "@jupyter-widgets/base",
          "model_module_version": "1.2.0",
          "model_name": "LayoutModel",
          "state": {
            "_model_module": "@jupyter-widgets/base",
            "_model_module_version": "1.2.0",
            "_model_name": "LayoutModel",
            "_view_count": null,
            "_view_module": "@jupyter-widgets/base",
            "_view_module_version": "1.2.0",
            "_view_name": "LayoutView",
            "align_content": null,
            "align_items": null,
            "align_self": null,
            "border": null,
            "bottom": null,
            "display": null,
            "flex": null,
            "flex_flow": null,
            "grid_area": null,
            "grid_auto_columns": null,
            "grid_auto_flow": null,
            "grid_auto_rows": null,
            "grid_column": null,
            "grid_gap": null,
            "grid_row": null,
            "grid_template_areas": null,
            "grid_template_columns": null,
            "grid_template_rows": null,
            "height": null,
            "justify_content": null,
            "justify_items": null,
            "left": null,
            "margin": null,
            "max_height": null,
            "max_width": null,
            "min_height": null,
            "min_width": null,
            "object_fit": null,
            "object_position": null,
            "order": null,
            "overflow": null,
            "overflow_x": null,
            "overflow_y": null,
            "padding": null,
            "right": null,
            "top": null,
            "visibility": null,
            "width": null
          }
        },
        "061625a1f06e4a13be2fb93a5c825785": {
          "model_module": "@jupyter-widgets/controls",
          "model_module_version": "1.5.0",
          "model_name": "DescriptionStyleModel",
          "state": {
            "_model_module": "@jupyter-widgets/controls",
            "_model_module_version": "1.5.0",
            "_model_name": "DescriptionStyleModel",
            "_view_count": null,
            "_view_module": "@jupyter-widgets/base",
            "_view_module_version": "1.2.0",
            "_view_name": "StyleView",
            "description_width": ""
          }
        },
        "0646b33eab9f4e0d8cd72d48ad81a67d": {
          "model_module": "@jupyter-widgets/controls",
          "model_module_version": "1.5.0",
          "model_name": "DescriptionStyleModel",
          "state": {
            "_model_module": "@jupyter-widgets/controls",
            "_model_module_version": "1.5.0",
            "_model_name": "DescriptionStyleModel",
            "_view_count": null,
            "_view_module": "@jupyter-widgets/base",
            "_view_module_version": "1.2.0",
            "_view_name": "StyleView",
            "description_width": ""
          }
        },
        "06a8b9e049714598ae239ed7e6658a59": {
          "model_module": "@jupyter-widgets/controls",
          "model_module_version": "1.5.0",
          "model_name": "DescriptionStyleModel",
          "state": {
            "_model_module": "@jupyter-widgets/controls",
            "_model_module_version": "1.5.0",
            "_model_name": "DescriptionStyleModel",
            "_view_count": null,
            "_view_module": "@jupyter-widgets/base",
            "_view_module_version": "1.2.0",
            "_view_name": "StyleView",
            "description_width": ""
          }
        },
        "0828a65ae1324e9bb7fe82ea2fc42f5b": {
          "model_module": "@jupyter-widgets/controls",
          "model_module_version": "1.5.0",
          "model_name": "HTMLModel",
          "state": {
            "_dom_classes": [],
            "_model_module": "@jupyter-widgets/controls",
            "_model_module_version": "1.5.0",
            "_model_name": "HTMLModel",
            "_view_count": null,
            "_view_module": "@jupyter-widgets/controls",
            "_view_module_version": "1.5.0",
            "_view_name": "HTMLView",
            "description": "",
            "description_tooltip": null,
            "layout": "IPY_MODEL_035eeb46dd03432db2e2a00d994feadf",
            "placeholder": "​",
            "style": "IPY_MODEL_aabe7d4c2c6f43128c1d14cce924b77c",
            "value": " 1.95G/1.95G [02:04&lt;00:00, 16.2MB/s]"
          }
        },
        "08b66c67e15f46c1bf6831114658a11e": {
          "model_module": "@jupyter-widgets/controls",
          "model_module_version": "1.5.0",
          "model_name": "DescriptionStyleModel",
          "state": {
            "_model_module": "@jupyter-widgets/controls",
            "_model_module_version": "1.5.0",
            "_model_name": "DescriptionStyleModel",
            "_view_count": null,
            "_view_module": "@jupyter-widgets/base",
            "_view_module_version": "1.2.0",
            "_view_name": "StyleView",
            "description_width": ""
          }
        },
        "08bb90fa5d9144b9b9e1e7aeffd3736e": {
          "model_module": "@jupyter-widgets/controls",
          "model_module_version": "1.5.0",
          "model_name": "DescriptionStyleModel",
          "state": {
            "_model_module": "@jupyter-widgets/controls",
            "_model_module_version": "1.5.0",
            "_model_name": "DescriptionStyleModel",
            "_view_count": null,
            "_view_module": "@jupyter-widgets/base",
            "_view_module_version": "1.2.0",
            "_view_name": "StyleView",
            "description_width": ""
          }
        },
        "08bc6d0ff7e14c7a97d4ea700c425b93": {
          "model_module": "@jupyter-widgets/controls",
          "model_module_version": "1.5.0",
          "model_name": "DescriptionStyleModel",
          "state": {
            "_model_module": "@jupyter-widgets/controls",
            "_model_module_version": "1.5.0",
            "_model_name": "DescriptionStyleModel",
            "_view_count": null,
            "_view_module": "@jupyter-widgets/base",
            "_view_module_version": "1.2.0",
            "_view_name": "StyleView",
            "description_width": ""
          }
        },
        "092ec13e1e8c4aebbb2d48c99d97e683": {
          "model_module": "@jupyter-widgets/base",
          "model_module_version": "1.2.0",
          "model_name": "LayoutModel",
          "state": {
            "_model_module": "@jupyter-widgets/base",
            "_model_module_version": "1.2.0",
            "_model_name": "LayoutModel",
            "_view_count": null,
            "_view_module": "@jupyter-widgets/base",
            "_view_module_version": "1.2.0",
            "_view_name": "LayoutView",
            "align_content": null,
            "align_items": null,
            "align_self": null,
            "border": null,
            "bottom": null,
            "display": null,
            "flex": null,
            "flex_flow": null,
            "grid_area": null,
            "grid_auto_columns": null,
            "grid_auto_flow": null,
            "grid_auto_rows": null,
            "grid_column": null,
            "grid_gap": null,
            "grid_row": null,
            "grid_template_areas": null,
            "grid_template_columns": null,
            "grid_template_rows": null,
            "height": null,
            "justify_content": null,
            "justify_items": null,
            "left": null,
            "margin": null,
            "max_height": null,
            "max_width": null,
            "min_height": null,
            "min_width": null,
            "object_fit": null,
            "object_position": null,
            "order": null,
            "overflow": null,
            "overflow_x": null,
            "overflow_y": null,
            "padding": null,
            "right": null,
            "top": null,
            "visibility": null,
            "width": null
          }
        },
        "0963a41e990446938918e2afd74847d2": {
          "model_module": "@jupyter-widgets/base",
          "model_module_version": "1.2.0",
          "model_name": "LayoutModel",
          "state": {
            "_model_module": "@jupyter-widgets/base",
            "_model_module_version": "1.2.0",
            "_model_name": "LayoutModel",
            "_view_count": null,
            "_view_module": "@jupyter-widgets/base",
            "_view_module_version": "1.2.0",
            "_view_name": "LayoutView",
            "align_content": null,
            "align_items": null,
            "align_self": null,
            "border": null,
            "bottom": null,
            "display": null,
            "flex": null,
            "flex_flow": null,
            "grid_area": null,
            "grid_auto_columns": null,
            "grid_auto_flow": null,
            "grid_auto_rows": null,
            "grid_column": null,
            "grid_gap": null,
            "grid_row": null,
            "grid_template_areas": null,
            "grid_template_columns": null,
            "grid_template_rows": null,
            "height": null,
            "justify_content": null,
            "justify_items": null,
            "left": null,
            "margin": null,
            "max_height": null,
            "max_width": null,
            "min_height": null,
            "min_width": null,
            "object_fit": null,
            "object_position": null,
            "order": null,
            "overflow": null,
            "overflow_x": null,
            "overflow_y": null,
            "padding": null,
            "right": null,
            "top": null,
            "visibility": null,
            "width": null
          }
        },
        "09d0b53c3a7a45369aaa856b6d340d31": {
          "model_module": "@jupyter-widgets/base",
          "model_module_version": "1.2.0",
          "model_name": "LayoutModel",
          "state": {
            "_model_module": "@jupyter-widgets/base",
            "_model_module_version": "1.2.0",
            "_model_name": "LayoutModel",
            "_view_count": null,
            "_view_module": "@jupyter-widgets/base",
            "_view_module_version": "1.2.0",
            "_view_name": "LayoutView",
            "align_content": null,
            "align_items": null,
            "align_self": null,
            "border": null,
            "bottom": null,
            "display": null,
            "flex": null,
            "flex_flow": null,
            "grid_area": null,
            "grid_auto_columns": null,
            "grid_auto_flow": null,
            "grid_auto_rows": null,
            "grid_column": null,
            "grid_gap": null,
            "grid_row": null,
            "grid_template_areas": null,
            "grid_template_columns": null,
            "grid_template_rows": null,
            "height": null,
            "justify_content": null,
            "justify_items": null,
            "left": null,
            "margin": null,
            "max_height": null,
            "max_width": null,
            "min_height": null,
            "min_width": null,
            "object_fit": null,
            "object_position": null,
            "order": null,
            "overflow": null,
            "overflow_x": null,
            "overflow_y": null,
            "padding": null,
            "right": null,
            "top": null,
            "visibility": null,
            "width": null
          }
        },
        "0a297fc8393e47f7a1a028661eaf4c1a": {
          "model_module": "@jupyter-widgets/controls",
          "model_module_version": "1.5.0",
          "model_name": "HBoxModel",
          "state": {
            "_dom_classes": [],
            "_model_module": "@jupyter-widgets/controls",
            "_model_module_version": "1.5.0",
            "_model_name": "HBoxModel",
            "_view_count": null,
            "_view_module": "@jupyter-widgets/controls",
            "_view_module_version": "1.5.0",
            "_view_name": "HBoxView",
            "box_style": "",
            "children": [
              "IPY_MODEL_7d8b12a280824875ad2ef8566280df0f",
              "IPY_MODEL_0e6b80d9e2ce43ceb014edd30cb928e2",
              "IPY_MODEL_9fb541fd4666427cb688c90dd9165c37"
            ],
            "layout": "IPY_MODEL_4bc80829a2a94b539c6f811ca9969137"
          }
        },
        "0a2fb582aea94cb991aa4a5e206a6a76": {
          "model_module": "@jupyter-widgets/controls",
          "model_module_version": "1.5.0",
          "model_name": "DescriptionStyleModel",
          "state": {
            "_model_module": "@jupyter-widgets/controls",
            "_model_module_version": "1.5.0",
            "_model_name": "DescriptionStyleModel",
            "_view_count": null,
            "_view_module": "@jupyter-widgets/base",
            "_view_module_version": "1.2.0",
            "_view_name": "StyleView",
            "description_width": ""
          }
        },
        "0d6f34aa0a2d49c58ff5c012043cb3cb": {
          "model_module": "@jupyter-widgets/controls",
          "model_module_version": "1.5.0",
          "model_name": "HBoxModel",
          "state": {
            "_dom_classes": [],
            "_model_module": "@jupyter-widgets/controls",
            "_model_module_version": "1.5.0",
            "_model_name": "HBoxModel",
            "_view_count": null,
            "_view_module": "@jupyter-widgets/controls",
            "_view_module_version": "1.5.0",
            "_view_name": "HBoxView",
            "box_style": "",
            "children": [
              "IPY_MODEL_4a7f24a5bb344c69bb84a37bdfa0bb37",
              "IPY_MODEL_ecf2d74e296f48d1a4d7d36b8b6aadc5",
              "IPY_MODEL_a79d1787246e4bebb93c7cd843dc9f6d"
            ],
            "layout": "IPY_MODEL_fc3a935a193e4de297b14970c10de585"
          }
        },
        "0e6b80d9e2ce43ceb014edd30cb928e2": {
          "model_module": "@jupyter-widgets/controls",
          "model_module_version": "1.5.0",
          "model_name": "FloatProgressModel",
          "state": {
            "_dom_classes": [],
            "_model_module": "@jupyter-widgets/controls",
            "_model_module_version": "1.5.0",
            "_model_name": "FloatProgressModel",
            "_view_count": null,
            "_view_module": "@jupyter-widgets/controls",
            "_view_module_version": "1.5.0",
            "_view_name": "ProgressView",
            "bar_style": "success",
            "description": "",
            "description_tooltip": null,
            "layout": "IPY_MODEL_3374804ce8a5448f8d9a362aa4f89fab",
            "max": 613,
            "min": 0,
            "orientation": "horizontal",
            "style": "IPY_MODEL_feee3739c7394506bcc7e6bd21a15649",
            "value": 613
          }
        },
        "106977f7748d4b26a475eca58386fe55": {
          "model_module": "@jupyter-widgets/controls",
          "model_module_version": "1.5.0",
          "model_name": "ProgressStyleModel",
          "state": {
            "_model_module": "@jupyter-widgets/controls",
            "_model_module_version": "1.5.0",
            "_model_name": "ProgressStyleModel",
            "_view_count": null,
            "_view_module": "@jupyter-widgets/base",
            "_view_module_version": "1.2.0",
            "_view_name": "StyleView",
            "bar_color": null,
            "description_width": ""
          }
        },
        "145647f5ae9f4ea7bd04d94ad260ded6": {
          "model_module": "@jupyter-widgets/controls",
          "model_module_version": "1.5.0",
          "model_name": "HTMLModel",
          "state": {
            "_dom_classes": [],
            "_model_module": "@jupyter-widgets/controls",
            "_model_module_version": "1.5.0",
            "_model_name": "HTMLModel",
            "_view_count": null,
            "_view_module": "@jupyter-widgets/controls",
            "_view_module_version": "1.5.0",
            "_view_name": "HTMLView",
            "description": "",
            "description_tooltip": null,
            "layout": "IPY_MODEL_cde4facee14b47bdbb719ea95c257ef1",
            "placeholder": "​",
            "style": "IPY_MODEL_1941fac90a2c4c369be6a7c9cc5a9527",
            "value": " 8/8 [00:13&lt;00:00,  1.49s/it]"
          }
        },
        "14feb2f4afef4dbcaa1889b2258d006a": {
          "model_module": "@jupyter-widgets/controls",
          "model_module_version": "1.5.0",
          "model_name": "HBoxModel",
          "state": {
            "_dom_classes": [],
            "_model_module": "@jupyter-widgets/controls",
            "_model_module_version": "1.5.0",
            "_model_name": "HBoxModel",
            "_view_count": null,
            "_view_module": "@jupyter-widgets/controls",
            "_view_module_version": "1.5.0",
            "_view_name": "HBoxView",
            "box_style": "",
            "children": [
              "IPY_MODEL_cfeef2ac5ae544d9a4265468554067fe",
              "IPY_MODEL_fc694caa3d1340f2a68f9cccb750fbb0",
              "IPY_MODEL_2a49169254e44770a473bd322d22af12"
            ],
            "layout": "IPY_MODEL_294aa2c200f24b1d98dafa7b60316764"
          }
        },
        "161ad11d6b88474aa0457db7f7a86cde": {
          "model_module": "@jupyter-widgets/base",
          "model_module_version": "1.2.0",
          "model_name": "LayoutModel",
          "state": {
            "_model_module": "@jupyter-widgets/base",
            "_model_module_version": "1.2.0",
            "_model_name": "LayoutModel",
            "_view_count": null,
            "_view_module": "@jupyter-widgets/base",
            "_view_module_version": "1.2.0",
            "_view_name": "LayoutView",
            "align_content": null,
            "align_items": null,
            "align_self": null,
            "border": null,
            "bottom": null,
            "display": null,
            "flex": null,
            "flex_flow": null,
            "grid_area": null,
            "grid_auto_columns": null,
            "grid_auto_flow": null,
            "grid_auto_rows": null,
            "grid_column": null,
            "grid_gap": null,
            "grid_row": null,
            "grid_template_areas": null,
            "grid_template_columns": null,
            "grid_template_rows": null,
            "height": null,
            "justify_content": null,
            "justify_items": null,
            "left": null,
            "margin": null,
            "max_height": null,
            "max_width": null,
            "min_height": null,
            "min_width": null,
            "object_fit": null,
            "object_position": null,
            "order": null,
            "overflow": null,
            "overflow_x": null,
            "overflow_y": null,
            "padding": null,
            "right": null,
            "top": null,
            "visibility": null,
            "width": null
          }
        },
        "16584a676e61497b947e2955204f346d": {
          "model_module": "@jupyter-widgets/controls",
          "model_module_version": "1.5.0",
          "model_name": "DescriptionStyleModel",
          "state": {
            "_model_module": "@jupyter-widgets/controls",
            "_model_module_version": "1.5.0",
            "_model_name": "DescriptionStyleModel",
            "_view_count": null,
            "_view_module": "@jupyter-widgets/base",
            "_view_module_version": "1.2.0",
            "_view_name": "StyleView",
            "description_width": ""
          }
        },
        "17eeee9dbddd4418803e860bf5206493": {
          "model_module": "@jupyter-widgets/base",
          "model_module_version": "1.2.0",
          "model_name": "LayoutModel",
          "state": {
            "_model_module": "@jupyter-widgets/base",
            "_model_module_version": "1.2.0",
            "_model_name": "LayoutModel",
            "_view_count": null,
            "_view_module": "@jupyter-widgets/base",
            "_view_module_version": "1.2.0",
            "_view_name": "LayoutView",
            "align_content": null,
            "align_items": null,
            "align_self": null,
            "border": null,
            "bottom": null,
            "display": null,
            "flex": null,
            "flex_flow": null,
            "grid_area": null,
            "grid_auto_columns": null,
            "grid_auto_flow": null,
            "grid_auto_rows": null,
            "grid_column": null,
            "grid_gap": null,
            "grid_row": null,
            "grid_template_areas": null,
            "grid_template_columns": null,
            "grid_template_rows": null,
            "height": null,
            "justify_content": null,
            "justify_items": null,
            "left": null,
            "margin": null,
            "max_height": null,
            "max_width": null,
            "min_height": null,
            "min_width": null,
            "object_fit": null,
            "object_position": null,
            "order": null,
            "overflow": null,
            "overflow_x": null,
            "overflow_y": null,
            "padding": null,
            "right": null,
            "top": null,
            "visibility": null,
            "width": null
          }
        },
        "1941fac90a2c4c369be6a7c9cc5a9527": {
          "model_module": "@jupyter-widgets/controls",
          "model_module_version": "1.5.0",
          "model_name": "DescriptionStyleModel",
          "state": {
            "_model_module": "@jupyter-widgets/controls",
            "_model_module_version": "1.5.0",
            "_model_name": "DescriptionStyleModel",
            "_view_count": null,
            "_view_module": "@jupyter-widgets/base",
            "_view_module_version": "1.2.0",
            "_view_name": "StyleView",
            "description_width": ""
          }
        },
        "1bef0600800d42eba839727bf59062cb": {
          "model_module": "@jupyter-widgets/controls",
          "model_module_version": "1.5.0",
          "model_name": "HBoxModel",
          "state": {
            "_dom_classes": [],
            "_model_module": "@jupyter-widgets/controls",
            "_model_module_version": "1.5.0",
            "_model_name": "HBoxModel",
            "_view_count": null,
            "_view_module": "@jupyter-widgets/controls",
            "_view_module_version": "1.5.0",
            "_view_name": "HBoxView",
            "box_style": "",
            "children": [
              "IPY_MODEL_8a5ed9c2bb4b49d49b4979b9bec11599",
              "IPY_MODEL_9ad9dae6948c40b1b206deb4cfb78609",
              "IPY_MODEL_0828a65ae1324e9bb7fe82ea2fc42f5b"
            ],
            "layout": "IPY_MODEL_8a69313b616640658baf2ba176d5e22a"
          }
        },
        "1bfcdd893dc3414e9f37eebfc6a8047b": {
          "model_module": "@jupyter-widgets/controls",
          "model_module_version": "1.5.0",
          "model_name": "DescriptionStyleModel",
          "state": {
            "_model_module": "@jupyter-widgets/controls",
            "_model_module_version": "1.5.0",
            "_model_name": "DescriptionStyleModel",
            "_view_count": null,
            "_view_module": "@jupyter-widgets/base",
            "_view_module_version": "1.2.0",
            "_view_name": "StyleView",
            "description_width": ""
          }
        },
        "1d0b42b3767c4ea4b0b73b2dd50c2efd": {
          "model_module": "@jupyter-widgets/base",
          "model_module_version": "1.2.0",
          "model_name": "LayoutModel",
          "state": {
            "_model_module": "@jupyter-widgets/base",
            "_model_module_version": "1.2.0",
            "_model_name": "LayoutModel",
            "_view_count": null,
            "_view_module": "@jupyter-widgets/base",
            "_view_module_version": "1.2.0",
            "_view_name": "LayoutView",
            "align_content": null,
            "align_items": null,
            "align_self": null,
            "border": null,
            "bottom": null,
            "display": null,
            "flex": null,
            "flex_flow": null,
            "grid_area": null,
            "grid_auto_columns": null,
            "grid_auto_flow": null,
            "grid_auto_rows": null,
            "grid_column": null,
            "grid_gap": null,
            "grid_row": null,
            "grid_template_areas": null,
            "grid_template_columns": null,
            "grid_template_rows": null,
            "height": null,
            "justify_content": null,
            "justify_items": null,
            "left": null,
            "margin": null,
            "max_height": null,
            "max_width": null,
            "min_height": null,
            "min_width": null,
            "object_fit": null,
            "object_position": null,
            "order": null,
            "overflow": null,
            "overflow_x": null,
            "overflow_y": null,
            "padding": null,
            "right": null,
            "top": null,
            "visibility": null,
            "width": null
          }
        },
        "1dde39a5a9a543ea826db206a9729951": {
          "model_module": "@jupyter-widgets/base",
          "model_module_version": "1.2.0",
          "model_name": "LayoutModel",
          "state": {
            "_model_module": "@jupyter-widgets/base",
            "_model_module_version": "1.2.0",
            "_model_name": "LayoutModel",
            "_view_count": null,
            "_view_module": "@jupyter-widgets/base",
            "_view_module_version": "1.2.0",
            "_view_name": "LayoutView",
            "align_content": null,
            "align_items": null,
            "align_self": null,
            "border": null,
            "bottom": null,
            "display": null,
            "flex": null,
            "flex_flow": null,
            "grid_area": null,
            "grid_auto_columns": null,
            "grid_auto_flow": null,
            "grid_auto_rows": null,
            "grid_column": null,
            "grid_gap": null,
            "grid_row": null,
            "grid_template_areas": null,
            "grid_template_columns": null,
            "grid_template_rows": null,
            "height": null,
            "justify_content": null,
            "justify_items": null,
            "left": null,
            "margin": null,
            "max_height": null,
            "max_width": null,
            "min_height": null,
            "min_width": null,
            "object_fit": null,
            "object_position": null,
            "order": null,
            "overflow": null,
            "overflow_x": null,
            "overflow_y": null,
            "padding": null,
            "right": null,
            "top": null,
            "visibility": null,
            "width": null
          }
        },
        "1e3408f0c47f4f3d841b1b0a30968f31": {
          "model_module": "@jupyter-widgets/base",
          "model_module_version": "1.2.0",
          "model_name": "LayoutModel",
          "state": {
            "_model_module": "@jupyter-widgets/base",
            "_model_module_version": "1.2.0",
            "_model_name": "LayoutModel",
            "_view_count": null,
            "_view_module": "@jupyter-widgets/base",
            "_view_module_version": "1.2.0",
            "_view_name": "LayoutView",
            "align_content": null,
            "align_items": null,
            "align_self": null,
            "border": null,
            "bottom": null,
            "display": null,
            "flex": null,
            "flex_flow": null,
            "grid_area": null,
            "grid_auto_columns": null,
            "grid_auto_flow": null,
            "grid_auto_rows": null,
            "grid_column": null,
            "grid_gap": null,
            "grid_row": null,
            "grid_template_areas": null,
            "grid_template_columns": null,
            "grid_template_rows": null,
            "height": null,
            "justify_content": null,
            "justify_items": null,
            "left": null,
            "margin": null,
            "max_height": null,
            "max_width": null,
            "min_height": null,
            "min_width": null,
            "object_fit": null,
            "object_position": null,
            "order": null,
            "overflow": null,
            "overflow_x": null,
            "overflow_y": null,
            "padding": null,
            "right": null,
            "top": null,
            "visibility": null,
            "width": null
          }
        },
        "1fb145698bde49cba1e7e15765074ac6": {
          "model_module": "@jupyter-widgets/controls",
          "model_module_version": "1.5.0",
          "model_name": "HTMLModel",
          "state": {
            "_dom_classes": [],
            "_model_module": "@jupyter-widgets/controls",
            "_model_module_version": "1.5.0",
            "_model_name": "HTMLModel",
            "_view_count": null,
            "_view_module": "@jupyter-widgets/controls",
            "_view_module_version": "1.5.0",
            "_view_name": "HTMLView",
            "description": "",
            "description_tooltip": null,
            "layout": "IPY_MODEL_d0e58309ccbe49e7aaaaa7c2153a7201",
            "placeholder": "​",
            "style": "IPY_MODEL_48ef9c38a57842739baf8e66a1cab28c",
            "value": " 493k/493k [00:00&lt;00:00, 526kB/s]"
          }
        },
        "1fc38e8ebf724f518eda76bd27c16cc3": {
          "model_module": "@jupyter-widgets/base",
          "model_module_version": "1.2.0",
          "model_name": "LayoutModel",
          "state": {
            "_model_module": "@jupyter-widgets/base",
            "_model_module_version": "1.2.0",
            "_model_name": "LayoutModel",
            "_view_count": null,
            "_view_module": "@jupyter-widgets/base",
            "_view_module_version": "1.2.0",
            "_view_name": "LayoutView",
            "align_content": null,
            "align_items": null,
            "align_self": null,
            "border": null,
            "bottom": null,
            "display": null,
            "flex": null,
            "flex_flow": null,
            "grid_area": null,
            "grid_auto_columns": null,
            "grid_auto_flow": null,
            "grid_auto_rows": null,
            "grid_column": null,
            "grid_gap": null,
            "grid_row": null,
            "grid_template_areas": null,
            "grid_template_columns": null,
            "grid_template_rows": null,
            "height": null,
            "justify_content": null,
            "justify_items": null,
            "left": null,
            "margin": null,
            "max_height": null,
            "max_width": null,
            "min_height": null,
            "min_width": null,
            "object_fit": null,
            "object_position": null,
            "order": null,
            "overflow": null,
            "overflow_x": null,
            "overflow_y": null,
            "padding": null,
            "right": null,
            "top": null,
            "visibility": null,
            "width": null
          }
        },
        "1fea3b8166134890830b07eded78a78c": {
          "model_module": "@jupyter-widgets/controls",
          "model_module_version": "1.5.0",
          "model_name": "HTMLModel",
          "state": {
            "_dom_classes": [],
            "_model_module": "@jupyter-widgets/controls",
            "_model_module_version": "1.5.0",
            "_model_name": "HTMLModel",
            "_view_count": null,
            "_view_module": "@jupyter-widgets/controls",
            "_view_module_version": "1.5.0",
            "_view_name": "HTMLView",
            "description": "",
            "description_tooltip": null,
            "layout": "IPY_MODEL_f03e5a1ddfa6456087f285af28ec8422",
            "placeholder": "​",
            "style": "IPY_MODEL_08bc6d0ff7e14c7a97d4ea700c425b93",
            "value": " 8/8 [00:13&lt;00:00,  1.52s/it]"
          }
        },
        "2405fd128a5f4e55b53c5c8aa5eed0f8": {
          "model_module": "@jupyter-widgets/controls",
          "model_module_version": "1.5.0",
          "model_name": "HTMLModel",
          "state": {
            "_dom_classes": [],
            "_model_module": "@jupyter-widgets/controls",
            "_model_module_version": "1.5.0",
            "_model_name": "HTMLModel",
            "_view_count": null,
            "_view_module": "@jupyter-widgets/controls",
            "_view_module_version": "1.5.0",
            "_view_name": "HTMLView",
            "description": "",
            "description_tooltip": null,
            "layout": "IPY_MODEL_a3617858b5ef4796b1d553b148292ccb",
            "placeholder": "​",
            "style": "IPY_MODEL_7b812ec01afe49989e84ca6fd17be3ec",
            "value": " 816M/816M [00:47&lt;00:00, 18.5MB/s]"
          }
        },
        "24cf23b284ce48c498d1a3b2f1caaf3f": {
          "model_module": "@jupyter-widgets/controls",
          "model_module_version": "1.5.0",
          "model_name": "HTMLModel",
          "state": {
            "_dom_classes": [],
            "_model_module": "@jupyter-widgets/controls",
            "_model_module_version": "1.5.0",
            "_model_name": "HTMLModel",
            "_view_count": null,
            "_view_module": "@jupyter-widgets/controls",
            "_view_module_version": "1.5.0",
            "_view_name": "HTMLView",
            "description": "",
            "description_tooltip": null,
            "layout": "IPY_MODEL_ebb0834b06f846a1bfc36f7cf806220a",
            "placeholder": "​",
            "style": "IPY_MODEL_08b66c67e15f46c1bf6831114658a11e",
            "value": "Downloading (…)l-00006-of-00008.bin: 100%"
          }
        },
        "26c593c4b7af4d5d929be3b623f07637": {
          "model_module": "@jupyter-widgets/base",
          "model_module_version": "1.2.0",
          "model_name": "LayoutModel",
          "state": {
            "_model_module": "@jupyter-widgets/base",
            "_model_module_version": "1.2.0",
            "_model_name": "LayoutModel",
            "_view_count": null,
            "_view_module": "@jupyter-widgets/base",
            "_view_module_version": "1.2.0",
            "_view_name": "LayoutView",
            "align_content": null,
            "align_items": null,
            "align_self": null,
            "border": null,
            "bottom": null,
            "display": null,
            "flex": null,
            "flex_flow": null,
            "grid_area": null,
            "grid_auto_columns": null,
            "grid_auto_flow": null,
            "grid_auto_rows": null,
            "grid_column": null,
            "grid_gap": null,
            "grid_row": null,
            "grid_template_areas": null,
            "grid_template_columns": null,
            "grid_template_rows": null,
            "height": null,
            "justify_content": null,
            "justify_items": null,
            "left": null,
            "margin": null,
            "max_height": null,
            "max_width": null,
            "min_height": null,
            "min_width": null,
            "object_fit": null,
            "object_position": null,
            "order": null,
            "overflow": null,
            "overflow_x": null,
            "overflow_y": null,
            "padding": null,
            "right": null,
            "top": null,
            "visibility": null,
            "width": null
          }
        },
        "28b433acfb83472a8bc3c26698dd9b81": {
          "model_module": "@jupyter-widgets/controls",
          "model_module_version": "1.5.0",
          "model_name": "DescriptionStyleModel",
          "state": {
            "_model_module": "@jupyter-widgets/controls",
            "_model_module_version": "1.5.0",
            "_model_name": "DescriptionStyleModel",
            "_view_count": null,
            "_view_module": "@jupyter-widgets/base",
            "_view_module_version": "1.2.0",
            "_view_name": "StyleView",
            "description_width": ""
          }
        },
        "2900815710fd4730a9c7289e5f88cd72": {
          "model_module": "@jupyter-widgets/controls",
          "model_module_version": "1.5.0",
          "model_name": "ProgressStyleModel",
          "state": {
            "_model_module": "@jupyter-widgets/controls",
            "_model_module_version": "1.5.0",
            "_model_name": "ProgressStyleModel",
            "_view_count": null,
            "_view_module": "@jupyter-widgets/base",
            "_view_module_version": "1.2.0",
            "_view_name": "StyleView",
            "bar_color": null,
            "description_width": ""
          }
        },
        "2926226a0d3d4b27b21a17fcba5b6192": {
          "model_module": "@jupyter-widgets/controls",
          "model_module_version": "1.5.0",
          "model_name": "ProgressStyleModel",
          "state": {
            "_model_module": "@jupyter-widgets/controls",
            "_model_module_version": "1.5.0",
            "_model_name": "ProgressStyleModel",
            "_view_count": null,
            "_view_module": "@jupyter-widgets/base",
            "_view_module_version": "1.2.0",
            "_view_name": "StyleView",
            "bar_color": null,
            "description_width": ""
          }
        },
        "294aa2c200f24b1d98dafa7b60316764": {
          "model_module": "@jupyter-widgets/base",
          "model_module_version": "1.2.0",
          "model_name": "LayoutModel",
          "state": {
            "_model_module": "@jupyter-widgets/base",
            "_model_module_version": "1.2.0",
            "_model_name": "LayoutModel",
            "_view_count": null,
            "_view_module": "@jupyter-widgets/base",
            "_view_module_version": "1.2.0",
            "_view_name": "LayoutView",
            "align_content": null,
            "align_items": null,
            "align_self": null,
            "border": null,
            "bottom": null,
            "display": null,
            "flex": null,
            "flex_flow": null,
            "grid_area": null,
            "grid_auto_columns": null,
            "grid_auto_flow": null,
            "grid_auto_rows": null,
            "grid_column": null,
            "grid_gap": null,
            "grid_row": null,
            "grid_template_areas": null,
            "grid_template_columns": null,
            "grid_template_rows": null,
            "height": null,
            "justify_content": null,
            "justify_items": null,
            "left": null,
            "margin": null,
            "max_height": null,
            "max_width": null,
            "min_height": null,
            "min_width": null,
            "object_fit": null,
            "object_position": null,
            "order": null,
            "overflow": null,
            "overflow_x": null,
            "overflow_y": null,
            "padding": null,
            "right": null,
            "top": null,
            "visibility": null,
            "width": null
          }
        },
        "2a49169254e44770a473bd322d22af12": {
          "model_module": "@jupyter-widgets/controls",
          "model_module_version": "1.5.0",
          "model_name": "HTMLModel",
          "state": {
            "_dom_classes": [],
            "_model_module": "@jupyter-widgets/controls",
            "_model_module_version": "1.5.0",
            "_model_name": "HTMLModel",
            "_view_count": null,
            "_view_module": "@jupyter-widgets/controls",
            "_view_module_version": "1.5.0",
            "_view_name": "HTMLView",
            "description": "",
            "description_tooltip": null,
            "layout": "IPY_MODEL_b7ebd8288cab46328b7552567b6dabfd",
            "placeholder": "​",
            "style": "IPY_MODEL_cbb931698e974e32bf6b8985cd8aca2b",
            "value": " 979/979 [00:00&lt;00:00, 76.3kB/s]"
          }
        },
        "2af098414d7c428d9d20f85357c04d91": {
          "model_module": "@jupyter-widgets/base",
          "model_module_version": "1.2.0",
          "model_name": "LayoutModel",
          "state": {
            "_model_module": "@jupyter-widgets/base",
            "_model_module_version": "1.2.0",
            "_model_name": "LayoutModel",
            "_view_count": null,
            "_view_module": "@jupyter-widgets/base",
            "_view_module_version": "1.2.0",
            "_view_name": "LayoutView",
            "align_content": null,
            "align_items": null,
            "align_self": null,
            "border": null,
            "bottom": null,
            "display": null,
            "flex": null,
            "flex_flow": null,
            "grid_area": null,
            "grid_auto_columns": null,
            "grid_auto_flow": null,
            "grid_auto_rows": null,
            "grid_column": null,
            "grid_gap": null,
            "grid_row": null,
            "grid_template_areas": null,
            "grid_template_columns": null,
            "grid_template_rows": null,
            "height": null,
            "justify_content": null,
            "justify_items": null,
            "left": null,
            "margin": null,
            "max_height": null,
            "max_width": null,
            "min_height": null,
            "min_width": null,
            "object_fit": null,
            "object_position": null,
            "order": null,
            "overflow": null,
            "overflow_x": null,
            "overflow_y": null,
            "padding": null,
            "right": null,
            "top": null,
            "visibility": null,
            "width": null
          }
        },
        "2c03ccbf41f2490b9ba1ca581cc828d1": {
          "model_module": "@jupyter-widgets/controls",
          "model_module_version": "1.5.0",
          "model_name": "HBoxModel",
          "state": {
            "_dom_classes": [],
            "_model_module": "@jupyter-widgets/controls",
            "_model_module_version": "1.5.0",
            "_model_name": "HBoxModel",
            "_view_count": null,
            "_view_module": "@jupyter-widgets/controls",
            "_view_module_version": "1.5.0",
            "_view_name": "HBoxView",
            "box_style": "",
            "children": [
              "IPY_MODEL_d74d08d3fef94d7698aa74d631727cfc",
              "IPY_MODEL_fe1fe2447afc4684aee938e92c428894",
              "IPY_MODEL_95bffd69836c4129841a8ff10ede2044"
            ],
            "layout": "IPY_MODEL_2af098414d7c428d9d20f85357c04d91"
          }
        },
        "2d9343b893cf415ab4091f63dfc43933": {
          "model_module": "@jupyter-widgets/controls",
          "model_module_version": "1.5.0",
          "model_name": "HBoxModel",
          "state": {
            "_dom_classes": [],
            "_model_module": "@jupyter-widgets/controls",
            "_model_module_version": "1.5.0",
            "_model_name": "HBoxModel",
            "_view_count": null,
            "_view_module": "@jupyter-widgets/controls",
            "_view_module_version": "1.5.0",
            "_view_name": "HBoxView",
            "box_style": "",
            "children": [
              "IPY_MODEL_87582c989074461d9a0c63062f9d3a36",
              "IPY_MODEL_a98b9934b6eb4a25bf68c36228f4d585",
              "IPY_MODEL_cf40e71a954641a8b31c1929c2ca14a2"
            ],
            "layout": "IPY_MODEL_05bb1fb283aa4b66b773dd241927d980"
          }
        },
        "2e9165006c984db38aecb30108077d6a": {
          "model_module": "@jupyter-widgets/controls",
          "model_module_version": "1.5.0",
          "model_name": "HBoxModel",
          "state": {
            "_dom_classes": [],
            "_model_module": "@jupyter-widgets/controls",
            "_model_module_version": "1.5.0",
            "_model_name": "HBoxModel",
            "_view_count": null,
            "_view_module": "@jupyter-widgets/controls",
            "_view_module_version": "1.5.0",
            "_view_name": "HBoxView",
            "box_style": "",
            "children": [
              "IPY_MODEL_5f31511f1f724b728c7eb51774a137c7",
              "IPY_MODEL_46fdd6f8d55242658efebd34a444eee0",
              "IPY_MODEL_c02643cc825a405d91bff24747cdbdf6"
            ],
            "layout": "IPY_MODEL_a17b11c4d18b4051853a6e2a13972f8e"
          }
        },
        "2fd3213ba19b4424bef1949f1388161a": {
          "model_module": "@jupyter-widgets/controls",
          "model_module_version": "1.5.0",
          "model_name": "FloatProgressModel",
          "state": {
            "_dom_classes": [],
            "_model_module": "@jupyter-widgets/controls",
            "_model_module_version": "1.5.0",
            "_model_name": "FloatProgressModel",
            "_view_count": null,
            "_view_module": "@jupyter-widgets/controls",
            "_view_module_version": "1.5.0",
            "_view_name": "ProgressView",
            "bar_style": "success",
            "description": "",
            "description_tooltip": null,
            "layout": "IPY_MODEL_86a091849e00444cbf4850d8b383b5df",
            "max": 8,
            "min": 0,
            "orientation": "horizontal",
            "style": "IPY_MODEL_91de1fea8fad49b7a786b71550634181",
            "value": 8
          }
        },
        "3027b31e17484f71b74975e1f724b37a": {
          "model_module": "@jupyter-widgets/base",
          "model_module_version": "1.2.0",
          "model_name": "LayoutModel",
          "state": {
            "_model_module": "@jupyter-widgets/base",
            "_model_module_version": "1.2.0",
            "_model_name": "LayoutModel",
            "_view_count": null,
            "_view_module": "@jupyter-widgets/base",
            "_view_module_version": "1.2.0",
            "_view_name": "LayoutView",
            "align_content": null,
            "align_items": null,
            "align_self": null,
            "border": null,
            "bottom": null,
            "display": null,
            "flex": null,
            "flex_flow": null,
            "grid_area": null,
            "grid_auto_columns": null,
            "grid_auto_flow": null,
            "grid_auto_rows": null,
            "grid_column": null,
            "grid_gap": null,
            "grid_row": null,
            "grid_template_areas": null,
            "grid_template_columns": null,
            "grid_template_rows": null,
            "height": null,
            "justify_content": null,
            "justify_items": null,
            "left": null,
            "margin": null,
            "max_height": null,
            "max_width": null,
            "min_height": null,
            "min_width": null,
            "object_fit": null,
            "object_position": null,
            "order": null,
            "overflow": null,
            "overflow_x": null,
            "overflow_y": null,
            "padding": null,
            "right": null,
            "top": null,
            "visibility": null,
            "width": null
          }
        },
        "3086052f2d2b4ae290864739e07d58e0": {
          "model_module": "@jupyter-widgets/controls",
          "model_module_version": "1.5.0",
          "model_name": "FloatProgressModel",
          "state": {
            "_dom_classes": [],
            "_model_module": "@jupyter-widgets/controls",
            "_model_module_version": "1.5.0",
            "_model_name": "FloatProgressModel",
            "_view_count": null,
            "_view_module": "@jupyter-widgets/controls",
            "_view_module_version": "1.5.0",
            "_view_name": "ProgressView",
            "bar_style": "success",
            "description": "",
            "description_tooltip": null,
            "layout": "IPY_MODEL_1fc38e8ebf724f518eda76bd27c16cc3",
            "max": 42,
            "min": 0,
            "orientation": "horizontal",
            "style": "IPY_MODEL_b3df8063e7a64f898e539c542ff25beb",
            "value": 42
          }
        },
        "30d629be139f43d7980465f172248e23": {
          "model_module": "@jupyter-widgets/controls",
          "model_module_version": "1.5.0",
          "model_name": "HTMLModel",
          "state": {
            "_dom_classes": [],
            "_model_module": "@jupyter-widgets/controls",
            "_model_module_version": "1.5.0",
            "_model_name": "HTMLModel",
            "_view_count": null,
            "_view_module": "@jupyter-widgets/controls",
            "_view_module_version": "1.5.0",
            "_view_name": "HTMLView",
            "description": "",
            "description_tooltip": null,
            "layout": "IPY_MODEL_e83fb74904af4b2785d2b9985952a538",
            "placeholder": "​",
            "style": "IPY_MODEL_7fefe46f1f1d4f6a835c3bd6e4ea811f",
            "value": "Downloading (…)model.bin.index.json: 100%"
          }
        },
        "30dc78d6c22444568957cdc6bb2248b3": {
          "model_module": "@jupyter-widgets/controls",
          "model_module_version": "1.5.0",
          "model_name": "HBoxModel",
          "state": {
            "_dom_classes": [],
            "_model_module": "@jupyter-widgets/controls",
            "_model_module_version": "1.5.0",
            "_model_name": "HBoxModel",
            "_view_count": null,
            "_view_module": "@jupyter-widgets/controls",
            "_view_module_version": "1.5.0",
            "_view_name": "HBoxView",
            "box_style": "",
            "children": [
              "IPY_MODEL_012cbb3a9e4e4fc0957de04852d6027e",
              "IPY_MODEL_3086052f2d2b4ae290864739e07d58e0",
              "IPY_MODEL_731990a440604b81b3ed63ae45cc9768"
            ],
            "layout": "IPY_MODEL_ec8b597a2c244bc89b77d8a530b0d530"
          }
        },
        "3247b002323545bc862a7343dcd363bd": {
          "model_module": "@jupyter-widgets/controls",
          "model_module_version": "1.5.0",
          "model_name": "DescriptionStyleModel",
          "state": {
            "_model_module": "@jupyter-widgets/controls",
            "_model_module_version": "1.5.0",
            "_model_name": "DescriptionStyleModel",
            "_view_count": null,
            "_view_module": "@jupyter-widgets/base",
            "_view_module_version": "1.2.0",
            "_view_name": "StyleView",
            "description_width": ""
          }
        },
        "3374804ce8a5448f8d9a362aa4f89fab": {
          "model_module": "@jupyter-widgets/base",
          "model_module_version": "1.2.0",
          "model_name": "LayoutModel",
          "state": {
            "_model_module": "@jupyter-widgets/base",
            "_model_module_version": "1.2.0",
            "_model_name": "LayoutModel",
            "_view_count": null,
            "_view_module": "@jupyter-widgets/base",
            "_view_module_version": "1.2.0",
            "_view_name": "LayoutView",
            "align_content": null,
            "align_items": null,
            "align_self": null,
            "border": null,
            "bottom": null,
            "display": null,
            "flex": null,
            "flex_flow": null,
            "grid_area": null,
            "grid_auto_columns": null,
            "grid_auto_flow": null,
            "grid_auto_rows": null,
            "grid_column": null,
            "grid_gap": null,
            "grid_row": null,
            "grid_template_areas": null,
            "grid_template_columns": null,
            "grid_template_rows": null,
            "height": null,
            "justify_content": null,
            "justify_items": null,
            "left": null,
            "margin": null,
            "max_height": null,
            "max_width": null,
            "min_height": null,
            "min_width": null,
            "object_fit": null,
            "object_position": null,
            "order": null,
            "overflow": null,
            "overflow_x": null,
            "overflow_y": null,
            "padding": null,
            "right": null,
            "top": null,
            "visibility": null,
            "width": null
          }
        },
        "3501cdb92387463e98eef1ffc16c44aa": {
          "model_module": "@jupyter-widgets/controls",
          "model_module_version": "1.5.0",
          "model_name": "HTMLModel",
          "state": {
            "_dom_classes": [],
            "_model_module": "@jupyter-widgets/controls",
            "_model_module_version": "1.5.0",
            "_model_name": "HTMLModel",
            "_view_count": null,
            "_view_module": "@jupyter-widgets/controls",
            "_view_module_version": "1.5.0",
            "_view_name": "HTMLView",
            "description": "",
            "description_tooltip": null,
            "layout": "IPY_MODEL_09d0b53c3a7a45369aaa856b6d340d31",
            "placeholder": "​",
            "style": "IPY_MODEL_6fbd6d2fd3c84da3ba38de2a3f5fe3cb",
            "value": "Downloading tokenizer.model: 100%"
          }
        },
        "37bc8ca2b6c44d39b10f8f16aaad9597": {
          "model_module": "@jupyter-widgets/controls",
          "model_module_version": "1.5.0",
          "model_name": "HTMLModel",
          "state": {
            "_dom_classes": [],
            "_model_module": "@jupyter-widgets/controls",
            "_model_module_version": "1.5.0",
            "_model_name": "HTMLModel",
            "_view_count": null,
            "_view_module": "@jupyter-widgets/controls",
            "_view_module_version": "1.5.0",
            "_view_name": "HTMLView",
            "description": "",
            "description_tooltip": null,
            "layout": "IPY_MODEL_9c2e988865a84e6a9afc99fb00cfbdd1",
            "placeholder": "​",
            "style": "IPY_MODEL_16584a676e61497b947e2955204f346d",
            "value": " 13.7M/13.7M [00:02&lt;00:00, 4.63MB/s]"
          }
        },
        "3f4f18dede8d4d62b658b80ed86faa1f": {
          "model_module": "@jupyter-widgets/controls",
          "model_module_version": "1.5.0",
          "model_name": "DescriptionStyleModel",
          "state": {
            "_model_module": "@jupyter-widgets/controls",
            "_model_module_version": "1.5.0",
            "_model_name": "DescriptionStyleModel",
            "_view_count": null,
            "_view_module": "@jupyter-widgets/base",
            "_view_module_version": "1.2.0",
            "_view_name": "StyleView",
            "description_width": ""
          }
        },
        "403ae4eb789e4d7ea9e5ebf141a4cac9": {
          "model_module": "@jupyter-widgets/base",
          "model_module_version": "1.2.0",
          "model_name": "LayoutModel",
          "state": {
            "_model_module": "@jupyter-widgets/base",
            "_model_module_version": "1.2.0",
            "_model_name": "LayoutModel",
            "_view_count": null,
            "_view_module": "@jupyter-widgets/base",
            "_view_module_version": "1.2.0",
            "_view_name": "LayoutView",
            "align_content": null,
            "align_items": null,
            "align_self": null,
            "border": null,
            "bottom": null,
            "display": null,
            "flex": null,
            "flex_flow": null,
            "grid_area": null,
            "grid_auto_columns": null,
            "grid_auto_flow": null,
            "grid_auto_rows": null,
            "grid_column": null,
            "grid_gap": null,
            "grid_row": null,
            "grid_template_areas": null,
            "grid_template_columns": null,
            "grid_template_rows": null,
            "height": null,
            "justify_content": null,
            "justify_items": null,
            "left": null,
            "margin": null,
            "max_height": null,
            "max_width": null,
            "min_height": null,
            "min_width": null,
            "object_fit": null,
            "object_position": null,
            "order": null,
            "overflow": null,
            "overflow_x": null,
            "overflow_y": null,
            "padding": null,
            "right": null,
            "top": null,
            "visibility": null,
            "width": null
          }
        },
        "42b64a689f0f4de18f0eb9f484ec1c88": {
          "model_module": "@jupyter-widgets/controls",
          "model_module_version": "1.5.0",
          "model_name": "HTMLModel",
          "state": {
            "_dom_classes": [],
            "_model_module": "@jupyter-widgets/controls",
            "_model_module_version": "1.5.0",
            "_model_name": "HTMLModel",
            "_view_count": null,
            "_view_module": "@jupyter-widgets/controls",
            "_view_module_version": "1.5.0",
            "_view_name": "HTMLView",
            "description": "",
            "description_tooltip": null,
            "layout": "IPY_MODEL_1d0b42b3767c4ea4b0b73b2dd50c2efd",
            "placeholder": "​",
            "style": "IPY_MODEL_0646b33eab9f4e0d8cd72d48ad81a67d",
            "value": " 1.98G/1.98G [02:00&lt;00:00, 16.9MB/s]"
          }
        },
        "42e5e3297ef9414fa5cf38a97e5cd049": {
          "model_module": "@jupyter-widgets/base",
          "model_module_version": "1.2.0",
          "model_name": "LayoutModel",
          "state": {
            "_model_module": "@jupyter-widgets/base",
            "_model_module_version": "1.2.0",
            "_model_name": "LayoutModel",
            "_view_count": null,
            "_view_module": "@jupyter-widgets/base",
            "_view_module_version": "1.2.0",
            "_view_name": "LayoutView",
            "align_content": null,
            "align_items": null,
            "align_self": null,
            "border": null,
            "bottom": null,
            "display": null,
            "flex": null,
            "flex_flow": null,
            "grid_area": null,
            "grid_auto_columns": null,
            "grid_auto_flow": null,
            "grid_auto_rows": null,
            "grid_column": null,
            "grid_gap": null,
            "grid_row": null,
            "grid_template_areas": null,
            "grid_template_columns": null,
            "grid_template_rows": null,
            "height": null,
            "justify_content": null,
            "justify_items": null,
            "left": null,
            "margin": null,
            "max_height": null,
            "max_width": null,
            "min_height": null,
            "min_width": null,
            "object_fit": null,
            "object_position": null,
            "order": null,
            "overflow": null,
            "overflow_x": null,
            "overflow_y": null,
            "padding": null,
            "right": null,
            "top": null,
            "visibility": null,
            "width": null
          }
        },
        "42ecdcf852884fbc9e551cc5e017636a": {
          "model_module": "@jupyter-widgets/controls",
          "model_module_version": "1.5.0",
          "model_name": "FloatProgressModel",
          "state": {
            "_dom_classes": [],
            "_model_module": "@jupyter-widgets/controls",
            "_model_module_version": "1.5.0",
            "_model_name": "FloatProgressModel",
            "_view_count": null,
            "_view_module": "@jupyter-widgets/controls",
            "_view_module_version": "1.5.0",
            "_view_name": "ProgressView",
            "bar_style": "success",
            "description": "",
            "description_tooltip": null,
            "layout": "IPY_MODEL_e774e444661a4e3395fcf38ab553ed77",
            "max": 815838027,
            "min": 0,
            "orientation": "horizontal",
            "style": "IPY_MODEL_6ac5ba98c6334fec9467b1fecc52ca62",
            "value": 815838027
          }
        },
        "45714cc01d5b49ffbde7ac4e85b8ac78": {
          "model_module": "@jupyter-widgets/controls",
          "model_module_version": "1.5.0",
          "model_name": "FloatProgressModel",
          "state": {
            "_dom_classes": [],
            "_model_module": "@jupyter-widgets/controls",
            "_model_module_version": "1.5.0",
            "_model_name": "FloatProgressModel",
            "_view_count": null,
            "_view_module": "@jupyter-widgets/controls",
            "_view_module_version": "1.5.0",
            "_view_name": "ProgressView",
            "bar_style": "success",
            "description": "",
            "description_tooltip": null,
            "layout": "IPY_MODEL_da60d661ce7d4ceca2bc5c492c8066f9",
            "max": 8,
            "min": 0,
            "orientation": "horizontal",
            "style": "IPY_MODEL_e564614067d74f00bcda4e0040051434",
            "value": 8
          }
        },
        "45d6f6aeb462426193ddc18a75b94b10": {
          "model_module": "@jupyter-widgets/base",
          "model_module_version": "1.2.0",
          "model_name": "LayoutModel",
          "state": {
            "_model_module": "@jupyter-widgets/base",
            "_model_module_version": "1.2.0",
            "_model_name": "LayoutModel",
            "_view_count": null,
            "_view_module": "@jupyter-widgets/base",
            "_view_module_version": "1.2.0",
            "_view_name": "LayoutView",
            "align_content": null,
            "align_items": null,
            "align_self": null,
            "border": null,
            "bottom": null,
            "display": null,
            "flex": null,
            "flex_flow": null,
            "grid_area": null,
            "grid_auto_columns": null,
            "grid_auto_flow": null,
            "grid_auto_rows": null,
            "grid_column": null,
            "grid_gap": null,
            "grid_row": null,
            "grid_template_areas": null,
            "grid_template_columns": null,
            "grid_template_rows": null,
            "height": null,
            "justify_content": null,
            "justify_items": null,
            "left": null,
            "margin": null,
            "max_height": null,
            "max_width": null,
            "min_height": null,
            "min_width": null,
            "object_fit": null,
            "object_position": null,
            "order": null,
            "overflow": null,
            "overflow_x": null,
            "overflow_y": null,
            "padding": null,
            "right": null,
            "top": null,
            "visibility": null,
            "width": null
          }
        },
        "46fdd6f8d55242658efebd34a444eee0": {
          "model_module": "@jupyter-widgets/controls",
          "model_module_version": "1.5.0",
          "model_name": "FloatProgressModel",
          "state": {
            "_dom_classes": [],
            "_model_module": "@jupyter-widgets/controls",
            "_model_module_version": "1.5.0",
            "_model_name": "FloatProgressModel",
            "_view_count": null,
            "_view_module": "@jupyter-widgets/controls",
            "_view_module_version": "1.5.0",
            "_view_name": "ProgressView",
            "bar_style": "success",
            "description": "",
            "description_tooltip": null,
            "layout": "IPY_MODEL_e4a3bdcf32264271915c7b7f0a79bdc1",
            "max": 1946253333,
            "min": 0,
            "orientation": "horizontal",
            "style": "IPY_MODEL_605e9f1c3fa544a38307ea8410a5223e",
            "value": 1946253333
          }
        },
        "47ea90b055f94508bb5e2e231ffdf109": {
          "model_module": "@jupyter-widgets/base",
          "model_module_version": "1.2.0",
          "model_name": "LayoutModel",
          "state": {
            "_model_module": "@jupyter-widgets/base",
            "_model_module_version": "1.2.0",
            "_model_name": "LayoutModel",
            "_view_count": null,
            "_view_module": "@jupyter-widgets/base",
            "_view_module_version": "1.2.0",
            "_view_name": "LayoutView",
            "align_content": null,
            "align_items": null,
            "align_self": null,
            "border": null,
            "bottom": null,
            "display": null,
            "flex": null,
            "flex_flow": null,
            "grid_area": null,
            "grid_auto_columns": null,
            "grid_auto_flow": null,
            "grid_auto_rows": null,
            "grid_column": null,
            "grid_gap": null,
            "grid_row": null,
            "grid_template_areas": null,
            "grid_template_columns": null,
            "grid_template_rows": null,
            "height": null,
            "justify_content": null,
            "justify_items": null,
            "left": null,
            "margin": null,
            "max_height": null,
            "max_width": null,
            "min_height": null,
            "min_width": null,
            "object_fit": null,
            "object_position": null,
            "order": null,
            "overflow": null,
            "overflow_x": null,
            "overflow_y": null,
            "padding": null,
            "right": null,
            "top": null,
            "visibility": null,
            "width": null
          }
        },
        "48382f42c641444092ac303f1386b9a4": {
          "model_module": "@jupyter-widgets/controls",
          "model_module_version": "1.5.0",
          "model_name": "DescriptionStyleModel",
          "state": {
            "_model_module": "@jupyter-widgets/controls",
            "_model_module_version": "1.5.0",
            "_model_name": "DescriptionStyleModel",
            "_view_count": null,
            "_view_module": "@jupyter-widgets/base",
            "_view_module_version": "1.2.0",
            "_view_name": "StyleView",
            "description_width": ""
          }
        },
        "483aeb854dde4062bbdff0a899f3b234": {
          "model_module": "@jupyter-widgets/controls",
          "model_module_version": "1.5.0",
          "model_name": "HBoxModel",
          "state": {
            "_dom_classes": [],
            "_model_module": "@jupyter-widgets/controls",
            "_model_module_version": "1.5.0",
            "_model_name": "HBoxModel",
            "_view_count": null,
            "_view_module": "@jupyter-widgets/controls",
            "_view_module_version": "1.5.0",
            "_view_name": "HBoxView",
            "box_style": "",
            "children": [
              "IPY_MODEL_953ac4bb69664bed863b9cbb42828927",
              "IPY_MODEL_94686916b068409d81dc037dc48335dd",
              "IPY_MODEL_c591f9812a9b42bf9d55f6cc9aa7cb71"
            ],
            "layout": "IPY_MODEL_e3eb7a6bb414409384534da4265a4865"
          }
        },
        "4896428fe76c41cbba59d30ffd3baed3": {
          "model_module": "@jupyter-widgets/controls",
          "model_module_version": "1.5.0",
          "model_name": "HBoxModel",
          "state": {
            "_dom_classes": [],
            "_model_module": "@jupyter-widgets/controls",
            "_model_module_version": "1.5.0",
            "_model_name": "HBoxModel",
            "_view_count": null,
            "_view_module": "@jupyter-widgets/controls",
            "_view_module_version": "1.5.0",
            "_view_name": "HBoxView",
            "box_style": "",
            "children": [
              "IPY_MODEL_a783f95b2b9c4c1eaaebe7fe93eca3c8",
              "IPY_MODEL_88b9e544e3c14b089b8a69aee0438680",
              "IPY_MODEL_145647f5ae9f4ea7bd04d94ad260ded6"
            ],
            "layout": "IPY_MODEL_90ee8bc5afdb4569811845d76f0ddf3f"
          }
        },
        "48ef9c38a57842739baf8e66a1cab28c": {
          "model_module": "@jupyter-widgets/controls",
          "model_module_version": "1.5.0",
          "model_name": "DescriptionStyleModel",
          "state": {
            "_model_module": "@jupyter-widgets/controls",
            "_model_module_version": "1.5.0",
            "_model_name": "DescriptionStyleModel",
            "_view_count": null,
            "_view_module": "@jupyter-widgets/base",
            "_view_module_version": "1.2.0",
            "_view_name": "StyleView",
            "description_width": ""
          }
        },
        "49ae59b7ec42471abe597462773c1f8e": {
          "model_module": "@jupyter-widgets/controls",
          "model_module_version": "1.5.0",
          "model_name": "DescriptionStyleModel",
          "state": {
            "_model_module": "@jupyter-widgets/controls",
            "_model_module_version": "1.5.0",
            "_model_name": "DescriptionStyleModel",
            "_view_count": null,
            "_view_module": "@jupyter-widgets/base",
            "_view_module_version": "1.2.0",
            "_view_name": "StyleView",
            "description_width": ""
          }
        },
        "4a5cc70dfaa94eb08112947974035067": {
          "model_module": "@jupyter-widgets/controls",
          "model_module_version": "1.5.0",
          "model_name": "DescriptionStyleModel",
          "state": {
            "_model_module": "@jupyter-widgets/controls",
            "_model_module_version": "1.5.0",
            "_model_name": "DescriptionStyleModel",
            "_view_count": null,
            "_view_module": "@jupyter-widgets/base",
            "_view_module_version": "1.2.0",
            "_view_name": "StyleView",
            "description_width": ""
          }
        },
        "4a6a88e8af564a6db053fb0b3491c051": {
          "model_module": "@jupyter-widgets/base",
          "model_module_version": "1.2.0",
          "model_name": "LayoutModel",
          "state": {
            "_model_module": "@jupyter-widgets/base",
            "_model_module_version": "1.2.0",
            "_model_name": "LayoutModel",
            "_view_count": null,
            "_view_module": "@jupyter-widgets/base",
            "_view_module_version": "1.2.0",
            "_view_name": "LayoutView",
            "align_content": null,
            "align_items": null,
            "align_self": null,
            "border": null,
            "bottom": null,
            "display": null,
            "flex": null,
            "flex_flow": null,
            "grid_area": null,
            "grid_auto_columns": null,
            "grid_auto_flow": null,
            "grid_auto_rows": null,
            "grid_column": null,
            "grid_gap": null,
            "grid_row": null,
            "grid_template_areas": null,
            "grid_template_columns": null,
            "grid_template_rows": null,
            "height": null,
            "justify_content": null,
            "justify_items": null,
            "left": null,
            "margin": null,
            "max_height": null,
            "max_width": null,
            "min_height": null,
            "min_width": null,
            "object_fit": null,
            "object_position": null,
            "order": null,
            "overflow": null,
            "overflow_x": null,
            "overflow_y": null,
            "padding": null,
            "right": null,
            "top": null,
            "visibility": null,
            "width": null
          }
        },
        "4a7f24a5bb344c69bb84a37bdfa0bb37": {
          "model_module": "@jupyter-widgets/controls",
          "model_module_version": "1.5.0",
          "model_name": "HTMLModel",
          "state": {
            "_dom_classes": [],
            "_model_module": "@jupyter-widgets/controls",
            "_model_module_version": "1.5.0",
            "_model_name": "HTMLModel",
            "_view_count": null,
            "_view_module": "@jupyter-widgets/controls",
            "_view_module_version": "1.5.0",
            "_view_name": "HTMLView",
            "description": "",
            "description_tooltip": null,
            "layout": "IPY_MODEL_fcbcb0002202422eaae46822779090b9",
            "placeholder": "​",
            "style": "IPY_MODEL_eb3bd7f8760a460e875647a7f742e2dc",
            "value": "Downloading (…)l-00007-of-00008.bin: 100%"
          }
        },
        "4b1db778c3c145d28b7ad683a8af83cc": {
          "model_module": "@jupyter-widgets/base",
          "model_module_version": "1.2.0",
          "model_name": "LayoutModel",
          "state": {
            "_model_module": "@jupyter-widgets/base",
            "_model_module_version": "1.2.0",
            "_model_name": "LayoutModel",
            "_view_count": null,
            "_view_module": "@jupyter-widgets/base",
            "_view_module_version": "1.2.0",
            "_view_name": "LayoutView",
            "align_content": null,
            "align_items": null,
            "align_self": null,
            "border": null,
            "bottom": null,
            "display": null,
            "flex": null,
            "flex_flow": null,
            "grid_area": null,
            "grid_auto_columns": null,
            "grid_auto_flow": null,
            "grid_auto_rows": null,
            "grid_column": null,
            "grid_gap": null,
            "grid_row": null,
            "grid_template_areas": null,
            "grid_template_columns": null,
            "grid_template_rows": null,
            "height": null,
            "justify_content": null,
            "justify_items": null,
            "left": null,
            "margin": null,
            "max_height": null,
            "max_width": null,
            "min_height": null,
            "min_width": null,
            "object_fit": null,
            "object_position": null,
            "order": null,
            "overflow": null,
            "overflow_x": null,
            "overflow_y": null,
            "padding": null,
            "right": null,
            "top": null,
            "visibility": null,
            "width": null
          }
        },
        "4bc80829a2a94b539c6f811ca9969137": {
          "model_module": "@jupyter-widgets/base",
          "model_module_version": "1.2.0",
          "model_name": "LayoutModel",
          "state": {
            "_model_module": "@jupyter-widgets/base",
            "_model_module_version": "1.2.0",
            "_model_name": "LayoutModel",
            "_view_count": null,
            "_view_module": "@jupyter-widgets/base",
            "_view_module_version": "1.2.0",
            "_view_name": "LayoutView",
            "align_content": null,
            "align_items": null,
            "align_self": null,
            "border": null,
            "bottom": null,
            "display": null,
            "flex": null,
            "flex_flow": null,
            "grid_area": null,
            "grid_auto_columns": null,
            "grid_auto_flow": null,
            "grid_auto_rows": null,
            "grid_column": null,
            "grid_gap": null,
            "grid_row": null,
            "grid_template_areas": null,
            "grid_template_columns": null,
            "grid_template_rows": null,
            "height": null,
            "justify_content": null,
            "justify_items": null,
            "left": null,
            "margin": null,
            "max_height": null,
            "max_width": null,
            "min_height": null,
            "min_width": null,
            "object_fit": null,
            "object_position": null,
            "order": null,
            "overflow": null,
            "overflow_x": null,
            "overflow_y": null,
            "padding": null,
            "right": null,
            "top": null,
            "visibility": null,
            "width": null
          }
        },
        "4c334838751548af83ea841f3270a921": {
          "model_module": "@jupyter-widgets/controls",
          "model_module_version": "1.5.0",
          "model_name": "DescriptionStyleModel",
          "state": {
            "_model_module": "@jupyter-widgets/controls",
            "_model_module_version": "1.5.0",
            "_model_name": "DescriptionStyleModel",
            "_view_count": null,
            "_view_module": "@jupyter-widgets/base",
            "_view_module_version": "1.2.0",
            "_view_name": "StyleView",
            "description_width": ""
          }
        },
        "4da340fdc5864a359957e40f5af55d0f": {
          "model_module": "@jupyter-widgets/base",
          "model_module_version": "1.2.0",
          "model_name": "LayoutModel",
          "state": {
            "_model_module": "@jupyter-widgets/base",
            "_model_module_version": "1.2.0",
            "_model_name": "LayoutModel",
            "_view_count": null,
            "_view_module": "@jupyter-widgets/base",
            "_view_module_version": "1.2.0",
            "_view_name": "LayoutView",
            "align_content": null,
            "align_items": null,
            "align_self": null,
            "border": null,
            "bottom": null,
            "display": null,
            "flex": null,
            "flex_flow": null,
            "grid_area": null,
            "grid_auto_columns": null,
            "grid_auto_flow": null,
            "grid_auto_rows": null,
            "grid_column": null,
            "grid_gap": null,
            "grid_row": null,
            "grid_template_areas": null,
            "grid_template_columns": null,
            "grid_template_rows": null,
            "height": null,
            "justify_content": null,
            "justify_items": null,
            "left": null,
            "margin": null,
            "max_height": null,
            "max_width": null,
            "min_height": null,
            "min_width": null,
            "object_fit": null,
            "object_position": null,
            "order": null,
            "overflow": null,
            "overflow_x": null,
            "overflow_y": null,
            "padding": null,
            "right": null,
            "top": null,
            "visibility": null,
            "width": null
          }
        },
        "4de92237adff4973afc299369a981c4a": {
          "model_module": "@jupyter-widgets/base",
          "model_module_version": "1.2.0",
          "model_name": "LayoutModel",
          "state": {
            "_model_module": "@jupyter-widgets/base",
            "_model_module_version": "1.2.0",
            "_model_name": "LayoutModel",
            "_view_count": null,
            "_view_module": "@jupyter-widgets/base",
            "_view_module_version": "1.2.0",
            "_view_name": "LayoutView",
            "align_content": null,
            "align_items": null,
            "align_self": null,
            "border": null,
            "bottom": null,
            "display": null,
            "flex": null,
            "flex_flow": null,
            "grid_area": null,
            "grid_auto_columns": null,
            "grid_auto_flow": null,
            "grid_auto_rows": null,
            "grid_column": null,
            "grid_gap": null,
            "grid_row": null,
            "grid_template_areas": null,
            "grid_template_columns": null,
            "grid_template_rows": null,
            "height": null,
            "justify_content": null,
            "justify_items": null,
            "left": null,
            "margin": null,
            "max_height": null,
            "max_width": null,
            "min_height": null,
            "min_width": null,
            "object_fit": null,
            "object_position": null,
            "order": null,
            "overflow": null,
            "overflow_x": null,
            "overflow_y": null,
            "padding": null,
            "right": null,
            "top": null,
            "visibility": null,
            "width": null
          }
        },
        "4f01065cc81c4d4f99175b2fc1aceb4a": {
          "model_module": "@jupyter-widgets/controls",
          "model_module_version": "1.5.0",
          "model_name": "FloatProgressModel",
          "state": {
            "_dom_classes": [],
            "_model_module": "@jupyter-widgets/controls",
            "_model_module_version": "1.5.0",
            "_model_name": "FloatProgressModel",
            "_view_count": null,
            "_view_module": "@jupyter-widgets/controls",
            "_view_module_version": "1.5.0",
            "_view_name": "ProgressView",
            "bar_style": "success",
            "description": "",
            "description_tooltip": null,
            "layout": "IPY_MODEL_4b1db778c3c145d28b7ad683a8af83cc",
            "max": 1979789691,
            "min": 0,
            "orientation": "horizontal",
            "style": "IPY_MODEL_2900815710fd4730a9c7289e5f88cd72",
            "value": 1979789691
          }
        },
        "503dc217eb104bb2b16cda2c58579be0": {
          "model_module": "@jupyter-widgets/controls",
          "model_module_version": "1.5.0",
          "model_name": "DescriptionStyleModel",
          "state": {
            "_model_module": "@jupyter-widgets/controls",
            "_model_module_version": "1.5.0",
            "_model_name": "DescriptionStyleModel",
            "_view_count": null,
            "_view_module": "@jupyter-widgets/base",
            "_view_module_version": "1.2.0",
            "_view_name": "StyleView",
            "description_width": ""
          }
        },
        "50e00e3d2afb4192b2dacfde0ff6b9fc": {
          "model_module": "@jupyter-widgets/base",
          "model_module_version": "1.2.0",
          "model_name": "LayoutModel",
          "state": {
            "_model_module": "@jupyter-widgets/base",
            "_model_module_version": "1.2.0",
            "_model_name": "LayoutModel",
            "_view_count": null,
            "_view_module": "@jupyter-widgets/base",
            "_view_module_version": "1.2.0",
            "_view_name": "LayoutView",
            "align_content": null,
            "align_items": null,
            "align_self": null,
            "border": null,
            "bottom": null,
            "display": null,
            "flex": null,
            "flex_flow": null,
            "grid_area": null,
            "grid_auto_columns": null,
            "grid_auto_flow": null,
            "grid_auto_rows": null,
            "grid_column": null,
            "grid_gap": null,
            "grid_row": null,
            "grid_template_areas": null,
            "grid_template_columns": null,
            "grid_template_rows": null,
            "height": null,
            "justify_content": null,
            "justify_items": null,
            "left": null,
            "margin": null,
            "max_height": null,
            "max_width": null,
            "min_height": null,
            "min_width": null,
            "object_fit": null,
            "object_position": null,
            "order": null,
            "overflow": null,
            "overflow_x": null,
            "overflow_y": null,
            "padding": null,
            "right": null,
            "top": null,
            "visibility": null,
            "width": null
          }
        },
        "57d878d9ec714a8892e7ee05aa884809": {
          "model_module": "@jupyter-widgets/controls",
          "model_module_version": "1.5.0",
          "model_name": "HBoxModel",
          "state": {
            "_dom_classes": [],
            "_model_module": "@jupyter-widgets/controls",
            "_model_module_version": "1.5.0",
            "_model_name": "HBoxModel",
            "_view_count": null,
            "_view_module": "@jupyter-widgets/controls",
            "_view_module_version": "1.5.0",
            "_view_name": "HBoxView",
            "box_style": "",
            "children": [
              "IPY_MODEL_c898f1dee1f743d286ff1d869b8a118c",
              "IPY_MODEL_42ecdcf852884fbc9e551cc5e017636a",
              "IPY_MODEL_2405fd128a5f4e55b53c5c8aa5eed0f8"
            ],
            "layout": "IPY_MODEL_ac1cda807cd64155bbcbef3b296dbe10"
          }
        },
        "5adfcc9e7cd14aaa983d1f02a523e351": {
          "model_module": "@jupyter-widgets/base",
          "model_module_version": "1.2.0",
          "model_name": "LayoutModel",
          "state": {
            "_model_module": "@jupyter-widgets/base",
            "_model_module_version": "1.2.0",
            "_model_name": "LayoutModel",
            "_view_count": null,
            "_view_module": "@jupyter-widgets/base",
            "_view_module_version": "1.2.0",
            "_view_name": "LayoutView",
            "align_content": null,
            "align_items": null,
            "align_self": null,
            "border": null,
            "bottom": null,
            "display": null,
            "flex": null,
            "flex_flow": null,
            "grid_area": null,
            "grid_auto_columns": null,
            "grid_auto_flow": null,
            "grid_auto_rows": null,
            "grid_column": null,
            "grid_gap": null,
            "grid_row": null,
            "grid_template_areas": null,
            "grid_template_columns": null,
            "grid_template_rows": null,
            "height": null,
            "justify_content": null,
            "justify_items": null,
            "left": null,
            "margin": null,
            "max_height": null,
            "max_width": null,
            "min_height": null,
            "min_width": null,
            "object_fit": null,
            "object_position": null,
            "order": null,
            "overflow": null,
            "overflow_x": null,
            "overflow_y": null,
            "padding": null,
            "right": null,
            "top": null,
            "visibility": null,
            "width": null
          }
        },
        "5d06a067fbdc405f9ba7412b2c85205d": {
          "model_module": "@jupyter-widgets/controls",
          "model_module_version": "1.5.0",
          "model_name": "ProgressStyleModel",
          "state": {
            "_model_module": "@jupyter-widgets/controls",
            "_model_module_version": "1.5.0",
            "_model_name": "ProgressStyleModel",
            "_view_count": null,
            "_view_module": "@jupyter-widgets/base",
            "_view_module_version": "1.2.0",
            "_view_name": "StyleView",
            "bar_color": null,
            "description_width": ""
          }
        },
        "5da275156ee34275a12b2c62aa000044": {
          "model_module": "@jupyter-widgets/controls",
          "model_module_version": "1.5.0",
          "model_name": "HBoxModel",
          "state": {
            "_dom_classes": [],
            "_model_module": "@jupyter-widgets/controls",
            "_model_module_version": "1.5.0",
            "_model_name": "HBoxModel",
            "_view_count": null,
            "_view_module": "@jupyter-widgets/controls",
            "_view_module_version": "1.5.0",
            "_view_name": "HBoxView",
            "box_style": "",
            "children": [
              "IPY_MODEL_8115f7e98f8b4a0ead8f99ea075e8584",
              "IPY_MODEL_88b35f61fc1e4912b1741f6fc45a4779",
              "IPY_MODEL_96e31777fa254c208bd4156b6a323839"
            ],
            "layout": "IPY_MODEL_96db57f4239a44d3adf27284384ca7fb"
          }
        },
        "5dadaa06229f4c8f86a1b007257d2021": {
          "model_module": "@jupyter-widgets/controls",
          "model_module_version": "1.5.0",
          "model_name": "HBoxModel",
          "state": {
            "_dom_classes": [],
            "_model_module": "@jupyter-widgets/controls",
            "_model_module_version": "1.5.0",
            "_model_name": "HBoxModel",
            "_view_count": null,
            "_view_module": "@jupyter-widgets/controls",
            "_view_module_version": "1.5.0",
            "_view_name": "HBoxView",
            "box_style": "",
            "children": [
              "IPY_MODEL_3501cdb92387463e98eef1ffc16c44aa",
              "IPY_MODEL_5fa8e6bdb6264350a2d7dbcc1a0856e6",
              "IPY_MODEL_1fb145698bde49cba1e7e15765074ac6"
            ],
            "layout": "IPY_MODEL_4da340fdc5864a359957e40f5af55d0f"
          }
        },
        "5eec3bd7f34e48e3a3731738719df42f": {
          "model_module": "@jupyter-widgets/base",
          "model_module_version": "1.2.0",
          "model_name": "LayoutModel",
          "state": {
            "_model_module": "@jupyter-widgets/base",
            "_model_module_version": "1.2.0",
            "_model_name": "LayoutModel",
            "_view_count": null,
            "_view_module": "@jupyter-widgets/base",
            "_view_module_version": "1.2.0",
            "_view_name": "LayoutView",
            "align_content": null,
            "align_items": null,
            "align_self": null,
            "border": null,
            "bottom": null,
            "display": null,
            "flex": null,
            "flex_flow": null,
            "grid_area": null,
            "grid_auto_columns": null,
            "grid_auto_flow": null,
            "grid_auto_rows": null,
            "grid_column": null,
            "grid_gap": null,
            "grid_row": null,
            "grid_template_areas": null,
            "grid_template_columns": null,
            "grid_template_rows": null,
            "height": null,
            "justify_content": null,
            "justify_items": null,
            "left": null,
            "margin": null,
            "max_height": null,
            "max_width": null,
            "min_height": null,
            "min_width": null,
            "object_fit": null,
            "object_position": null,
            "order": null,
            "overflow": null,
            "overflow_x": null,
            "overflow_y": null,
            "padding": null,
            "right": null,
            "top": null,
            "visibility": null,
            "width": null
          }
        },
        "5f31511f1f724b728c7eb51774a137c7": {
          "model_module": "@jupyter-widgets/controls",
          "model_module_version": "1.5.0",
          "model_name": "HTMLModel",
          "state": {
            "_dom_classes": [],
            "_model_module": "@jupyter-widgets/controls",
            "_model_module_version": "1.5.0",
            "_model_name": "HTMLModel",
            "_view_count": null,
            "_view_module": "@jupyter-widgets/controls",
            "_view_module_version": "1.5.0",
            "_view_name": "HTMLView",
            "description": "",
            "description_tooltip": null,
            "layout": "IPY_MODEL_c4effdf74c064d5b901dca17429737a6",
            "placeholder": "​",
            "style": "IPY_MODEL_f175997e07cb43d98230bf18555a73ed",
            "value": "Downloading (…)l-00004-of-00008.bin: 100%"
          }
        },
        "5fa8e6bdb6264350a2d7dbcc1a0856e6": {
          "model_module": "@jupyter-widgets/controls",
          "model_module_version": "1.5.0",
          "model_name": "FloatProgressModel",
          "state": {
            "_dom_classes": [],
            "_model_module": "@jupyter-widgets/controls",
            "_model_module_version": "1.5.0",
            "_model_name": "FloatProgressModel",
            "_view_count": null,
            "_view_module": "@jupyter-widgets/controls",
            "_view_module_version": "1.5.0",
            "_view_name": "ProgressView",
            "bar_style": "success",
            "description": "",
            "description_tooltip": null,
            "layout": "IPY_MODEL_7a80e5cdda994d8bb3af6e03bb4508b2",
            "max": 493443,
            "min": 0,
            "orientation": "horizontal",
            "style": "IPY_MODEL_bdd22fa6edaf427d9148ae34f5e98c1f",
            "value": 493443
          }
        },
        "6033932bbaf2457793583673f5c90909": {
          "model_module": "@jupyter-widgets/controls",
          "model_module_version": "1.5.0",
          "model_name": "HTMLModel",
          "state": {
            "_dom_classes": [],
            "_model_module": "@jupyter-widgets/controls",
            "_model_module_version": "1.5.0",
            "_model_name": "HTMLModel",
            "_view_count": null,
            "_view_module": "@jupyter-widgets/controls",
            "_view_module_version": "1.5.0",
            "_view_name": "HTMLView",
            "description": "",
            "description_tooltip": null,
            "layout": "IPY_MODEL_5adfcc9e7cd14aaa983d1f02a523e351",
            "placeholder": "​",
            "style": "IPY_MODEL_b42afdefa3c04c2f9fb046311fa6f2cc",
            "value": "Loading checkpoint shards: 100%"
          }
        },
        "605e9f1c3fa544a38307ea8410a5223e": {
          "model_module": "@jupyter-widgets/controls",
          "model_module_version": "1.5.0",
          "model_name": "ProgressStyleModel",
          "state": {
            "_model_module": "@jupyter-widgets/controls",
            "_model_module_version": "1.5.0",
            "_model_name": "ProgressStyleModel",
            "_view_count": null,
            "_view_module": "@jupyter-widgets/base",
            "_view_module_version": "1.2.0",
            "_view_name": "StyleView",
            "bar_color": null,
            "description_width": ""
          }
        },
        "60f04250ebc24e46a17e0a9750cf2c4c": {
          "model_module": "@jupyter-widgets/controls",
          "model_module_version": "1.5.0",
          "model_name": "HTMLModel",
          "state": {
            "_dom_classes": [],
            "_model_module": "@jupyter-widgets/controls",
            "_model_module_version": "1.5.0",
            "_model_name": "HTMLModel",
            "_view_count": null,
            "_view_module": "@jupyter-widgets/controls",
            "_view_module_version": "1.5.0",
            "_view_name": "HTMLView",
            "description": "",
            "description_tooltip": null,
            "layout": "IPY_MODEL_1e3408f0c47f4f3d841b1b0a30968f31",
            "placeholder": "​",
            "style": "IPY_MODEL_4a5cc70dfaa94eb08112947974035067",
            "value": "Downloading shards: 100%"
          }
        },
        "6432be8da15f4f20819140774d73a3d6": {
          "model_module": "@jupyter-widgets/base",
          "model_module_version": "1.2.0",
          "model_name": "LayoutModel",
          "state": {
            "_model_module": "@jupyter-widgets/base",
            "_model_module_version": "1.2.0",
            "_model_name": "LayoutModel",
            "_view_count": null,
            "_view_module": "@jupyter-widgets/base",
            "_view_module_version": "1.2.0",
            "_view_name": "LayoutView",
            "align_content": null,
            "align_items": null,
            "align_self": null,
            "border": null,
            "bottom": null,
            "display": null,
            "flex": null,
            "flex_flow": null,
            "grid_area": null,
            "grid_auto_columns": null,
            "grid_auto_flow": null,
            "grid_auto_rows": null,
            "grid_column": null,
            "grid_gap": null,
            "grid_row": null,
            "grid_template_areas": null,
            "grid_template_columns": null,
            "grid_template_rows": null,
            "height": null,
            "justify_content": null,
            "justify_items": null,
            "left": null,
            "margin": null,
            "max_height": null,
            "max_width": null,
            "min_height": null,
            "min_width": null,
            "object_fit": null,
            "object_position": null,
            "order": null,
            "overflow": null,
            "overflow_x": null,
            "overflow_y": null,
            "padding": null,
            "right": null,
            "top": null,
            "visibility": null,
            "width": null
          }
        },
        "65b0cab2494c4e1e93f995ec58714a9d": {
          "model_module": "@jupyter-widgets/controls",
          "model_module_version": "1.5.0",
          "model_name": "FloatProgressModel",
          "state": {
            "_dom_classes": [],
            "_model_module": "@jupyter-widgets/controls",
            "_model_module_version": "1.5.0",
            "_model_name": "FloatProgressModel",
            "_view_count": null,
            "_view_module": "@jupyter-widgets/controls",
            "_view_module_version": "1.5.0",
            "_view_name": "ProgressView",
            "bar_style": "success",
            "description": "",
            "description_tooltip": null,
            "layout": "IPY_MODEL_a37cf02706e2436d88594798540d3af7",
            "max": 13677261,
            "min": 0,
            "orientation": "horizontal",
            "style": "IPY_MODEL_e96452b751ed445aa4f22720d3c560f2",
            "value": 13677261
          }
        },
        "661a5cc69f0b43af9ccfd3b9d7ce9511": {
          "model_module": "@jupyter-widgets/controls",
          "model_module_version": "1.5.0",
          "model_name": "DescriptionStyleModel",
          "state": {
            "_model_module": "@jupyter-widgets/controls",
            "_model_module_version": "1.5.0",
            "_model_name": "DescriptionStyleModel",
            "_view_count": null,
            "_view_module": "@jupyter-widgets/base",
            "_view_module_version": "1.2.0",
            "_view_name": "StyleView",
            "description_width": ""
          }
        },
        "664d6baed1a44edb822be963fe3a90bb": {
          "model_module": "@jupyter-widgets/base",
          "model_module_version": "1.2.0",
          "model_name": "LayoutModel",
          "state": {
            "_model_module": "@jupyter-widgets/base",
            "_model_module_version": "1.2.0",
            "_model_name": "LayoutModel",
            "_view_count": null,
            "_view_module": "@jupyter-widgets/base",
            "_view_module_version": "1.2.0",
            "_view_name": "LayoutView",
            "align_content": null,
            "align_items": null,
            "align_self": null,
            "border": null,
            "bottom": null,
            "display": null,
            "flex": null,
            "flex_flow": null,
            "grid_area": null,
            "grid_auto_columns": null,
            "grid_auto_flow": null,
            "grid_auto_rows": null,
            "grid_column": null,
            "grid_gap": null,
            "grid_row": null,
            "grid_template_areas": null,
            "grid_template_columns": null,
            "grid_template_rows": null,
            "height": null,
            "justify_content": null,
            "justify_items": null,
            "left": null,
            "margin": null,
            "max_height": null,
            "max_width": null,
            "min_height": null,
            "min_width": null,
            "object_fit": null,
            "object_position": null,
            "order": null,
            "overflow": null,
            "overflow_x": null,
            "overflow_y": null,
            "padding": null,
            "right": null,
            "top": null,
            "visibility": null,
            "width": null
          }
        },
        "665e8971825048788272aff186b62d8f": {
          "model_module": "@jupyter-widgets/base",
          "model_module_version": "1.2.0",
          "model_name": "LayoutModel",
          "state": {
            "_model_module": "@jupyter-widgets/base",
            "_model_module_version": "1.2.0",
            "_model_name": "LayoutModel",
            "_view_count": null,
            "_view_module": "@jupyter-widgets/base",
            "_view_module_version": "1.2.0",
            "_view_name": "LayoutView",
            "align_content": null,
            "align_items": null,
            "align_self": null,
            "border": null,
            "bottom": null,
            "display": null,
            "flex": null,
            "flex_flow": null,
            "grid_area": null,
            "grid_auto_columns": null,
            "grid_auto_flow": null,
            "grid_auto_rows": null,
            "grid_column": null,
            "grid_gap": null,
            "grid_row": null,
            "grid_template_areas": null,
            "grid_template_columns": null,
            "grid_template_rows": null,
            "height": null,
            "justify_content": null,
            "justify_items": null,
            "left": null,
            "margin": null,
            "max_height": null,
            "max_width": null,
            "min_height": null,
            "min_width": null,
            "object_fit": null,
            "object_position": null,
            "order": null,
            "overflow": null,
            "overflow_x": null,
            "overflow_y": null,
            "padding": null,
            "right": null,
            "top": null,
            "visibility": null,
            "width": null
          }
        },
        "6748162fa04c42a6b8b10aca065fed17": {
          "model_module": "@jupyter-widgets/controls",
          "model_module_version": "1.5.0",
          "model_name": "DescriptionStyleModel",
          "state": {
            "_model_module": "@jupyter-widgets/controls",
            "_model_module_version": "1.5.0",
            "_model_name": "DescriptionStyleModel",
            "_view_count": null,
            "_view_module": "@jupyter-widgets/base",
            "_view_module_version": "1.2.0",
            "_view_name": "StyleView",
            "description_width": ""
          }
        },
        "6758da889bba4cc88dd73abc68b0075f": {
          "model_module": "@jupyter-widgets/controls",
          "model_module_version": "1.5.0",
          "model_name": "FloatProgressModel",
          "state": {
            "_dom_classes": [],
            "_model_module": "@jupyter-widgets/controls",
            "_model_module_version": "1.5.0",
            "_model_name": "FloatProgressModel",
            "_view_count": null,
            "_view_module": "@jupyter-widgets/controls",
            "_view_module_version": "1.5.0",
            "_view_name": "ProgressView",
            "bar_style": "success",
            "description": "",
            "description_tooltip": null,
            "layout": "IPY_MODEL_ea22709537ad4a45846f1194f5f17d62",
            "max": 23950,
            "min": 0,
            "orientation": "horizontal",
            "style": "IPY_MODEL_d5bd19e9d2704a86b9acf6980adeb767",
            "value": 23950
          }
        },
        "6ac5ba98c6334fec9467b1fecc52ca62": {
          "model_module": "@jupyter-widgets/controls",
          "model_module_version": "1.5.0",
          "model_name": "ProgressStyleModel",
          "state": {
            "_model_module": "@jupyter-widgets/controls",
            "_model_module_version": "1.5.0",
            "_model_name": "ProgressStyleModel",
            "_view_count": null,
            "_view_module": "@jupyter-widgets/base",
            "_view_module_version": "1.2.0",
            "_view_name": "StyleView",
            "bar_color": null,
            "description_width": ""
          }
        },
        "6f3b4b3d99ab42dc9caabdc6daa52b24": {
          "model_module": "@jupyter-widgets/controls",
          "model_module_version": "1.5.0",
          "model_name": "ProgressStyleModel",
          "state": {
            "_model_module": "@jupyter-widgets/controls",
            "_model_module_version": "1.5.0",
            "_model_name": "ProgressStyleModel",
            "_view_count": null,
            "_view_module": "@jupyter-widgets/base",
            "_view_module_version": "1.2.0",
            "_view_name": "StyleView",
            "bar_color": null,
            "description_width": ""
          }
        },
        "6fbd6d2fd3c84da3ba38de2a3f5fe3cb": {
          "model_module": "@jupyter-widgets/controls",
          "model_module_version": "1.5.0",
          "model_name": "DescriptionStyleModel",
          "state": {
            "_model_module": "@jupyter-widgets/controls",
            "_model_module_version": "1.5.0",
            "_model_name": "DescriptionStyleModel",
            "_view_count": null,
            "_view_module": "@jupyter-widgets/base",
            "_view_module_version": "1.2.0",
            "_view_name": "StyleView",
            "description_width": ""
          }
        },
        "70d00c5419c1471184820a344dc52baf": {
          "model_module": "@jupyter-widgets/controls",
          "model_module_version": "1.5.0",
          "model_name": "HBoxModel",
          "state": {
            "_dom_classes": [],
            "_model_module": "@jupyter-widgets/controls",
            "_model_module_version": "1.5.0",
            "_model_name": "HBoxModel",
            "_view_count": null,
            "_view_module": "@jupyter-widgets/controls",
            "_view_module_version": "1.5.0",
            "_view_name": "HBoxView",
            "box_style": "",
            "children": [
              "IPY_MODEL_6033932bbaf2457793583673f5c90909",
              "IPY_MODEL_2fd3213ba19b4424bef1949f1388161a",
              "IPY_MODEL_ea78190233c74bb7b8d4c120415a45e5"
            ],
            "layout": "IPY_MODEL_1dde39a5a9a543ea826db206a9729951"
          }
        },
        "71430f00ae4f428489e8cd63b0ae3628": {
          "model_module": "@jupyter-widgets/base",
          "model_module_version": "1.2.0",
          "model_name": "LayoutModel",
          "state": {
            "_model_module": "@jupyter-widgets/base",
            "_model_module_version": "1.2.0",
            "_model_name": "LayoutModel",
            "_view_count": null,
            "_view_module": "@jupyter-widgets/base",
            "_view_module_version": "1.2.0",
            "_view_name": "LayoutView",
            "align_content": null,
            "align_items": null,
            "align_self": null,
            "border": null,
            "bottom": null,
            "display": null,
            "flex": null,
            "flex_flow": null,
            "grid_area": null,
            "grid_auto_columns": null,
            "grid_auto_flow": null,
            "grid_auto_rows": null,
            "grid_column": null,
            "grid_gap": null,
            "grid_row": null,
            "grid_template_areas": null,
            "grid_template_columns": null,
            "grid_template_rows": null,
            "height": null,
            "justify_content": null,
            "justify_items": null,
            "left": null,
            "margin": null,
            "max_height": null,
            "max_width": null,
            "min_height": null,
            "min_width": null,
            "object_fit": null,
            "object_position": null,
            "order": null,
            "overflow": null,
            "overflow_x": null,
            "overflow_y": null,
            "padding": null,
            "right": null,
            "top": null,
            "visibility": null,
            "width": null
          }
        },
        "72b86f1517034bc1840e0e47a933996a": {
          "model_module": "@jupyter-widgets/controls",
          "model_module_version": "1.5.0",
          "model_name": "HTMLModel",
          "state": {
            "_dom_classes": [],
            "_model_module": "@jupyter-widgets/controls",
            "_model_module_version": "1.5.0",
            "_model_name": "HTMLModel",
            "_view_count": null,
            "_view_module": "@jupyter-widgets/controls",
            "_view_module_version": "1.5.0",
            "_view_name": "HTMLView",
            "description": "",
            "description_tooltip": null,
            "layout": "IPY_MODEL_eb0de34548c24cafba71f9a7c53fbe82",
            "placeholder": "​",
            "style": "IPY_MODEL_0a2fb582aea94cb991aa4a5e206a6a76",
            "value": " 8/8 [00:02&lt;00:00,  3.75it/s]"
          }
        },
        "731990a440604b81b3ed63ae45cc9768": {
          "model_module": "@jupyter-widgets/controls",
          "model_module_version": "1.5.0",
          "model_name": "HTMLModel",
          "state": {
            "_dom_classes": [],
            "_model_module": "@jupyter-widgets/controls",
            "_model_module_version": "1.5.0",
            "_model_name": "HTMLModel",
            "_view_count": null,
            "_view_module": "@jupyter-widgets/controls",
            "_view_module_version": "1.5.0",
            "_view_name": "HTMLView",
            "description": "",
            "description_tooltip": null,
            "layout": "IPY_MODEL_4de92237adff4973afc299369a981c4a",
            "placeholder": "​",
            "style": "IPY_MODEL_d86264c81ca44a729d32956ebc8ccb2a",
            "value": " 42.0/42.0 [00:00&lt;00:00, 3.43kB/s]"
          }
        },
        "758fae16ad374571b29e7f2e8a334e71": {
          "model_module": "@jupyter-widgets/base",
          "model_module_version": "1.2.0",
          "model_name": "LayoutModel",
          "state": {
            "_model_module": "@jupyter-widgets/base",
            "_model_module_version": "1.2.0",
            "_model_name": "LayoutModel",
            "_view_count": null,
            "_view_module": "@jupyter-widgets/base",
            "_view_module_version": "1.2.0",
            "_view_name": "LayoutView",
            "align_content": null,
            "align_items": null,
            "align_self": null,
            "border": null,
            "bottom": null,
            "display": null,
            "flex": null,
            "flex_flow": null,
            "grid_area": null,
            "grid_auto_columns": null,
            "grid_auto_flow": null,
            "grid_auto_rows": null,
            "grid_column": null,
            "grid_gap": null,
            "grid_row": null,
            "grid_template_areas": null,
            "grid_template_columns": null,
            "grid_template_rows": null,
            "height": null,
            "justify_content": null,
            "justify_items": null,
            "left": null,
            "margin": null,
            "max_height": null,
            "max_width": null,
            "min_height": null,
            "min_width": null,
            "object_fit": null,
            "object_position": null,
            "order": null,
            "overflow": null,
            "overflow_x": null,
            "overflow_y": null,
            "padding": null,
            "right": null,
            "top": null,
            "visibility": null,
            "width": null
          }
        },
        "76811628f4db49c98f9358056516e01d": {
          "model_module": "@jupyter-widgets/controls",
          "model_module_version": "1.5.0",
          "model_name": "FloatProgressModel",
          "state": {
            "_dom_classes": [],
            "_model_module": "@jupyter-widgets/controls",
            "_model_module_version": "1.5.0",
            "_model_name": "FloatProgressModel",
            "_view_count": null,
            "_view_module": "@jupyter-widgets/controls",
            "_view_module_version": "1.5.0",
            "_view_name": "ProgressView",
            "bar_style": "success",
            "description": "",
            "description_tooltip": null,
            "layout": "IPY_MODEL_17eeee9dbddd4418803e860bf5206493",
            "max": 145,
            "min": 0,
            "orientation": "horizontal",
            "style": "IPY_MODEL_106977f7748d4b26a475eca58386fe55",
            "value": 145
          }
        },
        "77eb19ec1d274e96a18274fe96505c42": {
          "model_module": "@jupyter-widgets/controls",
          "model_module_version": "1.5.0",
          "model_name": "FloatProgressModel",
          "state": {
            "_dom_classes": [],
            "_model_module": "@jupyter-widgets/controls",
            "_model_module_version": "1.5.0",
            "_model_name": "FloatProgressModel",
            "_view_count": null,
            "_view_module": "@jupyter-widgets/controls",
            "_view_module_version": "1.5.0",
            "_view_name": "ProgressView",
            "bar_style": "success",
            "description": "",
            "description_tooltip": null,
            "layout": "IPY_MODEL_fc683093c4f34ebb9b68e050df1cdf6a",
            "max": 1946253333,
            "min": 0,
            "orientation": "horizontal",
            "style": "IPY_MODEL_b8415212057b4ea39d8d8f2ffbc3a089",
            "value": 1946253333
          }
        },
        "790d002de2a344a8a246bd63d1943281": {
          "model_module": "@jupyter-widgets/controls",
          "model_module_version": "1.5.0",
          "model_name": "HTMLModel",
          "state": {
            "_dom_classes": [],
            "_model_module": "@jupyter-widgets/controls",
            "_model_module_version": "1.5.0",
            "_model_name": "HTMLModel",
            "_view_count": null,
            "_view_module": "@jupyter-widgets/controls",
            "_view_module_version": "1.5.0",
            "_view_name": "HTMLView",
            "description": "",
            "description_tooltip": null,
            "layout": "IPY_MODEL_c68fa01092fc4a8991dd868439712ffc",
            "placeholder": "​",
            "style": "IPY_MODEL_503dc217eb104bb2b16cda2c58579be0",
            "value": "Downloading adapter_model.bin: 100%"
          }
        },
        "791ffc5ba8504dfbb626135447602222": {
          "model_module": "@jupyter-widgets/controls",
          "model_module_version": "1.5.0",
          "model_name": "DescriptionStyleModel",
          "state": {
            "_model_module": "@jupyter-widgets/controls",
            "_model_module_version": "1.5.0",
            "_model_name": "DescriptionStyleModel",
            "_view_count": null,
            "_view_module": "@jupyter-widgets/base",
            "_view_module_version": "1.2.0",
            "_view_name": "StyleView",
            "description_width": ""
          }
        },
        "7a12b5b796a141668cce0d1dea4895ef": {
          "model_module": "@jupyter-widgets/controls",
          "model_module_version": "1.5.0",
          "model_name": "HTMLModel",
          "state": {
            "_dom_classes": [],
            "_model_module": "@jupyter-widgets/controls",
            "_model_module_version": "1.5.0",
            "_model_name": "HTMLModel",
            "_view_count": null,
            "_view_module": "@jupyter-widgets/controls",
            "_view_module_version": "1.5.0",
            "_view_name": "HTMLView",
            "description": "",
            "description_tooltip": null,
            "layout": "IPY_MODEL_47ea90b055f94508bb5e2e231ffdf109",
            "placeholder": "​",
            "style": "IPY_MODEL_7caa4a6b694240c7a6a716daa31cdfa7",
            "value": " 23.9k/23.9k [00:00&lt;00:00, 2.11MB/s]"
          }
        },
        "7a80e5cdda994d8bb3af6e03bb4508b2": {
          "model_module": "@jupyter-widgets/base",
          "model_module_version": "1.2.0",
          "model_name": "LayoutModel",
          "state": {
            "_model_module": "@jupyter-widgets/base",
            "_model_module_version": "1.2.0",
            "_model_name": "LayoutModel",
            "_view_count": null,
            "_view_module": "@jupyter-widgets/base",
            "_view_module_version": "1.2.0",
            "_view_name": "LayoutView",
            "align_content": null,
            "align_items": null,
            "align_self": null,
            "border": null,
            "bottom": null,
            "display": null,
            "flex": null,
            "flex_flow": null,
            "grid_area": null,
            "grid_auto_columns": null,
            "grid_auto_flow": null,
            "grid_auto_rows": null,
            "grid_column": null,
            "grid_gap": null,
            "grid_row": null,
            "grid_template_areas": null,
            "grid_template_columns": null,
            "grid_template_rows": null,
            "height": null,
            "justify_content": null,
            "justify_items": null,
            "left": null,
            "margin": null,
            "max_height": null,
            "max_width": null,
            "min_height": null,
            "min_width": null,
            "object_fit": null,
            "object_position": null,
            "order": null,
            "overflow": null,
            "overflow_x": null,
            "overflow_y": null,
            "padding": null,
            "right": null,
            "top": null,
            "visibility": null,
            "width": null
          }
        },
        "7b3e629f3aed4a439ff3126214a5cf7c": {
          "model_module": "@jupyter-widgets/base",
          "model_module_version": "1.2.0",
          "model_name": "LayoutModel",
          "state": {
            "_model_module": "@jupyter-widgets/base",
            "_model_module_version": "1.2.0",
            "_model_name": "LayoutModel",
            "_view_count": null,
            "_view_module": "@jupyter-widgets/base",
            "_view_module_version": "1.2.0",
            "_view_name": "LayoutView",
            "align_content": null,
            "align_items": null,
            "align_self": null,
            "border": null,
            "bottom": null,
            "display": null,
            "flex": null,
            "flex_flow": null,
            "grid_area": null,
            "grid_auto_columns": null,
            "grid_auto_flow": null,
            "grid_auto_rows": null,
            "grid_column": null,
            "grid_gap": null,
            "grid_row": null,
            "grid_template_areas": null,
            "grid_template_columns": null,
            "grid_template_rows": null,
            "height": null,
            "justify_content": null,
            "justify_items": null,
            "left": null,
            "margin": null,
            "max_height": null,
            "max_width": null,
            "min_height": null,
            "min_width": null,
            "object_fit": null,
            "object_position": null,
            "order": null,
            "overflow": null,
            "overflow_x": null,
            "overflow_y": null,
            "padding": null,
            "right": null,
            "top": null,
            "visibility": null,
            "width": null
          }
        },
        "7b812ec01afe49989e84ca6fd17be3ec": {
          "model_module": "@jupyter-widgets/controls",
          "model_module_version": "1.5.0",
          "model_name": "DescriptionStyleModel",
          "state": {
            "_model_module": "@jupyter-widgets/controls",
            "_model_module_version": "1.5.0",
            "_model_name": "DescriptionStyleModel",
            "_view_count": null,
            "_view_module": "@jupyter-widgets/base",
            "_view_module_version": "1.2.0",
            "_view_name": "StyleView",
            "description_width": ""
          }
        },
        "7caa4a6b694240c7a6a716daa31cdfa7": {
          "model_module": "@jupyter-widgets/controls",
          "model_module_version": "1.5.0",
          "model_name": "DescriptionStyleModel",
          "state": {
            "_model_module": "@jupyter-widgets/controls",
            "_model_module_version": "1.5.0",
            "_model_name": "DescriptionStyleModel",
            "_view_count": null,
            "_view_module": "@jupyter-widgets/base",
            "_view_module_version": "1.2.0",
            "_view_name": "StyleView",
            "description_width": ""
          }
        },
        "7d8b12a280824875ad2ef8566280df0f": {
          "model_module": "@jupyter-widgets/controls",
          "model_module_version": "1.5.0",
          "model_name": "HTMLModel",
          "state": {
            "_dom_classes": [],
            "_model_module": "@jupyter-widgets/controls",
            "_model_module_version": "1.5.0",
            "_model_name": "HTMLModel",
            "_view_count": null,
            "_view_module": "@jupyter-widgets/controls",
            "_view_module_version": "1.5.0",
            "_view_name": "HTMLView",
            "description": "",
            "description_tooltip": null,
            "layout": "IPY_MODEL_26c593c4b7af4d5d929be3b623f07637",
            "placeholder": "​",
            "style": "IPY_MODEL_661a5cc69f0b43af9ccfd3b9d7ce9511",
            "value": "Downloading (…)lve/main/config.json: 100%"
          }
        },
        "7ecdcc0bc1d749ddbbf50559ecdbcca5": {
          "model_module": "@jupyter-widgets/base",
          "model_module_version": "1.2.0",
          "model_name": "LayoutModel",
          "state": {
            "_model_module": "@jupyter-widgets/base",
            "_model_module_version": "1.2.0",
            "_model_name": "LayoutModel",
            "_view_count": null,
            "_view_module": "@jupyter-widgets/base",
            "_view_module_version": "1.2.0",
            "_view_name": "LayoutView",
            "align_content": null,
            "align_items": null,
            "align_self": null,
            "border": null,
            "bottom": null,
            "display": null,
            "flex": null,
            "flex_flow": null,
            "grid_area": null,
            "grid_auto_columns": null,
            "grid_auto_flow": null,
            "grid_auto_rows": null,
            "grid_column": null,
            "grid_gap": null,
            "grid_row": null,
            "grid_template_areas": null,
            "grid_template_columns": null,
            "grid_template_rows": null,
            "height": null,
            "justify_content": null,
            "justify_items": null,
            "left": null,
            "margin": null,
            "max_height": null,
            "max_width": null,
            "min_height": null,
            "min_width": null,
            "object_fit": null,
            "object_position": null,
            "order": null,
            "overflow": null,
            "overflow_x": null,
            "overflow_y": null,
            "padding": null,
            "right": null,
            "top": null,
            "visibility": null,
            "width": null
          }
        },
        "7f64c14d631e44629ac47d72aeb40d2c": {
          "model_module": "@jupyter-widgets/base",
          "model_module_version": "1.2.0",
          "model_name": "LayoutModel",
          "state": {
            "_model_module": "@jupyter-widgets/base",
            "_model_module_version": "1.2.0",
            "_model_name": "LayoutModel",
            "_view_count": null,
            "_view_module": "@jupyter-widgets/base",
            "_view_module_version": "1.2.0",
            "_view_name": "LayoutView",
            "align_content": null,
            "align_items": null,
            "align_self": null,
            "border": null,
            "bottom": null,
            "display": null,
            "flex": null,
            "flex_flow": null,
            "grid_area": null,
            "grid_auto_columns": null,
            "grid_auto_flow": null,
            "grid_auto_rows": null,
            "grid_column": null,
            "grid_gap": null,
            "grid_row": null,
            "grid_template_areas": null,
            "grid_template_columns": null,
            "grid_template_rows": null,
            "height": null,
            "justify_content": null,
            "justify_items": null,
            "left": null,
            "margin": null,
            "max_height": null,
            "max_width": null,
            "min_height": null,
            "min_width": null,
            "object_fit": null,
            "object_position": null,
            "order": null,
            "overflow": null,
            "overflow_x": null,
            "overflow_y": null,
            "padding": null,
            "right": null,
            "top": null,
            "visibility": null,
            "width": null
          }
        },
        "7fefe46f1f1d4f6a835c3bd6e4ea811f": {
          "model_module": "@jupyter-widgets/controls",
          "model_module_version": "1.5.0",
          "model_name": "DescriptionStyleModel",
          "state": {
            "_model_module": "@jupyter-widgets/controls",
            "_model_module_version": "1.5.0",
            "_model_name": "DescriptionStyleModel",
            "_view_count": null,
            "_view_module": "@jupyter-widgets/base",
            "_view_module_version": "1.2.0",
            "_view_name": "StyleView",
            "description_width": ""
          }
        },
        "80424b61a80c4f3883504bbd0f61a377": {
          "model_module": "@jupyter-widgets/controls",
          "model_module_version": "1.5.0",
          "model_name": "HTMLModel",
          "state": {
            "_dom_classes": [],
            "_model_module": "@jupyter-widgets/controls",
            "_model_module_version": "1.5.0",
            "_model_name": "HTMLModel",
            "_view_count": null,
            "_view_module": "@jupyter-widgets/controls",
            "_view_module_version": "1.5.0",
            "_view_name": "HTMLView",
            "description": "",
            "description_tooltip": null,
            "layout": "IPY_MODEL_758fae16ad374571b29e7f2e8a334e71",
            "placeholder": "​",
            "style": "IPY_MODEL_f541dac50270478f8517e51200710f28",
            "value": "Loading checkpoint shards: 100%"
          }
        },
        "8115f7e98f8b4a0ead8f99ea075e8584": {
          "model_module": "@jupyter-widgets/controls",
          "model_module_version": "1.5.0",
          "model_name": "HTMLModel",
          "state": {
            "_dom_classes": [],
            "_model_module": "@jupyter-widgets/controls",
            "_model_module_version": "1.5.0",
            "_model_name": "HTMLModel",
            "_view_count": null,
            "_view_module": "@jupyter-widgets/controls",
            "_view_module_version": "1.5.0",
            "_view_name": "HTMLView",
            "description": "",
            "description_tooltip": null,
            "layout": "IPY_MODEL_6432be8da15f4f20819140774d73a3d6",
            "placeholder": "​",
            "style": "IPY_MODEL_49ae59b7ec42471abe597462773c1f8e",
            "value": "Downloading (…)/main/tokenizer.json: 100%"
          }
        },
        "84ebe26425754fb1b6c6aa38764780f9": {
          "model_module": "@jupyter-widgets/controls",
          "model_module_version": "1.5.0",
          "model_name": "HTMLModel",
          "state": {
            "_dom_classes": [],
            "_model_module": "@jupyter-widgets/controls",
            "_model_module_version": "1.5.0",
            "_model_name": "HTMLModel",
            "_view_count": null,
            "_view_module": "@jupyter-widgets/controls",
            "_view_module_version": "1.5.0",
            "_view_name": "HTMLView",
            "description": "",
            "description_tooltip": null,
            "layout": "IPY_MODEL_f33e2ae7654f46389a3c4596aa84b4cd",
            "placeholder": "​",
            "style": "IPY_MODEL_e6f1b2212e7b4f7c8c4c06d7955b462a",
            "value": " 145/145 [00:00&lt;00:00, 13.6kB/s]"
          }
        },
        "869d1ad7a79d4ba6984e2f95208dac22": {
          "model_module": "@jupyter-widgets/controls",
          "model_module_version": "1.5.0",
          "model_name": "HTMLModel",
          "state": {
            "_dom_classes": [],
            "_model_module": "@jupyter-widgets/controls",
            "_model_module_version": "1.5.0",
            "_model_name": "HTMLModel",
            "_view_count": null,
            "_view_module": "@jupyter-widgets/controls",
            "_view_module_version": "1.5.0",
            "_view_name": "HTMLView",
            "description": "",
            "description_tooltip": null,
            "layout": "IPY_MODEL_92b134c8a07b4a50a67f862bfc9b61e6",
            "placeholder": "​",
            "style": "IPY_MODEL_061625a1f06e4a13be2fb93a5c825785",
            "value": "Downloading (…)cial_tokens_map.json: 100%"
          }
        },
        "86a091849e00444cbf4850d8b383b5df": {
          "model_module": "@jupyter-widgets/base",
          "model_module_version": "1.2.0",
          "model_name": "LayoutModel",
          "state": {
            "_model_module": "@jupyter-widgets/base",
            "_model_module_version": "1.2.0",
            "_model_name": "LayoutModel",
            "_view_count": null,
            "_view_module": "@jupyter-widgets/base",
            "_view_module_version": "1.2.0",
            "_view_name": "LayoutView",
            "align_content": null,
            "align_items": null,
            "align_self": null,
            "border": null,
            "bottom": null,
            "display": null,
            "flex": null,
            "flex_flow": null,
            "grid_area": null,
            "grid_auto_columns": null,
            "grid_auto_flow": null,
            "grid_auto_rows": null,
            "grid_column": null,
            "grid_gap": null,
            "grid_row": null,
            "grid_template_areas": null,
            "grid_template_columns": null,
            "grid_template_rows": null,
            "height": null,
            "justify_content": null,
            "justify_items": null,
            "left": null,
            "margin": null,
            "max_height": null,
            "max_width": null,
            "min_height": null,
            "min_width": null,
            "object_fit": null,
            "object_position": null,
            "order": null,
            "overflow": null,
            "overflow_x": null,
            "overflow_y": null,
            "padding": null,
            "right": null,
            "top": null,
            "visibility": null,
            "width": null
          }
        },
        "87026be0f4f348b5a3074ced257359b2": {
          "model_module": "@jupyter-widgets/controls",
          "model_module_version": "1.5.0",
          "model_name": "DescriptionStyleModel",
          "state": {
            "_model_module": "@jupyter-widgets/controls",
            "_model_module_version": "1.5.0",
            "_model_name": "DescriptionStyleModel",
            "_view_count": null,
            "_view_module": "@jupyter-widgets/base",
            "_view_module_version": "1.2.0",
            "_view_name": "StyleView",
            "description_width": ""
          }
        },
        "87582c989074461d9a0c63062f9d3a36": {
          "model_module": "@jupyter-widgets/controls",
          "model_module_version": "1.5.0",
          "model_name": "HTMLModel",
          "state": {
            "_dom_classes": [],
            "_model_module": "@jupyter-widgets/controls",
            "_model_module_version": "1.5.0",
            "_model_name": "HTMLModel",
            "_view_count": null,
            "_view_module": "@jupyter-widgets/controls",
            "_view_module_version": "1.5.0",
            "_view_name": "HTMLView",
            "description": "",
            "description_tooltip": null,
            "layout": "IPY_MODEL_dca99879bde345f5ad7206b0cd3440bc",
            "placeholder": "​",
            "style": "IPY_MODEL_ee963802f2354cea9107e6d2de1f7b6c",
            "value": "Downloading shards: 100%"
          }
        },
        "88b35f61fc1e4912b1741f6fc45a4779": {
          "model_module": "@jupyter-widgets/controls",
          "model_module_version": "1.5.0",
          "model_name": "FloatProgressModel",
          "state": {
            "_dom_classes": [],
            "_model_module": "@jupyter-widgets/controls",
            "_model_module_version": "1.5.0",
            "_model_name": "FloatProgressModel",
            "_view_count": null,
            "_view_module": "@jupyter-widgets/controls",
            "_view_module_version": "1.5.0",
            "_view_name": "ProgressView",
            "bar_style": "success",
            "description": "",
            "description_tooltip": null,
            "layout": "IPY_MODEL_3027b31e17484f71b74975e1f724b37a",
            "max": 1795303,
            "min": 0,
            "orientation": "horizontal",
            "style": "IPY_MODEL_90d67a843fae4077baebb80755057bc6",
            "value": 1795303
          }
        },
        "88b9e544e3c14b089b8a69aee0438680": {
          "model_module": "@jupyter-widgets/controls",
          "model_module_version": "1.5.0",
          "model_name": "FloatProgressModel",
          "state": {
            "_dom_classes": [],
            "_model_module": "@jupyter-widgets/controls",
            "_model_module_version": "1.5.0",
            "_model_name": "FloatProgressModel",
            "_view_count": null,
            "_view_module": "@jupyter-widgets/controls",
            "_view_module_version": "1.5.0",
            "_view_name": "ProgressView",
            "bar_style": "success",
            "description": "",
            "description_tooltip": null,
            "layout": "IPY_MODEL_a738ed9d3bf748e985533ee46615b759",
            "max": 8,
            "min": 0,
            "orientation": "horizontal",
            "style": "IPY_MODEL_6f3b4b3d99ab42dc9caabdc6daa52b24",
            "value": 8
          }
        },
        "892c2e2fd63a45309ed3df869ab05570": {
          "model_module": "@jupyter-widgets/controls",
          "model_module_version": "1.5.0",
          "model_name": "HBoxModel",
          "state": {
            "_dom_classes": [],
            "_model_module": "@jupyter-widgets/controls",
            "_model_module_version": "1.5.0",
            "_model_name": "HBoxModel",
            "_view_count": null,
            "_view_module": "@jupyter-widgets/controls",
            "_view_module_version": "1.5.0",
            "_view_name": "HBoxView",
            "box_style": "",
            "children": [
              "IPY_MODEL_80424b61a80c4f3883504bbd0f61a377",
              "IPY_MODEL_45714cc01d5b49ffbde7ac4e85b8ac78",
              "IPY_MODEL_1fea3b8166134890830b07eded78a78c"
            ],
            "layout": "IPY_MODEL_7ecdcc0bc1d749ddbbf50559ecdbcca5"
          }
        },
        "89df31339afa4b4092c56c39d8dc662b": {
          "model_module": "@jupyter-widgets/controls",
          "model_module_version": "1.5.0",
          "model_name": "DescriptionStyleModel",
          "state": {
            "_model_module": "@jupyter-widgets/controls",
            "_model_module_version": "1.5.0",
            "_model_name": "DescriptionStyleModel",
            "_view_count": null,
            "_view_module": "@jupyter-widgets/base",
            "_view_module_version": "1.2.0",
            "_view_name": "StyleView",
            "description_width": ""
          }
        },
        "8a5ed9c2bb4b49d49b4979b9bec11599": {
          "model_module": "@jupyter-widgets/controls",
          "model_module_version": "1.5.0",
          "model_name": "HTMLModel",
          "state": {
            "_dom_classes": [],
            "_model_module": "@jupyter-widgets/controls",
            "_model_module_version": "1.5.0",
            "_model_name": "HTMLModel",
            "_view_count": null,
            "_view_module": "@jupyter-widgets/controls",
            "_view_module_version": "1.5.0",
            "_view_name": "HTMLView",
            "description": "",
            "description_tooltip": null,
            "layout": "IPY_MODEL_664d6baed1a44edb822be963fe3a90bb",
            "placeholder": "​",
            "style": "IPY_MODEL_1bfcdd893dc3414e9f37eebfc6a8047b",
            "value": "Downloading (…)l-00002-of-00008.bin: 100%"
          }
        },
        "8a69313b616640658baf2ba176d5e22a": {
          "model_module": "@jupyter-widgets/base",
          "model_module_version": "1.2.0",
          "model_name": "LayoutModel",
          "state": {
            "_model_module": "@jupyter-widgets/base",
            "_model_module_version": "1.2.0",
            "_model_name": "LayoutModel",
            "_view_count": null,
            "_view_module": "@jupyter-widgets/base",
            "_view_module_version": "1.2.0",
            "_view_name": "LayoutView",
            "align_content": null,
            "align_items": null,
            "align_self": null,
            "border": null,
            "bottom": null,
            "display": null,
            "flex": null,
            "flex_flow": null,
            "grid_area": null,
            "grid_auto_columns": null,
            "grid_auto_flow": null,
            "grid_auto_rows": null,
            "grid_column": null,
            "grid_gap": null,
            "grid_row": null,
            "grid_template_areas": null,
            "grid_template_columns": null,
            "grid_template_rows": null,
            "height": null,
            "justify_content": null,
            "justify_items": null,
            "left": null,
            "margin": null,
            "max_height": null,
            "max_width": null,
            "min_height": null,
            "min_width": null,
            "object_fit": null,
            "object_position": null,
            "order": null,
            "overflow": null,
            "overflow_x": null,
            "overflow_y": null,
            "padding": null,
            "right": null,
            "top": null,
            "visibility": null,
            "width": null
          }
        },
        "8b7861dee00b44239e4ef840271f6267": {
          "model_module": "@jupyter-widgets/base",
          "model_module_version": "1.2.0",
          "model_name": "LayoutModel",
          "state": {
            "_model_module": "@jupyter-widgets/base",
            "_model_module_version": "1.2.0",
            "_model_name": "LayoutModel",
            "_view_count": null,
            "_view_module": "@jupyter-widgets/base",
            "_view_module_version": "1.2.0",
            "_view_name": "LayoutView",
            "align_content": null,
            "align_items": null,
            "align_self": null,
            "border": null,
            "bottom": null,
            "display": null,
            "flex": null,
            "flex_flow": null,
            "grid_area": null,
            "grid_auto_columns": null,
            "grid_auto_flow": null,
            "grid_auto_rows": null,
            "grid_column": null,
            "grid_gap": null,
            "grid_row": null,
            "grid_template_areas": null,
            "grid_template_columns": null,
            "grid_template_rows": null,
            "height": null,
            "justify_content": null,
            "justify_items": null,
            "left": null,
            "margin": null,
            "max_height": null,
            "max_width": null,
            "min_height": null,
            "min_width": null,
            "object_fit": null,
            "object_position": null,
            "order": null,
            "overflow": null,
            "overflow_x": null,
            "overflow_y": null,
            "padding": null,
            "right": null,
            "top": null,
            "visibility": null,
            "width": null
          }
        },
        "8b7ec9d9d4b9438db7782a631b18ef73": {
          "model_module": "@jupyter-widgets/controls",
          "model_module_version": "1.5.0",
          "model_name": "FloatProgressModel",
          "state": {
            "_dom_classes": [],
            "_model_module": "@jupyter-widgets/controls",
            "_model_module_version": "1.5.0",
            "_model_name": "FloatProgressModel",
            "_view_count": null,
            "_view_module": "@jupyter-widgets/controls",
            "_view_module_version": "1.5.0",
            "_view_name": "ProgressView",
            "bar_style": "success",
            "description": "",
            "description_tooltip": null,
            "layout": "IPY_MODEL_403ae4eb789e4d7ea9e5ebf141a4cac9",
            "max": 8,
            "min": 0,
            "orientation": "horizontal",
            "style": "IPY_MODEL_2926226a0d3d4b27b21a17fcba5b6192",
            "value": 8
          }
        },
        "8ec390f68bb8443195e19857dfd7f6cf": {
          "model_module": "@jupyter-widgets/controls",
          "model_module_version": "1.5.0",
          "model_name": "DescriptionStyleModel",
          "state": {
            "_model_module": "@jupyter-widgets/controls",
            "_model_module_version": "1.5.0",
            "_model_name": "DescriptionStyleModel",
            "_view_count": null,
            "_view_module": "@jupyter-widgets/base",
            "_view_module_version": "1.2.0",
            "_view_name": "StyleView",
            "description_width": ""
          }
        },
        "90d67a843fae4077baebb80755057bc6": {
          "model_module": "@jupyter-widgets/controls",
          "model_module_version": "1.5.0",
          "model_name": "ProgressStyleModel",
          "state": {
            "_model_module": "@jupyter-widgets/controls",
            "_model_module_version": "1.5.0",
            "_model_name": "ProgressStyleModel",
            "_view_count": null,
            "_view_module": "@jupyter-widgets/base",
            "_view_module_version": "1.2.0",
            "_view_name": "StyleView",
            "bar_color": null,
            "description_width": ""
          }
        },
        "90ee8bc5afdb4569811845d76f0ddf3f": {
          "model_module": "@jupyter-widgets/base",
          "model_module_version": "1.2.0",
          "model_name": "LayoutModel",
          "state": {
            "_model_module": "@jupyter-widgets/base",
            "_model_module_version": "1.2.0",
            "_model_name": "LayoutModel",
            "_view_count": null,
            "_view_module": "@jupyter-widgets/base",
            "_view_module_version": "1.2.0",
            "_view_name": "LayoutView",
            "align_content": null,
            "align_items": null,
            "align_self": null,
            "border": null,
            "bottom": null,
            "display": null,
            "flex": null,
            "flex_flow": null,
            "grid_area": null,
            "grid_auto_columns": null,
            "grid_auto_flow": null,
            "grid_auto_rows": null,
            "grid_column": null,
            "grid_gap": null,
            "grid_row": null,
            "grid_template_areas": null,
            "grid_template_columns": null,
            "grid_template_rows": null,
            "height": null,
            "justify_content": null,
            "justify_items": null,
            "left": null,
            "margin": null,
            "max_height": null,
            "max_width": null,
            "min_height": null,
            "min_width": null,
            "object_fit": null,
            "object_position": null,
            "order": null,
            "overflow": null,
            "overflow_x": null,
            "overflow_y": null,
            "padding": null,
            "right": null,
            "top": null,
            "visibility": null,
            "width": null
          }
        },
        "9161b3ef18544e13a2adae64a5cc8d31": {
          "model_module": "@jupyter-widgets/controls",
          "model_module_version": "1.5.0",
          "model_name": "ProgressStyleModel",
          "state": {
            "_model_module": "@jupyter-widgets/controls",
            "_model_module_version": "1.5.0",
            "_model_name": "ProgressStyleModel",
            "_view_count": null,
            "_view_module": "@jupyter-widgets/base",
            "_view_module_version": "1.2.0",
            "_view_name": "StyleView",
            "bar_color": null,
            "description_width": ""
          }
        },
        "91de1fea8fad49b7a786b71550634181": {
          "model_module": "@jupyter-widgets/controls",
          "model_module_version": "1.5.0",
          "model_name": "ProgressStyleModel",
          "state": {
            "_model_module": "@jupyter-widgets/controls",
            "_model_module_version": "1.5.0",
            "_model_name": "ProgressStyleModel",
            "_view_count": null,
            "_view_module": "@jupyter-widgets/base",
            "_view_module_version": "1.2.0",
            "_view_name": "StyleView",
            "bar_color": null,
            "description_width": ""
          }
        },
        "92b134c8a07b4a50a67f862bfc9b61e6": {
          "model_module": "@jupyter-widgets/base",
          "model_module_version": "1.2.0",
          "model_name": "LayoutModel",
          "state": {
            "_model_module": "@jupyter-widgets/base",
            "_model_module_version": "1.2.0",
            "_model_name": "LayoutModel",
            "_view_count": null,
            "_view_module": "@jupyter-widgets/base",
            "_view_module_version": "1.2.0",
            "_view_name": "LayoutView",
            "align_content": null,
            "align_items": null,
            "align_self": null,
            "border": null,
            "bottom": null,
            "display": null,
            "flex": null,
            "flex_flow": null,
            "grid_area": null,
            "grid_auto_columns": null,
            "grid_auto_flow": null,
            "grid_auto_rows": null,
            "grid_column": null,
            "grid_gap": null,
            "grid_row": null,
            "grid_template_areas": null,
            "grid_template_columns": null,
            "grid_template_rows": null,
            "height": null,
            "justify_content": null,
            "justify_items": null,
            "left": null,
            "margin": null,
            "max_height": null,
            "max_width": null,
            "min_height": null,
            "min_width": null,
            "object_fit": null,
            "object_position": null,
            "order": null,
            "overflow": null,
            "overflow_x": null,
            "overflow_y": null,
            "padding": null,
            "right": null,
            "top": null,
            "visibility": null,
            "width": null
          }
        },
        "93b47c21bbd84a368d0f8aeac35f07a5": {
          "model_module": "@jupyter-widgets/base",
          "model_module_version": "1.2.0",
          "model_name": "LayoutModel",
          "state": {
            "_model_module": "@jupyter-widgets/base",
            "_model_module_version": "1.2.0",
            "_model_name": "LayoutModel",
            "_view_count": null,
            "_view_module": "@jupyter-widgets/base",
            "_view_module_version": "1.2.0",
            "_view_name": "LayoutView",
            "align_content": null,
            "align_items": null,
            "align_self": null,
            "border": null,
            "bottom": null,
            "display": null,
            "flex": null,
            "flex_flow": null,
            "grid_area": null,
            "grid_auto_columns": null,
            "grid_auto_flow": null,
            "grid_auto_rows": null,
            "grid_column": null,
            "grid_gap": null,
            "grid_row": null,
            "grid_template_areas": null,
            "grid_template_columns": null,
            "grid_template_rows": null,
            "height": null,
            "justify_content": null,
            "justify_items": null,
            "left": null,
            "margin": null,
            "max_height": null,
            "max_width": null,
            "min_height": null,
            "min_width": null,
            "object_fit": null,
            "object_position": null,
            "order": null,
            "overflow": null,
            "overflow_x": null,
            "overflow_y": null,
            "padding": null,
            "right": null,
            "top": null,
            "visibility": null,
            "width": null
          }
        },
        "94686916b068409d81dc037dc48335dd": {
          "model_module": "@jupyter-widgets/controls",
          "model_module_version": "1.5.0",
          "model_name": "FloatProgressModel",
          "state": {
            "_dom_classes": [],
            "_model_module": "@jupyter-widgets/controls",
            "_model_module_version": "1.5.0",
            "_model_name": "FloatProgressModel",
            "_view_count": null,
            "_view_module": "@jupyter-widgets/controls",
            "_view_module_version": "1.5.0",
            "_view_name": "ProgressView",
            "bar_style": "success",
            "description": "",
            "description_tooltip": null,
            "layout": "IPY_MODEL_cfd0c9f7d4d84a58a297d63bceff6b1b",
            "max": 111,
            "min": 0,
            "orientation": "horizontal",
            "style": "IPY_MODEL_c918607f794f4b97b7bfe8419ba0bf4c",
            "value": 111
          }
        },
        "94853c25c57a4f3ea40680205d88de9b": {
          "model_module": "@jupyter-widgets/controls",
          "model_module_version": "1.5.0",
          "model_name": "HBoxModel",
          "state": {
            "_dom_classes": [],
            "_model_module": "@jupyter-widgets/controls",
            "_model_module_version": "1.5.0",
            "_model_name": "HBoxModel",
            "_view_count": null,
            "_view_module": "@jupyter-widgets/controls",
            "_view_module_version": "1.5.0",
            "_view_name": "HBoxView",
            "box_style": "",
            "children": [
              "IPY_MODEL_869d1ad7a79d4ba6984e2f95208dac22",
              "IPY_MODEL_76811628f4db49c98f9358056516e01d",
              "IPY_MODEL_84ebe26425754fb1b6c6aa38764780f9"
            ],
            "layout": "IPY_MODEL_42e5e3297ef9414fa5cf38a97e5cd049"
          }
        },
        "94d9d9d935cf4caeade029c1c819b2b5": {
          "model_module": "@jupyter-widgets/base",
          "model_module_version": "1.2.0",
          "model_name": "LayoutModel",
          "state": {
            "_model_module": "@jupyter-widgets/base",
            "_model_module_version": "1.2.0",
            "_model_name": "LayoutModel",
            "_view_count": null,
            "_view_module": "@jupyter-widgets/base",
            "_view_module_version": "1.2.0",
            "_view_name": "LayoutView",
            "align_content": null,
            "align_items": null,
            "align_self": null,
            "border": null,
            "bottom": null,
            "display": null,
            "flex": null,
            "flex_flow": null,
            "grid_area": null,
            "grid_auto_columns": null,
            "grid_auto_flow": null,
            "grid_auto_rows": null,
            "grid_column": null,
            "grid_gap": null,
            "grid_row": null,
            "grid_template_areas": null,
            "grid_template_columns": null,
            "grid_template_rows": null,
            "height": null,
            "justify_content": null,
            "justify_items": null,
            "left": null,
            "margin": null,
            "max_height": null,
            "max_width": null,
            "min_height": null,
            "min_width": null,
            "object_fit": null,
            "object_position": null,
            "order": null,
            "overflow": null,
            "overflow_x": null,
            "overflow_y": null,
            "padding": null,
            "right": null,
            "top": null,
            "visibility": null,
            "width": null
          }
        },
        "953ac4bb69664bed863b9cbb42828927": {
          "model_module": "@jupyter-widgets/controls",
          "model_module_version": "1.5.0",
          "model_name": "HTMLModel",
          "state": {
            "_dom_classes": [],
            "_model_module": "@jupyter-widgets/controls",
            "_model_module_version": "1.5.0",
            "_model_name": "HTMLModel",
            "_view_count": null,
            "_view_module": "@jupyter-widgets/controls",
            "_view_module_version": "1.5.0",
            "_view_name": "HTMLView",
            "description": "",
            "description_tooltip": null,
            "layout": "IPY_MODEL_93b47c21bbd84a368d0f8aeac35f07a5",
            "placeholder": "​",
            "style": "IPY_MODEL_cf65b3e00c964a508edc55ee3e8b7b40",
            "value": "Downloading (…)neration_config.json: 100%"
          }
        },
        "95bffd69836c4129841a8ff10ede2044": {
          "model_module": "@jupyter-widgets/controls",
          "model_module_version": "1.5.0",
          "model_name": "HTMLModel",
          "state": {
            "_dom_classes": [],
            "_model_module": "@jupyter-widgets/controls",
            "_model_module_version": "1.5.0",
            "_model_name": "HTMLModel",
            "_view_count": null,
            "_view_module": "@jupyter-widgets/controls",
            "_view_module_version": "1.5.0",
            "_view_name": "HTMLView",
            "description": "",
            "description_tooltip": null,
            "layout": "IPY_MODEL_d5de701d20694abeaa0573f7db318cf1",
            "placeholder": "​",
            "style": "IPY_MODEL_97fabf34f23240c098ec6c33b94ba2f5",
            "value": " 1.98G/1.98G [02:08&lt;00:00, 15.0MB/s]"
          }
        },
        "96db57f4239a44d3adf27284384ca7fb": {
          "model_module": "@jupyter-widgets/base",
          "model_module_version": "1.2.0",
          "model_name": "LayoutModel",
          "state": {
            "_model_module": "@jupyter-widgets/base",
            "_model_module_version": "1.2.0",
            "_model_name": "LayoutModel",
            "_view_count": null,
            "_view_module": "@jupyter-widgets/base",
            "_view_module_version": "1.2.0",
            "_view_name": "LayoutView",
            "align_content": null,
            "align_items": null,
            "align_self": null,
            "border": null,
            "bottom": null,
            "display": null,
            "flex": null,
            "flex_flow": null,
            "grid_area": null,
            "grid_auto_columns": null,
            "grid_auto_flow": null,
            "grid_auto_rows": null,
            "grid_column": null,
            "grid_gap": null,
            "grid_row": null,
            "grid_template_areas": null,
            "grid_template_columns": null,
            "grid_template_rows": null,
            "height": null,
            "justify_content": null,
            "justify_items": null,
            "left": null,
            "margin": null,
            "max_height": null,
            "max_width": null,
            "min_height": null,
            "min_width": null,
            "object_fit": null,
            "object_position": null,
            "order": null,
            "overflow": null,
            "overflow_x": null,
            "overflow_y": null,
            "padding": null,
            "right": null,
            "top": null,
            "visibility": null,
            "width": null
          }
        },
        "96e31777fa254c208bd4156b6a323839": {
          "model_module": "@jupyter-widgets/controls",
          "model_module_version": "1.5.0",
          "model_name": "HTMLModel",
          "state": {
            "_dom_classes": [],
            "_model_module": "@jupyter-widgets/controls",
            "_model_module_version": "1.5.0",
            "_model_name": "HTMLModel",
            "_view_count": null,
            "_view_module": "@jupyter-widgets/controls",
            "_view_module_version": "1.5.0",
            "_view_name": "HTMLView",
            "description": "",
            "description_tooltip": null,
            "layout": "IPY_MODEL_e9a74376a4f54cd8b015fb0abb9f9322",
            "placeholder": "​",
            "style": "IPY_MODEL_87026be0f4f348b5a3074ced257359b2",
            "value": " 1.80M/1.80M [00:01&lt;00:00, 1.52MB/s]"
          }
        },
        "97fabf34f23240c098ec6c33b94ba2f5": {
          "model_module": "@jupyter-widgets/controls",
          "model_module_version": "1.5.0",
          "model_name": "DescriptionStyleModel",
          "state": {
            "_model_module": "@jupyter-widgets/controls",
            "_model_module_version": "1.5.0",
            "_model_name": "DescriptionStyleModel",
            "_view_count": null,
            "_view_module": "@jupyter-widgets/base",
            "_view_module_version": "1.2.0",
            "_view_name": "StyleView",
            "description_width": ""
          }
        },
        "98a7bbd037b24e44a7a7667a67200172": {
          "model_module": "@jupyter-widgets/controls",
          "model_module_version": "1.5.0",
          "model_name": "DescriptionStyleModel",
          "state": {
            "_model_module": "@jupyter-widgets/controls",
            "_model_module_version": "1.5.0",
            "_model_name": "DescriptionStyleModel",
            "_view_count": null,
            "_view_module": "@jupyter-widgets/base",
            "_view_module_version": "1.2.0",
            "_view_name": "StyleView",
            "description_width": ""
          }
        },
        "9ad9dae6948c40b1b206deb4cfb78609": {
          "model_module": "@jupyter-widgets/controls",
          "model_module_version": "1.5.0",
          "model_name": "FloatProgressModel",
          "state": {
            "_dom_classes": [],
            "_model_module": "@jupyter-widgets/controls",
            "_model_module_version": "1.5.0",
            "_model_name": "FloatProgressModel",
            "_view_count": null,
            "_view_module": "@jupyter-widgets/controls",
            "_view_module_version": "1.5.0",
            "_view_name": "ProgressView",
            "bar_style": "success",
            "description": "",
            "description_tooltip": null,
            "layout": "IPY_MODEL_4a6a88e8af564a6db053fb0b3491c051",
            "max": 1946253333,
            "min": 0,
            "orientation": "horizontal",
            "style": "IPY_MODEL_9161b3ef18544e13a2adae64a5cc8d31",
            "value": 1946253333
          }
        },
        "9b213d4653bd4c2a9ee8c006f02f3f4a": {
          "model_module": "@jupyter-widgets/base",
          "model_module_version": "1.2.0",
          "model_name": "LayoutModel",
          "state": {
            "_model_module": "@jupyter-widgets/base",
            "_model_module_version": "1.2.0",
            "_model_name": "LayoutModel",
            "_view_count": null,
            "_view_module": "@jupyter-widgets/base",
            "_view_module_version": "1.2.0",
            "_view_name": "LayoutView",
            "align_content": null,
            "align_items": null,
            "align_self": null,
            "border": null,
            "bottom": null,
            "display": null,
            "flex": null,
            "flex_flow": null,
            "grid_area": null,
            "grid_auto_columns": null,
            "grid_auto_flow": null,
            "grid_auto_rows": null,
            "grid_column": null,
            "grid_gap": null,
            "grid_row": null,
            "grid_template_areas": null,
            "grid_template_columns": null,
            "grid_template_rows": null,
            "height": null,
            "justify_content": null,
            "justify_items": null,
            "left": null,
            "margin": null,
            "max_height": null,
            "max_width": null,
            "min_height": null,
            "min_width": null,
            "object_fit": null,
            "object_position": null,
            "order": null,
            "overflow": null,
            "overflow_x": null,
            "overflow_y": null,
            "padding": null,
            "right": null,
            "top": null,
            "visibility": null,
            "width": null
          }
        },
        "9c2e988865a84e6a9afc99fb00cfbdd1": {
          "model_module": "@jupyter-widgets/base",
          "model_module_version": "1.2.0",
          "model_name": "LayoutModel",
          "state": {
            "_model_module": "@jupyter-widgets/base",
            "_model_module_version": "1.2.0",
            "_model_name": "LayoutModel",
            "_view_count": null,
            "_view_module": "@jupyter-widgets/base",
            "_view_module_version": "1.2.0",
            "_view_name": "LayoutView",
            "align_content": null,
            "align_items": null,
            "align_self": null,
            "border": null,
            "bottom": null,
            "display": null,
            "flex": null,
            "flex_flow": null,
            "grid_area": null,
            "grid_auto_columns": null,
            "grid_auto_flow": null,
            "grid_auto_rows": null,
            "grid_column": null,
            "grid_gap": null,
            "grid_row": null,
            "grid_template_areas": null,
            "grid_template_columns": null,
            "grid_template_rows": null,
            "height": null,
            "justify_content": null,
            "justify_items": null,
            "left": null,
            "margin": null,
            "max_height": null,
            "max_width": null,
            "min_height": null,
            "min_width": null,
            "object_fit": null,
            "object_position": null,
            "order": null,
            "overflow": null,
            "overflow_x": null,
            "overflow_y": null,
            "padding": null,
            "right": null,
            "top": null,
            "visibility": null,
            "width": null
          }
        },
        "9fb541fd4666427cb688c90dd9165c37": {
          "model_module": "@jupyter-widgets/controls",
          "model_module_version": "1.5.0",
          "model_name": "HTMLModel",
          "state": {
            "_dom_classes": [],
            "_model_module": "@jupyter-widgets/controls",
            "_model_module_version": "1.5.0",
            "_model_name": "HTMLModel",
            "_view_count": null,
            "_view_module": "@jupyter-widgets/controls",
            "_view_module_version": "1.5.0",
            "_view_name": "HTMLView",
            "description": "",
            "description_tooltip": null,
            "layout": "IPY_MODEL_d136f1dd8e7a4196858c8be7bddec25d",
            "placeholder": "​",
            "style": "IPY_MODEL_c7b7fce1502e498c8b2e983bc31fb408",
            "value": " 613/613 [00:00&lt;00:00, 53.2kB/s]"
          }
        },
        "a17b11c4d18b4051853a6e2a13972f8e": {
          "model_module": "@jupyter-widgets/base",
          "model_module_version": "1.2.0",
          "model_name": "LayoutModel",
          "state": {
            "_model_module": "@jupyter-widgets/base",
            "_model_module_version": "1.2.0",
            "_model_name": "LayoutModel",
            "_view_count": null,
            "_view_module": "@jupyter-widgets/base",
            "_view_module_version": "1.2.0",
            "_view_name": "LayoutView",
            "align_content": null,
            "align_items": null,
            "align_self": null,
            "border": null,
            "bottom": null,
            "display": null,
            "flex": null,
            "flex_flow": null,
            "grid_area": null,
            "grid_auto_columns": null,
            "grid_auto_flow": null,
            "grid_auto_rows": null,
            "grid_column": null,
            "grid_gap": null,
            "grid_row": null,
            "grid_template_areas": null,
            "grid_template_columns": null,
            "grid_template_rows": null,
            "height": null,
            "justify_content": null,
            "justify_items": null,
            "left": null,
            "margin": null,
            "max_height": null,
            "max_width": null,
            "min_height": null,
            "min_width": null,
            "object_fit": null,
            "object_position": null,
            "order": null,
            "overflow": null,
            "overflow_x": null,
            "overflow_y": null,
            "padding": null,
            "right": null,
            "top": null,
            "visibility": null,
            "width": null
          }
        },
        "a3617858b5ef4796b1d553b148292ccb": {
          "model_module": "@jupyter-widgets/base",
          "model_module_version": "1.2.0",
          "model_name": "LayoutModel",
          "state": {
            "_model_module": "@jupyter-widgets/base",
            "_model_module_version": "1.2.0",
            "_model_name": "LayoutModel",
            "_view_count": null,
            "_view_module": "@jupyter-widgets/base",
            "_view_module_version": "1.2.0",
            "_view_name": "LayoutView",
            "align_content": null,
            "align_items": null,
            "align_self": null,
            "border": null,
            "bottom": null,
            "display": null,
            "flex": null,
            "flex_flow": null,
            "grid_area": null,
            "grid_auto_columns": null,
            "grid_auto_flow": null,
            "grid_auto_rows": null,
            "grid_column": null,
            "grid_gap": null,
            "grid_row": null,
            "grid_template_areas": null,
            "grid_template_columns": null,
            "grid_template_rows": null,
            "height": null,
            "justify_content": null,
            "justify_items": null,
            "left": null,
            "margin": null,
            "max_height": null,
            "max_width": null,
            "min_height": null,
            "min_width": null,
            "object_fit": null,
            "object_position": null,
            "order": null,
            "overflow": null,
            "overflow_x": null,
            "overflow_y": null,
            "padding": null,
            "right": null,
            "top": null,
            "visibility": null,
            "width": null
          }
        },
        "a37cf02706e2436d88594798540d3af7": {
          "model_module": "@jupyter-widgets/base",
          "model_module_version": "1.2.0",
          "model_name": "LayoutModel",
          "state": {
            "_model_module": "@jupyter-widgets/base",
            "_model_module_version": "1.2.0",
            "_model_name": "LayoutModel",
            "_view_count": null,
            "_view_module": "@jupyter-widgets/base",
            "_view_module_version": "1.2.0",
            "_view_name": "LayoutView",
            "align_content": null,
            "align_items": null,
            "align_self": null,
            "border": null,
            "bottom": null,
            "display": null,
            "flex": null,
            "flex_flow": null,
            "grid_area": null,
            "grid_auto_columns": null,
            "grid_auto_flow": null,
            "grid_auto_rows": null,
            "grid_column": null,
            "grid_gap": null,
            "grid_row": null,
            "grid_template_areas": null,
            "grid_template_columns": null,
            "grid_template_rows": null,
            "height": null,
            "justify_content": null,
            "justify_items": null,
            "left": null,
            "margin": null,
            "max_height": null,
            "max_width": null,
            "min_height": null,
            "min_width": null,
            "object_fit": null,
            "object_position": null,
            "order": null,
            "overflow": null,
            "overflow_x": null,
            "overflow_y": null,
            "padding": null,
            "right": null,
            "top": null,
            "visibility": null,
            "width": null
          }
        },
        "a448b18c62e747fa95be47c28f840688": {
          "model_module": "@jupyter-widgets/controls",
          "model_module_version": "1.5.0",
          "model_name": "HBoxModel",
          "state": {
            "_dom_classes": [],
            "_model_module": "@jupyter-widgets/controls",
            "_model_module_version": "1.5.0",
            "_model_name": "HBoxModel",
            "_view_count": null,
            "_view_module": "@jupyter-widgets/controls",
            "_view_module_version": "1.5.0",
            "_view_name": "HBoxView",
            "box_style": "",
            "children": [
              "IPY_MODEL_60f04250ebc24e46a17e0a9750cf2c4c",
              "IPY_MODEL_8b7ec9d9d4b9438db7782a631b18ef73",
              "IPY_MODEL_72b86f1517034bc1840e0e47a933996a"
            ],
            "layout": "IPY_MODEL_092ec13e1e8c4aebbb2d48c99d97e683"
          }
        },
        "a6906f91d8b84b7980848437efbfde90": {
          "model_module": "@jupyter-widgets/controls",
          "model_module_version": "1.5.0",
          "model_name": "HTMLModel",
          "state": {
            "_dom_classes": [],
            "_model_module": "@jupyter-widgets/controls",
            "_model_module_version": "1.5.0",
            "_model_name": "HTMLModel",
            "_view_count": null,
            "_view_module": "@jupyter-widgets/controls",
            "_view_module_version": "1.5.0",
            "_view_name": "HTMLView",
            "description": "",
            "description_tooltip": null,
            "layout": "IPY_MODEL_94d9d9d935cf4caeade029c1c819b2b5",
            "placeholder": "​",
            "style": "IPY_MODEL_6748162fa04c42a6b8b10aca065fed17",
            "value": " 1.95G/1.95G [02:31&lt;00:00, 12.1MB/s]"
          }
        },
        "a703a572279e4ad9a98b2120117482ae": {
          "model_module": "@jupyter-widgets/controls",
          "model_module_version": "1.5.0",
          "model_name": "DescriptionStyleModel",
          "state": {
            "_model_module": "@jupyter-widgets/controls",
            "_model_module_version": "1.5.0",
            "_model_name": "DescriptionStyleModel",
            "_view_count": null,
            "_view_module": "@jupyter-widgets/base",
            "_view_module_version": "1.2.0",
            "_view_name": "StyleView",
            "description_width": ""
          }
        },
        "a738ed9d3bf748e985533ee46615b759": {
          "model_module": "@jupyter-widgets/base",
          "model_module_version": "1.2.0",
          "model_name": "LayoutModel",
          "state": {
            "_model_module": "@jupyter-widgets/base",
            "_model_module_version": "1.2.0",
            "_model_name": "LayoutModel",
            "_view_count": null,
            "_view_module": "@jupyter-widgets/base",
            "_view_module_version": "1.2.0",
            "_view_name": "LayoutView",
            "align_content": null,
            "align_items": null,
            "align_self": null,
            "border": null,
            "bottom": null,
            "display": null,
            "flex": null,
            "flex_flow": null,
            "grid_area": null,
            "grid_auto_columns": null,
            "grid_auto_flow": null,
            "grid_auto_rows": null,
            "grid_column": null,
            "grid_gap": null,
            "grid_row": null,
            "grid_template_areas": null,
            "grid_template_columns": null,
            "grid_template_rows": null,
            "height": null,
            "justify_content": null,
            "justify_items": null,
            "left": null,
            "margin": null,
            "max_height": null,
            "max_width": null,
            "min_height": null,
            "min_width": null,
            "object_fit": null,
            "object_position": null,
            "order": null,
            "overflow": null,
            "overflow_x": null,
            "overflow_y": null,
            "padding": null,
            "right": null,
            "top": null,
            "visibility": null,
            "width": null
          }
        },
        "a783f95b2b9c4c1eaaebe7fe93eca3c8": {
          "model_module": "@jupyter-widgets/controls",
          "model_module_version": "1.5.0",
          "model_name": "HTMLModel",
          "state": {
            "_dom_classes": [],
            "_model_module": "@jupyter-widgets/controls",
            "_model_module_version": "1.5.0",
            "_model_name": "HTMLModel",
            "_view_count": null,
            "_view_module": "@jupyter-widgets/controls",
            "_view_module_version": "1.5.0",
            "_view_name": "HTMLView",
            "description": "",
            "description_tooltip": null,
            "layout": "IPY_MODEL_caf8f1b967cd4e929131df9e45d402e5",
            "placeholder": "​",
            "style": "IPY_MODEL_a703a572279e4ad9a98b2120117482ae",
            "value": "Loading checkpoint shards: 100%"
          }
        },
        "a79d1787246e4bebb93c7cd843dc9f6d": {
          "model_module": "@jupyter-widgets/controls",
          "model_module_version": "1.5.0",
          "model_name": "HTMLModel",
          "state": {
            "_dom_classes": [],
            "_model_module": "@jupyter-widgets/controls",
            "_model_module_version": "1.5.0",
            "_model_name": "HTMLModel",
            "_view_count": null,
            "_view_module": "@jupyter-widgets/controls",
            "_view_module_version": "1.5.0",
            "_view_name": "HTMLView",
            "description": "",
            "description_tooltip": null,
            "layout": "IPY_MODEL_b72de080f77247829937566d0e6433d7",
            "placeholder": "​",
            "style": "IPY_MODEL_3247b002323545bc862a7343dcd363bd",
            "value": " 1.98G/1.98G [02:09&lt;00:00, 14.8MB/s]"
          }
        },
        "a8e48879191f410fa07e4ca81bada238": {
          "model_module": "@jupyter-widgets/controls",
          "model_module_version": "1.5.0",
          "model_name": "FloatProgressModel",
          "state": {
            "_dom_classes": [],
            "_model_module": "@jupyter-widgets/controls",
            "_model_module_version": "1.5.0",
            "_model_name": "FloatProgressModel",
            "_view_count": null,
            "_view_module": "@jupyter-widgets/controls",
            "_view_module_version": "1.5.0",
            "_view_name": "ProgressView",
            "bar_style": "success",
            "description": "",
            "description_tooltip": null,
            "layout": "IPY_MODEL_9b213d4653bd4c2a9ee8c006f02f3f4a",
            "max": 1889594419,
            "min": 0,
            "orientation": "horizontal",
            "style": "IPY_MODEL_5d06a067fbdc405f9ba7412b2c85205d",
            "value": 1889594419
          }
        },
        "a8f42238ef8346f7a57a2c1afa07f030": {
          "model_module": "@jupyter-widgets/base",
          "model_module_version": "1.2.0",
          "model_name": "LayoutModel",
          "state": {
            "_model_module": "@jupyter-widgets/base",
            "_model_module_version": "1.2.0",
            "_model_name": "LayoutModel",
            "_view_count": null,
            "_view_module": "@jupyter-widgets/base",
            "_view_module_version": "1.2.0",
            "_view_name": "LayoutView",
            "align_content": null,
            "align_items": null,
            "align_self": null,
            "border": null,
            "bottom": null,
            "display": null,
            "flex": null,
            "flex_flow": null,
            "grid_area": null,
            "grid_auto_columns": null,
            "grid_auto_flow": null,
            "grid_auto_rows": null,
            "grid_column": null,
            "grid_gap": null,
            "grid_row": null,
            "grid_template_areas": null,
            "grid_template_columns": null,
            "grid_template_rows": null,
            "height": null,
            "justify_content": null,
            "justify_items": null,
            "left": null,
            "margin": null,
            "max_height": null,
            "max_width": null,
            "min_height": null,
            "min_width": null,
            "object_fit": null,
            "object_position": null,
            "order": null,
            "overflow": null,
            "overflow_x": null,
            "overflow_y": null,
            "padding": null,
            "right": null,
            "top": null,
            "visibility": null,
            "width": null
          }
        },
        "a98b9934b6eb4a25bf68c36228f4d585": {
          "model_module": "@jupyter-widgets/controls",
          "model_module_version": "1.5.0",
          "model_name": "FloatProgressModel",
          "state": {
            "_dom_classes": [],
            "_model_module": "@jupyter-widgets/controls",
            "_model_module_version": "1.5.0",
            "_model_name": "FloatProgressModel",
            "_view_count": null,
            "_view_module": "@jupyter-widgets/controls",
            "_view_module_version": "1.5.0",
            "_view_name": "ProgressView",
            "bar_style": "success",
            "description": "",
            "description_tooltip": null,
            "layout": "IPY_MODEL_7b3e629f3aed4a439ff3126214a5cf7c",
            "max": 8,
            "min": 0,
            "orientation": "horizontal",
            "style": "IPY_MODEL_cb6b90dc0f4847709d2aff0f66c36983",
            "value": 8
          }
        },
        "aabe7d4c2c6f43128c1d14cce924b77c": {
          "model_module": "@jupyter-widgets/controls",
          "model_module_version": "1.5.0",
          "model_name": "DescriptionStyleModel",
          "state": {
            "_model_module": "@jupyter-widgets/controls",
            "_model_module_version": "1.5.0",
            "_model_name": "DescriptionStyleModel",
            "_view_count": null,
            "_view_module": "@jupyter-widgets/base",
            "_view_module_version": "1.2.0",
            "_view_name": "StyleView",
            "description_width": ""
          }
        },
        "ac1cda807cd64155bbcbef3b296dbe10": {
          "model_module": "@jupyter-widgets/base",
          "model_module_version": "1.2.0",
          "model_name": "LayoutModel",
          "state": {
            "_model_module": "@jupyter-widgets/base",
            "_model_module_version": "1.2.0",
            "_model_name": "LayoutModel",
            "_view_count": null,
            "_view_module": "@jupyter-widgets/base",
            "_view_module_version": "1.2.0",
            "_view_name": "LayoutView",
            "align_content": null,
            "align_items": null,
            "align_self": null,
            "border": null,
            "bottom": null,
            "display": null,
            "flex": null,
            "flex_flow": null,
            "grid_area": null,
            "grid_auto_columns": null,
            "grid_auto_flow": null,
            "grid_auto_rows": null,
            "grid_column": null,
            "grid_gap": null,
            "grid_row": null,
            "grid_template_areas": null,
            "grid_template_columns": null,
            "grid_template_rows": null,
            "height": null,
            "justify_content": null,
            "justify_items": null,
            "left": null,
            "margin": null,
            "max_height": null,
            "max_width": null,
            "min_height": null,
            "min_width": null,
            "object_fit": null,
            "object_position": null,
            "order": null,
            "overflow": null,
            "overflow_x": null,
            "overflow_y": null,
            "padding": null,
            "right": null,
            "top": null,
            "visibility": null,
            "width": null
          }
        },
        "ac9297f792264af69abebb7317516401": {
          "model_module": "@jupyter-widgets/controls",
          "model_module_version": "1.5.0",
          "model_name": "HBoxModel",
          "state": {
            "_dom_classes": [],
            "_model_module": "@jupyter-widgets/controls",
            "_model_module_version": "1.5.0",
            "_model_name": "HBoxModel",
            "_view_count": null,
            "_view_module": "@jupyter-widgets/controls",
            "_view_module_version": "1.5.0",
            "_view_name": "HBoxView",
            "box_style": "",
            "children": [
              "IPY_MODEL_d211053f5a754b3c969b28439454058a",
              "IPY_MODEL_a8e48879191f410fa07e4ca81bada238",
              "IPY_MODEL_e9ec8f1920fa4356b050d5fa4b1da637"
            ],
            "layout": "IPY_MODEL_be24d2abbae148c3b3dd62d9135085c2"
          }
        },
        "ae0ef87467c84d86aa3f6cc351ab8c37": {
          "model_module": "@jupyter-widgets/controls",
          "model_module_version": "1.5.0",
          "model_name": "ProgressStyleModel",
          "state": {
            "_model_module": "@jupyter-widgets/controls",
            "_model_module_version": "1.5.0",
            "_model_name": "ProgressStyleModel",
            "_view_count": null,
            "_view_module": "@jupyter-widgets/base",
            "_view_module_version": "1.2.0",
            "_view_name": "StyleView",
            "bar_color": null,
            "description_width": ""
          }
        },
        "b3df8063e7a64f898e539c542ff25beb": {
          "model_module": "@jupyter-widgets/controls",
          "model_module_version": "1.5.0",
          "model_name": "ProgressStyleModel",
          "state": {
            "_model_module": "@jupyter-widgets/controls",
            "_model_module_version": "1.5.0",
            "_model_name": "ProgressStyleModel",
            "_view_count": null,
            "_view_module": "@jupyter-widgets/base",
            "_view_module_version": "1.2.0",
            "_view_name": "StyleView",
            "bar_color": null,
            "description_width": ""
          }
        },
        "b42afdefa3c04c2f9fb046311fa6f2cc": {
          "model_module": "@jupyter-widgets/controls",
          "model_module_version": "1.5.0",
          "model_name": "DescriptionStyleModel",
          "state": {
            "_model_module": "@jupyter-widgets/controls",
            "_model_module_version": "1.5.0",
            "_model_name": "DescriptionStyleModel",
            "_view_count": null,
            "_view_module": "@jupyter-widgets/base",
            "_view_module_version": "1.2.0",
            "_view_name": "StyleView",
            "description_width": ""
          }
        },
        "b72de080f77247829937566d0e6433d7": {
          "model_module": "@jupyter-widgets/base",
          "model_module_version": "1.2.0",
          "model_name": "LayoutModel",
          "state": {
            "_model_module": "@jupyter-widgets/base",
            "_model_module_version": "1.2.0",
            "_model_name": "LayoutModel",
            "_view_count": null,
            "_view_module": "@jupyter-widgets/base",
            "_view_module_version": "1.2.0",
            "_view_name": "LayoutView",
            "align_content": null,
            "align_items": null,
            "align_self": null,
            "border": null,
            "bottom": null,
            "display": null,
            "flex": null,
            "flex_flow": null,
            "grid_area": null,
            "grid_auto_columns": null,
            "grid_auto_flow": null,
            "grid_auto_rows": null,
            "grid_column": null,
            "grid_gap": null,
            "grid_row": null,
            "grid_template_areas": null,
            "grid_template_columns": null,
            "grid_template_rows": null,
            "height": null,
            "justify_content": null,
            "justify_items": null,
            "left": null,
            "margin": null,
            "max_height": null,
            "max_width": null,
            "min_height": null,
            "min_width": null,
            "object_fit": null,
            "object_position": null,
            "order": null,
            "overflow": null,
            "overflow_x": null,
            "overflow_y": null,
            "padding": null,
            "right": null,
            "top": null,
            "visibility": null,
            "width": null
          }
        },
        "b7ebd8288cab46328b7552567b6dabfd": {
          "model_module": "@jupyter-widgets/base",
          "model_module_version": "1.2.0",
          "model_name": "LayoutModel",
          "state": {
            "_model_module": "@jupyter-widgets/base",
            "_model_module_version": "1.2.0",
            "_model_name": "LayoutModel",
            "_view_count": null,
            "_view_module": "@jupyter-widgets/base",
            "_view_module_version": "1.2.0",
            "_view_name": "LayoutView",
            "align_content": null,
            "align_items": null,
            "align_self": null,
            "border": null,
            "bottom": null,
            "display": null,
            "flex": null,
            "flex_flow": null,
            "grid_area": null,
            "grid_auto_columns": null,
            "grid_auto_flow": null,
            "grid_auto_rows": null,
            "grid_column": null,
            "grid_gap": null,
            "grid_row": null,
            "grid_template_areas": null,
            "grid_template_columns": null,
            "grid_template_rows": null,
            "height": null,
            "justify_content": null,
            "justify_items": null,
            "left": null,
            "margin": null,
            "max_height": null,
            "max_width": null,
            "min_height": null,
            "min_width": null,
            "object_fit": null,
            "object_position": null,
            "order": null,
            "overflow": null,
            "overflow_x": null,
            "overflow_y": null,
            "padding": null,
            "right": null,
            "top": null,
            "visibility": null,
            "width": null
          }
        },
        "b8415212057b4ea39d8d8f2ffbc3a089": {
          "model_module": "@jupyter-widgets/controls",
          "model_module_version": "1.5.0",
          "model_name": "ProgressStyleModel",
          "state": {
            "_model_module": "@jupyter-widgets/controls",
            "_model_module_version": "1.5.0",
            "_model_name": "ProgressStyleModel",
            "_view_count": null,
            "_view_module": "@jupyter-widgets/base",
            "_view_module_version": "1.2.0",
            "_view_name": "StyleView",
            "bar_color": null,
            "description_width": ""
          }
        },
        "bdd22fa6edaf427d9148ae34f5e98c1f": {
          "model_module": "@jupyter-widgets/controls",
          "model_module_version": "1.5.0",
          "model_name": "ProgressStyleModel",
          "state": {
            "_model_module": "@jupyter-widgets/controls",
            "_model_module_version": "1.5.0",
            "_model_name": "ProgressStyleModel",
            "_view_count": null,
            "_view_module": "@jupyter-widgets/base",
            "_view_module_version": "1.2.0",
            "_view_name": "StyleView",
            "bar_color": null,
            "description_width": ""
          }
        },
        "be24d2abbae148c3b3dd62d9135085c2": {
          "model_module": "@jupyter-widgets/base",
          "model_module_version": "1.2.0",
          "model_name": "LayoutModel",
          "state": {
            "_model_module": "@jupyter-widgets/base",
            "_model_module_version": "1.2.0",
            "_model_name": "LayoutModel",
            "_view_count": null,
            "_view_module": "@jupyter-widgets/base",
            "_view_module_version": "1.2.0",
            "_view_name": "LayoutView",
            "align_content": null,
            "align_items": null,
            "align_self": null,
            "border": null,
            "bottom": null,
            "display": null,
            "flex": null,
            "flex_flow": null,
            "grid_area": null,
            "grid_auto_columns": null,
            "grid_auto_flow": null,
            "grid_auto_rows": null,
            "grid_column": null,
            "grid_gap": null,
            "grid_row": null,
            "grid_template_areas": null,
            "grid_template_columns": null,
            "grid_template_rows": null,
            "height": null,
            "justify_content": null,
            "justify_items": null,
            "left": null,
            "margin": null,
            "max_height": null,
            "max_width": null,
            "min_height": null,
            "min_width": null,
            "object_fit": null,
            "object_position": null,
            "order": null,
            "overflow": null,
            "overflow_x": null,
            "overflow_y": null,
            "padding": null,
            "right": null,
            "top": null,
            "visibility": null,
            "width": null
          }
        },
        "c02643cc825a405d91bff24747cdbdf6": {
          "model_module": "@jupyter-widgets/controls",
          "model_module_version": "1.5.0",
          "model_name": "HTMLModel",
          "state": {
            "_dom_classes": [],
            "_model_module": "@jupyter-widgets/controls",
            "_model_module_version": "1.5.0",
            "_model_name": "HTMLModel",
            "_view_count": null,
            "_view_module": "@jupyter-widgets/controls",
            "_view_module_version": "1.5.0",
            "_view_name": "HTMLView",
            "description": "",
            "description_tooltip": null,
            "layout": "IPY_MODEL_fc55de9dac6147068dfa938fd2a7d0f7",
            "placeholder": "​",
            "style": "IPY_MODEL_08bb90fa5d9144b9b9e1e7aeffd3736e",
            "value": " 1.95G/1.95G [02:14&lt;00:00, 16.8MB/s]"
          }
        },
        "c06d0290102c47d8a26580edba22505e": {
          "model_module": "@jupyter-widgets/base",
          "model_module_version": "1.2.0",
          "model_name": "LayoutModel",
          "state": {
            "_model_module": "@jupyter-widgets/base",
            "_model_module_version": "1.2.0",
            "_model_name": "LayoutModel",
            "_view_count": null,
            "_view_module": "@jupyter-widgets/base",
            "_view_module_version": "1.2.0",
            "_view_name": "LayoutView",
            "align_content": null,
            "align_items": null,
            "align_self": null,
            "border": null,
            "bottom": null,
            "display": null,
            "flex": null,
            "flex_flow": null,
            "grid_area": null,
            "grid_auto_columns": null,
            "grid_auto_flow": null,
            "grid_auto_rows": null,
            "grid_column": null,
            "grid_gap": null,
            "grid_row": null,
            "grid_template_areas": null,
            "grid_template_columns": null,
            "grid_template_rows": null,
            "height": null,
            "justify_content": null,
            "justify_items": null,
            "left": null,
            "margin": null,
            "max_height": null,
            "max_width": null,
            "min_height": null,
            "min_width": null,
            "object_fit": null,
            "object_position": null,
            "order": null,
            "overflow": null,
            "overflow_x": null,
            "overflow_y": null,
            "padding": null,
            "right": null,
            "top": null,
            "visibility": null,
            "width": null
          }
        },
        "c0cb615052024406836b80086b3a17e9": {
          "model_module": "@jupyter-widgets/base",
          "model_module_version": "1.2.0",
          "model_name": "LayoutModel",
          "state": {
            "_model_module": "@jupyter-widgets/base",
            "_model_module_version": "1.2.0",
            "_model_name": "LayoutModel",
            "_view_count": null,
            "_view_module": "@jupyter-widgets/base",
            "_view_module_version": "1.2.0",
            "_view_name": "LayoutView",
            "align_content": null,
            "align_items": null,
            "align_self": null,
            "border": null,
            "bottom": null,
            "display": null,
            "flex": null,
            "flex_flow": null,
            "grid_area": null,
            "grid_auto_columns": null,
            "grid_auto_flow": null,
            "grid_auto_rows": null,
            "grid_column": null,
            "grid_gap": null,
            "grid_row": null,
            "grid_template_areas": null,
            "grid_template_columns": null,
            "grid_template_rows": null,
            "height": null,
            "justify_content": null,
            "justify_items": null,
            "left": null,
            "margin": null,
            "max_height": null,
            "max_width": null,
            "min_height": null,
            "min_width": null,
            "object_fit": null,
            "object_position": null,
            "order": null,
            "overflow": null,
            "overflow_x": null,
            "overflow_y": null,
            "padding": null,
            "right": null,
            "top": null,
            "visibility": null,
            "width": null
          }
        },
        "c14f4b8ef2414730b68e9fdac648bac2": {
          "model_module": "@jupyter-widgets/base",
          "model_module_version": "1.2.0",
          "model_name": "LayoutModel",
          "state": {
            "_model_module": "@jupyter-widgets/base",
            "_model_module_version": "1.2.0",
            "_model_name": "LayoutModel",
            "_view_count": null,
            "_view_module": "@jupyter-widgets/base",
            "_view_module_version": "1.2.0",
            "_view_name": "LayoutView",
            "align_content": null,
            "align_items": null,
            "align_self": null,
            "border": null,
            "bottom": null,
            "display": null,
            "flex": null,
            "flex_flow": null,
            "grid_area": null,
            "grid_auto_columns": null,
            "grid_auto_flow": null,
            "grid_auto_rows": null,
            "grid_column": null,
            "grid_gap": null,
            "grid_row": null,
            "grid_template_areas": null,
            "grid_template_columns": null,
            "grid_template_rows": null,
            "height": null,
            "justify_content": null,
            "justify_items": null,
            "left": null,
            "margin": null,
            "max_height": null,
            "max_width": null,
            "min_height": null,
            "min_width": null,
            "object_fit": null,
            "object_position": null,
            "order": null,
            "overflow": null,
            "overflow_x": null,
            "overflow_y": null,
            "padding": null,
            "right": null,
            "top": null,
            "visibility": null,
            "width": null
          }
        },
        "c4effdf74c064d5b901dca17429737a6": {
          "model_module": "@jupyter-widgets/base",
          "model_module_version": "1.2.0",
          "model_name": "LayoutModel",
          "state": {
            "_model_module": "@jupyter-widgets/base",
            "_model_module_version": "1.2.0",
            "_model_name": "LayoutModel",
            "_view_count": null,
            "_view_module": "@jupyter-widgets/base",
            "_view_module_version": "1.2.0",
            "_view_name": "LayoutView",
            "align_content": null,
            "align_items": null,
            "align_self": null,
            "border": null,
            "bottom": null,
            "display": null,
            "flex": null,
            "flex_flow": null,
            "grid_area": null,
            "grid_auto_columns": null,
            "grid_auto_flow": null,
            "grid_auto_rows": null,
            "grid_column": null,
            "grid_gap": null,
            "grid_row": null,
            "grid_template_areas": null,
            "grid_template_columns": null,
            "grid_template_rows": null,
            "height": null,
            "justify_content": null,
            "justify_items": null,
            "left": null,
            "margin": null,
            "max_height": null,
            "max_width": null,
            "min_height": null,
            "min_width": null,
            "object_fit": null,
            "object_position": null,
            "order": null,
            "overflow": null,
            "overflow_x": null,
            "overflow_y": null,
            "padding": null,
            "right": null,
            "top": null,
            "visibility": null,
            "width": null
          }
        },
        "c511304593b14ccdb6a71fa87e2e6662": {
          "model_module": "@jupyter-widgets/controls",
          "model_module_version": "1.5.0",
          "model_name": "HBoxModel",
          "state": {
            "_dom_classes": [],
            "_model_module": "@jupyter-widgets/controls",
            "_model_module_version": "1.5.0",
            "_model_name": "HBoxModel",
            "_view_count": null,
            "_view_module": "@jupyter-widgets/controls",
            "_view_module_version": "1.5.0",
            "_view_name": "HBoxView",
            "box_style": "",
            "children": [
              "IPY_MODEL_24cf23b284ce48c498d1a3b2f1caaf3f",
              "IPY_MODEL_77eb19ec1d274e96a18274fe96505c42",
              "IPY_MODEL_a6906f91d8b84b7980848437efbfde90"
            ],
            "layout": "IPY_MODEL_a8f42238ef8346f7a57a2c1afa07f030"
          }
        },
        "c591f9812a9b42bf9d55f6cc9aa7cb71": {
          "model_module": "@jupyter-widgets/controls",
          "model_module_version": "1.5.0",
          "model_name": "HTMLModel",
          "state": {
            "_dom_classes": [],
            "_model_module": "@jupyter-widgets/controls",
            "_model_module_version": "1.5.0",
            "_model_name": "HTMLModel",
            "_view_count": null,
            "_view_module": "@jupyter-widgets/controls",
            "_view_module_version": "1.5.0",
            "_view_name": "HTMLView",
            "description": "",
            "description_tooltip": null,
            "layout": "IPY_MODEL_161ad11d6b88474aa0457db7f7a86cde",
            "placeholder": "​",
            "style": "IPY_MODEL_3f4f18dede8d4d62b658b80ed86faa1f",
            "value": " 111/111 [00:00&lt;00:00, 9.38kB/s]"
          }
        },
        "c68fa01092fc4a8991dd868439712ffc": {
          "model_module": "@jupyter-widgets/base",
          "model_module_version": "1.2.0",
          "model_name": "LayoutModel",
          "state": {
            "_model_module": "@jupyter-widgets/base",
            "_model_module_version": "1.2.0",
            "_model_name": "LayoutModel",
            "_view_count": null,
            "_view_module": "@jupyter-widgets/base",
            "_view_module_version": "1.2.0",
            "_view_name": "LayoutView",
            "align_content": null,
            "align_items": null,
            "align_self": null,
            "border": null,
            "bottom": null,
            "display": null,
            "flex": null,
            "flex_flow": null,
            "grid_area": null,
            "grid_auto_columns": null,
            "grid_auto_flow": null,
            "grid_auto_rows": null,
            "grid_column": null,
            "grid_gap": null,
            "grid_row": null,
            "grid_template_areas": null,
            "grid_template_columns": null,
            "grid_template_rows": null,
            "height": null,
            "justify_content": null,
            "justify_items": null,
            "left": null,
            "margin": null,
            "max_height": null,
            "max_width": null,
            "min_height": null,
            "min_width": null,
            "object_fit": null,
            "object_position": null,
            "order": null,
            "overflow": null,
            "overflow_x": null,
            "overflow_y": null,
            "padding": null,
            "right": null,
            "top": null,
            "visibility": null,
            "width": null
          }
        },
        "c789e061a2a84b1ca7070f14dee65c2d": {
          "model_module": "@jupyter-widgets/base",
          "model_module_version": "1.2.0",
          "model_name": "LayoutModel",
          "state": {
            "_model_module": "@jupyter-widgets/base",
            "_model_module_version": "1.2.0",
            "_model_name": "LayoutModel",
            "_view_count": null,
            "_view_module": "@jupyter-widgets/base",
            "_view_module_version": "1.2.0",
            "_view_name": "LayoutView",
            "align_content": null,
            "align_items": null,
            "align_self": null,
            "border": null,
            "bottom": null,
            "display": null,
            "flex": null,
            "flex_flow": null,
            "grid_area": null,
            "grid_auto_columns": null,
            "grid_auto_flow": null,
            "grid_auto_rows": null,
            "grid_column": null,
            "grid_gap": null,
            "grid_row": null,
            "grid_template_areas": null,
            "grid_template_columns": null,
            "grid_template_rows": null,
            "height": null,
            "justify_content": null,
            "justify_items": null,
            "left": null,
            "margin": null,
            "max_height": null,
            "max_width": null,
            "min_height": null,
            "min_width": null,
            "object_fit": null,
            "object_position": null,
            "order": null,
            "overflow": null,
            "overflow_x": null,
            "overflow_y": null,
            "padding": null,
            "right": null,
            "top": null,
            "visibility": null,
            "width": null
          }
        },
        "c7b7fce1502e498c8b2e983bc31fb408": {
          "model_module": "@jupyter-widgets/controls",
          "model_module_version": "1.5.0",
          "model_name": "DescriptionStyleModel",
          "state": {
            "_model_module": "@jupyter-widgets/controls",
            "_model_module_version": "1.5.0",
            "_model_name": "DescriptionStyleModel",
            "_view_count": null,
            "_view_module": "@jupyter-widgets/base",
            "_view_module_version": "1.2.0",
            "_view_name": "StyleView",
            "description_width": ""
          }
        },
        "c898f1dee1f743d286ff1d869b8a118c": {
          "model_module": "@jupyter-widgets/controls",
          "model_module_version": "1.5.0",
          "model_name": "HTMLModel",
          "state": {
            "_dom_classes": [],
            "_model_module": "@jupyter-widgets/controls",
            "_model_module_version": "1.5.0",
            "_model_name": "HTMLModel",
            "_view_count": null,
            "_view_module": "@jupyter-widgets/controls",
            "_view_module_version": "1.5.0",
            "_view_name": "HTMLView",
            "description": "",
            "description_tooltip": null,
            "layout": "IPY_MODEL_cdc347bc180e42949a2ec5751f63e00d",
            "placeholder": "​",
            "style": "IPY_MODEL_4c334838751548af83ea841f3270a921",
            "value": "Downloading (…)l-00008-of-00008.bin: 100%"
          }
        },
        "c918607f794f4b97b7bfe8419ba0bf4c": {
          "model_module": "@jupyter-widgets/controls",
          "model_module_version": "1.5.0",
          "model_name": "ProgressStyleModel",
          "state": {
            "_model_module": "@jupyter-widgets/controls",
            "_model_module_version": "1.5.0",
            "_model_name": "ProgressStyleModel",
            "_view_count": null,
            "_view_module": "@jupyter-widgets/base",
            "_view_module_version": "1.2.0",
            "_view_name": "StyleView",
            "bar_color": null,
            "description_width": ""
          }
        },
        "caf8f1b967cd4e929131df9e45d402e5": {
          "model_module": "@jupyter-widgets/base",
          "model_module_version": "1.2.0",
          "model_name": "LayoutModel",
          "state": {
            "_model_module": "@jupyter-widgets/base",
            "_model_module_version": "1.2.0",
            "_model_name": "LayoutModel",
            "_view_count": null,
            "_view_module": "@jupyter-widgets/base",
            "_view_module_version": "1.2.0",
            "_view_name": "LayoutView",
            "align_content": null,
            "align_items": null,
            "align_self": null,
            "border": null,
            "bottom": null,
            "display": null,
            "flex": null,
            "flex_flow": null,
            "grid_area": null,
            "grid_auto_columns": null,
            "grid_auto_flow": null,
            "grid_auto_rows": null,
            "grid_column": null,
            "grid_gap": null,
            "grid_row": null,
            "grid_template_areas": null,
            "grid_template_columns": null,
            "grid_template_rows": null,
            "height": null,
            "justify_content": null,
            "justify_items": null,
            "left": null,
            "margin": null,
            "max_height": null,
            "max_width": null,
            "min_height": null,
            "min_width": null,
            "object_fit": null,
            "object_position": null,
            "order": null,
            "overflow": null,
            "overflow_x": null,
            "overflow_y": null,
            "padding": null,
            "right": null,
            "top": null,
            "visibility": null,
            "width": null
          }
        },
        "cb6b90dc0f4847709d2aff0f66c36983": {
          "model_module": "@jupyter-widgets/controls",
          "model_module_version": "1.5.0",
          "model_name": "ProgressStyleModel",
          "state": {
            "_model_module": "@jupyter-widgets/controls",
            "_model_module_version": "1.5.0",
            "_model_name": "ProgressStyleModel",
            "_view_count": null,
            "_view_module": "@jupyter-widgets/base",
            "_view_module_version": "1.2.0",
            "_view_name": "StyleView",
            "bar_color": null,
            "description_width": ""
          }
        },
        "cbb931698e974e32bf6b8985cd8aca2b": {
          "model_module": "@jupyter-widgets/controls",
          "model_module_version": "1.5.0",
          "model_name": "DescriptionStyleModel",
          "state": {
            "_model_module": "@jupyter-widgets/controls",
            "_model_module_version": "1.5.0",
            "_model_name": "DescriptionStyleModel",
            "_view_count": null,
            "_view_module": "@jupyter-widgets/base",
            "_view_module_version": "1.2.0",
            "_view_name": "StyleView",
            "description_width": ""
          }
        },
        "cdc347bc180e42949a2ec5751f63e00d": {
          "model_module": "@jupyter-widgets/base",
          "model_module_version": "1.2.0",
          "model_name": "LayoutModel",
          "state": {
            "_model_module": "@jupyter-widgets/base",
            "_model_module_version": "1.2.0",
            "_model_name": "LayoutModel",
            "_view_count": null,
            "_view_module": "@jupyter-widgets/base",
            "_view_module_version": "1.2.0",
            "_view_name": "LayoutView",
            "align_content": null,
            "align_items": null,
            "align_self": null,
            "border": null,
            "bottom": null,
            "display": null,
            "flex": null,
            "flex_flow": null,
            "grid_area": null,
            "grid_auto_columns": null,
            "grid_auto_flow": null,
            "grid_auto_rows": null,
            "grid_column": null,
            "grid_gap": null,
            "grid_row": null,
            "grid_template_areas": null,
            "grid_template_columns": null,
            "grid_template_rows": null,
            "height": null,
            "justify_content": null,
            "justify_items": null,
            "left": null,
            "margin": null,
            "max_height": null,
            "max_width": null,
            "min_height": null,
            "min_width": null,
            "object_fit": null,
            "object_position": null,
            "order": null,
            "overflow": null,
            "overflow_x": null,
            "overflow_y": null,
            "padding": null,
            "right": null,
            "top": null,
            "visibility": null,
            "width": null
          }
        },
        "cde4facee14b47bdbb719ea95c257ef1": {
          "model_module": "@jupyter-widgets/base",
          "model_module_version": "1.2.0",
          "model_name": "LayoutModel",
          "state": {
            "_model_module": "@jupyter-widgets/base",
            "_model_module_version": "1.2.0",
            "_model_name": "LayoutModel",
            "_view_count": null,
            "_view_module": "@jupyter-widgets/base",
            "_view_module_version": "1.2.0",
            "_view_name": "LayoutView",
            "align_content": null,
            "align_items": null,
            "align_self": null,
            "border": null,
            "bottom": null,
            "display": null,
            "flex": null,
            "flex_flow": null,
            "grid_area": null,
            "grid_auto_columns": null,
            "grid_auto_flow": null,
            "grid_auto_rows": null,
            "grid_column": null,
            "grid_gap": null,
            "grid_row": null,
            "grid_template_areas": null,
            "grid_template_columns": null,
            "grid_template_rows": null,
            "height": null,
            "justify_content": null,
            "justify_items": null,
            "left": null,
            "margin": null,
            "max_height": null,
            "max_width": null,
            "min_height": null,
            "min_width": null,
            "object_fit": null,
            "object_position": null,
            "order": null,
            "overflow": null,
            "overflow_x": null,
            "overflow_y": null,
            "padding": null,
            "right": null,
            "top": null,
            "visibility": null,
            "width": null
          }
        },
        "cf40e71a954641a8b31c1929c2ca14a2": {
          "model_module": "@jupyter-widgets/controls",
          "model_module_version": "1.5.0",
          "model_name": "HTMLModel",
          "state": {
            "_dom_classes": [],
            "_model_module": "@jupyter-widgets/controls",
            "_model_module_version": "1.5.0",
            "_model_name": "HTMLModel",
            "_view_count": null,
            "_view_module": "@jupyter-widgets/controls",
            "_view_module_version": "1.5.0",
            "_view_name": "HTMLView",
            "description": "",
            "description_tooltip": null,
            "layout": "IPY_MODEL_5eec3bd7f34e48e3a3731738719df42f",
            "placeholder": "​",
            "style": "IPY_MODEL_48382f42c641444092ac303f1386b9a4",
            "value": " 8/8 [17:06&lt;00:00, 108.91s/it]"
          }
        },
        "cf65b3e00c964a508edc55ee3e8b7b40": {
          "model_module": "@jupyter-widgets/controls",
          "model_module_version": "1.5.0",
          "model_name": "DescriptionStyleModel",
          "state": {
            "_model_module": "@jupyter-widgets/controls",
            "_model_module_version": "1.5.0",
            "_model_name": "DescriptionStyleModel",
            "_view_count": null,
            "_view_module": "@jupyter-widgets/base",
            "_view_module_version": "1.2.0",
            "_view_name": "StyleView",
            "description_width": ""
          }
        },
        "cfd0c9f7d4d84a58a297d63bceff6b1b": {
          "model_module": "@jupyter-widgets/base",
          "model_module_version": "1.2.0",
          "model_name": "LayoutModel",
          "state": {
            "_model_module": "@jupyter-widgets/base",
            "_model_module_version": "1.2.0",
            "_model_name": "LayoutModel",
            "_view_count": null,
            "_view_module": "@jupyter-widgets/base",
            "_view_module_version": "1.2.0",
            "_view_name": "LayoutView",
            "align_content": null,
            "align_items": null,
            "align_self": null,
            "border": null,
            "bottom": null,
            "display": null,
            "flex": null,
            "flex_flow": null,
            "grid_area": null,
            "grid_auto_columns": null,
            "grid_auto_flow": null,
            "grid_auto_rows": null,
            "grid_column": null,
            "grid_gap": null,
            "grid_row": null,
            "grid_template_areas": null,
            "grid_template_columns": null,
            "grid_template_rows": null,
            "height": null,
            "justify_content": null,
            "justify_items": null,
            "left": null,
            "margin": null,
            "max_height": null,
            "max_width": null,
            "min_height": null,
            "min_width": null,
            "object_fit": null,
            "object_position": null,
            "order": null,
            "overflow": null,
            "overflow_x": null,
            "overflow_y": null,
            "padding": null,
            "right": null,
            "top": null,
            "visibility": null,
            "width": null
          }
        },
        "cfeef2ac5ae544d9a4265468554067fe": {
          "model_module": "@jupyter-widgets/controls",
          "model_module_version": "1.5.0",
          "model_name": "HTMLModel",
          "state": {
            "_dom_classes": [],
            "_model_module": "@jupyter-widgets/controls",
            "_model_module_version": "1.5.0",
            "_model_name": "HTMLModel",
            "_view_count": null,
            "_view_module": "@jupyter-widgets/controls",
            "_view_module_version": "1.5.0",
            "_view_name": "HTMLView",
            "description": "",
            "description_tooltip": null,
            "layout": "IPY_MODEL_8b7861dee00b44239e4ef840271f6267",
            "placeholder": "​",
            "style": "IPY_MODEL_e42836facbe5431185c6f55349d66215",
            "value": "Downloading (…)okenizer_config.json: 100%"
          }
        },
        "d0e58309ccbe49e7aaaaa7c2153a7201": {
          "model_module": "@jupyter-widgets/base",
          "model_module_version": "1.2.0",
          "model_name": "LayoutModel",
          "state": {
            "_model_module": "@jupyter-widgets/base",
            "_model_module_version": "1.2.0",
            "_model_name": "LayoutModel",
            "_view_count": null,
            "_view_module": "@jupyter-widgets/base",
            "_view_module_version": "1.2.0",
            "_view_name": "LayoutView",
            "align_content": null,
            "align_items": null,
            "align_self": null,
            "border": null,
            "bottom": null,
            "display": null,
            "flex": null,
            "flex_flow": null,
            "grid_area": null,
            "grid_auto_columns": null,
            "grid_auto_flow": null,
            "grid_auto_rows": null,
            "grid_column": null,
            "grid_gap": null,
            "grid_row": null,
            "grid_template_areas": null,
            "grid_template_columns": null,
            "grid_template_rows": null,
            "height": null,
            "justify_content": null,
            "justify_items": null,
            "left": null,
            "margin": null,
            "max_height": null,
            "max_width": null,
            "min_height": null,
            "min_width": null,
            "object_fit": null,
            "object_position": null,
            "order": null,
            "overflow": null,
            "overflow_x": null,
            "overflow_y": null,
            "padding": null,
            "right": null,
            "top": null,
            "visibility": null,
            "width": null
          }
        },
        "d136f1dd8e7a4196858c8be7bddec25d": {
          "model_module": "@jupyter-widgets/base",
          "model_module_version": "1.2.0",
          "model_name": "LayoutModel",
          "state": {
            "_model_module": "@jupyter-widgets/base",
            "_model_module_version": "1.2.0",
            "_model_name": "LayoutModel",
            "_view_count": null,
            "_view_module": "@jupyter-widgets/base",
            "_view_module_version": "1.2.0",
            "_view_name": "LayoutView",
            "align_content": null,
            "align_items": null,
            "align_self": null,
            "border": null,
            "bottom": null,
            "display": null,
            "flex": null,
            "flex_flow": null,
            "grid_area": null,
            "grid_auto_columns": null,
            "grid_auto_flow": null,
            "grid_auto_rows": null,
            "grid_column": null,
            "grid_gap": null,
            "grid_row": null,
            "grid_template_areas": null,
            "grid_template_columns": null,
            "grid_template_rows": null,
            "height": null,
            "justify_content": null,
            "justify_items": null,
            "left": null,
            "margin": null,
            "max_height": null,
            "max_width": null,
            "min_height": null,
            "min_width": null,
            "object_fit": null,
            "object_position": null,
            "order": null,
            "overflow": null,
            "overflow_x": null,
            "overflow_y": null,
            "padding": null,
            "right": null,
            "top": null,
            "visibility": null,
            "width": null
          }
        },
        "d211053f5a754b3c969b28439454058a": {
          "model_module": "@jupyter-widgets/controls",
          "model_module_version": "1.5.0",
          "model_name": "HTMLModel",
          "state": {
            "_dom_classes": [],
            "_model_module": "@jupyter-widgets/controls",
            "_model_module_version": "1.5.0",
            "_model_name": "HTMLModel",
            "_view_count": null,
            "_view_module": "@jupyter-widgets/controls",
            "_view_module_version": "1.5.0",
            "_view_name": "HTMLView",
            "description": "",
            "description_tooltip": null,
            "layout": "IPY_MODEL_c789e061a2a84b1ca7070f14dee65c2d",
            "placeholder": "​",
            "style": "IPY_MODEL_791ffc5ba8504dfbb626135447602222",
            "value": "Downloading (…)l-00001-of-00008.bin: 100%"
          }
        },
        "d5bd19e9d2704a86b9acf6980adeb767": {
          "model_module": "@jupyter-widgets/controls",
          "model_module_version": "1.5.0",
          "model_name": "ProgressStyleModel",
          "state": {
            "_model_module": "@jupyter-widgets/controls",
            "_model_module_version": "1.5.0",
            "_model_name": "ProgressStyleModel",
            "_view_count": null,
            "_view_module": "@jupyter-widgets/base",
            "_view_module_version": "1.2.0",
            "_view_name": "StyleView",
            "bar_color": null,
            "description_width": ""
          }
        },
        "d5de701d20694abeaa0573f7db318cf1": {
          "model_module": "@jupyter-widgets/base",
          "model_module_version": "1.2.0",
          "model_name": "LayoutModel",
          "state": {
            "_model_module": "@jupyter-widgets/base",
            "_model_module_version": "1.2.0",
            "_model_name": "LayoutModel",
            "_view_count": null,
            "_view_module": "@jupyter-widgets/base",
            "_view_module_version": "1.2.0",
            "_view_name": "LayoutView",
            "align_content": null,
            "align_items": null,
            "align_self": null,
            "border": null,
            "bottom": null,
            "display": null,
            "flex": null,
            "flex_flow": null,
            "grid_area": null,
            "grid_auto_columns": null,
            "grid_auto_flow": null,
            "grid_auto_rows": null,
            "grid_column": null,
            "grid_gap": null,
            "grid_row": null,
            "grid_template_areas": null,
            "grid_template_columns": null,
            "grid_template_rows": null,
            "height": null,
            "justify_content": null,
            "justify_items": null,
            "left": null,
            "margin": null,
            "max_height": null,
            "max_width": null,
            "min_height": null,
            "min_width": null,
            "object_fit": null,
            "object_position": null,
            "order": null,
            "overflow": null,
            "overflow_x": null,
            "overflow_y": null,
            "padding": null,
            "right": null,
            "top": null,
            "visibility": null,
            "width": null
          }
        },
        "d74d08d3fef94d7698aa74d631727cfc": {
          "model_module": "@jupyter-widgets/controls",
          "model_module_version": "1.5.0",
          "model_name": "HTMLModel",
          "state": {
            "_dom_classes": [],
            "_model_module": "@jupyter-widgets/controls",
            "_model_module_version": "1.5.0",
            "_model_name": "HTMLModel",
            "_view_count": null,
            "_view_module": "@jupyter-widgets/controls",
            "_view_module_version": "1.5.0",
            "_view_name": "HTMLView",
            "description": "",
            "description_tooltip": null,
            "layout": "IPY_MODEL_c0cb615052024406836b80086b3a17e9",
            "placeholder": "​",
            "style": "IPY_MODEL_98a7bbd037b24e44a7a7667a67200172",
            "value": "Downloading (…)l-00003-of-00008.bin: 100%"
          }
        },
        "d86264c81ca44a729d32956ebc8ccb2a": {
          "model_module": "@jupyter-widgets/controls",
          "model_module_version": "1.5.0",
          "model_name": "DescriptionStyleModel",
          "state": {
            "_model_module": "@jupyter-widgets/controls",
            "_model_module_version": "1.5.0",
            "_model_name": "DescriptionStyleModel",
            "_view_count": null,
            "_view_module": "@jupyter-widgets/base",
            "_view_module_version": "1.2.0",
            "_view_name": "StyleView",
            "description_width": ""
          }
        },
        "da60d661ce7d4ceca2bc5c492c8066f9": {
          "model_module": "@jupyter-widgets/base",
          "model_module_version": "1.2.0",
          "model_name": "LayoutModel",
          "state": {
            "_model_module": "@jupyter-widgets/base",
            "_model_module_version": "1.2.0",
            "_model_name": "LayoutModel",
            "_view_count": null,
            "_view_module": "@jupyter-widgets/base",
            "_view_module_version": "1.2.0",
            "_view_name": "LayoutView",
            "align_content": null,
            "align_items": null,
            "align_self": null,
            "border": null,
            "bottom": null,
            "display": null,
            "flex": null,
            "flex_flow": null,
            "grid_area": null,
            "grid_auto_columns": null,
            "grid_auto_flow": null,
            "grid_auto_rows": null,
            "grid_column": null,
            "grid_gap": null,
            "grid_row": null,
            "grid_template_areas": null,
            "grid_template_columns": null,
            "grid_template_rows": null,
            "height": null,
            "justify_content": null,
            "justify_items": null,
            "left": null,
            "margin": null,
            "max_height": null,
            "max_width": null,
            "min_height": null,
            "min_width": null,
            "object_fit": null,
            "object_position": null,
            "order": null,
            "overflow": null,
            "overflow_x": null,
            "overflow_y": null,
            "padding": null,
            "right": null,
            "top": null,
            "visibility": null,
            "width": null
          }
        },
        "dca99879bde345f5ad7206b0cd3440bc": {
          "model_module": "@jupyter-widgets/base",
          "model_module_version": "1.2.0",
          "model_name": "LayoutModel",
          "state": {
            "_model_module": "@jupyter-widgets/base",
            "_model_module_version": "1.2.0",
            "_model_name": "LayoutModel",
            "_view_count": null,
            "_view_module": "@jupyter-widgets/base",
            "_view_module_version": "1.2.0",
            "_view_name": "LayoutView",
            "align_content": null,
            "align_items": null,
            "align_self": null,
            "border": null,
            "bottom": null,
            "display": null,
            "flex": null,
            "flex_flow": null,
            "grid_area": null,
            "grid_auto_columns": null,
            "grid_auto_flow": null,
            "grid_auto_rows": null,
            "grid_column": null,
            "grid_gap": null,
            "grid_row": null,
            "grid_template_areas": null,
            "grid_template_columns": null,
            "grid_template_rows": null,
            "height": null,
            "justify_content": null,
            "justify_items": null,
            "left": null,
            "margin": null,
            "max_height": null,
            "max_width": null,
            "min_height": null,
            "min_width": null,
            "object_fit": null,
            "object_position": null,
            "order": null,
            "overflow": null,
            "overflow_x": null,
            "overflow_y": null,
            "padding": null,
            "right": null,
            "top": null,
            "visibility": null,
            "width": null
          }
        },
        "e3683ba0d2de4d41b260611d6ab7127f": {
          "model_module": "@jupyter-widgets/controls",
          "model_module_version": "1.5.0",
          "model_name": "HBoxModel",
          "state": {
            "_dom_classes": [],
            "_model_module": "@jupyter-widgets/controls",
            "_model_module_version": "1.5.0",
            "_model_name": "HBoxModel",
            "_view_count": null,
            "_view_module": "@jupyter-widgets/controls",
            "_view_module_version": "1.5.0",
            "_view_name": "HBoxView",
            "box_style": "",
            "children": [
              "IPY_MODEL_30d629be139f43d7980465f172248e23",
              "IPY_MODEL_6758da889bba4cc88dd73abc68b0075f",
              "IPY_MODEL_7a12b5b796a141668cce0d1dea4895ef"
            ],
            "layout": "IPY_MODEL_71430f00ae4f428489e8cd63b0ae3628"
          }
        },
        "e3eb7a6bb414409384534da4265a4865": {
          "model_module": "@jupyter-widgets/base",
          "model_module_version": "1.2.0",
          "model_name": "LayoutModel",
          "state": {
            "_model_module": "@jupyter-widgets/base",
            "_model_module_version": "1.2.0",
            "_model_name": "LayoutModel",
            "_view_count": null,
            "_view_module": "@jupyter-widgets/base",
            "_view_module_version": "1.2.0",
            "_view_name": "LayoutView",
            "align_content": null,
            "align_items": null,
            "align_self": null,
            "border": null,
            "bottom": null,
            "display": null,
            "flex": null,
            "flex_flow": null,
            "grid_area": null,
            "grid_auto_columns": null,
            "grid_auto_flow": null,
            "grid_auto_rows": null,
            "grid_column": null,
            "grid_gap": null,
            "grid_row": null,
            "grid_template_areas": null,
            "grid_template_columns": null,
            "grid_template_rows": null,
            "height": null,
            "justify_content": null,
            "justify_items": null,
            "left": null,
            "margin": null,
            "max_height": null,
            "max_width": null,
            "min_height": null,
            "min_width": null,
            "object_fit": null,
            "object_position": null,
            "order": null,
            "overflow": null,
            "overflow_x": null,
            "overflow_y": null,
            "padding": null,
            "right": null,
            "top": null,
            "visibility": null,
            "width": null
          }
        },
        "e42836facbe5431185c6f55349d66215": {
          "model_module": "@jupyter-widgets/controls",
          "model_module_version": "1.5.0",
          "model_name": "DescriptionStyleModel",
          "state": {
            "_model_module": "@jupyter-widgets/controls",
            "_model_module_version": "1.5.0",
            "_model_name": "DescriptionStyleModel",
            "_view_count": null,
            "_view_module": "@jupyter-widgets/base",
            "_view_module_version": "1.2.0",
            "_view_name": "StyleView",
            "description_width": ""
          }
        },
        "e459e585fbb74107983c0b5ecb4ead76": {
          "model_module": "@jupyter-widgets/controls",
          "model_module_version": "1.5.0",
          "model_name": "HBoxModel",
          "state": {
            "_dom_classes": [],
            "_model_module": "@jupyter-widgets/controls",
            "_model_module_version": "1.5.0",
            "_model_name": "HBoxModel",
            "_view_count": null,
            "_view_module": "@jupyter-widgets/controls",
            "_view_module_version": "1.5.0",
            "_view_name": "HBoxView",
            "box_style": "",
            "children": [
              "IPY_MODEL_790d002de2a344a8a246bd63d1943281",
              "IPY_MODEL_65b0cab2494c4e1e93f995ec58714a9d",
              "IPY_MODEL_37bc8ca2b6c44d39b10f8f16aaad9597"
            ],
            "layout": "IPY_MODEL_665e8971825048788272aff186b62d8f"
          }
        },
        "e4a3bdcf32264271915c7b7f0a79bdc1": {
          "model_module": "@jupyter-widgets/base",
          "model_module_version": "1.2.0",
          "model_name": "LayoutModel",
          "state": {
            "_model_module": "@jupyter-widgets/base",
            "_model_module_version": "1.2.0",
            "_model_name": "LayoutModel",
            "_view_count": null,
            "_view_module": "@jupyter-widgets/base",
            "_view_module_version": "1.2.0",
            "_view_name": "LayoutView",
            "align_content": null,
            "align_items": null,
            "align_self": null,
            "border": null,
            "bottom": null,
            "display": null,
            "flex": null,
            "flex_flow": null,
            "grid_area": null,
            "grid_auto_columns": null,
            "grid_auto_flow": null,
            "grid_auto_rows": null,
            "grid_column": null,
            "grid_gap": null,
            "grid_row": null,
            "grid_template_areas": null,
            "grid_template_columns": null,
            "grid_template_rows": null,
            "height": null,
            "justify_content": null,
            "justify_items": null,
            "left": null,
            "margin": null,
            "max_height": null,
            "max_width": null,
            "min_height": null,
            "min_width": null,
            "object_fit": null,
            "object_position": null,
            "order": null,
            "overflow": null,
            "overflow_x": null,
            "overflow_y": null,
            "padding": null,
            "right": null,
            "top": null,
            "visibility": null,
            "width": null
          }
        },
        "e564614067d74f00bcda4e0040051434": {
          "model_module": "@jupyter-widgets/controls",
          "model_module_version": "1.5.0",
          "model_name": "ProgressStyleModel",
          "state": {
            "_model_module": "@jupyter-widgets/controls",
            "_model_module_version": "1.5.0",
            "_model_name": "ProgressStyleModel",
            "_view_count": null,
            "_view_module": "@jupyter-widgets/base",
            "_view_module_version": "1.2.0",
            "_view_name": "StyleView",
            "bar_color": null,
            "description_width": ""
          }
        },
        "e6f1b2212e7b4f7c8c4c06d7955b462a": {
          "model_module": "@jupyter-widgets/controls",
          "model_module_version": "1.5.0",
          "model_name": "DescriptionStyleModel",
          "state": {
            "_model_module": "@jupyter-widgets/controls",
            "_model_module_version": "1.5.0",
            "_model_name": "DescriptionStyleModel",
            "_view_count": null,
            "_view_module": "@jupyter-widgets/base",
            "_view_module_version": "1.2.0",
            "_view_name": "StyleView",
            "description_width": ""
          }
        },
        "e774e444661a4e3395fcf38ab553ed77": {
          "model_module": "@jupyter-widgets/base",
          "model_module_version": "1.2.0",
          "model_name": "LayoutModel",
          "state": {
            "_model_module": "@jupyter-widgets/base",
            "_model_module_version": "1.2.0",
            "_model_name": "LayoutModel",
            "_view_count": null,
            "_view_module": "@jupyter-widgets/base",
            "_view_module_version": "1.2.0",
            "_view_name": "LayoutView",
            "align_content": null,
            "align_items": null,
            "align_self": null,
            "border": null,
            "bottom": null,
            "display": null,
            "flex": null,
            "flex_flow": null,
            "grid_area": null,
            "grid_auto_columns": null,
            "grid_auto_flow": null,
            "grid_auto_rows": null,
            "grid_column": null,
            "grid_gap": null,
            "grid_row": null,
            "grid_template_areas": null,
            "grid_template_columns": null,
            "grid_template_rows": null,
            "height": null,
            "justify_content": null,
            "justify_items": null,
            "left": null,
            "margin": null,
            "max_height": null,
            "max_width": null,
            "min_height": null,
            "min_width": null,
            "object_fit": null,
            "object_position": null,
            "order": null,
            "overflow": null,
            "overflow_x": null,
            "overflow_y": null,
            "padding": null,
            "right": null,
            "top": null,
            "visibility": null,
            "width": null
          }
        },
        "e7eda6f5afd44a4d9867ca7fc8264c10": {
          "model_module": "@jupyter-widgets/base",
          "model_module_version": "1.2.0",
          "model_name": "LayoutModel",
          "state": {
            "_model_module": "@jupyter-widgets/base",
            "_model_module_version": "1.2.0",
            "_model_name": "LayoutModel",
            "_view_count": null,
            "_view_module": "@jupyter-widgets/base",
            "_view_module_version": "1.2.0",
            "_view_name": "LayoutView",
            "align_content": null,
            "align_items": null,
            "align_self": null,
            "border": null,
            "bottom": null,
            "display": null,
            "flex": null,
            "flex_flow": null,
            "grid_area": null,
            "grid_auto_columns": null,
            "grid_auto_flow": null,
            "grid_auto_rows": null,
            "grid_column": null,
            "grid_gap": null,
            "grid_row": null,
            "grid_template_areas": null,
            "grid_template_columns": null,
            "grid_template_rows": null,
            "height": null,
            "justify_content": null,
            "justify_items": null,
            "left": null,
            "margin": null,
            "max_height": null,
            "max_width": null,
            "min_height": null,
            "min_width": null,
            "object_fit": null,
            "object_position": null,
            "order": null,
            "overflow": null,
            "overflow_x": null,
            "overflow_y": null,
            "padding": null,
            "right": null,
            "top": null,
            "visibility": null,
            "width": null
          }
        },
        "e83fb74904af4b2785d2b9985952a538": {
          "model_module": "@jupyter-widgets/base",
          "model_module_version": "1.2.0",
          "model_name": "LayoutModel",
          "state": {
            "_model_module": "@jupyter-widgets/base",
            "_model_module_version": "1.2.0",
            "_model_name": "LayoutModel",
            "_view_count": null,
            "_view_module": "@jupyter-widgets/base",
            "_view_module_version": "1.2.0",
            "_view_name": "LayoutView",
            "align_content": null,
            "align_items": null,
            "align_self": null,
            "border": null,
            "bottom": null,
            "display": null,
            "flex": null,
            "flex_flow": null,
            "grid_area": null,
            "grid_auto_columns": null,
            "grid_auto_flow": null,
            "grid_auto_rows": null,
            "grid_column": null,
            "grid_gap": null,
            "grid_row": null,
            "grid_template_areas": null,
            "grid_template_columns": null,
            "grid_template_rows": null,
            "height": null,
            "justify_content": null,
            "justify_items": null,
            "left": null,
            "margin": null,
            "max_height": null,
            "max_width": null,
            "min_height": null,
            "min_width": null,
            "object_fit": null,
            "object_position": null,
            "order": null,
            "overflow": null,
            "overflow_x": null,
            "overflow_y": null,
            "padding": null,
            "right": null,
            "top": null,
            "visibility": null,
            "width": null
          }
        },
        "e96452b751ed445aa4f22720d3c560f2": {
          "model_module": "@jupyter-widgets/controls",
          "model_module_version": "1.5.0",
          "model_name": "ProgressStyleModel",
          "state": {
            "_model_module": "@jupyter-widgets/controls",
            "_model_module_version": "1.5.0",
            "_model_name": "ProgressStyleModel",
            "_view_count": null,
            "_view_module": "@jupyter-widgets/base",
            "_view_module_version": "1.2.0",
            "_view_name": "StyleView",
            "bar_color": null,
            "description_width": ""
          }
        },
        "e9a74376a4f54cd8b015fb0abb9f9322": {
          "model_module": "@jupyter-widgets/base",
          "model_module_version": "1.2.0",
          "model_name": "LayoutModel",
          "state": {
            "_model_module": "@jupyter-widgets/base",
            "_model_module_version": "1.2.0",
            "_model_name": "LayoutModel",
            "_view_count": null,
            "_view_module": "@jupyter-widgets/base",
            "_view_module_version": "1.2.0",
            "_view_name": "LayoutView",
            "align_content": null,
            "align_items": null,
            "align_self": null,
            "border": null,
            "bottom": null,
            "display": null,
            "flex": null,
            "flex_flow": null,
            "grid_area": null,
            "grid_auto_columns": null,
            "grid_auto_flow": null,
            "grid_auto_rows": null,
            "grid_column": null,
            "grid_gap": null,
            "grid_row": null,
            "grid_template_areas": null,
            "grid_template_columns": null,
            "grid_template_rows": null,
            "height": null,
            "justify_content": null,
            "justify_items": null,
            "left": null,
            "margin": null,
            "max_height": null,
            "max_width": null,
            "min_height": null,
            "min_width": null,
            "object_fit": null,
            "object_position": null,
            "order": null,
            "overflow": null,
            "overflow_x": null,
            "overflow_y": null,
            "padding": null,
            "right": null,
            "top": null,
            "visibility": null,
            "width": null
          }
        },
        "e9ec8f1920fa4356b050d5fa4b1da637": {
          "model_module": "@jupyter-widgets/controls",
          "model_module_version": "1.5.0",
          "model_name": "HTMLModel",
          "state": {
            "_dom_classes": [],
            "_model_module": "@jupyter-widgets/controls",
            "_model_module_version": "1.5.0",
            "_model_name": "HTMLModel",
            "_view_count": null,
            "_view_module": "@jupyter-widgets/controls",
            "_view_module_version": "1.5.0",
            "_view_name": "HTMLView",
            "description": "",
            "description_tooltip": null,
            "layout": "IPY_MODEL_45d6f6aeb462426193ddc18a75b94b10",
            "placeholder": "​",
            "style": "IPY_MODEL_89df31339afa4b4092c56c39d8dc662b",
            "value": " 1.89G/1.89G [02:57&lt;00:00, 10.1MB/s]"
          }
        },
        "ea22709537ad4a45846f1194f5f17d62": {
          "model_module": "@jupyter-widgets/base",
          "model_module_version": "1.2.0",
          "model_name": "LayoutModel",
          "state": {
            "_model_module": "@jupyter-widgets/base",
            "_model_module_version": "1.2.0",
            "_model_name": "LayoutModel",
            "_view_count": null,
            "_view_module": "@jupyter-widgets/base",
            "_view_module_version": "1.2.0",
            "_view_name": "LayoutView",
            "align_content": null,
            "align_items": null,
            "align_self": null,
            "border": null,
            "bottom": null,
            "display": null,
            "flex": null,
            "flex_flow": null,
            "grid_area": null,
            "grid_auto_columns": null,
            "grid_auto_flow": null,
            "grid_auto_rows": null,
            "grid_column": null,
            "grid_gap": null,
            "grid_row": null,
            "grid_template_areas": null,
            "grid_template_columns": null,
            "grid_template_rows": null,
            "height": null,
            "justify_content": null,
            "justify_items": null,
            "left": null,
            "margin": null,
            "max_height": null,
            "max_width": null,
            "min_height": null,
            "min_width": null,
            "object_fit": null,
            "object_position": null,
            "order": null,
            "overflow": null,
            "overflow_x": null,
            "overflow_y": null,
            "padding": null,
            "right": null,
            "top": null,
            "visibility": null,
            "width": null
          }
        },
        "ea78190233c74bb7b8d4c120415a45e5": {
          "model_module": "@jupyter-widgets/controls",
          "model_module_version": "1.5.0",
          "model_name": "HTMLModel",
          "state": {
            "_dom_classes": [],
            "_model_module": "@jupyter-widgets/controls",
            "_model_module_version": "1.5.0",
            "_model_name": "HTMLModel",
            "_view_count": null,
            "_view_module": "@jupyter-widgets/controls",
            "_view_module_version": "1.5.0",
            "_view_name": "HTMLView",
            "description": "",
            "description_tooltip": null,
            "layout": "IPY_MODEL_0963a41e990446938918e2afd74847d2",
            "placeholder": "​",
            "style": "IPY_MODEL_8ec390f68bb8443195e19857dfd7f6cf",
            "value": " 8/8 [00:14&lt;00:00,  1.58s/it]"
          }
        },
        "eb0de34548c24cafba71f9a7c53fbe82": {
          "model_module": "@jupyter-widgets/base",
          "model_module_version": "1.2.0",
          "model_name": "LayoutModel",
          "state": {
            "_model_module": "@jupyter-widgets/base",
            "_model_module_version": "1.2.0",
            "_model_name": "LayoutModel",
            "_view_count": null,
            "_view_module": "@jupyter-widgets/base",
            "_view_module_version": "1.2.0",
            "_view_name": "LayoutView",
            "align_content": null,
            "align_items": null,
            "align_self": null,
            "border": null,
            "bottom": null,
            "display": null,
            "flex": null,
            "flex_flow": null,
            "grid_area": null,
            "grid_auto_columns": null,
            "grid_auto_flow": null,
            "grid_auto_rows": null,
            "grid_column": null,
            "grid_gap": null,
            "grid_row": null,
            "grid_template_areas": null,
            "grid_template_columns": null,
            "grid_template_rows": null,
            "height": null,
            "justify_content": null,
            "justify_items": null,
            "left": null,
            "margin": null,
            "max_height": null,
            "max_width": null,
            "min_height": null,
            "min_width": null,
            "object_fit": null,
            "object_position": null,
            "order": null,
            "overflow": null,
            "overflow_x": null,
            "overflow_y": null,
            "padding": null,
            "right": null,
            "top": null,
            "visibility": null,
            "width": null
          }
        },
        "eb3bd7f8760a460e875647a7f742e2dc": {
          "model_module": "@jupyter-widgets/controls",
          "model_module_version": "1.5.0",
          "model_name": "DescriptionStyleModel",
          "state": {
            "_model_module": "@jupyter-widgets/controls",
            "_model_module_version": "1.5.0",
            "_model_name": "DescriptionStyleModel",
            "_view_count": null,
            "_view_module": "@jupyter-widgets/base",
            "_view_module_version": "1.2.0",
            "_view_name": "StyleView",
            "description_width": ""
          }
        },
        "ebb0834b06f846a1bfc36f7cf806220a": {
          "model_module": "@jupyter-widgets/base",
          "model_module_version": "1.2.0",
          "model_name": "LayoutModel",
          "state": {
            "_model_module": "@jupyter-widgets/base",
            "_model_module_version": "1.2.0",
            "_model_name": "LayoutModel",
            "_view_count": null,
            "_view_module": "@jupyter-widgets/base",
            "_view_module_version": "1.2.0",
            "_view_name": "LayoutView",
            "align_content": null,
            "align_items": null,
            "align_self": null,
            "border": null,
            "bottom": null,
            "display": null,
            "flex": null,
            "flex_flow": null,
            "grid_area": null,
            "grid_auto_columns": null,
            "grid_auto_flow": null,
            "grid_auto_rows": null,
            "grid_column": null,
            "grid_gap": null,
            "grid_row": null,
            "grid_template_areas": null,
            "grid_template_columns": null,
            "grid_template_rows": null,
            "height": null,
            "justify_content": null,
            "justify_items": null,
            "left": null,
            "margin": null,
            "max_height": null,
            "max_width": null,
            "min_height": null,
            "min_width": null,
            "object_fit": null,
            "object_position": null,
            "order": null,
            "overflow": null,
            "overflow_x": null,
            "overflow_y": null,
            "padding": null,
            "right": null,
            "top": null,
            "visibility": null,
            "width": null
          }
        },
        "ec8b597a2c244bc89b77d8a530b0d530": {
          "model_module": "@jupyter-widgets/base",
          "model_module_version": "1.2.0",
          "model_name": "LayoutModel",
          "state": {
            "_model_module": "@jupyter-widgets/base",
            "_model_module_version": "1.2.0",
            "_model_name": "LayoutModel",
            "_view_count": null,
            "_view_module": "@jupyter-widgets/base",
            "_view_module_version": "1.2.0",
            "_view_name": "LayoutView",
            "align_content": null,
            "align_items": null,
            "align_self": null,
            "border": null,
            "bottom": null,
            "display": null,
            "flex": null,
            "flex_flow": null,
            "grid_area": null,
            "grid_auto_columns": null,
            "grid_auto_flow": null,
            "grid_auto_rows": null,
            "grid_column": null,
            "grid_gap": null,
            "grid_row": null,
            "grid_template_areas": null,
            "grid_template_columns": null,
            "grid_template_rows": null,
            "height": null,
            "justify_content": null,
            "justify_items": null,
            "left": null,
            "margin": null,
            "max_height": null,
            "max_width": null,
            "min_height": null,
            "min_width": null,
            "object_fit": null,
            "object_position": null,
            "order": null,
            "overflow": null,
            "overflow_x": null,
            "overflow_y": null,
            "padding": null,
            "right": null,
            "top": null,
            "visibility": null,
            "width": null
          }
        },
        "ecf2d74e296f48d1a4d7d36b8b6aadc5": {
          "model_module": "@jupyter-widgets/controls",
          "model_module_version": "1.5.0",
          "model_name": "FloatProgressModel",
          "state": {
            "_dom_classes": [],
            "_model_module": "@jupyter-widgets/controls",
            "_model_module_version": "1.5.0",
            "_model_name": "FloatProgressModel",
            "_view_count": null,
            "_view_module": "@jupyter-widgets/controls",
            "_view_module_version": "1.5.0",
            "_view_name": "ProgressView",
            "bar_style": "success",
            "description": "",
            "description_tooltip": null,
            "layout": "IPY_MODEL_fbcbe9dab1cf4bbfa08e310b45c4390d",
            "max": 1979789691,
            "min": 0,
            "orientation": "horizontal",
            "style": "IPY_MODEL_ae0ef87467c84d86aa3f6cc351ab8c37",
            "value": 1979789691
          }
        },
        "ee963802f2354cea9107e6d2de1f7b6c": {
          "model_module": "@jupyter-widgets/controls",
          "model_module_version": "1.5.0",
          "model_name": "DescriptionStyleModel",
          "state": {
            "_model_module": "@jupyter-widgets/controls",
            "_model_module_version": "1.5.0",
            "_model_name": "DescriptionStyleModel",
            "_view_count": null,
            "_view_module": "@jupyter-widgets/base",
            "_view_module_version": "1.2.0",
            "_view_name": "StyleView",
            "description_width": ""
          }
        },
        "f03e5a1ddfa6456087f285af28ec8422": {
          "model_module": "@jupyter-widgets/base",
          "model_module_version": "1.2.0",
          "model_name": "LayoutModel",
          "state": {
            "_model_module": "@jupyter-widgets/base",
            "_model_module_version": "1.2.0",
            "_model_name": "LayoutModel",
            "_view_count": null,
            "_view_module": "@jupyter-widgets/base",
            "_view_module_version": "1.2.0",
            "_view_name": "LayoutView",
            "align_content": null,
            "align_items": null,
            "align_self": null,
            "border": null,
            "bottom": null,
            "display": null,
            "flex": null,
            "flex_flow": null,
            "grid_area": null,
            "grid_auto_columns": null,
            "grid_auto_flow": null,
            "grid_auto_rows": null,
            "grid_column": null,
            "grid_gap": null,
            "grid_row": null,
            "grid_template_areas": null,
            "grid_template_columns": null,
            "grid_template_rows": null,
            "height": null,
            "justify_content": null,
            "justify_items": null,
            "left": null,
            "margin": null,
            "max_height": null,
            "max_width": null,
            "min_height": null,
            "min_width": null,
            "object_fit": null,
            "object_position": null,
            "order": null,
            "overflow": null,
            "overflow_x": null,
            "overflow_y": null,
            "padding": null,
            "right": null,
            "top": null,
            "visibility": null,
            "width": null
          }
        },
        "f175997e07cb43d98230bf18555a73ed": {
          "model_module": "@jupyter-widgets/controls",
          "model_module_version": "1.5.0",
          "model_name": "DescriptionStyleModel",
          "state": {
            "_model_module": "@jupyter-widgets/controls",
            "_model_module_version": "1.5.0",
            "_model_name": "DescriptionStyleModel",
            "_view_count": null,
            "_view_module": "@jupyter-widgets/base",
            "_view_module_version": "1.2.0",
            "_view_name": "StyleView",
            "description_width": ""
          }
        },
        "f33e2ae7654f46389a3c4596aa84b4cd": {
          "model_module": "@jupyter-widgets/base",
          "model_module_version": "1.2.0",
          "model_name": "LayoutModel",
          "state": {
            "_model_module": "@jupyter-widgets/base",
            "_model_module_version": "1.2.0",
            "_model_name": "LayoutModel",
            "_view_count": null,
            "_view_module": "@jupyter-widgets/base",
            "_view_module_version": "1.2.0",
            "_view_name": "LayoutView",
            "align_content": null,
            "align_items": null,
            "align_self": null,
            "border": null,
            "bottom": null,
            "display": null,
            "flex": null,
            "flex_flow": null,
            "grid_area": null,
            "grid_auto_columns": null,
            "grid_auto_flow": null,
            "grid_auto_rows": null,
            "grid_column": null,
            "grid_gap": null,
            "grid_row": null,
            "grid_template_areas": null,
            "grid_template_columns": null,
            "grid_template_rows": null,
            "height": null,
            "justify_content": null,
            "justify_items": null,
            "left": null,
            "margin": null,
            "max_height": null,
            "max_width": null,
            "min_height": null,
            "min_width": null,
            "object_fit": null,
            "object_position": null,
            "order": null,
            "overflow": null,
            "overflow_x": null,
            "overflow_y": null,
            "padding": null,
            "right": null,
            "top": null,
            "visibility": null,
            "width": null
          }
        },
        "f541dac50270478f8517e51200710f28": {
          "model_module": "@jupyter-widgets/controls",
          "model_module_version": "1.5.0",
          "model_name": "DescriptionStyleModel",
          "state": {
            "_model_module": "@jupyter-widgets/controls",
            "_model_module_version": "1.5.0",
            "_model_name": "DescriptionStyleModel",
            "_view_count": null,
            "_view_module": "@jupyter-widgets/base",
            "_view_module_version": "1.2.0",
            "_view_name": "StyleView",
            "description_width": ""
          }
        },
        "f7bfd0fbb0a34cf4a2ff8983e20eac0f": {
          "model_module": "@jupyter-widgets/controls",
          "model_module_version": "1.5.0",
          "model_name": "ProgressStyleModel",
          "state": {
            "_model_module": "@jupyter-widgets/controls",
            "_model_module_version": "1.5.0",
            "_model_name": "ProgressStyleModel",
            "_view_count": null,
            "_view_module": "@jupyter-widgets/base",
            "_view_module_version": "1.2.0",
            "_view_name": "StyleView",
            "bar_color": null,
            "description_width": ""
          }
        },
        "fbcbe9dab1cf4bbfa08e310b45c4390d": {
          "model_module": "@jupyter-widgets/base",
          "model_module_version": "1.2.0",
          "model_name": "LayoutModel",
          "state": {
            "_model_module": "@jupyter-widgets/base",
            "_model_module_version": "1.2.0",
            "_model_name": "LayoutModel",
            "_view_count": null,
            "_view_module": "@jupyter-widgets/base",
            "_view_module_version": "1.2.0",
            "_view_name": "LayoutView",
            "align_content": null,
            "align_items": null,
            "align_self": null,
            "border": null,
            "bottom": null,
            "display": null,
            "flex": null,
            "flex_flow": null,
            "grid_area": null,
            "grid_auto_columns": null,
            "grid_auto_flow": null,
            "grid_auto_rows": null,
            "grid_column": null,
            "grid_gap": null,
            "grid_row": null,
            "grid_template_areas": null,
            "grid_template_columns": null,
            "grid_template_rows": null,
            "height": null,
            "justify_content": null,
            "justify_items": null,
            "left": null,
            "margin": null,
            "max_height": null,
            "max_width": null,
            "min_height": null,
            "min_width": null,
            "object_fit": null,
            "object_position": null,
            "order": null,
            "overflow": null,
            "overflow_x": null,
            "overflow_y": null,
            "padding": null,
            "right": null,
            "top": null,
            "visibility": null,
            "width": null
          }
        },
        "fc3a935a193e4de297b14970c10de585": {
          "model_module": "@jupyter-widgets/base",
          "model_module_version": "1.2.0",
          "model_name": "LayoutModel",
          "state": {
            "_model_module": "@jupyter-widgets/base",
            "_model_module_version": "1.2.0",
            "_model_name": "LayoutModel",
            "_view_count": null,
            "_view_module": "@jupyter-widgets/base",
            "_view_module_version": "1.2.0",
            "_view_name": "LayoutView",
            "align_content": null,
            "align_items": null,
            "align_self": null,
            "border": null,
            "bottom": null,
            "display": null,
            "flex": null,
            "flex_flow": null,
            "grid_area": null,
            "grid_auto_columns": null,
            "grid_auto_flow": null,
            "grid_auto_rows": null,
            "grid_column": null,
            "grid_gap": null,
            "grid_row": null,
            "grid_template_areas": null,
            "grid_template_columns": null,
            "grid_template_rows": null,
            "height": null,
            "justify_content": null,
            "justify_items": null,
            "left": null,
            "margin": null,
            "max_height": null,
            "max_width": null,
            "min_height": null,
            "min_width": null,
            "object_fit": null,
            "object_position": null,
            "order": null,
            "overflow": null,
            "overflow_x": null,
            "overflow_y": null,
            "padding": null,
            "right": null,
            "top": null,
            "visibility": null,
            "width": null
          }
        },
        "fc55de9dac6147068dfa938fd2a7d0f7": {
          "model_module": "@jupyter-widgets/base",
          "model_module_version": "1.2.0",
          "model_name": "LayoutModel",
          "state": {
            "_model_module": "@jupyter-widgets/base",
            "_model_module_version": "1.2.0",
            "_model_name": "LayoutModel",
            "_view_count": null,
            "_view_module": "@jupyter-widgets/base",
            "_view_module_version": "1.2.0",
            "_view_name": "LayoutView",
            "align_content": null,
            "align_items": null,
            "align_self": null,
            "border": null,
            "bottom": null,
            "display": null,
            "flex": null,
            "flex_flow": null,
            "grid_area": null,
            "grid_auto_columns": null,
            "grid_auto_flow": null,
            "grid_auto_rows": null,
            "grid_column": null,
            "grid_gap": null,
            "grid_row": null,
            "grid_template_areas": null,
            "grid_template_columns": null,
            "grid_template_rows": null,
            "height": null,
            "justify_content": null,
            "justify_items": null,
            "left": null,
            "margin": null,
            "max_height": null,
            "max_width": null,
            "min_height": null,
            "min_width": null,
            "object_fit": null,
            "object_position": null,
            "order": null,
            "overflow": null,
            "overflow_x": null,
            "overflow_y": null,
            "padding": null,
            "right": null,
            "top": null,
            "visibility": null,
            "width": null
          }
        },
        "fc683093c4f34ebb9b68e050df1cdf6a": {
          "model_module": "@jupyter-widgets/base",
          "model_module_version": "1.2.0",
          "model_name": "LayoutModel",
          "state": {
            "_model_module": "@jupyter-widgets/base",
            "_model_module_version": "1.2.0",
            "_model_name": "LayoutModel",
            "_view_count": null,
            "_view_module": "@jupyter-widgets/base",
            "_view_module_version": "1.2.0",
            "_view_name": "LayoutView",
            "align_content": null,
            "align_items": null,
            "align_self": null,
            "border": null,
            "bottom": null,
            "display": null,
            "flex": null,
            "flex_flow": null,
            "grid_area": null,
            "grid_auto_columns": null,
            "grid_auto_flow": null,
            "grid_auto_rows": null,
            "grid_column": null,
            "grid_gap": null,
            "grid_row": null,
            "grid_template_areas": null,
            "grid_template_columns": null,
            "grid_template_rows": null,
            "height": null,
            "justify_content": null,
            "justify_items": null,
            "left": null,
            "margin": null,
            "max_height": null,
            "max_width": null,
            "min_height": null,
            "min_width": null,
            "object_fit": null,
            "object_position": null,
            "order": null,
            "overflow": null,
            "overflow_x": null,
            "overflow_y": null,
            "padding": null,
            "right": null,
            "top": null,
            "visibility": null,
            "width": null
          }
        },
        "fc694caa3d1340f2a68f9cccb750fbb0": {
          "model_module": "@jupyter-widgets/controls",
          "model_module_version": "1.5.0",
          "model_name": "FloatProgressModel",
          "state": {
            "_dom_classes": [],
            "_model_module": "@jupyter-widgets/controls",
            "_model_module_version": "1.5.0",
            "_model_name": "FloatProgressModel",
            "_view_count": null,
            "_view_module": "@jupyter-widgets/controls",
            "_view_module_version": "1.5.0",
            "_view_name": "ProgressView",
            "bar_style": "success",
            "description": "",
            "description_tooltip": null,
            "layout": "IPY_MODEL_7f64c14d631e44629ac47d72aeb40d2c",
            "max": 979,
            "min": 0,
            "orientation": "horizontal",
            "style": "IPY_MODEL_f7bfd0fbb0a34cf4a2ff8983e20eac0f",
            "value": 979
          }
        },
        "fcbcb0002202422eaae46822779090b9": {
          "model_module": "@jupyter-widgets/base",
          "model_module_version": "1.2.0",
          "model_name": "LayoutModel",
          "state": {
            "_model_module": "@jupyter-widgets/base",
            "_model_module_version": "1.2.0",
            "_model_name": "LayoutModel",
            "_view_count": null,
            "_view_module": "@jupyter-widgets/base",
            "_view_module_version": "1.2.0",
            "_view_name": "LayoutView",
            "align_content": null,
            "align_items": null,
            "align_self": null,
            "border": null,
            "bottom": null,
            "display": null,
            "flex": null,
            "flex_flow": null,
            "grid_area": null,
            "grid_auto_columns": null,
            "grid_auto_flow": null,
            "grid_auto_rows": null,
            "grid_column": null,
            "grid_gap": null,
            "grid_row": null,
            "grid_template_areas": null,
            "grid_template_columns": null,
            "grid_template_rows": null,
            "height": null,
            "justify_content": null,
            "justify_items": null,
            "left": null,
            "margin": null,
            "max_height": null,
            "max_width": null,
            "min_height": null,
            "min_width": null,
            "object_fit": null,
            "object_position": null,
            "order": null,
            "overflow": null,
            "overflow_x": null,
            "overflow_y": null,
            "padding": null,
            "right": null,
            "top": null,
            "visibility": null,
            "width": null
          }
        },
        "fe1fe2447afc4684aee938e92c428894": {
          "model_module": "@jupyter-widgets/controls",
          "model_module_version": "1.5.0",
          "model_name": "FloatProgressModel",
          "state": {
            "_dom_classes": [],
            "_model_module": "@jupyter-widgets/controls",
            "_model_module_version": "1.5.0",
            "_model_name": "FloatProgressModel",
            "_view_count": null,
            "_view_module": "@jupyter-widgets/controls",
            "_view_module_version": "1.5.0",
            "_view_name": "ProgressView",
            "bar_style": "success",
            "description": "",
            "description_tooltip": null,
            "layout": "IPY_MODEL_c06d0290102c47d8a26580edba22505e",
            "max": 1979789691,
            "min": 0,
            "orientation": "horizontal",
            "style": "IPY_MODEL_008f515a0b9d4351a0fe55a843a91467",
            "value": 1979789691
          }
        },
        "feee3739c7394506bcc7e6bd21a15649": {
          "model_module": "@jupyter-widgets/controls",
          "model_module_version": "1.5.0",
          "model_name": "ProgressStyleModel",
          "state": {
            "_model_module": "@jupyter-widgets/controls",
            "_model_module_version": "1.5.0",
            "_model_name": "ProgressStyleModel",
            "_view_count": null,
            "_view_module": "@jupyter-widgets/base",
            "_view_module_version": "1.2.0",
            "_view_name": "StyleView",
            "bar_color": null,
            "description_width": ""
          }
        }
      }
    }
  },
  "nbformat": 4,
  "nbformat_minor": 0
}
