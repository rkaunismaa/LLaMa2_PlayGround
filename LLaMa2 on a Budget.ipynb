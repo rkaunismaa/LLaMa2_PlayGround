{
 "cells": [
  {
   "cell_type": "markdown",
   "metadata": {},
   "source": [
    "Friday, November 3, 2023\n",
    "\n",
    "[Llama 2 on a Budget](https://kaitchup.substack.com/p/llama-2-on-a-budget)\n",
    "\n",
    "Ugh this article primarily points to other paywalled articles trying to get you to subscribe to his substack ... gonna bail for now."
   ]
  },
  {
   "cell_type": "markdown",
   "metadata": {},
   "source": []
  }
 ],
 "metadata": {
  "language_info": {
   "name": "python"
  }
 },
 "nbformat": 4,
 "nbformat_minor": 2
}
