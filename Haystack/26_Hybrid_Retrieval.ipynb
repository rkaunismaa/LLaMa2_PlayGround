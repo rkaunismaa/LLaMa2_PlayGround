{
 "cells": [
  {
   "cell_type": "markdown",
   "metadata": {},
   "source": [
    "#### Saturday, December 16, 2023\n",
    "\n",
    "[Tutorial: Creating a Hybrid Retrieval Pipeline](https://haystack.deepset.ai/tutorials/26_hybrid_retrieval)\n",
    "\n",
    "https://colab.research.google.com/github/deepset-ai/haystack-tutorials/blob/main/tutorials/26_Hybrid_Retrieval.ipynb\n",
    "\n",
    "docker container start hfpt_Dec14\n",
    "\n",
    "This all runs."
   ]
  },
  {
   "cell_type": "code",
   "execution_count": 1,
   "metadata": {},
   "outputs": [
    {
     "data": {
      "text/plain": [
       "device(type='cuda')"
      ]
     },
     "execution_count": 1,
     "metadata": {},
     "output_type": "execute_result"
    }
   ],
   "source": [
    "# only target the 4090 ...\n",
    "import os\n",
    "os.environ[\"CUDA_VISIBLE_DEVICES\"]=\"0\"\n",
    "\n",
    "import torch\n",
    "device = torch.device(\"cuda\" if torch.cuda.is_available() else \"cpu\")\n",
    "device"
   ]
  },
  {
   "cell_type": "markdown",
   "metadata": {
    "id": "kTas9ZQ7lXP7"
   },
   "source": [
    "# Tutorial: Creating a Hybrid Retrieval Pipeline\n",
    "\n",
    "- **Level**: Intermediate\n",
    "- **Time to complete**: 15 minutes\n",
    "- **Nodes Used**: `EmbeddingRetriever`, `BM25Retriever`, `JoinDocuments`, `SentenceTransformersRanker` and `InMemoryDocumentStore`\n",
    "- **Goal**: After completing this tutorial, you will have learned about creating your first hybrid retrieval and when it's useful."
   ]
  },
  {
   "cell_type": "markdown",
   "metadata": {
    "id": "0hw_zoKolXQL"
   },
   "source": [
    "## Overview\n",
    "\n",
    "\n",
    "**Hybrid Retrieval** merges dense and sparse vectors together to deliver the best of both search methods. Generally speaking, dense vectors excel at understanding the context of the query, whereas sparse vectors excel at keyword matches.\n",
    "\n",
    "There are many cases when a simple sparse retrieval like BM25 performs better than a dense retrieval (for example in a specific domain like healthcare) because a dense encoder model needs to be trained on data. For more details about Hybrid Retrieval, check out [Blog Post: Hybrid Document Retrieval](https://haystack.deepset.ai/blog/hybrid-retrieval)."
   ]
  },
  {
   "cell_type": "markdown",
   "metadata": {
    "id": "ITs3WTT5lXQT"
   },
   "source": [
    "## Preparing the Colab Environment\n",
    "\n",
    "- [Enable GPU Runtime in Colab](https://docs.haystack.deepset.ai/docs/enabling-gpu-acceleration#enabling-the-gpu-in-colab)\n",
    "- [Set logging level to INFO](https://docs.haystack.deepset.ai/docs/log-level)"
   ]
  },
  {
   "cell_type": "markdown",
   "metadata": {
    "id": "2g9fhjxDlXQb"
   },
   "source": [
    "## Installing Haystack\n",
    "\n",
    "To start, let's install the latest release of Haystack with `pip`:"
   ]
  },
  {
   "cell_type": "code",
   "execution_count": null,
   "metadata": {
    "id": "L40ZxZW8lXQh"
   },
   "outputs": [],
   "source": [
    "# %%bash\n",
    "\n",
    "# pip install --upgrade pip\n",
    "# pip install datasets>=2.6.1\n",
    "# pip install farm-haystack[inference]"
   ]
  },
  {
   "cell_type": "markdown",
   "metadata": {
    "id": "CJBcPNbBlXQq"
   },
   "source": [
    "### Enabling Telemetry\n",
    "\n",
    "Knowing you're using this tutorial helps us decide where to invest our efforts to build a better product but you can always opt out by commenting the following line. See [Telemetry](https://docs.haystack.deepset.ai/docs/telemetry) for more details."
   ]
  },
  {
   "cell_type": "code",
   "execution_count": 2,
   "metadata": {
    "id": "lUbTGVo4lXQv"
   },
   "outputs": [],
   "source": [
    "from haystack.telemetry import tutorial_running\n",
    "\n",
    "tutorial_running(26)"
   ]
  },
  {
   "cell_type": "markdown",
   "metadata": {
    "id": "5HLBUYOplXQ1"
   },
   "source": [
    "## Creating a Hybrid Retrieval Pipeline"
   ]
  },
  {
   "cell_type": "markdown",
   "metadata": {
    "id": "usdANiAGlXQ9"
   },
   "source": [
    "### 1) Initialize the DocumentStore and Clean Documents\n",
    "\n",
    "\n",
    "You'll start creating a hybrid pipeline by initializing a DocumentStore and preprocessing documents before storing them in the DocumentStore.\n",
    "\n",
    "You will use the PubMed Abstracts as Documents. There are a lot of datasets from PubMed on Hugging Face Hub; you will use [ywchoi/pubmed_abstract_3](https://huggingface.co/datasets/ywchoi/pubmed_abstract_3/viewer/default/test) in this tutorial.\n",
    "\n",
    "Initialize `InMemoryDocumentStore` and don't forget to set `use_bm25=True` and the dimension of your embeddings in `embedding_dim`:"
   ]
  },
  {
   "cell_type": "code",
   "execution_count": 3,
   "metadata": {
    "id": "cLbh-UtelXRL"
   },
   "outputs": [],
   "source": [
    "from datasets import load_dataset\n",
    "from haystack.document_stores import InMemoryDocumentStore\n",
    "\n",
    "dataset = load_dataset(\"ywchoi/pubmed_abstract_3\", split=\"test\")\n",
    "\n",
    "document_store = InMemoryDocumentStore(use_bm25=True, embedding_dim=384)"
   ]
  },
  {
   "cell_type": "markdown",
   "metadata": {
    "id": "WgxFjbGgdQla"
   },
   "source": [
    "You can create your document list with a simple for loop.\n",
    "The data has 3 features:\n",
    "* *pmid*\n",
    "* *title*\n",
    "* *text*\n",
    "\n",
    "Concatenate *title* and *text* to embed and search both. The single features will be stored as metadata, and you will use them to have a **pretty print** of the search results.\n"
   ]
  },
  {
   "cell_type": "code",
   "execution_count": 4,
   "metadata": {
    "id": "RvrG_QzirSsq"
   },
   "outputs": [],
   "source": [
    "from haystack.schema import Document\n",
    "\n",
    "documents = []\n",
    "for doc in dataset:\n",
    "    documents.append(\n",
    "        Document(\n",
    "            content=doc[\"title\"] + \" \" + doc[\"text\"],\n",
    "            meta={\"title\": doc[\"title\"], \"abstract\": doc[\"text\"], \"pmid\": doc[\"pmid\"]},\n",
    "        )\n",
    "    )\n",
    "\n",
    "# 9.1s"
   ]
  },
  {
   "cell_type": "markdown",
   "metadata": {
    "id": "tNJkztzWaWzZ"
   },
   "source": [
    "The PreProcessor class is designed to help you clean and split text into sensible units.\n",
    "\n",
    "> To learn about the preprocessing step, check out [Tutorial: Preprocessing Your Documents](https://haystack.deepset.ai/tutorials/08_preprocessing).\n",
    "\n"
   ]
  },
  {
   "cell_type": "code",
   "execution_count": 5,
   "metadata": {
    "id": "RrCCmLvGqhYw"
   },
   "outputs": [],
   "source": [
    "from haystack.nodes import PreProcessor\n",
    "\n",
    "preprocessor = PreProcessor(\n",
    "    clean_empty_lines=True,\n",
    "    clean_whitespace=True,\n",
    "    clean_header_footer=True,\n",
    "    split_by=\"word\",\n",
    "    split_length=512,\n",
    "    split_overlap=32,\n",
    "    split_respect_sentence_boundary=True,\n",
    ")"
   ]
  },
  {
   "cell_type": "code",
   "execution_count": 6,
   "metadata": {
    "id": "8PzBU_jnsBTZ"
   },
   "outputs": [
    {
     "name": "stderr",
     "output_type": "stream",
     "text": [
      "Preprocessing: 100%|██████████| 37740/37740 [00:18<00:00, 1988.87docs/s]\n"
     ]
    }
   ],
   "source": [
    "docs_to_index = preprocessor.process(documents)"
   ]
  },
  {
   "cell_type": "markdown",
   "metadata": {
    "id": "ii9x0gr9lXRT"
   },
   "source": [
    "### 2) Initialize the Retrievers\n",
    "\n",
    "Initialize a sparse retriever using [BM25](https://docs.haystack.deepset.ai/docs/retriever#bm25-recommended) and a dense retriever using a [sentence-transformers model](https://docs.haystack.deepset.ai/docs/retriever#embedding-retrieval-recommended)."
   ]
  },
  {
   "cell_type": "code",
   "execution_count": 7,
   "metadata": {
    "id": "rXHbHru0lXRY"
   },
   "outputs": [
    {
     "name": "stderr",
     "output_type": "stream",
     "text": [
      "/usr/local/lib/python3.8/dist-packages/torch/_utils.py:831: UserWarning: TypedStorage is deprecated. It will be removed in the future and UntypedStorage will be the only storage class. This should only matter to you if you are using storages directly.  To access UntypedStorage directly, use tensor.untyped_storage() instead of tensor.storage()\n",
      "  return self.fget.__get__(instance, owner)()\n"
     ]
    }
   ],
   "source": [
    "from haystack.nodes import EmbeddingRetriever, BM25Retriever\n",
    "\n",
    "sparse_retriever = BM25Retriever(document_store=document_store)\n",
    "dense_retriever = EmbeddingRetriever(\n",
    "    document_store=document_store,\n",
    "    embedding_model=\"sentence-transformers/all-MiniLM-L6-v2\",\n",
    "    use_gpu=True,\n",
    "    scale_score=False,\n",
    ")"
   ]
  },
  {
   "cell_type": "markdown",
   "metadata": {
    "id": "cx8307ZglXRd"
   },
   "source": [
    "### 3) Write Documents and Update Embeddings\n",
    "\n",
    "Write documents to the DocumentStore, first by deleting any remaining documents and then calling `write_documents()`. The `update_embeddings()` method uses the given retriever to create an embedding for each document."
   ]
  },
  {
   "cell_type": "code",
   "execution_count": 8,
   "metadata": {
    "id": "7S-QdaDYlXRg"
   },
   "outputs": [
    {
     "name": "stderr",
     "output_type": "stream",
     "text": [
      "Updating BM25 representation...: 100%|██████████| 37800/37800 [00:02<00:00, 18449.00 docs/s]\n",
      "Updating Embedding:   0%|          | 0/37800 [00:00<?, ? docs/s]"
     ]
    },
    {
     "data": {
      "application/vnd.jupyter.widget-view+json": {
       "model_id": "8901e5ad047c4bd59295568edb57c03a",
       "version_major": 2,
       "version_minor": 0
      },
      "text/plain": [
       "Batches:   0%|          | 0/313 [00:00<?, ?it/s]"
      ]
     },
     "metadata": {},
     "output_type": "display_data"
    },
    {
     "name": "stderr",
     "output_type": "stream",
     "text": [
      "Documents Processed:  26%|██▋       | 10000/37800 [00:12<00:33, 825.40 docs/s]"
     ]
    },
    {
     "data": {
      "application/vnd.jupyter.widget-view+json": {
       "model_id": "b4e77eebb1fc420796421b32ade03ab5",
       "version_major": 2,
       "version_minor": 0
      },
      "text/plain": [
       "Batches:   0%|          | 0/313 [00:00<?, ?it/s]"
      ]
     },
     "metadata": {},
     "output_type": "display_data"
    },
    {
     "name": "stderr",
     "output_type": "stream",
     "text": [
      "Documents Processed:  53%|█████▎    | 20000/37800 [00:23<00:21, 842.86 docs/s]"
     ]
    },
    {
     "data": {
      "application/vnd.jupyter.widget-view+json": {
       "model_id": "395e7e2e9d9c48b78ccbdcce73744346",
       "version_major": 2,
       "version_minor": 0
      },
      "text/plain": [
       "Batches:   0%|          | 0/313 [00:00<?, ?it/s]"
      ]
     },
     "metadata": {},
     "output_type": "display_data"
    },
    {
     "name": "stderr",
     "output_type": "stream",
     "text": [
      "Documents Processed:  79%|███████▉  | 30000/37800 [00:35<00:09, 854.54 docs/s]"
     ]
    },
    {
     "data": {
      "application/vnd.jupyter.widget-view+json": {
       "model_id": "ccbcd18208e74455b64cd27ce2713104",
       "version_major": 2,
       "version_minor": 0
      },
      "text/plain": [
       "Batches:   0%|          | 0/244 [00:00<?, ?it/s]"
      ]
     },
     "metadata": {},
     "output_type": "display_data"
    },
    {
     "name": "stderr",
     "output_type": "stream",
     "text": [
      "Documents Processed: 40000 docs [00:44, 901.40 docs/s]                        \n"
     ]
    }
   ],
   "source": [
    "document_store.delete_documents()\n",
    "document_store.write_documents(docs_to_index)\n",
    "document_store.update_embeddings(retriever=dense_retriever)\n",
    "\n",
    "# 50.3s"
   ]
  },
  {
   "cell_type": "markdown",
   "metadata": {
    "id": "_gugk_k2lXRi"
   },
   "source": [
    "### 4) Initialize JoinDocuments and Ranker\n",
    "\n",
    "While exploring hybrid search, we needed a way to combine the results of BM25 and dense vector search into a single ranked list. It may not be obvious how to combine them:\n",
    "\n",
    "* Different retrievers use incompatible score types, like BM25 and cosine similarity.\n",
    "* Documents may come from single or multiple sources at the same time. There should be a way to deal with duplicates in the final ranking.\n",
    "\n",
    "The merging and ranking of the documents from different retrievers is an open problem, however, Haystack offers several methods in [`JoinDocuments`](https://docs.haystack.deepset.ai/docs/join_documents). Here, you will use the simplest, `concatenate`, and pass the task to the ranker.\n",
    "\n",
    "Use a [re-ranker based on a cross-encoder](https://docs.haystack.deepset.ai/docs/ranker#sentencetransformersranker) that scores the relevancy of all candidates for the given search query.\n",
    "For more information about the `Ranker`, check the Haystack [docs](https://docs.haystack.deepset.ai/docs/ranker)."
   ]
  },
  {
   "cell_type": "code",
   "execution_count": 9,
   "metadata": {
    "id": "d_RiKspTlXRl"
   },
   "outputs": [
    {
     "data": {
      "application/vnd.jupyter.widget-view+json": {
       "model_id": "c7dc1d6120be4a8297c96ac3beede896",
       "version_major": 2,
       "version_minor": 0
      },
      "text/plain": [
       "config.json:   0%|          | 0.00/794 [00:00<?, ?B/s]"
      ]
     },
     "metadata": {},
     "output_type": "display_data"
    },
    {
     "data": {
      "application/vnd.jupyter.widget-view+json": {
       "model_id": "cc235e5460ac445b908efc8085d58026",
       "version_major": 2,
       "version_minor": 0
      },
      "text/plain": [
       "pytorch_model.bin:   0%|          | 0.00/90.9M [00:00<?, ?B/s]"
      ]
     },
     "metadata": {},
     "output_type": "display_data"
    },
    {
     "data": {
      "application/vnd.jupyter.widget-view+json": {
       "model_id": "2ad13e8782e3467fa028320e12482f16",
       "version_major": 2,
       "version_minor": 0
      },
      "text/plain": [
       "tokenizer_config.json:   0%|          | 0.00/316 [00:00<?, ?B/s]"
      ]
     },
     "metadata": {},
     "output_type": "display_data"
    },
    {
     "data": {
      "application/vnd.jupyter.widget-view+json": {
       "model_id": "ee366aa29a854253894ca0d2995ce942",
       "version_major": 2,
       "version_minor": 0
      },
      "text/plain": [
       "vocab.txt:   0%|          | 0.00/232k [00:00<?, ?B/s]"
      ]
     },
     "metadata": {},
     "output_type": "display_data"
    },
    {
     "data": {
      "application/vnd.jupyter.widget-view+json": {
       "model_id": "ee3b5cb2a453480d96ddb98b014058bd",
       "version_major": 2,
       "version_minor": 0
      },
      "text/plain": [
       "special_tokens_map.json:   0%|          | 0.00/112 [00:00<?, ?B/s]"
      ]
     },
     "metadata": {},
     "output_type": "display_data"
    }
   ],
   "source": [
    "from haystack.nodes import JoinDocuments, SentenceTransformersRanker\n",
    "\n",
    "join_documents = JoinDocuments(join_mode=\"concatenate\")\n",
    "rerank = SentenceTransformersRanker(model_name_or_path=\"cross-encoder/ms-marco-MiniLM-L-6-v2\")\n",
    "\n",
    "# First download ...\n",
    "# 1m 17.2s"
   ]
  },
  {
   "cell_type": "markdown",
   "metadata": {
    "id": "PexSrsBLlXRp"
   },
   "source": [
    "### 5) Create the Hybrid Retrieval Pipeline\n",
    "\n",
    "With a Haystack `Pipeline`, you can connect your building blocks into a search pipeline. Under the hood, `Pipelines` are Directed Acyclic Graphs (DAGs) that you can easily customize for your own use cases.\n",
    "You can learn more about Pipelines in the [docs](https://docs.haystack.deepset.ai/docs/pipelines)."
   ]
  },
  {
   "cell_type": "code",
   "execution_count": 10,
   "metadata": {
    "id": "i0XLbnAXlXRt"
   },
   "outputs": [],
   "source": [
    "from haystack.pipelines import Pipeline\n",
    "\n",
    "pipeline = Pipeline()\n",
    "pipeline.add_node(component=sparse_retriever, name=\"SparseRetriever\", inputs=[\"Query\"])\n",
    "pipeline.add_node(component=dense_retriever, name=\"DenseRetriever\", inputs=[\"Query\"])\n",
    "pipeline.add_node(component=join_documents, name=\"JoinDocuments\", inputs=[\"SparseRetriever\", \"DenseRetriever\"])\n",
    "pipeline.add_node(component=rerank, name=\"ReRanker\", inputs=[\"JoinDocuments\"])"
   ]
  },
  {
   "cell_type": "markdown",
   "metadata": {
    "id": "V3bsFkHuhHn4"
   },
   "source": [
    "### Generating a Pipeline Diagram\n",
    "\n",
    "With any Pipeline, whether prebuilt or custom constructed, you can save a diagram showing how all the components are connected. For example, the hybrid pipeline should look like this:"
   ]
  },
  {
   "cell_type": "code",
   "execution_count": null,
   "metadata": {
    "id": "oCIMtwmThQG4"
   },
   "outputs": [],
   "source": [
    "# Uncomment the following to generate the images\n",
    "# !apt install libgraphviz-dev\n",
    "# !pip install pygraphviz\n",
    "\n",
    "# pipeline.draw(\"pipeline_hybrid.png\")"
   ]
  },
  {
   "cell_type": "markdown",
   "metadata": {
    "id": "sTTVLUJylXRx"
   },
   "source": [
    "## Trying Out the Hybrid Pipeline\n",
    "\n",
    "Search an article with Hybrid Retrieval. If you want to see all the steps, enable `debug=True` in `JoinDocuments`'s `params`."
   ]
  },
  {
   "cell_type": "code",
   "execution_count": 11,
   "metadata": {
    "id": "p-5WbeBulXR0"
   },
   "outputs": [
    {
     "data": {
      "application/vnd.jupyter.widget-view+json": {
       "model_id": "f20b8f38d5294760af29b9bf40ed184a",
       "version_major": 2,
       "version_minor": 0
      },
      "text/plain": [
       "Batches:   0%|          | 0/1 [00:00<?, ?it/s]"
      ]
     },
     "metadata": {},
     "output_type": "display_data"
    }
   ],
   "source": [
    "prediction = pipeline.run(\n",
    "    query=\"treatment for HIV\",\n",
    "    params={\n",
    "        \"SparseRetriever\": {\"top_k\": 10},\n",
    "        \"DenseRetriever\": {\"top_k\": 10},\n",
    "        \"JoinDocuments\": {\"top_k_join\": 15},  # comment for debug\n",
    "        # \"JoinDocuments\": {\"top_k_join\": 15, \"debug\":True}, #uncomment for debug\n",
    "        \"ReRanker\": {\"top_k\": 5},\n",
    "    },\n",
    ")"
   ]
  },
  {
   "cell_type": "markdown",
   "metadata": {
    "id": "WvPv1cJ6gbBJ"
   },
   "source": [
    "Create a function to print a kind of *search page*."
   ]
  },
  {
   "cell_type": "code",
   "execution_count": 12,
   "metadata": {
    "id": "raL_z_sByDoQ"
   },
   "outputs": [],
   "source": [
    "def pretty_print_results(prediction):\n",
    "    for doc in prediction[\"documents\"]:\n",
    "        print(doc.meta[\"title\"], \"\\t\", doc.score)\n",
    "        print(doc.meta[\"abstract\"])\n",
    "        print(\"\\n\", \"\\n\")"
   ]
  },
  {
   "cell_type": "code",
   "execution_count": 13,
   "metadata": {
    "id": "mSUiizGNytwX"
   },
   "outputs": [
    {
     "name": "stdout",
     "output_type": "stream",
     "text": [
      "State-of-the-Art HIV Management:An Update. \t 0.9821373820304871\n",
      "Within the past 3 years, dramatic changes have taken place in the standard of care for HIV patients. Despite improvements in care (with decreased mortality), the rate of new infections remains unchanged if not increased within most at-risk groups. This general overview is intended for the physician who, while not providing ongoing HIV care, desires an update on the major treatment issues. Current demographic trends, new methods available for testing, and the use of the viral load test for both staging and gauging response to the new combination antiretroviral treatment regimens are detailed. It is suggested that physicians consult with an experienced HIV clinician before starting a treatment regimen in the newly diagnosed patient.The primary HIV syndrome is reviewed in detail since this diagnosis is often missed and an opportunity for early intervention is lost. Physicians not providing ongoing HIV care must be comfortable making this diagnosis and doing an initial work-up. Focused prevention especially tailored to younger high-risk patients is reviewed. Treatment protocols (with an emphasis on new antiretrovirals), gauging success of treatment, and the management of treatment failures are reviewed in detail. Common antiretroviral drugs are listed with side effects, drug interactions, and average monthly costs. Care of pregnant patients and exposed healthcare workers is also briefly discussed. The need for more primary care-based prevention is also discussed.\n",
      "\n",
      " \n",
      "\n",
      "Challenges of HIV treatment in resource-poor countries: a review. \t 0.9795159697532654\n",
      "The human immunodeficiency virus/acquired immunodeficiency syndrome pandemic have posed a significant public health challenge to the global community. Massive therapeutic interventions with antiretroviral drugs are being undertaken, yet problems and challenges exist. This review examines these problems and challenges as they affect the treatment of HIV infection in resource-poor countries such as Nigeria. The information was sourced from relevant literature using human immunodeficiency virus/acquired immunodeficiency syndrome journals, textbooks and Websites on human immunodeficiency virus/acquired immunodeficiency syndrome, highly active antiretroviral therapy, resource-poor countries as key words. Several studies have shown that the advent of highly active antiretroviral therapy in 1996 has significantly reduced morbidity and mortality among people living with HIV/AIDS (PLWHA). But in resource-poor countries, initiation and maintenance of highly active antiretroviral therapy has been associated with many challenges and problems such as: poor infrastructural base for the control programs; irregular or non availability of drugs; poor drug adherence; co-morbidities and opportunistic infections/malignancies; drug toxicities; drug/food and drug/drug interactions; laboratory monitoring of viral load; CD4 cell counts; full blood counts; electrolytes, kidney and liver functions. The review has shown that the solution to the pandemic lies in a multi-sectoral and holistic approach involving International and local agencies, and communities.\n",
      "\n",
      " \n",
      "\n",
      "Interventions to improve the performance of HIV health systems for treatment-as-prevention in sub-Saharan Africa: the experimental evidence. \t 0.9768015742301941\n",
      "To reduce HIV incidence, treatment-as-prevention (TasP) requires high rates of HIV testing, and antiretroviral treatment (ART) uptake, retention, and adherence, which are currently not achieved in general populations in sub-Saharan Africa. We review the experimental evidence on interventions to increase these rates. In four rapid reviews, we found nine randomized controlled trials (RCTs) on HIV-testing uptake, two on ART uptake, one on ART retention, and 15 on ART adherence in sub-Saharan Africa. Only two RCTs on HIV testing investigated an intervention in general populations; the other examined interventions in selected groups (employees, or individuals attending public-sector facilities for services). One RCT demonstrated that nurse-managed ART led to the same retention rates as physician-managed ART, but failed to show how to increase retention to the rates required for successful TasP. Although the evidence on ART adherence is strongest - several RCTs demonstrate the effectiveness of cognitive and behavioural interventions - contradictory results in different settings suggest that the precise intervention content, or the context, are crucial for effectiveness. Future studies need to test the effectiveness of interventions to increase testing and treatment uptake, retention, and adherence under TasP, that is, ART for all HIV-infected individuals, independent of disease stage.\n",
      "\n",
      " \n",
      "\n",
      "Current progress and challenges in HIV gene therapy. \t 0.9490752220153809\n",
      "HIV-1 causes AIDS, a syndrome that affects millions of people globally. Existing HAART is efficient in slowing down disease progression but cannot eradicate the virus. Furthermore the severity of the side effects and the emergence of drug-resistant mutants call for better therapy. Gene therapy serves as an attractive alternative as it reconstitutes the immune system with HIV-resistant cells and could thereby provide a potential cure. The feasibility of this approach was first demonstrated with the 'Berlin patient', who was functionally cured from HIV/AIDS with undetectable HIV-1 viral load after transplantation of bone marrow harboring a naturally occurring CCR5 mutation that blocks viral entry. Here, we give an overview of the current status of HIV gene therapy and remaining challenges and obstacles.\n",
      "\n",
      " \n",
      "\n",
      "HIV reservoirs and strategies for eradication. \t 0.9468832015991211\n",
      "Combination antiretroviral therapy (cART) has led to a reduction in morbidity and mortality in HIV-infected patients but therapy is lifelong and there is no cure for HIV. The major barriers to cure include HIV latency, which has been identified in different T-cell subsets, as well as persistence of HIV in anatomical reservoirs. We review recent developments in our understanding of the major reservoirs of HIV in patients on cART as well as how latency is established and maintained in T cells. Finally, we review the scientific rationale of and clinical experience with pharmacotherapeutic strategies aimed at eliminating latently infected cells.\n",
      "\n",
      " \n",
      "\n"
     ]
    }
   ],
   "source": [
    "pretty_print_results(prediction)"
   ]
  }
 ],
 "metadata": {
  "accelerator": "GPU",
  "colab": {
   "gpuType": "T4",
   "provenance": []
  },
  "kernelspec": {
   "display_name": "Python 3",
   "name": "python3"
  },
  "language_info": {
   "codemirror_mode": {
    "name": "ipython",
    "version": 3
   },
   "file_extension": ".py",
   "mimetype": "text/x-python",
   "name": "python",
   "nbconvert_exporter": "python",
   "pygments_lexer": "ipython3",
   "version": "3.8.10"
  },
  "orig_nbformat": 4,
  "vscode": {
   "interpreter": {
    "hash": "31f2aee4e71d21fbe5cf8b01ff0e069b9275f58929596ceb00d14d90e3e16cd6"
   }
  }
 },
 "nbformat": 4,
 "nbformat_minor": 0
}
