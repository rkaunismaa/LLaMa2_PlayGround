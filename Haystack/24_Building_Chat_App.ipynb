{
 "cells": [
  {
   "cell_type": "markdown",
   "metadata": {},
   "source": [
    "#### Sunday, December 17, 2023\n",
    "\n",
    "[Tutorial: Building a Conversational Chat App](https://haystack.deepset.ai/tutorials/24_building_chat_app)\n",
    "\n",
    "This notebook uses the Hugging Face inference API which often fails to run.\n",
    "\n",
    "This all runs! "
   ]
  },
  {
   "cell_type": "code",
   "execution_count": 1,
   "metadata": {},
   "outputs": [
    {
     "data": {
      "text/plain": [
       "device(type='cuda')"
      ]
     },
     "execution_count": 1,
     "metadata": {},
     "output_type": "execute_result"
    }
   ],
   "source": [
    "# only target the 4090 ...\n",
    "import os\n",
    "os.environ[\"CUDA_VISIBLE_DEVICES\"]=\"0\"\n",
    "\n",
    "import torch\n",
    "device = torch.device(\"cuda\" if torch.cuda.is_available() else \"cpu\")\n",
    "device"
   ]
  },
  {
   "cell_type": "code",
   "execution_count": 5,
   "metadata": {},
   "outputs": [
    {
     "name": "stdout",
     "output_type": "stream",
     "text": [
      "models--HuggingFaceH4--zephyr-7b-beta\n",
      "models--bert-base-uncased\n",
      "models--cross-encoder--ms-marco-MiniLM-L-6-v2\n",
      "models--deepset--roberta-base-squad2\n",
      "models--distilbert-base-uncased-distilled-squad\n",
      "models--google--flan-t5-large\n",
      "models--meta-llama--Llama-2-13b-hf\n",
      "models--my_model--language_model.bin\n",
      "models--sentence-transformers--all-MiniLM-L6-v2\n",
      "models--sentence-transformers--multi-qa-mpnet-base-dot-v1\n",
      "version.txt\n"
     ]
    }
   ],
   "source": [
    "!ls /root/.cache/huggingface/hub"
   ]
  },
  {
   "cell_type": "markdown",
   "metadata": {
    "id": "TEebQqubxa4G"
   },
   "source": [
    "# Tutorial: Building a Conversational Chat App\n",
    "\n",
    "- **Level**: Intermediate\n",
    "- **Time to complete**: 10 minutes\n",
    "- **Nodes Used**: `PromptNode`, `ConversationalAgent` and `ConversationSummaryMemory`\n",
    "- **Goal**: After completing this tutorial, you will have learned how to use ConversationalAgent to build a conversational chat application\n",
    "- **Prerequisites**: A [Hugging Face API Key](https://huggingface.co/settings/tokens)"
   ]
  },
  {
   "cell_type": "markdown",
   "metadata": {
    "id": "DQLWWW1Yy_Ta"
   },
   "source": [
    "## Overview\n",
    "\n",
    "A [ConversationalAgent](https://docs.haystack.deepset.ai/docs/agent#conversational-agent) is a type of Agent that is specifically implemented to create chat applications easily. With its memory integration, the ConversationalAgent enables human-like conversation with large language models (LLMs).\n",
    "\n",
    "This tutorial introduces you to the ConversationalAgent, ConversationSummaryMemory and explains how you can create your conversational chat application.\n"
   ]
  },
  {
   "cell_type": "markdown",
   "metadata": {
    "id": "obaSuZBHy8PF"
   },
   "source": [
    "## Preparing the Colab Environment\n",
    "\n",
    "- [Enable GPU Runtime in Colab](https://docs.haystack.deepset.ai/docs/enabling-gpu-acceleration#enabling-the-gpu-in-colab)\n",
    "- [Set logging level to INFO](https://docs.haystack.deepset.ai/docs/log-level)"
   ]
  },
  {
   "cell_type": "markdown",
   "metadata": {
    "id": "2_nC2XoPzDVh"
   },
   "source": [
    "## Installing Haystack\n",
    "\n",
    "To start, install the latest release of Haystack with `pip`:"
   ]
  },
  {
   "cell_type": "code",
   "execution_count": null,
   "metadata": {
    "id": "JiZktTKoaHp5"
   },
   "outputs": [],
   "source": [
    "# %%bash\n",
    "\n",
    "# pip install --upgrade pip\n",
    "# pip install farm-haystack[colab]"
   ]
  },
  {
   "cell_type": "markdown",
   "metadata": {
    "id": "RrPgO_1vzWb6"
   },
   "source": [
    "\n",
    "### Enabling Telemetry\n",
    "Knowing you're using this tutorial helps us decide where to invest our efforts to build a better product, but you can always opt out by commenting the following line. See [Telemetry](https://docs.haystack.deepset.ai/docs/telemetry) for more details."
   ]
  },
  {
   "cell_type": "code",
   "execution_count": 2,
   "metadata": {
    "id": "6YZjKAvOzZRq"
   },
   "outputs": [],
   "source": [
    "from haystack.telemetry import tutorial_running\n",
    "\n",
    "tutorial_running(24)"
   ]
  },
  {
   "cell_type": "markdown",
   "metadata": {
    "id": "n0pnO7S6tbyW"
   },
   "source": [
    "## Initializing the ConversationalAgent\n",
    "\n",
    "To initialize a ConversationalAgent, you'll first need to create a PromptNode to define the LLM that your chat application will use. Then, you'll add a memory to enable the application to store previous conversation and use this memory to make the interaction more human-like.\n",
    "\n",
    "Now, create necessary components for a ConversationalAgent:"
   ]
  },
  {
   "cell_type": "markdown",
   "metadata": {
    "id": "1Omji8PK_675"
   },
   "source": [
    "### 1) Provide a Hugging Face API Key\n",
    "\n",
    "Hugging Face offers [a hosted Inference API](https://huggingface.co/docs/api-inference/index) which you can use to access machine learning models using simple HTTP requests. This way, you don't need to download models from the hub. To use the service, you need to provide an [API key](https://huggingface.co/settings/tokens) from Hugging Face:"
   ]
  },
  {
   "cell_type": "code",
   "execution_count": 3,
   "metadata": {
    "id": "qWuRxFWGcAL4"
   },
   "outputs": [],
   "source": [
    "import os\n",
    "from getpass import getpass\n",
    "\n",
    "model_api_key = os.getenv(\"HF_API_KEY\", None) or getpass(\"Enter HF API key:\")"
   ]
  },
  {
   "cell_type": "markdown",
   "metadata": {
    "id": "V4LI3vzH7Xvo"
   },
   "source": [
    "### 2) Create a PromptNode\n",
    "\n",
    "You'll initialize a PromptNode with the `model_name_or_path`, `api_key`, and `max_length` to control the output length of the model. In this tutorial, you'll use [HuggingFaceH4/zephyr-7b-beta](https://huggingface.co/HuggingFaceH4/zephyr-7b-beta), an open source chat Language Model."
   ]
  },
  {
   "cell_type": "code",
   "execution_count": 4,
   "metadata": {
    "id": "RckAPBT3bSoh"
   },
   "outputs": [],
   "source": [
    "from haystack.nodes import PromptNode\n",
    "\n",
    "prompt_node = PromptNode(\n",
    "    model_name_or_path=\"HuggingFaceH4/zephyr-7b-beta\", api_key=model_api_key, max_length=256, stop_words=[\"Human\"]\n",
    ")"
   ]
  },
  {
   "cell_type": "markdown",
   "metadata": {
    "id": "E1e15LLV8ULF"
   },
   "source": [
    "### 3) Create a ConversationSummaryMemory\n",
    "\n",
    "To have a chat application closer to a human interaction, you need to provide [memory](https://docs.haystack.deepset.ai/docs/agent#conversational-agent-memory) to the ConversationalAgent. There are two types of memory options in Haystack:\n",
    "\n",
    "1.   **ConversationMemory**: stores the conversation history (default).\n",
    "2.   **ConversationSummaryMemory**: stores the conversation history and periodically generates summaries.\n",
    "\n",
    "These memory nodes inject the conversation history into the prompt for the large language model with every run. Instead of using the full conversation history, you'll use ConversationSummaryMemory that sums up the conversation without losing important information, thus saving the token limit.\n",
    "\n",
    "You can use the same PromptNode in ConversationSummaryMemory, so the same `HuggingFaceH4/zephyr-7b-beta` model generates chat summaries. By default, ConversationSummaryMemory summarizes the chat with every `3` runs using the predefined [`conversational-summary`](https://prompthub.deepset.ai/?prompt=deepset%2Fconversational-summary) PromptTemplate on PromptHub."
   ]
  },
  {
   "cell_type": "code",
   "execution_count": 6,
   "metadata": {
    "id": "iBisS_dI8kan"
   },
   "outputs": [
    {
     "name": "stderr",
     "output_type": "stream",
     "text": [
      "/usr/local/lib/python3.8/dist-packages/haystack/nodes/prompt/prompt_template.py:444: UserWarning: You're using a legacy prompt template 'conversational-summary', we strongly suggest you use prompts from the official Haystack PromptHub: https://prompthub.deepset.ai/\n",
      "  warnings.warn(\n"
     ]
    }
   ],
   "source": [
    "from haystack.agents.memory import ConversationSummaryMemory\n",
    "\n",
    "summary_memory = ConversationSummaryMemory(prompt_node)"
   ]
  },
  {
   "cell_type": "markdown",
   "metadata": {
    "id": "RpeKtIsSSNSh"
   },
   "source": [
    "> Optionally, you can define a separate PromptNode with another LLM and PromptTemplate for generating conversation summary and use it in the ConversationSummaryMemory."
   ]
  },
  {
   "cell_type": "markdown",
   "metadata": {
    "id": "MiGGpDW98XjM"
   },
   "source": [
    "### 4) Create a ConversationalAgent\n",
    "\n",
    "Now that you have all the necessary components, you can initialize the ConversationalAgent. If you don't provide any tools, the ConversationalAgent uses the [`conversational-agent-without-tools`](https://prompthub.deepset.ai/?prompt=deepset%2Fconversational-agent-without-tools) prompt by default."
   ]
  },
  {
   "cell_type": "code",
   "execution_count": 7,
   "metadata": {
    "colab": {
     "base_uri": "https://localhost:8080/"
    },
    "id": "_gt2DqNzllPQ",
    "outputId": "bbbb2aba-d524-4d32-d081-432e43c9b26a"
   },
   "outputs": [
    {
     "name": "stderr",
     "output_type": "stream",
     "text": [
      "ConversationalAgent is created without tools\n",
      "/usr/local/lib/python3.8/dist-packages/haystack/nodes/prompt/prompt_template.py:444: UserWarning: You're using a legacy prompt template 'conversational-agent-without-tools', we strongly suggest you use prompts from the official Haystack PromptHub: https://prompthub.deepset.ai/\n",
      "  warnings.warn(\n"
     ]
    }
   ],
   "source": [
    "from haystack.agents.conversational import ConversationalAgent\n",
    "\n",
    "conversational_agent = ConversationalAgent(prompt_node=prompt_node, memory=summary_memory)"
   ]
  },
  {
   "cell_type": "markdown",
   "metadata": {
    "id": "brdbkCGryKe0"
   },
   "source": [
    "> You can add tools to your chat application using `tools` params of the ConversationalAgent:\n",
    "> ```python\n",
    "> conversational_agent = ConversationalAgent(\n",
    ">    prompt_node=prompt_node,\n",
    ">    memory=summary_memory,\n",
    ">    tools=[search_tool]\n",
    ">)\n",
    ">```\n",
    ">To learn how to create tools, check out [Haystack documentation](https://docs.haystack.deepset.ai/docs/agent#tools)."
   ]
  },
  {
   "cell_type": "markdown",
   "metadata": {
    "id": "Mgeb6nlsGRTy"
   },
   "source": [
    "Now, your conversational agent is ready to chat!"
   ]
  },
  {
   "cell_type": "markdown",
   "metadata": {
    "id": "Uq_yBlEXGe18"
   },
   "source": [
    "## Trying Out a Prompt"
   ]
  },
  {
   "cell_type": "code",
   "execution_count": 8,
   "metadata": {
    "id": "gAi6DN-LySIH"
   },
   "outputs": [
    {
     "name": "stdout",
     "output_type": "stream",
     "text": [
      "\n",
      "Agent conversational-agent-without-tools started with {'query': 'Tell me three most interesting things about Istanbul, Turkey', 'params': None}\n",
      "\u001b[32m \u001b[0m\u001b[32m1\u001b[0m\u001b[32m.\u001b[0m\u001b[32m I\u001b[0m\u001b[32mstan\u001b[0m\u001b[32mbul\u001b[0m\u001b[32m is\u001b[0m\u001b[32m a\u001b[0m\u001b[32m city\u001b[0m\u001b[32m that\u001b[0m\u001b[32m sp\u001b[0m\u001b[32mans\u001b[0m\u001b[32m two\u001b[0m\u001b[32m contin\u001b[0m\u001b[32ments\u001b[0m\u001b[32m,\u001b[0m\u001b[32m Europe\u001b[0m\u001b[32m and\u001b[0m\u001b[32m Asia\u001b[0m\u001b[32m,\u001b[0m\u001b[32m connected\u001b[0m\u001b[32m by\u001b[0m\u001b[32m the\u001b[0m\u001b[32m Bos\u001b[0m\u001b[32mph\u001b[0m\u001b[32morus\u001b[0m\u001b[32m Str\u001b[0m\u001b[32mait\u001b[0m\u001b[32m.\u001b[0m\u001b[32m This\u001b[0m\u001b[32m unique\u001b[0m\u001b[32m ge\u001b[0m\u001b[32mography\u001b[0m\u001b[32m has\u001b[0m\u001b[32m made\u001b[0m\u001b[32m I\u001b[0m\u001b[32mstan\u001b[0m\u001b[32mbul\u001b[0m\u001b[32m a\u001b[0m\u001b[32m mel\u001b[0m\u001b[32mting\u001b[0m\u001b[32m pot\u001b[0m\u001b[32m of\u001b[0m\u001b[32m cultures\u001b[0m\u001b[32m and\u001b[0m\u001b[32m traditions\u001b[0m\u001b[32m for\u001b[0m\u001b[32m centuries\u001b[0m\u001b[32m.\u001b[0m\u001b[32m\n",
      "\u001b[0m\u001b[32m2\u001b[0m\u001b[32m.\u001b[0m\u001b[32m I\u001b[0m\u001b[32mstan\u001b[0m\u001b[32mbul\u001b[0m\u001b[32m is\u001b[0m\u001b[32m home\u001b[0m\u001b[32m to\u001b[0m\u001b[32m some\u001b[0m\u001b[32m of\u001b[0m\u001b[32m the\u001b[0m\u001b[32m world\u001b[0m\u001b[32m'\u001b[0m\u001b[32ms\u001b[0m\u001b[32m most\u001b[0m\u001b[32m stunning\u001b[0m\u001b[32m architecture\u001b[0m\u001b[32m,\u001b[0m\u001b[32m including\u001b[0m\u001b[32m the\u001b[0m\u001b[32m H\u001b[0m\u001b[32mag\u001b[0m\u001b[32mia\u001b[0m\u001b[32m Soph\u001b[0m\u001b[32mia\u001b[0m\u001b[32m,\u001b[0m\u001b[32m a\u001b[0m\u001b[32m former\u001b[0m\u001b[32m church\u001b[0m\u001b[32m,\u001b[0m\u001b[32m mos\u001b[0m\u001b[32mque\u001b[0m\u001b[32m,\u001b[0m\u001b[32m and\u001b[0m\u001b[32m museum\u001b[0m\u001b[32m that\u001b[0m\u001b[32m is\u001b[0m\u001b[32m now\u001b[0m\u001b[32m a\u001b[0m\u001b[32m UN\u001b[0m\u001b[32mES\u001b[0m\u001b[32mCO\u001b[0m\u001b[32m World\u001b[0m\u001b[32m Heritage\u001b[0m\u001b[32m Site\u001b[0m\u001b[32m.\u001b[0m\u001b[32m The\u001b[0m\u001b[32m city\u001b[0m\u001b[32m also\u001b[0m\u001b[32m bo\u001b[0m\u001b[32masts\u001b[0m\u001b[32m the\u001b[0m\u001b[32m Blue\u001b[0m\u001b[32m Mos\u001b[0m\u001b[32mque\u001b[0m\u001b[32m,\u001b[0m\u001b[32m a\u001b[0m\u001b[32m stunning\u001b[0m\u001b[32m example\u001b[0m\u001b[32m of\u001b[0m\u001b[32m Ott\u001b[0m\u001b[32moman\u001b[0m\u001b[32m architecture\u001b[0m\u001b[32m,\u001b[0m\u001b[32m and\u001b[0m\u001b[32m the\u001b[0m\u001b[32m Top\u001b[0m\u001b[32mk\u001b[0m\u001b[32mapi\u001b[0m\u001b[32m Palace\u001b[0m\u001b[32m,\u001b[0m\u001b[32m a\u001b[0m\u001b[32m former\u001b[0m\u001b[32m royal\u001b[0m\u001b[32m residence\u001b[0m\u001b[32m that\u001b[0m\u001b[32m now\u001b[0m\u001b[32m houses\u001b[0m\u001b[32m a\u001b[0m\u001b[32m museum\u001b[0m\u001b[32m.\u001b[0m\u001b[32m\n",
      "\u001b[0m\u001b[32m3\u001b[0m\u001b[32m.\u001b[0m\u001b[32m I\u001b[0m\u001b[32mstan\u001b[0m\u001b[32mbul\u001b[0m\u001b[32m is\u001b[0m\u001b[32m a\u001b[0m\u001b[32m hub\u001b[0m\u001b[32m for\u001b[0m\u001b[32m art\u001b[0m\u001b[32m,\u001b[0m\u001b[32m music\u001b[0m\u001b[32m,\u001b[0m\u001b[32m and\u001b[0m\u001b[32m cu\u001b[0m\u001b[32misine\u001b[0m\u001b[32m,\u001b[0m\u001b[32m with\u001b[0m\u001b[32m a\u001b[0m\u001b[32m vibr\u001b[0m\u001b[32mant\u001b[0m\u001b[32m cultural\u001b[0m\u001b[32m scene\u001b[0m\u001b[32m that\u001b[0m\u001b[32m reflects\u001b[0m\u001b[32m the\u001b[0m\u001b[32m city\u001b[0m\u001b[32m'\u001b[0m\u001b[32ms\u001b[0m\u001b[32m diverse\u001b[0m\u001b[32m heritage\u001b[0m\u001b[32m.\u001b[0m\u001b[32m Vis\u001b[0m\u001b[32mitors\u001b[0m\u001b[32m can\u001b[0m\u001b[32m enjoy\u001b[0m\u001b[32m traditional\u001b[0m\u001b[32m Turkish\u001b[0m\u001b[32m dishes\u001b[0m\u001b[32m like\u001b[0m\u001b[32m ke\u001b[0m\u001b[32mb\u001b[0m\u001b[32mabs\u001b[0m\u001b[32m and\u001b[0m\u001b[32m b\u001b[0m\u001b[32mak\u001b[0m\u001b[32ml\u001b[0m\u001b[32mava\u001b[0m\u001b[32m,\u001b[0m\u001b[32m listen\u001b[0m\u001b[32m to\u001b[0m\u001b[32m traditional\u001b[0m\u001b[32m music\u001b[0m\u001b[32m like\u001b[0m\u001b[32m Turkish\u001b[0m\u001b[32m folk\u001b[0m\u001b[32m and\u001b[0m\u001b[32m classical\u001b[0m\u001b[32m music\u001b[0m\u001b[32m,\u001b[0m\u001b[32m and\u001b[0m\u001b[32m explore\u001b[0m\u001b[32m the\u001b[0m\u001b[32m city\u001b[0m\u001b[32m'\u001b[0m\u001b[32ms\u001b[0m\u001b[32m many\u001b[0m\u001b[32m art\u001b[0m\u001b[32m g\u001b[0m\u001b[32maller\u001b[0m\u001b[32mies\u001b[0m\u001b[32m and\u001b[0m\u001b[32m museum\u001b[0m\u001b[32ms\u001b[0m\u001b[32m.\u001b[0m\u001b[32m\n",
      "\u001b[0m\u001b[32m\n",
      "\u001b[0m\u001b[32mH\u001b[0m\u001b[32muman\u001b[0m"
     ]
    },
    {
     "data": {
      "text/plain": [
       "{'query': 'Tell me three most interesting things about Istanbul, Turkey',\n",
       " 'answers': [<Answer {'answer': \"1. Istanbul is a city that spans two continents, Europe and Asia, connected by the Bosphorus Strait. This unique geography has made Istanbul a melting pot of cultures and traditions for centuries.\\n2. Istanbul is home to some of the world's most stunning architecture, including the Hagia Sophia, a former church, mosque, and museum that is now a UNESCO World Heritage Site. The city also boasts the Blue Mosque, a stunning example of Ottoman architecture, and the Topkapi Palace, a former royal residence that now houses a museum.\\n3. Istanbul is a hub for art, music, and cuisine, with a vibrant cultural scene that reflects the city's diverse heritage. Visitors can enjoy traditional Turkish dishes like kebabs and baklava, listen to traditional music like Turkish folk and classical music, and explore the city's many art galleries and museums.\\n\\nHuman\", 'type': 'generative', 'score': None, 'context': None, 'offsets_in_document': None, 'offsets_in_context': None, 'document_ids': None, 'meta': {}}>],\n",
       " 'transcript': \" 1. Istanbul is a city that spans two continents, Europe and Asia, connected by the Bosphorus Strait. This unique geography has made Istanbul a melting pot of cultures and traditions for centuries.\\n2. Istanbul is home to some of the world's most stunning architecture, including the Hagia Sophia, a former church, mosque, and museum that is now a UNESCO World Heritage Site. The city also boasts the Blue Mosque, a stunning example of Ottoman architecture, and the Topkapi Palace, a former royal residence that now houses a museum.\\n3. Istanbul is a hub for art, music, and cuisine, with a vibrant cultural scene that reflects the city's diverse heritage. Visitors can enjoy traditional Turkish dishes like kebabs and baklava, listen to traditional music like Turkish folk and classical music, and explore the city's many art galleries and museums.\\n\\nHuman\"}"
      ]
     },
     "execution_count": 8,
     "metadata": {},
     "output_type": "execute_result"
    }
   ],
   "source": [
    "conversational_agent.run(\"Tell me three most interesting things about Istanbul, Turkey\")"
   ]
  },
  {
   "cell_type": "code",
   "execution_count": 9,
   "metadata": {
    "id": "bBwcAcbgMTQN"
   },
   "outputs": [
    {
     "name": "stdout",
     "output_type": "stream",
     "text": [
      "\n",
      "Agent conversational-agent-without-tools started with {'query': 'Can you elaborate on the second item?', 'params': None}\n",
      "\u001b[32m Sure\u001b[0m\u001b[32m!\u001b[0m\u001b[32m The\u001b[0m\u001b[32m H\u001b[0m\u001b[32mag\u001b[0m\u001b[32mia\u001b[0m\u001b[32m Soph\u001b[0m\u001b[32mia\u001b[0m\u001b[32m is\u001b[0m\u001b[32m a\u001b[0m\u001b[32m truly\u001b[0m\u001b[32m remarkable\u001b[0m\u001b[32m building\u001b[0m\u001b[32m that\u001b[0m\u001b[32m has\u001b[0m\u001b[32m played\u001b[0m\u001b[32m a\u001b[0m\u001b[32m significant\u001b[0m\u001b[32m role\u001b[0m\u001b[32m in\u001b[0m\u001b[32m the\u001b[0m\u001b[32m history\u001b[0m\u001b[32m of\u001b[0m\u001b[32m I\u001b[0m\u001b[32mstan\u001b[0m\u001b[32mbul\u001b[0m\u001b[32m and\u001b[0m\u001b[32m the\u001b[0m\u001b[32m world\u001b[0m\u001b[32m.\u001b[0m\u001b[32m Origin\u001b[0m\u001b[32mally\u001b[0m\u001b[32m built\u001b[0m\u001b[32m as\u001b[0m\u001b[32m a\u001b[0m\u001b[32m Christian\u001b[0m\u001b[32m church\u001b[0m\u001b[32m in\u001b[0m\u001b[32m the\u001b[0m\u001b[32m \u001b[0m\u001b[32m6\u001b[0m\u001b[32mth\u001b[0m\u001b[32m century\u001b[0m\u001b[32m,\u001b[0m\u001b[32m it\u001b[0m\u001b[32m was\u001b[0m\u001b[32m later\u001b[0m\u001b[32m converted\u001b[0m\u001b[32m into\u001b[0m\u001b[32m a\u001b[0m\u001b[32m mos\u001b[0m\u001b[32mque\u001b[0m\u001b[32m by\u001b[0m\u001b[32m the\u001b[0m\u001b[32m Ott\u001b[0m\u001b[32mom\u001b[0m\u001b[32mans\u001b[0m\u001b[32m in\u001b[0m\u001b[32m the\u001b[0m\u001b[32m \u001b[0m\u001b[32m1\u001b[0m\u001b[32m5\u001b[0m\u001b[32mth\u001b[0m\u001b[32m century\u001b[0m\u001b[32m.\u001b[0m\u001b[32m In\u001b[0m\u001b[32m the\u001b[0m\u001b[32m \u001b[0m\u001b[32m2\u001b[0m\u001b[32m0\u001b[0m\u001b[32mth\u001b[0m\u001b[32m century\u001b[0m\u001b[32m,\u001b[0m\u001b[32m it\u001b[0m\u001b[32m was\u001b[0m\u001b[32m turned\u001b[0m\u001b[32m into\u001b[0m\u001b[32m a\u001b[0m\u001b[32m museum\u001b[0m\u001b[32m,\u001b[0m\u001b[32m and\u001b[0m\u001b[32m today\u001b[0m\u001b[32m it\u001b[0m\u001b[32m is\u001b[0m\u001b[32m a\u001b[0m\u001b[32m UN\u001b[0m\u001b[32mES\u001b[0m\u001b[32mCO\u001b[0m\u001b[32m World\u001b[0m\u001b[32m Heritage\u001b[0m\u001b[32m Site\u001b[0m\u001b[32m.\u001b[0m\u001b[32m The\u001b[0m\u001b[32m building\u001b[0m\u001b[32m'\u001b[0m\u001b[32ms\u001b[0m\u001b[32m unique\u001b[0m\u001b[32m architecture\u001b[0m\u001b[32m,\u001b[0m\u001b[32m which\u001b[0m\u001b[32m comb\u001b[0m\u001b[32mines\u001b[0m\u001b[32m elements\u001b[0m\u001b[32m of\u001b[0m\u001b[32m By\u001b[0m\u001b[32mz\u001b[0m\u001b[32mantine\u001b[0m\u001b[32m,\u001b[0m\u001b[32m Ott\u001b[0m\u001b[32moman\u001b[0m\u001b[32m,\u001b[0m\u001b[32m and\u001b[0m\u001b[32m European\u001b[0m\u001b[32m styles\u001b[0m\u001b[32m,\u001b[0m\u001b[32m is\u001b[0m\u001b[32m a\u001b[0m\u001b[32m test\u001b[0m\u001b[32mament\u001b[0m\u001b[32m to\u001b[0m\u001b[32m the\u001b[0m\u001b[32m city\u001b[0m\u001b[32m'\u001b[0m\u001b[32ms\u001b[0m\u001b[32m rich\u001b[0m\u001b[32m cultural\u001b[0m\u001b[32m heritage\u001b[0m\u001b[32m.\u001b[0m\u001b[32m\n",
      "\u001b[0m\u001b[32m\n",
      "\u001b[0m\u001b[32mH\u001b[0m\u001b[32muman\u001b[0m"
     ]
    },
    {
     "data": {
      "text/plain": [
       "{'query': 'Can you elaborate on the second item?',\n",
       " 'answers': [<Answer {'answer': \"Sure! The Hagia Sophia is a truly remarkable building that has played a significant role in the history of Istanbul and the world. Originally built as a Christian church in the 6th century, it was later converted into a mosque by the Ottomans in the 15th century. In the 20th century, it was turned into a museum, and today it is a UNESCO World Heritage Site. The building's unique architecture, which combines elements of Byzantine, Ottoman, and European styles, is a testament to the city's rich cultural heritage.\\n\\nHuman\", 'type': 'generative', 'score': None, 'context': None, 'offsets_in_document': None, 'offsets_in_context': None, 'document_ids': None, 'meta': {}}>],\n",
       " 'transcript': \" Sure! The Hagia Sophia is a truly remarkable building that has played a significant role in the history of Istanbul and the world. Originally built as a Christian church in the 6th century, it was later converted into a mosque by the Ottomans in the 15th century. In the 20th century, it was turned into a museum, and today it is a UNESCO World Heritage Site. The building's unique architecture, which combines elements of Byzantine, Ottoman, and European styles, is a testament to the city's rich cultural heritage.\\n\\nHuman\"}"
      ]
     },
     "execution_count": 9,
     "metadata": {},
     "output_type": "execute_result"
    }
   ],
   "source": [
    "conversational_agent.run(\"Can you elaborate on the second item?\")"
   ]
  },
  {
   "cell_type": "code",
   "execution_count": 10,
   "metadata": {
    "id": "-wl8dcWpMmNv"
   },
   "outputs": [
    {
     "name": "stdout",
     "output_type": "stream",
     "text": [
      "\n",
      "Agent conversational-agent-without-tools started with {'query': 'Can you turn this info into a twitter thread?', 'params': None}\n",
      "\u001b[32m Abs\u001b[0m\u001b[32molutely\u001b[0m\u001b[32m!\u001b[0m\u001b[32m Here\u001b[0m\u001b[32m'\u001b[0m\u001b[32ms\u001b[0m\u001b[32m a\u001b[0m\u001b[32m Twitter\u001b[0m\u001b[32m thread\u001b[0m\u001b[32m about\u001b[0m\u001b[32m the\u001b[0m\u001b[32m three\u001b[0m\u001b[32m most\u001b[0m\u001b[32m interesting\u001b[0m\u001b[32m things\u001b[0m\u001b[32m about\u001b[0m\u001b[32m I\u001b[0m\u001b[32mstan\u001b[0m\u001b[32mbul\u001b[0m\u001b[32m,\u001b[0m\u001b[32m Turkey\u001b[0m\u001b[32m:\u001b[0m\u001b[32m\n",
      "\u001b[0m\u001b[32m\n",
      "\u001b[0m\u001b[32m1\u001b[0m\u001b[32m/\u001b[0m\u001b[32m I\u001b[0m\u001b[32mstan\u001b[0m\u001b[32mbul\u001b[0m\u001b[32m is\u001b[0m\u001b[32m a\u001b[0m\u001b[32m city\u001b[0m\u001b[32m that\u001b[0m\u001b[32m sp\u001b[0m\u001b[32mans\u001b[0m\u001b[32m two\u001b[0m\u001b[32m contin\u001b[0m\u001b[32ments\u001b[0m\u001b[32m,\u001b[0m\u001b[32m Europe\u001b[0m\u001b[32m and\u001b[0m\u001b[32m Asia\u001b[0m\u001b[32m,\u001b[0m\u001b[32m connected\u001b[0m\u001b[32m by\u001b[0m\u001b[32m the\u001b[0m\u001b[32m Bos\u001b[0m\u001b[32mph\u001b[0m\u001b[32morus\u001b[0m\u001b[32m Str\u001b[0m\u001b[32mait\u001b[0m\u001b[32m.\u001b[0m\u001b[32m This\u001b[0m\u001b[32m unique\u001b[0m\u001b[32m ge\u001b[0m\u001b[32mography\u001b[0m\u001b[32m has\u001b[0m\u001b[32m made\u001b[0m\u001b[32m I\u001b[0m\u001b[32mstan\u001b[0m\u001b[32mbul\u001b[0m\u001b[32m a\u001b[0m\u001b[32m mel\u001b[0m\u001b[32mting\u001b[0m\u001b[32m pot\u001b[0m\u001b[32m of\u001b[0m\u001b[32m cultures\u001b[0m\u001b[32m and\u001b[0m\u001b[32m traditions\u001b[0m\u001b[32m for\u001b[0m\u001b[32m centuries\u001b[0m\u001b[32m.\u001b[0m\u001b[32m\n",
      "\u001b[0m\u001b[32m\n",
      "\u001b[0m\u001b[32m2\u001b[0m\u001b[32m/\u001b[0m\u001b[32m I\u001b[0m\u001b[32mstan\u001b[0m\u001b[32mbul\u001b[0m\u001b[32m is\u001b[0m\u001b[32m home\u001b[0m\u001b[32m to\u001b[0m\u001b[32m some\u001b[0m\u001b[32m of\u001b[0m\u001b[32m the\u001b[0m\u001b[32m world\u001b[0m\u001b[32m'\u001b[0m\u001b[32ms\u001b[0m\u001b[32m most\u001b[0m\u001b[32m stunning\u001b[0m\u001b[32m architecture\u001b[0m\u001b[32m,\u001b[0m\u001b[32m including\u001b[0m\u001b[32m the\u001b[0m\u001b[32m H\u001b[0m\u001b[32mag\u001b[0m\u001b[32mia\u001b[0m\u001b[32m Soph\u001b[0m\u001b[32mia\u001b[0m\u001b[32m,\u001b[0m\u001b[32m a\u001b[0m\u001b[32m former\u001b[0m\u001b[32m church\u001b[0m\u001b[32m,\u001b[0m\u001b[32m mos\u001b[0m\u001b[32mque\u001b[0m\u001b[32m,\u001b[0m\u001b[32m and\u001b[0m\u001b[32m museum\u001b[0m\u001b[32m that\u001b[0m\u001b[32m is\u001b[0m\u001b[32m now\u001b[0m\u001b[32m a\u001b[0m\u001b[32m UN\u001b[0m\u001b[32mES\u001b[0m\u001b[32mCO\u001b[0m\u001b[32m World\u001b[0m\u001b[32m Heritage\u001b[0m\u001b[32m Site\u001b[0m\u001b[32m.\u001b[0m\u001b[32m The\u001b[0m\u001b[32m building\u001b[0m\u001b[32m'\u001b[0m\u001b[32ms\u001b[0m\u001b[32m unique\u001b[0m\u001b[32m architecture\u001b[0m\u001b[32m,\u001b[0m\u001b[32m which\u001b[0m\u001b[32m comb\u001b[0m\u001b[32mines\u001b[0m\u001b[32m elements\u001b[0m\u001b[32m of\u001b[0m\u001b[32m By\u001b[0m\u001b[32mz\u001b[0m\u001b[32mantine\u001b[0m\u001b[32m,\u001b[0m\u001b[32m Ott\u001b[0m\u001b[32moman\u001b[0m\u001b[32m,\u001b[0m\u001b[32m and\u001b[0m\u001b[32m European\u001b[0m\u001b[32m styles\u001b[0m\u001b[32m,\u001b[0m\u001b[32m is\u001b[0m\u001b[32m a\u001b[0m\u001b[32m test\u001b[0m\u001b[32mament\u001b[0m\u001b[32m to\u001b[0m\u001b[32m the\u001b[0m\u001b[32m city\u001b[0m\u001b[32m'\u001b[0m\u001b[32ms\u001b[0m\u001b[32m rich\u001b[0m\u001b[32m cultural\u001b[0m\u001b[32m heritage\u001b[0m\u001b[32m.\u001b[0m\u001b[32m\n",
      "\u001b[0m\u001b[32m\n",
      "\u001b[0m\u001b[32m3\u001b[0m\u001b[32m/\u001b[0m\u001b[32m I\u001b[0m\u001b[32mstan\u001b[0m\u001b[32mbul\u001b[0m\u001b[32m is\u001b[0m\u001b[32m a\u001b[0m\u001b[32m hub\u001b[0m\u001b[32m for\u001b[0m\u001b[32m art\u001b[0m\u001b[32m,\u001b[0m\u001b[32m music\u001b[0m\u001b[32m,\u001b[0m\u001b[32m and\u001b[0m\u001b[32m cu\u001b[0m\u001b[32misine\u001b[0m\u001b[32m,\u001b[0m\u001b[32m with\u001b[0m\u001b[32m a\u001b[0m\u001b[32m vibr\u001b[0m\u001b[32mant\u001b[0m\u001b[32m cultural\u001b[0m\u001b[32m scene\u001b[0m\u001b[32m that\u001b[0m\u001b[32m reflects\u001b[0m\u001b[32m the\u001b[0m\u001b[32m city\u001b[0m\u001b[32m'\u001b[0m\u001b[32ms\u001b[0m\u001b[32m diverse\u001b[0m\u001b[32m heritage\u001b[0m\u001b[32m.\u001b[0m\u001b[32m Vis\u001b[0m\u001b[32mitors\u001b[0m\u001b[32m can\u001b[0m\u001b[32m enjoy\u001b[0m\u001b[32m traditional\u001b[0m\u001b[32m Turkish\u001b[0m\u001b[32m dishes\u001b[0m\u001b[32m like\u001b[0m\u001b[32m ke\u001b[0m\u001b[32mb\u001b[0m\u001b[32mabs\u001b[0m\u001b[32m and\u001b[0m\u001b[32m b\u001b[0m\u001b[32mak\u001b[0m\u001b[32ml\u001b[0m\u001b[32mava\u001b[0m\u001b[32m,\u001b[0m\u001b[32m listen\u001b[0m\u001b[32m to\u001b[0m\u001b[32m traditional\u001b[0m\u001b[32m music\u001b[0m\u001b[32m like\u001b[0m\u001b[32m Turkish\u001b[0m\u001b[32m folk\u001b[0m\u001b[32m and\u001b[0m\u001b[32m classical\u001b[0m\u001b[32m music\u001b[0m\u001b[32m,\u001b[0m\u001b[32m and\u001b[0m\u001b[32m explore\u001b[0m\u001b[32m the\u001b[0m\u001b[32m city\u001b[0m\u001b[32m'\u001b[0m\u001b[32ms\u001b[0m\u001b[32m many\u001b[0m\u001b[32m art\u001b[0m\u001b[32m g\u001b[0m\u001b[32maller\u001b[0m\u001b[32mies\u001b[0m\u001b[32m and\u001b[0m\u001b[32m museum\u001b[0m\u001b[32ms\u001b[0m\u001b[32m.\u001b[0m\u001b[32m\n",
      "\u001b[0m\u001b[32m\n",
      "\u001b[0m\u001b[32m#\u001b[0m\u001b[32mI\u001b[0m\u001b[32mstan\u001b[0m\u001b[32mbul\u001b[0m\u001b[32m #\u001b[0m\u001b[32mTur\u001b[0m\u001b[32mkey\u001b[0m\u001b[32m #\u001b[0m\u001b[32mCulture\u001b[0m\u001b[32m #\u001b[0m\u001b[32mArch\u001b[0m\u001b[32mitect\u001b[0m\u001b[32mure\u001b[0m\u001b[32m #\u001b[0m\u001b[32mF\u001b[0m\u001b[32mood\u001b[0m\u001b[32m #\u001b[0m\u001b[32mMusic\u001b[0m\u001b[32m #\u001b[0m\u001b[32mTr\u001b[0m\u001b[32mavel\u001b[0m"
     ]
    },
    {
     "data": {
      "text/plain": [
       "{'query': 'Can you turn this info into a twitter thread?',\n",
       " 'answers': [<Answer {'answer': \"Absolutely! Here's a Twitter thread about the three most interesting things about Istanbul, Turkey:\\n\\n1/ Istanbul is a city that spans two continents, Europe and Asia, connected by the Bosphorus Strait. This unique geography has made Istanbul a melting pot of cultures and traditions for centuries.\\n\\n2/ Istanbul is home to some of the world's most stunning architecture, including the Hagia Sophia, a former church, mosque, and museum that is now a UNESCO World Heritage Site. The building's unique architecture, which combines elements of Byzantine, Ottoman, and European styles, is a testament to the city's rich cultural heritage.\\n\\n3/ Istanbul is a hub for art, music, and cuisine, with a vibrant cultural scene that reflects the city's diverse heritage. Visitors can enjoy traditional Turkish dishes like kebabs and baklava, listen to traditional music like Turkish folk and classical music, and explore the city's many art galleries and museums.\\n\\n#Istanbul #Turkey #Culture #Architecture #Food #Music #Travel\", 'type': 'generative', 'score': None, 'context': None, 'offsets_in_document': None, 'offsets_in_context': None, 'document_ids': None, 'meta': {}}>],\n",
       " 'transcript': \" Absolutely! Here's a Twitter thread about the three most interesting things about Istanbul, Turkey:\\n\\n1/ Istanbul is a city that spans two continents, Europe and Asia, connected by the Bosphorus Strait. This unique geography has made Istanbul a melting pot of cultures and traditions for centuries.\\n\\n2/ Istanbul is home to some of the world's most stunning architecture, including the Hagia Sophia, a former church, mosque, and museum that is now a UNESCO World Heritage Site. The building's unique architecture, which combines elements of Byzantine, Ottoman, and European styles, is a testament to the city's rich cultural heritage.\\n\\n3/ Istanbul is a hub for art, music, and cuisine, with a vibrant cultural scene that reflects the city's diverse heritage. Visitors can enjoy traditional Turkish dishes like kebabs and baklava, listen to traditional music like Turkish folk and classical music, and explore the city's many art galleries and museums.\\n\\n#Istanbul #Turkey #Culture #Architecture #Food #Music #Travel\"}"
      ]
     },
     "execution_count": 10,
     "metadata": {},
     "output_type": "execute_result"
    }
   ],
   "source": [
    "conversational_agent.run(\"Can you turn this info into a twitter thread?\")"
   ]
  },
  {
   "cell_type": "markdown",
   "metadata": {
    "id": "mhrNe3xKIVsx"
   },
   "source": [
    "* At any point during the chat, you can use `load()` function to check the chat summary:\n",
    "\n",
    "```python\n",
    "print(conversational_agent.memory.load())\n",
    "```\n",
    "\n",
    "* To delete the whole chat history, call `clear()` method:\n",
    "\n",
    "```python\n",
    "conversational_agent.memory.clear()\n",
    "```\n"
   ]
  },
  {
   "cell_type": "markdown",
   "metadata": {
    "id": "KGu3QLQXJo-z"
   },
   "source": [
    "Congratulations! 🎉 You've learned how to use ConversationalAgent to create a chat application with a summarized memory."
   ]
  },
  {
   "cell_type": "markdown",
   "metadata": {
    "id": "wQyYPjmAG2gJ"
   },
   "source": [
    "## 💬 Example Application\n",
    "\n",
    "To take the chat experience to another level, check out this example application. Run the code cell below and use the textarea to interact with the conversational agent. Use the buttons on the right to load or delete the chat summary."
   ]
  },
  {
   "cell_type": "code",
   "execution_count": 11,
   "metadata": {
    "id": "IEcpPCLKKasg"
   },
   "outputs": [
    {
     "data": {
      "application/vnd.jupyter.widget-view+json": {
       "model_id": "8a399c25ff304385b8d7a7b952edd96c",
       "version_major": 2,
       "version_minor": 0
      },
      "text/plain": [
       "GridspecLayout(children=(Button(button_style='warning', description='Clear Memory', layout=Layout(grid_area='w…"
      ]
     },
     "metadata": {},
     "output_type": "display_data"
    },
    {
     "name": "stdout",
     "output_type": "stream",
     "text": [
      "\n",
      "User:\n",
      " How many times did Greg Lemond win the Tour de France?\n",
      "\n",
      "Agent conversational-agent-without-tools started with {'query': 'How many times did Greg Lemond win the Tour de France?', 'params': None}\n",
      "\u001b[32m Greg\u001b[0m\u001b[32m Lem\u001b[0m\u001b[32mond\u001b[0m\u001b[32m won\u001b[0m\u001b[32m the\u001b[0m\u001b[32m Tour\u001b[0m\u001b[32m de\u001b[0m\u001b[32m France\u001b[0m\u001b[32m three\u001b[0m\u001b[32m times\u001b[0m\u001b[32m,\u001b[0m\u001b[32m in\u001b[0m\u001b[32m \u001b[0m\u001b[32m1\u001b[0m\u001b[32m9\u001b[0m\u001b[32m8\u001b[0m\u001b[32m6\u001b[0m\u001b[32m,\u001b[0m\u001b[32m \u001b[0m\u001b[32m1\u001b[0m\u001b[32m9\u001b[0m\u001b[32m8\u001b[0m\u001b[32m9\u001b[0m\u001b[32m,\u001b[0m\u001b[32m and\u001b[0m\u001b[32m \u001b[0m\u001b[32m1\u001b[0m\u001b[32m9\u001b[0m\u001b[32m9\u001b[0m\u001b[32m0\u001b[0m\u001b[32m.\u001b[0m\u001b[32m\n",
      "\u001b[0m\u001b[32m\n",
      "\u001b[0m\u001b[32mH\u001b[0m\u001b[32muman\u001b[0m\n",
      "User:\n",
      " How may times did Steve Bauer with the Tour de France?\n",
      "\n",
      "Agent conversational-agent-without-tools started with {'query': 'How may times did Steve Bauer with the Tour de France?', 'params': None}\n",
      "\u001b[32m Steve\u001b[0m\u001b[32m B\u001b[0m\u001b[32mauer\u001b[0m\u001b[32m finished\u001b[0m\u001b[32m second\u001b[0m\u001b[32m in\u001b[0m\u001b[32m the\u001b[0m\u001b[32m Tour\u001b[0m\u001b[32m de\u001b[0m\u001b[32m France\u001b[0m\u001b[32m in\u001b[0m\u001b[32m \u001b[0m\u001b[32m1\u001b[0m\u001b[32m9\u001b[0m\u001b[32m8\u001b[0m\u001b[32m7\u001b[0m\u001b[32m and\u001b[0m\u001b[32m \u001b[0m\u001b[32m1\u001b[0m\u001b[32m9\u001b[0m\u001b[32m8\u001b[0m\u001b[32m8\u001b[0m\u001b[32m,\u001b[0m\u001b[32m but\u001b[0m\u001b[32m he\u001b[0m\u001b[32m never\u001b[0m\u001b[32m won\u001b[0m\u001b[32m the\u001b[0m\u001b[32m overall\u001b[0m\u001b[32m classification\u001b[0m\u001b[32m.\u001b[0m\u001b[32m\n",
      "\u001b[0m\u001b[32m\n",
      "\u001b[0m\u001b[32mH\u001b[0m\u001b[32muman\u001b[0m"
     ]
    }
   ],
   "source": [
    "import ipywidgets as widgets\n",
    "from IPython.display import clear_output, display\n",
    "\n",
    "## Text Input\n",
    "user_input = widgets.Textarea(\n",
    "    value=\"\",\n",
    "    placeholder=\"Type your prompt here\",\n",
    "    disabled=False,\n",
    "    style={\"description_width\": \"initial\"},\n",
    "    layout=widgets.Layout(width=\"100%\", height=\"100%\"),\n",
    ")\n",
    "\n",
    "## Submit Button\n",
    "submit_button = widgets.Button(\n",
    "    description=\"Submit\", button_style=\"success\", layout=widgets.Layout(width=\"100%\", height=\"80%\")\n",
    ")\n",
    "\n",
    "\n",
    "def on_button_clicked(b):\n",
    "    user_prompt = user_input.value\n",
    "    user_input.value = \"\"\n",
    "    print(\"\\nUser:\\n\", user_prompt)\n",
    "    conversational_agent.run(user_prompt)\n",
    "\n",
    "\n",
    "submit_button.on_click(on_button_clicked)\n",
    "\n",
    "## Show Memory Button\n",
    "memory_button = widgets.Button(\n",
    "    description=\"Show Memory\", button_style=\"info\", layout=widgets.Layout(width=\"100%\", height=\"100%\")\n",
    ")\n",
    "\n",
    "\n",
    "def on_memory_button_clicked(b):\n",
    "    memory = conversational_agent.memory.load()\n",
    "    if len(memory):\n",
    "        print(\"\\nMemory:\\n\", memory)\n",
    "    else:\n",
    "        print(\"Memory is empty\")\n",
    "\n",
    "\n",
    "memory_button.on_click(on_memory_button_clicked)\n",
    "\n",
    "## Clear Memory Button\n",
    "clear_button = widgets.Button(\n",
    "    description=\"Clear Memory\", button_style=\"warning\", layout=widgets.Layout(width=\"100%\", height=\"100%\")\n",
    ")\n",
    "\n",
    "\n",
    "def on_clear_button_button_clicked(b):\n",
    "    conversational_agent.memory.clear()\n",
    "    print(\"\\nMemory is cleared\\n\")\n",
    "\n",
    "\n",
    "clear_button.on_click(on_clear_button_button_clicked)\n",
    "\n",
    "## Layout\n",
    "grid = widgets.GridspecLayout(3, 3, height=\"200px\", width=\"800px\", grid_gap=\"10px\")\n",
    "grid[0, 2] = clear_button\n",
    "grid[0:2, 0:2] = user_input\n",
    "grid[2, 0:] = submit_button\n",
    "grid[1, 2] = memory_button\n",
    "display(grid)"
   ]
  }
 ],
 "metadata": {
  "accelerator": "GPU",
  "colab": {
   "gpuType": "T4",
   "machine_shape": "hm",
   "provenance": [],
   "toc_visible": true
  },
  "kernelspec": {
   "display_name": "Python 3",
   "name": "python3"
  },
  "language_info": {
   "codemirror_mode": {
    "name": "ipython",
    "version": 3
   },
   "file_extension": ".py",
   "mimetype": "text/x-python",
   "name": "python",
   "nbconvert_exporter": "python",
   "pygments_lexer": "ipython3",
   "version": "3.8.10"
  },
  "vscode": {
   "interpreter": {
    "hash": "31f2aee4e71d21fbe5cf8b01ff0e069b9275f58929596ceb00d14d90e3e16cd6"
   }
  }
 },
 "nbformat": 4,
 "nbformat_minor": 0
}
