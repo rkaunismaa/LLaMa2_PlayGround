{
 "cells": [
  {
   "cell_type": "markdown",
   "metadata": {},
   "source": [
    "#### Sunday, December 17, 2023\n",
    "\n",
    "[Tutorial: Better Retrieval with Embedding Retrieval](https://haystack.deepset.ai/tutorials/06_better_retrieval_via_embedding_retrieval)\n",
    "\n",
    "This all runs."
   ]
  },
  {
   "cell_type": "code",
   "execution_count": 1,
   "metadata": {},
   "outputs": [
    {
     "data": {
      "text/plain": [
       "device(type='cuda')"
      ]
     },
     "execution_count": 1,
     "metadata": {},
     "output_type": "execute_result"
    }
   ],
   "source": [
    "# only target the 4090 ...\n",
    "import os\n",
    "os.environ[\"CUDA_VISIBLE_DEVICES\"]=\"0\"\n",
    "\n",
    "import torch\n",
    "device = torch.device(\"cuda\" if torch.cuda.is_available() else \"cpu\")\n",
    "device"
   ]
  },
  {
   "attachments": {},
   "cell_type": "markdown",
   "metadata": {
    "id": "bEH-CRbeA6NU"
   },
   "source": [
    "# Better Retrieval via \"Embedding Retrieval\"\n",
    "\n",
    "### Importance of Retrievers\n",
    "\n",
    "The Retriever has a huge impact on the performance of our overall search pipeline.\n",
    "\n",
    "\n",
    "### Different types of Retrievers\n",
    "#### Sparse\n",
    "Family of algorithms based on counting the occurrences of words (bag-of-words) resulting in very sparse vectors with length = vocab size.\n",
    "\n",
    "**Examples**: BM25, TF-IDF\n",
    "\n",
    "**Pros**: Simple, fast, well explainable\n",
    "\n",
    "**Cons**: Relies on exact keyword matches between query and text\n",
    " \n",
    "\n",
    "#### Dense\n",
    "These retrievers use neural network models to create \"dense\" embedding vectors. Within this family, there are two different approaches:\n",
    "\n",
    "a) Single encoder: Use a **single model** to embed both the query and the passage.\n",
    "b) Dual-encoder: Use **two models**, one to embed the query and one to embed the passage.\n",
    "\n",
    "**Examples**: REALM, DPR, Sentence-Transformers\n",
    "\n",
    "**Pros**: Captures semantic similarity instead of \"word matches\" (for example, synonyms, related topics).\n",
    "\n",
    "**Cons**: Computationally more heavy to use, initial training of the model (though this is less of an issue nowadays as many pre-trained models are available and most of the time, it's not needed to train the model).\n",
    "\n",
    "\n",
    "### Embedding Retrieval\n",
    "\n",
    "In this Tutorial, we use an `EmbeddingRetriever` with [Sentence Transformers](https://www.sbert.net/index.html) models.\n",
    "\n",
    "These models are trained to embed similar sentences close to each other in a shared embedding space.\n",
    "\n",
    "Some models have been fine-tuned on massive Information Retrieval data and can be used to retrieve documents based on a short query (for example, `multi-qa-mpnet-base-dot-v1`). There are others that are more suited to semantic similarity tasks where you are trying to find the most similar documents to a given document (for example, `all-mpnet-base-v2`). There are even models that are multilingual (for example, `paraphrase-multilingual-mpnet-base-v2`). For a good overview of different models with their evaluation metrics, see the [Pretrained Models](https://www.sbert.net/docs/pretrained_models.html#) in the Sentence Transformers documentation.\n"
   ]
  },
  {
   "attachments": {},
   "cell_type": "markdown",
   "metadata": {
    "id": "3K27Y5FbA6NV"
   },
   "source": [
    "\n",
    "## Preparing the Colab Environment\n",
    "\n",
    "- [Enable GPU Runtime](https://docs.haystack.deepset.ai/docs/enabling-gpu-acceleration#enabling-the-gpu-in-colab)\n"
   ]
  },
  {
   "attachments": {},
   "cell_type": "markdown",
   "metadata": {},
   "source": [
    "## Installing Haystack\n",
    "\n",
    "To start, let's install the latest release of Haystack with `pip`:"
   ]
  },
  {
   "cell_type": "code",
   "execution_count": null,
   "metadata": {
    "id": "NM36kbRFA6Nc"
   },
   "outputs": [],
   "source": [
    "# %%bash\n",
    "\n",
    "# pip install --upgrade pip\n",
    "# pip install farm-haystack[colab,faiss,inference]"
   ]
  },
  {
   "attachments": {},
   "cell_type": "markdown",
   "metadata": {},
   "source": [
    "### Enabling Telemetry \n",
    "Knowing you're using this tutorial helps us decide where to invest our efforts to build a better product but you can always opt out by commenting the following line. See [Telemetry](https://docs.haystack.deepset.ai/docs/telemetry) for more details."
   ]
  },
  {
   "cell_type": "code",
   "execution_count": null,
   "metadata": {},
   "outputs": [],
   "source": [
    "from haystack.telemetry import tutorial_running\n",
    "\n",
    "tutorial_running(6)"
   ]
  },
  {
   "attachments": {},
   "cell_type": "markdown",
   "metadata": {
    "collapsed": false,
    "id": "GbM2ml-ozqLX",
    "pycharm": {
     "name": "#%% md\n"
    }
   },
   "source": [
    "## Logging\n",
    "\n",
    "We configure how logging messages should be displayed and which log level should be used before importing Haystack.\n",
    "Example log message:\n",
    "INFO - haystack.utils.preprocessing -  Converting data/tutorial1/218_Olenna_Tyrell.txt\n",
    "Default log level in basicConfig is WARNING so the explicit parameter is not necessary but can be changed easily:"
   ]
  },
  {
   "cell_type": "code",
   "execution_count": 2,
   "metadata": {
    "id": "kQWEUUMnzqLX",
    "pycharm": {
     "name": "#%%\n"
    }
   },
   "outputs": [],
   "source": [
    "import logging\n",
    "\n",
    "logging.basicConfig(format=\"%(levelname)s - %(name)s -  %(message)s\", level=logging.WARNING)\n",
    "logging.getLogger(\"haystack\").setLevel(logging.INFO)"
   ]
  },
  {
   "attachments": {},
   "cell_type": "markdown",
   "metadata": {
    "id": "q3dSo7ZtA6Nl"
   },
   "source": [
    "## Initializing the DocumentStore\n",
    "\n",
    "FAISS is a library for efficient similarity search on a cluster of dense vectors.\n",
    "The `FAISSDocumentStore` uses a SQL(SQLite in-memory be default) database under-the-hood\n",
    "to store the document text and other meta data. The vector embeddings of the text are\n",
    "indexed on a FAISS Index that later is queried for searching answers.\n",
    "The default flavour of FAISSDocumentStore is \"Flat\" but can also be set to \"HNSW\" for\n",
    "faster search at the expense of some accuracy. Just set the faiss_index_factor_str argument in the constructor.\n",
    "For more info on which suits your use case: https://github.com/facebookresearch/faiss/wiki/Guidelines-to-choose-an-index"
   ]
  },
  {
   "cell_type": "code",
   "execution_count": 3,
   "metadata": {
    "id": "1cYgDJmrA6Nv",
    "pycharm": {
     "name": "#%%\n"
    }
   },
   "outputs": [],
   "source": [
    "from haystack.document_stores import FAISSDocumentStore\n",
    "\n",
    "document_store = FAISSDocumentStore(sql_url=\"sqlite:///\", faiss_index_factory_str=\"Flat\")"
   ]
  },
  {
   "attachments": {},
   "cell_type": "markdown",
   "metadata": {},
   "source": [
    "### Option 2: Milvus\n",
    "\n",
    "> As of version 1.15, MilvusDocumentStore has been deprecated in Haystack. It is deleted from the haystack repository as of version 1.17 and moved to [haystack-extras](https://github.com/deepset-ai/haystack-extras/tree/main). For more details, check out [Deprecation of MilvusDocumentStore](https://github.com/deepset-ai/haystack/discussions/4785).\n",
    "\n",
    "Milvus is an open source database library that is also optimized for vector similarity searches like FAISS.\n",
    "Like FAISS it has both a \"Flat\" and \"HNSW\" mode but it outperforms FAISS when it comes to dynamic data management.\n",
    "It does require a little more setup, however, as it is run through Docker and requires the setup of some config files.\n",
    "See [their docs](https://milvus.io/docs/v1.0.0/milvus_docker-cpu.md) for more details."
   ]
  },
  {
   "cell_type": "code",
   "execution_count": null,
   "metadata": {},
   "outputs": [],
   "source": [
    "# Milvus cannot be run on Colab, so this cell is commented out.\n",
    "# To run Milvus you need Docker (versions below 2.0.0) or a docker-compose (versions >= 2.0.0), neither of which is available on Colab.\n",
    "# See Milvus' documentation for more details: https://milvus.io/docs/install_standalone-docker.md\n",
    "\n",
    "# !pip install farm-haystack[milvus]==1.16.1\n",
    "\n",
    "# from haystack.utils import launch_milvus\n",
    "# from haystack.document_stores import MilvusDocumentStore\n",
    "\n",
    "# launch_milvus()\n",
    "# document_store = MilvusDocumentStore()"
   ]
  },
  {
   "attachments": {},
   "cell_type": "markdown",
   "metadata": {
    "id": "06LatTJBA6N0",
    "pycharm": {
     "name": "#%% md\n"
    }
   },
   "source": [
    "## Cleaning and Writing Documents\n",
    "\n",
    "Similarly to the previous tutorials, we download, convert and write some Game of Thrones articles to our DocumentStore."
   ]
  },
  {
   "cell_type": "code",
   "execution_count": 4,
   "metadata": {
    "id": "iqKnu6wxA6N1",
    "pycharm": {
     "name": "#%%\n"
    }
   },
   "outputs": [
    {
     "name": "stderr",
     "output_type": "stream",
     "text": [
      "INFO - haystack.utils.import_utils -  Fetching from https://s3.eu-central-1.amazonaws.com/deepset.ai-farm-qa/datasets/documents/wiki_gameofthrones_txt6.zip to 'data/tutorial6'\n",
      "INFO - haystack.utils.preprocessing -  Converting data/tutorial6/44_Daenerys_Targaryen.txt\n",
      "INFO - haystack.utils.preprocessing -  Converting data/tutorial6/134_Game_of_Thrones__Season_6__soundtrack_.txt\n",
      "INFO - haystack.utils.preprocessing -  Converting data/tutorial6/310_Mother_s_Mercy.txt\n",
      "INFO - haystack.utils.preprocessing -  Converting data/tutorial6/224_The_Night_Lands.txt\n",
      "INFO - haystack.utils.preprocessing -  Converting data/tutorial6/340_Roose_Bolton.txt\n",
      "INFO - haystack.utils.preprocessing -  Converting data/tutorial6/23_Game_of_Thrones_Live_Concert_Experience.txt\n",
      "INFO - haystack.utils.preprocessing -  Converting data/tutorial6/395_Game_of_Thrones__season_5_.txt\n",
      "INFO - haystack.utils.preprocessing -  Converting data/tutorial6/154_Margaery_Tyrell.txt\n",
      "INFO - haystack.utils.preprocessing -  Converting data/tutorial6/474_Bronn__character_.txt\n",
      "INFO - haystack.utils.preprocessing -  Converting data/tutorial6/212_The_Children__Game_of_Thrones_.txt\n",
      "INFO - haystack.utils.preprocessing -  Converting data/tutorial6/515_The_Door__Game_of_Thrones_.txt\n",
      "INFO - haystack.utils.preprocessing -  Converting data/tutorial6/151_Ellaria_Sand.txt\n",
      "INFO - haystack.utils.preprocessing -  Converting data/tutorial6/68_The_Gift__Game_of_Thrones_.txt\n",
      "INFO - haystack.utils.preprocessing -  Converting data/tutorial6/263_Tormund_Giantsbane.txt\n",
      "INFO - haystack.utils.preprocessing -  Converting data/tutorial6/43_Arya_Stark.txt\n",
      "INFO - haystack.utils.preprocessing -  Converting data/tutorial6/512_Home__Game_of_Thrones_.txt\n",
      "INFO - haystack.utils.preprocessing -  Converting data/tutorial6/121_The_Bear_and_the_Maiden_Fair.txt\n",
      "INFO - haystack.utils.preprocessing -  Converting data/tutorial6/399_For_the_Throne__Music_Inspired_by_the_HBO_Series_Game_of_Thrones.txt\n",
      "INFO - haystack.utils.preprocessing -  Converting data/tutorial6/160_Viserys_Targaryen.txt\n",
      "INFO - haystack.utils.preprocessing -  Converting data/tutorial6/135_Game_of_Thrones__Season_7__soundtrack_.txt\n",
      "INFO - haystack.utils.preprocessing -  Converting data/tutorial6/346_Ygritte.txt\n",
      "INFO - haystack.utils.preprocessing -  Converting data/tutorial6/369_Samwell_Tarly.txt\n",
      "INFO - haystack.utils.preprocessing -  Converting data/tutorial6/345_A_Game_of_Thrones__comics_.txt\n",
      "INFO - haystack.utils.preprocessing -  Converting data/tutorial6/371_Cersei_Lannister.txt\n",
      "INFO - haystack.utils.preprocessing -  Converting data/tutorial6/98_Black_Friday__South_Park_.txt\n",
      "INFO - haystack.utils.preprocessing -  Converting data/tutorial6/481_Sandor_Clegane.txt\n",
      "INFO - haystack.utils.preprocessing -  Converting data/tutorial6/317_The_Broken_Man.txt\n",
      "INFO - haystack.utils.preprocessing -  Converting data/tutorial6/514_Book_of_the_Stranger.txt\n",
      "INFO - haystack.utils.preprocessing -  Converting data/tutorial6/67_Unbowed__Unbent__Unbroken.txt\n",
      "INFO - haystack.utils.preprocessing -  Converting data/tutorial6/460_Battle_of_the_Bastards.txt\n",
      "INFO - haystack.utils.preprocessing -  Converting data/tutorial6/508_A_Game_of_Thrones__Second_Edition__card_game_.txt\n",
      "INFO - haystack.utils.preprocessing -  Converting data/tutorial6/396_Game_of_Thrones__season_6_.txt\n",
      "INFO - haystack.utils.preprocessing -  Converting data/tutorial6/408_The_Last_of_the_Starks.txt\n",
      "INFO - haystack.utils.preprocessing -  Converting data/tutorial6/454_Music_of_Game_of_Thrones.txt\n",
      "INFO - haystack.utils.preprocessing -  Converting data/tutorial6/331_Bran_Stark.txt\n",
      "INFO - haystack.utils.preprocessing -  Converting data/tutorial6/444_Cripples__Bastards__and_Broken_Things.txt\n",
      "INFO - haystack.utils.preprocessing -  Converting data/tutorial6/211_The_Watchers_on_the_Wall.txt\n",
      "INFO - haystack.utils.preprocessing -  Converting data/tutorial6/424_Night_King.txt\n",
      "INFO - haystack.utils.preprocessing -  Converting data/tutorial6/11_The_Dragon_and_the_Wolf.txt\n",
      "INFO - haystack.utils.preprocessing -  Converting data/tutorial6/129_Second_Sons.txt\n",
      "INFO - haystack.utils.preprocessing -  Converting data/tutorial6/228_Souad_Faress.txt\n",
      "INFO - haystack.utils.preprocessing -  Converting data/tutorial6/446_A_Golden_Crown.txt\n",
      "INFO - haystack.utils.preprocessing -  Converting data/tutorial6/79_Thronecast.txt\n",
      "INFO - haystack.utils.preprocessing -  Converting data/tutorial6/356_Tales_of_Dunk_and_Egg.txt\n",
      "INFO - haystack.utils.preprocessing -  Converting data/tutorial6/456_Works_based_on_A_Song_of_Ice_and_Fire.txt\n",
      "INFO - haystack.utils.preprocessing -  Converting data/tutorial6/504_List_of_A_Song_of_Ice_and_Fire_video_games.txt\n",
      "INFO - haystack.utils.preprocessing -  Converting data/tutorial6/202_A_Feast_for_Crows.txt\n",
      "INFO - haystack.utils.preprocessing -  Converting data/tutorial6/401_Power_Is_Power.txt\n",
      "INFO - haystack.utils.preprocessing -  Converting data/tutorial6/425_No_One__Game_of_Thrones_.txt\n",
      "INFO - haystack.utils.preprocessing -  Converting data/tutorial6/119_Walk_of_Punishment.txt\n",
      "INFO - haystack.utils.preprocessing -  Converting data/tutorial6/69_The_Red_Woman.txt\n",
      "INFO - haystack.utils.preprocessing -  Converting data/tutorial6/299_Rani_Mahal__TV_series_.txt\n",
      "INFO - haystack.utils.preprocessing -  Converting data/tutorial6/367_Gregor_Clegane.txt\n",
      "INFO - haystack.utils.preprocessing -  Converting data/tutorial6/20_Light_of_the_Seven.txt\n",
      "INFO - haystack.utils.preprocessing -  Converting data/tutorial6/329_Robert_Baratheon.txt\n",
      "INFO - haystack.utils.preprocessing -  Converting data/tutorial6/118_Dark_Wings__Dark_Words.txt\n",
      "INFO - haystack.utils.preprocessing -  Converting data/tutorial6/394_Game_of_Thrones__2014_video_game_.txt\n",
      "INFO - haystack.utils.preprocessing -  Converting data/tutorial6/131_Mhysa.txt\n",
      "INFO - haystack.utils.preprocessing -  Converting data/tutorial6/86_Game_of_Thrones__season_4_.txt\n",
      "INFO - haystack.utils.preprocessing -  Converting data/tutorial6/488_Brienne_of_Tarth.txt\n",
      "INFO - haystack.utils.preprocessing -  Converting data/tutorial6/40_Stannis_Baratheon.txt\n",
      "INFO - haystack.utils.preprocessing -  Converting data/tutorial6/511_After_the_Thrones.txt\n",
      "INFO - haystack.utils.preprocessing -  Converting data/tutorial6/145_Elio_M._García_Jr._and_Linda_Antonsson.txt\n",
      "INFO - haystack.utils.preprocessing -  Converting data/tutorial6/101_Titties_and_Dragons.txt\n",
      "INFO - haystack.utils.preprocessing -  Converting data/tutorial6/76_Valar_Morghulis.txt\n",
      "INFO - haystack.utils.preprocessing -  Converting data/tutorial6/214_Dothraki_language.txt\n",
      "INFO - haystack.utils.preprocessing -  Converting data/tutorial6/22_The_Rains_of_Castamere__song_.txt\n",
      "INFO - haystack.utils.preprocessing -  Converting data/tutorial6/146_The_Sons_of_the_Dragon.txt\n",
      "INFO - haystack.utils.preprocessing -  Converting data/tutorial6/56_First_of_His_Name.txt\n",
      "INFO - haystack.utils.preprocessing -  Converting data/tutorial6/341_Ned_Stark.txt\n",
      "INFO - haystack.utils.preprocessing -  Converting data/tutorial6/445_The_Wolf_and_the_Lion.txt\n",
      "INFO - haystack.utils.preprocessing -  Converting data/tutorial6/477_A_Dance_with_Dragons.txt\n",
      "INFO - haystack.utils.preprocessing -  Converting data/tutorial6/39_Renly_Baratheon.txt\n",
      "INFO - haystack.utils.preprocessing -  Converting data/tutorial6/400_Winterfell__Game_of_Thrones_episode_.txt\n",
      "INFO - haystack.utils.preprocessing -  Converting data/tutorial6/480_Varys.txt\n",
      "INFO - haystack.utils.preprocessing -  Converting data/tutorial6/130_Game_of_Thrones_title_sequence.txt\n",
      "INFO - haystack.utils.preprocessing -  Converting data/tutorial6/25_Game_of_Thrones__Season_2__soundtrack_.txt\n",
      "INFO - haystack.utils.preprocessing -  Converting data/tutorial6/304_Hardhome.txt\n",
      "INFO - haystack.utils.preprocessing -  Converting data/tutorial6/0_Game_of_Thrones__season_8_.txt\n",
      "INFO - haystack.utils.preprocessing -  Converting data/tutorial6/311_Game_of_Thrones__season_7_.txt\n",
      "INFO - haystack.utils.preprocessing -  Converting data/tutorial6/485_Oathkeeper.txt\n",
      "INFO - haystack.utils.preprocessing -  Converting data/tutorial6/84_List_of_awards_and_nominations_received_by_Game_of_Thrones.txt\n",
      "INFO - haystack.utils.preprocessing -  Converting data/tutorial6/229_Game_of_Thrones.txt\n",
      "INFO - haystack.utils.preprocessing -  Converting data/tutorial6/217_The_Rogue_Prince.txt\n",
      "INFO - haystack.utils.preprocessing -  Converting data/tutorial6/136_Game_of_Thrones__Season_8__soundtrack_.txt\n",
      "INFO - haystack.utils.preprocessing -  Converting data/tutorial6/359_Kill_the_Boy.txt\n",
      "INFO - haystack.utils.preprocessing -  Converting data/tutorial6/133_Game_of_Thrones__Season_5__soundtrack_.txt\n",
      "INFO - haystack.utils.preprocessing -  Converting data/tutorial6/347_Game_of_Thrones__season_2_.txt\n",
      "INFO - haystack.utils.preprocessing -  Converting data/tutorial6/198_A_Clash_of_Kings.txt\n",
      "INFO - haystack.utils.preprocessing -  Converting data/tutorial6/73_A_Man_Without_Honor.txt\n",
      "INFO - haystack.utils.preprocessing -  Converting data/tutorial6/30_List_of_A_Song_of_Ice_and_Fire_characters.txt\n",
      "INFO - haystack.utils.preprocessing -  Converting data/tutorial6/373_Tywin_Lannister.txt\n",
      "INFO - haystack.utils.preprocessing -  Converting data/tutorial6/378_A_Game_of_Thrones__board_game_.txt\n",
      "INFO - haystack.utils.preprocessing -  Converting data/tutorial6/1_Dragonstone__Game_of_Thrones_episode_.txt\n",
      "INFO - haystack.utils.preprocessing -  Converting data/tutorial6/343_Catelyn_Stark.txt\n",
      "INFO - haystack.utils.preprocessing -  Converting data/tutorial6/57_The_Laws_of_Gods_and_Men.txt\n",
      "INFO - haystack.utils.preprocessing -  Converting data/tutorial6/306_The_Dance_of_Dragons.txt\n",
      "INFO - haystack.utils.preprocessing -  Converting data/tutorial6/191_Gendry.txt\n",
      "INFO - haystack.utils.preprocessing -  Converting data/tutorial6/410_The_Bells__Game_of_Thrones_.txt\n",
      "INFO - haystack.utils.preprocessing -  Converting data/tutorial6/9_Game_of_Thrones_Tapestry.txt\n",
      "INFO - haystack.utils.preprocessing -  Converting data/tutorial6/27_Game_of_Thrones__Season_4__soundtrack_.txt\n",
      "INFO - haystack.utils.preprocessing -  Converting data/tutorial6/24_Game_of_Thrones__Season_1__soundtrack_.txt\n",
      "INFO - haystack.utils.preprocessing -  Converting data/tutorial6/435_White_Walker.txt\n",
      "INFO - haystack.utils.preprocessing -  Converting data/tutorial6/358_A_Game_of_Thrones__Genesis.txt\n",
      "INFO - haystack.utils.preprocessing -  Converting data/tutorial6/80_A_Song_of_Ice_and_Fire_fandom.txt\n",
      "INFO - haystack.utils.preprocessing -  Converting data/tutorial6/218_Olenna_Tyrell.txt\n",
      "INFO - haystack.utils.preprocessing -  Converting data/tutorial6/330_Oberyn_Martell.txt\n",
      "INFO - haystack.utils.preprocessing -  Converting data/tutorial6/379_Davos_Seaworth.txt\n",
      "INFO - haystack.utils.preprocessing -  Converting data/tutorial6/506_Game_of_Thrones_Theme.txt\n",
      "INFO - haystack.utils.preprocessing -  Converting data/tutorial6/85_Game_of_Thrones__Seven_Kingdoms.txt\n",
      "INFO - haystack.utils.preprocessing -  Converting data/tutorial6/77_Game_of_Thrones_Ascent.txt\n",
      "INFO - haystack.utils.preprocessing -  Converting data/tutorial6/342_Theon_Greyjoy.txt\n",
      "INFO - haystack.utils.preprocessing -  Converting data/tutorial6/74_The_Prince_of_Winterfell.txt\n",
      "INFO - haystack.utils.preprocessing -  Converting data/tutorial6/28_Jorah_Mormont.txt\n",
      "INFO - haystack.utils.preprocessing -  Converting data/tutorial6/349_List_of_Game_of_Thrones_characters.txt\n",
      "INFO - haystack.utils.preprocessing -  Converting data/tutorial6/411_The_Iron_Throne__Game_of_Thrones_.txt\n",
      "INFO - haystack.utils.preprocessing -  Converting data/tutorial6/368_Jaime_Lannister.txt\n",
      "INFO - haystack.utils.preprocessing -  Converting data/tutorial6/273_High_Sparrow.txt\n",
      "INFO - haystack.utils.preprocessing -  Converting data/tutorial6/120_And_Now_His_Watch_Is_Ended.txt\n",
      "INFO - haystack.utils.preprocessing -  Converting data/tutorial6/501_Khal_Drogo.txt\n",
      "INFO - haystack.utils.preprocessing -  Converting data/tutorial6/21_The_Bear_and_the_Maiden_Fair__song_.txt\n",
      "INFO - haystack.utils.preprocessing -  Converting data/tutorial6/78_The_Rains_of_Castamere.txt\n",
      "INFO - haystack.utils.preprocessing -  Converting data/tutorial6/197_A_Game_of_Thrones.txt\n",
      "INFO - haystack.utils.preprocessing -  Converting data/tutorial6/439_Melisandre.txt\n",
      "INFO - haystack.utils.preprocessing -  Converting data/tutorial6/97_Tyrion_Lannister.txt\n",
      "INFO - haystack.utils.preprocessing -  Converting data/tutorial6/201_A_Game_of_Thrones__card_game_.txt\n",
      "INFO - haystack.utils.preprocessing -  Converting data/tutorial6/442_Game_of_Thrones__season_1_.txt\n",
      "INFO - haystack.utils.preprocessing -  Converting data/tutorial6/360_List_of_Game_of_Thrones_episodes.txt\n",
      "INFO - haystack.utils.preprocessing -  Converting data/tutorial6/461_The_Winds_of_Winter__Game_of_Thrones_.txt\n",
      "INFO - haystack.utils.preprocessing -  Converting data/tutorial6/447_You_Win_or_You_Die.txt\n",
      "INFO - haystack.utils.preprocessing -  Converting data/tutorial6/403_Jenny_of_Oldstones.txt\n",
      "INFO - haystack.utils.preprocessing -  Converting data/tutorial6/199_A_Storm_of_Swords.txt\n",
      "INFO - haystack.utils.preprocessing -  Converting data/tutorial6/402_A_Knight_of_the_Seven_Kingdoms__Game_of_Thrones_.txt\n",
      "INFO - haystack.utils.preprocessing -  Converting data/tutorial6/102_The_Princess_and_the_Queen.txt\n",
      "INFO - haystack.utils.preprocessing -  Converting data/tutorial6/420_Blood_of_My_Blood.txt\n",
      "INFO - haystack.utils.preprocessing -  Converting data/tutorial6/209_Mockingbird__Game_of_Thrones_.txt\n",
      "INFO - haystack.utils.preprocessing -  Converting data/tutorial6/482_Petyr_Baelish.txt\n",
      "INFO - haystack.utils.preprocessing -  Converting data/tutorial6/126_Kissed_by_Fire.txt\n",
      "INFO - haystack.utils.preprocessing -  Converting data/tutorial6/210_The_Mountain_and_the_Viper.txt\n",
      "INFO - haystack.utils.preprocessing -  Converting data/tutorial6/54_Two_Swords__Game_of_Thrones_.txt\n",
      "INFO - haystack.utils.preprocessing -  Converting data/tutorial6/332_Sansa_Stark.txt\n",
      "INFO - haystack.utils.preprocessing -  Converting data/tutorial6/453_Game_of_Thrones__2012_video_game_.txt\n",
      "INFO - haystack.utils.preprocessing -  Converting data/tutorial6/450_Baelor.txt\n",
      "INFO - haystack.utils.preprocessing -  Converting data/tutorial6/52_Catch_the_Throne.txt\n",
      "INFO - haystack.utils.preprocessing -  Converting data/tutorial6/99_A_Song_of_Ass_and_Fire.txt\n",
      "INFO - haystack.utils.preprocessing -  Converting data/tutorial6/37_Joffrey_Baratheon.txt\n",
      "INFO - haystack.utils.preprocessing -  Converting data/tutorial6/443_The_Kingsroad.txt\n",
      "INFO - haystack.utils.preprocessing -  Converting data/tutorial6/207_Jon_Snow__character_.txt\n",
      "INFO - haystack.utils.preprocessing -  Converting data/tutorial6/452_Fire_and_Blood__Game_of_Thrones_.txt\n",
      "INFO - haystack.utils.preprocessing -  Converting data/tutorial6/195_World_of_A_Song_of_Ice_and_Fire.txt\n",
      "INFO - haystack.utils.preprocessing -  Converting data/tutorial6/10_Beyond_the_Wall__Game_of_Thrones_.txt\n",
      "INFO - haystack.utils.preprocessing -  Converting data/tutorial6/7_The_Spoils_of_War__Game_of_Thrones_.txt\n",
      "INFO - haystack.utils.preprocessing -  Converting data/tutorial6/362_Winter_Is_Coming.txt\n",
      "INFO - haystack.utils.preprocessing -  Converting data/tutorial6/348_The_Winds_of_Winter.txt\n",
      "INFO - haystack.utils.preprocessing -  Converting data/tutorial6/334_Rickon_Stark.txt\n",
      "INFO - haystack.utils.preprocessing -  Converting data/tutorial6/469_Outline_of_A_Song_of_Ice_and_Fire_franchise.txt\n",
      "INFO - haystack.utils.preprocessing -  Converting data/tutorial6/232_Tommen_Baratheon.txt\n",
      "INFO - haystack.utils.preprocessing -  Converting data/tutorial6/407_The_Long_Night__Game_of_Thrones_.txt\n",
      "INFO - haystack.utils.preprocessing -  Converting data/tutorial6/148_Game_of_Thrones__Winter_Is_Coming.txt\n",
      "INFO - haystack.utils.preprocessing -  Converting data/tutorial6/475_A_Game_of_Thrones__role-playing_game_.txt\n",
      "INFO - haystack.utils.preprocessing -  Converting data/tutorial6/26_Game_of_Thrones__Season_3__soundtrack_.txt\n",
      "INFO - haystack.utils.preprocessing -  Converting data/tutorial6/193_Lord_Snow.txt\n",
      "INFO - haystack.utils.preprocessing -  Converting data/tutorial6/53_The_Lion_and_the_Rose.txt\n",
      "INFO - haystack.utils.preprocessing -  Converting data/tutorial6/513_Oathbreaker__Game_of_Thrones_.txt\n",
      "INFO - haystack.utils.preprocessing -  Converting data/tutorial6/8_Eastwatch.txt\n",
      "INFO - haystack.utils.preprocessing -  Converting data/tutorial6/33_David_Benioff.txt\n",
      "INFO - haystack.utils.preprocessing -  Converting data/tutorial6/262_Gilly__character_.txt\n",
      "INFO - haystack.utils.preprocessing -  Converting data/tutorial6/51_Iron_Throne__A_Song_of_Ice_and_Fire_.txt\n",
      "INFO - haystack.utils.preprocessing -  Converting data/tutorial6/3_The_Queen_s_Justice.txt\n",
      "INFO - haystack.utils.preprocessing -  Converting data/tutorial6/2_Stormborn.txt\n",
      "INFO - haystack.utils.preprocessing -  Converting data/tutorial6/127_The_Climb__Game_of_Thrones_.txt\n",
      "INFO - haystack.utils.preprocessing -  Converting data/tutorial6/213_Valyrian_languages.txt\n",
      "INFO - haystack.utils.preprocessing -  Converting data/tutorial6/75_Blackwater__Game_of_Thrones_.txt\n",
      "INFO - haystack.utils.preprocessing -  Converting data/tutorial6/487_Ramsay_Bolton.txt\n",
      "INFO - haystack.utils.preprocessing -  Converting data/tutorial6/233_Myrcella_Baratheon.txt\n",
      "INFO - haystack.utils.preprocessing -  Converting data/tutorial6/495_Hodor.txt\n",
      "INFO - haystack.utils.preprocessing -  Converting data/tutorial6/12_Fire.txt\n",
      "INFO - haystack.utils.preprocessing -  Converting data/tutorial6/365_A_Song_of_Ice_and_Fire_Roleplaying.txt\n",
      "INFO - haystack.utils.preprocessing -  Converting data/tutorial6/87_Valar_Dohaeris.txt\n",
      "INFO - haystack.utils.preprocessing -  Converting data/tutorial6/194_A_Song_of_Ice_and_Fire.txt\n",
      "INFO - haystack.utils.preprocessing -  Converting data/tutorial6/55_Breaker_of_Chains.txt\n",
      "INFO - haystack.utils.preprocessing -  Converting data/tutorial6/208_Robb_Stark.txt\n",
      "INFO - haystack.utils.preprocessing -  Converting data/tutorial6/449_The_Pointy_End.txt\n",
      "Writing Documents: 10000it [00:03, 3228.01it/s]            \n"
     ]
    }
   ],
   "source": [
    "from haystack.utils import clean_wiki_text, convert_files_to_docs, fetch_archive_from_http\n",
    "\n",
    "\n",
    "# Let's first get some files that we want to use\n",
    "doc_dir = \"data/tutorial6\"\n",
    "s3_url = \"https://s3.eu-central-1.amazonaws.com/deepset.ai-farm-qa/datasets/documents/wiki_gameofthrones_txt6.zip\"\n",
    "fetch_archive_from_http(url=s3_url, output_dir=doc_dir)\n",
    "\n",
    "# Convert files to dicts\n",
    "docs = convert_files_to_docs(dir_path=doc_dir, clean_func=clean_wiki_text, split_paragraphs=True)\n",
    "\n",
    "# Now, let's write the dicts containing documents to our DB.\n",
    "document_store.write_documents(docs)"
   ]
  },
  {
   "attachments": {},
   "cell_type": "markdown",
   "metadata": {
    "id": "wgjedxx_A6N6"
   },
   "source": [
    "## Initializing the Retriever\n",
    "\n",
    "**Here:** We use an `EmbeddingRetriever`.\n",
    "\n",
    "**Alternatives:**\n",
    "\n",
    "- `BM25Retriever` with custom queries (for example, boosting) and filters\n",
    "- `DensePassageRetriever` which uses two encoder models, one to embed the query and one to embed the passage, and then compares the embedding for retrieval\n",
    "- `TfidfRetriever` in combination with a SQL or InMemory DocumentStore for simple prototyping and debugging"
   ]
  },
  {
   "cell_type": "code",
   "execution_count": 5,
   "metadata": {
    "id": "kFwiPP60A6N7",
    "pycharm": {
     "is_executing": true
    }
   },
   "outputs": [
    {
     "name": "stderr",
     "output_type": "stream",
     "text": [
      "INFO - haystack.modeling.utils -  Using devices: CUDA:0 - Number of GPUs: 1\n",
      "INFO - haystack.nodes.retriever.dense -  Init retriever using embeddings of model sentence-transformers/multi-qa-mpnet-base-dot-v1\n",
      "/usr/local/lib/python3.8/dist-packages/torch/_utils.py:831: UserWarning: TypedStorage is deprecated. It will be removed in the future and UntypedStorage will be the only storage class. This should only matter to you if you are using storages directly.  To access UntypedStorage directly, use tensor.untyped_storage() instead of tensor.storage()\n",
      "  return self.fget.__get__(instance, owner)()\n",
      "INFO - haystack.document_stores.faiss -  Updating embeddings for 2357 docs...\n",
      "Updating Embedding:   0%|          | 0/2357 [00:00<?, ? docs/s]"
     ]
    },
    {
     "data": {
      "application/vnd.jupyter.widget-view+json": {
       "model_id": "7b81842b75564cf98d4e73b47d377556",
       "version_major": 2,
       "version_minor": 0
      },
      "text/plain": [
       "Batches:   0%|          | 0/74 [00:00<?, ?it/s]"
      ]
     },
     "metadata": {},
     "output_type": "display_data"
    },
    {
     "name": "stderr",
     "output_type": "stream",
     "text": [
      "Documents Processed: 10000 docs [00:06, 1578.69 docs/s]         \n"
     ]
    }
   ],
   "source": [
    "from haystack.nodes import EmbeddingRetriever\n",
    "\n",
    "retriever = EmbeddingRetriever(\n",
    "    document_store=document_store, embedding_model=\"sentence-transformers/multi-qa-mpnet-base-dot-v1\"\n",
    ")\n",
    "# Important:\n",
    "# Now that we initialized the Retriever, we need to call update_embeddings() to iterate over all\n",
    "# previously indexed documents and update their embedding representation.\n",
    "# While this can be a time consuming operation (depending on the corpus size), it only needs to be done once.\n",
    "# At query time, we only need to embed the query and compare it to the existing document embeddings, which is very fast.\n",
    "document_store.update_embeddings(retriever)"
   ]
  },
  {
   "attachments": {},
   "cell_type": "markdown",
   "metadata": {
    "id": "rnVR28OXA6OA"
   },
   "source": [
    "## Initializing the Reader\n",
    "\n",
    "Similar to previous tutorials we now initalize our Reader.\n",
    "\n",
    "Here we use a FARMReader with the [*deepset/roberta-base-squad2*](https://huggingface.co/deepset/roberta-base-squad2) model."
   ]
  },
  {
   "cell_type": "code",
   "execution_count": 6,
   "metadata": {
    "id": "fyIuWVwhA6OB"
   },
   "outputs": [
    {
     "name": "stderr",
     "output_type": "stream",
     "text": [
      "INFO - haystack.modeling.utils -  Using devices: CUDA:0 - Number of GPUs: 1\n",
      "INFO - haystack.modeling.utils -  Using devices: CUDA:0 - Number of GPUs: 1\n",
      "INFO - haystack.modeling.model.language_model -   * LOADING MODEL: 'deepset/roberta-base-squad2' (Roberta)\n",
      "INFO - haystack.modeling.model.language_model -  Auto-detected model language: english\n",
      "INFO - haystack.modeling.model.language_model -  Loaded 'deepset/roberta-base-squad2' (Roberta model) from model hub.\n",
      "INFO - haystack.modeling.utils -  Using devices: CUDA:0 - Number of GPUs: 1\n"
     ]
    }
   ],
   "source": [
    "from haystack.nodes import FARMReader\n",
    "\n",
    "reader = FARMReader(model_name_or_path=\"deepset/roberta-base-squad2\", use_gpu=True)"
   ]
  },
  {
   "attachments": {},
   "cell_type": "markdown",
   "metadata": {
    "id": "unhLD18yA6OF"
   },
   "source": [
    "## Initializing the Pipeline\n",
    "\n",
    "With a Haystack `Pipeline` you can stick together your building blocks to a search pipeline.\n",
    "Under the hood, `Pipelines` are Directed Acyclic Graphs (DAGs) that you can easily customize for your own use cases.\n",
    "To speed things up, Haystack also comes with a few predefined Pipelines. One of them is the `ExtractiveQAPipeline` that combines a retriever and a reader to answer our questions.\n",
    "You can learn more about `Pipelines` in the [docs](https://docs.haystack.deepset.ai/docs/pipelines)."
   ]
  },
  {
   "cell_type": "code",
   "execution_count": 7,
   "metadata": {
    "id": "TssPQyzWA6OG"
   },
   "outputs": [],
   "source": [
    "from haystack.pipelines import ExtractiveQAPipeline\n",
    "\n",
    "pipe = ExtractiveQAPipeline(reader, retriever)"
   ]
  },
  {
   "attachments": {},
   "cell_type": "markdown",
   "metadata": {
    "id": "bXlBBxKXA6OL"
   },
   "source": [
    "## Asking a Question\n",
    "\n",
    "We use the pipeline `run()` method to ask a question. With the `run()` method, you can configure how many candidates the Reader and Retriever shall return. The higher top_k for Retriever, the better (but also the slower) your answers."
   ]
  },
  {
   "cell_type": "code",
   "execution_count": 8,
   "metadata": {
    "id": "Zi97Hif2A6OM"
   },
   "outputs": [
    {
     "data": {
      "application/vnd.jupyter.widget-view+json": {
       "model_id": "08b314b87537482fbccc2d87fc9e9c4d",
       "version_major": 2,
       "version_minor": 0
      },
      "text/plain": [
       "Batches:   0%|          | 0/1 [00:00<?, ?it/s]"
      ]
     },
     "metadata": {},
     "output_type": "display_data"
    },
    {
     "name": "stderr",
     "output_type": "stream",
     "text": [
      "Inferencing Samples: 100%|██████████| 1/1 [00:00<00:00, 14.10 Batches/s]\n"
     ]
    }
   ],
   "source": [
    "prediction = pipe.run(\n",
    "    query=\"Who created the Dothraki vocabulary?\", params={\"Retriever\": {\"top_k\": 10}, \"Reader\": {\"top_k\": 5}}\n",
    ")"
   ]
  },
  {
   "cell_type": "code",
   "execution_count": 9,
   "metadata": {
    "id": "pI0wrHylzqLa"
   },
   "outputs": [
    {
     "name": "stdout",
     "output_type": "stream",
     "text": [
      "'Query: Who created the Dothraki vocabulary?'\n",
      "'Answers:'\n",
      "[   {   'answer': 'David J. Peterson',\n",
      "        'context': 'orld. The language was developed for the TV series by the '\n",
      "                   'linguist David J. Peterson, working off the Dothraki words '\n",
      "                   \"and phrases in Martin's novels.\\n\"\n",
      "                   ','},\n",
      "    {   'answer': 'David J. Peterson',\n",
      "        'context': '\\n'\n",
      "                   '===Valyrian===\\n'\n",
      "                   'David J. Peterson, who created the Dothraki language for '\n",
      "                   'the first season of the show, was entrusted by the '\n",
      "                   'producers to design a new '},\n",
      "    {   'answer': 'David J. Peterson',\n",
      "        'context': \"age for ''Game of Thrones''\\n\"\n",
      "                   'The Dothraki vocabulary was created by David J. Peterson '\n",
      "                   'well in advance of the adaptation. HBO hired the Language '\n",
      "                   'Creatio'},\n",
      "    {   'answer': 'David J. Peterson',\n",
      "        'context': \"ges to be spoken in ''Game of Thrones'', HBO selected the \"\n",
      "                   'linguist David J. Peterson through a competition among '\n",
      "                   'conlangers. The producers gave Peters'},\n",
      "    {   'answer': 'books',\n",
      "        'context': 'ints.  First, the language had to match the uses already '\n",
      "                   'put down in the books. Secondly, it had to be easily '\n",
      "                   'pronounceable or learnable by the actors'}]\n"
     ]
    }
   ],
   "source": [
    "from haystack.utils import print_answers\n",
    "\n",
    "\n",
    "print_answers(prediction, details=\"minimum\")"
   ]
  }
 ],
 "metadata": {
  "accelerator": "GPU",
  "colab": {
   "collapsed_sections": [],
   "name": "Tutorial6_Better_Retrieval_via_Embedding_Retrieval.ipynb",
   "provenance": []
  },
  "gpuClass": "standard",
  "kernelspec": {
   "display_name": "Python 3.8.9 64-bit",
   "language": "python",
   "name": "python3"
  },
  "language_info": {
   "codemirror_mode": {
    "name": "ipython",
    "version": 3
   },
   "file_extension": ".py",
   "mimetype": "text/x-python",
   "name": "python",
   "nbconvert_exporter": "python",
   "pygments_lexer": "ipython3",
   "version": "3.8.10"
  },
  "vscode": {
   "interpreter": {
    "hash": "31f2aee4e71d21fbe5cf8b01ff0e069b9275f58929596ceb00d14d90e3e16cd6"
   }
  }
 },
 "nbformat": 4,
 "nbformat_minor": 0
}
