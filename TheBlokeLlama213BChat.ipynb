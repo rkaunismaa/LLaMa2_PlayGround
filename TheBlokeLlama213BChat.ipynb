{
 "cells": [
  {
   "cell_type": "markdown",
   "metadata": {},
   "source": [
    "Thursday, November 16, 2023\n",
    "\n",
    "https://huggingface.co/TheBloke/Llama-2-13B-chat-GPTQ\n",
    "\n",
    "This all works!  9706Mib VRAM!"
   ]
  },
  {
   "cell_type": "code",
   "execution_count": 1,
   "metadata": {},
   "outputs": [],
   "source": [
    "# You need this to just target the 4090, othewise the 34B model does NOT load.\n",
    "# only target the 4090 ...\n",
    "import os\n",
    "os.environ[\"CUDA_VISIBLE_DEVICES\"]=\"0\""
   ]
  },
  {
   "cell_type": "code",
   "execution_count": 2,
   "metadata": {},
   "outputs": [],
   "source": [
    "from transformers import AutoModelForCausalLM, AutoTokenizer, pipeline\n",
    "\n",
    "model_name_or_path = \"TheBloke/Llama-2-13B-chat-GPTQ\""
   ]
  },
  {
   "cell_type": "code",
   "execution_count": 3,
   "metadata": {},
   "outputs": [],
   "source": [
    "tokenizer = AutoTokenizer.from_pretrained(model_name_or_path, use_fast=True)"
   ]
  },
  {
   "cell_type": "code",
   "execution_count": 4,
   "metadata": {},
   "outputs": [
    {
     "name": "stderr",
     "output_type": "stream",
     "text": [
      "You have activated exllama backend. Note that you can get better inference\n",
      "                    speed using exllamav2 kernel by setting `use_exllama_v2=True`.`disable_exllama` will be deprecated\n",
      "                    in future version.\n"
     ]
    },
    {
     "name": "stdout",
     "output_type": "stream",
     "text": [
      "CPU times: user 12.9 s, sys: 3.63 s, total: 16.5 s\n",
      "Wall time: 6.84 s\n"
     ]
    }
   ],
   "source": [
    "%%time\n",
    "# To use a different branch, change revision\n",
    "# For example: revision=\"main\"\n",
    "model = AutoModelForCausalLM.from_pretrained(model_name_or_path,\n",
    "                                             device_map=\"auto\",\n",
    "                                             trust_remote_code=False,\n",
    "                                             revision=\"main\")"
   ]
  },
  {
   "cell_type": "code",
   "execution_count": 5,
   "metadata": {},
   "outputs": [
    {
     "name": "stdout",
     "output_type": "stream",
     "text": [
      "\n",
      "\n",
      "*** Generate:\n"
     ]
    },
    {
     "name": "stderr",
     "output_type": "stream",
     "text": [
      "/transformers/src/transformers/generation/utils.py:1473: UserWarning: You have modified the pretrained model configuration to control generation. This is a deprecated strategy to control generation and will be removed soon, in a future version. Please use and modify the model generation configuration (see https://huggingface.co/docs/transformers/generation_strategies#default-text-generation-configuration )\n",
      "  warnings.warn(\n"
     ]
    },
    {
     "name": "stdout",
     "output_type": "stream",
     "text": [
      "<s> [INST] <<SYS>>\n",
      "You are a helpful, respectful and honest assistant. Always answer as helpfully as possible, while being safe.  Your answers should not include any harmful, unethical, racist, sexist, toxic, dangerous, or illegal content. Please ensure that your responses are socially unbiased and positive in nature. If a question does not make any sense, or is not factually coherent, explain why instead of answering something not correct. If you don't know the answer to a question, please don't share false information.\n",
      "<</SYS>>\n",
      "Tell me about AI[/INST]\n",
      "\n",
      "Hello! I'm here to help answer your questions about AI. AI stands for artificial intelligence, which refers to the use of technology to perform tasks that would typically require human intelligence, such as learning, problem-solving, and decision-making.\n",
      "\n",
      "There are many different types of AI, including:\n",
      "\n",
      "1. Narrow or weak AI: This type of AI is designed to perform a specific task, such as facial recognition, language translation, or playing a game like chess.\n",
      "2. General or strong AI: This type of AI is designed to perform any intellectual task that a human can, such as understanding natural language, recognizing images, and making decisions.\n",
      "3. Superintelligence: This type of AI is significantly more intelligent than the best human minds, and is capable of solving complex problems that are beyond human ability.\n",
      "\n",
      "AI has many applications in various fields, such as:\n",
      "\n",
      "1. Healthcare: AI can be used to analyze medical images, diagnose diseases, and develop personalized treatment plans.\n",
      "2. Finance: AI can be used to analyze financial data, predict stock prices, and detect fraud.\n",
      "3. Education: AI can be used to personalize learning, grade assignments, and identify students who need extra support.\n",
      "4. Transportation: AI can be used to develop autonomous vehicles, improve traffic flow, and optimize logistics.\n",
      "\n",
      "However, AI also raises important ethical and societal concerns, such as:\n",
      "\n",
      "1. Bias: AI systems can perpetuate biases and discrimination if they are trained on biased data or designed with biased algorithms.\n",
      "2. Privacy: AI systems can collect and process large amounts of personal data, which can raise concerns about privacy and surveillance.\n",
      "3. Job displacement: AI systems can automate tasks that are currently performed by humans, which can lead to job displacement and economic disruption.\n",
      "\n",
      "Overall, AI has the potential to bring about significant benefits, but it is important to carefully consider the potential risks and challenges associated with its development and use.</s>\n"
     ]
    }
   ],
   "source": [
    "prompt = \"Tell me about AI\"\n",
    "prompt_template=f'''[INST] <<SYS>>\n",
    "You are a helpful, respectful and honest assistant. Always answer as helpfully as possible, while being safe.  Your answers should not include any harmful, unethical, racist, sexist, toxic, dangerous, or illegal content. Please ensure that your responses are socially unbiased and positive in nature. If a question does not make any sense, or is not factually coherent, explain why instead of answering something not correct. If you don't know the answer to a question, please don't share false information.\n",
    "<</SYS>>\n",
    "{prompt}[/INST]\n",
    "\n",
    "'''\n",
    "\n",
    "print(\"\\n\\n*** Generate:\")\n",
    "\n",
    "input_ids = tokenizer(prompt_template, return_tensors='pt').input_ids.cuda()\n",
    "output = model.generate(inputs=input_ids, temperature=0.7, do_sample=True, top_p=0.95, top_k=40, max_new_tokens=512)\n",
    "print(tokenizer.decode(output[0]))"
   ]
  },
  {
   "cell_type": "code",
   "execution_count": 6,
   "metadata": {},
   "outputs": [
    {
     "name": "stdout",
     "output_type": "stream",
     "text": [
      "*** Pipeline:\n",
      "[INST] <<SYS>>\n",
      "You are a helpful, respectful and honest assistant. Always answer as helpfully as possible, while being safe.  Your answers should not include any harmful, unethical, racist, sexist, toxic, dangerous, or illegal content. Please ensure that your responses are socially unbiased and positive in nature. If a question does not make any sense, or is not factually coherent, explain why instead of answering something not correct. If you don't know the answer to a question, please don't share false information.\n",
      "<</SYS>>\n",
      "Tell me about AI[/INST]\n",
      "\n",
      "Hello! I'm here to help answer your questions about AI. Artificial Intelligence (AI) is a rapidly growing field that has the potential to revolutionize many aspects of our lives. Here are some key things to know about AI:\n",
      "\n",
      "1. Defining AI: AI refers to software that can perform tasks that typically require human intelligence, such as learning, problem-solving, and decision-making. There are different types of AI, including machine learning, natural language processing, and computer vision.\n",
      "2. Applications of AI: AI has numerous applications across various industries, including healthcare, finance, education, transportation, and more. Some examples include:\n",
      "\t* Virtual assistants like Siri and Alexa, which use natural language processing to understand and respond to voice commands.\n",
      "\t* Fraud detection and risk assessment in financial services.\n",
      "\t* Predictive maintenance and quality control in manufacturing.\n",
      "\t* Personalized recommendations in e-commerce and online advertising.\n",
      "3. Machine Learning: Machine learning is a subset of AI that involves training algorithms to learn from data and make predictions or decisions. There are three main types of machine learning: supervised learning, unsupervised learning, and reinforcement learning.\n",
      "4. Neural Networks: Neural networks are a type of machine learning algorithm inspired by the structure and function of the human brain. They are particularly effective for image and speech recognition, natural language processing, and other tasks that involve complex patterns.\n",
      "5. Ethical Considerations: As AI becomes more pervasive in society, there are growing concerns about its impact on privacy, bias, and employment. It's important to consider these ethical implications and work towards developing AI that benefits all people.\n",
      "6. Future Developments: The future of AI is exciting and uncertain. Researchers are exploring new areas such as Explainable AI, Human-AI Collaboration, and Edge AI, which will further expand the capabilities of AI.\n",
      "\n",
      "I hope this provides a helpful overview of AI! Do you have any specific questions or topics you'd like to explore further?\n"
     ]
    }
   ],
   "source": [
    "print(\"*** Pipeline:\")\n",
    "pipe = pipeline(\n",
    "    \"text-generation\",\n",
    "    model=model,\n",
    "    tokenizer=tokenizer,\n",
    "    max_new_tokens=512,\n",
    "    do_sample=True,\n",
    "    temperature=0.7,\n",
    "    top_p=0.95,\n",
    "    top_k=40,\n",
    "    repetition_penalty=1.1\n",
    ")\n",
    "\n",
    "print(pipe(prompt_template)[0]['generated_text'])"
   ]
  }
 ],
 "metadata": {
  "kernelspec": {
   "display_name": "Python 3",
   "language": "python",
   "name": "python3"
  },
  "language_info": {
   "codemirror_mode": {
    "name": "ipython",
    "version": 3
   },
   "file_extension": ".py",
   "mimetype": "text/x-python",
   "name": "python",
   "nbconvert_exporter": "python",
   "pygments_lexer": "ipython3",
   "version": "3.8.10"
  }
 },
 "nbformat": 4,
 "nbformat_minor": 2
}
